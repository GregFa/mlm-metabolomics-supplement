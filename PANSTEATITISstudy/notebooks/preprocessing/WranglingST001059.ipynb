{
 "cells": [
  {
   "cell_type": "markdown",
   "id": "427751ed-7d1a-476d-abfb-175980252fbd",
   "metadata": {
    "tags": []
   },
   "source": [
    "# Wrangling PANSTEATITIS study ST001059\n",
    "---"
   ]
  },
  {
   "cell_type": "markdown",
   "id": "1b400a97-4e0e-4fd8-a72d-edb782c592cf",
   "metadata": {},
   "source": [
    "This notebook carries out the wrangling process for the [LIVER study ST001059 lipidomics data](https://www.metabolomicsworkbench.org/data/DRCCMetadata.php?Mode=Study&StudyID=ST001059&StudyType=MS&ResultType=1) [1]."
   ]
  },
  {
   "cell_type": "markdown",
   "id": "dad2748b-3825-46df-8d07-9d22d5f12d44",
   "metadata": {},
   "source": [
    "## Libraries"
   ]
  },
  {
   "cell_type": "code",
   "execution_count": 1,
   "id": "2a6c7523-1572-4006-b787-83bab3ffcaa6",
   "metadata": {},
   "outputs": [],
   "source": [
    "# To use RCall for the first time, one needs to \n",
    "# the location of the R home directory.\n",
    "firstTimeRCall = false\n",
    "if firstTimeRCall \n",
    "    using Pkg\n",
    "    ENV[\"R_HOME\"] = \"C:/PROGRA~1/R/R-42~1.1\" # from R.home() in R\n",
    "    Pkg.build(\"RCall\")\n",
    "end     "
   ]
  },
  {
   "cell_type": "code",
   "execution_count": 5,
   "id": "d69120e8-37dd-4408-bb70-a8f43fa2651b",
   "metadata": {},
   "outputs": [
    {
     "name": "stderr",
     "output_type": "stream",
     "text": [
      "┌ Info: Precompiling MetabolomicsWorkbenchAPI [19b29032-9db8-4baa-af7b-2b362e62b3d7]\n",
      "└ @ Base loading.jl:1662\n"
     ]
    }
   ],
   "source": [
    "using DataFrames, CSV\n",
    "using FreqTables #, CategoricalArrays\n",
    "using StatsBase\n",
    "using Conda, RCall, PyCall\n",
    "using MetabolomicsWorkbenchAPI"
   ]
  },
  {
   "cell_type": "markdown",
   "id": "09316c78-297d-49ff-b1bf-b3c3fe418bad",
   "metadata": {},
   "source": [
    "## Ext. Functions"
   ]
  },
  {
   "cell_type": "code",
   "execution_count": 82,
   "id": "f6ff21ab-cdaf-4350-b1e9-b9ea11b78045",
   "metadata": {
    "tags": []
   },
   "outputs": [],
   "source": [
    "include(joinpath(@__DIR__,\"..\",\"..\",\"src\",\"wrangling_utils.jl\" ));\n",
    "include(joinpath(@__DIR__,\"..\",\"..\",\"src\",\"demog.jl\" ));"
   ]
  },
  {
   "cell_type": "markdown",
   "id": "f75ba8af-5005-4026-9fbd-db1773b74805",
   "metadata": {},
   "source": [
    "## Load data ST001059"
   ]
  },
  {
   "cell_type": "code",
   "execution_count": 7,
   "id": "432cbba2-f75b-495e-b51b-fb4a0c25f309",
   "metadata": {},
   "outputs": [],
   "source": [
    "ST  = \"ST001059\";"
   ]
  },
  {
   "cell_type": "markdown",
   "id": "9f59ac08-6fb3-476e-8b7a-6f6eee71468f",
   "metadata": {
    "tags": []
   },
   "source": [
    "## Extract clinical covariates"
   ]
  },
  {
   "cell_type": "markdown",
   "id": "97bc3fc4-0033-416e-8472-c6a7ab922e65",
   "metadata": {},
   "source": [
    "Use the Julia's API to get the samples data from the [metabolomics workbench](https://www.metabolomicsworkbench.org/data/DRCCMetadata.php?Mode=Study&StudyID=ST001052)."
   ]
  },
  {
   "cell_type": "code",
   "execution_count": 64,
   "id": "b360aae2-9068-4c82-9a55-015a5896d9e5",
   "metadata": {
    "tags": []
   },
   "outputs": [
    {
     "name": "stdout",
     "output_type": "stream",
     "text": [
      "The dataframe contains 31 rows and 17 columns\n"
     ]
    }
   ],
   "source": [
    "# get clinical covariates\n",
    "dfIndividuals =  fetch_samples(ST);\n",
    "print_df_size(dfIndividuals)"
   ]
  },
  {
   "cell_type": "markdown",
   "id": "df7928e2-6307-4dba-a889-53f608a65f86",
   "metadata": {},
   "source": [
    "List of the covariate names: "
   ]
  },
  {
   "cell_type": "code",
   "execution_count": 65,
   "id": "3363b646-505f-4304-bcbf-814367e558b4",
   "metadata": {},
   "outputs": [
    {
     "data": {
      "text/plain": [
       "17-element Vector{String}:\n",
       " \"Sample ID\"\n",
       " \"Group\"\n",
       " \"Gender\"\n",
       " \"Date Captured\"\n",
       " \"Annuli\"\n",
       " \"Age\"\n",
       " \"WEIGHT (KG)\"\n",
       " \"LENGTH (CM)\"\n",
       " \"TG (CM)\"\n",
       " \"VET SCORE (Adipose)\"\n",
       " \"TOTAL PROTEIN (g/100mL)\"\n",
       " \"PCV Color\"\n",
       " \"PCV\"\n",
       " \"Histology Adipose\"\n",
       " \"Histology Liver\"\n",
       " \"Histology Swim Bladder\"\n",
       " \"NECROPSY NOTES:\""
      ]
     },
     "execution_count": 65,
     "metadata": {},
     "output_type": "execute_result"
    }
   ],
   "source": [
    "names(dfIndividuals)"
   ]
  },
  {
   "cell_type": "code",
   "execution_count": 66,
   "id": "ce7b23be-bc6a-4d3b-85d8-b612fb0a5831",
   "metadata": {},
   "outputs": [
    {
     "name": "stdout",
     "output_type": "stream",
     "text": [
      "From the study description, ST001059 has 31 subjects.\n"
     ]
    }
   ],
   "source": [
    "println(\"From the study description, $(ST) has $(fetch_total_subjects(ST)) subjects.\")"
   ]
  },
  {
   "cell_type": "markdown",
   "id": "07ed9090-cca9-45fd-8462-0b37b0a32b1b",
   "metadata": {},
   "source": [
    "The clinical covariates dataframe contains 2 extra rows. We need to indicate what values corresponds to the `missing` data. In our case, all \"-\" will be replaced by `missing`.    "
   ]
  },
  {
   "cell_type": "code",
   "execution_count": 67,
   "id": "76a5292f-2457-4b95-88d7-c6687d2d64b6",
   "metadata": {},
   "outputs": [],
   "source": [
    "# assign missing value to \"-\"\n",
    "dfIndividuals = ifelse.(dfIndividuals .== \"-\", missing, dfIndividuals);"
   ]
  },
  {
   "cell_type": "markdown",
   "id": "d58bc0de-7401-424c-a47a-6806c2c9c948",
   "metadata": {},
   "source": [
    "Check number of missing per columns."
   ]
  },
  {
   "cell_type": "code",
   "execution_count": 68,
   "id": "5173d2de-eeb8-4237-95da-fafe645ae3ca",
   "metadata": {},
   "outputs": [
    {
     "name": "stdout",
     "output_type": "stream",
     "text": [
      "VET SCORE (Adipose) contains 10 missing values.\n",
      "TOTAL PROTEIN (g/100mL) contains 1 missing values.\n",
      "PCV Color contains 1 missing values.\n",
      "PCV contains 1 missing values.\n",
      "Histology Adipose contains 4 missing values.\n",
      "Histology Swim Bladder contains 5 missing values.\n",
      "NECROPSY NOTES: contains 5 missing values.\n"
     ]
    }
   ],
   "source": [
    "print_variables_missing(dfIndividuals)"
   ]
  },
  {
   "cell_type": "markdown",
   "id": "85681974-4d50-4d14-9402-6c16d28aa306",
   "metadata": {},
   "source": [
    "**Notes:** In VET SCORE the character \"-\" actually indicates 0 or absence of pansteatitis."
   ]
  },
  {
   "cell_type": "markdown",
   "id": "97879d34-d5cf-497b-8833-584073bedf64",
   "metadata": {},
   "source": [
    "### Clinical dictionary"
   ]
  },
  {
   "cell_type": "code",
   "execution_count": 69,
   "id": "5ab5326d-1e94-4010-bb1e-0a7dba341c13",
   "metadata": {},
   "outputs": [],
   "source": [
    "fileClinicalDict = joinpath(@__DIR__,\"..\",\"..\",\"data\",\"processed\", \"ClinicalDataDictionary_ST001059.csv\");\n",
    "open(fileClinicalDict,\"w\") do io\n",
    "   println(io,\"Group,Indicates sex and disease status.\\n\",\n",
    "        \"Gender,Sex.\\n\",\n",
    "        \"Age, Years\\n\",\n",
    "        \"Weight (KG), Kilogram\\n\",\n",
    "        \"Length (CM), Centimeter\\n\",\n",
    "        \"Annuli,Number of opaque zones on fish scales.\\n\",\n",
    "        # \"TG (CM),???\\n\",\n",
    "        \"VET SCORE  (Adipose),Veterinarian score where vet score < 1 indicates healthy tilapia and  vet score ≥ 1 indicates pansteatitis-affected tilapia.\\n\" ,\n",
    "        \"TOTAL PROTEIN (g/100mL),Total protein measurement in grams per deciliter\",\n",
    "        \"PCV Color,Pigmentation visually observed.\\n\",\n",
    "        \"PCV,Pigmentation concentration volume.\\n\",\n",
    "        \"Histology Adipose,Histological examination score of the adipose tissue.\\n\",\n",
    "        \"Histology Liver,Histological examination score of the liver tissue.\\n\",\n",
    "        \"Histology Swim Bladder,Histological examination score of the swim bladder tissue\"\n",
    "    )\n",
    "end"
   ]
  },
  {
   "cell_type": "markdown",
   "id": "2e3cfae4-12b3-468c-9200-d09a0888e419",
   "metadata": {},
   "source": [
    "### Independent variables"
   ]
  },
  {
   "cell_type": "markdown",
   "id": "48767708-09b4-4ce0-86bf-0ad2118ed9f9",
   "metadata": {},
   "source": [
    "Select variables of interest:"
   ]
  },
  {
   "cell_type": "code",
   "execution_count": 71,
   "id": "0f0773e2-75fc-4e00-b692-dbed4784c6da",
   "metadata": {},
   "outputs": [],
   "source": [
    "select!(dfIndividuals, Symbol.([\"Sample ID\",\n",
    "                                \"Group\",\n",
    "                                \"Gender\",\n",
    "                                \"Annuli\",\n",
    "                                \"Age\",\n",
    "                                \"WEIGHT (KG)\",\n",
    "                                \"LENGTH (CM)\",\n",
    "                                \"VET SCORE (Adipose)\",\n",
    "]));"
   ]
  },
  {
   "cell_type": "markdown",
   "id": "00e92dd7-659f-4c2b-8b9c-dfe8f8cebadf",
   "metadata": {},
   "source": [
    "Rename variables if needed:"
   ]
  },
  {
   "cell_type": "code",
   "execution_count": 72,
   "id": "73e49e96-45f3-4030-8247-b53eedf493e7",
   "metadata": {},
   "outputs": [],
   "source": [
    "rename!(dfIndividuals, Dict(Symbol(\"Sample ID\") => \"SampleID\",\n",
    "                            Symbol(\"WEIGHT (KG)\") => \"Weight\",\n",
    "                            Symbol(\"LENGTH (CM)\") => \"Length\",\n",
    "                            Symbol(\"VET SCORE (Adipose)\",) => \"VetScore\",\n",
    "));"
   ]
  },
  {
   "cell_type": "markdown",
   "id": "08794e4c-8633-4bf5-84f0-cb6103fb16c7",
   "metadata": {},
   "source": [
    "Filter incomplete cases:"
   ]
  },
  {
   "cell_type": "code",
   "execution_count": 74,
   "id": "4c585d9d-e3c6-4f7c-a5c4-6b3cc6edeb83",
   "metadata": {},
   "outputs": [],
   "source": [
    "# Replace the missings in VetScore by 0\n",
    "dfIndividuals.VetScore = coalesce.(dfIndividuals.VetScore, 0);"
   ]
  },
  {
   "cell_type": "code",
   "execution_count": 76,
   "id": "768670d2-554a-4305-aa99-33d713bc170b",
   "metadata": {},
   "outputs": [
    {
     "data": {
      "text/html": [
       "<div class=\"data-frame\"><p>5 rows × 8 columns</p><table class=\"data-frame\"><thead><tr><th></th><th>SampleID</th><th>Group</th><th>Gender</th><th>Annuli</th><th>Age</th><th>Weight</th><th>Length</th><th>VetScore</th></tr><tr><th></th><th title=\"String\">String</th><th title=\"String\">String</th><th title=\"String\">String</th><th title=\"String\">String</th><th title=\"String\">String</th><th title=\"String\">String</th><th title=\"String\">String</th><th title=\"Any\">Any</th></tr></thead><tbody><tr><th>1</th><td>ID_ID_8363</td><td>FD</td><td>F</td><td>12</td><td>13</td><td>1.5</td><td>40</td><td>3</td></tr><tr><th>2</th><td>ID_ID_8371</td><td>FD</td><td>F</td><td>11</td><td>12</td><td>1.4</td><td>41</td><td>3</td></tr><tr><th>3</th><td>ID_ID_8373</td><td>FD</td><td>F</td><td>12</td><td>13</td><td>1.9</td><td>43.5</td><td>0.5</td></tr><tr><th>4</th><td>ID_ID_8376</td><td>FD</td><td>F</td><td>11</td><td>12</td><td>1.6</td><td>42.5</td><td>1</td></tr><tr><th>5</th><td>ID_ID_8385</td><td>FD</td><td>F</td><td>12</td><td>13</td><td>1.6</td><td>42</td><td>3</td></tr></tbody></table></div>"
      ],
      "text/latex": [
       "\\begin{tabular}{r|cccccccc}\n",
       "\t& SampleID & Group & Gender & Annuli & Age & Weight & Length & VetScore\\\\\n",
       "\t\\hline\n",
       "\t& String & String & String & String & String & String & String & Any\\\\\n",
       "\t\\hline\n",
       "\t1 & ID\\_ID\\_8363 & FD & F & 12 & 13 & 1.5 & 40 & 3 \\\\\n",
       "\t2 & ID\\_ID\\_8371 & FD & F & 11 & 12 & 1.4 & 41 & 3 \\\\\n",
       "\t3 & ID\\_ID\\_8373 & FD & F & 12 & 13 & 1.9 & 43.5 & 0.5 \\\\\n",
       "\t4 & ID\\_ID\\_8376 & FD & F & 11 & 12 & 1.6 & 42.5 & 1 \\\\\n",
       "\t5 & ID\\_ID\\_8385 & FD & F & 12 & 13 & 1.6 & 42 & 3 \\\\\n",
       "\\end{tabular}\n"
      ],
      "text/plain": [
       "\u001b[1m5×8 DataFrame\u001b[0m\n",
       "\u001b[1m Row \u001b[0m│\u001b[1m SampleID   \u001b[0m\u001b[1m Group  \u001b[0m\u001b[1m Gender \u001b[0m\u001b[1m Annuli \u001b[0m\u001b[1m Age    \u001b[0m\u001b[1m Weight \u001b[0m\u001b[1m Length \u001b[0m\u001b[1m VetScore \u001b[0m\n",
       "\u001b[1m     \u001b[0m│\u001b[90m String     \u001b[0m\u001b[90m String \u001b[0m\u001b[90m String \u001b[0m\u001b[90m String \u001b[0m\u001b[90m String \u001b[0m\u001b[90m String \u001b[0m\u001b[90m String \u001b[0m\u001b[90m Any      \u001b[0m\n",
       "─────┼──────────────────────────────────────────────────────────────────────\n",
       "   1 │ ID_ID_8363  FD      F       12      13      1.5     40      3\n",
       "   2 │ ID_ID_8371  FD      F       11      12      1.4     41      3\n",
       "   3 │ ID_ID_8373  FD      F       12      13      1.9     43.5    0.5\n",
       "   4 │ ID_ID_8376  FD      F       11      12      1.6     42.5    1\n",
       "   5 │ ID_ID_8385  FD      F       12      13      1.6     42      3"
      ]
     },
     "execution_count": 76,
     "metadata": {},
     "output_type": "execute_result"
    }
   ],
   "source": [
    "# filter complete cases\n",
    "idxComplete = findall(completecases(dfIndividuals))\n",
    "dfIndividuals = dfIndividuals[idxComplete, :]\n",
    "\n",
    "# add a prefix to the ID samples\n",
    "dfIndividuals.SampleID = \"ID_\".*string.(dfIndividuals.SampleID);\n",
    "\n",
    "first(dfIndividuals, 5)"
   ]
  },
  {
   "cell_type": "markdown",
   "id": "2f3dc172-4074-4477-b8f9-4ae6e0507619",
   "metadata": {},
   "source": [
    "Insert a `GroupStatus` variable. The `Group` variable includes the diseases status and gender:"
   ]
  },
  {
   "cell_type": "code",
   "execution_count": 77,
   "id": "0a3be771-498f-43f0-b93b-056b264d7f51",
   "metadata": {},
   "outputs": [
    {
     "data": {
      "text/plain": [
       "4-element Vector{String}:\n",
       " \"FD\"\n",
       " \"FH\"\n",
       " \"MD\"\n",
       " \"MH\""
      ]
     },
     "execution_count": 77,
     "metadata": {},
     "output_type": "execute_result"
    }
   ],
   "source": [
    "unique(dfIndividuals.Group)"
   ]
  },
  {
   "cell_type": "markdown",
   "id": "2f429b6a-3f26-4ba2-8819-a48fc8dd45b7",
   "metadata": {},
   "source": [
    "Let redefine the `Group` variable:"
   ]
  },
  {
   "cell_type": "code",
   "execution_count": 78,
   "id": "9bd57f64-9cd2-4252-a7ca-efe01913e081",
   "metadata": {},
   "outputs": [],
   "source": [
    "# insertcols!(dfIndividuals, 3, :GroupStatus => occursin.(\"D\", dfIndividuals.Group));\n",
    "idxDiseased = findall(occursin.(\"D\", dfIndividuals.Group)) ;\n",
    "idxHealthy = findall(occursin.(\"H\", dfIndividuals.Group));\n",
    "\n",
    "dfIndividuals.Group[idxDiseased] .= \"Diseased\";\n",
    "dfIndividuals.Group[idxHealthy] .= \"Healthy\";\n",
    "\n",
    "idxMale = findall(occursin.(\"M\", dfIndividuals.Gender)) ;\n",
    "idxFemale = findall(occursin.(\"F\", dfIndividuals.Gender));\n",
    "\n",
    "dfIndividuals.Gender[idxMale] .= \"Male\";\n",
    "dfIndividuals.Gender[idxFemale] .= \"Female\";"
   ]
  },
  {
   "cell_type": "code",
   "execution_count": 79,
   "id": "07e3c0c7-87c2-46ed-925a-d55589408721",
   "metadata": {},
   "outputs": [
    {
     "data": {
      "text/html": [
       "<div class=\"data-frame\"><p>5 rows × 8 columns</p><table class=\"data-frame\"><thead><tr><th></th><th>SampleID</th><th>Group</th><th>Gender</th><th>Annuli</th><th>Age</th><th>Weight</th><th>Length</th><th>VetScore</th></tr><tr><th></th><th title=\"String\">String</th><th title=\"String\">String</th><th title=\"String\">String</th><th title=\"String\">String</th><th title=\"String\">String</th><th title=\"String\">String</th><th title=\"String\">String</th><th title=\"Any\">Any</th></tr></thead><tbody><tr><th>1</th><td>ID_ID_8363</td><td>Diseased</td><td>Female</td><td>12</td><td>13</td><td>1.5</td><td>40</td><td>3</td></tr><tr><th>2</th><td>ID_ID_8371</td><td>Diseased</td><td>Female</td><td>11</td><td>12</td><td>1.4</td><td>41</td><td>3</td></tr><tr><th>3</th><td>ID_ID_8373</td><td>Diseased</td><td>Female</td><td>12</td><td>13</td><td>1.9</td><td>43.5</td><td>0.5</td></tr><tr><th>4</th><td>ID_ID_8376</td><td>Diseased</td><td>Female</td><td>11</td><td>12</td><td>1.6</td><td>42.5</td><td>1</td></tr><tr><th>5</th><td>ID_ID_8385</td><td>Diseased</td><td>Female</td><td>12</td><td>13</td><td>1.6</td><td>42</td><td>3</td></tr></tbody></table></div>"
      ],
      "text/latex": [
       "\\begin{tabular}{r|cccccccc}\n",
       "\t& SampleID & Group & Gender & Annuli & Age & Weight & Length & VetScore\\\\\n",
       "\t\\hline\n",
       "\t& String & String & String & String & String & String & String & Any\\\\\n",
       "\t\\hline\n",
       "\t1 & ID\\_ID\\_8363 & Diseased & Female & 12 & 13 & 1.5 & 40 & 3 \\\\\n",
       "\t2 & ID\\_ID\\_8371 & Diseased & Female & 11 & 12 & 1.4 & 41 & 3 \\\\\n",
       "\t3 & ID\\_ID\\_8373 & Diseased & Female & 12 & 13 & 1.9 & 43.5 & 0.5 \\\\\n",
       "\t4 & ID\\_ID\\_8376 & Diseased & Female & 11 & 12 & 1.6 & 42.5 & 1 \\\\\n",
       "\t5 & ID\\_ID\\_8385 & Diseased & Female & 12 & 13 & 1.6 & 42 & 3 \\\\\n",
       "\\end{tabular}\n"
      ],
      "text/plain": [
       "\u001b[1m5×8 DataFrame\u001b[0m\n",
       "\u001b[1m Row \u001b[0m│\u001b[1m SampleID   \u001b[0m\u001b[1m Group    \u001b[0m\u001b[1m Gender \u001b[0m\u001b[1m Annuli \u001b[0m\u001b[1m Age    \u001b[0m\u001b[1m Weight \u001b[0m\u001b[1m Length \u001b[0m\u001b[1m VetScore \u001b[0m\n",
       "\u001b[1m     \u001b[0m│\u001b[90m String     \u001b[0m\u001b[90m String   \u001b[0m\u001b[90m String \u001b[0m\u001b[90m String \u001b[0m\u001b[90m String \u001b[0m\u001b[90m String \u001b[0m\u001b[90m String \u001b[0m\u001b[90m Any      \u001b[0m\n",
       "─────┼────────────────────────────────────────────────────────────────────────\n",
       "   1 │ ID_ID_8363  Diseased  Female  12      13      1.5     40      3\n",
       "   2 │ ID_ID_8371  Diseased  Female  11      12      1.4     41      3\n",
       "   3 │ ID_ID_8373  Diseased  Female  12      13      1.9     43.5    0.5\n",
       "   4 │ ID_ID_8376  Diseased  Female  11      12      1.6     42.5    1\n",
       "   5 │ ID_ID_8385  Diseased  Female  12      13      1.6     42      3"
      ]
     },
     "execution_count": 79,
     "metadata": {},
     "output_type": "execute_result"
    }
   ],
   "source": [
    "first(dfIndividuals, 5)"
   ]
  },
  {
   "cell_type": "markdown",
   "id": "bc33051a-32cb-4da6-ad97-a8ec2906f956",
   "metadata": {},
   "source": [
    "#### Save processed individuals dataset:"
   ]
  },
  {
   "cell_type": "code",
   "execution_count": 80,
   "id": "2e7a3cb5-edcc-4772-ae22-8b4728cd3677",
   "metadata": {},
   "outputs": [],
   "source": [
    "fileIndividuals = joinpath(@__DIR__,\"..\",\"..\",\"data\",\"processed\",\"ST001059_ClinicalCovariates.csv\");\n",
    "dfIndividuals |> CSV.write(fileIndividuals);"
   ]
  },
  {
   "cell_type": "markdown",
   "id": "715bc73c-785c-4889-b39d-b1488ace3634",
   "metadata": {},
   "source": [
    "### Demography"
   ]
  },
  {
   "cell_type": "code",
   "execution_count": 83,
   "id": "fd853a03-1ac2-43d2-a345-729df9779c6e",
   "metadata": {},
   "outputs": [
    {
     "data": {
      "text/html": [
       "<div class=\"data-frame\"><p>11 rows × 2 columns</p><table class=\"data-frame\"><thead><tr><th></th><th>Clinical Features</th><th>Count/ mean(SD)</th></tr><tr><th></th><th title=\"Any\">Any</th><th title=\"Any\">Any</th></tr></thead><tbody><tr><th>1</th><td>Group</td><td> </td></tr><tr><th>2</th><td>Diseased</td><td>16</td></tr><tr><th>3</th><td>Healthy</td><td>5</td></tr><tr><th>4</th><td>Gender</td><td> </td></tr><tr><th>5</th><td>Female</td><td>8</td></tr><tr><th>6</th><td>Male</td><td>13</td></tr><tr><th>7</th><td>Annuli</td><td>8.9(2.9)</td></tr><tr><th>8</th><td>Age</td><td>9.9(2.9)</td></tr><tr><th>9</th><td>WEIGHT (KG)</td><td>1.65(0.21)</td></tr><tr><th>10</th><td>LENGTH (CM)</td><td>42.29(1.71)</td></tr><tr><th>11</th><td>VET SCORE (Adipose)</td><td>2.19(1.5)</td></tr></tbody></table></div>"
      ],
      "text/latex": [
       "\\begin{tabular}{r|cc}\n",
       "\t& Clinical Features & Count/ mean(SD)\\\\\n",
       "\t\\hline\n",
       "\t& Any & Any\\\\\n",
       "\t\\hline\n",
       "\t1 & Group &   \\\\\n",
       "\t2 & Diseased & 16 \\\\\n",
       "\t3 & Healthy & 5 \\\\\n",
       "\t4 & Gender &   \\\\\n",
       "\t5 & Female & 8 \\\\\n",
       "\t6 & Male & 13 \\\\\n",
       "\t7 & Annuli & 8.9(2.9) \\\\\n",
       "\t8 & Age & 9.9(2.9) \\\\\n",
       "\t9 & WEIGHT (KG) & 1.65(0.21) \\\\\n",
       "\t10 & LENGTH (CM) & 42.29(1.71) \\\\\n",
       "\t11 & VET SCORE (Adipose) & 2.19(1.5) \\\\\n",
       "\\end{tabular}\n"
      ],
      "text/plain": [
       "\u001b[1m11×2 DataFrame\u001b[0m\n",
       "\u001b[1m Row \u001b[0m│\u001b[1m Clinical Features   \u001b[0m\u001b[1m Count/ mean(SD) \u001b[0m\n",
       "\u001b[1m     \u001b[0m│\u001b[90m Any                 \u001b[0m\u001b[90m Any             \u001b[0m\n",
       "─────┼──────────────────────────────────────\n",
       "   1 │ Group\n",
       "   2 │ Diseased             16\n",
       "   3 │ Healthy              5\n",
       "   4 │ Gender\n",
       "   5 │ Female               8\n",
       "   6 │ Male                 13\n",
       "   7 │ Annuli               8.9(2.9)\n",
       "   8 │ Age                  9.9(2.9)\n",
       "   9 │ WEIGHT (KG)          1.65(0.21)\n",
       "  10 │ LENGTH (CM)          42.29(1.71)\n",
       "  11 │ VET SCORE (Adipose)  2.19(1.5)"
      ]
     },
     "execution_count": 83,
     "metadata": {},
     "output_type": "execute_result"
    }
   ],
   "source": [
    "dfDemog = getDemographicST001059(\"ST001059\")"
   ]
  },
  {
   "cell_type": "code",
   "execution_count": 84,
   "id": "f5c8c7e6-a4b9-4a1b-8cca-b6a1f39b8ce3",
   "metadata": {},
   "outputs": [],
   "source": [
    "fileDemog = joinpath(@__DIR__,\"..\",\"..\",\"data\",\"processed\",\"Demog_ST001059.csv\");\n",
    "dfDemog |> CSV.write(fileDemog);"
   ]
  },
  {
   "cell_type": "markdown",
   "id": "a2deacb0-85ce-4847-ac55-d326313dde42",
   "metadata": {},
   "source": [
    "## Extract Metabolite references"
   ]
  },
  {
   "cell_type": "code",
   "execution_count": 121,
   "id": "141daf8e-9b6d-43b0-997a-cf6ae93b777b",
   "metadata": {},
   "outputs": [
    {
     "name": "stdout",
     "output_type": "stream",
     "text": [
      "The dataframe contains 962 rows and 11 columns\n"
     ]
    }
   ],
   "source": [
    "# get clinical covariates\n",
    "dfRef =  fetch_metabolites(ST);\n",
    "print_df_size(dfRef)"
   ]
  },
  {
   "cell_type": "markdown",
   "id": "1921780f-75c9-4a21-aafa-d6f13447922c",
   "metadata": {},
   "source": [
    "List the name of available properties:"
   ]
  },
  {
   "cell_type": "code",
   "execution_count": 122,
   "id": "35ed3500-07dd-4049-8591-04936d072b3d",
   "metadata": {},
   "outputs": [
    {
     "data": {
      "text/plain": [
       "11-element Vector{String}:\n",
       " \"Metabolite\"\n",
       " \"quantified m/z\"\n",
       " \"rtimes\"\n",
       " \"ID_Ranked (LipidMatch annotation/rank)\"\n",
       " \"ID_Ranked (LipidSearch annotation/rank)\"\n",
       " \"Class_At_Max_Intensity\"\n",
       " \"Adduct_At_Max_Intensity\"\n",
       " \"(LipidMatch Normalizer output)\"\n",
       " \"IS_Species\"\n",
       " \"IS_Adduct\"\n",
       " \"Neg & Pos Confirmed\""
      ]
     },
     "execution_count": 122,
     "metadata": {},
     "output_type": "execute_result"
    }
   ],
   "source": [
    "names(dfRef)"
   ]
  },
  {
   "cell_type": "code",
   "execution_count": 123,
   "id": "9f94f0fa-fb76-4b2e-bcac-d1d35661ac88",
   "metadata": {},
   "outputs": [
    {
     "data": {
      "text/html": [
       "<div class=\"data-frame\"><p>5 rows × 11 columns (omitted printing of 7 columns)</p><table class=\"data-frame\"><thead><tr><th></th><th>Metabolite</th><th>quantified m/z</th><th>rtimes</th><th>ID_Ranked (LipidMatch annotation/rank)</th></tr><tr><th></th><th title=\"String\">String</th><th title=\"String\">String</th><th title=\"String\">String</th><th title=\"String\">String</th></tr></thead><tbody><tr><th>1</th><td>AcCa(18:1)</td><td>426.3569463</td><td>1.480561111</td><td>NA</td></tr><tr><th>2</th><td>AcCa(13:0)</td><td>358.2943419</td><td>0.861755556</td><td>NA</td></tr><tr><th>3</th><td>AcCa(18:0)</td><td>428.3726719</td><td>1.962311852</td><td>NA</td></tr><tr><th>4</th><td>Cer(d18:1_24:1)</td><td>646.6138781</td><td>12.31576593</td><td>NA</td></tr><tr><th>5</th><td>Cer(d18:1_20:0)</td><td>594.5808668</td><td>10.18453939</td><td>NA</td></tr></tbody></table></div>"
      ],
      "text/latex": [
       "\\begin{tabular}{r|ccccc}\n",
       "\t& Metabolite & quantified m/z & rtimes & ID\\_Ranked (LipidMatch annotation/rank) & \\\\\n",
       "\t\\hline\n",
       "\t& String & String & String & String & \\\\\n",
       "\t\\hline\n",
       "\t1 & AcCa(18:1) & 426.3569463 & 1.480561111 & NA & $\\dots$ \\\\\n",
       "\t2 & AcCa(13:0) & 358.2943419 & 0.861755556 & NA & $\\dots$ \\\\\n",
       "\t3 & AcCa(18:0) & 428.3726719 & 1.962311852 & NA & $\\dots$ \\\\\n",
       "\t4 & Cer(d18:1\\_24:1) & 646.6138781 & 12.31576593 & NA & $\\dots$ \\\\\n",
       "\t5 & Cer(d18:1\\_20:0) & 594.5808668 & 10.18453939 & NA & $\\dots$ \\\\\n",
       "\\end{tabular}\n"
      ],
      "text/plain": [
       "\u001b[1m5×11 DataFrame\u001b[0m\n",
       "\u001b[1m Row \u001b[0m│\u001b[1m Metabolite      \u001b[0m\u001b[1m quantified m/z \u001b[0m\u001b[1m rtimes      \u001b[0m\u001b[1m ID_Ranked (LipidMatch ann\u001b[0m ⋯\n",
       "\u001b[1m     \u001b[0m│\u001b[90m String          \u001b[0m\u001b[90m String         \u001b[0m\u001b[90m String      \u001b[0m\u001b[90m String                   \u001b[0m ⋯\n",
       "─────┼──────────────────────────────────────────────────────────────────────────\n",
       "   1 │ AcCa(18:1)       426.3569463     1.480561111  NA                        ⋯\n",
       "   2 │ AcCa(13:0)       358.2943419     0.861755556  NA\n",
       "   3 │ AcCa(18:0)       428.3726719     1.962311852  NA\n",
       "   4 │ Cer(d18:1_24:1)  646.6138781     12.31576593  NA\n",
       "   5 │ Cer(d18:1_20:0)  594.5808668     10.18453939  NA                        ⋯\n",
       "\u001b[36m                                                               8 columns omitted\u001b[0m"
      ]
     },
     "execution_count": 123,
     "metadata": {},
     "output_type": "execute_result"
    }
   ],
   "source": [
    "first(dfRef, 5)"
   ]
  },
  {
   "cell_type": "markdown",
   "id": "7812b269-cbf6-410d-9c7f-01fd9d97a644",
   "metadata": {},
   "source": [
    "Create a metabolite ID and keep only name and ID:"
   ]
  },
  {
   "cell_type": "code",
   "execution_count": 124,
   "id": "edf39f52-01d3-42b8-8543-a88b0d528228",
   "metadata": {},
   "outputs": [],
   "source": [
    "dfRef.MetaboliteID = \"MT\" .* string.(10000 .+ collect(1:size(dfRef, 1)));\n",
    "select!(dfRef, [:Metabolite, :MetaboliteID]);"
   ]
  },
  {
   "cell_type": "markdown",
   "id": "95707750-168a-4fa0-9bf5-95c6175e3e6c",
   "metadata": {},
   "source": [
    "### Get Classification information"
   ]
  },
  {
   "cell_type": "markdown",
   "id": "df923539-e194-4771-b35f-79437bbf7cf8",
   "metadata": {},
   "source": [
    "To get the classifciation information, we use the package `MetabolomicsWorkbenchAPI.jl`."
   ]
  },
  {
   "cell_type": "code",
   "execution_count": 125,
   "id": "e54cf7ce-0e49-475d-8879-41dc53f5dc5d",
   "metadata": {
    "tags": []
   },
   "outputs": [
    {
     "data": {
      "text/html": [
       "<div class=\"data-frame\"><p>3 rows × 6 columns</p><table class=\"data-frame\"><thead><tr><th></th><th>exactmass</th><th>formula</th><th>main_class</th><th>refmet_name</th><th>sub_class</th><th>super_class</th></tr><tr><th></th><th title=\"Union{Missing, String}\">String?</th><th title=\"Union{Missing, String}\">String?</th><th title=\"Union{Missing, String}\">String?</th><th title=\"Union{Missing, String}\">String?</th><th title=\"Union{Missing, String}\">String?</th><th title=\"Union{Missing, String}\">String?</th></tr></thead><tbody><tr><th>1</th><td>425.3505</td><td>C25H47NO4</td><td>Fatty esters</td><td>CAR 18:1</td><td>Acyl carnitines</td><td>Fatty Acyls</td></tr><tr><th>2</th><td>357.2879</td><td>C20H39NO4</td><td>Fatty esters</td><td>CAR 13:0</td><td>Acyl carnitines</td><td>Fatty Acyls</td></tr><tr><th>3</th><td>427.3662</td><td>C25H49NO4</td><td>Fatty esters</td><td>CAR 18:0</td><td>Acyl carnitines</td><td>Fatty Acyls</td></tr></tbody></table></div>"
      ],
      "text/latex": [
       "\\begin{tabular}{r|cccccc}\n",
       "\t& exactmass & formula & main\\_class & refmet\\_name & sub\\_class & super\\_class\\\\\n",
       "\t\\hline\n",
       "\t& String? & String? & String? & String? & String? & String?\\\\\n",
       "\t\\hline\n",
       "\t1 & 425.3505 & C25H47NO4 & Fatty esters & CAR 18:1 & Acyl carnitines & Fatty Acyls \\\\\n",
       "\t2 & 357.2879 & C20H39NO4 & Fatty esters & CAR 13:0 & Acyl carnitines & Fatty Acyls \\\\\n",
       "\t3 & 427.3662 & C25H49NO4 & Fatty esters & CAR 18:0 & Acyl carnitines & Fatty Acyls \\\\\n",
       "\\end{tabular}\n"
      ],
      "text/plain": [
       "\u001b[1m3×6 DataFrame\u001b[0m\n",
       "\u001b[1m Row \u001b[0m│\u001b[1m exactmass \u001b[0m\u001b[1m formula   \u001b[0m\u001b[1m main_class   \u001b[0m\u001b[1m refmet_name \u001b[0m\u001b[1m sub_class       \u001b[0m\u001b[1m super\u001b[0m ⋯\n",
       "\u001b[1m     \u001b[0m│\u001b[90m String?   \u001b[0m\u001b[90m String?   \u001b[0m\u001b[90m String?      \u001b[0m\u001b[90m String?     \u001b[0m\u001b[90m String?         \u001b[0m\u001b[90m Strin\u001b[0m ⋯\n",
       "─────┼──────────────────────────────────────────────────────────────────────────\n",
       "   1 │ 425.3505   C25H47NO4  Fatty esters  CAR 18:1     Acyl carnitines  Fatty ⋯\n",
       "   2 │ 357.2879   C20H39NO4  Fatty esters  CAR 13:0     Acyl carnitines  Fatty\n",
       "   3 │ 427.3662   C25H49NO4  Fatty esters  CAR 18:0     Acyl carnitines  Fatty\n",
       "\u001b[36m                                                                1 column omitted\u001b[0m"
      ]
     },
     "execution_count": 125,
     "metadata": {},
     "output_type": "execute_result"
    }
   ],
   "source": [
    "dfClassification = fetch_properties(dfRef.Metabolite);\n",
    "# insertcols!(dfClassification, 1, :metabolite_name => dfRef.metabolite_name);\n",
    "first(dfClassification, 3)"
   ]
  },
  {
   "cell_type": "code",
   "execution_count": 126,
   "id": "afb98620-24c8-4bde-8ecf-0ac86f55a1cd",
   "metadata": {},
   "outputs": [
    {
     "data": {
      "text/plain": [
       "247-element Vector{String}:\n",
       " \"Cer(d18:0+pO_14:0)\"\n",
       " \"Cer(d18:0+pO_18:0)\"\n",
       " \"Cer(d18:0+pO_20:0)\"\n",
       " \"Cer(d18:0+pO_22:0)\"\n",
       " \"CerG1(d18:0+pO_18:0)\"\n",
       " \"CerG1(d18:0+pO_22:0+O)\"\n",
       " \"CerG1(d18:0+pO_20:0)\"\n",
       " \"CerG1(d18:0+pO_24:1)\"\n",
       " \"CerG1(d18:0+pO_22:0)\"\n",
       " \"CerG1(d18:1_22:0+O)\"\n",
       " \"CerG1(d18:0+pO_14:0)\"\n",
       " \"CerG1(d18:0+pO_22:1)\"\n",
       " \"CerG1(d18:0+pO_16:0)\"\n",
       " ⋮\n",
       " \"plasmanyl-TG(O-16:0_18:0_18:1)\"\n",
       " \"plasmanyl-TG(O-16:0_16:1_22:6)\"\n",
       " \"plasmanyl-TG(O-18:1_16:0_16:0)\"\n",
       " \"plasmanyl-TG(O-16:0_22:6_22:6)\"\n",
       " \"plasmanyl-TG(O-16:0_18:3_22:5)\"\n",
       " \"plasmanyl-TG(O-16:0_18:1_22:6)\"\n",
       " \"plasmanyl-TG(O-16:0_16:0_22:6)\"\n",
       " \"plasmanyl-TG(O-16:0_22:5_22:6)\"\n",
       " \"plasmanyl-TG(O-16:0_18:0_22:6)\"\n",
       " \"SM(d18:0_24:3)\"\n",
       " \"SM(d18:0+pO_16:0)\"\n",
       " \"SM(d20:0+pO_16:0)\""
      ]
     },
     "execution_count": 126,
     "metadata": {},
     "output_type": "execute_result"
    }
   ],
   "source": [
    "idxmissing = findall(ismissing.(dfClassification.main_class))\n",
    "dfRef.Metabolite[idxmissing]"
   ]
  },
  {
   "cell_type": "code",
   "execution_count": 127,
   "id": "3602431d-2d95-4db3-80fb-d81bf7f87658",
   "metadata": {},
   "outputs": [
    {
     "data": {
      "text/plain": [
       "(962, 2)"
      ]
     },
     "execution_count": 127,
     "metadata": {},
     "output_type": "execute_result"
    }
   ],
   "source": [
    "size(dfRef)"
   ]
  },
  {
   "cell_type": "markdown",
   "id": "072133d7-55b6-4958-b823-b44ec1abd394",
   "metadata": {},
   "source": [
    "To be able to use all the lipid, especially the Triglycerides, we need to adjust the name in a more standardized way to be able to extract their properties information.  \n",
    "- The *Ox-* prefix mean oxidized, such as in *OxTG(16:0_20:5_20:3(OH))*. The *OH* indicates that it is a [TG hydroperoxide](https://www.ncbi.nlm.nih.gov/pmc/articles/PMC6550225/) [2].   \n",
    "- The *P-* and the *O-* indicate respectively if the lipid is a plasmalogen or a plasmanyl, such as *plasmanyl-TG(O-20:0_18:0_18:4)* and *plasmenyl-TG(P-20:1_15:0_16:0)*[3].\n",
    "- The non-oxidized lipids that contains Oxygen are described in [4].\n"
   ]
  },
  {
   "cell_type": "code",
   "execution_count": 128,
   "id": "6c26a8b9-bd09-4021-b552-97d0116bf7a6",
   "metadata": {},
   "outputs": [],
   "source": [
    "dfRefOriginal = copy(dfRef);"
   ]
  },
  {
   "cell_type": "code",
   "execution_count": 171,
   "id": "757e857f-fa8d-496a-a0e7-68c62ee6546a",
   "metadata": {},
   "outputs": [],
   "source": [
    "dfRef = copy(dfRefOriginal);"
   ]
  },
  {
   "cell_type": "code",
   "execution_count": 172,
   "id": "51f6b53c-c9ca-4ae4-9784-9740e7ce5523",
   "metadata": {},
   "outputs": [],
   "source": [
    "dfRef.StandardizedName = copy(dfRef.Metabolite);"
   ]
  },
  {
   "cell_type": "code",
   "execution_count": 173,
   "id": "dfe873d1-71e2-482d-9d58-ed5786fdff93",
   "metadata": {},
   "outputs": [
    {
     "data": {
      "text/plain": [
       "standardizename"
      ]
     },
     "execution_count": 173,
     "metadata": {},
     "output_type": "execute_result"
    }
   ],
   "source": [
    "\"\"\"\n",
    "standardizename(df::DataFrame, colname::String, matchstring, newstring=\"\")\n",
    "\n",
    "Takes a dataframe that contains a column of standardized name, and \n",
    "create a new column name according to `colname` argument. The type\n",
    "of this new column is boolean, where each entry is true if the \n",
    "standardize name value contains the matching string argument.\n",
    "In addition, it replaces the matching string by a new string, default\n",
    "is \"\".\n",
    "\"\"\"\n",
    "function standardizename(df::DataFrame, colname::String, matchstring, newstring=\"\")\n",
    "    if [colname] ⊈ names(df) #!([colname] ⊆ names(df))\n",
    "        df[:, colname] = repeat([false], size(dfRef, 1));\n",
    "    end\n",
    "    idx = findall(occursin.(matchstring, dfRef.Metabolite));\n",
    "    df[idx, colname] .= true;\n",
    "    # standardize name \n",
    "    df.StandardizedName[idx] .= replace.(dfRef.StandardizedName[idx], matchstring=>newstring); \n",
    "    return df\n",
    "end"
   ]
  },
  {
   "cell_type": "code",
   "execution_count": 175,
   "id": "ad8a05de-5e3a-47e6-8f89-7e3071c41618",
   "metadata": {
    "tags": []
   },
   "outputs": [],
   "source": [
    "newcolname = [\"ProteinBound\", \"Hexosyl\", \n",
    "              \"CeramideAP\", \"CeramideAS\", \"CeramideNS\", \"CeramideNP\",   \"CeramideNDS\",\n",
    "              \"Oxidized\", \"OH\", \"O\", \"O₂\", \"O₃\",\n",
    "              \"O₄\", \"Plasmanyl\", \"Plasmalogen\", \"O₂\", \"O₂\",\n",
    "              \"O₃\", \"O₄\", \"O₆\", \"Plasmanyl\", \"Plasmalogen\", \n",
    "              \"CHO\", \"Ke\", \"Ke_OH\", \"O\", \n",
    "              \"IgnoreCol\",  \n",
    "             ] \n",
    "rmvstring = [\"+pO_\", \"CerG1\", \n",
    "             \"_AP\", \"_AS\", \"_NS\", \"_NP\", \"_NDS\",\n",
    "             \"Ox\", \"(OH)\", \"+O\", \"(OO)\", \"(OOO)\",\n",
    "             \"(OOOO)\", \"O-\", \"P-\", \"+OO\", \"+2O\", \n",
    "             \"+3O\", \"+4O\", \"+6O\", r\"(?i)plasmanyl-\", r\"(?i)plasmenyl-\", \n",
    "             \"(CHO)\", \"(Ke)\", \"(Ke,OH)\", \"O\", \n",
    "             \"_\",\n",
    "            ]\n",
    "newstring = vcat( \"/\", \"HexCer\", repeat([\"\"], 24), \"/\")\n",
    "for i in 1:length(newcolname)\n",
    "    dfRef = standardizename(dfRef, newcolname[i], rmvstring[i], newstring[i]);\n",
    "end    "
   ]
  },
  {
   "cell_type": "code",
   "execution_count": 176,
   "id": "84ae4482-3bb1-4789-af2b-8243fdedecbd",
   "metadata": {},
   "outputs": [
    {
     "data": {
      "text/plain": [
       "18-element Vector{String}:\n",
       " \"DMPE(16:0/22:5)\"\n",
       " \"DMPE(16:0/20:5)\"\n",
       " \"DMPE(16:0/22:6)\"\n",
       " \"DMPE(16:0/18:1)\"\n",
       " \"GlcCer(d18:1/27:4)\"\n",
       " \"GlcCer(d18:1/23:1)\"\n",
       " \"GlcCer(d18:1/24:2)\"\n",
       " \"LdMePE(18:0)\"\n",
       " \"LdMePE(16:0)\"\n",
       " \"MMPE(17:1/22:5)\"\n",
       " \"AHFA(44:11)\"\n",
       " \"PC(22:5/16:1(CH))\"\n",
       " \"TG(16:0/16:0/6:0(CH))\"\n",
       " \"TG(18:0/18:4/20:4(H))\"\n",
       " \"TG(16:1/18:1/18:2(H))\"\n",
       " \"TG(18:1/18:1/18:2(H))\"\n",
       " \"TG(16:0/16:0/10:2(CH))\"\n",
       " \"SM(d18:0/24:3)\""
      ]
     },
     "execution_count": 176,
     "metadata": {},
     "output_type": "execute_result"
    }
   ],
   "source": [
    "dfClassification = fetch_properties(dfRef.StandardizedName);\n",
    "insertcols!(dfClassification, 1, :Metabolite => dfRef.Metabolite);\n",
    "first(dfClassification, 3)\n",
    "idxmissing = findall(ismissing.(dfClassification.main_class))\n",
    "dfRef.StandardizedName[idxmissing]"
   ]
  },
  {
   "cell_type": "code",
   "execution_count": null,
   "id": "1a941f0c-cdfa-46a9-a01d-a69819da375b",
   "metadata": {},
   "outputs": [],
   "source": []
  },
  {
   "cell_type": "markdown",
   "id": "8c95df7a-32b9-4346-933b-36b54008633e",
   "metadata": {},
   "source": [
    "We need to replace \"+pO_\" or \"+p_\" by \"/\", the PO type ceramides are protein bound ceramide [7].\n",
    "The ceramides \"CerG1\" are hexosylceramides and need to be replaced by \"HexCer\"[6]   \n",
    "The ceramides \"GlcCer\" are glucosylceramide.\n",
    "The \"OAHFA\"s are (O-acyl) ω-hydroxy fatty acids.\n",
    "\n",
    "At this stage, only *DMPE(16:0_22:6)* can be processed by [goslin](https://apps.lifs-tools.org/goslin/).   \n",
    "We will filter *PMe(16:0/18:1)* (phosphatidylmethanol) [5] and *ZyE(22:5)*.\n"
   ]
  },
  {
   "cell_type": "code",
   "execution_count": 33,
   "id": "af526f0b-1ed1-4ec3-b3e0-b7402c71fd86",
   "metadata": {},
   "outputs": [],
   "source": [
    "dfRef = leftjoin(dfRef, dfClassification, on = :Metabolite); size(dfRef)\n",
    "# filter\n",
    "deleteat!(dfRef, idxmissing[[2,3]]);"
   ]
  },
  {
   "cell_type": "markdown",
   "id": "e67d19d1-966b-4e5d-aa64-446b386766c3",
   "metadata": {
    "tags": []
   },
   "source": [
    "### Use GOSLIN"
   ]
  },
  {
   "cell_type": "code",
   "execution_count": 34,
   "id": "6497e62d-77d2-4be0-a7d9-bb206380ebac",
   "metadata": {},
   "outputs": [
    {
     "data": {
      "text/plain": [
       "RObject{StrSxp}\n",
       " [1] \"forcats\"   \"stringr\"   \"dplyr\"     \"purrr\"     \"readr\"     \"tidyr\"    \n",
       " [7] \"tibble\"    \"ggplot2\"   \"tidyverse\" \"rgoslin\"   \"stats\"     \"graphics\" \n",
       "[13] \"grDevices\" \"utils\"     \"datasets\"  \"methods\"   \"base\"     \n"
      ]
     },
     "execution_count": 34,
     "metadata": {},
     "output_type": "execute_result"
    }
   ],
   "source": [
    "R\"\"\"\n",
    "suppressMessages(library('rgoslin'))\n",
    "suppressMessages(library('tidyverse'));\n",
    "\"\"\""
   ]
  },
  {
   "cell_type": "code",
   "execution_count": 35,
   "id": "8853b75b-76de-4c47-b21c-d2100c2523c5",
   "metadata": {},
   "outputs": [],
   "source": [
    "@rput dfRef;"
   ]
  },
  {
   "cell_type": "code",
   "execution_count": 36,
   "id": "1c27c86d-c763-4c4c-95c8-6be19730a56a",
   "metadata": {
    "lines_to_next_cell": 2
   },
   "outputs": [
    {
     "name": "stdout",
     "output_type": "stream",
     "text": [
      "All valid."
     ]
    }
   ],
   "source": [
    "R\"\"\"\n",
    "# check validity\n",
    "dfRef$Valid <- suppressWarnings(sapply(dfRef$StandardizedName, isValidLipidName))\n",
    "if (sum(dfRef$Valid) == dim(dfRef)[1]) {\n",
    "    cat(\"All valid.\")\n",
    "} else {\n",
    "    print(\"Check invalid names.\")\n",
    "}\n",
    "\"\"\";"
   ]
  },
  {
   "cell_type": "code",
   "execution_count": 37,
   "id": "6fdc5a3f-58c4-4b1e-8b3d-1b55b3ddd733",
   "metadata": {},
   "outputs": [],
   "source": [
    "dfRef.Total_C = zeros(Int, size(dfRef,1));\n",
    "dfRef.Total_DB = zeros(Int, size(dfRef,1));\n",
    "dfRef.Class = repeat([\"NA\"], size(dfRef,1));"
   ]
  },
  {
   "cell_type": "code",
   "execution_count": 38,
   "id": "16f167dc-134e-4520-bb2d-0794a978fb43",
   "metadata": {},
   "outputs": [],
   "source": [
    "for i in 1:size(dfRef, 1)\n",
    "    @rput i;\n",
    "    R\"\"\"\n",
    "    #rsltGoslin <- as_tibble(parseLipidNames(dfRef$StandardizedName[i]))[, c(\"Original Name\", \"Total C\", \"Total DB\", \"Lipid Maps Main Class\")];\n",
    "    rsltGoslin <- as_tibble(parseLipidNames(dfRef$StandardizedName[i]))[, c(\"Original.Name\", \"Total.C\", \"Total.DB\", \"Lipid.Maps.Main.Class\")];\n",
    "    \"\"\"\n",
    "    @rget rsltGoslin\n",
    "    # dfRef.Total_C[i] = parse(Int, rsltGoslin.\"Total C\"[1])\n",
    "    # dfRef.Total_DB[i] = parse(Int, rsltGoslin.\"Total DB\"[1])\n",
    "    # dfRef.Class[i] = rsltGoslin.\"Lipid Maps Main Class\"[1]\n",
    "        \n",
    "    dfRef.Total_C[i] = rsltGoslin.\"Total_C\"[1]\n",
    "    dfRef.Total_DB[i] = rsltGoslin.\"Total_DB\"[1]\n",
    "    dfRef.Class[i] = rsltGoslin.\"Lipid_Maps_Main_Class\"[1]\n",
    "end"
   ]
  },
  {
   "cell_type": "code",
   "execution_count": 39,
   "id": "49cb43d0-f9be-49fe-bd2d-f4e4a7bedd58",
   "metadata": {},
   "outputs": [
    {
     "data": {
      "text/plain": [
       "22-element Vector{String}:\n",
       " \"Metabolite\"\n",
       " \"MetaboliteID\"\n",
       " \"StandardizedName\"\n",
       " \"Oxidized\"\n",
       " \"OH\"\n",
       " \"O\"\n",
       " \"O₂\"\n",
       " \"O₃\"\n",
       " \"O₄\"\n",
       " \"Plasmanyl\"\n",
       " \"Plasmalogen\"\n",
       " \"CHO\"\n",
       " \"Ke\"\n",
       " \"exactmass\"\n",
       " \"formula\"\n",
       " \"main_class\"\n",
       " \"refmet_name\"\n",
       " \"sub_class\"\n",
       " \"super_class\"\n",
       " \"Total_C\"\n",
       " \"Total_DB\"\n",
       " \"Class\""
      ]
     },
     "execution_count": 39,
     "metadata": {},
     "output_type": "execute_result"
    }
   ],
   "source": [
    "names(dfRef)"
   ]
  },
  {
   "cell_type": "markdown",
   "id": "517a7207-a11d-4d13-86aa-cc8571f31f0d",
   "metadata": {
    "tags": []
   },
   "source": [
    "#### Save metabolites reference dataset:"
   ]
  },
  {
   "cell_type": "code",
   "execution_count": 40,
   "id": "14e0e422-a09d-4788-b4c9-2b2512c12cac",
   "metadata": {},
   "outputs": [],
   "source": [
    "fileMetaboRef = joinpath(@__DIR__,\"..\",\"..\",\"data\",\"processed\",\"refMeta.csv\");\n",
    "dfRef |> CSV.write(fileMetaboRef);"
   ]
  },
  {
   "cell_type": "markdown",
   "id": "e022cd8c-f3c4-4245-999a-ecdeee64737f",
   "metadata": {},
   "source": [
    "## Extract Metabolites dataset "
   ]
  },
  {
   "cell_type": "code",
   "execution_count": 41,
   "id": "f5d58f47-eb45-4553-9a7d-32e1e86d3b17",
   "metadata": {
    "tags": []
   },
   "outputs": [],
   "source": [
    "dfMetabo = fetch_data(ST);"
   ]
  },
  {
   "cell_type": "code",
   "execution_count": 42,
   "id": "76ca78dd-0b4a-44cb-8955-a3aaae011a3e",
   "metadata": {},
   "outputs": [],
   "source": [
    "# rename sample ID with suffix\n",
    "vHeader = names(dfMetabo);\n",
    "vHeader[2:end] .= \"ID_\".*vHeader[2:end];\n",
    "rename!(dfMetabo, Symbol.(vHeader));"
   ]
  },
  {
   "cell_type": "code",
   "execution_count": 43,
   "id": "95e31fc5-66cb-449f-afe4-6e303e9853fa",
   "metadata": {},
   "outputs": [
    {
     "data": {
      "text/html": [
       "<div class=\"data-frame\"><p>5 rows × 52 columns (omitted printing of 45 columns)</p><table class=\"data-frame\"><thead><tr><th></th><th>Metabolite</th><th>ID_8358</th><th>ID_8363</th><th>ID_8370</th><th>ID_8371</th><th>ID_8373</th><th>ID_8376</th></tr><tr><th></th><th title=\"String\">String</th><th title=\"String\">String</th><th title=\"String\">String</th><th title=\"String\">String</th><th title=\"String\">String</th><th title=\"String\">String</th><th title=\"String\">String</th></tr></thead><tbody><tr><th>1</th><td>CE(18:1)</td><td>1005.004533</td><td>656.2196475</td><td>442.532242</td><td>835.7863174</td><td>694.9938797</td><td>1113.26766</td></tr><tr><th>2</th><td>CE(18:2)</td><td>120.5422615</td><td>81.57473155</td><td>59.37249758</td><td>95.26536816</td><td>111.2627008</td><td>104.0151326</td></tr><tr><th>3</th><td>CE(18:3)</td><td>207.5760181</td><td>103.0388756</td><td>91.39644092</td><td>147.2090585</td><td>134.3577342</td><td>163.0631881</td></tr><tr><th>4</th><td>CE(18:4)</td><td>185.1900835</td><td>114.8704705</td><td>102.3479244</td><td>214.2161794</td><td>105.0702351</td><td>210.1147451</td></tr><tr><th>5</th><td>CE(20:1)</td><td>27.12701689</td><td>2.961702936</td><td>4.237597992</td><td>31.33287865</td><td>7.637112491</td><td>17.99623889</td></tr></tbody></table></div>"
      ],
      "text/latex": [
       "\\begin{tabular}{r|cccccccc}\n",
       "\t& Metabolite & ID\\_8358 & ID\\_8363 & ID\\_8370 & ID\\_8371 & ID\\_8373 & ID\\_8376 & \\\\\n",
       "\t\\hline\n",
       "\t& String & String & String & String & String & String & String & \\\\\n",
       "\t\\hline\n",
       "\t1 & CE(18:1) & 1005.004533 & 656.2196475 & 442.532242 & 835.7863174 & 694.9938797 & 1113.26766 & $\\dots$ \\\\\n",
       "\t2 & CE(18:2) & 120.5422615 & 81.57473155 & 59.37249758 & 95.26536816 & 111.2627008 & 104.0151326 & $\\dots$ \\\\\n",
       "\t3 & CE(18:3) & 207.5760181 & 103.0388756 & 91.39644092 & 147.2090585 & 134.3577342 & 163.0631881 & $\\dots$ \\\\\n",
       "\t4 & CE(18:4) & 185.1900835 & 114.8704705 & 102.3479244 & 214.2161794 & 105.0702351 & 210.1147451 & $\\dots$ \\\\\n",
       "\t5 & CE(20:1) & 27.12701689 & 2.961702936 & 4.237597992 & 31.33287865 & 7.637112491 & 17.99623889 & $\\dots$ \\\\\n",
       "\\end{tabular}\n"
      ],
      "text/plain": [
       "\u001b[1m5×52 DataFrame\u001b[0m\n",
       "\u001b[1m Row \u001b[0m│\u001b[1m Metabolite \u001b[0m\u001b[1m ID_8358     \u001b[0m\u001b[1m ID_8363     \u001b[0m\u001b[1m ID_8370     \u001b[0m\u001b[1m ID_8371     \u001b[0m\u001b[1m ID_8373\u001b[0m ⋯\n",
       "\u001b[1m     \u001b[0m│\u001b[90m String     \u001b[0m\u001b[90m String      \u001b[0m\u001b[90m String      \u001b[0m\u001b[90m String      \u001b[0m\u001b[90m String      \u001b[0m\u001b[90m String \u001b[0m ⋯\n",
       "─────┼──────────────────────────────────────────────────────────────────────────\n",
       "   1 │ CE(18:1)    1005.004533  656.2196475  442.532242   835.7863174  694.993 ⋯\n",
       "   2 │ CE(18:2)    120.5422615  81.57473155  59.37249758  95.26536816  111.262\n",
       "   3 │ CE(18:3)    207.5760181  103.0388756  91.39644092  147.2090585  134.357\n",
       "   4 │ CE(18:4)    185.1900835  114.8704705  102.3479244  214.2161794  105.070\n",
       "   5 │ CE(20:1)    27.12701689  2.961702936  4.237597992  31.33287865  7.63711 ⋯\n",
       "\u001b[36m                                                              47 columns omitted\u001b[0m"
      ]
     },
     "execution_count": 43,
     "metadata": {},
     "output_type": "execute_result"
    }
   ],
   "source": [
    "first(dfMetabo, 5)"
   ]
  },
  {
   "cell_type": "markdown",
   "id": "6856e2b6-f005-4fe4-a19f-cd8b918db356",
   "metadata": {},
   "source": [
    "Replace `Metabolite` name information with `MetaboliteID` values:"
   ]
  },
  {
   "cell_type": "code",
   "execution_count": 44,
   "id": "5354fac1-f54f-464d-a909-1472fc33f1d1",
   "metadata": {},
   "outputs": [],
   "source": [
    "dfMetaboAll = leftjoin(select(dfRefOriginal, [:Metabolite, :MetaboliteID]), dfMetabo, on = [:Metabolite]);\n",
    "select!(dfMetaboAll, Not([:Metabolite]));"
   ]
  },
  {
   "cell_type": "markdown",
   "id": "5c053445-7142-4fd3-9832-b64efbc50e71",
   "metadata": {},
   "source": [
    "Select the samples that only present in the filtered clinical dataset, `dfIndividuals`:   "
   ]
  },
  {
   "cell_type": "code",
   "execution_count": 45,
   "id": "2c5dd09a-b493-49b1-bafa-d2ae74308d78",
   "metadata": {},
   "outputs": [
    {
     "data": {
      "text/plain": [
       "(590, 52)"
      ]
     },
     "execution_count": 45,
     "metadata": {},
     "output_type": "execute_result"
    }
   ],
   "source": [
    "select!(dfMetaboAll, vcat([:MetaboliteID], Symbol.(dfIndividuals.SampleID)));\n",
    "size(dfMetaboAll)"
   ]
  },
  {
   "cell_type": "markdown",
   "id": "8927c6f3-d297-4001-831b-a32eaba349c7",
   "metadata": {
    "tags": []
   },
   "source": [
    "#### Save metabolites levels dataset:"
   ]
  },
  {
   "cell_type": "code",
   "execution_count": 46,
   "id": "2e1c11ac-cfa2-47f3-94a1-00d1e5358104",
   "metadata": {},
   "outputs": [],
   "source": [
    "fileMetabo = joinpath(@__DIR__,\"..\",\"..\",\"data\",\"processed\",\"Metabo.csv\");\n",
    "dfMetaboAll = permutedims(dfMetaboAll, 1, :SampleID);\n",
    "dfMetaboAll |> CSV.write(fileMetabo);"
   ]
  },
  {
   "cell_type": "markdown",
   "id": "07a34dee-f00f-44fd-b3bf-fb2377e921d4",
   "metadata": {
    "lines_to_next_cell": 0,
    "tags": []
   },
   "source": [
    "## References\n",
    "\n",
    "[1] Koelmel, J. P., Ulmer, C. Z., Fogelson, S., Jones, C. M., Botha, H., Bangma, J. T., Guillette, T. C., Luus-Powell, W. J., Sara, J. R., Smit, W. J., Albert, K., Miller, H. A., Guillette, M. P., Olsen, B. C., Cochran, J. A., Garrett, T. J., Yost, R. A., & Bowden, J. A. (2019). Lipidomics for wildlife disease etiology and biomarker discovery: a case study of pansteatitis outbreak in South Africa. Metabolomics : Official journal of the Metabolomic Society, 15(3), 38. https://doi.org/10.1007/s11306-019-1490-9    \n",
    "\n",
    "[2] Kato, S., Shimizu, N., Hanzawa, Y., Otoki, Y., Ito, J., Kimura, F., Takekoshi, S., Sakaino, M., Sano, T., Eitsuka, T., Miyazawa, T., & Nakagawa, K. (2018). Determination of triacylglycerol oxidation mechanisms in canola oil using liquid chromatography-tandem mass spectrometry. NPJ science of food, 2, 1. https://doi.org/10.1038/s41538-017-0009-x    \n",
    "\n",
    "[3] Koelmel, J. P., Ulmer, C. Z., Jones, C. M., Yost, R. A., & Bowden, J. A. (2017). Common cases of improper lipid annotation using high-resolution tandem mass spectrometry data and corresponding limitations in biological interpretation. Biochimica et biophysica acta. Molecular and cell biology of lipids, 1862(8), 766–770. https://doi.org/10.1016/j.bbalip.2017.02.016    \n",
    "\n",
    "[4] Riewe, D., Wiebach, J., & Altmann, T. (2017). Structure Annotation and Quantification of Wheat Seed Oxidized Lipids by High-Resolution LC-MS/MS. Plant physiology, 175(2), 600–618. https://doi.org/10.1104/pp.17.00470    \n",
    "\n",
    "[5] Koelmel, J. P., Jones, C. M., Ulmer, C. Z., Garrett, T. J., Yost, R. A., Schock, T. B., & Bowden, J. A. (2018). Examining heat treatment for stabilization of the lipidome. Bioanalysis, 10(5), 291–305. https://doi.org/10.4155/bio-2017-0209 \n",
    "\n",
    "[6] Muhammad Z. Chauhan, Paul H. Phillips, Joseph G. Chacko, David B. Warner, Daniel Pelaez, Sanjoy K. Bhattacharya,\n",
    "Temporal Alterations of Sphingolipids in Optic Nerves After Indirect Traumatic Optic Neuropathy, Ophthalmology Science, Volume 3, Issue 1, 2023, 100217, ISSN 2666-9145, https://doi.org/10.1016/j.xops.2022.100217.\n",
    "\n",
    "[7] Madoka Suzuki, Yusuke Ohno, Akio Kihara, Whole picture of human stratum corneum ceramides, including the chain-length diversity of long-chain bases, Journal of Lipid Research, Volume 63, Issue 7, 2022, 100235, ISSN 0022-2275, https://doi.org/10.1016/j.jlr.2022.100235.\n"
   ]
  },
  {
   "cell_type": "code",
   "execution_count": 47,
   "id": "a8bca4f0-77a2-475a-a262-465f958be215",
   "metadata": {
    "lines_to_next_cell": 2
   },
   "outputs": [
    {
     "data": {
      "text/html": [
       "<div class=\"data-frame\"><p>10 rows × 2 columns</p><table class=\"data-frame\"><thead><tr><th></th><th>Clinical Features</th><th>Count/ mean(SD)</th></tr><tr><th></th><th title=\"Any\">Any</th><th title=\"Any\">Any</th></tr></thead><tbody><tr><th>1</th><td>GroupStatus</td><td> </td></tr><tr><th>2</th><td>0</td><td>21</td></tr><tr><th>3</th><td>1</td><td>30</td></tr><tr><th>4</th><td>Gender</td><td> </td></tr><tr><th>5</th><td>F</td><td>23</td></tr><tr><th>6</th><td>M</td><td>28</td></tr><tr><th>7</th><td>Annuli</td><td>7.76(2.96)</td></tr><tr><th>8</th><td>Age</td><td>8.76(2.96)</td></tr><tr><th>9</th><td>WEIGHT (KG)</td><td>1.64(0.31)</td></tr><tr><th>10</th><td>LENGTH (CM)</td><td>41.98(2.61)</td></tr></tbody></table></div>"
      ],
      "text/latex": [
       "\\begin{tabular}{r|cc}\n",
       "\t& Clinical Features & Count/ mean(SD)\\\\\n",
       "\t\\hline\n",
       "\t& Any & Any\\\\\n",
       "\t\\hline\n",
       "\t1 & GroupStatus &   \\\\\n",
       "\t2 & 0 & 21 \\\\\n",
       "\t3 & 1 & 30 \\\\\n",
       "\t4 & Gender &   \\\\\n",
       "\t5 & F & 23 \\\\\n",
       "\t6 & M & 28 \\\\\n",
       "\t7 & Annuli & 7.76(2.96) \\\\\n",
       "\t8 & Age & 8.76(2.96) \\\\\n",
       "\t9 & WEIGHT (KG) & 1.64(0.31) \\\\\n",
       "\t10 & LENGTH (CM) & 41.98(2.61) \\\\\n",
       "\\end{tabular}\n"
      ],
      "text/plain": [
       "\u001b[1m10×2 DataFrame\u001b[0m\n",
       "\u001b[1m Row \u001b[0m│\u001b[1m Clinical Features \u001b[0m\u001b[1m Count/ mean(SD) \u001b[0m\n",
       "\u001b[1m     \u001b[0m│\u001b[90m Any               \u001b[0m\u001b[90m Any             \u001b[0m\n",
       "─────┼────────────────────────────────────\n",
       "   1 │ GroupStatus\n",
       "   2 │ 0                  21\n",
       "   3 │ 1                  30\n",
       "   4 │ Gender\n",
       "   5 │ F                  23\n",
       "   6 │ M                  28\n",
       "   7 │ Annuli             7.76(2.96)\n",
       "   8 │ Age                8.76(2.96)\n",
       "   9 │ WEIGHT (KG)        1.64(0.31)\n",
       "  10 │ LENGTH (CM)        41.98(2.61)"
      ]
     },
     "execution_count": 47,
     "metadata": {},
     "output_type": "execute_result"
    }
   ],
   "source": [
    " dfIndividuals =  fetch_samples(ST);\n",
    "\n",
    "    # dfIndividuals = ifelse.(dfIndividuals .== \"-\", \"0\", dfIndividuals)\n",
    "    dfIndividuals = ifelse.(dfIndividuals .== \"-\", missing, dfIndividuals);\n",
    "    \n",
    "    select!(dfIndividuals, Symbol.([\"Sample ID\",\n",
    "                                \"Group\",\n",
    "                                \"Gender\",\n",
    "                                \"Annuli\",\n",
    "                                \"Age\",\n",
    "                                \"WEIGHT (KG)\",\n",
    "                                \"LENGTH (CM)\",\n",
    "    ]));\n",
    "    \n",
    "    # filter complete cases\n",
    "    idxComplete = findall(completecases(dfIndividuals))\n",
    "    dfIndividuals = dfIndividuals[idxComplete, :]\n",
    "    \n",
    "    insertcols!(dfIndividuals, 3, :GroupStatus => occursin.(\"D\", dfIndividuals.Group));\n",
    "    \n",
    "    # Categorical Variables\n",
    "    catVar = [\"GroupStatus\", \"Gender\"]\n",
    "    vDFcat = Vector{DataFrame}(undef, length(catVar));\n",
    "    \n",
    "    for i in 1:length(catVar)\n",
    "        dfCat = combine(groupby(dfIndividuals, [Symbol(catVar[i])]), nrow => :Count)\n",
    "        sort!(dfCat, [Symbol(catVar[i])]) \n",
    "        dfCat = DataFrame(vcat([names(dfCat)[1] \" \"], Matrix(dfCat)), [\"Clinical Features\", \"Count/ mean(SD)\"])\n",
    "        vDFcat[i] = dfCat \n",
    "    end\n",
    "    \n",
    "\n",
    "\n",
    "    # Continuous Variables\n",
    "    contVar = [\"Annuli\", \"Age\", \"WEIGHT (KG)\", \"LENGTH (CM)\"]\n",
    "    vDFcont = Vector{DataFrame}(undef, length(contVar));\n",
    "   \n",
    "\n",
    "\n",
    " \n",
    "    for i in 1:length(contVar)\n",
    "    # i = 1\n",
    "        # calculate mean\n",
    "        vVar = dfIndividuals[:,Symbol(contVar[i])];\n",
    "        idxNotMiss = findall(.!ismissing.(vVar));\n",
    "\n",
    "        vVar = parse.(Float32, string.(vVar[idxNotMiss]))\n",
    "\n",
    "        myMean = vVar |> mean |> x->round(x, digits = 2)\n",
    "        # calculate SD\n",
    "        myStd = vVar |> std |> x->round(x, digits = 2)\n",
    "    \n",
    "        dfCont  = DataFrame([contVar[i] string(myMean,\"(\", myStd, \")\")], [\"Clinical Features\", \"Count/ mean(SD)\"])\n",
    "        vDFcont[i] = dfCont \n",
    "    end\n",
    "    vDF = vcat(vDFcat, vDFcont)\n",
    "    \n",
    "    dfDem = reduce(vcat, vDF)"
   ]
  },
  {
   "cell_type": "code",
   "execution_count": 48,
   "id": "8a300606-4736-43ef-8797-e90eecacfd91",
   "metadata": {},
   "outputs": [
    {
     "data": {
      "text/plain": [
       "30-element Vector{Int64}:\n",
       "  1\n",
       "  2\n",
       "  3\n",
       "  4\n",
       "  5\n",
       "  6\n",
       "  7\n",
       "  8\n",
       "  9\n",
       " 10\n",
       " 11\n",
       " 12\n",
       " 13\n",
       "  ⋮\n",
       " 27\n",
       " 28\n",
       " 29\n",
       " 30\n",
       " 31\n",
       " 32\n",
       " 33\n",
       " 34\n",
       " 35\n",
       " 36\n",
       " 37\n",
       " 38"
      ]
     },
     "execution_count": 48,
     "metadata": {},
     "output_type": "execute_result"
    }
   ],
   "source": [
    "findall(occursin.(\"D\", dfIndividuals.Group)) "
   ]
  },
  {
   "cell_type": "code",
   "execution_count": null,
   "id": "448661ce-4b7c-447a-8991-5d7e4968371b",
   "metadata": {},
   "outputs": [],
   "source": []
  }
 ],
 "metadata": {
  "jupytext": {
   "encoding": "# -*- coding: utf-8 -*-",
   "formats": "ipynb,jl:light"
  },
  "kernelspec": {
   "display_name": "Julia 1.11.1",
   "language": "julia",
   "name": "julia-1.11"
  },
  "language_info": {
   "file_extension": ".jl",
   "mimetype": "application/julia",
   "name": "julia",
   "version": "1.11.1"
  }
 },
 "nbformat": 4,
 "nbformat_minor": 5
}
