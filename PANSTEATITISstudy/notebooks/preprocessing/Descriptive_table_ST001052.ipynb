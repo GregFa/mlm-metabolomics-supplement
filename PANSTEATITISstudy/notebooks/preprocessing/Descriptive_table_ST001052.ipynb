{
 "cells": [
  {
   "cell_type": "markdown",
   "metadata": {},
   "source": [
    "# Read Data\n",
    "\n"
   ]
  },
  {
   "cell_type": "code",
   "execution_count": null,
   "metadata": {},
   "outputs": [],
   "source": [
    "library(tidyverse)\n",
    "library(gtsummary)\n",
    "\n",
    "df <- read_csv(\"~/git/PANSTEATITISstudyST001052/data/processed/ST001052_ClinicalCovariates.csv\")\n"
   ]
  },
  {
   "cell_type": "markdown",
   "metadata": {},
   "source": [
    "# Description of the data\n",
    "\n"
   ]
  },
  {
   "cell_type": "code",
   "execution_count": null,
   "metadata": {},
   "outputs": [],
   "source": [
    "df %>% select(-c(SampleID, Annuli)) %>% \n",
    "  tbl_summary(by = Status, \n",
    "              statistic = list(all_continuous() ~ \"{mean} ({sd})\"),\n",
    "              type = list(Age ~ \"continuous\", Histological_Score ~ \"continuous\")) %>% \n",
    "  add_p() %>% add_overall()\n"
   ]
  },
  {
   "cell_type": "markdown",
   "metadata": {},
   "source": [
    "\n",
    "\n"
   ]
  }
 ],
 "metadata": {
  "anaconda-cloud": "",
  "kernelspec": {
   "display_name": "R",
   "langauge": "R",
   "name": "ir"
  },
  "language_info": {
   "codemirror_mode": "r",
   "file_extension": ".r",
   "mimetype": "text/x-r-source",
   "name": "R",
   "pygments_lexer": "r",
   "version": "3.4.1"
  }
 },
 "nbformat": 4,
 "nbformat_minor": 1
}
