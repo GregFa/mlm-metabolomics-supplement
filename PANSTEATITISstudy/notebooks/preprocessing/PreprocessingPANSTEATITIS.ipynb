{
 "cells": [
  {
   "cell_type": "markdown",
   "id": "5fc944cf",
   "metadata": {},
   "source": [
    "# Preprocessing Step\n",
    "---"
   ]
  },
  {
   "cell_type": "markdown",
   "id": "832893df",
   "metadata": {},
   "source": [
    "This notebook carried out the preprocessing steps for the metabolomics data:    \n",
    "- Imputation\n",
    "- Normalization\n",
    "- Log2 Transformation"
   ]
  },
  {
   "cell_type": "markdown",
   "id": "835a8e70",
   "metadata": {},
   "source": [
    "## Input"
   ]
  },
  {
   "cell_type": "markdown",
   "id": "488c521f",
   "metadata": {},
   "source": [
    "### Libraries"
   ]
  },
  {
   "cell_type": "code",
   "execution_count": 1,
   "id": "2fae8aed",
   "metadata": {},
   "outputs": [],
   "source": [
    "# To use RCall for the first time, one needs to \n",
    "# the location of the R home directory.\n",
    "firstTimeRCall = false\n",
    "if firstTimeRCall\n",
    "    using Pkg\n",
    "    io = IOBuffer()\n",
    "    versioninfo(io)\n",
    "    if occursin(\"Windows\", String(take!(io)))\n",
    "        ENV[\"R_HOME\"] = \"C:/PROGRA~1/R/R-43~1.1\" # from R.home() in R\n",
    "    else \n",
    "        ENV[\"R_HOME\"] = \"/usr/lib/R\"\n",
    "\n",
    "    end\n",
    "    Pkg.build(\"RCall\")\n",
    "end      "
   ]
  },
  {
   "cell_type": "code",
   "execution_count": 2,
   "id": "9268236c-9f30-4c19-8e5f-4ca8483dfce1",
   "metadata": {},
   "outputs": [],
   "source": [
    "using CSV, DataFrames, Missings#, CategoricalArrays\n",
    "using StatsBase, Statistics#, MultivariateStats\n",
    "using FreqTables#, Plots, StatsPlots\n",
    "using RCall "
   ]
  },
  {
   "cell_type": "markdown",
   "id": "3f9bbd93",
   "metadata": {},
   "source": [
    "### Ext. Functions"
   ]
  },
  {
   "cell_type": "code",
   "execution_count": 3,
   "id": "134fcd8d",
   "metadata": {},
   "outputs": [],
   "source": [
    "include(joinpath(@__DIR__,\"..\",\"..\",\"src\",\"preprocessing.jl\" ));\n",
    "include(joinpath(@__DIR__,\"..\",\"..\",\"src\",\"wrangling_utils.jl\" ));"
   ]
  },
  {
   "cell_type": "markdown",
   "id": "73a0cc31",
   "metadata": {},
   "source": [
    "### Load data"
   ]
  },
  {
   "cell_type": "markdown",
   "id": "3faa8c88-9838-49b0-85cf-c4b94e14747f",
   "metadata": {},
   "source": [
    "#### Reference file"
   ]
  },
  {
   "cell_type": "code",
   "execution_count": 4,
   "id": "d433498a-f918-4c05-a86e-f4497118fd9f",
   "metadata": {},
   "outputs": [
    {
     "name": "stdout",
     "output_type": "stream",
     "text": [
      "The dataframe contains 588 rows and 22 columns\n"
     ]
    }
   ],
   "source": [
    "# Get reference metabolite file\n",
    "fileRef = joinpath(@__DIR__,\"..\",\"..\",\"data\",\"processed\",\"refMeta.csv\");\n",
    "dfRef = CSV.read(fileRef, DataFrame);\n",
    "print_df_size(dfRef)"
   ]
  },
  {
   "cell_type": "markdown",
   "id": "eac6d740-d833-4e97-b035-497fe0fcb7f4",
   "metadata": {},
   "source": [
    "#### Metabolite signatures"
   ]
  },
  {
   "cell_type": "code",
   "execution_count": 5,
   "id": "58bd11e8-da37-4a6a-82b3-6fedd0a06814",
   "metadata": {},
   "outputs": [
    {
     "name": "stdout",
     "output_type": "stream",
     "text": [
      "The negative metabolite dataset contains 44 samples and 590 metabolites.\n"
     ]
    }
   ],
   "source": [
    "# Get negative metabolite file\n",
    "fileMetabo = realpath(joinpath(@__DIR__,\"..\",\"..\",\"data\",\"processed\",\"Metabo.csv\"));\n",
    "dfMetabo = CSV.read(fileMetabo, DataFrame);\n",
    "println(\"The negative metabolite dataset contains $(size(dfMetabo, 1)) samples and $(size(dfMetabo, 2)-1) metabolites.\")"
   ]
  },
  {
   "cell_type": "markdown",
   "id": "1f4dd0bb-da79-4328-ab21-647f2e3638cf",
   "metadata": {},
   "source": [
    "## Imputation"
   ]
  },
  {
   "cell_type": "markdown",
   "id": "807f3640-9315-43a5-a57e-eb7e1122ee18",
   "metadata": {},
   "source": [
    "Check if imputation is needed:"
   ]
  },
  {
   "cell_type": "code",
   "execution_count": 6,
   "id": "fd6c9e87-2969-4f97-b5c9-375fbce866c9",
   "metadata": {},
   "outputs": [
    {
     "name": "stdout",
     "output_type": "stream",
     "text": [
      "No missing data.\n"
     ]
    }
   ],
   "source": [
    "summary_variables_missing(dfMetabo)"
   ]
  },
  {
   "cell_type": "markdown",
   "id": "8f0b21e6-4a9e-4ec3-bb1e-568e56978da0",
   "metadata": {},
   "source": [
    "## Normalization\n",
    "----"
   ]
  },
  {
   "cell_type": "markdown",
   "id": "01952909-8f5c-4780-9983-0e391e4a746b",
   "metadata": {},
   "source": [
    "### Probabilistic Quotient Normalization\n",
    "\n",
    "> 1. Perform an integral normalization (typically a constant\n",
    "integral of 100 is used).\n",
    "> 2. Choose/calculate the reference spectrum (the best approach\n",
    "is the calculation of the median spectrum of control samples).\n",
    "> 3. Calculate the quotients of all variables of interest of the test\n",
    "spectrum with those of the reference spectrum.\n",
    "> 4. Calculate the median of these quotients.\n",
    "> 5. Divide all variables of the test spectrum by this median.\n"
   ]
  },
  {
   "cell_type": "code",
   "execution_count": 7,
   "id": "d524d1e9-e700-46a6-8aee-3748ddc427c3",
   "metadata": {},
   "outputs": [
    {
     "data": {
      "text/html": [
       "<div><div style = \"float: left;\"><span>3×591 DataFrame</span></div><div style = \"float: right;\"><span style = \"font-style: italic;\">491 columns omitted</span></div><div style = \"clear: both;\"></div></div><div class = \"data-frame\" style = \"overflow-x: scroll;\"><table class = \"data-frame\" style = \"margin-bottom: 6px;\"><thead><tr class = \"header\"><th class = \"rowNumber\" style = \"font-weight: bold; text-align: right;\">Row</th><th style = \"text-align: left;\">SampleID</th><th style = \"text-align: left;\">MT10001</th><th style = \"text-align: left;\">MT10002</th><th style = \"text-align: left;\">MT10003</th><th style = \"text-align: left;\">MT10004</th><th style = \"text-align: left;\">MT10005</th><th style = \"text-align: left;\">MT10006</th><th style = \"text-align: left;\">MT10007</th><th style = \"text-align: left;\">MT10008</th><th style = \"text-align: left;\">MT10009</th><th style = \"text-align: left;\">MT10010</th><th style = \"text-align: left;\">MT10011</th><th style = \"text-align: left;\">MT10012</th><th style = \"text-align: left;\">MT10013</th><th style = \"text-align: left;\">MT10014</th><th style = \"text-align: left;\">MT10015</th><th style = \"text-align: left;\">MT10016</th><th style = \"text-align: left;\">MT10017</th><th style = \"text-align: left;\">MT10018</th><th style = \"text-align: left;\">MT10019</th><th style = \"text-align: left;\">MT10020</th><th style = \"text-align: left;\">MT10021</th><th style = \"text-align: left;\">MT10022</th><th style = \"text-align: left;\">MT10023</th><th style = \"text-align: left;\">MT10024</th><th style = \"text-align: left;\">MT10025</th><th style = \"text-align: left;\">MT10026</th><th style = \"text-align: left;\">MT10027</th><th style = \"text-align: left;\">MT10028</th><th style = \"text-align: left;\">MT10029</th><th style = \"text-align: left;\">MT10030</th><th style = \"text-align: left;\">MT10031</th><th style = \"text-align: left;\">MT10032</th><th style = \"text-align: left;\">MT10033</th><th style = \"text-align: left;\">MT10034</th><th style = \"text-align: left;\">MT10035</th><th style = \"text-align: left;\">MT10036</th><th style = \"text-align: left;\">MT10037</th><th style = \"text-align: left;\">MT10038</th><th style = \"text-align: left;\">MT10039</th><th style = \"text-align: left;\">MT10040</th><th style = \"text-align: left;\">MT10041</th><th style = \"text-align: left;\">MT10042</th><th style = \"text-align: left;\">MT10043</th><th style = \"text-align: left;\">MT10044</th><th style = \"text-align: left;\">MT10045</th><th style = \"text-align: left;\">MT10046</th><th style = \"text-align: left;\">MT10047</th><th style = \"text-align: left;\">MT10048</th><th style = \"text-align: left;\">MT10049</th><th style = \"text-align: left;\">MT10050</th><th style = \"text-align: left;\">MT10051</th><th style = \"text-align: left;\">MT10052</th><th style = \"text-align: left;\">MT10053</th><th style = \"text-align: left;\">MT10054</th><th style = \"text-align: left;\">MT10055</th><th style = \"text-align: left;\">MT10056</th><th style = \"text-align: left;\">MT10057</th><th style = \"text-align: left;\">MT10058</th><th style = \"text-align: left;\">MT10059</th><th style = \"text-align: left;\">MT10060</th><th style = \"text-align: left;\">MT10061</th><th style = \"text-align: left;\">MT10062</th><th style = \"text-align: left;\">MT10063</th><th style = \"text-align: left;\">MT10064</th><th style = \"text-align: left;\">MT10065</th><th style = \"text-align: left;\">MT10066</th><th style = \"text-align: left;\">MT10067</th><th style = \"text-align: left;\">MT10068</th><th style = \"text-align: left;\">MT10069</th><th style = \"text-align: left;\">MT10070</th><th style = \"text-align: left;\">MT10071</th><th style = \"text-align: left;\">MT10072</th><th style = \"text-align: left;\">MT10073</th><th style = \"text-align: left;\">MT10074</th><th style = \"text-align: left;\">MT10075</th><th style = \"text-align: left;\">MT10076</th><th style = \"text-align: left;\">MT10077</th><th style = \"text-align: left;\">MT10078</th><th style = \"text-align: left;\">MT10079</th><th style = \"text-align: left;\">MT10080</th><th style = \"text-align: left;\">MT10081</th><th style = \"text-align: left;\">MT10082</th><th style = \"text-align: left;\">MT10083</th><th style = \"text-align: left;\">MT10084</th><th style = \"text-align: left;\">MT10085</th><th style = \"text-align: left;\">MT10086</th><th style = \"text-align: left;\">MT10087</th><th style = \"text-align: left;\">MT10088</th><th style = \"text-align: left;\">MT10089</th><th style = \"text-align: left;\">MT10090</th><th style = \"text-align: left;\">MT10091</th><th style = \"text-align: left;\">MT10092</th><th style = \"text-align: left;\">MT10093</th><th style = \"text-align: left;\">MT10094</th><th style = \"text-align: left;\">MT10095</th><th style = \"text-align: left;\">MT10096</th><th style = \"text-align: left;\">MT10097</th><th style = \"text-align: left;\">MT10098</th><th style = \"text-align: left;\">MT10099</th><th style = \"text-align: right;\">&ctdot;</th></tr><tr class = \"subheader headerLastRow\"><th class = \"rowNumber\" style = \"font-weight: bold; text-align: right;\"></th><th title = \"String7\" style = \"text-align: left;\">String7</th><th title = \"Float64\" style = \"text-align: left;\">Float64</th><th title = \"Float64\" style = \"text-align: left;\">Float64</th><th title = \"Float64\" style = \"text-align: left;\">Float64</th><th title = \"Float64\" style = \"text-align: left;\">Float64</th><th title = \"Float64\" style = \"text-align: left;\">Float64</th><th title = \"Float64\" style = \"text-align: left;\">Float64</th><th title = \"Float64\" style = \"text-align: left;\">Float64</th><th title = \"Float64\" style = \"text-align: left;\">Float64</th><th title = \"Float64\" style = \"text-align: left;\">Float64</th><th title = \"Float64\" style = \"text-align: left;\">Float64</th><th title = \"Float64\" style = \"text-align: left;\">Float64</th><th title = \"Float64\" style = \"text-align: left;\">Float64</th><th title = \"Float64\" style = \"text-align: left;\">Float64</th><th title = \"Float64\" style = \"text-align: left;\">Float64</th><th title = \"Float64\" style = \"text-align: left;\">Float64</th><th title = \"Float64\" style = \"text-align: left;\">Float64</th><th title = \"Float64\" style = \"text-align: left;\">Float64</th><th title = \"Float64\" style = \"text-align: left;\">Float64</th><th title = \"Float64\" style = \"text-align: left;\">Float64</th><th title = \"Float64\" style = \"text-align: left;\">Float64</th><th title = \"Float64\" style = \"text-align: left;\">Float64</th><th title = \"Float64\" style = \"text-align: left;\">Float64</th><th title = \"Float64\" style = \"text-align: left;\">Float64</th><th title = \"Float64\" style = \"text-align: left;\">Float64</th><th title = \"Float64\" style = \"text-align: left;\">Float64</th><th title = \"Float64\" style = \"text-align: left;\">Float64</th><th title = \"Float64\" style = \"text-align: left;\">Float64</th><th title = \"Float64\" style = \"text-align: left;\">Float64</th><th title = \"Float64\" style = \"text-align: left;\">Float64</th><th title = \"Float64\" style = \"text-align: left;\">Float64</th><th title = \"Float64\" style = \"text-align: left;\">Float64</th><th title = \"Float64\" style = \"text-align: left;\">Float64</th><th title = \"Float64\" style = \"text-align: left;\">Float64</th><th title = \"Float64\" style = \"text-align: left;\">Float64</th><th title = \"Float64\" style = \"text-align: left;\">Float64</th><th title = \"Float64\" style = \"text-align: left;\">Float64</th><th title = \"Float64\" style = \"text-align: left;\">Float64</th><th title = \"Float64\" style = \"text-align: left;\">Float64</th><th title = \"Float64\" style = \"text-align: left;\">Float64</th><th title = \"Float64\" style = \"text-align: left;\">Float64</th><th title = \"Float64\" style = \"text-align: left;\">Float64</th><th title = \"Float64\" style = \"text-align: left;\">Float64</th><th title = \"Float64\" style = \"text-align: left;\">Float64</th><th title = \"Float64\" style = \"text-align: left;\">Float64</th><th title = \"Float64\" style = \"text-align: left;\">Float64</th><th title = \"Float64\" style = \"text-align: left;\">Float64</th><th title = \"Float64\" style = \"text-align: left;\">Float64</th><th title = \"Float64\" style = \"text-align: left;\">Float64</th><th title = \"Float64\" style = \"text-align: left;\">Float64</th><th title = \"Float64\" style = \"text-align: left;\">Float64</th><th title = \"Float64\" style = \"text-align: left;\">Float64</th><th title = \"Float64\" style = \"text-align: left;\">Float64</th><th title = \"Float64\" style = \"text-align: left;\">Float64</th><th title = \"Float64\" style = \"text-align: left;\">Float64</th><th title = \"Float64\" style = \"text-align: left;\">Float64</th><th title = \"Float64\" style = \"text-align: left;\">Float64</th><th title = \"Float64\" style = \"text-align: left;\">Float64</th><th title = \"Float64\" style = \"text-align: left;\">Float64</th><th title = \"Float64\" style = \"text-align: left;\">Float64</th><th title = \"Float64\" style = \"text-align: left;\">Float64</th><th title = \"Float64\" style = \"text-align: left;\">Float64</th><th title = \"Float64\" style = \"text-align: left;\">Float64</th><th title = \"Float64\" style = \"text-align: left;\">Float64</th><th title = \"Float64\" style = \"text-align: left;\">Float64</th><th title = \"Float64\" style = \"text-align: left;\">Float64</th><th title = \"Float64\" style = \"text-align: left;\">Float64</th><th title = \"Float64\" style = \"text-align: left;\">Float64</th><th title = \"Float64\" style = \"text-align: left;\">Float64</th><th title = \"Float64\" style = \"text-align: left;\">Float64</th><th title = \"Float64\" style = \"text-align: left;\">Float64</th><th title = \"Float64\" style = \"text-align: left;\">Float64</th><th title = \"Float64\" style = \"text-align: left;\">Float64</th><th title = \"Float64\" style = \"text-align: left;\">Float64</th><th title = \"Float64\" style = \"text-align: left;\">Float64</th><th title = \"Float64\" style = \"text-align: left;\">Float64</th><th title = \"Float64\" style = \"text-align: left;\">Float64</th><th title = \"Float64\" style = \"text-align: left;\">Float64</th><th title = \"Float64\" style = \"text-align: left;\">Float64</th><th title = \"Float64\" style = \"text-align: left;\">Float64</th><th title = \"Float64\" style = \"text-align: left;\">Float64</th><th title = \"Float64\" style = \"text-align: left;\">Float64</th><th title = \"Float64\" style = \"text-align: left;\">Float64</th><th title = \"Float64\" style = \"text-align: left;\">Float64</th><th title = \"Float64\" style = \"text-align: left;\">Float64</th><th title = \"Float64\" style = \"text-align: left;\">Float64</th><th title = \"Float64\" style = \"text-align: left;\">Float64</th><th title = \"Float64\" style = \"text-align: left;\">Float64</th><th title = \"Float64\" style = \"text-align: left;\">Float64</th><th title = \"Float64\" style = \"text-align: left;\">Float64</th><th title = \"Float64\" style = \"text-align: left;\">Float64</th><th title = \"Float64\" style = \"text-align: left;\">Float64</th><th title = \"Float64\" style = \"text-align: left;\">Float64</th><th title = \"Float64\" style = \"text-align: left;\">Float64</th><th title = \"Float64\" style = \"text-align: left;\">Float64</th><th title = \"Float64\" style = \"text-align: left;\">Float64</th><th title = \"Float64\" style = \"text-align: left;\">Float64</th><th title = \"Float64\" style = \"text-align: left;\">Float64</th><th title = \"Float64\" style = \"text-align: left;\">Float64</th><th title = \"Float64\" style = \"text-align: left;\">Float64</th><th title = \"Float64\" style = \"text-align: right;\">&ctdot;</th></tr></thead><tbody><tr><td class = \"rowNumber\" style = \"font-weight: bold; text-align: right;\">1</td><td style = \"text-align: left;\">ID_8358</td><td style = \"text-align: right;\">0.793441</td><td style = \"text-align: right;\">0.0951669</td><td style = \"text-align: right;\">0.163879</td><td style = \"text-align: right;\">0.146206</td><td style = \"text-align: right;\">0.0214165</td><td style = \"text-align: right;\">0.062254</td><td style = \"text-align: right;\">1.67761</td><td style = \"text-align: right;\">2.82745</td><td style = \"text-align: right;\">0.0545409</td><td style = \"text-align: right;\">0.996084</td><td style = \"text-align: right;\">4.6498</td><td style = \"text-align: right;\">24.1363</td><td style = \"text-align: right;\">4.006</td><td style = \"text-align: right;\">0.261452</td><td style = \"text-align: right;\">0.103193</td><td style = \"text-align: right;\">0.00152543</td><td style = \"text-align: right;\">0.00107526</td><td style = \"text-align: right;\">0.000104838</td><td style = \"text-align: right;\">0.000554895</td><td style = \"text-align: right;\">0.00239327</td><td style = \"text-align: right;\">0.000941218</td><td style = \"text-align: right;\">0.00120741</td><td style = \"text-align: right;\">0.000656805</td><td style = \"text-align: right;\">0.00190989</td><td style = \"text-align: right;\">0.000618871</td><td style = \"text-align: right;\">0.00209425</td><td style = \"text-align: right;\">0.00217083</td><td style = \"text-align: right;\">0.00278919</td><td style = \"text-align: right;\">0.0211453</td><td style = \"text-align: right;\">0.118785</td><td style = \"text-align: right;\">0.00563245</td><td style = \"text-align: right;\">0.0102638</td><td style = \"text-align: right;\">0.0113941</td><td style = \"text-align: right;\">0.00385829</td><td style = \"text-align: right;\">0.00194752</td><td style = \"text-align: right;\">0.0070203</td><td style = \"text-align: right;\">0.0310959</td><td style = \"text-align: right;\">0.00540947</td><td style = \"text-align: right;\">0.00243924</td><td style = \"text-align: right;\">0.00204345</td><td style = \"text-align: right;\">0.00132745</td><td style = \"text-align: right;\">0.00308111</td><td style = \"text-align: right;\">0.000340115</td><td style = \"text-align: right;\">0.000882698</td><td style = \"text-align: right;\">0.000616702</td><td style = \"text-align: right;\">0.00355461</td><td style = \"text-align: right;\">0.0</td><td style = \"text-align: right;\">0.0486789</td><td style = \"text-align: right;\">0.0310049</td><td style = \"text-align: right;\">0.00118868</td><td style = \"text-align: right;\">0.000133028</td><td style = \"text-align: right;\">0.00280968</td><td style = \"text-align: right;\">0.000751927</td><td style = \"text-align: right;\">0.0133837</td><td style = \"text-align: right;\">0.0198213</td><td style = \"text-align: right;\">0.000496345</td><td style = \"text-align: right;\">0.000373054</td><td style = \"text-align: right;\">0.0</td><td style = \"text-align: right;\">0.0</td><td style = \"text-align: right;\">0.000371288</td><td style = \"text-align: right;\">0.00140204</td><td style = \"text-align: right;\">0.00777933</td><td style = \"text-align: right;\">0.00530552</td><td style = \"text-align: right;\">0.0192814</td><td style = \"text-align: right;\">0.0285357</td><td style = \"text-align: right;\">0.000291656</td><td style = \"text-align: right;\">0.000237709</td><td style = \"text-align: right;\">0.000160532</td><td style = \"text-align: right;\">0.000624738</td><td style = \"text-align: right;\">0.000289787</td><td style = \"text-align: right;\">0.000408772</td><td style = \"text-align: right;\">0.00040761</td><td style = \"text-align: right;\">0.000179594</td><td style = \"text-align: right;\">0.000408941</td><td style = \"text-align: right;\">0.000859732</td><td style = \"text-align: right;\">0.000592762</td><td style = \"text-align: right;\">0.000108277</td><td style = \"text-align: right;\">9.0808e-5</td><td style = \"text-align: right;\">0.000362065</td><td style = \"text-align: right;\">0.000601366</td><td style = \"text-align: right;\">0.000504203</td><td style = \"text-align: right;\">0.000515684</td><td style = \"text-align: right;\">0.0106006</td><td style = \"text-align: right;\">0.111749</td><td style = \"text-align: right;\">0.0573638</td><td style = \"text-align: right;\">0.00265891</td><td style = \"text-align: right;\">0.0166138</td><td style = \"text-align: right;\">0.0253909</td><td style = \"text-align: right;\">0.0213767</td><td style = \"text-align: right;\">0.085421</td><td style = \"text-align: right;\">0.0089617</td><td style = \"text-align: right;\">0.252852</td><td style = \"text-align: right;\">0.0632711</td><td style = \"text-align: right;\">0.0425268</td><td style = \"text-align: right;\">0.0402911</td><td style = \"text-align: right;\">0.0188186</td><td style = \"text-align: right;\">0.0497754</td><td style = \"text-align: right;\">0.0767009</td><td style = \"text-align: right;\">0.346481</td><td style = \"text-align: right;\">&ctdot;</td></tr><tr><td class = \"rowNumber\" style = \"font-weight: bold; text-align: right;\">2</td><td style = \"text-align: left;\">ID_8363</td><td style = \"text-align: right;\">2.01264</td><td style = \"text-align: right;\">0.250191</td><td style = \"text-align: right;\">0.316022</td><td style = \"text-align: right;\">0.35231</td><td style = \"text-align: right;\">0.0090836</td><td style = \"text-align: right;\">0.0907338</td><td style = \"text-align: right;\">4.37769</td><td style = \"text-align: right;\">5.98482</td><td style = \"text-align: right;\">0.0674948</td><td style = \"text-align: right;\">1.74248</td><td style = \"text-align: right;\">10.7952</td><td style = \"text-align: right;\">87.0324</td><td style = \"text-align: right;\">9.68257</td><td style = \"text-align: right;\">1.51665</td><td style = \"text-align: right;\">0.294706</td><td style = \"text-align: right;\">0.00164067</td><td style = \"text-align: right;\">0.00014284</td><td style = \"text-align: right;\">0.000140007</td><td style = \"text-align: right;\">0.0010802</td><td style = \"text-align: right;\">0.00413117</td><td style = \"text-align: right;\">0.00128056</td><td style = \"text-align: right;\">0.000886071</td><td style = \"text-align: right;\">0.000837439</td><td style = \"text-align: right;\">0.0020082</td><td style = \"text-align: right;\">0.000285707</td><td style = \"text-align: right;\">0.000556351</td><td style = \"text-align: right;\">0.0023939</td><td style = \"text-align: right;\">0.00420345</td><td style = \"text-align: right;\">0.0941167</td><td style = \"text-align: right;\">0.350541</td><td style = \"text-align: right;\">0.00948015</td><td style = \"text-align: right;\">0.0304021</td><td style = \"text-align: right;\">0.0432942</td><td style = \"text-align: right;\">0.0151774</td><td style = \"text-align: right;\">0.00583587</td><td style = \"text-align: right;\">0.0260187</td><td style = \"text-align: right;\">0.113409</td><td style = \"text-align: right;\">0.00766083</td><td style = \"text-align: right;\">0.00410709</td><td style = \"text-align: right;\">0.0182598</td><td style = \"text-align: right;\">0.0153228</td><td style = \"text-align: right;\">0.0074324</td><td style = \"text-align: right;\">0.00258356</td><td style = \"text-align: right;\">0.0144681</td><td style = \"text-align: right;\">0.0103423</td><td style = \"text-align: right;\">0.00579154</td><td style = \"text-align: right;\">0.00394326</td><td style = \"text-align: right;\">0.0684608</td><td style = \"text-align: right;\">0.0245162</td><td style = \"text-align: right;\">0.0221871</td><td style = \"text-align: right;\">0.00215692</td><td style = \"text-align: right;\">0.00170014</td><td style = \"text-align: right;\">0.00399767</td><td style = \"text-align: right;\">0.0175665</td><td style = \"text-align: right;\">0.0188937</td><td style = \"text-align: right;\">0.000847784</td><td style = \"text-align: right;\">0.000630506</td><td style = \"text-align: right;\">0.000909391</td><td style = \"text-align: right;\">0.000275056</td><td style = \"text-align: right;\">0.00732291</td><td style = \"text-align: right;\">0.00106693</td><td style = \"text-align: right;\">0.0178259</td><td style = \"text-align: right;\">0.00765984</td><td style = \"text-align: right;\">0.0544446</td><td style = \"text-align: right;\">0.0748196</td><td style = \"text-align: right;\">0.000330248</td><td style = \"text-align: right;\">0.000302167</td><td style = \"text-align: right;\">0.000147507</td><td style = \"text-align: right;\">0.000612601</td><td style = \"text-align: right;\">0.00025397</td><td style = \"text-align: right;\">0.000455773</td><td style = \"text-align: right;\">0.000488404</td><td style = \"text-align: right;\">0.000233846</td><td style = \"text-align: right;\">0.00082982</td><td style = \"text-align: right;\">0.00272523</td><td style = \"text-align: right;\">0.00120081</td><td style = \"text-align: right;\">0.000150019</td><td style = \"text-align: right;\">0.000119674</td><td style = \"text-align: right;\">0.000539743</td><td style = \"text-align: right;\">0.000506577</td><td style = \"text-align: right;\">0.000681608</td><td style = \"text-align: right;\">0.000905559</td><td style = \"text-align: right;\">0.0350433</td><td style = \"text-align: right;\">0.160083</td><td style = \"text-align: right;\">0.0706453</td><td style = \"text-align: right;\">0.00657695</td><td style = \"text-align: right;\">0.0249749</td><td style = \"text-align: right;\">0.0448561</td><td style = \"text-align: right;\">0.0795643</td><td style = \"text-align: right;\">0.205603</td><td style = \"text-align: right;\">0.0163875</td><td style = \"text-align: right;\">0.730722</td><td style = \"text-align: right;\">0.12638</td><td style = \"text-align: right;\">0.0703859</td><td style = \"text-align: right;\">0.0917934</td><td style = \"text-align: right;\">0.0525502</td><td style = \"text-align: right;\">0.0721954</td><td style = \"text-align: right;\">0.155468</td><td style = \"text-align: right;\">0.739741</td><td style = \"text-align: right;\">&ctdot;</td></tr><tr><td class = \"rowNumber\" style = \"font-weight: bold; text-align: right;\">3</td><td style = \"text-align: left;\">ID_8370</td><td style = \"text-align: right;\">1.53178</td><td style = \"text-align: right;\">0.205512</td><td style = \"text-align: right;\">0.31636</td><td style = \"text-align: right;\">0.354267</td><td style = \"text-align: right;\">0.014668</td><td style = \"text-align: right;\">0.075066</td><td style = \"text-align: right;\">4.12247</td><td style = \"text-align: right;\">6.80776</td><td style = \"text-align: right;\">0.123519</td><td style = \"text-align: right;\">1.76572</td><td style = \"text-align: right;\">11.6196</td><td style = \"text-align: right;\">88.6166</td><td style = \"text-align: right;\">8.14013</td><td style = \"text-align: right;\">1.26819</td><td style = \"text-align: right;\">0.366083</td><td style = \"text-align: right;\">0.00164334</td><td style = \"text-align: right;\">0.00085447</td><td style = \"text-align: right;\">0.000156176</td><td style = \"text-align: right;\">0.00100836</td><td style = \"text-align: right;\">0.00347389</td><td style = \"text-align: right;\">0.000974539</td><td style = \"text-align: right;\">0.00119958</td><td style = \"text-align: right;\">0.000848264</td><td style = \"text-align: right;\">0.00223533</td><td style = \"text-align: right;\">0.000889327</td><td style = \"text-align: right;\">0.00186954</td><td style = \"text-align: right;\">0.00246283</td><td style = \"text-align: right;\">0.00293087</td><td style = \"text-align: right;\">0.0768472</td><td style = \"text-align: right;\">1.8826</td><td style = \"text-align: right;\">0.0676765</td><td style = \"text-align: right;\">0.107475</td><td style = \"text-align: right;\">0.173985</td><td style = \"text-align: right;\">0.119717</td><td style = \"text-align: right;\">0.00974872</td><td style = \"text-align: right;\">0.0244277</td><td style = \"text-align: right;\">0.132784</td><td style = \"text-align: right;\">0.0124151</td><td style = \"text-align: right;\">0.00451364</td><td style = \"text-align: right;\">0.0189541</td><td style = \"text-align: right;\">0.0128543</td><td style = \"text-align: right;\">0.0631288</td><td style = \"text-align: right;\">0.0161856</td><td style = \"text-align: right;\">0.00969446</td><td style = \"text-align: right;\">0.00374294</td><td style = \"text-align: right;\">0.043743</td><td style = \"text-align: right;\">0.00256181</td><td style = \"text-align: right;\">0.11356</td><td style = \"text-align: right;\">0.0417162</td><td style = \"text-align: right;\">0.0138678</td><td style = \"text-align: right;\">0.00120616</td><td style = \"text-align: right;\">0.00229198</td><td style = \"text-align: right;\">0.0024428</td><td style = \"text-align: right;\">0.0283885</td><td style = \"text-align: right;\">0.0200309</td><td style = \"text-align: right;\">0.000975333</td><td style = \"text-align: right;\">0.00162604</td><td style = \"text-align: right;\">0.000883355</td><td style = \"text-align: right;\">0.000191232</td><td style = \"text-align: right;\">0.00395584</td><td style = \"text-align: right;\">0.00158782</td><td style = \"text-align: right;\">0.0241148</td><td style = \"text-align: right;\">0.00727879</td><td style = \"text-align: right;\">0.0689694</td><td style = \"text-align: right;\">0.0854589</td><td style = \"text-align: right;\">0.000281894</td><td style = \"text-align: right;\">0.000214146</td><td style = \"text-align: right;\">9.95979e-5</td><td style = \"text-align: right;\">0.000543636</td><td style = \"text-align: right;\">0.000199317</td><td style = \"text-align: right;\">0.000366522</td><td style = \"text-align: right;\">0.000400771</td><td style = \"text-align: right;\">0.000208595</td><td style = \"text-align: right;\">0.000576335</td><td style = \"text-align: right;\">0.00199891</td><td style = \"text-align: right;\">0.000874862</td><td style = \"text-align: right;\">4.00263e-5</td><td style = \"text-align: right;\">0.000118033</td><td style = \"text-align: right;\">0.000403658</td><td style = \"text-align: right;\">0.000278367</td><td style = \"text-align: right;\">0.000513637</td><td style = \"text-align: right;\">0.000711806</td><td style = \"text-align: right;\">0.0364649</td><td style = \"text-align: right;\">0.188434</td><td style = \"text-align: right;\">0.124887</td><td style = \"text-align: right;\">0.00592517</td><td style = \"text-align: right;\">0.0291241</td><td style = \"text-align: right;\">0.0432982</td><td style = \"text-align: right;\">0.0771487</td><td style = \"text-align: right;\">0.177908</td><td style = \"text-align: right;\">0.0163068</td><td style = \"text-align: right;\">0.643188</td><td style = \"text-align: right;\">0.0912859</td><td style = \"text-align: right;\">0.052892</td><td style = \"text-align: right;\">0.15091</td><td style = \"text-align: right;\">0.0868726</td><td style = \"text-align: right;\">0.0430071</td><td style = \"text-align: right;\">0.138359</td><td style = \"text-align: right;\">0.955284</td><td style = \"text-align: right;\">&ctdot;</td></tr></tbody></table></div>"
      ],
      "text/latex": [
       "\\begin{tabular}{r|ccccccccc}\n",
       "\t& SampleID & MT10001 & MT10002 & MT10003 & MT10004 & MT10005 & MT10006 & MT10007 & \\\\\n",
       "\t\\hline\n",
       "\t& String7 & Float64 & Float64 & Float64 & Float64 & Float64 & Float64 & Float64 & \\\\\n",
       "\t\\hline\n",
       "\t1 & ID\\_8358 & 0.793441 & 0.0951669 & 0.163879 & 0.146206 & 0.0214165 & 0.062254 & 1.67761 & $\\dots$ \\\\\n",
       "\t2 & ID\\_8363 & 2.01264 & 0.250191 & 0.316022 & 0.35231 & 0.0090836 & 0.0907338 & 4.37769 & $\\dots$ \\\\\n",
       "\t3 & ID\\_8370 & 1.53178 & 0.205512 & 0.31636 & 0.354267 & 0.014668 & 0.075066 & 4.12247 & $\\dots$ \\\\\n",
       "\\end{tabular}\n"
      ],
      "text/plain": [
       "\u001b[1m3×591 DataFrame\u001b[0m\n",
       "\u001b[1m Row \u001b[0m│\u001b[1m SampleID \u001b[0m\u001b[1m MT10001  \u001b[0m\u001b[1m MT10002   \u001b[0m\u001b[1m MT10003  \u001b[0m\u001b[1m MT10004  \u001b[0m\u001b[1m MT10005   \u001b[0m\u001b[1m MT10006  \u001b[0m ⋯\n",
       "     │\u001b[90m String7  \u001b[0m\u001b[90m Float64  \u001b[0m\u001b[90m Float64   \u001b[0m\u001b[90m Float64  \u001b[0m\u001b[90m Float64  \u001b[0m\u001b[90m Float64   \u001b[0m\u001b[90m Float64  \u001b[0m ⋯\n",
       "─────┼──────────────────────────────────────────────────────────────────────────\n",
       "   1 │ ID_8358   0.793441  0.0951669  0.163879  0.146206  0.0214165  0.062254  ⋯\n",
       "   2 │ ID_8363   2.01264   0.250191   0.316022  0.35231   0.0090836  0.0907338\n",
       "   3 │ ID_8370   1.53178   0.205512   0.31636   0.354267  0.014668   0.075066\n",
       "\u001b[36m                                                             584 columns omitted\u001b[0m"
      ]
     },
     "execution_count": 7,
     "metadata": {},
     "output_type": "execute_result"
    }
   ],
   "source": [
    "df = pqnorm(dfMetabo, startCol = 2);\n",
    "first(df, 3)"
   ]
  },
  {
   "cell_type": "markdown",
   "id": "3a6fda63-d784-4417-8cb8-9e1bf4a7cc04",
   "metadata": {},
   "source": [
    "## Transformation\n",
    "---\n",
    "\n",
    "A simple and widely used transformation to make data more symmetric and homoscedastic is the log-transformation."
   ]
  },
  {
   "cell_type": "code",
   "execution_count": 8,
   "id": "c02bd660-b7f1-4bc4-b2d9-5dd57b07293c",
   "metadata": {},
   "outputs": [
    {
     "data": {
      "text/html": [
       "<div><div style = \"float: left;\"><span>2×591 DataFrame</span></div><div style = \"float: right;\"><span style = \"font-style: italic;\">491 columns omitted</span></div><div style = \"clear: both;\"></div></div><div class = \"data-frame\" style = \"overflow-x: scroll;\"><table class = \"data-frame\" style = \"margin-bottom: 6px;\"><thead><tr class = \"header\"><th class = \"rowNumber\" style = \"font-weight: bold; text-align: right;\">Row</th><th style = \"text-align: left;\">SampleID</th><th style = \"text-align: left;\">MT10001</th><th style = \"text-align: left;\">MT10002</th><th style = \"text-align: left;\">MT10003</th><th style = \"text-align: left;\">MT10004</th><th style = \"text-align: left;\">MT10005</th><th style = \"text-align: left;\">MT10006</th><th style = \"text-align: left;\">MT10007</th><th style = \"text-align: left;\">MT10008</th><th style = \"text-align: left;\">MT10009</th><th style = \"text-align: left;\">MT10010</th><th style = \"text-align: left;\">MT10011</th><th style = \"text-align: left;\">MT10012</th><th style = \"text-align: left;\">MT10013</th><th style = \"text-align: left;\">MT10014</th><th style = \"text-align: left;\">MT10015</th><th style = \"text-align: left;\">MT10016</th><th style = \"text-align: left;\">MT10017</th><th style = \"text-align: left;\">MT10018</th><th style = \"text-align: left;\">MT10019</th><th style = \"text-align: left;\">MT10020</th><th style = \"text-align: left;\">MT10021</th><th style = \"text-align: left;\">MT10022</th><th style = \"text-align: left;\">MT10023</th><th style = \"text-align: left;\">MT10024</th><th style = \"text-align: left;\">MT10025</th><th style = \"text-align: left;\">MT10026</th><th style = \"text-align: left;\">MT10027</th><th style = \"text-align: left;\">MT10028</th><th style = \"text-align: left;\">MT10029</th><th style = \"text-align: left;\">MT10030</th><th style = \"text-align: left;\">MT10031</th><th style = \"text-align: left;\">MT10032</th><th style = \"text-align: left;\">MT10033</th><th style = \"text-align: left;\">MT10034</th><th style = \"text-align: left;\">MT10035</th><th style = \"text-align: left;\">MT10036</th><th style = \"text-align: left;\">MT10037</th><th style = \"text-align: left;\">MT10038</th><th style = \"text-align: left;\">MT10039</th><th style = \"text-align: left;\">MT10040</th><th style = \"text-align: left;\">MT10041</th><th style = \"text-align: left;\">MT10042</th><th style = \"text-align: left;\">MT10043</th><th style = \"text-align: left;\">MT10044</th><th style = \"text-align: left;\">MT10045</th><th style = \"text-align: left;\">MT10046</th><th style = \"text-align: left;\">MT10047</th><th style = \"text-align: left;\">MT10048</th><th style = \"text-align: left;\">MT10049</th><th style = \"text-align: left;\">MT10050</th><th style = \"text-align: left;\">MT10051</th><th style = \"text-align: left;\">MT10052</th><th style = \"text-align: left;\">MT10053</th><th style = \"text-align: left;\">MT10054</th><th style = \"text-align: left;\">MT10055</th><th style = \"text-align: left;\">MT10056</th><th style = \"text-align: left;\">MT10057</th><th style = \"text-align: left;\">MT10058</th><th style = \"text-align: left;\">MT10059</th><th style = \"text-align: left;\">MT10060</th><th style = \"text-align: left;\">MT10061</th><th style = \"text-align: left;\">MT10062</th><th style = \"text-align: left;\">MT10063</th><th style = \"text-align: left;\">MT10064</th><th style = \"text-align: left;\">MT10065</th><th style = \"text-align: left;\">MT10066</th><th style = \"text-align: left;\">MT10067</th><th style = \"text-align: left;\">MT10068</th><th style = \"text-align: left;\">MT10069</th><th style = \"text-align: left;\">MT10070</th><th style = \"text-align: left;\">MT10071</th><th style = \"text-align: left;\">MT10072</th><th style = \"text-align: left;\">MT10073</th><th style = \"text-align: left;\">MT10074</th><th style = \"text-align: left;\">MT10075</th><th style = \"text-align: left;\">MT10076</th><th style = \"text-align: left;\">MT10077</th><th style = \"text-align: left;\">MT10078</th><th style = \"text-align: left;\">MT10079</th><th style = \"text-align: left;\">MT10080</th><th style = \"text-align: left;\">MT10081</th><th style = \"text-align: left;\">MT10082</th><th style = \"text-align: left;\">MT10083</th><th style = \"text-align: left;\">MT10084</th><th style = \"text-align: left;\">MT10085</th><th style = \"text-align: left;\">MT10086</th><th style = \"text-align: left;\">MT10087</th><th style = \"text-align: left;\">MT10088</th><th style = \"text-align: left;\">MT10089</th><th style = \"text-align: left;\">MT10090</th><th style = \"text-align: left;\">MT10091</th><th style = \"text-align: left;\">MT10092</th><th style = \"text-align: left;\">MT10093</th><th style = \"text-align: left;\">MT10094</th><th style = \"text-align: left;\">MT10095</th><th style = \"text-align: left;\">MT10096</th><th style = \"text-align: left;\">MT10097</th><th style = \"text-align: left;\">MT10098</th><th style = \"text-align: left;\">MT10099</th><th style = \"text-align: right;\">&ctdot;</th></tr><tr class = \"subheader headerLastRow\"><th class = \"rowNumber\" style = \"font-weight: bold; text-align: right;\"></th><th title = \"String7\" style = \"text-align: left;\">String7</th><th title = \"Float64\" style = \"text-align: left;\">Float64</th><th title = \"Float64\" style = \"text-align: left;\">Float64</th><th title = \"Float64\" style = \"text-align: left;\">Float64</th><th title = \"Float64\" style = \"text-align: left;\">Float64</th><th title = \"Float64\" style = \"text-align: left;\">Float64</th><th title = \"Float64\" style = \"text-align: left;\">Float64</th><th title = \"Float64\" style = \"text-align: left;\">Float64</th><th title = \"Float64\" style = \"text-align: left;\">Float64</th><th title = \"Float64\" style = \"text-align: left;\">Float64</th><th title = \"Float64\" style = \"text-align: left;\">Float64</th><th title = \"Float64\" style = \"text-align: left;\">Float64</th><th title = \"Float64\" style = \"text-align: left;\">Float64</th><th title = \"Float64\" style = \"text-align: left;\">Float64</th><th title = \"Float64\" style = \"text-align: left;\">Float64</th><th title = \"Float64\" style = \"text-align: left;\">Float64</th><th title = \"Float64\" style = \"text-align: left;\">Float64</th><th title = \"Float64\" style = \"text-align: left;\">Float64</th><th title = \"Float64\" style = \"text-align: left;\">Float64</th><th title = \"Float64\" style = \"text-align: left;\">Float64</th><th title = \"Float64\" style = \"text-align: left;\">Float64</th><th title = \"Float64\" style = \"text-align: left;\">Float64</th><th title = \"Float64\" style = \"text-align: left;\">Float64</th><th title = \"Float64\" style = \"text-align: left;\">Float64</th><th title = \"Float64\" style = \"text-align: left;\">Float64</th><th title = \"Float64\" style = \"text-align: left;\">Float64</th><th title = \"Float64\" style = \"text-align: left;\">Float64</th><th title = \"Float64\" style = \"text-align: left;\">Float64</th><th title = \"Float64\" style = \"text-align: left;\">Float64</th><th title = \"Float64\" style = \"text-align: left;\">Float64</th><th title = \"Float64\" style = \"text-align: left;\">Float64</th><th title = \"Float64\" style = \"text-align: left;\">Float64</th><th title = \"Float64\" style = \"text-align: left;\">Float64</th><th title = \"Float64\" style = \"text-align: left;\">Float64</th><th title = \"Float64\" style = \"text-align: left;\">Float64</th><th title = \"Float64\" style = \"text-align: left;\">Float64</th><th title = \"Float64\" style = \"text-align: left;\">Float64</th><th title = \"Float64\" style = \"text-align: left;\">Float64</th><th title = \"Float64\" style = \"text-align: left;\">Float64</th><th title = \"Float64\" style = \"text-align: left;\">Float64</th><th title = \"Float64\" style = \"text-align: left;\">Float64</th><th title = \"Float64\" style = \"text-align: left;\">Float64</th><th title = \"Float64\" style = \"text-align: left;\">Float64</th><th title = \"Float64\" style = \"text-align: left;\">Float64</th><th title = \"Float64\" style = \"text-align: left;\">Float64</th><th title = \"Float64\" style = \"text-align: left;\">Float64</th><th title = \"Float64\" style = \"text-align: left;\">Float64</th><th title = \"Float64\" style = \"text-align: left;\">Float64</th><th title = \"Float64\" style = \"text-align: left;\">Float64</th><th title = \"Float64\" style = \"text-align: left;\">Float64</th><th title = \"Float64\" style = \"text-align: left;\">Float64</th><th title = \"Float64\" style = \"text-align: left;\">Float64</th><th title = \"Float64\" style = \"text-align: left;\">Float64</th><th title = \"Float64\" style = \"text-align: left;\">Float64</th><th title = \"Float64\" style = \"text-align: left;\">Float64</th><th title = \"Float64\" style = \"text-align: left;\">Float64</th><th title = \"Float64\" style = \"text-align: left;\">Float64</th><th title = \"Float64\" style = \"text-align: left;\">Float64</th><th title = \"Float64\" style = \"text-align: left;\">Float64</th><th title = \"Float64\" style = \"text-align: left;\">Float64</th><th title = \"Float64\" style = \"text-align: left;\">Float64</th><th title = \"Float64\" style = \"text-align: left;\">Float64</th><th title = \"Float64\" style = \"text-align: left;\">Float64</th><th title = \"Float64\" style = \"text-align: left;\">Float64</th><th title = \"Float64\" style = \"text-align: left;\">Float64</th><th title = \"Float64\" style = \"text-align: left;\">Float64</th><th title = \"Float64\" style = \"text-align: left;\">Float64</th><th title = \"Float64\" style = \"text-align: left;\">Float64</th><th title = \"Float64\" style = \"text-align: left;\">Float64</th><th title = \"Float64\" style = \"text-align: left;\">Float64</th><th title = \"Float64\" style = \"text-align: left;\">Float64</th><th title = \"Float64\" style = \"text-align: left;\">Float64</th><th title = \"Float64\" style = \"text-align: left;\">Float64</th><th title = \"Float64\" style = \"text-align: left;\">Float64</th><th title = \"Float64\" style = \"text-align: left;\">Float64</th><th title = \"Float64\" style = \"text-align: left;\">Float64</th><th title = \"Float64\" style = \"text-align: left;\">Float64</th><th title = \"Float64\" style = \"text-align: left;\">Float64</th><th title = \"Float64\" style = \"text-align: left;\">Float64</th><th title = \"Float64\" style = \"text-align: left;\">Float64</th><th title = \"Float64\" style = \"text-align: left;\">Float64</th><th title = \"Float64\" style = \"text-align: left;\">Float64</th><th title = \"Float64\" style = \"text-align: left;\">Float64</th><th title = \"Float64\" style = \"text-align: left;\">Float64</th><th title = \"Float64\" style = \"text-align: left;\">Float64</th><th title = \"Float64\" style = \"text-align: left;\">Float64</th><th title = \"Float64\" style = \"text-align: left;\">Float64</th><th title = \"Float64\" style = \"text-align: left;\">Float64</th><th title = \"Float64\" style = \"text-align: left;\">Float64</th><th title = \"Float64\" style = \"text-align: left;\">Float64</th><th title = \"Float64\" style = \"text-align: left;\">Float64</th><th title = \"Float64\" style = \"text-align: left;\">Float64</th><th title = \"Float64\" style = \"text-align: left;\">Float64</th><th title = \"Float64\" style = \"text-align: left;\">Float64</th><th title = \"Float64\" style = \"text-align: left;\">Float64</th><th title = \"Float64\" style = \"text-align: left;\">Float64</th><th title = \"Float64\" style = \"text-align: left;\">Float64</th><th title = \"Float64\" style = \"text-align: left;\">Float64</th><th title = \"Float64\" style = \"text-align: left;\">Float64</th><th title = \"Float64\" style = \"text-align: left;\">Float64</th><th title = \"Float64\" style = \"text-align: right;\">&ctdot;</th></tr></thead><tbody><tr><td class = \"rowNumber\" style = \"font-weight: bold; text-align: right;\">1</td><td style = \"text-align: left;\">ID_8358</td><td style = \"text-align: right;\">0.84273</td><td style = \"text-align: right;\">0.131151</td><td style = \"text-align: right;\">0.218941</td><td style = \"text-align: right;\">0.196866</td><td style = \"text-align: right;\">0.0305713</td><td style = \"text-align: right;\">0.0871288</td><td style = \"text-align: right;\">1.42095</td><td style = \"text-align: right;\">1.93638</td><td style = \"text-align: right;\">0.0766151</td><td style = \"text-align: right;\">0.997172</td><td style = \"text-align: right;\">2.4982</td><td style = \"text-align: right;\">4.6517</td><td style = \"text-align: right;\">2.32366</td><td style = \"text-align: right;\">0.335085</td><td style = \"text-align: right;\">0.141685</td><td style = \"text-align: right;\">0.00219905</td><td style = \"text-align: right;\">0.00155043</td><td style = \"text-align: right;\">0.000151242</td><td style = \"text-align: right;\">0.000800323</td><td style = \"text-align: right;\">0.00344864</td><td style = \"text-align: right;\">0.00135725</td><td style = \"text-align: right;\">0.00174087</td><td style = \"text-align: right;\">0.000947259</td><td style = \"text-align: right;\">0.00275276</td><td style = \"text-align: right;\">0.000892567</td><td style = \"text-align: right;\">0.00301821</td><td style = \"text-align: right;\">0.00312845</td><td style = \"text-align: right;\">0.00401834</td><td style = \"text-align: right;\">0.0301882</td><td style = \"text-align: right;\">0.161932</td><td style = \"text-align: right;\">0.00810311</td><td style = \"text-align: right;\">0.014732</td><td style = \"text-align: right;\">0.0163452</td><td style = \"text-align: right;\">0.00555562</td><td style = \"text-align: right;\">0.00280694</td><td style = \"text-align: right;\">0.0100928</td><td style = \"text-align: right;\">0.0441785</td><td style = \"text-align: right;\">0.00778318</td><td style = \"text-align: right;\">0.00351479</td><td style = \"text-align: right;\">0.00294506</td><td style = \"text-align: right;\">0.00191384</td><td style = \"text-align: right;\">0.00443827</td><td style = \"text-align: right;\">0.000490599</td><td style = \"text-align: right;\">0.0012729</td><td style = \"text-align: right;\">0.000889439</td><td style = \"text-align: right;\">0.00511913</td><td style = \"text-align: right;\">0.0</td><td style = \"text-align: right;\">0.0685729</td><td style = \"text-align: right;\">0.0440511</td><td style = \"text-align: right;\">0.00171388</td><td style = \"text-align: right;\">0.000191905</td><td style = \"text-align: right;\">0.00404783</td><td style = \"text-align: right;\">0.00108439</td><td style = \"text-align: right;\">0.0191806</td><td style = \"text-align: right;\">0.0283163</td><td style = \"text-align: right;\">0.000715897</td><td style = \"text-align: right;\">0.000538103</td><td style = \"text-align: right;\">0.0</td><td style = \"text-align: right;\">0.0</td><td style = \"text-align: right;\">0.000535556</td><td style = \"text-align: right;\">0.0020213</td><td style = \"text-align: right;\">0.0111798</td><td style = \"text-align: right;\">0.00763401</td><td style = \"text-align: right;\">0.0275524</td><td style = \"text-align: right;\">0.0405919</td><td style = \"text-align: right;\">0.000420709</td><td style = \"text-align: right;\">0.000342901</td><td style = \"text-align: right;\">0.000231581</td><td style = \"text-align: right;\">0.000901025</td><td style = \"text-align: right;\">0.000418013</td><td style = \"text-align: right;\">0.000589612</td><td style = \"text-align: right;\">0.000587937</td><td style = \"text-align: right;\">0.000259076</td><td style = \"text-align: right;\">0.000589856</td><td style = \"text-align: right;\">0.0012398</td><td style = \"text-align: right;\">0.000854921</td><td style = \"text-align: right;\">0.000156202</td><td style = \"text-align: right;\">0.000131002</td><td style = \"text-align: right;\">0.000522255</td><td style = \"text-align: right;\">0.000867328</td><td style = \"text-align: right;\">0.000727228</td><td style = \"text-align: right;\">0.000743783</td><td style = \"text-align: right;\">0.015213</td><td style = \"text-align: right;\">0.152831</td><td style = \"text-align: right;\">0.0804718</td><td style = \"text-align: right;\">0.0038309</td><td style = \"text-align: right;\">0.0237718</td><td style = \"text-align: right;\">0.036174</td><td style = \"text-align: right;\">0.030515</td><td style = \"text-align: right;\">0.118255</td><td style = \"text-align: right;\">0.0128714</td><td style = \"text-align: right;\">0.325216</td><td style = \"text-align: right;\">0.0885095</td><td style = \"text-align: right;\">0.0600845</td><td style = \"text-align: right;\">0.0569872</td><td style = \"text-align: right;\">0.0268972</td><td style = \"text-align: right;\">0.0700807</td><td style = \"text-align: right;\">0.106618</td><td style = \"text-align: right;\">0.429194</td><td style = \"text-align: right;\">&ctdot;</td></tr><tr><td class = \"rowNumber\" style = \"font-weight: bold; text-align: right;\">2</td><td style = \"text-align: left;\">ID_8363</td><td style = \"text-align: right;\">1.59103</td><td style = \"text-align: right;\">0.322149</td><td style = \"text-align: right;\">0.396184</td><td style = \"text-align: right;\">0.435426</td><td style = \"text-align: right;\">0.0130457</td><td style = \"text-align: right;\">0.125299</td><td style = \"text-align: right;\">2.42699</td><td style = \"text-align: right;\">2.80422</td><td style = \"text-align: right;\">0.094229</td><td style = \"text-align: right;\">1.45548</td><td style = \"text-align: right;\">3.56013</td><td style = \"text-align: right;\">6.45996</td><td style = \"text-align: right;\">3.41719</td><td style = \"text-align: right;\">1.3315</td><td style = \"text-align: right;\">0.372624</td><td style = \"text-align: right;\">0.00236505</td><td style = \"text-align: right;\">0.00020606</td><td style = \"text-align: right;\">0.000201974</td><td style = \"text-align: right;\">0.00155755</td><td style = \"text-align: right;\">0.00594775</td><td style = \"text-align: right;\">0.00184627</td><td style = \"text-align: right;\">0.00127776</td><td style = \"text-align: right;\">0.00120766</td><td style = \"text-align: right;\">0.00289431</td><td style = \"text-align: right;\">0.00041213</td><td style = \"text-align: right;\">0.000802422</td><td style = \"text-align: right;\">0.00344954</td><td style = \"text-align: right;\">0.00605158</td><td style = \"text-align: right;\">0.129767</td><td style = \"text-align: right;\">0.433537</td><td style = \"text-align: right;\">0.0136125</td><td style = \"text-align: right;\">0.0432074</td><td style = \"text-align: right;\">0.061146</td><td style = \"text-align: right;\">0.0217318</td><td style = \"text-align: right;\">0.00839491</td><td style = \"text-align: right;\">0.0370571</td><td style = \"text-align: right;\">0.154983</td><td style = \"text-align: right;\">0.0110101</td><td style = \"text-align: right;\">0.00591314</td><td style = \"text-align: right;\">0.0261058</td><td style = \"text-align: right;\">0.0219385</td><td style = \"text-align: right;\">0.010683</td><td style = \"text-align: right;\">0.00372248</td><td style = \"text-align: right;\">0.0207235</td><td style = \"text-align: right;\">0.0148442</td><td style = \"text-align: right;\">0.00833133</td><td style = \"text-align: right;\">0.00567774</td><td style = \"text-align: right;\">0.0955339</td><td style = \"text-align: right;\">0.0349427</td><td style = \"text-align: right;\">0.0316593</td><td style = \"text-align: right;\">0.00310843</td><td style = \"text-align: right;\">0.00245069</td><td style = \"text-align: right;\">0.00575593</td><td style = \"text-align: right;\">0.025123</td><td style = \"text-align: right;\">0.0270036</td><td style = \"text-align: right;\">0.00122258</td><td style = \"text-align: right;\">0.000909341</td><td style = \"text-align: right;\">0.00131138</td><td style = \"text-align: right;\">0.000396768</td><td style = \"text-align: right;\">0.0105262</td><td style = \"text-align: right;\">0.00153844</td><td style = \"text-align: right;\">0.0254909</td><td style = \"text-align: right;\">0.0110087</td><td style = \"text-align: right;\">0.0764834</td><td style = \"text-align: right;\">0.104094</td><td style = \"text-align: right;\">0.000476369</td><td style = \"text-align: right;\">0.000435869</td><td style = \"text-align: right;\">0.000212791</td><td style = \"text-align: right;\">0.000883526</td><td style = \"text-align: right;\">0.000366354</td><td style = \"text-align: right;\">0.000657392</td><td style = \"text-align: right;\">0.000704446</td><td style = \"text-align: right;\">0.000337329</td><td style = \"text-align: right;\">0.00119668</td><td style = \"text-align: right;\">0.00392633</td><td style = \"text-align: right;\">0.00173137</td><td style = \"text-align: right;\">0.000216416</td><td style = \"text-align: right;\">0.000172643</td><td style = \"text-align: right;\">0.000778474</td><td style = \"text-align: right;\">0.000730652</td><td style = \"text-align: right;\">0.000983018</td><td style = \"text-align: right;\">0.00130585</td><td style = \"text-align: right;\">0.0496911</td><td style = \"text-align: right;\">0.214228</td><td style = \"text-align: right;\">0.0984806</td><td style = \"text-align: right;\">0.00945747</td><td style = \"text-align: right;\">0.0355886</td><td style = \"text-align: right;\">0.0633042</td><td style = \"text-align: right;\">0.110449</td><td style = \"text-align: right;\">0.269755</td><td style = \"text-align: right;\">0.0234505</td><td style = \"text-align: right;\">0.791374</td><td style = \"text-align: right;\">0.171693</td><td style = \"text-align: right;\">0.0981311</td><td style = \"text-align: right;\">0.1267</td><td style = \"text-align: right;\">0.0738891</td><td style = \"text-align: right;\">0.100568</td><td style = \"text-align: right;\">0.208477</td><td style = \"text-align: right;\">0.798872</td><td style = \"text-align: right;\">&ctdot;</td></tr></tbody></table></div>"
      ],
      "text/latex": [
       "\\begin{tabular}{r|ccccccccc}\n",
       "\t& SampleID & MT10001 & MT10002 & MT10003 & MT10004 & MT10005 & MT10006 & MT10007 & \\\\\n",
       "\t\\hline\n",
       "\t& String7 & Float64 & Float64 & Float64 & Float64 & Float64 & Float64 & Float64 & \\\\\n",
       "\t\\hline\n",
       "\t1 & ID\\_8358 & 0.84273 & 0.131151 & 0.218941 & 0.196866 & 0.0305713 & 0.0871288 & 1.42095 & $\\dots$ \\\\\n",
       "\t2 & ID\\_8363 & 1.59103 & 0.322149 & 0.396184 & 0.435426 & 0.0130457 & 0.125299 & 2.42699 & $\\dots$ \\\\\n",
       "\\end{tabular}\n"
      ],
      "text/plain": [
       "\u001b[1m2×591 DataFrame\u001b[0m\n",
       "\u001b[1m Row \u001b[0m│\u001b[1m SampleID \u001b[0m\u001b[1m MT10001 \u001b[0m\u001b[1m MT10002  \u001b[0m\u001b[1m MT10003  \u001b[0m\u001b[1m MT10004  \u001b[0m\u001b[1m MT10005   \u001b[0m\u001b[1m MT10006   \u001b[0m\u001b[1m \u001b[0m ⋯\n",
       "     │\u001b[90m String7  \u001b[0m\u001b[90m Float64 \u001b[0m\u001b[90m Float64  \u001b[0m\u001b[90m Float64  \u001b[0m\u001b[90m Float64  \u001b[0m\u001b[90m Float64   \u001b[0m\u001b[90m Float64   \u001b[0m\u001b[90m \u001b[0m ⋯\n",
       "─────┼──────────────────────────────────────────────────────────────────────────\n",
       "   1 │ ID_8358   0.84273  0.131151  0.218941  0.196866  0.0305713  0.0871288   ⋯\n",
       "   2 │ ID_8363   1.59103  0.322149  0.396184  0.435426  0.0130457  0.125299\n",
       "\u001b[36m                                                             584 columns omitted\u001b[0m"
      ]
     },
     "execution_count": 8,
     "metadata": {},
     "output_type": "execute_result"
    }
   ],
   "source": [
    "df = log2tx(df, startCol = 2);\n",
    "first(df, 2)"
   ]
  },
  {
   "cell_type": "markdown",
   "id": "9665eb9e-c010-4dd4-be3e-004cf3fd5301",
   "metadata": {
    "kernel": "SoS"
   },
   "source": [
    "## Save pretreatments"
   ]
  },
  {
   "cell_type": "code",
   "execution_count": 9,
   "id": "6a978d91-f599-41b4-96ac-831dabfa6fa2",
   "metadata": {
    "kernel": "Julia 1.5.3"
   },
   "outputs": [
    {
     "data": {
      "text/plain": [
       "\"C:\\\\git\\\\gregfa\\\\Metabolomic\\\\PANSTEATITISstudy\\\\notebooks\\\\preprocessing\\\\..\\\\..\\\\data\\\\processed\\\\nl2_Meta.csv\""
      ]
     },
     "execution_count": 9,
     "metadata": {},
     "output_type": "execute_result"
    }
   ],
   "source": [
    "fileMeta = joinpath(@__DIR__,\"..\",\"..\",\"data\",\"processed\",\"nl2_Meta.csv\");\n",
    "df |> CSV.write(fileMeta)"
   ]
  },
  {
   "cell_type": "code",
   "execution_count": 10,
   "id": "857fd4e2-92ba-4c37-a4b9-8f24d2693620",
   "metadata": {},
   "outputs": [
    {
     "name": "stdout",
     "output_type": "stream",
     "text": [
      "Julia Version 1.8.5\n",
      "Commit 17cfb8e65e (2023-01-08 06:45 UTC)\n",
      "Platform Info:\n",
      "  OS: Windows (x86_64-w64-mingw32)\n",
      "  CPU: 4 × Intel(R) Core(TM) i5-6500 CPU @ 3.20GHz\n",
      "  WORD_SIZE: 64\n",
      "  LIBM: libopenlibm\n",
      "  LLVM: libLLVM-13.0.1 (ORCJIT, skylake)\n",
      "  Threads: 1 on 4 virtual cores\n"
     ]
    }
   ],
   "source": [
    "versioninfo()"
   ]
  },
  {
   "cell_type": "code",
   "execution_count": 11,
   "id": "9e88a580-76ed-4884-8668-7b2b2821a88e",
   "metadata": {},
   "outputs": [
    {
     "data": {
      "text/plain": [
       "RObject{VecSxp}\n",
       "R version 4.2.1 (2022-06-23 ucrt)\n",
       "Platform: x86_64-w64-mingw32/x64 (64-bit)\n",
       "Running under: Windows 10 x64 (build 19044)\n",
       "\n",
       "Matrix products: default\n",
       "\n",
       "locale:\n",
       "[1] LC_COLLATE=English_United States.1252 \n",
       "[2] LC_CTYPE=English_United States.1252   \n",
       "[3] LC_MONETARY=English_United States.1252\n",
       "[4] LC_NUMERIC=C                          \n",
       "[5] LC_TIME=English_United States.1252    \n",
       "\n",
       "attached base packages:\n",
       "[1] stats     graphics  grDevices utils     datasets  methods   base     \n",
       "\n",
       "loaded via a namespace (and not attached):\n",
       "[1] compiler_4.2.1\n"
      ]
     },
     "execution_count": 11,
     "metadata": {},
     "output_type": "execute_result"
    }
   ],
   "source": [
    "R\"\"\"\n",
    "sessionInfo()\n",
    "\"\"\""
   ]
  },
  {
   "cell_type": "code",
   "execution_count": null,
   "id": "ab70ffb1-69ab-43f5-b1f0-ce55a58c8726",
   "metadata": {},
   "outputs": [],
   "source": []
  }
 ],
 "metadata": {
  "jupytext": {
   "formats": "ipynb,jl:light"
  },
  "kernelspec": {
   "display_name": "Julia 1.11.2",
   "language": "julia",
   "name": "julia-1.11"
  },
  "language_info": {
   "file_extension": ".jl",
   "mimetype": "application/julia",
   "name": "julia",
   "version": "1.11.2"
  }
 },
 "nbformat": 4,
 "nbformat_minor": 5
}
