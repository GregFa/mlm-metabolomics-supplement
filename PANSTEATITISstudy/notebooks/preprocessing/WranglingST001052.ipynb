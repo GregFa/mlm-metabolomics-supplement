{
 "cells": [
  {
   "cell_type": "markdown",
   "id": "df3f0781",
   "metadata": {
    "tags": []
   },
   "source": [
    "# Wrangling PANSTEATITIS study ST001052\n",
    "---"
   ]
  },
  {
   "cell_type": "markdown",
   "id": "39cebb65",
   "metadata": {},
   "source": [
    "This notebook carries out the wrangling process for the [LIVER study ST001052 lipidomics data](https://www.metabolomicsworkbench.org/data/DRCCMetadata.php?Mode=Study&StudyID=ST001052&StudyType=MS&ResultType=1) [1]."
   ]
  },
  {
   "cell_type": "markdown",
   "id": "b0b0f79c",
   "metadata": {},
   "source": [
    "## Libraries"
   ]
  },
  {
   "cell_type": "code",
   "execution_count": 1,
   "id": "338ce937-4af2-4218-b1a4-f0f712991c19",
   "metadata": {},
   "outputs": [],
   "source": [
    "using Pkg "
   ]
  },
  {
   "cell_type": "code",
   "execution_count": 2,
   "id": "8859f01d-e085-4e4d-b64e-e5994982158d",
   "metadata": {},
   "outputs": [
    {
     "name": "stderr",
     "output_type": "stream",
     "text": [
      "\u001b[32m\u001b[1m  Activating\u001b[22m\u001b[39m project at `~/git/gregfa/metabolomics/mlm-metabolomics-supplement/PANSTEATITISstudy`\n"
     ]
    }
   ],
   "source": [
    "Pkg.activate(joinpath(@__DIR__, \"..\", \"..\"))"
   ]
  },
  {
   "cell_type": "code",
   "execution_count": 11,
   "id": "f7b85f68-93b5-478f-88e8-9b6ae3497ca8",
   "metadata": {},
   "outputs": [],
   "source": [
    "Pkg.instantiate()"
   ]
  },
  {
   "cell_type": "code",
   "execution_count": 16,
   "id": "843159ff",
   "metadata": {},
   "outputs": [],
   "source": [
    "# To use RCall for the first time, one needs to \n",
    "# the location of the R home directory.\n",
    "firstTimeRCall = false\n",
    "if firstTimeRCall\n",
    "    using Pkg\n",
    "    io = IOBuffer()\n",
    "    versioninfo(io)\n",
    "    if occursin(\"Windows\", String(take!(io)))\n",
    "        ENV[\"R_HOME\"] = \"C:/PROGRA~1/R/R-43~1.1\" # from R.home() in R\n",
    "    else \n",
    "        ENV[\"R_HOME\"] = \"/usr/lib/R\"\n",
    "\n",
    "    end\n",
    "    Pkg.build(\"RCall\")\n",
    "end      "
   ]
  },
  {
   "cell_type": "code",
   "execution_count": 3,
   "id": "7926a12b",
   "metadata": {},
   "outputs": [],
   "source": [
    "using DataFrames, CSV\n",
    "using FreqTables #, CategoricalArrays\n",
    "using StatsBase\n",
    "using RCall# Conda, PyCall\n",
    "using MetabolomicsWorkbenchAPI"
   ]
  },
  {
   "cell_type": "markdown",
   "id": "aabf12b9",
   "metadata": {},
   "source": [
    "## Ext. Functions"
   ]
  },
  {
   "cell_type": "code",
   "execution_count": 4,
   "id": "16543d40",
   "metadata": {
    "tags": []
   },
   "outputs": [],
   "source": [
    "include(joinpath(@__DIR__,\"..\",\"..\",\"src\",\"wrangling_utils.jl\" ));\n",
    "include(joinpath(@__DIR__,\"..\",\"..\",\"src\",\"demog.jl\" ));"
   ]
  },
  {
   "cell_type": "markdown",
   "id": "5ace0e0f",
   "metadata": {},
   "source": [
    "## Load data ST001052"
   ]
  },
  {
   "cell_type": "code",
   "execution_count": 5,
   "id": "cf1cfee9",
   "metadata": {},
   "outputs": [],
   "source": [
    "ST  = \"ST001052\";"
   ]
  },
  {
   "cell_type": "markdown",
   "id": "d7f53d62",
   "metadata": {
    "tags": []
   },
   "source": [
    "## Extract clinical covariates"
   ]
  },
  {
   "cell_type": "markdown",
   "id": "04260c37",
   "metadata": {},
   "source": [
    "Use the Julia's API to get the samples data from the [metabolomics workbench](https://www.metabolomicsworkbench.org/data/DRCCMetadata.php?Mode=Study&StudyID=ST001052)."
   ]
  },
  {
   "cell_type": "code",
   "execution_count": 6,
   "id": "21c177e2",
   "metadata": {
    "tags": []
   },
   "outputs": [
    {
     "name": "stdout",
     "output_type": "stream",
     "text": [
      "The dataframe contains 53 rows and 17 columns\n"
     ]
    }
   ],
   "source": [
    "# get clinical covariates\n",
    "dfIndividuals =  fetch_samples(ST);\n",
    "print_df_size(dfIndividuals)"
   ]
  },
  {
   "cell_type": "markdown",
   "id": "63ba7083",
   "metadata": {},
   "source": [
    "List of the covariate names: "
   ]
  },
  {
   "cell_type": "code",
   "execution_count": 7,
   "id": "fbf9b683",
   "metadata": {},
   "outputs": [
    {
     "data": {
      "text/plain": [
       "17-element Vector{String}:\n",
       " \"Sample ID\"\n",
       " \"Group\"\n",
       " \"Gender\"\n",
       " \"Date Captured\"\n",
       " \"Annuli\"\n",
       " \"Age\"\n",
       " \"WEIGHT (KG)\"\n",
       " \"LENGTH (CM)\"\n",
       " \"TG (CM)\"\n",
       " \"VET SCORE (Adipose)\"\n",
       " \"TOTAL PROTEIN (g/100mL)\"\n",
       " \"PCV Color\"\n",
       " \"PCV\"\n",
       " \"Histology Adipose\"\n",
       " \"Histology Liver\"\n",
       " \"Histology Swim Bladder\"\n",
       " \"NECROPSY NOTES:\""
      ]
     },
     "execution_count": 7,
     "metadata": {},
     "output_type": "execute_result"
    }
   ],
   "source": [
    "names(dfIndividuals)"
   ]
  },
  {
   "cell_type": "code",
   "execution_count": 8,
   "id": "eb2743c2",
   "metadata": {},
   "outputs": [
    {
     "name": "stdout",
     "output_type": "stream",
     "text": [
      "From the study description, ST001052 has 51 subjects.\n"
     ]
    }
   ],
   "source": [
    "println(\"From the study description, $(ST) has $(fetch_total_subjects(ST)) subjects.\")"
   ]
  },
  {
   "cell_type": "markdown",
   "id": "dfb6057c",
   "metadata": {},
   "source": [
    "The clinical covariates dataframe contains 2 extra rows. We need to indicate what values corresponds to the `missing` data. In our case, all \"-\" will be replaced by `missing`.    "
   ]
  },
  {
   "cell_type": "code",
   "execution_count": 9,
   "id": "426e6dc4",
   "metadata": {},
   "outputs": [],
   "source": [
    "# assign missing value to \"-\"\n",
    "dfIndividuals = ifelse.(dfIndividuals .== \"-\", missing, dfIndividuals);"
   ]
  },
  {
   "cell_type": "markdown",
   "id": "b9d2d8f5",
   "metadata": {},
   "source": [
    "Check number of missing per columns."
   ]
  },
  {
   "cell_type": "code",
   "execution_count": 10,
   "id": "632c6552",
   "metadata": {},
   "outputs": [
    {
     "name": "stdout",
     "output_type": "stream",
     "text": [
      "Group contains 2 missing values.\n",
      "Gender contains 2 missing values.\n",
      "Date Captured contains 1 missing values.\n",
      "Annuli contains 2 missing values.\n",
      "Age contains 2 missing values.\n",
      "WEIGHT (KG) contains 2 missing values.\n",
      "LENGTH (CM) contains 2 missing values.\n",
      "TG (CM) contains 2 missing values.\n",
      "VET SCORE (Adipose) contains 16 missing values.\n",
      "TOTAL PROTEIN (g/100mL) contains 3 missing values.\n",
      "PCV Color contains 3 missing values.\n",
      "PCV contains 3 missing values.\n",
      "Histology Adipose contains 9 missing values.\n",
      "Histology Liver contains 2 missing values.\n",
      "Histology Swim Bladder contains 7 missing values.\n",
      "NECROPSY NOTES: contains 14 missing values.\n"
     ]
    }
   ],
   "source": [
    "print_variables_missing(dfIndividuals)"
   ]
  },
  {
   "cell_type": "markdown",
   "id": "aba98a87",
   "metadata": {},
   "source": [
    "### Clinical dictionary"
   ]
  },
  {
   "cell_type": "code",
   "execution_count": 11,
   "id": "10d31169",
   "metadata": {},
   "outputs": [],
   "source": [
    "fileClinicalDict = joinpath(@__DIR__,\"..\",\"..\",\"data\",\"processed\", \"ClinicalDataDictionary.csv\");\n",
    "open(fileClinicalDict,\"w\") do io\n",
    "   println(io,\n",
    "        \"Variable name, Variable description\\n\",\n",
    "        \"Gender,Sex\\n\",\n",
    "        \"Age, Years\\n\",\n",
    "        \"Weight (KG), Kilogram\\n\",\n",
    "        \"Length (CM), Centimeter\\n\",\n",
    "        \"Annuli,Number of opaque zones on fish scales\\n\",\n",
    "        # \"TG (CM),???\\n\",\n",
    "        \"VET SCORE,Veterinarian score where vet score < 1 indicates healthy tilapia and  vet score ≥ 1 indicates pansteatitis-affected tilapia.\\n\" ,\n",
    "        \"PCV Color,Pigmentation visually observed\\n\",\n",
    "        \"PCV,Pigmentation concentration volume\\n\",\n",
    "        \"Histology Adipose,Histological examination score of the adipose tissue\\n\",\n",
    "        \"Histology Liver,Histological examination score of the liver tissue\\n\",\n",
    "        \"Histology Swim Bladder,Histological examination score of the swim bladder tissue\"\n",
    "    )\n",
    "end"
   ]
  },
  {
   "cell_type": "markdown",
   "id": "dcc95023",
   "metadata": {},
   "source": [
    "### Independent variables"
   ]
  },
  {
   "cell_type": "markdown",
   "id": "b6843cc6",
   "metadata": {},
   "source": [
    "Select variables of interest:"
   ]
  },
  {
   "cell_type": "code",
   "execution_count": 12,
   "id": "33dbcf41",
   "metadata": {},
   "outputs": [],
   "source": [
    "select!(dfIndividuals, Symbol.([\"Sample ID\",\n",
    "                                \"Group\",\n",
    "                                \"Gender\",\n",
    "                                \"Annuli\",\n",
    "                                \"Age\",\n",
    "                                \"WEIGHT (KG)\",\n",
    "                                \"LENGTH (CM)\",\n",
    "                                \"Histology Adipose\",\n",
    "                                # \"Histology Liver\",\n",
    "                                # \"Histology Swim Bladder\",\n",
    "]));"
   ]
  },
  {
   "cell_type": "markdown",
   "id": "30429278",
   "metadata": {},
   "source": [
    "Rename variables if needed:"
   ]
  },
  {
   "cell_type": "code",
   "execution_count": 13,
   "id": "9327d3ad",
   "metadata": {},
   "outputs": [],
   "source": [
    "rename!(dfIndividuals, Dict(\n",
    "        :Group => \"Status\",\n",
    "        :Gender => \"Sex\",\n",
    "        Symbol(\"Sample ID\") => \"SampleID\",\n",
    "        Symbol(\"WEIGHT (KG)\") => \"Weight\",\n",
    "        Symbol(\"LENGTH (CM)\") => \"Length\",\n",
    "        Symbol(\"Histology Adipose\") => \"Histological_Score\",\n",
    "        # Symbol(\"Histology Liver\") => \"Histology_Liver\",\n",
    "        # Symbol(\"Histology Swim Bladder\") => \"Histology_Swim_Bladder\",\n",
    "));"
   ]
  },
  {
   "cell_type": "markdown",
   "id": "db7b5d60-6d60-486b-9147-ec99a7ac159f",
   "metadata": {},
   "source": [
    "#### Extract histology score   \n",
    "\n",
    "The histology score spans between 0 and 5. Let write the histology dictionnary:   "
   ]
  },
  {
   "cell_type": "code",
   "execution_count": null,
   "id": "d0754902-7167-4a41-8326-f414de05b2cc",
   "metadata": {},
   "outputs": [],
   "source": [
    "fileHystologyDict = joinpath(@__DIR__,\"..\",\"..\",\"data\",\"processed\", \"HistologyDictionary.csv\");\n",
    "open(fileHystologyDict,\"w\") do io\n",
    "   println(io,\n",
    "        \"Score, Histological Score Progression\\n\",\n",
    "        \"0, no signs\\n\",\n",
    "        \"1, minimal\\n\",\n",
    "        \"2, mild/few\\n\",\n",
    "        \"3, moderate\",\n",
    "        \"4, moderate/severe\\n\",\n",
    "        \"5, severe\\n\",\n",
    "    )\n",
    "end"
   ]
  },
  {
   "cell_type": "markdown",
   "id": "e4abca2a-9f2b-4d32-8e82-e0964314da8c",
   "metadata": {},
   "source": [
    "Create a function to extract each score:"
   ]
  },
  {
   "cell_type": "code",
   "execution_count": null,
   "id": "37d4a054-eba2-45bf-bcf6-3e5bd8728aef",
   "metadata": {},
   "outputs": [],
   "source": [
    "function xtrcHistScore(vecHist) \n",
    "    idxnotmissing = findall(.!(ismissing.(vecHist)));\n",
    "    vScore = Vector{Union{Missing, Int}}(undef, length(vecHist));\n",
    "    for i in idxnotmissing\n",
    "        if isdigit(vecHist[i][1])\n",
    "           vScore[i] = parse(Int, vecHist[i][1]) \n",
    "        end\n",
    "    end\n",
    "    \n",
    "    return vScore\n",
    "end;"
   ]
  },
  {
   "cell_type": "markdown",
   "id": "269ce298-d6ba-4197-849f-8d904e906c6e",
   "metadata": {},
   "source": [
    "Replace original histology text by extracted score:"
   ]
  },
  {
   "cell_type": "code",
   "execution_count": null,
   "id": "abc9e912-c554-4678-878c-6c0adacd582c",
   "metadata": {},
   "outputs": [],
   "source": [
    "dfIndividuals.Histological_Score .= xtrcHistScore(dfIndividuals.Histological_Score);\n",
    "# dfIndividuals.Histology_Liver .= xtrcHistScore(dfIndividuals.Histology_Liver);\n",
    "# dfIndividuals.Histology_Swim_Bladder .= xtrcHistScore(dfIndividuals.Histology_Swim_Bladder);"
   ]
  },
  {
   "cell_type": "markdown",
   "id": "750559c0",
   "metadata": {},
   "source": [
    "Filter incomplete cases:"
   ]
  },
  {
   "cell_type": "code",
   "execution_count": null,
   "id": "bad51808",
   "metadata": {},
   "outputs": [],
   "source": [
    "# filter complete cases\n",
    "idxComplete = findall(completecases(dfIndividuals))\n",
    "dfIndividuals = dfIndividuals[idxComplete, :]\n",
    "\n",
    "# add a prefix to the ID samples\n",
    "dfIndividuals.SampleID = \"ID_\".*string.(dfIndividuals.SampleID);\n",
    "\n",
    "first(dfIndividuals, 5)"
   ]
  },
  {
   "cell_type": "markdown",
   "id": "ba739dca",
   "metadata": {},
   "source": [
    "Insert a `GroupStatus` variable. The `Group` variable includes the diseases status and gender:"
   ]
  },
  {
   "cell_type": "code",
   "execution_count": null,
   "id": "bc2cf7f0",
   "metadata": {},
   "outputs": [],
   "source": [
    "unique(dfIndividuals.Status)"
   ]
  },
  {
   "cell_type": "markdown",
   "id": "2fcff5dd",
   "metadata": {},
   "source": [
    "Let redefine the `Status` variable:"
   ]
  },
  {
   "cell_type": "code",
   "execution_count": null,
   "id": "49aa04bd",
   "metadata": {},
   "outputs": [],
   "source": [
    "# insertcols!(dfIndividuals, 3, :GroupStatus => occursin.(\"D\", dfIndividuals.Group));\n",
    "idxDiseased = findall(occursin.(\"D\", dfIndividuals.Status)) ;\n",
    "idxHealthy = findall(occursin.(\"H\", dfIndividuals.Status));\n",
    "\n",
    "dfIndividuals.Status[idxDiseased] .= \"Diseased\";\n",
    "dfIndividuals.Status[idxHealthy] .= \"Healthy\";\n",
    "\n",
    "idxMale = findall(occursin.(\"M\", dfIndividuals.Sex)) ;\n",
    "idxFemale = findall(occursin.(\"F\", dfIndividuals.Sex));\n",
    "\n",
    "dfIndividuals.Sex[idxMale] .= \"Male\";\n",
    "dfIndividuals.Sex[idxFemale] .= \"Female\";"
   ]
  },
  {
   "cell_type": "code",
   "execution_count": null,
   "id": "df285433",
   "metadata": {},
   "outputs": [],
   "source": [
    "first(dfIndividuals, 5)"
   ]
  },
  {
   "cell_type": "markdown",
   "id": "7bf68f9b",
   "metadata": {},
   "source": [
    "#### Save processed individuals dataset:"
   ]
  },
  {
   "cell_type": "code",
   "execution_count": null,
   "id": "c80701d7",
   "metadata": {},
   "outputs": [],
   "source": [
    "fileIndividuals = joinpath(@__DIR__,\"..\",\"..\",\"data\",\"processed\",\"ST001052_ClinicalCovariates.csv\");\n",
    "dfIndividuals |> CSV.write(fileIndividuals);"
   ]
  },
  {
   "cell_type": "markdown",
   "id": "6caac73d",
   "metadata": {},
   "source": [
    "### Demography"
   ]
  },
  {
   "cell_type": "code",
   "execution_count": null,
   "id": "eff2c41a",
   "metadata": {},
   "outputs": [],
   "source": [
    "dfDemog = getDemographicST001052()"
   ]
  },
  {
   "cell_type": "code",
   "execution_count": null,
   "id": "9f2f0d51",
   "metadata": {},
   "outputs": [],
   "source": [
    "fileDemog = joinpath(@__DIR__,\"..\",\"..\",\"data\",\"processed\",\"Demog.csv\");\n",
    "dfDemog |> CSV.write(fileDemog);"
   ]
  },
  {
   "cell_type": "markdown",
   "id": "246f4384",
   "metadata": {},
   "source": [
    "## Extract Metabolite references"
   ]
  },
  {
   "cell_type": "code",
   "execution_count": null,
   "id": "e2cdb1aa",
   "metadata": {},
   "outputs": [],
   "source": [
    "# get clinical covariates\n",
    "dfRef =  fetch_metabolites(ST);\n",
    "print_df_size(dfRef)"
   ]
  },
  {
   "cell_type": "markdown",
   "id": "3f1635c3",
   "metadata": {},
   "source": [
    "List the name of available properties:"
   ]
  },
  {
   "cell_type": "code",
   "execution_count": null,
   "id": "08beef0e",
   "metadata": {},
   "outputs": [],
   "source": [
    "names(dfRef)"
   ]
  },
  {
   "cell_type": "code",
   "execution_count": null,
   "id": "7f90a474",
   "metadata": {},
   "outputs": [],
   "source": [
    "first(dfRef, 5)"
   ]
  },
  {
   "cell_type": "markdown",
   "id": "f9517128",
   "metadata": {},
   "source": [
    "Create a metabolite ID and keep only name and ID:"
   ]
  },
  {
   "cell_type": "code",
   "execution_count": null,
   "id": "e229091a",
   "metadata": {},
   "outputs": [],
   "source": [
    "dfRef.MetaboliteID = \"MT\" .* string.(10000 .+ collect(1:size(dfRef, 1)));\n",
    "select!(dfRef, [:Metabolite, :MetaboliteID]);"
   ]
  },
  {
   "cell_type": "markdown",
   "id": "9329af78",
   "metadata": {},
   "source": [
    "### Get Classification information"
   ]
  },
  {
   "cell_type": "markdown",
   "id": "89109beb",
   "metadata": {},
   "source": [
    "To get the classifciation information, we use the package `MetabolomicsWorkbenchAPI.jl`."
   ]
  },
  {
   "cell_type": "code",
   "execution_count": null,
   "id": "f3dafe34",
   "metadata": {
    "tags": []
   },
   "outputs": [],
   "source": [
    "dfClassification = fetch_properties(dfRef.Metabolite);\n",
    "# insertcols!(dfClassification, 1, :metabolite_name => dfRef.metabolite_name);\n",
    "first(dfClassification, 3)"
   ]
  },
  {
   "cell_type": "code",
   "execution_count": null,
   "id": "3b8ed800",
   "metadata": {},
   "outputs": [],
   "source": [
    "idxmissing = findall(ismissing.(dfClassification.main_class))\n",
    "dfRef.Metabolite[idxmissing]"
   ]
  },
  {
   "cell_type": "code",
   "execution_count": null,
   "id": "a6079f9b",
   "metadata": {},
   "outputs": [],
   "source": [
    "size(dfRef)"
   ]
  },
  {
   "cell_type": "markdown",
   "id": "46418c6b",
   "metadata": {},
   "source": [
    "To be able to use all the lipid, especially the Triglycerides, we need to adjust the name in a more standardized way to be able to extract their properties information.  \n",
    "- The *Ox-* prefix mean oxidized, such as in *OxTG(16:0_20:5_20:3(OH))*. The *OH* indicates that it is a [TG hydroperoxide](https://www.ncbi.nlm.nih.gov/pmc/articles/PMC6550225/) [2].   \n",
    "- The *P-* and the *O-* indicate respectively if the lipid is a plasmalogen or a plasmanyl, such as *plasmanyl-TG(O-20:0_18:0_18:4)* and *plasmenyl-TG(P-20:1_15:0_16:0)*[3].\n",
    "- The non-oxidized lipids that contains Oxygen are described in [4].\n"
   ]
  },
  {
   "cell_type": "code",
   "execution_count": null,
   "id": "f9c7af9c",
   "metadata": {},
   "outputs": [],
   "source": [
    "dfRefOriginal = copy(dfRef);"
   ]
  },
  {
   "cell_type": "code",
   "execution_count": null,
   "id": "25aace28",
   "metadata": {},
   "outputs": [],
   "source": [
    "dfRef = copy(dfRefOriginal);"
   ]
  },
  {
   "cell_type": "code",
   "execution_count": null,
   "id": "03237607",
   "metadata": {},
   "outputs": [],
   "source": [
    "dfRef.StandardizedName = copy(dfRef.Metabolite);"
   ]
  },
  {
   "cell_type": "code",
   "execution_count": null,
   "id": "001da4eb",
   "metadata": {},
   "outputs": [],
   "source": [
    "function standardizename(df::DataFrame, colname::String, matchstring)\n",
    "    if !([colname] ⊆ names(df))\n",
    "        df[:, colname] = repeat([false], size(dfRef, 1));\n",
    "    end\n",
    "    idx = findall(occursin.(matchstring, dfRef.Metabolite));\n",
    "    df[idx, colname] .= true;\n",
    "    # standardize name \n",
    "    df.StandardizedName[idx] .= replace.(dfRef.StandardizedName[idx], matchstring=>\"\"); \n",
    "    return df\n",
    "end"
   ]
  },
  {
   "cell_type": "code",
   "execution_count": null,
   "id": "b8589a24",
   "metadata": {
    "tags": []
   },
   "outputs": [],
   "source": [
    "newcolname = [\"Oxidized\", \"OH\", \"O\", \"O₂\", \"O₃\", \"O₄\", \"Plasmanyl\", \"Plasmalogen\",\n",
    "              \"O₂\", \"O₃\", \"Plasmanyl\", \"Plasmalogen\", \"CHO\", \"Ke\", \"O\" ] \n",
    "rmvstring = [\"Ox\", \"(OH)\", \"+O\", \"(OO)\", \"(OOO)\", \"(OOOO)\", \"O-\", \"P-\",\n",
    "             \"+OO\", \"+3O\", r\"(?i)plasmanyl-\", r\"(?i)plasmenyl-\", \"(CHO)\", \"(Ke)\", \"O\" ]\n",
    "for i in 1:length(newcolname)\n",
    "    dfRef = standardizename(dfRef, newcolname[i], rmvstring[i]);\n",
    "end    "
   ]
  },
  {
   "cell_type": "code",
   "execution_count": null,
   "id": "9c0e2324-9311-44e8-9aef-ffa102b8ee73",
   "metadata": {
    "tags": []
   },
   "outputs": [],
   "source": [
    "dfRef"
   ]
  },
  {
   "cell_type": "code",
   "execution_count": null,
   "id": "76b65227",
   "metadata": {},
   "outputs": [],
   "source": [
    "dfClassification = fetch_properties(dfRef.StandardizedName);\n",
    "insertcols!(dfClassification, 1, :Metabolite => dfRef.Metabolite);\n",
    "first(dfClassification, 3)\n",
    "idxmissing = findall(ismissing.(dfClassification.main_class))\n",
    "dfRef.StandardizedName[idxmissing]"
   ]
  },
  {
   "cell_type": "markdown",
   "id": "19cf0161",
   "metadata": {},
   "source": [
    "At this stage, only *DMPE(16:0_22:6)* can be processed by [goslin](https://apps.lifs-tools.org/goslin/).   \n",
    "We will filter *PMe(16:0/18:1)* (phosphatidylmethanol) [5] and *ZyE(22:5)*.\n"
   ]
  },
  {
   "cell_type": "code",
   "execution_count": null,
   "id": "c137efbd",
   "metadata": {},
   "outputs": [],
   "source": [
    "dfRef = leftjoin(dfRef, dfClassification, on = :Metabolite); size(dfRef)\n",
    "# filter\n",
    "deleteat!(dfRef, idxmissing[[2,3]]);"
   ]
  },
  {
   "cell_type": "markdown",
   "id": "7f72f0e0",
   "metadata": {
    "tags": []
   },
   "source": [
    "### Use GOSLIN"
   ]
  },
  {
   "cell_type": "code",
   "execution_count": null,
   "id": "cf3991c2",
   "metadata": {},
   "outputs": [],
   "source": [
    "R\"\"\"\n",
    "suppressMessages(library('rgoslin'))\n",
    "suppressMessages(library('tidyverse'));\n",
    "\"\"\""
   ]
  },
  {
   "cell_type": "code",
   "execution_count": null,
   "id": "22a0435b",
   "metadata": {},
   "outputs": [],
   "source": [
    "@rput dfRef;"
   ]
  },
  {
   "cell_type": "code",
   "execution_count": null,
   "id": "0ce00be6",
   "metadata": {
    "lines_to_next_cell": 2
   },
   "outputs": [],
   "source": [
    "R\"\"\"\n",
    "# check validity\n",
    "dfRef$Valid <- suppressWarnings(sapply(dfRef$StandardizedName, isValidLipidName))\n",
    "if (sum(dfRef$Valid) == dim(dfRef)[1]) {\n",
    "    cat(\"All valid.\")\n",
    "} else {\n",
    "    print(\"Check invalid names.\")\n",
    "}\n",
    "\"\"\";"
   ]
  },
  {
   "cell_type": "code",
   "execution_count": null,
   "id": "306583d7",
   "metadata": {},
   "outputs": [],
   "source": [
    "dfRef.Total_C = zeros(Int, size(dfRef,1));\n",
    "dfRef.Total_DB = zeros(Int, size(dfRef,1));\n",
    "dfRef.Class = repeat([\"NA\"], size(dfRef,1));"
   ]
  },
  {
   "cell_type": "code",
   "execution_count": null,
   "id": "ebc08c53",
   "metadata": {},
   "outputs": [],
   "source": [
    "for i in 1:size(dfRef, 1)\n",
    "    @rput i;\n",
    "    R\"\"\"\n",
    "    #rsltGoslin <- as_tibble(parseLipidNames(dfRef$StandardizedName[i]))[, c(\"Original Name\", \"Total C\", \"Total DB\", \"Lipid Maps Main Class\")];\n",
    "    rsltGoslin <- as_tibble(parseLipidNames(dfRef$StandardizedName[i]))[, c(\"Original.Name\", \"Total.C\", \"Total.DB\", \"Lipid.Maps.Main.Class\")];\n",
    "    \"\"\"\n",
    "    @rget rsltGoslin\n",
    "    # dfRef.Total_C[i] = parse(Int, rsltGoslin.\"Total C\"[1])\n",
    "    # dfRef.Total_DB[i] = parse(Int, rsltGoslin.\"Total DB\"[1])\n",
    "    # dfRef.Class[i] = rsltGoslin.\"Lipid Maps Main Class\"[1]\n",
    "        \n",
    "    dfRef.Total_C[i] = rsltGoslin.\"Total_C\"[1]\n",
    "    dfRef.Total_DB[i] = rsltGoslin.\"Total_DB\"[1]\n",
    "    dfRef.Class[i] = rsltGoslin.\"Lipid_Maps_Main_Class\"[1]\n",
    "end"
   ]
  },
  {
   "cell_type": "code",
   "execution_count": null,
   "id": "1f591eb7",
   "metadata": {},
   "outputs": [],
   "source": [
    "names(dfRef)"
   ]
  },
  {
   "cell_type": "markdown",
   "id": "ccf5f400",
   "metadata": {
    "tags": []
   },
   "source": [
    "#### Save metabolites reference dataset:"
   ]
  },
  {
   "cell_type": "code",
   "execution_count": null,
   "id": "43149426",
   "metadata": {},
   "outputs": [],
   "source": [
    "fileMetaboRef = joinpath(@__DIR__,\"..\",\"..\",\"data\",\"processed\",\"refMeta.csv\");\n",
    "dfRef |> CSV.write(fileMetaboRef);"
   ]
  },
  {
   "cell_type": "markdown",
   "id": "d051017a-d3dd-44f7-a483-d0106f74aa0c",
   "metadata": {},
   "source": [
    "### Sub class dictionary"
   ]
  },
  {
   "cell_type": "code",
   "execution_count": null,
   "id": "7e485a14-746e-49ec-8d67-57578f37bb16",
   "metadata": {},
   "outputs": [],
   "source": [
    "fileClinicalDict = joinpath(@__DIR__,\"..\",\"..\",\"data\",\"processed\", \"SubClassDictionary.csv\");\n",
    "open(fileClinicalDict,\"w\") do io\n",
    "   println(io,\n",
    "        \"SubClass,Name\\n\",\n",
    "        \"Cer,Ceramides\\n\",\n",
    "        \"Chol. esters,Cholesteryl esters\\n\",\n",
    "        \"DAG,Diglycerides\\n\",\n",
    "        \"LPC,Lysophosphatidylcholines\\n\",\n",
    "        \"LPE,Lysocephalins\\n\",\n",
    "        \"PC,Phosphatidylcholines\\n\",\n",
    "        \"PE,Phosphatidylethanolamines\\n\" ,\n",
    "        \"PI,Phosphatidylinositols\\n\",\n",
    "        \"PS,Phosphatidylserines\\n\",\n",
    "        \"SM,Sphingomyelins\\n\",\n",
    "        \"TAG,Triglycerides\\n\"\n",
    "    )\n",
    "end"
   ]
  },
  {
   "cell_type": "markdown",
   "id": "d4434805",
   "metadata": {},
   "source": [
    "## Extract Metabolites dataset "
   ]
  },
  {
   "cell_type": "code",
   "execution_count": null,
   "id": "efa44a8f",
   "metadata": {
    "tags": []
   },
   "outputs": [],
   "source": [
    "dfMetabo = fetch_data(ST);"
   ]
  },
  {
   "cell_type": "code",
   "execution_count": null,
   "id": "7efde749",
   "metadata": {},
   "outputs": [],
   "source": [
    "# rename sample ID with suffix\n",
    "vHeader = names(dfMetabo);\n",
    "vHeader[2:end] .= \"ID_\".*vHeader[2:end];\n",
    "rename!(dfMetabo, Symbol.(vHeader));"
   ]
  },
  {
   "cell_type": "code",
   "execution_count": null,
   "id": "c34dc282",
   "metadata": {},
   "outputs": [],
   "source": [
    "first(dfMetabo, 5)"
   ]
  },
  {
   "cell_type": "markdown",
   "id": "ea6a5c1a",
   "metadata": {},
   "source": [
    "Replace `Metabolite` name information with `MetaboliteID` values:"
   ]
  },
  {
   "cell_type": "code",
   "execution_count": null,
   "id": "15cba9b0",
   "metadata": {},
   "outputs": [],
   "source": [
    "dfMetaboAll = leftjoin(select(dfRefOriginal, [:Metabolite, :MetaboliteID]), dfMetabo, on = [:Metabolite]);\n",
    "select!(dfMetaboAll, Not([:Metabolite]));"
   ]
  },
  {
   "cell_type": "markdown",
   "id": "a64ed6df",
   "metadata": {},
   "source": [
    "Select the samples that only present in the filtered clinical dataset, `dfIndividuals`:   "
   ]
  },
  {
   "cell_type": "code",
   "execution_count": null,
   "id": "01dd24dd",
   "metadata": {},
   "outputs": [],
   "source": [
    "select!(dfMetaboAll, vcat([:MetaboliteID], Symbol.(dfIndividuals.SampleID)));\n",
    "size(dfMetaboAll)"
   ]
  },
  {
   "cell_type": "markdown",
   "id": "5d22e3df",
   "metadata": {
    "tags": []
   },
   "source": [
    "#### Save metabolites levels dataset:"
   ]
  },
  {
   "cell_type": "code",
   "execution_count": null,
   "id": "aaf4c99f",
   "metadata": {},
   "outputs": [],
   "source": [
    "fileMetabo = joinpath(@__DIR__,\"..\",\"..\",\"data\",\"processed\",\"Metabo.csv\");\n",
    "dfMetaboAll = permutedims(dfMetaboAll, 1, :SampleID);\n",
    "dfMetaboAll |> CSV.write(fileMetabo);"
   ]
  },
  {
   "cell_type": "markdown",
   "id": "78134770",
   "metadata": {
    "lines_to_next_cell": 2,
    "tags": []
   },
   "source": [
    "## References\n",
    "\n",
    "[1] Koelmel, J. P., Ulmer, C. Z., Fogelson, S., Jones, C. M., Botha, H., Bangma, J. T., Guillette, T. C., Luus-Powell, W. J., Sara, J. R., Smit, W. J., Albert, K., Miller, H. A., Guillette, M. P., Olsen, B. C., Cochran, J. A., Garrett, T. J., Yost, R. A., & Bowden, J. A. (2019). Lipidomics for wildlife disease etiology and biomarker discovery: a case study of pansteatitis outbreak in South Africa. Metabolomics : Official journal of the Metabolomic Society, 15(3), 38. https://doi.org/10.1007/s11306-019-1490-9    \n",
    "\n",
    "[2] Kato, S., Shimizu, N., Hanzawa, Y., Otoki, Y., Ito, J., Kimura, F., Takekoshi, S., Sakaino, M., Sano, T., Eitsuka, T., Miyazawa, T., & Nakagawa, K. (2018). Determination of triacylglycerol oxidation mechanisms in canola oil using liquid chromatography-tandem mass spectrometry. NPJ science of food, 2, 1. https://doi.org/10.1038/s41538-017-0009-x    \n",
    "\n",
    "[3] Koelmel, J. P., Ulmer, C. Z., Jones, C. M., Yost, R. A., & Bowden, J. A. (2017). Common cases of improper lipid annotation using high-resolution tandem mass spectrometry data and corresponding limitations in biological interpretation. Biochimica et biophysica acta. Molecular and cell biology of lipids, 1862(8), 766–770. https://doi.org/10.1016/j.bbalip.2017.02.016    \n",
    "\n",
    "[4] Riewe, D., Wiebach, J., & Altmann, T. (2017). Structure Annotation and Quantification of Wheat Seed Oxidized Lipids by High-Resolution LC-MS/MS. Plant physiology, 175(2), 600–618. https://doi.org/10.1104/pp.17.00470    \n",
    "\n",
    "[5] Koelmel, J. P., Jones, C. M., Ulmer, C. Z., Garrett, T. J., Yost, R. A., Schock, T. B., & Bowden, J. A. (2018). Examining heat treatment for stabilization of the lipidome. Bioanalysis, 10(5), 291–305. https://doi.org/10.4155/bio-2017-0209    \n",
    "\n"
   ]
  }
 ],
 "metadata": {
  "jupytext": {
   "encoding": "# -*- coding: utf-8 -*-",
   "formats": "ipynb,jl:light"
  },
  "kernelspec": {
   "display_name": "Julia 1.11.2",
   "language": "julia",
   "name": "julia-1.11"
  },
  "language_info": {
   "file_extension": ".jl",
   "mimetype": "application/julia",
   "name": "julia",
   "version": "1.11.2"
  }
 },
 "nbformat": 4,
 "nbformat_minor": 5
}
