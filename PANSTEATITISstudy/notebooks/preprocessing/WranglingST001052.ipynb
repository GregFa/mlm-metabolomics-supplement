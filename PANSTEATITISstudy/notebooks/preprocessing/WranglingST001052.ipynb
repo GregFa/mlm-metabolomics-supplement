{
 "cells": [
  {
   "cell_type": "markdown",
   "id": "df3f0781",
   "metadata": {
    "tags": []
   },
   "source": [
    "# Wrangling PANSTEATITIS study ST001052\n",
    "---"
   ]
  },
  {
   "cell_type": "markdown",
   "id": "39cebb65",
   "metadata": {},
   "source": [
    "This notebook carries out the wrangling process for the [LIVER study ST001052 lipidomics data](https://www.metabolomicsworkbench.org/data/DRCCMetadata.php?Mode=Study&StudyID=ST001052&StudyType=MS&ResultType=1) [1]."
   ]
  },
  {
   "cell_type": "markdown",
   "id": "b0b0f79c",
   "metadata": {},
   "source": [
    "## Libraries"
   ]
  },
  {
   "cell_type": "code",
   "execution_count": 1,
   "id": "338ce937-4af2-4218-b1a4-f0f712991c19",
   "metadata": {},
   "outputs": [],
   "source": [
    "using Pkg "
   ]
  },
  {
   "cell_type": "code",
   "execution_count": 2,
   "id": "8859f01d-e085-4e4d-b64e-e5994982158d",
   "metadata": {},
   "outputs": [
    {
     "name": "stderr",
     "output_type": "stream",
     "text": [
      "\u001b[32m\u001b[1m  Activating\u001b[22m\u001b[39m project at `~/git/gregfa/metabolomics/mlm-metabolomics-supplement/PANSTEATITISstudy`\n"
     ]
    }
   ],
   "source": [
    "Pkg.activate(joinpath(@__DIR__, \"..\", \"..\"))"
   ]
  },
  {
   "cell_type": "code",
   "execution_count": 60,
   "id": "f7b85f68-93b5-478f-88e8-9b6ae3497ca8",
   "metadata": {},
   "outputs": [],
   "source": [
    "Pkg.instantiate()"
   ]
  },
  {
   "cell_type": "code",
   "execution_count": 4,
   "id": "843159ff",
   "metadata": {},
   "outputs": [],
   "source": [
    "# To use RCall for the first time, one needs to \n",
    "# the location of the R home directory.\n",
    "firstTimeRCall = false\n",
    "if firstTimeRCall\n",
    "    using Pkg\n",
    "    io = IOBuffer()\n",
    "    versioninfo(io)\n",
    "    if occursin(\"Windows\", String(take!(io)))\n",
    "        ENV[\"R_HOME\"] = \"C:/PROGRA~1/R/R-43~1.1\" # from R.home() in R\n",
    "    else \n",
    "        ENV[\"R_HOME\"] = \"/usr/lib/R\"\n",
    "\n",
    "    end\n",
    "    Pkg.build(\"RCall\")\n",
    "end      "
   ]
  },
  {
   "cell_type": "code",
   "execution_count": 5,
   "id": "7926a12b",
   "metadata": {},
   "outputs": [
    {
     "name": "stderr",
     "output_type": "stream",
     "text": [
      "\u001b[36m\u001b[1m[ \u001b[22m\u001b[39m\u001b[36m\u001b[1mInfo: \u001b[22m\u001b[39mPrecompiling RCall [6f49c342-dc21-5d91-9882-a32aef131414] (cache misses: incompatible header (6))\n"
     ]
    }
   ],
   "source": [
    "using DataFrames, CSV\n",
    "using FreqTables #, CategoricalArrays\n",
    "using StatsBase\n",
    "using RCall# Conda, PyCall\n",
    "using MetabolomicsWorkbenchAPI"
   ]
  },
  {
   "cell_type": "markdown",
   "id": "aabf12b9",
   "metadata": {},
   "source": [
    "## Ext. Functions"
   ]
  },
  {
   "cell_type": "code",
   "execution_count": 6,
   "id": "16543d40",
   "metadata": {
    "tags": []
   },
   "outputs": [],
   "source": [
    "include(joinpath(@__DIR__,\"..\",\"..\",\"src\",\"wrangling_utils.jl\" ));\n",
    "include(joinpath(@__DIR__,\"..\",\"..\",\"src\",\"demog.jl\" ));"
   ]
  },
  {
   "cell_type": "markdown",
   "id": "5ace0e0f",
   "metadata": {},
   "source": [
    "## Load data ST001052"
   ]
  },
  {
   "cell_type": "code",
   "execution_count": 7,
   "id": "cf1cfee9",
   "metadata": {},
   "outputs": [],
   "source": [
    "ST  = \"ST001052\";"
   ]
  },
  {
   "cell_type": "markdown",
   "id": "d7f53d62",
   "metadata": {
    "tags": []
   },
   "source": [
    "## Extract clinical covariates"
   ]
  },
  {
   "cell_type": "markdown",
   "id": "04260c37",
   "metadata": {},
   "source": [
    "Use the Julia's API to get the samples data from the [metabolomics workbench](https://www.metabolomicsworkbench.org/data/DRCCMetadata.php?Mode=Study&StudyID=ST001052)."
   ]
  },
  {
   "cell_type": "code",
   "execution_count": 8,
   "id": "21c177e2",
   "metadata": {
    "tags": []
   },
   "outputs": [
    {
     "name": "stdout",
     "output_type": "stream",
     "text": [
      "The dataframe contains 53 rows and 17 columns\n"
     ]
    }
   ],
   "source": [
    "# get clinical covariates\n",
    "dfIndividuals =  fetch_samples(ST);\n",
    "print_df_size(dfIndividuals)"
   ]
  },
  {
   "cell_type": "markdown",
   "id": "63ba7083",
   "metadata": {},
   "source": [
    "List of the covariate names: "
   ]
  },
  {
   "cell_type": "code",
   "execution_count": 9,
   "id": "fbf9b683",
   "metadata": {},
   "outputs": [
    {
     "data": {
      "text/plain": [
       "17-element Vector{String}:\n",
       " \"Sample ID\"\n",
       " \"Group\"\n",
       " \"Gender\"\n",
       " \"Date Captured\"\n",
       " \"Annuli\"\n",
       " \"Age\"\n",
       " \"WEIGHT (KG)\"\n",
       " \"LENGTH (CM)\"\n",
       " \"TG (CM)\"\n",
       " \"VET SCORE (Adipose)\"\n",
       " \"TOTAL PROTEIN (g/100mL)\"\n",
       " \"PCV Color\"\n",
       " \"PCV\"\n",
       " \"Histology Adipose\"\n",
       " \"Histology Liver\"\n",
       " \"Histology Swim Bladder\"\n",
       " \"NECROPSY NOTES:\""
      ]
     },
     "execution_count": 9,
     "metadata": {},
     "output_type": "execute_result"
    }
   ],
   "source": [
    "names(dfIndividuals)"
   ]
  },
  {
   "cell_type": "code",
   "execution_count": 10,
   "id": "eb2743c2",
   "metadata": {},
   "outputs": [
    {
     "name": "stdout",
     "output_type": "stream",
     "text": [
      "From the study description, ST001052 has 51 subjects.\n"
     ]
    }
   ],
   "source": [
    "println(\"From the study description, $(ST) has $(fetch_total_subjects(ST)) subjects.\")"
   ]
  },
  {
   "cell_type": "markdown",
   "id": "dfb6057c",
   "metadata": {},
   "source": [
    "The clinical covariates dataframe contains 2 extra rows. We need to indicate what values corresponds to the `missing` data. In our case, all \"-\" will be replaced by `missing`.    "
   ]
  },
  {
   "cell_type": "code",
   "execution_count": 11,
   "id": "426e6dc4",
   "metadata": {},
   "outputs": [],
   "source": [
    "# assign missing value to \"-\"\n",
    "dfIndividuals = ifelse.(dfIndividuals .== \"-\", missing, dfIndividuals);"
   ]
  },
  {
   "cell_type": "markdown",
   "id": "b9d2d8f5",
   "metadata": {},
   "source": [
    "Check number of missing per columns."
   ]
  },
  {
   "cell_type": "code",
   "execution_count": 12,
   "id": "632c6552",
   "metadata": {},
   "outputs": [
    {
     "name": "stdout",
     "output_type": "stream",
     "text": [
      "Group contains 2 missing values.\n",
      "Gender contains 2 missing values.\n",
      "Date Captured contains 1 missing values.\n",
      "Annuli contains 2 missing values.\n",
      "Age contains 2 missing values.\n",
      "WEIGHT (KG) contains 2 missing values.\n",
      "LENGTH (CM) contains 2 missing values.\n",
      "TG (CM) contains 2 missing values.\n",
      "VET SCORE (Adipose) contains 16 missing values.\n",
      "TOTAL PROTEIN (g/100mL) contains 3 missing values.\n",
      "PCV Color contains 3 missing values.\n",
      "PCV contains 3 missing values.\n",
      "Histology Adipose contains 9 missing values.\n",
      "Histology Liver contains 2 missing values.\n",
      "Histology Swim Bladder contains 7 missing values.\n",
      "NECROPSY NOTES: contains 14 missing values.\n"
     ]
    }
   ],
   "source": [
    "print_variables_missing(dfIndividuals)"
   ]
  },
  {
   "cell_type": "markdown",
   "id": "aba98a87",
   "metadata": {},
   "source": [
    "### Clinical dictionary"
   ]
  },
  {
   "cell_type": "code",
   "execution_count": 13,
   "id": "10d31169",
   "metadata": {},
   "outputs": [],
   "source": [
    "fileClinicalDict = joinpath(@__DIR__,\"..\",\"..\",\"data\",\"processed\", \"ClinicalDataDictionary.csv\");\n",
    "open(fileClinicalDict,\"w\") do io\n",
    "   println(io,\n",
    "        \"Variable name, Variable description\\n\",\n",
    "        \"Gender,Sex\\n\",\n",
    "        \"Age, Years\\n\",\n",
    "        \"Weight (KG), Kilogram\\n\",\n",
    "        \"Length (CM), Centimeter\\n\",\n",
    "        \"Annuli,Number of opaque zones on fish scales\\n\",\n",
    "        # \"TG (CM),???\\n\",\n",
    "        \"VET SCORE,Veterinarian score where vet score < 1 indicates healthy tilapia and  vet score ≥ 1 indicates pansteatitis-affected tilapia.\\n\" ,\n",
    "        \"PCV Color,Pigmentation visually observed\\n\",\n",
    "        \"PCV,Pigmentation concentration volume\\n\",\n",
    "        \"Histology Adipose,Histological examination score of the adipose tissue\\n\",\n",
    "        \"Histology Liver,Histological examination score of the liver tissue\\n\",\n",
    "        \"Histology Swim Bladder,Histological examination score of the swim bladder tissue\"\n",
    "    )\n",
    "end"
   ]
  },
  {
   "cell_type": "markdown",
   "id": "dcc95023",
   "metadata": {},
   "source": [
    "### Independent variables"
   ]
  },
  {
   "cell_type": "markdown",
   "id": "b6843cc6",
   "metadata": {},
   "source": [
    "Select variables of interest:"
   ]
  },
  {
   "cell_type": "code",
   "execution_count": 14,
   "id": "33dbcf41",
   "metadata": {},
   "outputs": [],
   "source": [
    "select!(dfIndividuals, Symbol.([\"Sample ID\",\n",
    "                                \"Group\",\n",
    "                                \"Gender\",\n",
    "                                \"Annuli\",\n",
    "                                \"Age\",\n",
    "                                \"WEIGHT (KG)\",\n",
    "                                \"LENGTH (CM)\",\n",
    "                                \"Histology Adipose\",\n",
    "                                # \"Histology Liver\",\n",
    "                                # \"Histology Swim Bladder\",\n",
    "]));"
   ]
  },
  {
   "cell_type": "markdown",
   "id": "30429278",
   "metadata": {},
   "source": [
    "Rename variables if needed:"
   ]
  },
  {
   "cell_type": "code",
   "execution_count": 15,
   "id": "9327d3ad",
   "metadata": {},
   "outputs": [],
   "source": [
    "rename!(dfIndividuals, Dict(\n",
    "        :Group => \"Status\",\n",
    "        :Gender => \"Sex\",\n",
    "        Symbol(\"Sample ID\") => \"SampleID\",\n",
    "        Symbol(\"WEIGHT (KG)\") => \"Weight\",\n",
    "        Symbol(\"LENGTH (CM)\") => \"Length\",\n",
    "        Symbol(\"Histology Adipose\") => \"Histological_Score\",\n",
    "        # Symbol(\"Histology Liver\") => \"Histology_Liver\",\n",
    "        # Symbol(\"Histology Swim Bladder\") => \"Histology_Swim_Bladder\",\n",
    "));"
   ]
  },
  {
   "cell_type": "markdown",
   "id": "db7b5d60-6d60-486b-9147-ec99a7ac159f",
   "metadata": {},
   "source": [
    "#### Extract histology score   \n",
    "\n",
    "The histology score spans between 0 and 5. Let write the histology dictionnary:   "
   ]
  },
  {
   "cell_type": "code",
   "execution_count": 16,
   "id": "d0754902-7167-4a41-8326-f414de05b2cc",
   "metadata": {},
   "outputs": [],
   "source": [
    "fileHystologyDict = joinpath(@__DIR__,\"..\",\"..\",\"data\",\"processed\", \"HistologyDictionary.csv\");\n",
    "open(fileHystologyDict,\"w\") do io\n",
    "   println(io,\n",
    "        \"Score, Histological Score Progression\\n\",\n",
    "        \"0, no signs\\n\",\n",
    "        \"1, minimal\\n\",\n",
    "        \"2, mild/few\\n\",\n",
    "        \"3, moderate\",\n",
    "        \"4, moderate/severe\\n\",\n",
    "        \"5, severe\\n\",\n",
    "    )\n",
    "end"
   ]
  },
  {
   "cell_type": "markdown",
   "id": "e4abca2a-9f2b-4d32-8e82-e0964314da8c",
   "metadata": {},
   "source": [
    "Create a function to extract each score:"
   ]
  },
  {
   "cell_type": "code",
   "execution_count": 17,
   "id": "37d4a054-eba2-45bf-bcf6-3e5bd8728aef",
   "metadata": {},
   "outputs": [],
   "source": [
    "function xtrcHistScore(vecHist) \n",
    "    idxnotmissing = findall(.!(ismissing.(vecHist)));\n",
    "    vScore = Vector{Union{Missing, Int}}(undef, length(vecHist));\n",
    "    for i in idxnotmissing\n",
    "        if isdigit(vecHist[i][1])\n",
    "           vScore[i] = parse(Int, vecHist[i][1]) \n",
    "        end\n",
    "    end\n",
    "    \n",
    "    return vScore\n",
    "end;"
   ]
  },
  {
   "cell_type": "markdown",
   "id": "269ce298-d6ba-4197-849f-8d904e906c6e",
   "metadata": {},
   "source": [
    "Replace original histology text by extracted score:"
   ]
  },
  {
   "cell_type": "code",
   "execution_count": 18,
   "id": "abc9e912-c554-4678-878c-6c0adacd582c",
   "metadata": {},
   "outputs": [],
   "source": [
    "dfIndividuals.Histological_Score .= xtrcHistScore(dfIndividuals.Histological_Score);\n",
    "# dfIndividuals.Histology_Liver .= xtrcHistScore(dfIndividuals.Histology_Liver);\n",
    "# dfIndividuals.Histology_Swim_Bladder .= xtrcHistScore(dfIndividuals.Histology_Swim_Bladder);"
   ]
  },
  {
   "cell_type": "markdown",
   "id": "750559c0",
   "metadata": {},
   "source": [
    "Filter incomplete cases:"
   ]
  },
  {
   "cell_type": "code",
   "execution_count": 19,
   "id": "bad51808",
   "metadata": {},
   "outputs": [
    {
     "data": {
      "text/html": [
       "<div><div style = \"float: left;\"><span>5×8 DataFrame</span></div><div style = \"clear: both;\"></div></div><div class = \"data-frame\" style = \"overflow-x: scroll;\"><table class = \"data-frame\" style = \"margin-bottom: 6px;\"><thead><tr class = \"header\"><th class = \"rowNumber\" style = \"font-weight: bold; text-align: right;\">Row</th><th style = \"text-align: left;\">SampleID</th><th style = \"text-align: left;\">Status</th><th style = \"text-align: left;\">Sex</th><th style = \"text-align: left;\">Annuli</th><th style = \"text-align: left;\">Age</th><th style = \"text-align: left;\">Weight</th><th style = \"text-align: left;\">Length</th><th style = \"text-align: left;\">Histological_Score</th></tr><tr class = \"subheader headerLastRow\"><th class = \"rowNumber\" style = \"font-weight: bold; text-align: right;\"></th><th title = \"String\" style = \"text-align: left;\">String</th><th title = \"Union{Missing, String}\" style = \"text-align: left;\">String?</th><th title = \"Union{Missing, String}\" style = \"text-align: left;\">String?</th><th title = \"Union{Missing, String}\" style = \"text-align: left;\">String?</th><th title = \"Union{Missing, String}\" style = \"text-align: left;\">String?</th><th title = \"Union{Missing, String}\" style = \"text-align: left;\">String?</th><th title = \"Union{Missing, String}\" style = \"text-align: left;\">String?</th><th title = \"Union{Missing, Int64}\" style = \"text-align: left;\">Int64?</th></tr></thead><tbody><tr><td class = \"rowNumber\" style = \"font-weight: bold; text-align: right;\">1</td><td style = \"text-align: left;\">ID_8358</td><td style = \"text-align: left;\">FD</td><td style = \"text-align: left;\">F</td><td style = \"text-align: left;\">7</td><td style = \"text-align: left;\">8</td><td style = \"text-align: left;\">1.3</td><td style = \"text-align: left;\">40</td><td style = \"text-align: right;\">3</td></tr><tr><td class = \"rowNumber\" style = \"font-weight: bold; text-align: right;\">2</td><td style = \"text-align: left;\">ID_8363</td><td style = \"text-align: left;\">FD</td><td style = \"text-align: left;\">F</td><td style = \"text-align: left;\">12</td><td style = \"text-align: left;\">13</td><td style = \"text-align: left;\">1.5</td><td style = \"text-align: left;\">40</td><td style = \"text-align: right;\">5</td></tr><tr><td class = \"rowNumber\" style = \"font-weight: bold; text-align: right;\">3</td><td style = \"text-align: left;\">ID_8370</td><td style = \"text-align: left;\">FD</td><td style = \"text-align: left;\">F</td><td style = \"text-align: left;\">10</td><td style = \"text-align: left;\">11</td><td style = \"text-align: left;\">1.4</td><td style = \"text-align: left;\">40.5</td><td style = \"text-align: right;\">2</td></tr><tr><td class = \"rowNumber\" style = \"font-weight: bold; text-align: right;\">4</td><td style = \"text-align: left;\">ID_8371</td><td style = \"text-align: left;\">FD</td><td style = \"text-align: left;\">F</td><td style = \"text-align: left;\">11</td><td style = \"text-align: left;\">12</td><td style = \"text-align: left;\">1.4</td><td style = \"text-align: left;\">41</td><td style = \"text-align: right;\">2</td></tr><tr><td class = \"rowNumber\" style = \"font-weight: bold; text-align: right;\">5</td><td style = \"text-align: left;\">ID_8373</td><td style = \"text-align: left;\">FD</td><td style = \"text-align: left;\">F</td><td style = \"text-align: left;\">12</td><td style = \"text-align: left;\">13</td><td style = \"text-align: left;\">1.9</td><td style = \"text-align: left;\">43.5</td><td style = \"text-align: right;\">4</td></tr></tbody></table></div>"
      ],
      "text/latex": [
       "\\begin{tabular}{r|cccccccc}\n",
       "\t& SampleID & Status & Sex & Annuli & Age & Weight & Length & Histological\\_Score\\\\\n",
       "\t\\hline\n",
       "\t& String & String? & String? & String? & String? & String? & String? & Int64?\\\\\n",
       "\t\\hline\n",
       "\t1 & ID\\_8358 & FD & F & 7 & 8 & 1.3 & 40 & 3 \\\\\n",
       "\t2 & ID\\_8363 & FD & F & 12 & 13 & 1.5 & 40 & 5 \\\\\n",
       "\t3 & ID\\_8370 & FD & F & 10 & 11 & 1.4 & 40.5 & 2 \\\\\n",
       "\t4 & ID\\_8371 & FD & F & 11 & 12 & 1.4 & 41 & 2 \\\\\n",
       "\t5 & ID\\_8373 & FD & F & 12 & 13 & 1.9 & 43.5 & 4 \\\\\n",
       "\\end{tabular}\n"
      ],
      "text/plain": [
       "\u001b[1m5×8 DataFrame\u001b[0m\n",
       "\u001b[1m Row \u001b[0m│\u001b[1m SampleID \u001b[0m\u001b[1m Status  \u001b[0m\u001b[1m Sex     \u001b[0m\u001b[1m Annuli  \u001b[0m\u001b[1m Age     \u001b[0m\u001b[1m Weight  \u001b[0m\u001b[1m Length  \u001b[0m\u001b[1m Histolo\u001b[0m ⋯\n",
       "     │\u001b[90m String   \u001b[0m\u001b[90m String? \u001b[0m\u001b[90m String? \u001b[0m\u001b[90m String? \u001b[0m\u001b[90m String? \u001b[0m\u001b[90m String? \u001b[0m\u001b[90m String? \u001b[0m\u001b[90m Int64? \u001b[0m ⋯\n",
       "─────┼──────────────────────────────────────────────────────────────────────────\n",
       "   1 │ ID_8358   FD       F        7        8        1.3      40               ⋯\n",
       "   2 │ ID_8363   FD       F        12       13       1.5      40\n",
       "   3 │ ID_8370   FD       F        10       11       1.4      40.5\n",
       "   4 │ ID_8371   FD       F        11       12       1.4      41\n",
       "   5 │ ID_8373   FD       F        12       13       1.9      43.5             ⋯\n",
       "\u001b[36m                                                                1 column omitted\u001b[0m"
      ]
     },
     "execution_count": 19,
     "metadata": {},
     "output_type": "execute_result"
    }
   ],
   "source": [
    "# filter complete cases\n",
    "idxComplete = findall(completecases(dfIndividuals))\n",
    "dfIndividuals = dfIndividuals[idxComplete, :]\n",
    "\n",
    "# add a prefix to the ID samples\n",
    "dfIndividuals.SampleID = \"ID_\".*string.(dfIndividuals.SampleID);\n",
    "\n",
    "first(dfIndividuals, 5)"
   ]
  },
  {
   "cell_type": "markdown",
   "id": "ba739dca",
   "metadata": {},
   "source": [
    "Insert a `GroupStatus` variable. The `Group` variable includes the diseases status and gender:"
   ]
  },
  {
   "cell_type": "code",
   "execution_count": 20,
   "id": "bc2cf7f0",
   "metadata": {},
   "outputs": [
    {
     "data": {
      "text/plain": [
       "4-element Vector{Union{Missing, String}}:\n",
       " \"FD\"\n",
       " \"FH\"\n",
       " \"MD\"\n",
       " \"MH\""
      ]
     },
     "execution_count": 20,
     "metadata": {},
     "output_type": "execute_result"
    }
   ],
   "source": [
    "unique(dfIndividuals.Status)"
   ]
  },
  {
   "cell_type": "markdown",
   "id": "2fcff5dd",
   "metadata": {},
   "source": [
    "Let redefine the `Status` variable:"
   ]
  },
  {
   "cell_type": "code",
   "execution_count": 21,
   "id": "49aa04bd",
   "metadata": {},
   "outputs": [],
   "source": [
    "# insertcols!(dfIndividuals, 3, :GroupStatus => occursin.(\"D\", dfIndividuals.Group));\n",
    "idxDiseased = findall(occursin.(\"D\", dfIndividuals.Status)) ;\n",
    "idxHealthy = findall(occursin.(\"H\", dfIndividuals.Status));\n",
    "\n",
    "dfIndividuals.Status[idxDiseased] .= \"Diseased\";\n",
    "dfIndividuals.Status[idxHealthy] .= \"Healthy\";\n",
    "\n",
    "idxMale = findall(occursin.(\"M\", dfIndividuals.Sex)) ;\n",
    "idxFemale = findall(occursin.(\"F\", dfIndividuals.Sex));\n",
    "\n",
    "dfIndividuals.Sex[idxMale] .= \"Male\";\n",
    "dfIndividuals.Sex[idxFemale] .= \"Female\";"
   ]
  },
  {
   "cell_type": "code",
   "execution_count": 22,
   "id": "df285433",
   "metadata": {},
   "outputs": [
    {
     "data": {
      "text/html": [
       "<div><div style = \"float: left;\"><span>5×8 DataFrame</span></div><div style = \"clear: both;\"></div></div><div class = \"data-frame\" style = \"overflow-x: scroll;\"><table class = \"data-frame\" style = \"margin-bottom: 6px;\"><thead><tr class = \"header\"><th class = \"rowNumber\" style = \"font-weight: bold; text-align: right;\">Row</th><th style = \"text-align: left;\">SampleID</th><th style = \"text-align: left;\">Status</th><th style = \"text-align: left;\">Sex</th><th style = \"text-align: left;\">Annuli</th><th style = \"text-align: left;\">Age</th><th style = \"text-align: left;\">Weight</th><th style = \"text-align: left;\">Length</th><th style = \"text-align: left;\">Histological_Score</th></tr><tr class = \"subheader headerLastRow\"><th class = \"rowNumber\" style = \"font-weight: bold; text-align: right;\"></th><th title = \"String\" style = \"text-align: left;\">String</th><th title = \"Union{Missing, String}\" style = \"text-align: left;\">String?</th><th title = \"Union{Missing, String}\" style = \"text-align: left;\">String?</th><th title = \"Union{Missing, String}\" style = \"text-align: left;\">String?</th><th title = \"Union{Missing, String}\" style = \"text-align: left;\">String?</th><th title = \"Union{Missing, String}\" style = \"text-align: left;\">String?</th><th title = \"Union{Missing, String}\" style = \"text-align: left;\">String?</th><th title = \"Union{Missing, Int64}\" style = \"text-align: left;\">Int64?</th></tr></thead><tbody><tr><td class = \"rowNumber\" style = \"font-weight: bold; text-align: right;\">1</td><td style = \"text-align: left;\">ID_8358</td><td style = \"text-align: left;\">Diseased</td><td style = \"text-align: left;\">Female</td><td style = \"text-align: left;\">7</td><td style = \"text-align: left;\">8</td><td style = \"text-align: left;\">1.3</td><td style = \"text-align: left;\">40</td><td style = \"text-align: right;\">3</td></tr><tr><td class = \"rowNumber\" style = \"font-weight: bold; text-align: right;\">2</td><td style = \"text-align: left;\">ID_8363</td><td style = \"text-align: left;\">Diseased</td><td style = \"text-align: left;\">Female</td><td style = \"text-align: left;\">12</td><td style = \"text-align: left;\">13</td><td style = \"text-align: left;\">1.5</td><td style = \"text-align: left;\">40</td><td style = \"text-align: right;\">5</td></tr><tr><td class = \"rowNumber\" style = \"font-weight: bold; text-align: right;\">3</td><td style = \"text-align: left;\">ID_8370</td><td style = \"text-align: left;\">Diseased</td><td style = \"text-align: left;\">Female</td><td style = \"text-align: left;\">10</td><td style = \"text-align: left;\">11</td><td style = \"text-align: left;\">1.4</td><td style = \"text-align: left;\">40.5</td><td style = \"text-align: right;\">2</td></tr><tr><td class = \"rowNumber\" style = \"font-weight: bold; text-align: right;\">4</td><td style = \"text-align: left;\">ID_8371</td><td style = \"text-align: left;\">Diseased</td><td style = \"text-align: left;\">Female</td><td style = \"text-align: left;\">11</td><td style = \"text-align: left;\">12</td><td style = \"text-align: left;\">1.4</td><td style = \"text-align: left;\">41</td><td style = \"text-align: right;\">2</td></tr><tr><td class = \"rowNumber\" style = \"font-weight: bold; text-align: right;\">5</td><td style = \"text-align: left;\">ID_8373</td><td style = \"text-align: left;\">Diseased</td><td style = \"text-align: left;\">Female</td><td style = \"text-align: left;\">12</td><td style = \"text-align: left;\">13</td><td style = \"text-align: left;\">1.9</td><td style = \"text-align: left;\">43.5</td><td style = \"text-align: right;\">4</td></tr></tbody></table></div>"
      ],
      "text/latex": [
       "\\begin{tabular}{r|cccccccc}\n",
       "\t& SampleID & Status & Sex & Annuli & Age & Weight & Length & Histological\\_Score\\\\\n",
       "\t\\hline\n",
       "\t& String & String? & String? & String? & String? & String? & String? & Int64?\\\\\n",
       "\t\\hline\n",
       "\t1 & ID\\_8358 & Diseased & Female & 7 & 8 & 1.3 & 40 & 3 \\\\\n",
       "\t2 & ID\\_8363 & Diseased & Female & 12 & 13 & 1.5 & 40 & 5 \\\\\n",
       "\t3 & ID\\_8370 & Diseased & Female & 10 & 11 & 1.4 & 40.5 & 2 \\\\\n",
       "\t4 & ID\\_8371 & Diseased & Female & 11 & 12 & 1.4 & 41 & 2 \\\\\n",
       "\t5 & ID\\_8373 & Diseased & Female & 12 & 13 & 1.9 & 43.5 & 4 \\\\\n",
       "\\end{tabular}\n"
      ],
      "text/plain": [
       "\u001b[1m5×8 DataFrame\u001b[0m\n",
       "\u001b[1m Row \u001b[0m│\u001b[1m SampleID \u001b[0m\u001b[1m Status   \u001b[0m\u001b[1m Sex     \u001b[0m\u001b[1m Annuli  \u001b[0m\u001b[1m Age     \u001b[0m\u001b[1m Weight  \u001b[0m\u001b[1m Length  \u001b[0m\u001b[1m Histol\u001b[0m ⋯\n",
       "     │\u001b[90m String   \u001b[0m\u001b[90m String?  \u001b[0m\u001b[90m String? \u001b[0m\u001b[90m String? \u001b[0m\u001b[90m String? \u001b[0m\u001b[90m String? \u001b[0m\u001b[90m String? \u001b[0m\u001b[90m Int64?\u001b[0m ⋯\n",
       "─────┼──────────────────────────────────────────────────────────────────────────\n",
       "   1 │ ID_8358   Diseased  Female   7        8        1.3      40              ⋯\n",
       "   2 │ ID_8363   Diseased  Female   12       13       1.5      40\n",
       "   3 │ ID_8370   Diseased  Female   10       11       1.4      40.5\n",
       "   4 │ ID_8371   Diseased  Female   11       12       1.4      41\n",
       "   5 │ ID_8373   Diseased  Female   12       13       1.9      43.5            ⋯\n",
       "\u001b[36m                                                                1 column omitted\u001b[0m"
      ]
     },
     "execution_count": 22,
     "metadata": {},
     "output_type": "execute_result"
    }
   ],
   "source": [
    "first(dfIndividuals, 5)"
   ]
  },
  {
   "cell_type": "markdown",
   "id": "7bf68f9b",
   "metadata": {},
   "source": [
    "#### Save processed individuals dataset:"
   ]
  },
  {
   "cell_type": "code",
   "execution_count": 23,
   "id": "c80701d7",
   "metadata": {},
   "outputs": [],
   "source": [
    "fileIndividuals = joinpath(@__DIR__,\"..\",\"..\",\"data\",\"processed\",\"ST001052_ClinicalCovariates.csv\");\n",
    "dfIndividuals |> CSV.write(fileIndividuals);"
   ]
  },
  {
   "cell_type": "markdown",
   "id": "6caac73d",
   "metadata": {},
   "source": [
    "### Demography"
   ]
  },
  {
   "cell_type": "code",
   "execution_count": 24,
   "id": "eff2c41a",
   "metadata": {},
   "outputs": [
    {
     "data": {
      "text/html": [
       "<div><div style = \"float: left;\"><span>11×2 DataFrame</span></div><div style = \"clear: both;\"></div></div><div class = \"data-frame\" style = \"overflow-x: scroll;\"><table class = \"data-frame\" style = \"margin-bottom: 6px;\"><thead><tr class = \"header\"><th class = \"rowNumber\" style = \"font-weight: bold; text-align: right;\">Row</th><th style = \"text-align: left;\">Clinical Features</th><th style = \"text-align: left;\">Count/ mean(SD)</th></tr><tr class = \"subheader headerLastRow\"><th class = \"rowNumber\" style = \"font-weight: bold; text-align: right;\"></th><th title = \"Any\" style = \"text-align: left;\">Any</th><th title = \"Any\" style = \"text-align: left;\">Any</th></tr></thead><tbody><tr><td class = \"rowNumber\" style = \"font-weight: bold; text-align: right;\">1</td><td style = \"text-align: left;\">Status</td><td style = \"text-align: left;\"> </td></tr><tr><td class = \"rowNumber\" style = \"font-weight: bold; text-align: right;\">2</td><td style = \"text-align: left;\">Diseased</td><td style = \"text-align: left;\">30</td></tr><tr><td class = \"rowNumber\" style = \"font-weight: bold; text-align: right;\">3</td><td style = \"text-align: left;\">Healthy</td><td style = \"text-align: left;\">14</td></tr><tr><td class = \"rowNumber\" style = \"font-weight: bold; text-align: right;\">4</td><td style = \"text-align: left;\">Sex</td><td style = \"text-align: left;\"> </td></tr><tr><td class = \"rowNumber\" style = \"font-weight: bold; text-align: right;\">5</td><td style = \"text-align: left;\">Female</td><td style = \"text-align: left;\">20</td></tr><tr><td class = \"rowNumber\" style = \"font-weight: bold; text-align: right;\">6</td><td style = \"text-align: left;\">Male</td><td style = \"text-align: left;\">24</td></tr><tr><td class = \"rowNumber\" style = \"font-weight: bold; text-align: right;\">7</td><td style = \"text-align: left;\">Annuli</td><td style = \"text-align: left;\">8.3(2.66)</td></tr><tr><td class = \"rowNumber\" style = \"font-weight: bold; text-align: right;\">8</td><td style = \"text-align: left;\">Age</td><td style = \"text-align: left;\">9.3(2.66)</td></tr><tr><td class = \"rowNumber\" style = \"font-weight: bold; text-align: right;\">9</td><td style = \"text-align: left;\">WEIGHT (KG)</td><td style = \"text-align: left;\">1.67(0.31)</td></tr><tr><td class = \"rowNumber\" style = \"font-weight: bold; text-align: right;\">10</td><td style = \"text-align: left;\">LENGTH (CM)</td><td style = \"text-align: left;\">42.35(2.31)</td></tr><tr><td class = \"rowNumber\" style = \"font-weight: bold; text-align: right;\">11</td><td style = \"text-align: left;\">Histological Score</td><td style = \"text-align: left;\">2.45(1.41)</td></tr></tbody></table></div>"
      ],
      "text/latex": [
       "\\begin{tabular}{r|cc}\n",
       "\t& Clinical Features & Count/ mean(SD)\\\\\n",
       "\t\\hline\n",
       "\t& Any & Any\\\\\n",
       "\t\\hline\n",
       "\t1 & Status &   \\\\\n",
       "\t2 & Diseased & 30 \\\\\n",
       "\t3 & Healthy & 14 \\\\\n",
       "\t4 & Sex &   \\\\\n",
       "\t5 & Female & 20 \\\\\n",
       "\t6 & Male & 24 \\\\\n",
       "\t7 & Annuli & 8.3(2.66) \\\\\n",
       "\t8 & Age & 9.3(2.66) \\\\\n",
       "\t9 & WEIGHT (KG) & 1.67(0.31) \\\\\n",
       "\t10 & LENGTH (CM) & 42.35(2.31) \\\\\n",
       "\t11 & Histological Score & 2.45(1.41) \\\\\n",
       "\\end{tabular}\n"
      ],
      "text/plain": [
       "\u001b[1m11×2 DataFrame\u001b[0m\n",
       "\u001b[1m Row \u001b[0m│\u001b[1m Clinical Features  \u001b[0m\u001b[1m Count/ mean(SD) \u001b[0m\n",
       "     │\u001b[90m Any                \u001b[0m\u001b[90m Any             \u001b[0m\n",
       "─────┼─────────────────────────────────────\n",
       "   1 │ Status\n",
       "   2 │ Diseased            30\n",
       "   3 │ Healthy             14\n",
       "   4 │ Sex\n",
       "   5 │ Female              20\n",
       "   6 │ Male                24\n",
       "   7 │ Annuli              8.3(2.66)\n",
       "   8 │ Age                 9.3(2.66)\n",
       "   9 │ WEIGHT (KG)         1.67(0.31)\n",
       "  10 │ LENGTH (CM)         42.35(2.31)\n",
       "  11 │ Histological Score  2.45(1.41)"
      ]
     },
     "execution_count": 24,
     "metadata": {},
     "output_type": "execute_result"
    }
   ],
   "source": [
    "dfDemog = getDemographicST001052()"
   ]
  },
  {
   "cell_type": "code",
   "execution_count": 25,
   "id": "9f2f0d51",
   "metadata": {},
   "outputs": [],
   "source": [
    "fileDemog = joinpath(@__DIR__,\"..\",\"..\",\"data\",\"processed\",\"Demog.csv\");\n",
    "dfDemog |> CSV.write(fileDemog);"
   ]
  },
  {
   "cell_type": "markdown",
   "id": "246f4384",
   "metadata": {},
   "source": [
    "## Extract Metabolite references"
   ]
  },
  {
   "cell_type": "code",
   "execution_count": 26,
   "id": "e2cdb1aa",
   "metadata": {},
   "outputs": [
    {
     "name": "stdout",
     "output_type": "stream",
     "text": [
      "The dataframe contains 590 rows and 10 columns\n"
     ]
    }
   ],
   "source": [
    "# get clinical covariates\n",
    "dfRef =  fetch_metabolites(ST);\n",
    "print_df_size(dfRef)"
   ]
  },
  {
   "cell_type": "markdown",
   "id": "3f1635c3",
   "metadata": {},
   "source": [
    "List the name of available properties:"
   ]
  },
  {
   "cell_type": "code",
   "execution_count": 27,
   "id": "08beef0e",
   "metadata": {},
   "outputs": [
    {
     "data": {
      "text/plain": [
       "10-element Vector{String}:\n",
       " \"Metabolite\"\n",
       " \"quantified m/z\"\n",
       " \"rtimes\"\n",
       " \"ID_Ranked (LipidMatch OR LipidSearch annotation/rank)\"\n",
       " \"Class_At_Max_Intensity\"\n",
       " \"Adduct_At_Max_Intensity\"\n",
       " \"(LipidMatch Normalizer output)\"\n",
       " \"IS_Species\"\n",
       " \"IS_Adduct\"\n",
       " \"Neg & Pos Confirmed\""
      ]
     },
     "execution_count": 27,
     "metadata": {},
     "output_type": "execute_result"
    }
   ],
   "source": [
    "names(dfRef)"
   ]
  },
  {
   "cell_type": "code",
   "execution_count": 28,
   "id": "7f90a474",
   "metadata": {},
   "outputs": [
    {
     "data": {
      "text/html": [
       "<div><div style = \"float: left;\"><span>5×10 DataFrame</span></div><div style = \"clear: both;\"></div></div><div class = \"data-frame\" style = \"overflow-x: scroll;\"><table class = \"data-frame\" style = \"margin-bottom: 6px;\"><thead><tr class = \"header\"><th class = \"rowNumber\" style = \"font-weight: bold; text-align: right;\">Row</th><th style = \"text-align: left;\">Metabolite</th><th style = \"text-align: left;\">quantified m/z</th><th style = \"text-align: left;\">rtimes</th><th style = \"text-align: left;\">ID_Ranked (LipidMatch OR LipidSearch annotation/rank)</th><th style = \"text-align: left;\">Class_At_Max_Intensity</th><th style = \"text-align: left;\">Adduct_At_Max_Intensity</th><th style = \"text-align: left;\">(LipidMatch Normalizer output)</th><th style = \"text-align: left;\">IS_Species</th><th style = \"text-align: left;\">IS_Adduct</th><th style = \"text-align: left;\">Neg &amp; Pos Confirmed</th></tr><tr class = \"subheader headerLastRow\"><th class = \"rowNumber\" style = \"font-weight: bold; text-align: right;\"></th><th title = \"String\" style = \"text-align: left;\">String</th><th title = \"String\" style = \"text-align: left;\">String</th><th title = \"String\" style = \"text-align: left;\">String</th><th title = \"String\" style = \"text-align: left;\">String</th><th title = \"String\" style = \"text-align: left;\">String</th><th title = \"String\" style = \"text-align: left;\">String</th><th title = \"String\" style = \"text-align: left;\">String</th><th title = \"String\" style = \"text-align: left;\">String</th><th title = \"String\" style = \"text-align: left;\">String</th><th title = \"String\" style = \"text-align: left;\">String</th></tr></thead><tbody><tr><td class = \"rowNumber\" style = \"font-weight: bold; text-align: right;\">1</td><td style = \"text-align: left;\">CE(18:1)</td><td style = \"text-align: left;\">668.634144</td><td style = \"text-align: left;\">15.04984231</td><td style = \"text-align: left;\">1_CE(18:1)+NH4</td><td style = \"text-align: left;\">CE</td><td style = \"text-align: left;\">[M+NH4]+</td><td style = \"text-align: left;\">1</td><td style = \"text-align: left;\">CE(19:0)</td><td style = \"text-align: left;\">[M+NH4]+</td><td style = \"text-align: left;\">No</td></tr><tr><td class = \"rowNumber\" style = \"font-weight: bold; text-align: right;\">2</td><td style = \"text-align: left;\">CE(18:2)</td><td style = \"text-align: left;\">666.6186284</td><td style = \"text-align: left;\">14.54040077</td><td style = \"text-align: left;\">1_CE(18:2)+NH4</td><td style = \"text-align: left;\">CE</td><td style = \"text-align: left;\">[M+NH4]+</td><td style = \"text-align: left;\">1</td><td style = \"text-align: left;\">CE(19:0)</td><td style = \"text-align: left;\">[M+NH4]+</td><td style = \"text-align: left;\">No</td></tr><tr><td class = \"rowNumber\" style = \"font-weight: bold; text-align: right;\">3</td><td style = \"text-align: left;\">CE(18:3)</td><td style = \"text-align: left;\">664.6024729</td><td style = \"text-align: left;\">14.00371744</td><td style = \"text-align: left;\">1_CE(18:3)+NH4</td><td style = \"text-align: left;\">CE</td><td style = \"text-align: left;\">[M+NH4]+</td><td style = \"text-align: left;\">1</td><td style = \"text-align: left;\">CE(19:0)</td><td style = \"text-align: left;\">[M+NH4]+</td><td style = \"text-align: left;\">No</td></tr><tr><td class = \"rowNumber\" style = \"font-weight: bold; text-align: right;\">4</td><td style = \"text-align: left;\">CE(18:4)</td><td style = \"text-align: left;\">662.5874291</td><td style = \"text-align: left;\">13.40464795</td><td style = \"text-align: left;\">1_CE(18:4)+NH4</td><td style = \"text-align: left;\">CE</td><td style = \"text-align: left;\">[M+NH4]+</td><td style = \"text-align: left;\">1</td><td style = \"text-align: left;\">CE(19:0)</td><td style = \"text-align: left;\">[M+NH4]+</td><td style = \"text-align: left;\">No</td></tr><tr><td class = \"rowNumber\" style = \"font-weight: bold; text-align: right;\">5</td><td style = \"text-align: left;\">CE(20:1)</td><td style = \"text-align: left;\">696.6651802</td><td style = \"text-align: left;\">15.52861207</td><td style = \"text-align: left;\">1_CE(20:1)+NH4</td><td style = \"text-align: left;\">CE</td><td style = \"text-align: left;\">[M+NH4]+</td><td style = \"text-align: left;\">1</td><td style = \"text-align: left;\">CE(19:0)</td><td style = \"text-align: left;\">[M+NH4]+</td><td style = \"text-align: left;\">No</td></tr></tbody></table></div>"
      ],
      "text/latex": [
       "\\begin{tabular}{r|ccccc}\n",
       "\t& Metabolite & quantified m/z & rtimes & ID\\_Ranked (LipidMatch OR LipidSearch annotation/rank) & \\\\\n",
       "\t\\hline\n",
       "\t& String & String & String & String & \\\\\n",
       "\t\\hline\n",
       "\t1 & CE(18:1) & 668.634144 & 15.04984231 & 1\\_CE(18:1)+NH4 & $\\dots$ \\\\\n",
       "\t2 & CE(18:2) & 666.6186284 & 14.54040077 & 1\\_CE(18:2)+NH4 & $\\dots$ \\\\\n",
       "\t3 & CE(18:3) & 664.6024729 & 14.00371744 & 1\\_CE(18:3)+NH4 & $\\dots$ \\\\\n",
       "\t4 & CE(18:4) & 662.5874291 & 13.40464795 & 1\\_CE(18:4)+NH4 & $\\dots$ \\\\\n",
       "\t5 & CE(20:1) & 696.6651802 & 15.52861207 & 1\\_CE(20:1)+NH4 & $\\dots$ \\\\\n",
       "\\end{tabular}\n"
      ],
      "text/plain": [
       "\u001b[1m5×10 DataFrame\u001b[0m\n",
       "\u001b[1m Row \u001b[0m│\u001b[1m Metabolite \u001b[0m\u001b[1m quantified m/z \u001b[0m\u001b[1m rtimes      \u001b[0m\u001b[1m ID_Ranked (LipidMatch OR Lipid\u001b[0m ⋯\n",
       "     │\u001b[90m String     \u001b[0m\u001b[90m String         \u001b[0m\u001b[90m String      \u001b[0m\u001b[90m String                        \u001b[0m ⋯\n",
       "─────┼──────────────────────────────────────────────────────────────────────────\n",
       "   1 │ CE(18:1)    668.634144      15.04984231  1_CE(18:1)+NH4                 ⋯\n",
       "   2 │ CE(18:2)    666.6186284     14.54040077  1_CE(18:2)+NH4\n",
       "   3 │ CE(18:3)    664.6024729     14.00371744  1_CE(18:3)+NH4\n",
       "   4 │ CE(18:4)    662.5874291     13.40464795  1_CE(18:4)+NH4\n",
       "   5 │ CE(20:1)    696.6651802     15.52861207  1_CE(20:1)+NH4                 ⋯\n",
       "\u001b[36m                                                               7 columns omitted\u001b[0m"
      ]
     },
     "execution_count": 28,
     "metadata": {},
     "output_type": "execute_result"
    }
   ],
   "source": [
    "first(dfRef, 5)"
   ]
  },
  {
   "cell_type": "markdown",
   "id": "f9517128",
   "metadata": {},
   "source": [
    "Create a metabolite ID and keep only name and ID:"
   ]
  },
  {
   "cell_type": "code",
   "execution_count": 29,
   "id": "e229091a",
   "metadata": {},
   "outputs": [],
   "source": [
    "dfRef.MetaboliteID = \"MT\" .* string.(10000 .+ collect(1:size(dfRef, 1)));\n",
    "select!(dfRef, [:Metabolite, :MetaboliteID]);"
   ]
  },
  {
   "cell_type": "markdown",
   "id": "9329af78",
   "metadata": {},
   "source": [
    "### Get Classification information"
   ]
  },
  {
   "cell_type": "markdown",
   "id": "89109beb",
   "metadata": {},
   "source": [
    "To get the classifciation information, we use the package `MetabolomicsWorkbenchAPI.jl`."
   ]
  },
  {
   "cell_type": "code",
   "execution_count": 30,
   "id": "f3dafe34",
   "metadata": {
    "tags": []
   },
   "outputs": [
    {
     "data": {
      "text/html": [
       "<div><div style = \"float: left;\"><span>3×6 DataFrame</span></div><div style = \"clear: both;\"></div></div><div class = \"data-frame\" style = \"overflow-x: scroll;\"><table class = \"data-frame\" style = \"margin-bottom: 6px;\"><thead><tr class = \"header\"><th class = \"rowNumber\" style = \"font-weight: bold; text-align: right;\">Row</th><th style = \"text-align: left;\">exactmass</th><th style = \"text-align: left;\">formula</th><th style = \"text-align: left;\">main_class</th><th style = \"text-align: left;\">refmet_name</th><th style = \"text-align: left;\">sub_class</th><th style = \"text-align: left;\">super_class</th></tr><tr class = \"subheader headerLastRow\"><th class = \"rowNumber\" style = \"font-weight: bold; text-align: right;\"></th><th title = \"Union{Missing, String}\" style = \"text-align: left;\">String?</th><th title = \"Union{Missing, String}\" style = \"text-align: left;\">String?</th><th title = \"Union{Missing, String}\" style = \"text-align: left;\">String?</th><th title = \"Union{Missing, String}\" style = \"text-align: left;\">String?</th><th title = \"Union{Missing, String}\" style = \"text-align: left;\">String?</th><th title = \"Union{Missing, String}\" style = \"text-align: left;\">String?</th></tr></thead><tbody><tr><td class = \"rowNumber\" style = \"font-weight: bold; text-align: right;\">1</td><td style = \"text-align: left;\">650.6002</td><td style = \"text-align: left;\">C45H78O2</td><td style = \"text-align: left;\">Sterol esters</td><td style = \"text-align: left;\">CE 18:1</td><td style = \"text-align: left;\">Chol. esters</td><td style = \"text-align: left;\">Sterol Lipids</td></tr><tr><td class = \"rowNumber\" style = \"font-weight: bold; text-align: right;\">2</td><td style = \"text-align: left;\">648.5845</td><td style = \"text-align: left;\">C45H76O2</td><td style = \"text-align: left;\">Sterol esters</td><td style = \"text-align: left;\">CE 18:2</td><td style = \"text-align: left;\">Chol. esters</td><td style = \"text-align: left;\">Sterol Lipids</td></tr><tr><td class = \"rowNumber\" style = \"font-weight: bold; text-align: right;\">3</td><td style = \"text-align: left;\">646.5689</td><td style = \"text-align: left;\">C45H74O2</td><td style = \"text-align: left;\">Sterol esters</td><td style = \"text-align: left;\">CE 18:3</td><td style = \"text-align: left;\">Chol. esters</td><td style = \"text-align: left;\">Sterol Lipids</td></tr></tbody></table></div>"
      ],
      "text/latex": [
       "\\begin{tabular}{r|cccccc}\n",
       "\t& exactmass & formula & main\\_class & refmet\\_name & sub\\_class & super\\_class\\\\\n",
       "\t\\hline\n",
       "\t& String? & String? & String? & String? & String? & String?\\\\\n",
       "\t\\hline\n",
       "\t1 & 650.6002 & C45H78O2 & Sterol esters & CE 18:1 & Chol. esters & Sterol Lipids \\\\\n",
       "\t2 & 648.5845 & C45H76O2 & Sterol esters & CE 18:2 & Chol. esters & Sterol Lipids \\\\\n",
       "\t3 & 646.5689 & C45H74O2 & Sterol esters & CE 18:3 & Chol. esters & Sterol Lipids \\\\\n",
       "\\end{tabular}\n"
      ],
      "text/plain": [
       "\u001b[1m3×6 DataFrame\u001b[0m\n",
       "\u001b[1m Row \u001b[0m│\u001b[1m exactmass \u001b[0m\u001b[1m formula  \u001b[0m\u001b[1m main_class    \u001b[0m\u001b[1m refmet_name \u001b[0m\u001b[1m sub_class    \u001b[0m\u001b[1m super_cl\u001b[0m ⋯\n",
       "     │\u001b[90m String?   \u001b[0m\u001b[90m String?  \u001b[0m\u001b[90m String?       \u001b[0m\u001b[90m String?     \u001b[0m\u001b[90m String?      \u001b[0m\u001b[90m String? \u001b[0m ⋯\n",
       "─────┼──────────────────────────────────────────────────────────────────────────\n",
       "   1 │ 650.6002   C45H78O2  Sterol esters  CE 18:1      Chol. esters  Sterol L ⋯\n",
       "   2 │ 648.5845   C45H76O2  Sterol esters  CE 18:2      Chol. esters  Sterol L\n",
       "   3 │ 646.5689   C45H74O2  Sterol esters  CE 18:3      Chol. esters  Sterol L\n",
       "\u001b[36m                                                                1 column omitted\u001b[0m"
      ]
     },
     "execution_count": 30,
     "metadata": {},
     "output_type": "execute_result"
    }
   ],
   "source": [
    "dfClassification = fetch_properties(dfRef.Metabolite);\n",
    "# insertcols!(dfClassification, 1, :metabolite_name => dfRef.metabolite_name);\n",
    "first(dfClassification, 3)"
   ]
  },
  {
   "cell_type": "code",
   "execution_count": 31,
   "id": "27cf1224-dba8-43b7-b338-815b6b739c78",
   "metadata": {},
   "outputs": [
    {
     "data": {
      "text/plain": [
       "2-element Vector{String}:\n",
       " \"Metabolite\"\n",
       " \"MetaboliteID\""
      ]
     },
     "execution_count": 31,
     "metadata": {},
     "output_type": "execute_result"
    }
   ],
   "source": [
    "dfRef |> names"
   ]
  },
  {
   "cell_type": "code",
   "execution_count": 32,
   "id": "5493b857-1e7a-4db5-ae20-9970f7a88ccb",
   "metadata": {},
   "outputs": [
    {
     "data": {
      "text/plain": [
       "6-element Vector{String}:\n",
       " \"exactmass\"\n",
       " \"formula\"\n",
       " \"main_class\"\n",
       " \"refmet_name\"\n",
       " \"sub_class\"\n",
       " \"super_class\""
      ]
     },
     "execution_count": 32,
     "metadata": {},
     "output_type": "execute_result"
    }
   ],
   "source": [
    "dfClassification |> names"
   ]
  },
  {
   "cell_type": "code",
   "execution_count": 33,
   "id": "250169c8-389a-49e2-a4e3-570650669d94",
   "metadata": {},
   "outputs": [],
   "source": [
    "# replace \"-\" by missing\n",
    "for c ∈ eachcol(dfClassification)\n",
    "           replace!(c, \"-\" => missing)\n",
    "end"
   ]
  },
  {
   "cell_type": "code",
   "execution_count": 34,
   "id": "3b8ed800",
   "metadata": {},
   "outputs": [
    {
     "data": {
      "text/plain": [
       "99-element Vector{String}:\n",
       " \"OxLPC(20:2(OO))\"\n",
       " \"OxLPC(20:2(OOO))\"\n",
       " \"OxLPC(20:3(OH))\"\n",
       " \"OxLPC(20:4(OH))\"\n",
       " \"OxLPC(22:2(OO))\"\n",
       " \"OxLPC(22:2(OOO))\"\n",
       " \"OxLPC(22:3(OH))\"\n",
       " \"OxLPC(22:6(OOOO))\"\n",
       " \"OxPC(16:0_20:3(OH))\"\n",
       " \"OxPC(16:0_22:3(OH))\"\n",
       " \"OxPC(16:0_22:6(OO))\"\n",
       " \"OxPC(16:0_22:6(OOOO))\"\n",
       " \"OxPC(18:0_22:3(OH))\"\n",
       " ⋮\n",
       " \"plasmanyl-TG(O-20:1_16:0_18:1)\"\n",
       " \"plasmenyl-TG(P-20:1_15:0_16:0)\"\n",
       " \"plasmenyl-TG(P-20:1_16:0_18:0)\"\n",
       " \"plasmenyl-TG(P-20:1_16:1_18:1)\"\n",
       " \"PMe(16:0/18:1)\"\n",
       " \"TG(18:2+3O/16:0/17:0)\"\n",
       " \"TG(18:2+3O/17:0/22:5)\"\n",
       " \"TG(18:2+O/20:4/22:6)\"\n",
       " \"TG(18:3+3O/20:0/20:0)\"\n",
       " \"TG(22:5+O/22:4/22:6)\"\n",
       " \"TG(22:6+3O/18:1/19:0)\"\n",
       " \"ZyE(22:5)\""
      ]
     },
     "execution_count": 34,
     "metadata": {},
     "output_type": "execute_result"
    }
   ],
   "source": [
    "idxmissing = findall(ismissing.(dfClassification.main_class))\n",
    "dfRef.Metabolite[idxmissing]"
   ]
  },
  {
   "cell_type": "code",
   "execution_count": 35,
   "id": "a6079f9b",
   "metadata": {},
   "outputs": [
    {
     "data": {
      "text/plain": [
       "(590, 2)"
      ]
     },
     "execution_count": 35,
     "metadata": {},
     "output_type": "execute_result"
    }
   ],
   "source": [
    "size(dfRef)"
   ]
  },
  {
   "cell_type": "markdown",
   "id": "46418c6b",
   "metadata": {},
   "source": [
    "To be able to use all the lipid, especially the Triglycerides, we need to adjust the name in a more standardized way to be able to extract their properties information.  \n",
    "- The *Ox-* prefix mean oxidized, such as in *OxTG(16:0_20:5_20:3(OH))*. The *OH* indicates that it is a [TG hydroperoxide](https://www.ncbi.nlm.nih.gov/pmc/articles/PMC6550225/) [2].   \n",
    "- The *P-* and the *O-* indicate respectively if the lipid is a plasmalogen or a plasmanyl, such as *plasmanyl-TG(O-20:0_18:0_18:4)* and *plasmenyl-TG(P-20:1_15:0_16:0)*[3].\n",
    "- The non-oxidized lipids that contains Oxygen are described in [4].\n"
   ]
  },
  {
   "cell_type": "code",
   "execution_count": 36,
   "id": "f9c7af9c",
   "metadata": {},
   "outputs": [],
   "source": [
    "dfRefOriginal = copy(dfRef);"
   ]
  },
  {
   "cell_type": "code",
   "execution_count": 37,
   "id": "25aace28",
   "metadata": {},
   "outputs": [],
   "source": [
    "dfRef = copy(dfRefOriginal);"
   ]
  },
  {
   "cell_type": "code",
   "execution_count": 38,
   "id": "03237607",
   "metadata": {},
   "outputs": [],
   "source": [
    "dfRef.StandardizedName = copy(dfRef.Metabolite);"
   ]
  },
  {
   "cell_type": "code",
   "execution_count": 39,
   "id": "001da4eb",
   "metadata": {},
   "outputs": [
    {
     "data": {
      "text/plain": [
       "standardizename (generic function with 1 method)"
      ]
     },
     "execution_count": 39,
     "metadata": {},
     "output_type": "execute_result"
    }
   ],
   "source": [
    "function standardizename(df::DataFrame, colname::String, matchstring)\n",
    "    if !([colname] ⊆ names(df))\n",
    "        df[:, colname] = repeat([false], size(dfRef, 1));\n",
    "    end\n",
    "    idx = findall(occursin.(matchstring, dfRef.Metabolite));\n",
    "    df[idx, colname] .= true;\n",
    "    # standardize name \n",
    "    df.StandardizedName[idx] .= replace.(dfRef.StandardizedName[idx], matchstring=>\"\"); \n",
    "    return df\n",
    "end"
   ]
  },
  {
   "cell_type": "code",
   "execution_count": 40,
   "id": "b8589a24",
   "metadata": {
    "tags": []
   },
   "outputs": [],
   "source": [
    "newcolname = [\"Oxidized\", \"OH\", \"O\", \"O₂\", \"O₃\", \"O₄\", \"Plasmanyl\", \"Plasmalogen\",\n",
    "              \"O₂\", \"O₃\", \"Plasmanyl\", \"Plasmalogen\", \"CHO\", \"Ke\", \"O\" ] \n",
    "rmvstring = [\"Ox\", \"(OH)\", \"+O\", \"(OO)\", \"(OOO)\", \"(OOOO)\", \"O-\", \"P-\",\n",
    "             \"+OO\", \"+3O\", r\"(?i)plasmanyl-\", r\"(?i)plasmenyl-\", \"(CHO)\", \"(Ke)\", \"O\" ]\n",
    "for i in 1:length(newcolname)\n",
    "    dfRef = standardizename(dfRef, newcolname[i], rmvstring[i]);\n",
    "end    "
   ]
  },
  {
   "cell_type": "code",
   "execution_count": 41,
   "id": "9c0e2324-9311-44e8-9aef-ffa102b8ee73",
   "metadata": {
    "tags": []
   },
   "outputs": [
    {
     "data": {
      "text/html": [
       "<div><div style = \"float: left;\"><span>590×13 DataFrame</span></div><div style = \"float: right;\"><span style = \"font-style: italic;\">565 rows omitted</span></div><div style = \"clear: both;\"></div></div><div class = \"data-frame\" style = \"overflow-x: scroll;\"><table class = \"data-frame\" style = \"margin-bottom: 6px;\"><thead><tr class = \"header\"><th class = \"rowNumber\" style = \"font-weight: bold; text-align: right;\">Row</th><th style = \"text-align: left;\">Metabolite</th><th style = \"text-align: left;\">MetaboliteID</th><th style = \"text-align: left;\">StandardizedName</th><th style = \"text-align: left;\">Oxidized</th><th style = \"text-align: left;\">OH</th><th style = \"text-align: left;\">O</th><th style = \"text-align: left;\">O₂</th><th style = \"text-align: left;\">O₃</th><th style = \"text-align: left;\">O₄</th><th style = \"text-align: left;\">Plasmanyl</th><th style = \"text-align: left;\">Plasmalogen</th><th style = \"text-align: left;\">CHO</th><th style = \"text-align: left;\">Ke</th></tr><tr class = \"subheader headerLastRow\"><th class = \"rowNumber\" style = \"font-weight: bold; text-align: right;\"></th><th title = \"String\" style = \"text-align: left;\">String</th><th title = \"String\" style = \"text-align: left;\">String</th><th title = \"String\" style = \"text-align: left;\">String</th><th title = \"Bool\" style = \"text-align: left;\">Bool</th><th title = \"Bool\" style = \"text-align: left;\">Bool</th><th title = \"Bool\" style = \"text-align: left;\">Bool</th><th title = \"Bool\" style = \"text-align: left;\">Bool</th><th title = \"Bool\" style = \"text-align: left;\">Bool</th><th title = \"Bool\" style = \"text-align: left;\">Bool</th><th title = \"Bool\" style = \"text-align: left;\">Bool</th><th title = \"Bool\" style = \"text-align: left;\">Bool</th><th title = \"Bool\" style = \"text-align: left;\">Bool</th><th title = \"Bool\" style = \"text-align: left;\">Bool</th></tr></thead><tbody><tr><td class = \"rowNumber\" style = \"font-weight: bold; text-align: right;\">1</td><td style = \"text-align: left;\">CE(18:1)</td><td style = \"text-align: left;\">MT10001</td><td style = \"text-align: left;\">CE(18:1)</td><td style = \"text-align: right;\">false</td><td style = \"text-align: right;\">false</td><td style = \"text-align: right;\">false</td><td style = \"text-align: right;\">false</td><td style = \"text-align: right;\">false</td><td style = \"text-align: right;\">false</td><td style = \"text-align: right;\">false</td><td style = \"text-align: right;\">false</td><td style = \"text-align: right;\">false</td><td style = \"text-align: right;\">false</td></tr><tr><td class = \"rowNumber\" style = \"font-weight: bold; text-align: right;\">2</td><td style = \"text-align: left;\">CE(18:2)</td><td style = \"text-align: left;\">MT10002</td><td style = \"text-align: left;\">CE(18:2)</td><td style = \"text-align: right;\">false</td><td style = \"text-align: right;\">false</td><td style = \"text-align: right;\">false</td><td style = \"text-align: right;\">false</td><td style = \"text-align: right;\">false</td><td style = \"text-align: right;\">false</td><td style = \"text-align: right;\">false</td><td style = \"text-align: right;\">false</td><td style = \"text-align: right;\">false</td><td style = \"text-align: right;\">false</td></tr><tr><td class = \"rowNumber\" style = \"font-weight: bold; text-align: right;\">3</td><td style = \"text-align: left;\">CE(18:3)</td><td style = \"text-align: left;\">MT10003</td><td style = \"text-align: left;\">CE(18:3)</td><td style = \"text-align: right;\">false</td><td style = \"text-align: right;\">false</td><td style = \"text-align: right;\">false</td><td style = \"text-align: right;\">false</td><td style = \"text-align: right;\">false</td><td style = \"text-align: right;\">false</td><td style = \"text-align: right;\">false</td><td style = \"text-align: right;\">false</td><td style = \"text-align: right;\">false</td><td style = \"text-align: right;\">false</td></tr><tr><td class = \"rowNumber\" style = \"font-weight: bold; text-align: right;\">4</td><td style = \"text-align: left;\">CE(18:4)</td><td style = \"text-align: left;\">MT10004</td><td style = \"text-align: left;\">CE(18:4)</td><td style = \"text-align: right;\">false</td><td style = \"text-align: right;\">false</td><td style = \"text-align: right;\">false</td><td style = \"text-align: right;\">false</td><td style = \"text-align: right;\">false</td><td style = \"text-align: right;\">false</td><td style = \"text-align: right;\">false</td><td style = \"text-align: right;\">false</td><td style = \"text-align: right;\">false</td><td style = \"text-align: right;\">false</td></tr><tr><td class = \"rowNumber\" style = \"font-weight: bold; text-align: right;\">5</td><td style = \"text-align: left;\">CE(20:1)</td><td style = \"text-align: left;\">MT10005</td><td style = \"text-align: left;\">CE(20:1)</td><td style = \"text-align: right;\">false</td><td style = \"text-align: right;\">false</td><td style = \"text-align: right;\">false</td><td style = \"text-align: right;\">false</td><td style = \"text-align: right;\">false</td><td style = \"text-align: right;\">false</td><td style = \"text-align: right;\">false</td><td style = \"text-align: right;\">false</td><td style = \"text-align: right;\">false</td><td style = \"text-align: right;\">false</td></tr><tr><td class = \"rowNumber\" style = \"font-weight: bold; text-align: right;\">6</td><td style = \"text-align: left;\">CE(20:2)</td><td style = \"text-align: left;\">MT10006</td><td style = \"text-align: left;\">CE(20:2)</td><td style = \"text-align: right;\">false</td><td style = \"text-align: right;\">false</td><td style = \"text-align: right;\">false</td><td style = \"text-align: right;\">false</td><td style = \"text-align: right;\">false</td><td style = \"text-align: right;\">false</td><td style = \"text-align: right;\">false</td><td style = \"text-align: right;\">false</td><td style = \"text-align: right;\">false</td><td style = \"text-align: right;\">false</td></tr><tr><td class = \"rowNumber\" style = \"font-weight: bold; text-align: right;\">7</td><td style = \"text-align: left;\">CE(20:4)</td><td style = \"text-align: left;\">MT10007</td><td style = \"text-align: left;\">CE(20:4)</td><td style = \"text-align: right;\">false</td><td style = \"text-align: right;\">false</td><td style = \"text-align: right;\">false</td><td style = \"text-align: right;\">false</td><td style = \"text-align: right;\">false</td><td style = \"text-align: right;\">false</td><td style = \"text-align: right;\">false</td><td style = \"text-align: right;\">false</td><td style = \"text-align: right;\">false</td><td style = \"text-align: right;\">false</td></tr><tr><td class = \"rowNumber\" style = \"font-weight: bold; text-align: right;\">8</td><td style = \"text-align: left;\">CE(20:5)</td><td style = \"text-align: left;\">MT10008</td><td style = \"text-align: left;\">CE(20:5)</td><td style = \"text-align: right;\">false</td><td style = \"text-align: right;\">false</td><td style = \"text-align: right;\">false</td><td style = \"text-align: right;\">false</td><td style = \"text-align: right;\">false</td><td style = \"text-align: right;\">false</td><td style = \"text-align: right;\">false</td><td style = \"text-align: right;\">false</td><td style = \"text-align: right;\">false</td><td style = \"text-align: right;\">false</td></tr><tr><td class = \"rowNumber\" style = \"font-weight: bold; text-align: right;\">9</td><td style = \"text-align: left;\">CE(22:3)</td><td style = \"text-align: left;\">MT10009</td><td style = \"text-align: left;\">CE(22:3)</td><td style = \"text-align: right;\">false</td><td style = \"text-align: right;\">false</td><td style = \"text-align: right;\">false</td><td style = \"text-align: right;\">false</td><td style = \"text-align: right;\">false</td><td style = \"text-align: right;\">false</td><td style = \"text-align: right;\">false</td><td style = \"text-align: right;\">false</td><td style = \"text-align: right;\">false</td><td style = \"text-align: right;\">false</td></tr><tr><td class = \"rowNumber\" style = \"font-weight: bold; text-align: right;\">10</td><td style = \"text-align: left;\">CE(22:4)</td><td style = \"text-align: left;\">MT10010</td><td style = \"text-align: left;\">CE(22:4)</td><td style = \"text-align: right;\">false</td><td style = \"text-align: right;\">false</td><td style = \"text-align: right;\">false</td><td style = \"text-align: right;\">false</td><td style = \"text-align: right;\">false</td><td style = \"text-align: right;\">false</td><td style = \"text-align: right;\">false</td><td style = \"text-align: right;\">false</td><td style = \"text-align: right;\">false</td><td style = \"text-align: right;\">false</td></tr><tr><td class = \"rowNumber\" style = \"font-weight: bold; text-align: right;\">11</td><td style = \"text-align: left;\">CE(22:5)</td><td style = \"text-align: left;\">MT10011</td><td style = \"text-align: left;\">CE(22:5)</td><td style = \"text-align: right;\">false</td><td style = \"text-align: right;\">false</td><td style = \"text-align: right;\">false</td><td style = \"text-align: right;\">false</td><td style = \"text-align: right;\">false</td><td style = \"text-align: right;\">false</td><td style = \"text-align: right;\">false</td><td style = \"text-align: right;\">false</td><td style = \"text-align: right;\">false</td><td style = \"text-align: right;\">false</td></tr><tr><td class = \"rowNumber\" style = \"font-weight: bold; text-align: right;\">12</td><td style = \"text-align: left;\">CE(22:6)</td><td style = \"text-align: left;\">MT10012</td><td style = \"text-align: left;\">CE(22:6)</td><td style = \"text-align: right;\">false</td><td style = \"text-align: right;\">false</td><td style = \"text-align: right;\">false</td><td style = \"text-align: right;\">false</td><td style = \"text-align: right;\">false</td><td style = \"text-align: right;\">false</td><td style = \"text-align: right;\">false</td><td style = \"text-align: right;\">false</td><td style = \"text-align: right;\">false</td><td style = \"text-align: right;\">false</td></tr><tr><td class = \"rowNumber\" style = \"font-weight: bold; text-align: right;\">13</td><td style = \"text-align: left;\">Cer(d18:1/24:1)</td><td style = \"text-align: left;\">MT10013</td><td style = \"text-align: left;\">Cer(d18:1/24:1)</td><td style = \"text-align: right;\">false</td><td style = \"text-align: right;\">false</td><td style = \"text-align: right;\">false</td><td style = \"text-align: right;\">false</td><td style = \"text-align: right;\">false</td><td style = \"text-align: right;\">false</td><td style = \"text-align: right;\">false</td><td style = \"text-align: right;\">false</td><td style = \"text-align: right;\">false</td><td style = \"text-align: right;\">false</td></tr><tr><td style = \"text-align: right;\">&vellip;</td><td style = \"text-align: right;\">&vellip;</td><td style = \"text-align: right;\">&vellip;</td><td style = \"text-align: right;\">&vellip;</td><td style = \"text-align: right;\">&vellip;</td><td style = \"text-align: right;\">&vellip;</td><td style = \"text-align: right;\">&vellip;</td><td style = \"text-align: right;\">&vellip;</td><td style = \"text-align: right;\">&vellip;</td><td style = \"text-align: right;\">&vellip;</td><td style = \"text-align: right;\">&vellip;</td><td style = \"text-align: right;\">&vellip;</td><td style = \"text-align: right;\">&vellip;</td><td style = \"text-align: right;\">&vellip;</td></tr><tr><td class = \"rowNumber\" style = \"font-weight: bold; text-align: right;\">579</td><td style = \"text-align: left;\">TG(22:5_22:6_24:1)</td><td style = \"text-align: left;\">MT10579</td><td style = \"text-align: left;\">TG(22:5_22:6_24:1)</td><td style = \"text-align: right;\">false</td><td style = \"text-align: right;\">false</td><td style = \"text-align: right;\">false</td><td style = \"text-align: right;\">false</td><td style = \"text-align: right;\">false</td><td style = \"text-align: right;\">false</td><td style = \"text-align: right;\">false</td><td style = \"text-align: right;\">false</td><td style = \"text-align: right;\">false</td><td style = \"text-align: right;\">false</td></tr><tr><td class = \"rowNumber\" style = \"font-weight: bold; text-align: right;\">580</td><td style = \"text-align: left;\">TG(22:5+O/22:4/22:6)</td><td style = \"text-align: left;\">MT10580</td><td style = \"text-align: left;\">TG(22:5/22:4/22:6)</td><td style = \"text-align: right;\">false</td><td style = \"text-align: right;\">false</td><td style = \"text-align: right;\">true</td><td style = \"text-align: right;\">false</td><td style = \"text-align: right;\">false</td><td style = \"text-align: right;\">false</td><td style = \"text-align: right;\">false</td><td style = \"text-align: right;\">false</td><td style = \"text-align: right;\">false</td><td style = \"text-align: right;\">false</td></tr><tr><td class = \"rowNumber\" style = \"font-weight: bold; text-align: right;\">581</td><td style = \"text-align: left;\">TG(22:6/14:3/22:6)</td><td style = \"text-align: left;\">MT10581</td><td style = \"text-align: left;\">TG(22:6/14:3/22:6)</td><td style = \"text-align: right;\">false</td><td style = \"text-align: right;\">false</td><td style = \"text-align: right;\">false</td><td style = \"text-align: right;\">false</td><td style = \"text-align: right;\">false</td><td style = \"text-align: right;\">false</td><td style = \"text-align: right;\">false</td><td style = \"text-align: right;\">false</td><td style = \"text-align: right;\">false</td><td style = \"text-align: right;\">false</td></tr><tr><td class = \"rowNumber\" style = \"font-weight: bold; text-align: right;\">582</td><td style = \"text-align: left;\">TG(22:6_22:6_22:6)</td><td style = \"text-align: left;\">MT10582</td><td style = \"text-align: left;\">TG(22:6_22:6_22:6)</td><td style = \"text-align: right;\">false</td><td style = \"text-align: right;\">false</td><td style = \"text-align: right;\">false</td><td style = \"text-align: right;\">false</td><td style = \"text-align: right;\">false</td><td style = \"text-align: right;\">false</td><td style = \"text-align: right;\">false</td><td style = \"text-align: right;\">false</td><td style = \"text-align: right;\">false</td><td style = \"text-align: right;\">false</td></tr><tr><td class = \"rowNumber\" style = \"font-weight: bold; text-align: right;\">583</td><td style = \"text-align: left;\">TG(22:6_22:6_24:1)</td><td style = \"text-align: left;\">MT10583</td><td style = \"text-align: left;\">TG(22:6_22:6_24:1)</td><td style = \"text-align: right;\">false</td><td style = \"text-align: right;\">false</td><td style = \"text-align: right;\">false</td><td style = \"text-align: right;\">false</td><td style = \"text-align: right;\">false</td><td style = \"text-align: right;\">false</td><td style = \"text-align: right;\">false</td><td style = \"text-align: right;\">false</td><td style = \"text-align: right;\">false</td><td style = \"text-align: right;\">false</td></tr><tr><td class = \"rowNumber\" style = \"font-weight: bold; text-align: right;\">584</td><td style = \"text-align: left;\">TG(22:6+3O/18:1/19:0)</td><td style = \"text-align: left;\">MT10584</td><td style = \"text-align: left;\">TG(22:6/18:1/19:0)</td><td style = \"text-align: right;\">false</td><td style = \"text-align: right;\">false</td><td style = \"text-align: right;\">true</td><td style = \"text-align: right;\">false</td><td style = \"text-align: right;\">true</td><td style = \"text-align: right;\">false</td><td style = \"text-align: right;\">false</td><td style = \"text-align: right;\">false</td><td style = \"text-align: right;\">false</td><td style = \"text-align: right;\">false</td></tr><tr><td class = \"rowNumber\" style = \"font-weight: bold; text-align: right;\">585</td><td style = \"text-align: left;\">TG(24:2/22:6/22:6)</td><td style = \"text-align: left;\">MT10585</td><td style = \"text-align: left;\">TG(24:2/22:6/22:6)</td><td style = \"text-align: right;\">false</td><td style = \"text-align: right;\">false</td><td style = \"text-align: right;\">false</td><td style = \"text-align: right;\">false</td><td style = \"text-align: right;\">false</td><td style = \"text-align: right;\">false</td><td style = \"text-align: right;\">false</td><td style = \"text-align: right;\">false</td><td style = \"text-align: right;\">false</td><td style = \"text-align: right;\">false</td></tr><tr><td class = \"rowNumber\" style = \"font-weight: bold; text-align: right;\">586</td><td style = \"text-align: left;\">TG(25:0/16:0/22:6)</td><td style = \"text-align: left;\">MT10586</td><td style = \"text-align: left;\">TG(25:0/16:0/22:6)</td><td style = \"text-align: right;\">false</td><td style = \"text-align: right;\">false</td><td style = \"text-align: right;\">false</td><td style = \"text-align: right;\">false</td><td style = \"text-align: right;\">false</td><td style = \"text-align: right;\">false</td><td style = \"text-align: right;\">false</td><td style = \"text-align: right;\">false</td><td style = \"text-align: right;\">false</td><td style = \"text-align: right;\">false</td></tr><tr><td class = \"rowNumber\" style = \"font-weight: bold; text-align: right;\">587</td><td style = \"text-align: left;\">TG(26:1/16:0/22:6)</td><td style = \"text-align: left;\">MT10587</td><td style = \"text-align: left;\">TG(26:1/16:0/22:6)</td><td style = \"text-align: right;\">false</td><td style = \"text-align: right;\">false</td><td style = \"text-align: right;\">false</td><td style = \"text-align: right;\">false</td><td style = \"text-align: right;\">false</td><td style = \"text-align: right;\">false</td><td style = \"text-align: right;\">false</td><td style = \"text-align: right;\">false</td><td style = \"text-align: right;\">false</td><td style = \"text-align: right;\">false</td></tr><tr><td class = \"rowNumber\" style = \"font-weight: bold; text-align: right;\">588</td><td style = \"text-align: left;\">TG(26:1/22:6/22:6)</td><td style = \"text-align: left;\">MT10588</td><td style = \"text-align: left;\">TG(26:1/22:6/22:6)</td><td style = \"text-align: right;\">false</td><td style = \"text-align: right;\">false</td><td style = \"text-align: right;\">false</td><td style = \"text-align: right;\">false</td><td style = \"text-align: right;\">false</td><td style = \"text-align: right;\">false</td><td style = \"text-align: right;\">false</td><td style = \"text-align: right;\">false</td><td style = \"text-align: right;\">false</td><td style = \"text-align: right;\">false</td></tr><tr><td class = \"rowNumber\" style = \"font-weight: bold; text-align: right;\">589</td><td style = \"text-align: left;\">TG(28:1/16:0/22:6)</td><td style = \"text-align: left;\">MT10589</td><td style = \"text-align: left;\">TG(28:1/16:0/22:6)</td><td style = \"text-align: right;\">false</td><td style = \"text-align: right;\">false</td><td style = \"text-align: right;\">false</td><td style = \"text-align: right;\">false</td><td style = \"text-align: right;\">false</td><td style = \"text-align: right;\">false</td><td style = \"text-align: right;\">false</td><td style = \"text-align: right;\">false</td><td style = \"text-align: right;\">false</td><td style = \"text-align: right;\">false</td></tr><tr><td class = \"rowNumber\" style = \"font-weight: bold; text-align: right;\">590</td><td style = \"text-align: left;\">ZyE(22:5)</td><td style = \"text-align: left;\">MT10590</td><td style = \"text-align: left;\">ZyE(22:5)</td><td style = \"text-align: right;\">false</td><td style = \"text-align: right;\">false</td><td style = \"text-align: right;\">false</td><td style = \"text-align: right;\">false</td><td style = \"text-align: right;\">false</td><td style = \"text-align: right;\">false</td><td style = \"text-align: right;\">false</td><td style = \"text-align: right;\">false</td><td style = \"text-align: right;\">false</td><td style = \"text-align: right;\">false</td></tr></tbody></table></div>"
      ],
      "text/latex": [
       "\\begin{tabular}{r|ccccccccc}\n",
       "\t& Metabolite & MetaboliteID & StandardizedName & Oxidized & OH & O & O₂ & O₃ & \\\\\n",
       "\t\\hline\n",
       "\t& String & String & String & Bool & Bool & Bool & Bool & Bool & \\\\\n",
       "\t\\hline\n",
       "\t1 & CE(18:1) & MT10001 & CE(18:1) & 0 & 0 & 0 & 0 & 0 & $\\dots$ \\\\\n",
       "\t2 & CE(18:2) & MT10002 & CE(18:2) & 0 & 0 & 0 & 0 & 0 & $\\dots$ \\\\\n",
       "\t3 & CE(18:3) & MT10003 & CE(18:3) & 0 & 0 & 0 & 0 & 0 & $\\dots$ \\\\\n",
       "\t4 & CE(18:4) & MT10004 & CE(18:4) & 0 & 0 & 0 & 0 & 0 & $\\dots$ \\\\\n",
       "\t5 & CE(20:1) & MT10005 & CE(20:1) & 0 & 0 & 0 & 0 & 0 & $\\dots$ \\\\\n",
       "\t6 & CE(20:2) & MT10006 & CE(20:2) & 0 & 0 & 0 & 0 & 0 & $\\dots$ \\\\\n",
       "\t7 & CE(20:4) & MT10007 & CE(20:4) & 0 & 0 & 0 & 0 & 0 & $\\dots$ \\\\\n",
       "\t8 & CE(20:5) & MT10008 & CE(20:5) & 0 & 0 & 0 & 0 & 0 & $\\dots$ \\\\\n",
       "\t9 & CE(22:3) & MT10009 & CE(22:3) & 0 & 0 & 0 & 0 & 0 & $\\dots$ \\\\\n",
       "\t10 & CE(22:4) & MT10010 & CE(22:4) & 0 & 0 & 0 & 0 & 0 & $\\dots$ \\\\\n",
       "\t11 & CE(22:5) & MT10011 & CE(22:5) & 0 & 0 & 0 & 0 & 0 & $\\dots$ \\\\\n",
       "\t12 & CE(22:6) & MT10012 & CE(22:6) & 0 & 0 & 0 & 0 & 0 & $\\dots$ \\\\\n",
       "\t13 & Cer(d18:1/24:1) & MT10013 & Cer(d18:1/24:1) & 0 & 0 & 0 & 0 & 0 & $\\dots$ \\\\\n",
       "\t14 & CE(23:6) & MT10014 & CE(23:6) & 0 & 0 & 0 & 0 & 0 & $\\dots$ \\\\\n",
       "\t15 & CE(24:6) & MT10015 & CE(24:6) & 0 & 0 & 0 & 0 & 0 & $\\dots$ \\\\\n",
       "\t16 & DG(16:0\\_18:4) & MT10016 & DG(16:0\\_18:4) & 0 & 0 & 0 & 0 & 0 & $\\dots$ \\\\\n",
       "\t17 & DG(16:0\\_20:0) & MT10017 & DG(16:0\\_20:0) & 0 & 0 & 0 & 0 & 0 & $\\dots$ \\\\\n",
       "\t18 & DG(16:0\\_20:4) & MT10018 & DG(16:0\\_20:4) & 0 & 0 & 0 & 0 & 0 & $\\dots$ \\\\\n",
       "\t19 & DG(16:0\\_22:5) & MT10019 & DG(16:0\\_22:5) & 0 & 0 & 0 & 0 & 0 & $\\dots$ \\\\\n",
       "\t20 & DG(16:0\\_22:6) & MT10020 & DG(16:0\\_22:6) & 0 & 0 & 0 & 0 & 0 & $\\dots$ \\\\\n",
       "\t21 & DG(18:1\\_22:6) & MT10021 & DG(18:1\\_22:6) & 0 & 0 & 0 & 0 & 0 & $\\dots$ \\\\\n",
       "\t22 & DG(18:4\\_20:5) & MT10022 & DG(18:4\\_20:5) & 0 & 0 & 0 & 0 & 0 & $\\dots$ \\\\\n",
       "\t23 & DG(18:4\\_22:5) & MT10023 & DG(18:4\\_22:5) & 0 & 0 & 0 & 0 & 0 & $\\dots$ \\\\\n",
       "\t24 & DG(18:4\\_22:6) & MT10024 & DG(18:4\\_22:6) & 0 & 0 & 0 & 0 & 0 & $\\dots$ \\\\\n",
       "\t25 & DG(20:0\\_22:5) & MT10025 & DG(20:0\\_22:5) & 0 & 0 & 0 & 0 & 0 & $\\dots$ \\\\\n",
       "\t26 & DG(20:0\\_22:6) & MT10026 & DG(20:0\\_22:6) & 0 & 0 & 0 & 0 & 0 & $\\dots$ \\\\\n",
       "\t27 & DG(20:5\\_22:6) & MT10027 & DG(20:5\\_22:6) & 0 & 0 & 0 & 0 & 0 & $\\dots$ \\\\\n",
       "\t28 & DG(22:6\\_22:6) & MT10028 & DG(22:6\\_22:6) & 0 & 0 & 0 & 0 & 0 & $\\dots$ \\\\\n",
       "\t29 & DMPE(16:0\\_22:6) & MT10029 & DMPE(16:0\\_22:6) & 0 & 0 & 0 & 0 & 0 & $\\dots$ \\\\\n",
       "\t30 & LPC(16:0) & MT10030 & LPC(16:0) & 0 & 0 & 0 & 0 & 0 & $\\dots$ \\\\\n",
       "\t$\\dots$ & $\\dots$ & $\\dots$ & $\\dots$ & $\\dots$ & $\\dots$ & $\\dots$ & $\\dots$ & $\\dots$ &  \\\\\n",
       "\\end{tabular}\n"
      ],
      "text/plain": [
       "\u001b[1m590×13 DataFrame\u001b[0m\n",
       "\u001b[1m Row \u001b[0m│\u001b[1m Metabolite            \u001b[0m\u001b[1m MetaboliteID \u001b[0m\u001b[1m StandardizedName   \u001b[0m\u001b[1m Oxidized \u001b[0m\u001b[1m OH  \u001b[0m ⋯\n",
       "     │\u001b[90m String                \u001b[0m\u001b[90m String       \u001b[0m\u001b[90m String             \u001b[0m\u001b[90m Bool     \u001b[0m\u001b[90m Bool\u001b[0m ⋯\n",
       "─────┼──────────────────────────────────────────────────────────────────────────\n",
       "   1 │ CE(18:1)               MT10001       CE(18:1)               false  fals ⋯\n",
       "   2 │ CE(18:2)               MT10002       CE(18:2)               false  fals\n",
       "   3 │ CE(18:3)               MT10003       CE(18:3)               false  fals\n",
       "   4 │ CE(18:4)               MT10004       CE(18:4)               false  fals\n",
       "   5 │ CE(20:1)               MT10005       CE(20:1)               false  fals ⋯\n",
       "   6 │ CE(20:2)               MT10006       CE(20:2)               false  fals\n",
       "   7 │ CE(20:4)               MT10007       CE(20:4)               false  fals\n",
       "   8 │ CE(20:5)               MT10008       CE(20:5)               false  fals\n",
       "   9 │ CE(22:3)               MT10009       CE(22:3)               false  fals ⋯\n",
       "  10 │ CE(22:4)               MT10010       CE(22:4)               false  fals\n",
       "  11 │ CE(22:5)               MT10011       CE(22:5)               false  fals\n",
       "  ⋮  │           ⋮                 ⋮                ⋮              ⋮        ⋮  ⋱\n",
       " 581 │ TG(22:6/14:3/22:6)     MT10581       TG(22:6/14:3/22:6)     false  fals\n",
       " 582 │ TG(22:6_22:6_22:6)     MT10582       TG(22:6_22:6_22:6)     false  fals ⋯\n",
       " 583 │ TG(22:6_22:6_24:1)     MT10583       TG(22:6_22:6_24:1)     false  fals\n",
       " 584 │ TG(22:6+3O/18:1/19:0)  MT10584       TG(22:6/18:1/19:0)     false  fals\n",
       " 585 │ TG(24:2/22:6/22:6)     MT10585       TG(24:2/22:6/22:6)     false  fals\n",
       " 586 │ TG(25:0/16:0/22:6)     MT10586       TG(25:0/16:0/22:6)     false  fals ⋯\n",
       " 587 │ TG(26:1/16:0/22:6)     MT10587       TG(26:1/16:0/22:6)     false  fals\n",
       " 588 │ TG(26:1/22:6/22:6)     MT10588       TG(26:1/22:6/22:6)     false  fals\n",
       " 589 │ TG(28:1/16:0/22:6)     MT10589       TG(28:1/16:0/22:6)     false  fals\n",
       " 590 │ ZyE(22:5)              MT10590       ZyE(22:5)              false  fals ⋯\n",
       "\u001b[36m                                                  9 columns and 569 rows omitted\u001b[0m"
      ]
     },
     "execution_count": 41,
     "metadata": {},
     "output_type": "execute_result"
    }
   ],
   "source": [
    "dfRef"
   ]
  },
  {
   "cell_type": "code",
   "execution_count": 42,
   "id": "cd31281e-ac1c-4c44-83bc-39836156c7cf",
   "metadata": {},
   "outputs": [
    {
     "data": {
      "text/html": [
       "<div><div style = \"float: left;\"><span>3×7 DataFrame</span></div><div style = \"clear: both;\"></div></div><div class = \"data-frame\" style = \"overflow-x: scroll;\"><table class = \"data-frame\" style = \"margin-bottom: 6px;\"><thead><tr class = \"header\"><th class = \"rowNumber\" style = \"font-weight: bold; text-align: right;\">Row</th><th style = \"text-align: left;\">Metabolite</th><th style = \"text-align: left;\">exactmass</th><th style = \"text-align: left;\">formula</th><th style = \"text-align: left;\">main_class</th><th style = \"text-align: left;\">refmet_name</th><th style = \"text-align: left;\">sub_class</th><th style = \"text-align: left;\">super_class</th></tr><tr class = \"subheader headerLastRow\"><th class = \"rowNumber\" style = \"font-weight: bold; text-align: right;\"></th><th title = \"String\" style = \"text-align: left;\">String</th><th title = \"Union{Missing, String}\" style = \"text-align: left;\">String?</th><th title = \"Union{Missing, String}\" style = \"text-align: left;\">String?</th><th title = \"Union{Missing, String}\" style = \"text-align: left;\">String?</th><th title = \"Union{Missing, String}\" style = \"text-align: left;\">String?</th><th title = \"Union{Missing, String}\" style = \"text-align: left;\">String?</th><th title = \"Union{Missing, String}\" style = \"text-align: left;\">String?</th></tr></thead><tbody><tr><td class = \"rowNumber\" style = \"font-weight: bold; text-align: right;\">1</td><td style = \"text-align: left;\">CE(18:1)</td><td style = \"text-align: left;\">650.6002</td><td style = \"text-align: left;\">C45H78O2</td><td style = \"text-align: left;\">Sterol esters</td><td style = \"text-align: left;\">CE 18:1</td><td style = \"text-align: left;\">Chol. esters</td><td style = \"text-align: left;\">Sterol Lipids</td></tr><tr><td class = \"rowNumber\" style = \"font-weight: bold; text-align: right;\">2</td><td style = \"text-align: left;\">CE(18:2)</td><td style = \"text-align: left;\">648.5845</td><td style = \"text-align: left;\">C45H76O2</td><td style = \"text-align: left;\">Sterol esters</td><td style = \"text-align: left;\">CE 18:2</td><td style = \"text-align: left;\">Chol. esters</td><td style = \"text-align: left;\">Sterol Lipids</td></tr><tr><td class = \"rowNumber\" style = \"font-weight: bold; text-align: right;\">3</td><td style = \"text-align: left;\">CE(18:3)</td><td style = \"text-align: left;\">646.5689</td><td style = \"text-align: left;\">C45H74O2</td><td style = \"text-align: left;\">Sterol esters</td><td style = \"text-align: left;\">CE 18:3</td><td style = \"text-align: left;\">Chol. esters</td><td style = \"text-align: left;\">Sterol Lipids</td></tr></tbody></table></div>"
      ],
      "text/latex": [
       "\\begin{tabular}{r|ccccccc}\n",
       "\t& Metabolite & exactmass & formula & main\\_class & refmet\\_name & sub\\_class & super\\_class\\\\\n",
       "\t\\hline\n",
       "\t& String & String? & String? & String? & String? & String? & String?\\\\\n",
       "\t\\hline\n",
       "\t1 & CE(18:1) & 650.6002 & C45H78O2 & Sterol esters & CE 18:1 & Chol. esters & Sterol Lipids \\\\\n",
       "\t2 & CE(18:2) & 648.5845 & C45H76O2 & Sterol esters & CE 18:2 & Chol. esters & Sterol Lipids \\\\\n",
       "\t3 & CE(18:3) & 646.5689 & C45H74O2 & Sterol esters & CE 18:3 & Chol. esters & Sterol Lipids \\\\\n",
       "\\end{tabular}\n"
      ],
      "text/plain": [
       "\u001b[1m3×7 DataFrame\u001b[0m\n",
       "\u001b[1m Row \u001b[0m│\u001b[1m Metabolite \u001b[0m\u001b[1m exactmass \u001b[0m\u001b[1m formula  \u001b[0m\u001b[1m main_class    \u001b[0m\u001b[1m refmet_name \u001b[0m\u001b[1m sub_class \u001b[0m ⋯\n",
       "     │\u001b[90m String     \u001b[0m\u001b[90m String?   \u001b[0m\u001b[90m String?  \u001b[0m\u001b[90m String?       \u001b[0m\u001b[90m String?     \u001b[0m\u001b[90m String?   \u001b[0m ⋯\n",
       "─────┼──────────────────────────────────────────────────────────────────────────\n",
       "   1 │ CE(18:1)    650.6002   C45H78O2  Sterol esters  CE 18:1      Chol. este ⋯\n",
       "   2 │ CE(18:2)    648.5845   C45H76O2  Sterol esters  CE 18:2      Chol. este\n",
       "   3 │ CE(18:3)    646.5689   C45H74O2  Sterol esters  CE 18:3      Chol. este\n",
       "\u001b[36m                                                               2 columns omitted\u001b[0m"
      ]
     },
     "execution_count": 42,
     "metadata": {},
     "output_type": "execute_result"
    }
   ],
   "source": [
    "dfClassification = fetch_properties(dfRef.StandardizedName);\n",
    "insertcols!(dfClassification, 1, :Metabolite => dfRef.Metabolite);\n",
    "first(dfClassification, 3)"
   ]
  },
  {
   "cell_type": "code",
   "execution_count": 43,
   "id": "722f54e7-ab82-494b-87fd-6013613e75a8",
   "metadata": {},
   "outputs": [],
   "source": [
    "# replace \"-\" by missing\n",
    "for c ∈ eachcol(dfClassification)\n",
    "           replace!(c, \"-\" => missing)\n",
    "end"
   ]
  },
  {
   "cell_type": "code",
   "execution_count": 44,
   "id": "2a8765e3-6c6c-4a1c-9753-6e7ce51d0b0f",
   "metadata": {},
   "outputs": [
    {
     "data": {
      "text/plain": [
       "11-element Vector{String}:\n",
       " \"PC(22:2_16:3)\"\n",
       " \"TG(16:0_22:6_22:3)\"\n",
       " \"TG(18:0_22:6_22:3)\"\n",
       " \"PC(20:1/16:0)\"\n",
       " \"PMe(16:0/18:1)\"\n",
       " \"TG(18:2/16:0/17:0)\"\n",
       " \"TG(18:2/17:0/22:5)\"\n",
       " \"TG(18:3/20:0/20:0)\"\n",
       " \"TG(22:5/22:4/22:6)\"\n",
       " \"TG(22:6/18:1/19:0)\"\n",
       " \"ZyE(22:5)\""
      ]
     },
     "execution_count": 44,
     "metadata": {},
     "output_type": "execute_result"
    }
   ],
   "source": [
    "idxmissing = findall(ismissing.(dfClassification.main_class))\n",
    "dfRef.StandardizedName[idxmissing]"
   ]
  },
  {
   "cell_type": "markdown",
   "id": "19cf0161",
   "metadata": {},
   "source": [
    "At this stage, only *DMPE(16:0_22:6)* can be processed by [goslin](https://apps.lifs-tools.org/goslin/).   \n",
    "We will filter *PMe(16:0/18:1)* (phosphatidylmethanol) [5] and *ZyE(22:5)*.\n"
   ]
  },
  {
   "cell_type": "code",
   "execution_count": 45,
   "id": "f32d0584-6af5-4aee-a043-441220dff73d",
   "metadata": {},
   "outputs": [
    {
     "data": {
      "text/plain": [
       "13-element Vector{String}:\n",
       " \"Metabolite\"\n",
       " \"MetaboliteID\"\n",
       " \"StandardizedName\"\n",
       " \"Oxidized\"\n",
       " \"OH\"\n",
       " \"O\"\n",
       " \"O₂\"\n",
       " \"O₃\"\n",
       " \"O₄\"\n",
       " \"Plasmanyl\"\n",
       " \"Plasmalogen\"\n",
       " \"CHO\"\n",
       " \"Ke\""
      ]
     },
     "execution_count": 45,
     "metadata": {},
     "output_type": "execute_result"
    }
   ],
   "source": [
    "dfRef |> names"
   ]
  },
  {
   "cell_type": "code",
   "execution_count": 46,
   "id": "55f56825-0f74-4472-a1eb-c560e6936b2b",
   "metadata": {},
   "outputs": [
    {
     "data": {
      "text/plain": [
       "7-element Vector{String}:\n",
       " \"Metabolite\"\n",
       " \"exactmass\"\n",
       " \"formula\"\n",
       " \"main_class\"\n",
       " \"refmet_name\"\n",
       " \"sub_class\"\n",
       " \"super_class\""
      ]
     },
     "execution_count": 46,
     "metadata": {},
     "output_type": "execute_result"
    }
   ],
   "source": [
    "dfClassification |> names"
   ]
  },
  {
   "cell_type": "code",
   "execution_count": 47,
   "id": "9e626096-2f91-4214-b4b6-7aab202483fd",
   "metadata": {},
   "outputs": [
    {
     "data": {
      "text/plain": [
       "(590, 19)"
      ]
     },
     "execution_count": 47,
     "metadata": {},
     "output_type": "execute_result"
    }
   ],
   "source": [
    "dfRef = leftjoin(dfRef, dfClassification, on = :Metabolite); size(dfRef)"
   ]
  },
  {
   "cell_type": "code",
   "execution_count": 48,
   "id": "b7d33483-cee6-425d-bd86-a95cf40f8655",
   "metadata": {},
   "outputs": [],
   "source": [
    "# filter\n",
    "# deleteat!(dfRef, idxmissing[[2,3]]);\n",
    "deleteat!(dfRef, idxmissing[[5,11]]);"
   ]
  },
  {
   "cell_type": "code",
   "execution_count": 52,
   "id": "52b7058f-c71f-4b10-b099-434fb4acc8f5",
   "metadata": {},
   "outputs": [
    {
     "data": {
      "text/plain": [
       "14-element Vector{Union{Missing, String}}:\n",
       " \"Chol. esters\"\n",
       " \"Cer\"\n",
       " \"DAG\"\n",
       " \"PE-NMe2\"\n",
       " \"LPC\"\n",
       " \"LPE\"\n",
       " \"PC\"\n",
       " missing\n",
       " \"TAG\"\n",
       " \"O-PC\"\n",
       " \"PE\"\n",
       " \"PI\"\n",
       " \"O-PS\"\n",
       " \"SM\""
      ]
     },
     "execution_count": 52,
     "metadata": {},
     "output_type": "execute_result"
    }
   ],
   "source": [
    "dfRef.sub_class |> unique"
   ]
  },
  {
   "cell_type": "code",
   "execution_count": 57,
   "id": "8c9c1d2a-c8dd-4a90-8d82-0f2e0d83e25e",
   "metadata": {},
   "outputs": [
    {
     "name": "stdout",
     "output_type": "stream",
     "text": [
      "search: \u001b[0m\u001b[1ms\u001b[22m\u001b[0m\u001b[1mk\u001b[22m\u001b[0m\u001b[1mi\u001b[22m\u001b[0m\u001b[1mp\u001b[22m\u001b[0m\u001b[1mm\u001b[22m\u001b[0m\u001b[1mi\u001b[22m\u001b[0m\u001b[1ms\u001b[22m\u001b[0m\u001b[1ms\u001b[22m\u001b[0m\u001b[1mi\u001b[22m\u001b[0m\u001b[1mn\u001b[22m\u001b[0m\u001b[1mg\u001b[22m \u001b[0m\u001b[1ms\u001b[22m\u001b[0m\u001b[1mk\u001b[22m\u001b[0m\u001b[1mi\u001b[22m\u001b[0m\u001b[1mp\u001b[22m\u001b[0m\u001b[1mm\u001b[22m\u001b[0m\u001b[1mi\u001b[22m\u001b[0m\u001b[1ms\u001b[22m\u001b[0m\u001b[1ms\u001b[22m\u001b[0m\u001b[1mi\u001b[22m\u001b[0m\u001b[1mn\u001b[22m\u001b[0m\u001b[1mg\u001b[22ms dropmi\u001b[0m\u001b[1ms\u001b[22msing i\u001b[0m\u001b[1ms\u001b[22mmissing dropmi\u001b[0m\u001b[1ms\u001b[22msing! idxmi\u001b[0m\u001b[1ms\u001b[22msing\n",
      "\n"
     ]
    },
    {
     "data": {
      "text/latex": [
       "\\begin{verbatim}\n",
       "skipmissing(itr)\n",
       "\\end{verbatim}\n",
       "Return an iterator over the elements in \\texttt{itr} skipping \\href{@ref}{\\texttt{missing}} values. The returned object can be indexed using indices of \\texttt{itr} if the latter is indexable. Indices corresponding to missing values are not valid: they are skipped by \\href{@ref}{\\texttt{keys}} and \\href{@ref}{\\texttt{eachindex}}, and a \\texttt{MissingException} is thrown when trying to use them.\n",
       "\n",
       "Use \\href{@ref}{\\texttt{collect}} to obtain an \\texttt{Array} containing the non-\\texttt{missing} values in \\texttt{itr}. Note that even if \\texttt{itr} is a multidimensional array, the result will always be a \\texttt{Vector} since it is not possible to remove missings while preserving dimensions of the input.\n",
       "\n",
       "See also \\href{@ref}{\\texttt{coalesce}}, \\href{@ref}{\\texttt{ismissing}}, \\href{@ref}{\\texttt{something}}.\n",
       "\n",
       "\\section{Examples}\n",
       "\\begin{verbatim}\n",
       "julia> x = skipmissing([1, missing, 2])\n",
       "skipmissing(Union{Missing, Int64}[1, missing, 2])\n",
       "\n",
       "julia> sum(x)\n",
       "3\n",
       "\n",
       "julia> x[1]\n",
       "1\n",
       "\n",
       "julia> x[2]\n",
       "ERROR: MissingException: the value at index (2,) is missing\n",
       "[...]\n",
       "\n",
       "julia> argmax(x)\n",
       "3\n",
       "\n",
       "julia> collect(keys(x))\n",
       "2-element Vector{Int64}:\n",
       " 1\n",
       " 3\n",
       "\n",
       "julia> collect(skipmissing([1, missing, 2]))\n",
       "2-element Vector{Int64}:\n",
       " 1\n",
       " 2\n",
       "\n",
       "julia> collect(skipmissing([1 missing; 2 missing]))\n",
       "2-element Vector{Int64}:\n",
       " 1\n",
       " 2\n",
       "\\end{verbatim}\n"
      ],
      "text/markdown": [
       "```\n",
       "skipmissing(itr)\n",
       "```\n",
       "\n",
       "Return an iterator over the elements in `itr` skipping [`missing`](@ref) values. The returned object can be indexed using indices of `itr` if the latter is indexable. Indices corresponding to missing values are not valid: they are skipped by [`keys`](@ref) and [`eachindex`](@ref), and a `MissingException` is thrown when trying to use them.\n",
       "\n",
       "Use [`collect`](@ref) to obtain an `Array` containing the non-`missing` values in `itr`. Note that even if `itr` is a multidimensional array, the result will always be a `Vector` since it is not possible to remove missings while preserving dimensions of the input.\n",
       "\n",
       "See also [`coalesce`](@ref), [`ismissing`](@ref), [`something`](@ref).\n",
       "\n",
       "# Examples\n",
       "\n",
       "```jldoctest\n",
       "julia> x = skipmissing([1, missing, 2])\n",
       "skipmissing(Union{Missing, Int64}[1, missing, 2])\n",
       "\n",
       "julia> sum(x)\n",
       "3\n",
       "\n",
       "julia> x[1]\n",
       "1\n",
       "\n",
       "julia> x[2]\n",
       "ERROR: MissingException: the value at index (2,) is missing\n",
       "[...]\n",
       "\n",
       "julia> argmax(x)\n",
       "3\n",
       "\n",
       "julia> collect(keys(x))\n",
       "2-element Vector{Int64}:\n",
       " 1\n",
       " 3\n",
       "\n",
       "julia> collect(skipmissing([1, missing, 2]))\n",
       "2-element Vector{Int64}:\n",
       " 1\n",
       " 2\n",
       "\n",
       "julia> collect(skipmissing([1 missing; 2 missing]))\n",
       "2-element Vector{Int64}:\n",
       " 1\n",
       " 2\n",
       "```\n"
      ],
      "text/plain": [
       "\u001b[36m  skipmissing(itr)\u001b[39m\n",
       "\n",
       "  Return an iterator over the elements in \u001b[36mitr\u001b[39m skipping \u001b[36mmissing\u001b[39m values. The\n",
       "  returned object can be indexed using indices of \u001b[36mitr\u001b[39m if the latter is\n",
       "  indexable. Indices corresponding to missing values are not valid: they are\n",
       "  skipped by \u001b[36mkeys\u001b[39m and \u001b[36meachindex\u001b[39m, and a \u001b[36mMissingException\u001b[39m is thrown when trying\n",
       "  to use them.\n",
       "\n",
       "  Use \u001b[36mcollect\u001b[39m to obtain an \u001b[36mArray\u001b[39m containing the non-\u001b[36mmissing\u001b[39m values in \u001b[36mitr\u001b[39m.\n",
       "  Note that even if \u001b[36mitr\u001b[39m is a multidimensional array, the result will always be\n",
       "  a \u001b[36mVector\u001b[39m since it is not possible to remove missings while preserving\n",
       "  dimensions of the input.\n",
       "\n",
       "  See also \u001b[36mcoalesce\u001b[39m, \u001b[36mismissing\u001b[39m, \u001b[36msomething\u001b[39m.\n",
       "\n",
       "\u001b[1m  Examples\u001b[22m\n",
       "\u001b[1m  ≡≡≡≡≡≡≡≡\u001b[22m\n",
       "\n",
       "\u001b[36m  julia> x = skipmissing([1, missing, 2])\u001b[39m\n",
       "\u001b[36m  skipmissing(Union{Missing, Int64}[1, missing, 2])\u001b[39m\n",
       "\u001b[36m  \u001b[39m\n",
       "\u001b[36m  julia> sum(x)\u001b[39m\n",
       "\u001b[36m  3\u001b[39m\n",
       "\u001b[36m  \u001b[39m\n",
       "\u001b[36m  julia> x[1]\u001b[39m\n",
       "\u001b[36m  1\u001b[39m\n",
       "\u001b[36m  \u001b[39m\n",
       "\u001b[36m  julia> x[2]\u001b[39m\n",
       "\u001b[36m  ERROR: MissingException: the value at index (2,) is missing\u001b[39m\n",
       "\u001b[36m  [...]\u001b[39m\n",
       "\u001b[36m  \u001b[39m\n",
       "\u001b[36m  julia> argmax(x)\u001b[39m\n",
       "\u001b[36m  3\u001b[39m\n",
       "\u001b[36m  \u001b[39m\n",
       "\u001b[36m  julia> collect(keys(x))\u001b[39m\n",
       "\u001b[36m  2-element Vector{Int64}:\u001b[39m\n",
       "\u001b[36m   1\u001b[39m\n",
       "\u001b[36m   3\u001b[39m\n",
       "\u001b[36m  \u001b[39m\n",
       "\u001b[36m  julia> collect(skipmissing([1, missing, 2]))\u001b[39m\n",
       "\u001b[36m  2-element Vector{Int64}:\u001b[39m\n",
       "\u001b[36m   1\u001b[39m\n",
       "\u001b[36m   2\u001b[39m\n",
       "\u001b[36m  \u001b[39m\n",
       "\u001b[36m  julia> collect(skipmissing([1 missing; 2 missing]))\u001b[39m\n",
       "\u001b[36m  2-element Vector{Int64}:\u001b[39m\n",
       "\u001b[36m   1\u001b[39m\n",
       "\u001b[36m   2\u001b[39m"
      ]
     },
     "execution_count": 57,
     "metadata": {},
     "output_type": "execute_result"
    }
   ],
   "source": [
    "?skipmissing"
   ]
  },
  {
   "cell_type": "code",
   "execution_count": 58,
   "id": "126c9750-12e0-45ad-9d85-37b57544a109",
   "metadata": {},
   "outputs": [
    {
     "data": {
      "text/plain": [
       "1-element Vector{Int64}:\n",
       " 29"
      ]
     },
     "execution_count": 58,
     "metadata": {},
     "output_type": "execute_result"
    }
   ],
   "source": [
    "findall(occursin.(\"PE-NMe2\", skipmissing(dfRef.sub_class)))"
   ]
  },
  {
   "cell_type": "code",
   "execution_count": 59,
   "id": "19adf7db-b8b3-4676-b39b-7f3109fcf8d7",
   "metadata": {},
   "outputs": [
    {
     "data": {
      "text/plain": [
       "\"PE-NMe2\""
      ]
     },
     "execution_count": 59,
     "metadata": {},
     "output_type": "execute_result"
    }
   ],
   "source": [
    "skipmissing(dfRef.sub_class)[29]"
   ]
  },
  {
   "cell_type": "markdown",
   "id": "7f72f0e0",
   "metadata": {
    "tags": []
   },
   "source": [
    "### Use GOSLIN"
   ]
  },
  {
   "cell_type": "code",
   "execution_count": 143,
   "id": "cf3991c2",
   "metadata": {},
   "outputs": [
    {
     "data": {
      "text/plain": [
       "RObject{StrSxp}\n",
       " [1] \"lubridate\" \"forcats\"   \"stringr\"   \"dplyr\"     \"purrr\"     \"readr\"    \n",
       " [7] \"tidyr\"     \"tibble\"    \"ggplot2\"   \"tidyverse\" \"rgoslin\"   \"stats\"    \n",
       "[13] \"graphics\"  \"grDevices\" \"utils\"     \"datasets\"  \"methods\"   \"base\"     \n"
      ]
     },
     "execution_count": 143,
     "metadata": {},
     "output_type": "execute_result"
    }
   ],
   "source": [
    "R\"\"\"\n",
    "suppressMessages(library('rgoslin'))\n",
    "suppressMessages(library('tidyverse'));\n",
    "\"\"\""
   ]
  },
  {
   "cell_type": "code",
   "execution_count": 144,
   "id": "22a0435b",
   "metadata": {},
   "outputs": [],
   "source": [
    "@rput dfRef;"
   ]
  },
  {
   "cell_type": "code",
   "execution_count": 145,
   "id": "0ce00be6",
   "metadata": {
    "lines_to_next_cell": 2
   },
   "outputs": [
    {
     "name": "stdout",
     "output_type": "stream",
     "text": [
      "All valid."
     ]
    }
   ],
   "source": [
    "R\"\"\"\n",
    "# check validity\n",
    "dfRef$Valid <- suppressWarnings(sapply(dfRef$StandardizedName, isValidLipidName))\n",
    "if (sum(dfRef$Valid) == dim(dfRef)[1]) {\n",
    "    cat(\"All valid.\")\n",
    "} else {\n",
    "    print(\"Check invalid names.\")\n",
    "}\n",
    "\"\"\";"
   ]
  },
  {
   "cell_type": "code",
   "execution_count": 146,
   "id": "306583d7",
   "metadata": {},
   "outputs": [],
   "source": [
    "dfRef.Total_C = zeros(Int, size(dfRef,1));\n",
    "dfRef.Total_DB = zeros(Int, size(dfRef,1));\n",
    "dfRef.Class = repeat([\"NA\"], size(dfRef,1));"
   ]
  },
  {
   "cell_type": "code",
   "execution_count": 147,
   "id": "ebc08c53",
   "metadata": {},
   "outputs": [],
   "source": [
    "for i in 1:size(dfRef, 1)\n",
    "    @rput i;\n",
    "    R\"\"\"\n",
    "    #rsltGoslin <- as_tibble(parseLipidNames(dfRef$StandardizedName[i]))[, c(\"Original Name\", \"Total C\", \"Total DB\", \"Lipid Maps Main Class\")];\n",
    "    rsltGoslin <- as_tibble(parseLipidNames(dfRef$StandardizedName[i]))[, c(\"Original.Name\", \"Total.C\", \"Total.DB\", \"Lipid.Maps.Main.Class\")];\n",
    "    \"\"\"\n",
    "    @rget rsltGoslin\n",
    "    # dfRef.Total_C[i] = parse(Int, rsltGoslin.\"Total C\"[1])\n",
    "    # dfRef.Total_DB[i] = parse(Int, rsltGoslin.\"Total DB\"[1])\n",
    "    # dfRef.Class[i] = rsltGoslin.\"Lipid Maps Main Class\"[1]\n",
    "        \n",
    "    dfRef.Total_C[i] = rsltGoslin.\"Total_C\"[1]\n",
    "    dfRef.Total_DB[i] = rsltGoslin.\"Total_DB\"[1]\n",
    "    dfRef.Class[i] = rsltGoslin.\"Lipid_Maps_Main_Class\"[1]\n",
    "end"
   ]
  },
  {
   "cell_type": "code",
   "execution_count": 148,
   "id": "1f591eb7",
   "metadata": {},
   "outputs": [
    {
     "data": {
      "text/plain": [
       "22-element Vector{String}:\n",
       " \"Metabolite\"\n",
       " \"MetaboliteID\"\n",
       " \"StandardizedName\"\n",
       " \"Oxidized\"\n",
       " \"OH\"\n",
       " \"O\"\n",
       " \"O₂\"\n",
       " \"O₃\"\n",
       " \"O₄\"\n",
       " \"Plasmanyl\"\n",
       " \"Plasmalogen\"\n",
       " \"CHO\"\n",
       " \"Ke\"\n",
       " \"exactmass\"\n",
       " \"formula\"\n",
       " \"main_class\"\n",
       " \"refmet_name\"\n",
       " \"sub_class\"\n",
       " \"super_class\"\n",
       " \"Total_C\"\n",
       " \"Total_DB\"\n",
       " \"Class\""
      ]
     },
     "execution_count": 148,
     "metadata": {},
     "output_type": "execute_result"
    }
   ],
   "source": [
    "names(dfRef)"
   ]
  },
  {
   "cell_type": "markdown",
   "id": "ccf5f400",
   "metadata": {
    "tags": []
   },
   "source": [
    "#### Save metabolites reference dataset:"
   ]
  },
  {
   "cell_type": "code",
   "execution_count": 149,
   "id": "43149426",
   "metadata": {},
   "outputs": [],
   "source": [
    "fileMetaboRef = joinpath(@__DIR__,\"..\",\"..\",\"data\",\"processed\",\"refMeta.csv\");\n",
    "dfRef |> CSV.write(fileMetaboRef);"
   ]
  },
  {
   "cell_type": "markdown",
   "id": "d051017a-d3dd-44f7-a483-d0106f74aa0c",
   "metadata": {},
   "source": [
    "### Sub class dictionary"
   ]
  },
  {
   "cell_type": "code",
   "execution_count": 150,
   "id": "7e485a14-746e-49ec-8d67-57578f37bb16",
   "metadata": {},
   "outputs": [],
   "source": [
    "fileClinicalDict = joinpath(@__DIR__,\"..\",\"..\",\"data\",\"processed\", \"SubClassDictionary.csv\");\n",
    "open(fileClinicalDict,\"w\") do io\n",
    "   println(io,\n",
    "        \"SubClass,Name\\n\",\n",
    "        \"Cer,Ceramides\\n\",\n",
    "        \"Chol. esters,Cholesteryl esters\\n\",\n",
    "        \"DAG,Diglycerides\\n\",\n",
    "        \"LPC,Lysophosphatidylcholines\\n\",\n",
    "        \"LPE,Lysocephalins\\n\",\n",
    "        \"PC,Phosphatidylcholines\\n\",\n",
    "        \"PE,Phosphatidylethanolamines\\n\" ,\n",
    "        \"PI,Phosphatidylinositols\\n\",\n",
    "        \"PS,Phosphatidylserines\\n\",\n",
    "        \"SM,Sphingomyelins\\n\",\n",
    "        \"TAG,Triglycerides\\n\"\n",
    "    )\n",
    "end"
   ]
  },
  {
   "cell_type": "markdown",
   "id": "d4434805",
   "metadata": {},
   "source": [
    "## Extract Metabolites dataset "
   ]
  },
  {
   "cell_type": "code",
   "execution_count": 151,
   "id": "efa44a8f",
   "metadata": {
    "tags": []
   },
   "outputs": [],
   "source": [
    "dfMetabo = fetch_data(ST);"
   ]
  },
  {
   "cell_type": "code",
   "execution_count": 152,
   "id": "7efde749",
   "metadata": {},
   "outputs": [],
   "source": [
    "# rename sample ID with suffix\n",
    "vHeader = names(dfMetabo);\n",
    "vHeader[2:end] .= \"ID_\".*vHeader[2:end];\n",
    "rename!(dfMetabo, Symbol.(vHeader));"
   ]
  },
  {
   "cell_type": "code",
   "execution_count": 153,
   "id": "c34dc282",
   "metadata": {},
   "outputs": [
    {
     "data": {
      "text/html": [
       "<div><div style = \"float: left;\"><span>5×52 DataFrame</span></div><div style = \"clear: both;\"></div></div><div class = \"data-frame\" style = \"overflow-x: scroll;\"><table class = \"data-frame\" style = \"margin-bottom: 6px;\"><thead><tr class = \"header\"><th class = \"rowNumber\" style = \"font-weight: bold; text-align: right;\">Row</th><th style = \"text-align: left;\">Metabolite</th><th style = \"text-align: left;\">ID_8358</th><th style = \"text-align: left;\">ID_8363</th><th style = \"text-align: left;\">ID_8370</th><th style = \"text-align: left;\">ID_8371</th><th style = \"text-align: left;\">ID_8373</th><th style = \"text-align: left;\">ID_8376</th><th style = \"text-align: left;\">ID_8378</th><th style = \"text-align: left;\">ID_8379</th><th style = \"text-align: left;\">ID_8385</th><th style = \"text-align: left;\">ID_8390</th><th style = \"text-align: left;\">ID_8392</th><th style = \"text-align: left;\">ID_8393</th><th style = \"text-align: left;\">ID_8399</th><th style = \"text-align: left;\">ID_8403</th><th style = \"text-align: left;\">ID_8404</th><th style = \"text-align: left;\">ID_8356</th><th style = \"text-align: left;\">ID_8382</th><th style = \"text-align: left;\">ID_8387</th><th style = \"text-align: left;\">ID_8391</th><th style = \"text-align: left;\">ID_8394</th><th style = \"text-align: left;\">ID_8396</th><th style = \"text-align: left;\">ID_8405</th><th style = \"text-align: left;\">ID_8407</th><th style = \"text-align: left;\">ID_8359</th><th style = \"text-align: left;\">ID_8360</th><th style = \"text-align: left;\">ID_8367</th><th style = \"text-align: left;\">ID_8368</th><th style = \"text-align: left;\">ID_8372</th><th style = \"text-align: left;\">ID_8374</th><th style = \"text-align: left;\">ID_8375</th><th style = \"text-align: left;\">ID_8377</th><th style = \"text-align: left;\">ID_8380</th><th style = \"text-align: left;\">ID_8383</th><th style = \"text-align: left;\">ID_8384</th><th style = \"text-align: left;\">ID_8395</th><th style = \"text-align: left;\">ID_8397</th><th style = \"text-align: left;\">ID_8400</th><th style = \"text-align: left;\">ID_8402</th><th style = \"text-align: left;\">ID_8355</th><th style = \"text-align: left;\">ID_8362</th><th style = \"text-align: left;\">ID_8364</th><th style = \"text-align: left;\">ID_8366</th><th style = \"text-align: left;\">ID_8381</th><th style = \"text-align: left;\">ID_8386</th><th style = \"text-align: left;\">ID_8389</th><th style = \"text-align: left;\">ID_8398</th><th style = \"text-align: left;\">ID_8401</th><th style = \"text-align: left;\">ID_8406</th><th style = \"text-align: left;\">ID_8408</th><th style = \"text-align: left;\">ID_8409</th><th style = \"text-align: left;\">ID_8410</th></tr><tr class = \"subheader headerLastRow\"><th class = \"rowNumber\" style = \"font-weight: bold; text-align: right;\"></th><th title = \"String\" style = \"text-align: left;\">String</th><th title = \"String\" style = \"text-align: left;\">String</th><th title = \"String\" style = \"text-align: left;\">String</th><th title = \"String\" style = \"text-align: left;\">String</th><th title = \"String\" style = \"text-align: left;\">String</th><th title = \"String\" style = \"text-align: left;\">String</th><th title = \"String\" style = \"text-align: left;\">String</th><th title = \"String\" style = \"text-align: left;\">String</th><th title = \"String\" style = \"text-align: left;\">String</th><th title = \"String\" style = \"text-align: left;\">String</th><th title = \"String\" style = \"text-align: left;\">String</th><th title = \"String\" style = \"text-align: left;\">String</th><th title = \"String\" style = \"text-align: left;\">String</th><th title = \"String\" style = \"text-align: left;\">String</th><th title = \"String\" style = \"text-align: left;\">String</th><th title = \"String\" style = \"text-align: left;\">String</th><th title = \"String\" style = \"text-align: left;\">String</th><th title = \"String\" style = \"text-align: left;\">String</th><th title = \"String\" style = \"text-align: left;\">String</th><th title = \"String\" style = \"text-align: left;\">String</th><th title = \"String\" style = \"text-align: left;\">String</th><th title = \"String\" style = \"text-align: left;\">String</th><th title = \"String\" style = \"text-align: left;\">String</th><th title = \"String\" style = \"text-align: left;\">String</th><th title = \"String\" style = \"text-align: left;\">String</th><th title = \"String\" style = \"text-align: left;\">String</th><th title = \"String\" style = \"text-align: left;\">String</th><th title = \"String\" style = \"text-align: left;\">String</th><th title = \"String\" style = \"text-align: left;\">String</th><th title = \"String\" style = \"text-align: left;\">String</th><th title = \"String\" style = \"text-align: left;\">String</th><th title = \"String\" style = \"text-align: left;\">String</th><th title = \"String\" style = \"text-align: left;\">String</th><th title = \"String\" style = \"text-align: left;\">String</th><th title = \"String\" style = \"text-align: left;\">String</th><th title = \"String\" style = \"text-align: left;\">String</th><th title = \"String\" style = \"text-align: left;\">String</th><th title = \"String\" style = \"text-align: left;\">String</th><th title = \"String\" style = \"text-align: left;\">String</th><th title = \"String\" style = \"text-align: left;\">String</th><th title = \"String\" style = \"text-align: left;\">String</th><th title = \"String\" style = \"text-align: left;\">String</th><th title = \"String\" style = \"text-align: left;\">String</th><th title = \"String\" style = \"text-align: left;\">String</th><th title = \"String\" style = \"text-align: left;\">String</th><th title = \"String\" style = \"text-align: left;\">String</th><th title = \"String\" style = \"text-align: left;\">String</th><th title = \"String\" style = \"text-align: left;\">String</th><th title = \"String\" style = \"text-align: left;\">String</th><th title = \"String\" style = \"text-align: left;\">String</th><th title = \"String\" style = \"text-align: left;\">String</th><th title = \"String\" style = \"text-align: left;\">String</th></tr></thead><tbody><tr><td class = \"rowNumber\" style = \"font-weight: bold; text-align: right;\">1</td><td style = \"text-align: left;\">CE(18:1)</td><td style = \"text-align: left;\">1005.004533</td><td style = \"text-align: left;\">656.2196475</td><td style = \"text-align: left;\">442.532242</td><td style = \"text-align: left;\">835.7863174</td><td style = \"text-align: left;\">694.9938797</td><td style = \"text-align: left;\">1113.26766</td><td style = \"text-align: left;\">601.1531229</td><td style = \"text-align: left;\">911.0231408</td><td style = \"text-align: left;\">922.4312376</td><td style = \"text-align: left;\">2162.927368</td><td style = \"text-align: left;\">2662.061708</td><td style = \"text-align: left;\">2554.95758</td><td style = \"text-align: left;\">317.2679899</td><td style = \"text-align: left;\">954.8437234</td><td style = \"text-align: left;\">1485.162418</td><td style = \"text-align: left;\">1487.098997</td><td style = \"text-align: left;\">1526.877146</td><td style = \"text-align: left;\">2350.745891</td><td style = \"text-align: left;\">689.0949408</td><td style = \"text-align: left;\">2108.859738</td><td style = \"text-align: left;\">2120.099614</td><td style = \"text-align: left;\">3248.33437</td><td style = \"text-align: left;\">1792.058802</td><td style = \"text-align: left;\">819.9110147</td><td style = \"text-align: left;\">822.0304468</td><td style = \"text-align: left;\">1102.919542</td><td style = \"text-align: left;\">995.0302335</td><td style = \"text-align: left;\">835.9690242</td><td style = \"text-align: left;\">668.6597227</td><td style = \"text-align: left;\">589.6627367</td><td style = \"text-align: left;\">649.3858632</td><td style = \"text-align: left;\">1133.170376</td><td style = \"text-align: left;\">441.4649634</td><td style = \"text-align: left;\">725.1292872</td><td style = \"text-align: left;\">954.0964175</td><td style = \"text-align: left;\">788.8463418</td><td style = \"text-align: left;\">666.9293928</td><td style = \"text-align: left;\">492.7900539</td><td style = \"text-align: left;\">2136.677671</td><td style = \"text-align: left;\">1067.73527</td><td style = \"text-align: left;\">1039.51039</td><td style = \"text-align: left;\">962.4501876</td><td style = \"text-align: left;\">1967.906092</td><td style = \"text-align: left;\">463.6840503</td><td style = \"text-align: left;\">747.2729114</td><td style = \"text-align: left;\">1187.124441</td><td style = \"text-align: left;\">1413.081456</td><td style = \"text-align: left;\">2137.14665</td><td style = \"text-align: left;\">935.8754413</td><td style = \"text-align: left;\">1314.455617</td><td style = \"text-align: left;\">994.0309683</td></tr><tr><td class = \"rowNumber\" style = \"font-weight: bold; text-align: right;\">2</td><td style = \"text-align: left;\">CE(18:2)</td><td style = \"text-align: left;\">120.5422615</td><td style = \"text-align: left;\">81.57473155</td><td style = \"text-align: left;\">59.37249758</td><td style = \"text-align: left;\">95.26536816</td><td style = \"text-align: left;\">111.2627008</td><td style = \"text-align: left;\">104.0151326</td><td style = \"text-align: left;\">55.54637576</td><td style = \"text-align: left;\">77.51145235</td><td style = \"text-align: left;\">76.82468683</td><td style = \"text-align: left;\">175.1010307</td><td style = \"text-align: left;\">198.8355773</td><td style = \"text-align: left;\">340.6354778</td><td style = \"text-align: left;\">28.50615715</td><td style = \"text-align: left;\">88.36516868</td><td style = \"text-align: left;\">98.43064945</td><td style = \"text-align: left;\">144.5494583</td><td style = \"text-align: left;\">102.7142211</td><td style = \"text-align: left;\">290.1930501</td><td style = \"text-align: left;\">72.614949</td><td style = \"text-align: left;\">156.1764691</td><td style = \"text-align: left;\">165.3048481</td><td style = \"text-align: left;\">212.0992928</td><td style = \"text-align: left;\">127.0272866</td><td style = \"text-align: left;\">104.0060156</td><td style = \"text-align: left;\">71.89492666</td><td style = \"text-align: left;\">126.7917354</td><td style = \"text-align: left;\">130.1923503</td><td style = \"text-align: left;\">99.16116764</td><td style = \"text-align: left;\">69.02562776</td><td style = \"text-align: left;\">45.094948</td><td style = \"text-align: left;\">63.01183159</td><td style = \"text-align: left;\">131.2795755</td><td style = \"text-align: left;\">41.78108707</td><td style = \"text-align: left;\">89.24603905</td><td style = \"text-align: left;\">137.5258398</td><td style = \"text-align: left;\">97.81887033</td><td style = \"text-align: left;\">82.5493078</td><td style = \"text-align: left;\">74.18123187</td><td style = \"text-align: left;\">299.7572817</td><td style = \"text-align: left;\">79.35524902</td><td style = \"text-align: left;\">80.02628309</td><td style = \"text-align: left;\">124.415973</td><td style = \"text-align: left;\">135.3763366</td><td style = \"text-align: left;\">59.25467281</td><td style = \"text-align: left;\">98.15699392</td><td style = \"text-align: left;\">186.498727</td><td style = \"text-align: left;\">59.23789656</td><td style = \"text-align: left;\">155.9713913</td><td style = \"text-align: left;\">80.41659849</td><td style = \"text-align: left;\">130.579997</td><td style = \"text-align: left;\">94.47065133</td></tr><tr><td class = \"rowNumber\" style = \"font-weight: bold; text-align: right;\">3</td><td style = \"text-align: left;\">CE(18:3)</td><td style = \"text-align: left;\">207.5760181</td><td style = \"text-align: left;\">103.0388756</td><td style = \"text-align: left;\">91.39644092</td><td style = \"text-align: left;\">147.2090585</td><td style = \"text-align: left;\">134.3577342</td><td style = \"text-align: left;\">163.0631881</td><td style = \"text-align: left;\">87.38702958</td><td style = \"text-align: left;\">116.6200796</td><td style = \"text-align: left;\">145.1578368</td><td style = \"text-align: left;\">249.2077712</td><td style = \"text-align: left;\">414.5426793</td><td style = \"text-align: left;\">384.6989707</td><td style = \"text-align: left;\">53.82494811</td><td style = \"text-align: left;\">156.2226748</td><td style = \"text-align: left;\">271.1422424</td><td style = \"text-align: left;\">240.1673799</td><td style = \"text-align: left;\">181.7064279</td><td style = \"text-align: left;\">515.154009</td><td style = \"text-align: left;\">112.2510577</td><td style = \"text-align: left;\">319.6809932</td><td style = \"text-align: left;\">464.6252606</td><td style = \"text-align: left;\">595.9820339</td><td style = \"text-align: left;\">253.3709138</td><td style = \"text-align: left;\">111.1392527</td><td style = \"text-align: left;\">112.7036474</td><td style = \"text-align: left;\">159.380235</td><td style = \"text-align: left;\">207.1645841</td><td style = \"text-align: left;\">184.2719717</td><td style = \"text-align: left;\">93.31381194</td><td style = \"text-align: left;\">106.8488859</td><td style = \"text-align: left;\">89.68337726</td><td style = \"text-align: left;\">139.0250959</td><td style = \"text-align: left;\">57.01127039</td><td style = \"text-align: left;\">179.7445219</td><td style = \"text-align: left;\">185.3427762</td><td style = \"text-align: left;\">165.1674202</td><td style = \"text-align: left;\">149.8846796</td><td style = \"text-align: left;\">103.7963029</td><td style = \"text-align: left;\">327.7022204</td><td style = \"text-align: left;\">173.4720418</td><td style = \"text-align: left;\">191.2745002</td><td style = \"text-align: left;\">243.4699394</td><td style = \"text-align: left;\">311.159407</td><td style = \"text-align: left;\">77.98130404</td><td style = \"text-align: left;\">157.4007537</td><td style = \"text-align: left;\">256.5046666</td><td style = \"text-align: left;\">168.9243624</td><td style = \"text-align: left;\">276.7940302</td><td style = \"text-align: left;\">122.7791609</td><td style = \"text-align: left;\">301.2520366</td><td style = \"text-align: left;\">204.2388073</td></tr><tr><td class = \"rowNumber\" style = \"font-weight: bold; text-align: right;\">4</td><td style = \"text-align: left;\">CE(18:4)</td><td style = \"text-align: left;\">185.1900835</td><td style = \"text-align: left;\">114.8704705</td><td style = \"text-align: left;\">102.3479244</td><td style = \"text-align: left;\">214.2161794</td><td style = \"text-align: left;\">105.0702351</td><td style = \"text-align: left;\">210.1147451</td><td style = \"text-align: left;\">119.3918239</td><td style = \"text-align: left;\">199.4102296</td><td style = \"text-align: left;\">258.127771</td><td style = \"text-align: left;\">400.4438389</td><td style = \"text-align: left;\">313.5091499</td><td style = \"text-align: left;\">673.4791258</td><td style = \"text-align: left;\">139.3275734</td><td style = \"text-align: left;\">140.5671856</td><td style = \"text-align: left;\">313.1666872</td><td style = \"text-align: left;\">321.532862</td><td style = \"text-align: left;\">323.6841529</td><td style = \"text-align: left;\">587.0712331</td><td style = \"text-align: left;\">161.7361894</td><td style = \"text-align: left;\">467.6293789</td><td style = \"text-align: left;\">462.586779</td><td style = \"text-align: left;\">643.1870656</td><td style = \"text-align: left;\">395.1143264</td><td style = \"text-align: left;\">148.5243146</td><td style = \"text-align: left;\">186.0612789</td><td style = \"text-align: left;\">117.8878366</td><td style = \"text-align: left;\">281.9749001</td><td style = \"text-align: left;\">270.8238429</td><td style = \"text-align: left;\">208.7471171</td><td style = \"text-align: left;\">207.2171458</td><td style = \"text-align: left;\">281.7002965</td><td style = \"text-align: left;\">140.7439699</td><td style = \"text-align: left;\">65.61017035</td><td style = \"text-align: left;\">229.4907776</td><td style = \"text-align: left;\">239.8230071</td><td style = \"text-align: left;\">210.9786658</td><td style = \"text-align: left;\">189.1752974</td><td style = \"text-align: left;\">155.7311868</td><td style = \"text-align: left;\">216.8449078</td><td style = \"text-align: left;\">291.7592911</td><td style = \"text-align: left;\">220.9522036</td><td style = \"text-align: left;\">235.8758164</td><td style = \"text-align: left;\">420.4788756</td><td style = \"text-align: left;\">116.8234124</td><td style = \"text-align: left;\">220.9994502</td><td style = \"text-align: left;\">310.6566702</td><td style = \"text-align: left;\">195.3825583</td><td style = \"text-align: left;\">294.1042009</td><td style = \"text-align: left;\">222.0598007</td><td style = \"text-align: left;\">395.8092463</td><td style = \"text-align: left;\">263.3779846</td></tr><tr><td class = \"rowNumber\" style = \"font-weight: bold; text-align: right;\">5</td><td style = \"text-align: left;\">CE(20:1)</td><td style = \"text-align: left;\">27.12701689</td><td style = \"text-align: left;\">2.961702936</td><td style = \"text-align: left;\">4.237597992</td><td style = \"text-align: left;\">31.33287865</td><td style = \"text-align: left;\">7.637112491</td><td style = \"text-align: left;\">17.99623889</td><td style = \"text-align: left;\">5.5013182</td><td style = \"text-align: left;\">13.16834995</td><td style = \"text-align: left;\">8.599539077</td><td style = \"text-align: left;\">34.25623205</td><td style = \"text-align: left;\">85.12014992</td><td style = \"text-align: left;\">100.5495999</td><td style = \"text-align: left;\">0</td><td style = \"text-align: left;\">22.8589363</td><td style = \"text-align: left;\">87.21672373</td><td style = \"text-align: left;\">49.25723513</td><td style = \"text-align: left;\">19.65817783</td><td style = \"text-align: left;\">238.4575132</td><td style = \"text-align: left;\">13.75900937</td><td style = \"text-align: left;\">87.75320082</td><td style = \"text-align: left;\">113.7836729</td><td style = \"text-align: left;\">231.6847272</td><td style = \"text-align: left;\">77.78389937</td><td style = \"text-align: left;\">0</td><td style = \"text-align: left;\">14.86124058</td><td style = \"text-align: left;\">44.68949221</td><td style = \"text-align: left;\">10.97565362</td><td style = \"text-align: left;\">13.16168034</td><td style = \"text-align: left;\">6.927717933</td><td style = \"text-align: left;\">0</td><td style = \"text-align: left;\">0</td><td style = \"text-align: left;\">12.10309837</td><td style = \"text-align: left;\">0</td><td style = \"text-align: left;\">14.06325594</td><td style = \"text-align: left;\">14.23398122</td><td style = \"text-align: left;\">6.91985563</td><td style = \"text-align: left;\">8.038768426</td><td style = \"text-align: left;\">0</td><td style = \"text-align: left;\">44.75595046</td><td style = \"text-align: left;\">31.9501526</td><td style = \"text-align: left;\">57.53215516</td><td style = \"text-align: left;\">38.2939869</td><td style = \"text-align: left;\">95.1415906</td><td style = \"text-align: left;\">0</td><td style = \"text-align: left;\">4.24477895</td><td style = \"text-align: left;\">21.08378352</td><td style = \"text-align: left;\">78.52368786</td><td style = \"text-align: left;\">212.7656602</td><td style = \"text-align: left;\">14.78322598</td><td style = \"text-align: left;\">77.8490411</td><td style = \"text-align: left;\">39.61243763</td></tr></tbody></table></div>"
      ],
      "text/latex": [
       "\\begin{tabular}{r|cccccccc}\n",
       "\t& Metabolite & ID\\_8358 & ID\\_8363 & ID\\_8370 & ID\\_8371 & ID\\_8373 & ID\\_8376 & \\\\\n",
       "\t\\hline\n",
       "\t& String & String & String & String & String & String & String & \\\\\n",
       "\t\\hline\n",
       "\t1 & CE(18:1) & 1005.004533 & 656.2196475 & 442.532242 & 835.7863174 & 694.9938797 & 1113.26766 & $\\dots$ \\\\\n",
       "\t2 & CE(18:2) & 120.5422615 & 81.57473155 & 59.37249758 & 95.26536816 & 111.2627008 & 104.0151326 & $\\dots$ \\\\\n",
       "\t3 & CE(18:3) & 207.5760181 & 103.0388756 & 91.39644092 & 147.2090585 & 134.3577342 & 163.0631881 & $\\dots$ \\\\\n",
       "\t4 & CE(18:4) & 185.1900835 & 114.8704705 & 102.3479244 & 214.2161794 & 105.0702351 & 210.1147451 & $\\dots$ \\\\\n",
       "\t5 & CE(20:1) & 27.12701689 & 2.961702936 & 4.237597992 & 31.33287865 & 7.637112491 & 17.99623889 & $\\dots$ \\\\\n",
       "\\end{tabular}\n"
      ],
      "text/plain": [
       "\u001b[1m5×52 DataFrame\u001b[0m\n",
       "\u001b[1m Row \u001b[0m│\u001b[1m Metabolite \u001b[0m\u001b[1m ID_8358     \u001b[0m\u001b[1m ID_8363     \u001b[0m\u001b[1m ID_8370     \u001b[0m\u001b[1m ID_8371     \u001b[0m\u001b[1m ID_8373\u001b[0m ⋯\n",
       "     │\u001b[90m String     \u001b[0m\u001b[90m String      \u001b[0m\u001b[90m String      \u001b[0m\u001b[90m String      \u001b[0m\u001b[90m String      \u001b[0m\u001b[90m String \u001b[0m ⋯\n",
       "─────┼──────────────────────────────────────────────────────────────────────────\n",
       "   1 │ CE(18:1)    1005.004533  656.2196475  442.532242   835.7863174  694.993 ⋯\n",
       "   2 │ CE(18:2)    120.5422615  81.57473155  59.37249758  95.26536816  111.262\n",
       "   3 │ CE(18:3)    207.5760181  103.0388756  91.39644092  147.2090585  134.357\n",
       "   4 │ CE(18:4)    185.1900835  114.8704705  102.3479244  214.2161794  105.070\n",
       "   5 │ CE(20:1)    27.12701689  2.961702936  4.237597992  31.33287865  7.63711 ⋯\n",
       "\u001b[36m                                                              47 columns omitted\u001b[0m"
      ]
     },
     "execution_count": 153,
     "metadata": {},
     "output_type": "execute_result"
    }
   ],
   "source": [
    "first(dfMetabo, 5)"
   ]
  },
  {
   "cell_type": "markdown",
   "id": "ea6a5c1a",
   "metadata": {},
   "source": [
    "Replace `Metabolite` name information with `MetaboliteID` values:"
   ]
  },
  {
   "cell_type": "code",
   "execution_count": 154,
   "id": "15cba9b0",
   "metadata": {},
   "outputs": [],
   "source": [
    "dfMetaboAll = leftjoin(select(dfRefOriginal, [:Metabolite, :MetaboliteID]), dfMetabo, on = [:Metabolite]);\n",
    "select!(dfMetaboAll, Not([:Metabolite]));"
   ]
  },
  {
   "cell_type": "markdown",
   "id": "a64ed6df",
   "metadata": {},
   "source": [
    "Select the samples that only present in the filtered clinical dataset, `dfIndividuals`:   "
   ]
  },
  {
   "cell_type": "code",
   "execution_count": 155,
   "id": "01dd24dd",
   "metadata": {},
   "outputs": [
    {
     "data": {
      "text/plain": [
       "(590, 45)"
      ]
     },
     "execution_count": 155,
     "metadata": {},
     "output_type": "execute_result"
    }
   ],
   "source": [
    "select!(dfMetaboAll, vcat([:MetaboliteID], Symbol.(dfIndividuals.SampleID)));\n",
    "size(dfMetaboAll)"
   ]
  },
  {
   "cell_type": "markdown",
   "id": "5d22e3df",
   "metadata": {
    "tags": []
   },
   "source": [
    "#### Save metabolites levels dataset:"
   ]
  },
  {
   "cell_type": "code",
   "execution_count": 156,
   "id": "aaf4c99f",
   "metadata": {},
   "outputs": [],
   "source": [
    "fileMetabo = joinpath(@__DIR__,\"..\",\"..\",\"data\",\"processed\",\"Metabo.csv\");\n",
    "dfMetaboAll = permutedims(dfMetaboAll, 1, :SampleID);\n",
    "dfMetaboAll |> CSV.write(fileMetabo);"
   ]
  },
  {
   "cell_type": "markdown",
   "id": "78134770",
   "metadata": {
    "lines_to_next_cell": 2,
    "tags": []
   },
   "source": [
    "## References\n",
    "\n",
    "[1] Koelmel, J. P., Ulmer, C. Z., Fogelson, S., Jones, C. M., Botha, H., Bangma, J. T., Guillette, T. C., Luus-Powell, W. J., Sara, J. R., Smit, W. J., Albert, K., Miller, H. A., Guillette, M. P., Olsen, B. C., Cochran, J. A., Garrett, T. J., Yost, R. A., & Bowden, J. A. (2019). Lipidomics for wildlife disease etiology and biomarker discovery: a case study of pansteatitis outbreak in South Africa. Metabolomics : Official journal of the Metabolomic Society, 15(3), 38. https://doi.org/10.1007/s11306-019-1490-9    \n",
    "\n",
    "[2] Kato, S., Shimizu, N., Hanzawa, Y., Otoki, Y., Ito, J., Kimura, F., Takekoshi, S., Sakaino, M., Sano, T., Eitsuka, T., Miyazawa, T., & Nakagawa, K. (2018). Determination of triacylglycerol oxidation mechanisms in canola oil using liquid chromatography-tandem mass spectrometry. NPJ science of food, 2, 1. https://doi.org/10.1038/s41538-017-0009-x    \n",
    "\n",
    "[3] Koelmel, J. P., Ulmer, C. Z., Jones, C. M., Yost, R. A., & Bowden, J. A. (2017). Common cases of improper lipid annotation using high-resolution tandem mass spectrometry data and corresponding limitations in biological interpretation. Biochimica et biophysica acta. Molecular and cell biology of lipids, 1862(8), 766–770. https://doi.org/10.1016/j.bbalip.2017.02.016    \n",
    "\n",
    "[4] Riewe, D., Wiebach, J., & Altmann, T. (2017). Structure Annotation and Quantification of Wheat Seed Oxidized Lipids by High-Resolution LC-MS/MS. Plant physiology, 175(2), 600–618. https://doi.org/10.1104/pp.17.00470    \n",
    "\n",
    "[5] Koelmel, J. P., Jones, C. M., Ulmer, C. Z., Garrett, T. J., Yost, R. A., Schock, T. B., & Bowden, J. A. (2018). Examining heat treatment for stabilization of the lipidome. Bioanalysis, 10(5), 291–305. https://doi.org/10.4155/bio-2017-0209    \n",
    "\n"
   ]
  }
 ],
 "metadata": {
  "jupytext": {
   "encoding": "# -*- coding: utf-8 -*-",
   "formats": "ipynb,jl:light"
  },
  "kernelspec": {
   "display_name": "Julia 1.11.3",
   "language": "julia",
   "name": "julia-1.11"
  },
  "language_info": {
   "file_extension": ".jl",
   "mimetype": "application/julia",
   "name": "julia",
   "version": "1.11.3"
  }
 },
 "nbformat": 4,
 "nbformat_minor": 5
}
