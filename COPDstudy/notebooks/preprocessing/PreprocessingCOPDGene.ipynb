{
 "cells": [
  {
   "cell_type": "markdown",
   "id": "5fc944cf",
   "metadata": {},
   "source": [
    "# Preprocessing Step\n",
    "---"
   ]
  },
  {
   "cell_type": "markdown",
   "id": "832893df",
   "metadata": {},
   "source": [
    "This notebook carrieds out the preprocessing steps for the metabolomics data:    \n",
    "- Imputation\n",
    "- Normalization\n",
    "- Log2 Transformation"
   ]
  },
  {
   "cell_type": "markdown",
   "id": "835a8e70",
   "metadata": {},
   "source": [
    "## Input"
   ]
  },
  {
   "cell_type": "markdown",
   "id": "488c521f",
   "metadata": {},
   "source": [
    "### Libraries"
   ]
  },
  {
   "cell_type": "code",
   "execution_count": 1,
   "id": "2fae8aed",
   "metadata": {},
   "outputs": [],
   "source": [
    "# To use RCall for the first time, one needs to \n",
    "# the location of the R home directory.\n",
    "firstTimeRCall = false\n",
    "if firstTimeRCall \n",
    "    ENV[\"R_HOME\"] = \"C:/PROGRA~1/R/R-40~1.4\" # from R.home() in R\n",
    "    Pkg.build(\"RCall\")\n",
    "end     "
   ]
  },
  {
   "cell_type": "code",
   "execution_count": 2,
   "id": "f61ca6db-79a4-43fc-beec-56c16cc81dac",
   "metadata": {},
   "outputs": [],
   "source": [
    "using CSV, DataFrames, Missings\n",
    "using RCall"
   ]
  },
  {
   "cell_type": "code",
   "execution_count": 3,
   "id": "9268236c-9f30-4c19-8e5f-4ca8483dfce1",
   "metadata": {},
   "outputs": [],
   "source": [
    "# using CSV, DataFrames, Missings, CategoricalArrays\n",
    "# using StatsBase, Statistics, MultivariateStats#, RCall\n",
    "# using FreqTables, Plots, StatsPlots"
   ]
  },
  {
   "cell_type": "markdown",
   "id": "3f9bbd93",
   "metadata": {},
   "source": [
    "### Ext. Functions"
   ]
  },
  {
   "cell_type": "code",
   "execution_count": 4,
   "id": "134fcd8d",
   "metadata": {},
   "outputs": [],
   "source": [
    "include(joinpath(@__DIR__,\"..\",\"..\",\"src\",\"preprocessing.jl\" ));\n",
    "include(joinpath(@__DIR__,\"..\",\"..\",\"src\",\"wrangle_utils.jl\" ));"
   ]
  },
  {
   "cell_type": "markdown",
   "id": "73a0cc31",
   "metadata": {},
   "source": [
    "### Load data"
   ]
  },
  {
   "cell_type": "code",
   "execution_count": 5,
   "id": "d433498a-f918-4c05-a86e-f4497118fd9f",
   "metadata": {},
   "outputs": [],
   "source": [
    "# Get reference metabolite file\n",
    "fileRef = joinpath(@__DIR__,\"..\",\"..\",\"data\",\"processed\",\"COPDGene\",\"refMeta.csv\");\n",
    "dfRef = CSV.read(fileRef, DataFrame);"
   ]
  },
  {
   "cell_type": "code",
   "execution_count": 6,
   "id": "58bd11e8-da37-4a6a-82b3-6fedd0a06814",
   "metadata": {},
   "outputs": [
    {
     "name": "stdout",
     "output_type": "stream",
     "text": [
      "The negative metabolite dataset contains 784 samples and 739 metabolites.\n"
     ]
    }
   ],
   "source": [
    "# Get negative metabolite file\n",
    "dfNegMetabo = readCOPDdata(realpath(joinpath(@__DIR__,\"..\",\"..\",\"data\",\"processed\",\"COPDGene\",\"negMeta.csv\"))) \n",
    "println(\"The negative metabolite dataset contains $(size(dfNegMetabo, 1)) samples and $(size(dfNegMetabo, 2)-1) metabolites.\")"
   ]
  },
  {
   "cell_type": "code",
   "execution_count": 7,
   "id": "c7d6fd5d-f1f3-4f28-a239-055f2bf4db42",
   "metadata": {},
   "outputs": [
    {
     "name": "stdout",
     "output_type": "stream",
     "text": [
      "The polar metabolite dataset contains 784 samples and 83 metabolites.\n"
     ]
    }
   ],
   "source": [
    "# Get polar metabolite file\n",
    "dfPolarMetabo = readCOPDdata(joinpath(@__DIR__,\"..\",\"..\",\"data\",\"processed\",\"COPDGene\",\"polarMeta.csv\"));\n",
    "println(\"The polar metabolite dataset contains $(size(dfPolarMetabo, 1)) samples and $(size(dfPolarMetabo, 2)-1) metabolites.\")"
   ]
  },
  {
   "cell_type": "code",
   "execution_count": 8,
   "id": "e2211614-d837-40cc-8fa9-57bca39f6616",
   "metadata": {},
   "outputs": [
    {
     "name": "stdout",
     "output_type": "stream",
     "text": [
      "The positive early metabolite dataset contains 784 samples and 319 metabolites.\n"
     ]
    }
   ],
   "source": [
    "# Get positive early metabolite file\n",
    "dfPosEarlyMetabo = readCOPDdata(joinpath(@__DIR__,\"..\",\"..\",\"data\",\"processed\",\"COPDGene\",\"posEarlyMeta.csv\"));\n",
    "println(\"The positive early metabolite dataset contains $(size(dfPosEarlyMetabo, 1)) samples and $(size(dfPosEarlyMetabo, 2)-1) metabolites.\")"
   ]
  },
  {
   "cell_type": "code",
   "execution_count": 9,
   "id": "bc4d7c2e-3850-4fa8-ba62-1f4374b3f3e0",
   "metadata": {},
   "outputs": [
    {
     "name": "stdout",
     "output_type": "stream",
     "text": [
      "The positive late metabolite dataset contains 784 samples and 251 metabolites.\n"
     ]
    }
   ],
   "source": [
    "# Get positive late metabolite file\n",
    "dfPosLateMetabo = readCOPDdata(joinpath(@__DIR__,\"..\",\"..\",\"data\",\"processed\",\"COPDGene\",\"posLateMeta.csv\"));\n",
    "println(\"The positive late metabolite dataset contains $(size(dfPosLateMetabo, 1)) samples and $(size(dfPosLateMetabo, 2)-1) metabolites.\")"
   ]
  },
  {
   "cell_type": "markdown",
   "id": "72e9cfb7-096f-4ace-b957-295bd7c5b660",
   "metadata": {},
   "source": [
    "### Join dataframes"
   ]
  },
  {
   "cell_type": "markdown",
   "id": "88d296f5-0666-482f-ac8c-661336766071",
   "metadata": {},
   "source": [
    "The dataframe `dfPolarMetabo` contains Integer type instead of Float type, which produces an error during the imputation. We need to convert the values to Integer type."
   ]
  },
  {
   "cell_type": "code",
   "execution_count": 10,
   "id": "6a49c520-7c77-40ab-9fd2-691070faa129",
   "metadata": {
    "tags": []
   },
   "outputs": [
    {
     "data": {
      "text/plain": [
       "Vector{Union{Missing, Int64}}\u001b[90m (alias for \u001b[39m\u001b[90mArray{Union{Missing, Int64}, 1}\u001b[39m\u001b[90m)\u001b[39m"
      ]
     },
     "execution_count": 10,
     "metadata": {},
     "output_type": "execute_result"
    }
   ],
   "source": [
    "typeof(dfPolarMetabo[:, 2])"
   ]
  },
  {
   "cell_type": "code",
   "execution_count": 11,
   "id": "3072b56a-66ec-4b21-826c-a544b063690e",
   "metadata": {},
   "outputs": [
    {
     "data": {
      "text/plain": [
       "Vector{Union{Missing, Float64}}\u001b[90m (alias for \u001b[39m\u001b[90mArray{Union{Missing, Float64}, 1}\u001b[39m\u001b[90m)\u001b[39m"
      ]
     },
     "execution_count": 11,
     "metadata": {},
     "output_type": "execute_result"
    }
   ],
   "source": [
    "dfPolarMetabo[!,2:end] .= convert.(Union{Missing, Float64}, dfPolarMetabo[:, 2:end]);\n",
    "typeof(dfPolarMetabo[:, 2])"
   ]
  },
  {
   "cell_type": "code",
   "execution_count": 12,
   "id": "a0ad88ac-aece-4a72-85e5-e0282b2fcb2a",
   "metadata": {},
   "outputs": [
    {
     "data": {
      "text/plain": [
       "(784, 1393)"
      ]
     },
     "execution_count": 12,
     "metadata": {},
     "output_type": "execute_result"
    }
   ],
   "source": [
    "df = leftjoin(dfNegMetabo, dfPolarMetabo, on = :SampleID)\n",
    "leftjoin!(df, dfPosEarlyMetabo, on = :SampleID)\n",
    "leftjoin!(df, dfPosLateMetabo, on = :SampleID)\n",
    "size(df)"
   ]
  },
  {
   "cell_type": "markdown",
   "id": "1f4dd0bb-da79-4328-ab21-647f2e3638cf",
   "metadata": {},
   "source": [
    "## Imputation"
   ]
  },
  {
   "cell_type": "code",
   "execution_count": 13,
   "id": "b3d39c0a-0e65-4aa4-949a-e187d4cf4986",
   "metadata": {},
   "outputs": [
    {
     "name": "stdout",
     "output_type": "stream",
     "text": [
      "The metabolite cotinine contains 28.7% missing samples.\n",
      "We dropped 393 metabolites due to a missingness greater than 20%.\n",
      "We preserved 999 metabolites.\n"
     ]
    }
   ],
   "source": [
    "df = imputeCOPD(df, dfRef);"
   ]
  },
  {
   "cell_type": "markdown",
   "id": "8f0b21e6-4a9e-4ec3-bb1e-568e56978da0",
   "metadata": {},
   "source": [
    "## Normalization\n",
    "----"
   ]
  },
  {
   "cell_type": "markdown",
   "id": "01952909-8f5c-4780-9983-0e391e4a746b",
   "metadata": {},
   "source": [
    "### Probabilistic Quotient Normalization\n",
    "\n",
    "> 1. Perform an integral normalization (typically a constant\n",
    "integral of 100 is used).\n",
    "> 2. Choose/calculate the reference spectrum (the best approach\n",
    "is the calculation of the median spectrum of control samples).\n",
    "> 3. Calculate the quotients of all variables of interest of the test\n",
    "spectrum with those of the reference spectrum.\n",
    "> 4. Calculate the median of these quotients.\n",
    "> 5. Divide all variables of the test spectrum by this median.\n"
   ]
  },
  {
   "cell_type": "code",
   "execution_count": 14,
   "id": "d96159d5-c8eb-416e-a07f-bf49d22636d3",
   "metadata": {},
   "outputs": [],
   "source": [
    "df[!,2:end] .= convert.(Union{Missing, Float64}, df[:, 2:end]);\n",
    "df = pqnorm(df, startCol = 2);"
   ]
  },
  {
   "cell_type": "markdown",
   "id": "3a6fda63-d784-4417-8cb8-9e1bf4a7cc04",
   "metadata": {},
   "source": [
    "## Transformation\n",
    "---\n",
    "\n",
    "A simple and widely used transformation to make data more symmetric and homoscedastic is the log-transformation."
   ]
  },
  {
   "cell_type": "code",
   "execution_count": 15,
   "id": "f1bf51ca-229b-4e9b-8893-5e98b5ad3999",
   "metadata": {},
   "outputs": [],
   "source": [
    "df = log2tx(df, startCol = 2);"
   ]
  },
  {
   "cell_type": "code",
   "execution_count": 16,
   "id": "749dfcdb-c674-4618-b367-7f20a33d1088",
   "metadata": {},
   "outputs": [
    {
     "data": {
      "text/html": [
       "<div><div style = \"float: left;\"><span>DataFrameRow (1000 columns)</span></div><div style = \"float: right;\"><span style = \"font-style: italic;\">900 columns omitted</span></div><div style = \"clear: both;\"></div></div><div class = \"data-frame\" style = \"overflow-x: scroll;\"><table class = \"data-frame\" style = \"margin-bottom: 6px;\"><thead><tr class = \"header\"><th class = \"rowLabel\" style = \"font-weight: bold; text-align: right;\">Row</th><th style = \"text-align: left;\">SampleID</th><th style = \"text-align: left;\">comp553</th><th style = \"text-align: left;\">comp38768</th><th style = \"text-align: left;\">comp38296</th><th style = \"text-align: left;\">comp62533</th><th style = \"text-align: left;\">comp48762</th><th style = \"text-align: left;\">comp34404</th><th style = \"text-align: left;\">comp32391</th><th style = \"text-align: left;\">comp20675</th><th style = \"text-align: left;\">comp34400</th><th style = \"text-align: left;\">comp33971</th><th style = \"text-align: left;\">comp33972</th><th style = \"text-align: left;\">comp32497</th><th style = \"text-align: left;\">comp38395</th><th style = \"text-align: left;\">comp37752</th><th style = \"text-align: left;\">comp38168</th><th style = \"text-align: left;\">comp39609</th><th style = \"text-align: left;\">comp34214</th><th style = \"text-align: left;\">comp34397</th><th style = \"text-align: left;\">comp62558</th><th style = \"text-align: left;\">comp62559</th><th style = \"text-align: left;\">comp62566</th><th style = \"text-align: left;\">comp62564</th><th style = \"text-align: left;\">comp62562</th><th style = \"text-align: left;\">comp57783</th><th style = \"text-align: left;\">comp27447</th><th style = \"text-align: left;\">comp54885</th><th style = \"text-align: left;\">comp36594</th><th style = \"text-align: left;\">comp30460</th><th style = \"text-align: left;\">comp34389</th><th style = \"text-align: left;\">comp21184</th><th style = \"text-align: left;\">comp45968</th><th style = \"text-align: left;\">comp36602</th><th style = \"text-align: left;\">comp45970</th><th style = \"text-align: left;\">comp35305</th><th style = \"text-align: left;\">comp34437</th><th style = \"text-align: left;\">comp19324</th><th style = \"text-align: left;\">comp57547</th><th style = \"text-align: left;\">comp62805</th><th style = \"text-align: left;\">comp46115</th><th style = \"text-align: left;\">comp43266</th><th style = \"text-align: left;\">comp52602</th><th style = \"text-align: left;\">comp36746</th><th style = \"text-align: left;\">comp61700</th><th style = \"text-align: left;\">comp57663</th><th style = \"text-align: left;\">comp42489</th><th style = \"text-align: left;\">comp18281</th><th style = \"text-align: left;\">comp52916</th><th style = \"text-align: left;\">comp61698</th><th style = \"text-align: left;\">comp22036</th><th style = \"text-align: left;\">comp35675</th><th style = \"text-align: left;\">comp17945</th><th style = \"text-align: left;\">comp48445</th><th style = \"text-align: left;\">comp62520</th><th style = \"text-align: left;\">comp57655</th><th style = \"text-align: left;\">comp35253</th><th style = \"text-align: left;\">comp41220</th><th style = \"text-align: left;\">comp35635</th><th style = \"text-align: left;\">comp32197</th><th style = \"text-align: left;\">comp53026</th><th style = \"text-align: left;\">comp34399</th><th style = \"text-align: left;\">comp48693</th><th style = \"text-align: left;\">comp54805</th><th style = \"text-align: left;\">comp43507</th><th style = \"text-align: left;\">comp61871</th><th style = \"text-align: left;\">comp31787</th><th style = \"text-align: left;\">comp62796</th><th style = \"text-align: left;\">comp62863</th><th style = \"text-align: left;\">comp32397</th><th style = \"text-align: left;\">comp22053</th><th style = \"text-align: left;\">comp53230</th><th style = \"text-align: left;\">comp39600</th><th style = \"text-align: left;\">comp32457</th><th style = \"text-align: left;\">comp21158</th><th style = \"text-align: left;\">comp22001</th><th style = \"text-align: left;\">comp61843</th><th style = \"text-align: left;\">comp48448</th><th style = \"text-align: left;\">comp31943</th><th style = \"text-align: left;\">comp52938</th><th style = \"text-align: left;\">comp27672</th><th style = \"text-align: left;\">comp48763</th><th style = \"text-align: left;\">comp48752</th><th style = \"text-align: left;\">comp46165</th><th style = \"text-align: left;\">comp46164</th><th style = \"text-align: left;\">comp44526</th><th style = \"text-align: left;\">comp15676</th><th style = \"text-align: left;\">comp32445</th><th style = \"text-align: left;\">comp15749</th><th style = \"text-align: left;\">comp1558</th><th style = \"text-align: left;\">comp44620</th><th style = \"text-align: left;\">comp37181</th><th style = \"text-align: left;\">comp36099</th><th style = \"text-align: left;\">comp48441</th><th style = \"text-align: left;\">comp37445</th><th style = \"text-align: left;\">comp35527</th><th style = \"text-align: left;\">comp541</th><th style = \"text-align: left;\">comp1669</th><th style = \"text-align: left;\">comp48457</th><th style = \"text-align: left;\">comp22116</th><th style = \"text-align: left;\">comp43592</th><th style = \"text-align: right;\">&ctdot;</th></tr><tr class = \"subheader headerLastRow\"><th class = \"rowLabel\" style = \"font-weight: bold; text-align: right;\"></th><th title = \"String\" style = \"text-align: left;\">String</th><th title = \"Float64\" style = \"text-align: left;\">Float64</th><th title = \"Float64\" style = \"text-align: left;\">Float64</th><th title = \"Float64\" style = \"text-align: left;\">Float64</th><th title = \"Float64\" style = \"text-align: left;\">Float64</th><th title = \"Float64\" style = \"text-align: left;\">Float64</th><th title = \"Float64\" style = \"text-align: left;\">Float64</th><th title = \"Float64\" style = \"text-align: left;\">Float64</th><th title = \"Float64\" style = \"text-align: left;\">Float64</th><th title = \"Float64\" style = \"text-align: left;\">Float64</th><th title = \"Float64\" style = \"text-align: left;\">Float64</th><th title = \"Float64\" style = \"text-align: left;\">Float64</th><th title = \"Float64\" style = \"text-align: left;\">Float64</th><th title = \"Float64\" style = \"text-align: left;\">Float64</th><th title = \"Float64\" style = \"text-align: left;\">Float64</th><th title = \"Float64\" style = \"text-align: left;\">Float64</th><th title = \"Float64\" style = \"text-align: left;\">Float64</th><th title = \"Float64\" style = \"text-align: left;\">Float64</th><th title = \"Float64\" style = \"text-align: left;\">Float64</th><th title = \"Float64\" style = \"text-align: left;\">Float64</th><th title = \"Float64\" style = \"text-align: left;\">Float64</th><th title = \"Float64\" style = \"text-align: left;\">Float64</th><th title = \"Float64\" style = \"text-align: left;\">Float64</th><th title = \"Float64\" style = \"text-align: left;\">Float64</th><th title = \"Float64\" style = \"text-align: left;\">Float64</th><th title = \"Float64\" style = \"text-align: left;\">Float64</th><th title = \"Float64\" style = \"text-align: left;\">Float64</th><th title = \"Float64\" style = \"text-align: left;\">Float64</th><th title = \"Float64\" style = \"text-align: left;\">Float64</th><th title = \"Float64\" style = \"text-align: left;\">Float64</th><th title = \"Float64\" style = \"text-align: left;\">Float64</th><th title = \"Float64\" style = \"text-align: left;\">Float64</th><th title = \"Float64\" style = \"text-align: left;\">Float64</th><th title = \"Float64\" style = \"text-align: left;\">Float64</th><th title = \"Float64\" style = \"text-align: left;\">Float64</th><th title = \"Float64\" style = \"text-align: left;\">Float64</th><th title = \"Float64\" style = \"text-align: left;\">Float64</th><th title = \"Float64\" style = \"text-align: left;\">Float64</th><th title = \"Float64\" style = \"text-align: left;\">Float64</th><th title = \"Float64\" style = \"text-align: left;\">Float64</th><th title = \"Float64\" style = \"text-align: left;\">Float64</th><th title = \"Float64\" style = \"text-align: left;\">Float64</th><th title = \"Float64\" style = \"text-align: left;\">Float64</th><th title = \"Float64\" style = \"text-align: left;\">Float64</th><th title = \"Float64\" style = \"text-align: left;\">Float64</th><th title = \"Float64\" style = \"text-align: left;\">Float64</th><th title = \"Float64\" style = \"text-align: left;\">Float64</th><th title = \"Float64\" style = \"text-align: left;\">Float64</th><th title = \"Float64\" style = \"text-align: left;\">Float64</th><th title = \"Float64\" style = \"text-align: left;\">Float64</th><th title = \"Float64\" style = \"text-align: left;\">Float64</th><th title = \"Float64\" style = \"text-align: left;\">Float64</th><th title = \"Float64\" style = \"text-align: left;\">Float64</th><th title = \"Float64\" style = \"text-align: left;\">Float64</th><th title = \"Float64\" style = \"text-align: left;\">Float64</th><th title = \"Float64\" style = \"text-align: left;\">Float64</th><th title = \"Float64\" style = \"text-align: left;\">Float64</th><th title = \"Float64\" style = \"text-align: left;\">Float64</th><th title = \"Float64\" style = \"text-align: left;\">Float64</th><th title = \"Float64\" style = \"text-align: left;\">Float64</th><th title = \"Float64\" style = \"text-align: left;\">Float64</th><th title = \"Float64\" style = \"text-align: left;\">Float64</th><th title = \"Float64\" style = \"text-align: left;\">Float64</th><th title = \"Float64\" style = \"text-align: left;\">Float64</th><th title = \"Float64\" style = \"text-align: left;\">Float64</th><th title = \"Float64\" style = \"text-align: left;\">Float64</th><th title = \"Float64\" style = \"text-align: left;\">Float64</th><th title = \"Float64\" style = \"text-align: left;\">Float64</th><th title = \"Float64\" style = \"text-align: left;\">Float64</th><th title = \"Float64\" style = \"text-align: left;\">Float64</th><th title = \"Float64\" style = \"text-align: left;\">Float64</th><th title = \"Float64\" style = \"text-align: left;\">Float64</th><th title = \"Float64\" style = \"text-align: left;\">Float64</th><th title = \"Float64\" style = \"text-align: left;\">Float64</th><th title = \"Float64\" style = \"text-align: left;\">Float64</th><th title = \"Float64\" style = \"text-align: left;\">Float64</th><th title = \"Float64\" style = \"text-align: left;\">Float64</th><th title = \"Float64\" style = \"text-align: left;\">Float64</th><th title = \"Float64\" style = \"text-align: left;\">Float64</th><th title = \"Float64\" style = \"text-align: left;\">Float64</th><th title = \"Float64\" style = \"text-align: left;\">Float64</th><th title = \"Float64\" style = \"text-align: left;\">Float64</th><th title = \"Float64\" style = \"text-align: left;\">Float64</th><th title = \"Float64\" style = \"text-align: left;\">Float64</th><th title = \"Float64\" style = \"text-align: left;\">Float64</th><th title = \"Float64\" style = \"text-align: left;\">Float64</th><th title = \"Float64\" style = \"text-align: left;\">Float64</th><th title = \"Float64\" style = \"text-align: left;\">Float64</th><th title = \"Float64\" style = \"text-align: left;\">Float64</th><th title = \"Float64\" style = \"text-align: left;\">Float64</th><th title = \"Float64\" style = \"text-align: left;\">Float64</th><th title = \"Float64\" style = \"text-align: left;\">Float64</th><th title = \"Float64\" style = \"text-align: left;\">Float64</th><th title = \"Float64\" style = \"text-align: left;\">Float64</th><th title = \"Float64\" style = \"text-align: left;\">Float64</th><th title = \"Float64\" style = \"text-align: left;\">Float64</th><th title = \"Float64\" style = \"text-align: left;\">Float64</th><th title = \"Float64\" style = \"text-align: left;\">Float64</th><th title = \"Float64\" style = \"text-align: left;\">Float64</th><th title = \"Float64\" style = \"text-align: left;\">Float64</th><th title = \"Float64\" style = \"text-align: right;\">&ctdot;</th></tr></thead><tbody><tr><td class = \"rowLabel\" style = \"font-weight: bold; text-align: right;\">1</td><td style = \"text-align: left;\">NJHC-00611</td><td style = \"text-align: right;\">0.0</td><td style = \"text-align: right;\">0.175727</td><td style = \"text-align: right;\">0.00981606</td><td style = \"text-align: right;\">0.00216631</td><td style = \"text-align: right;\">0.000143143</td><td style = \"text-align: right;\">0.000757537</td><td style = \"text-align: right;\">0.000366451</td><td style = \"text-align: right;\">0.206559</td><td style = \"text-align: right;\">0.00610898</td><td style = \"text-align: right;\">0.279433</td><td style = \"text-align: right;\">0.0701939</td><td style = \"text-align: right;\">0.0261717</td><td style = \"text-align: right;\">0.000660977</td><td style = \"text-align: right;\">0.00868807</td><td style = \"text-align: right;\">0.00315498</td><td style = \"text-align: right;\">0.00875556</td><td style = \"text-align: right;\">0.0117311</td><td style = \"text-align: right;\">0.000250954</td><td style = \"text-align: right;\">0.000376762</td><td style = \"text-align: right;\">0.000312595</td><td style = \"text-align: right;\">0.00211941</td><td style = \"text-align: right;\">0.000631249</td><td style = \"text-align: right;\">0.00138704</td><td style = \"text-align: right;\">0.00180572</td><td style = \"text-align: right;\">0.00183406</td><td style = \"text-align: right;\">0.000732361</td><td style = \"text-align: right;\">0.00382076</td><td style = \"text-align: right;\">0.00248375</td><td style = \"text-align: right;\">0.00373848</td><td style = \"text-align: right;\">0.0147009</td><td style = \"text-align: right;\">0.00151826</td><td style = \"text-align: right;\">0.00337741</td><td style = \"text-align: right;\">0.000791023</td><td style = \"text-align: right;\">0.00134178</td><td style = \"text-align: right;\">0.000560886</td><td style = \"text-align: right;\">0.0112193</td><td style = \"text-align: right;\">0.00126629</td><td style = \"text-align: right;\">0.00972796</td><td style = \"text-align: right;\">0.00165068</td><td style = \"text-align: right;\">0.00078933</td><td style = \"text-align: right;\">0.000691694</td><td style = \"text-align: right;\">0.00190041</td><td style = \"text-align: right;\">0.000634838</td><td style = \"text-align: right;\">0.000967366</td><td style = \"text-align: right;\">0.00919252</td><td style = \"text-align: right;\">0.238593</td><td style = \"text-align: right;\">0.000839806</td><td style = \"text-align: right;\">0.00240433</td><td style = \"text-align: right;\">0.00187065</td><td style = \"text-align: right;\">0.0755403</td><td style = \"text-align: right;\">0.021469</td><td style = \"text-align: right;\">0.000412431</td><td style = \"text-align: right;\">0.000209064</td><td style = \"text-align: right;\">0.000779322</td><td style = \"text-align: right;\">0.0474</td><td style = \"text-align: right;\">0.00279417</td><td style = \"text-align: right;\">0.00288782</td><td style = \"text-align: right;\">0.0594119</td><td style = \"text-align: right;\">0.0014656</td><td style = \"text-align: right;\">0.000850798</td><td style = \"text-align: right;\">0.000114371</td><td style = \"text-align: right;\">0.00996112</td><td style = \"text-align: right;\">0.000207818</td><td style = \"text-align: right;\">0.102752</td><td style = \"text-align: right;\">0.562724</td><td style = \"text-align: right;\">0.000346287</td><td style = \"text-align: right;\">0.00246062</td><td style = \"text-align: right;\">0.010895</td><td style = \"text-align: right;\">0.00740511</td><td style = \"text-align: right;\">0.00434027</td><td style = \"text-align: right;\">0.00022776</td><td style = \"text-align: right;\">0.0073275</td><td style = \"text-align: right;\">0.00648744</td><td style = \"text-align: right;\">0.00463509</td><td style = \"text-align: right;\">0.0241953</td><td style = \"text-align: right;\">0.000732125</td><td style = \"text-align: right;\">0.000770882</td><td style = \"text-align: right;\">0.00366298</td><td style = \"text-align: right;\">0.0555253</td><td style = \"text-align: right;\">0.000768289</td><td style = \"text-align: right;\">0.000195272</td><td style = \"text-align: right;\">0.000848938</td><td style = \"text-align: right;\">0.000223549</td><td style = \"text-align: right;\">0.0651193</td><td style = \"text-align: right;\">0.10632</td><td style = \"text-align: right;\">0.0198293</td><td style = \"text-align: right;\">0.00261911</td><td style = \"text-align: right;\">0.00219569</td><td style = \"text-align: right;\">0.000158985</td><td style = \"text-align: right;\">0.0155482</td><td style = \"text-align: right;\">0.00198651</td><td style = \"text-align: right;\">0.0186191</td><td style = \"text-align: right;\">0.000162417</td><td style = \"text-align: right;\">0.00500991</td><td style = \"text-align: right;\">0.00175287</td><td style = \"text-align: right;\">0.00211678</td><td style = \"text-align: right;\">0.000702884</td><td style = \"text-align: right;\">0.14612</td><td style = \"text-align: right;\">0.000515757</td><td style = \"text-align: right;\">&ctdot;</td></tr></tbody></table></div>"
      ],
      "text/latex": [
       "\\begin{tabular}{r|cccccccc}\n",
       "\t& SampleID & comp553 & comp38768 & comp38296 & comp62533 & comp48762 & comp34404 & \\\\\n",
       "\t\\hline\n",
       "\t& String & Float64 & Float64 & Float64 & Float64 & Float64 & Float64 & \\\\\n",
       "\t\\hline\n",
       "\t1 & NJHC-00611 & 0.0 & 0.175727 & 0.00981606 & 0.00216631 & 0.000143143 & 0.000757537 & $\\dots$ \\\\\n",
       "\\end{tabular}\n"
      ],
      "text/plain": [
       "\u001b[1mDataFrameRow\u001b[0m\n",
       "\u001b[1m Row \u001b[0m│\u001b[1m SampleID   \u001b[0m\u001b[1m comp553 \u001b[0m\u001b[1m comp38768 \u001b[0m\u001b[1m comp38296  \u001b[0m\u001b[1m comp62533  \u001b[0m\u001b[1m comp48762   \u001b[0m\u001b[1m co\u001b[0m ⋯\n",
       "     │\u001b[90m String     \u001b[0m\u001b[90m Float64 \u001b[0m\u001b[90m Float64   \u001b[0m\u001b[90m Float64    \u001b[0m\u001b[90m Float64    \u001b[0m\u001b[90m Float64     \u001b[0m\u001b[90m Fl\u001b[0m ⋯\n",
       "─────┼──────────────────────────────────────────────────────────────────────────\n",
       "   1 │ NJHC-00611      0.0   0.175727  0.00981606  0.00216631  0.000143143  0. ⋯\n",
       "\u001b[36m                                                             994 columns omitted\u001b[0m"
      ]
     },
     "execution_count": 16,
     "metadata": {},
     "output_type": "execute_result"
    }
   ],
   "source": [
    "first(df)"
   ]
  },
  {
   "cell_type": "markdown",
   "id": "9665eb9e-c010-4dd4-be3e-004cf3fd5301",
   "metadata": {
    "kernel": "SoS"
   },
   "source": [
    "## Save pretreatments"
   ]
  },
  {
   "cell_type": "code",
   "execution_count": 17,
   "id": "6a978d91-f599-41b4-96ac-831dabfa6fa2",
   "metadata": {
    "kernel": "Julia 1.5.3"
   },
   "outputs": [
    {
     "data": {
      "text/plain": [
       "\"C:\\\\git\\\\gregfa\\\\Metabolomic\\\\COPDstudy\\\\notebooks\\\\preprocessing\\\\..\\\\..\\\\data\\\\processed\\\\COPDGene\\\\inl2_Meta.csv\""
      ]
     },
     "execution_count": 17,
     "metadata": {},
     "output_type": "execute_result"
    }
   ],
   "source": [
    "fileMeta = joinpath(@__DIR__,\"..\",\"..\",\"data\",\"processed\",\"COPDGene\",\"inl2_Meta.csv\");\n",
    "df |> CSV.write(fileMeta)"
   ]
  },
  {
   "cell_type": "code",
   "execution_count": 18,
   "id": "857fd4e2-92ba-4c37-a4b9-8f24d2693620",
   "metadata": {},
   "outputs": [
    {
     "name": "stdout",
     "output_type": "stream",
     "text": [
      "Julia Version 1.8.2\n",
      "Commit 36034abf26 (2022-09-29 15:21 UTC)\n",
      "Platform Info:\n",
      "  OS: Windows (x86_64-w64-mingw32)\n",
      "  CPU: 4 × Intel(R) Core(TM) i5-6500 CPU @ 3.20GHz\n",
      "  WORD_SIZE: 64\n",
      "  LIBM: libopenlibm\n",
      "  LLVM: libLLVM-13.0.1 (ORCJIT, skylake)\n",
      "  Threads: 1 on 4 virtual cores\n"
     ]
    }
   ],
   "source": [
    "versioninfo()"
   ]
  },
  {
   "cell_type": "code",
   "execution_count": 19,
   "id": "9e88a580-76ed-4884-8668-7b2b2821a88e",
   "metadata": {},
   "outputs": [
    {
     "data": {
      "text/plain": [
       "RObject{VecSxp}\n",
       "R version 4.2.1 (2022-06-23 ucrt)\n",
       "Platform: x86_64-w64-mingw32/x64 (64-bit)\n",
       "Running under: Windows 10 x64 (build 19044)\n",
       "\n",
       "Matrix products: default\n",
       "\n",
       "locale:\n",
       "[1] LC_COLLATE=English_United States.1252 \n",
       "[2] LC_CTYPE=English_United States.1252   \n",
       "[3] LC_MONETARY=English_United States.1252\n",
       "[4] LC_NUMERIC=C                          \n",
       "[5] LC_TIME=English_United States.1252    \n",
       "\n",
       "attached base packages:\n",
       "[1] stats     graphics  grDevices utils     datasets  methods   base     \n",
       "\n",
       "other attached packages:\n",
       "[1] impute_1.70.0\n",
       "\n",
       "loaded via a namespace (and not attached):\n",
       "[1] compiler_4.2.1\n"
      ]
     },
     "execution_count": 19,
     "metadata": {},
     "output_type": "execute_result"
    }
   ],
   "source": [
    "R\"\"\"\n",
    "sessionInfo()\n",
    "\"\"\""
   ]
  },
  {
   "cell_type": "code",
   "execution_count": null,
   "id": "d90a27c1-ea12-4576-8b46-9d6bb8906724",
   "metadata": {},
   "outputs": [],
   "source": []
  }
 ],
 "metadata": {
  "jupytext": {
   "formats": "ipynb,jl:light"
  },
  "kernelspec": {
   "display_name": "Julia 1.11.1",
   "language": "julia",
   "name": "julia-1.11"
  },
  "language_info": {
   "file_extension": ".jl",
   "mimetype": "application/julia",
   "name": "julia",
   "version": "1.11.1"
  }
 },
 "nbformat": 4,
 "nbformat_minor": 5
}
