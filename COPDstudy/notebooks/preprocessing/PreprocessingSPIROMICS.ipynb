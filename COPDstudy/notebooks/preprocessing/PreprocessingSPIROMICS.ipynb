{
 "cells": [
  {
   "cell_type": "markdown",
   "id": "5fc944cf",
   "metadata": {},
   "source": [
    "# Preprocessing Step\n",
    "---"
   ]
  },
  {
   "cell_type": "markdown",
   "id": "832893df",
   "metadata": {},
   "source": [
    "This notebook carrieds out the preprocessing steps for the metabolomics data:    \n",
    "- Imputation\n",
    "- Normalization\n",
    "- Log2 Transformation"
   ]
  },
  {
   "cell_type": "markdown",
   "id": "835a8e70",
   "metadata": {},
   "source": [
    "## Input"
   ]
  },
  {
   "cell_type": "markdown",
   "id": "488c521f",
   "metadata": {},
   "source": [
    "### Libraries"
   ]
  },
  {
   "cell_type": "code",
   "execution_count": 1,
   "id": "2fae8aed",
   "metadata": {},
   "outputs": [],
   "source": [
    "# To use RCall for the first time, one needs to \n",
    "# the location of the R home directory.\n",
    "firstTimeRCall = false\n",
    "if firstTimeRCall \n",
    "    using Pkg\n",
    "    ENV[\"R_HOME\"] = \"C:/PROGRA~1/R/R-42~1.1\" # from R.home() in R\n",
    "    Pkg.build(\"RCall\")\n",
    "end     "
   ]
  },
  {
   "cell_type": "code",
   "execution_count": 2,
   "id": "f61ca6db-79a4-43fc-beec-56c16cc81dac",
   "metadata": {},
   "outputs": [],
   "source": [
    "using CSV, DataFrames\n",
    "using RCall"
   ]
  },
  {
   "cell_type": "code",
   "execution_count": 3,
   "id": "9268236c-9f30-4c19-8e5f-4ca8483dfce1",
   "metadata": {},
   "outputs": [],
   "source": [
    "using CSV, DataFrames, Missings #, CategoricalArrays\n",
    "using StatsBase, Statistics #, MultivariateStats#, RCall\n",
    "using FreqTables #, Plots, StatsPlots"
   ]
  },
  {
   "cell_type": "markdown",
   "id": "3f9bbd93",
   "metadata": {},
   "source": [
    "### Ext. Functions"
   ]
  },
  {
   "cell_type": "code",
   "execution_count": 4,
   "id": "134fcd8d",
   "metadata": {},
   "outputs": [],
   "source": [
    "include(joinpath(@__DIR__,\"..\",\"..\",\"src\",\"preprocessing.jl\" ));\n",
    "include(joinpath(@__DIR__,\"..\",\"..\",\"src\",\"wrangle_utils.jl\" ));"
   ]
  },
  {
   "cell_type": "markdown",
   "id": "73a0cc31",
   "metadata": {},
   "source": [
    "### Load data"
   ]
  },
  {
   "cell_type": "code",
   "execution_count": 5,
   "id": "d433498a-f918-4c05-a86e-f4497118fd9f",
   "metadata": {},
   "outputs": [
    {
     "name": "stdout",
     "output_type": "stream",
     "text": [
      "The reference metabolite dataset contains 1174 different metabolites.\n"
     ]
    }
   ],
   "source": [
    "# Get reference metabolite file\n",
    "fileRef = joinpath(@__DIR__,\"..\",\"..\",\"data\",\"processed\",\"SPIROMICS\",\"refMeta.csv\");\n",
    "dfRef = CSV.read(fileRef, DataFrame);\n",
    "println(\"The reference metabolite dataset contains $(size(dfRef, 1)) different metabolites.\")"
   ]
  },
  {
   "cell_type": "code",
   "execution_count": 6,
   "id": "58bd11e8-da37-4a6a-82b3-6fedd0a06814",
   "metadata": {},
   "outputs": [
    {
     "name": "stdout",
     "output_type": "stream",
     "text": [
      "The negative metabolite dataset contains 372 samples and 588 metabolites.\n"
     ]
    }
   ],
   "source": [
    "# Get negative metabolite file\n",
    "dfNegMetabo = readCOPDdata(realpath(joinpath(@__DIR__,\"..\",\"..\",\"data\",\"processed\",\"SPIROMICS\",\"negMeta.csv\"))) \n",
    "println(\"The negative metabolite dataset contains $(size(dfNegMetabo, 1)) samples and $(size(dfNegMetabo, 2)-1) metabolites.\")"
   ]
  },
  {
   "cell_type": "code",
   "execution_count": 7,
   "id": "c7d6fd5d-f1f3-4f28-a239-055f2bf4db42",
   "metadata": {},
   "outputs": [
    {
     "name": "stdout",
     "output_type": "stream",
     "text": [
      "The polar metabolite dataset contains 372 samples and 96 metabolites.\n"
     ]
    }
   ],
   "source": [
    "# Get polar metabolite file\n",
    "dfPolarMetabo = readCOPDdata(joinpath(@__DIR__,\"..\",\"..\",\"data\",\"processed\",\"SPIROMICS\",\"polarMeta.csv\"));\n",
    "println(\"The polar metabolite dataset contains $(size(dfPolarMetabo, 1)) samples and $(size(dfPolarMetabo, 2)-1) metabolites.\")"
   ]
  },
  {
   "cell_type": "code",
   "execution_count": 8,
   "id": "e2211614-d837-40cc-8fa9-57bca39f6616",
   "metadata": {},
   "outputs": [
    {
     "name": "stdout",
     "output_type": "stream",
     "text": [
      "The positive early metabolite dataset contains 372 samples and 258 metabolites.\n"
     ]
    }
   ],
   "source": [
    "# Get positive early metabolite file\n",
    "dfPosEarlyMetabo = readCOPDdata(joinpath(@__DIR__,\"..\",\"..\",\"data\",\"processed\",\"SPIROMICS\",\"posEarlyMeta.csv\"));\n",
    "println(\"The positive early metabolite dataset contains $(size(dfPosEarlyMetabo, 1)) samples and $(size(dfPosEarlyMetabo, 2)-1) metabolites.\")"
   ]
  },
  {
   "cell_type": "code",
   "execution_count": 9,
   "id": "bc4d7c2e-3850-4fa8-ba62-1f4374b3f3e0",
   "metadata": {},
   "outputs": [
    {
     "name": "stdout",
     "output_type": "stream",
     "text": [
      "The positive late metabolite dataset contains 372 samples and 232 metabolites.\n"
     ]
    }
   ],
   "source": [
    "# Get positive late metabolite file\n",
    "dfPosLateMetabo = readCOPDdata(joinpath(@__DIR__,\"..\",\"..\",\"data\",\"processed\",\"SPIROMICS\",\"posLateMeta.csv\"));\n",
    "println(\"The positive late metabolite dataset contains $(size(dfPosLateMetabo, 1)) samples and $(size(dfPosLateMetabo, 2)-1) metabolites.\")"
   ]
  },
  {
   "cell_type": "markdown",
   "id": "72e9cfb7-096f-4ace-b957-295bd7c5b660",
   "metadata": {},
   "source": [
    "### Join dataframes"
   ]
  },
  {
   "cell_type": "markdown",
   "id": "88d296f5-0666-482f-ac8c-661336766071",
   "metadata": {},
   "source": [
    "The dataframe `dfPolarMetabo` contains Integer type instead of Float type, which produces an error during the imputation. We need to convert the values to Integer type."
   ]
  },
  {
   "cell_type": "code",
   "execution_count": 10,
   "id": "6a49c520-7c77-40ab-9fd2-691070faa129",
   "metadata": {
    "tags": []
   },
   "outputs": [
    {
     "data": {
      "text/plain": [
       "Vector{Union{Missing, Float64}}\u001b[90m (alias for \u001b[39m\u001b[90mArray{Union{Missing, Float64}, 1}\u001b[39m\u001b[90m)\u001b[39m"
      ]
     },
     "execution_count": 10,
     "metadata": {},
     "output_type": "execute_result"
    }
   ],
   "source": [
    "typeof(dfPolarMetabo[:, 2])"
   ]
  },
  {
   "cell_type": "code",
   "execution_count": 11,
   "id": "3072b56a-66ec-4b21-826c-a544b063690e",
   "metadata": {},
   "outputs": [
    {
     "data": {
      "text/plain": [
       "Vector{Union{Missing, Float64}}\u001b[90m (alias for \u001b[39m\u001b[90mArray{Union{Missing, Float64}, 1}\u001b[39m\u001b[90m)\u001b[39m"
      ]
     },
     "execution_count": 11,
     "metadata": {},
     "output_type": "execute_result"
    }
   ],
   "source": [
    "dfPolarMetabo[!,2:end] .= convert.(Union{Missing, Float64}, dfPolarMetabo[:, 2:end]);\n",
    "typeof(dfPolarMetabo[:, 2])"
   ]
  },
  {
   "cell_type": "code",
   "execution_count": 12,
   "id": "a0ad88ac-aece-4a72-85e5-e0282b2fcb2a",
   "metadata": {},
   "outputs": [
    {
     "data": {
      "text/plain": [
       "(372, 1175)"
      ]
     },
     "execution_count": 12,
     "metadata": {},
     "output_type": "execute_result"
    }
   ],
   "source": [
    "df = leftjoin(dfNegMetabo, dfPolarMetabo, on = :SampleID)\n",
    "leftjoin!(df, dfPosEarlyMetabo, on = :SampleID)\n",
    "leftjoin!(df, dfPosLateMetabo, on = :SampleID)\n",
    "size(df)"
   ]
  },
  {
   "cell_type": "markdown",
   "id": "1f4dd0bb-da79-4328-ab21-647f2e3638cf",
   "metadata": {},
   "source": [
    "## Imputation"
   ]
  },
  {
   "cell_type": "code",
   "execution_count": 13,
   "id": "c079ea15-2b3d-404a-938f-1b083ea0620d",
   "metadata": {},
   "outputs": [
    {
     "data": {
      "text/plain": [
       "6-element Vector{String}:\n",
       " \"metabolite_name\"\n",
       " \"CompID\"\n",
       " \"SubPathway\"\n",
       " \"SuperPathway\"\n",
       " \"SubClassID\"\n",
       " \"SuperClassID\""
      ]
     },
     "execution_count": 13,
     "metadata": {},
     "output_type": "execute_result"
    }
   ],
   "source": [
    "names(dfRef)"
   ]
  },
  {
   "cell_type": "code",
   "execution_count": 14,
   "id": "b3d39c0a-0e65-4aa4-949a-e187d4cf4986",
   "metadata": {},
   "outputs": [
    {
     "name": "stdout",
     "output_type": "stream",
     "text": [
      "The metabolite cotinine contains 44.35% missing samples.\n",
      "We dropped 392 metabolites due to a missingness greater than 20%.\n",
      "We preserved 782 metabolites.\n"
     ]
    }
   ],
   "source": [
    "df = imputeSPIROMICS(df, dfRef);"
   ]
  },
  {
   "cell_type": "markdown",
   "id": "8f0b21e6-4a9e-4ec3-bb1e-568e56978da0",
   "metadata": {},
   "source": [
    "## Normalization\n",
    "----"
   ]
  },
  {
   "cell_type": "markdown",
   "id": "01952909-8f5c-4780-9983-0e391e4a746b",
   "metadata": {},
   "source": [
    "### Probabilistic Quotient Normalization\n",
    "\n",
    "> 1. Perform an integral normalization (typically a constant\n",
    "integral of 100 is used).\n",
    "> 2. Choose/calculate the reference spectrum (the best approach\n",
    "is the calculation of the median spectrum of control samples).\n",
    "> 3. Calculate the quotients of all variables of interest of the test\n",
    "spectrum with those of the reference spectrum.\n",
    "> 4. Calculate the median of these quotients.\n",
    "> 5. Divide all variables of the test spectrum by this median.\n"
   ]
  },
  {
   "cell_type": "code",
   "execution_count": 15,
   "id": "d96159d5-c8eb-416e-a07f-bf49d22636d3",
   "metadata": {},
   "outputs": [],
   "source": [
    "df[!,2:end] .= convert.(Union{Missing, Float64}, df[:, 2:end]);\n",
    "df = pqnorm(df, startCol = 2);"
   ]
  },
  {
   "cell_type": "markdown",
   "id": "3a6fda63-d784-4417-8cb8-9e1bf4a7cc04",
   "metadata": {},
   "source": [
    "## Transformation\n",
    "---\n",
    "\n",
    "A simple and widely used transformation to make data more symmetric and homoscedastic is the log-transformation."
   ]
  },
  {
   "cell_type": "code",
   "execution_count": 16,
   "id": "f1bf51ca-229b-4e9b-8893-5e98b5ad3999",
   "metadata": {},
   "outputs": [],
   "source": [
    "df = log2tx(df, startCol = 2);"
   ]
  },
  {
   "cell_type": "code",
   "execution_count": 17,
   "id": "749dfcdb-c674-4618-b367-7f20a33d1088",
   "metadata": {},
   "outputs": [
    {
     "data": {
      "text/html": [
       "<div><div style = \"float: left;\"><span>DataFrameRow (783 columns)</span></div><div style = \"float: right;\"><span style = \"font-style: italic;\">683 columns omitted</span></div><div style = \"clear: both;\"></div></div><div class = \"data-frame\" style = \"overflow-x: scroll;\"><table class = \"data-frame\" style = \"margin-bottom: 6px;\"><thead><tr class = \"header\"><th class = \"rowLabel\" style = \"font-weight: bold; text-align: right;\">Row</th><th style = \"text-align: left;\">SampleID</th><th style = \"text-align: left;\">comp0588</th><th style = \"text-align: left;\">comp0001</th><th style = \"text-align: left;\">comp0002</th><th style = \"text-align: left;\">comp0003</th><th style = \"text-align: left;\">comp0014</th><th style = \"text-align: left;\">comp0016</th><th style = \"text-align: left;\">comp0034</th><th style = \"text-align: left;\">comp0036</th><th style = \"text-align: left;\">comp0037</th><th style = \"text-align: left;\">comp0038</th><th style = \"text-align: left;\">comp0040</th><th style = \"text-align: left;\">comp0048</th><th style = \"text-align: left;\">comp0049</th><th style = \"text-align: left;\">comp0050</th><th style = \"text-align: left;\">comp0051</th><th style = \"text-align: left;\">comp0057</th><th style = \"text-align: left;\">comp0070</th><th style = \"text-align: left;\">comp0071</th><th style = \"text-align: left;\">comp0090</th><th style = \"text-align: left;\">comp0091</th><th style = \"text-align: left;\">comp0109</th><th style = \"text-align: left;\">comp0110</th><th style = \"text-align: left;\">comp0112</th><th style = \"text-align: left;\">comp0113</th><th style = \"text-align: left;\">comp0114</th><th style = \"text-align: left;\">comp0115</th><th style = \"text-align: left;\">comp0116</th><th style = \"text-align: left;\">comp0117</th><th style = \"text-align: left;\">comp0118</th><th style = \"text-align: left;\">comp0122</th><th style = \"text-align: left;\">comp0123</th><th style = \"text-align: left;\">comp0124</th><th style = \"text-align: left;\">comp0125</th><th style = \"text-align: left;\">comp0126</th><th style = \"text-align: left;\">comp0131</th><th style = \"text-align: left;\">comp0132</th><th style = \"text-align: left;\">comp0134</th><th style = \"text-align: left;\">comp0140</th><th style = \"text-align: left;\">comp0144</th><th style = \"text-align: left;\">comp0147</th><th style = \"text-align: left;\">comp0148</th><th style = \"text-align: left;\">comp0150</th><th style = \"text-align: left;\">comp0153</th><th style = \"text-align: left;\">comp0156</th><th style = \"text-align: left;\">comp0157</th><th style = \"text-align: left;\">comp0158</th><th style = \"text-align: left;\">comp0160</th><th style = \"text-align: left;\">comp0161</th><th style = \"text-align: left;\">comp0162</th><th style = \"text-align: left;\">comp0174</th><th style = \"text-align: left;\">comp0180</th><th style = \"text-align: left;\">comp0184</th><th style = \"text-align: left;\">comp0185</th><th style = \"text-align: left;\">comp0192</th><th style = \"text-align: left;\">comp0193</th><th style = \"text-align: left;\">comp0195</th><th style = \"text-align: left;\">comp0202</th><th style = \"text-align: left;\">comp0203</th><th style = \"text-align: left;\">comp0204</th><th style = \"text-align: left;\">comp0206</th><th style = \"text-align: left;\">comp0208</th><th style = \"text-align: left;\">comp0209</th><th style = \"text-align: left;\">comp0214</th><th style = \"text-align: left;\">comp0217</th><th style = \"text-align: left;\">comp0222</th><th style = \"text-align: left;\">comp0227</th><th style = \"text-align: left;\">comp0228</th><th style = \"text-align: left;\">comp0229</th><th style = \"text-align: left;\">comp0233</th><th style = \"text-align: left;\">comp0234</th><th style = \"text-align: left;\">comp0238</th><th style = \"text-align: left;\">comp0239</th><th style = \"text-align: left;\">comp0240</th><th style = \"text-align: left;\">comp0244</th><th style = \"text-align: left;\">comp0245</th><th style = \"text-align: left;\">comp0246</th><th style = \"text-align: left;\">comp0252</th><th style = \"text-align: left;\">comp0253</th><th style = \"text-align: left;\">comp0254</th><th style = \"text-align: left;\">comp0255</th><th style = \"text-align: left;\">comp0259</th><th style = \"text-align: left;\">comp0260</th><th style = \"text-align: left;\">comp0262</th><th style = \"text-align: left;\">comp0268</th><th style = \"text-align: left;\">comp0269</th><th style = \"text-align: left;\">comp0271</th><th style = \"text-align: left;\">comp0273</th><th style = \"text-align: left;\">comp0274</th><th style = \"text-align: left;\">comp0278</th><th style = \"text-align: left;\">comp0281</th><th style = \"text-align: left;\">comp0282</th><th style = \"text-align: left;\">comp0284</th><th style = \"text-align: left;\">comp0285</th><th style = \"text-align: left;\">comp0288</th><th style = \"text-align: left;\">comp0289</th><th style = \"text-align: left;\">comp0290</th><th style = \"text-align: left;\">comp0291</th><th style = \"text-align: left;\">comp0297</th><th style = \"text-align: left;\">comp0298</th><th style = \"text-align: right;\">&ctdot;</th></tr><tr class = \"subheader headerLastRow\"><th class = \"rowLabel\" style = \"font-weight: bold; text-align: right;\"></th><th title = \"String\" style = \"text-align: left;\">String</th><th title = \"Float64\" style = \"text-align: left;\">Float64</th><th title = \"Float64\" style = \"text-align: left;\">Float64</th><th title = \"Float64\" style = \"text-align: left;\">Float64</th><th title = \"Float64\" style = \"text-align: left;\">Float64</th><th title = \"Float64\" style = \"text-align: left;\">Float64</th><th title = \"Float64\" style = \"text-align: left;\">Float64</th><th title = \"Float64\" style = \"text-align: left;\">Float64</th><th title = \"Float64\" style = \"text-align: left;\">Float64</th><th title = \"Float64\" style = \"text-align: left;\">Float64</th><th title = \"Float64\" style = \"text-align: left;\">Float64</th><th title = \"Float64\" style = \"text-align: left;\">Float64</th><th title = \"Float64\" style = \"text-align: left;\">Float64</th><th title = \"Float64\" style = \"text-align: left;\">Float64</th><th title = \"Float64\" style = \"text-align: left;\">Float64</th><th title = \"Float64\" style = \"text-align: left;\">Float64</th><th title = \"Float64\" style = \"text-align: left;\">Float64</th><th title = \"Float64\" style = \"text-align: left;\">Float64</th><th title = \"Float64\" style = \"text-align: left;\">Float64</th><th title = \"Float64\" style = \"text-align: left;\">Float64</th><th title = \"Float64\" style = \"text-align: left;\">Float64</th><th title = \"Float64\" style = \"text-align: left;\">Float64</th><th title = \"Float64\" style = \"text-align: left;\">Float64</th><th title = \"Float64\" style = \"text-align: left;\">Float64</th><th title = \"Float64\" style = \"text-align: left;\">Float64</th><th title = \"Float64\" style = \"text-align: left;\">Float64</th><th title = \"Float64\" style = \"text-align: left;\">Float64</th><th title = \"Float64\" style = \"text-align: left;\">Float64</th><th title = \"Float64\" style = \"text-align: left;\">Float64</th><th title = \"Float64\" style = \"text-align: left;\">Float64</th><th title = \"Float64\" style = \"text-align: left;\">Float64</th><th title = \"Float64\" style = \"text-align: left;\">Float64</th><th title = \"Float64\" style = \"text-align: left;\">Float64</th><th title = \"Float64\" style = \"text-align: left;\">Float64</th><th title = \"Float64\" style = \"text-align: left;\">Float64</th><th title = \"Float64\" style = \"text-align: left;\">Float64</th><th title = \"Float64\" style = \"text-align: left;\">Float64</th><th title = \"Float64\" style = \"text-align: left;\">Float64</th><th title = \"Float64\" style = \"text-align: left;\">Float64</th><th title = \"Float64\" style = \"text-align: left;\">Float64</th><th title = \"Float64\" style = \"text-align: left;\">Float64</th><th title = \"Float64\" style = \"text-align: left;\">Float64</th><th title = \"Float64\" style = \"text-align: left;\">Float64</th><th title = \"Float64\" style = \"text-align: left;\">Float64</th><th title = \"Float64\" style = \"text-align: left;\">Float64</th><th title = \"Float64\" style = \"text-align: left;\">Float64</th><th title = \"Float64\" style = \"text-align: left;\">Float64</th><th title = \"Float64\" style = \"text-align: left;\">Float64</th><th title = \"Float64\" style = \"text-align: left;\">Float64</th><th title = \"Float64\" style = \"text-align: left;\">Float64</th><th title = \"Float64\" style = \"text-align: left;\">Float64</th><th title = \"Float64\" style = \"text-align: left;\">Float64</th><th title = \"Float64\" style = \"text-align: left;\">Float64</th><th title = \"Float64\" style = \"text-align: left;\">Float64</th><th title = \"Float64\" style = \"text-align: left;\">Float64</th><th title = \"Float64\" style = \"text-align: left;\">Float64</th><th title = \"Float64\" style = \"text-align: left;\">Float64</th><th title = \"Float64\" style = \"text-align: left;\">Float64</th><th title = \"Float64\" style = \"text-align: left;\">Float64</th><th title = \"Float64\" style = \"text-align: left;\">Float64</th><th title = \"Float64\" style = \"text-align: left;\">Float64</th><th title = \"Float64\" style = \"text-align: left;\">Float64</th><th title = \"Float64\" style = \"text-align: left;\">Float64</th><th title = \"Float64\" style = \"text-align: left;\">Float64</th><th title = \"Float64\" style = \"text-align: left;\">Float64</th><th title = \"Float64\" style = \"text-align: left;\">Float64</th><th title = \"Float64\" style = \"text-align: left;\">Float64</th><th title = \"Float64\" style = \"text-align: left;\">Float64</th><th title = \"Float64\" style = \"text-align: left;\">Float64</th><th title = \"Float64\" style = \"text-align: left;\">Float64</th><th title = \"Float64\" style = \"text-align: left;\">Float64</th><th title = \"Float64\" style = \"text-align: left;\">Float64</th><th title = \"Float64\" style = \"text-align: left;\">Float64</th><th title = \"Float64\" style = \"text-align: left;\">Float64</th><th title = \"Float64\" style = \"text-align: left;\">Float64</th><th title = \"Float64\" style = \"text-align: left;\">Float64</th><th title = \"Float64\" style = \"text-align: left;\">Float64</th><th title = \"Float64\" style = \"text-align: left;\">Float64</th><th title = \"Float64\" style = \"text-align: left;\">Float64</th><th title = \"Float64\" style = \"text-align: left;\">Float64</th><th title = \"Float64\" style = \"text-align: left;\">Float64</th><th title = \"Float64\" style = \"text-align: left;\">Float64</th><th title = \"Float64\" style = \"text-align: left;\">Float64</th><th title = \"Float64\" style = \"text-align: left;\">Float64</th><th title = \"Float64\" style = \"text-align: left;\">Float64</th><th title = \"Float64\" style = \"text-align: left;\">Float64</th><th title = \"Float64\" style = \"text-align: left;\">Float64</th><th title = \"Float64\" style = \"text-align: left;\">Float64</th><th title = \"Float64\" style = \"text-align: left;\">Float64</th><th title = \"Float64\" style = \"text-align: left;\">Float64</th><th title = \"Float64\" style = \"text-align: left;\">Float64</th><th title = \"Float64\" style = \"text-align: left;\">Float64</th><th title = \"Float64\" style = \"text-align: left;\">Float64</th><th title = \"Float64\" style = \"text-align: left;\">Float64</th><th title = \"Float64\" style = \"text-align: left;\">Float64</th><th title = \"Float64\" style = \"text-align: left;\">Float64</th><th title = \"Float64\" style = \"text-align: left;\">Float64</th><th title = \"Float64\" style = \"text-align: left;\">Float64</th><th title = \"Float64\" style = \"text-align: left;\">Float64</th><th title = \"Float64\" style = \"text-align: left;\">Float64</th><th title = \"Float64\" style = \"text-align: right;\">&ctdot;</th></tr></thead><tbody><tr><td class = \"rowLabel\" style = \"font-weight: bold; text-align: right;\">1</td><td style = \"text-align: left;\">NJHC-01517</td><td style = \"text-align: right;\">0.0</td><td style = \"text-align: right;\">0.0373768</td><td style = \"text-align: right;\">0.00206656</td><td style = \"text-align: right;\">0.00116913</td><td style = \"text-align: right;\">0.137739</td><td style = \"text-align: right;\">0.00588922</td><td style = \"text-align: right;\">0.0071546</td><td style = \"text-align: right;\">0.000116814</td><td style = \"text-align: right;\">0.000145573</td><td style = \"text-align: right;\">0.000516897</td><td style = \"text-align: right;\">0.000348006</td><td style = \"text-align: right;\">0.0248131</td><td style = \"text-align: right;\">0.000455229</td><td style = \"text-align: right;\">0.0060276</td><td style = \"text-align: right;\">0.00259249</td><td style = \"text-align: right;\">0.000648517</td><td style = \"text-align: right;\">0.00398141</td><td style = \"text-align: right;\">0.00672786</td><td style = \"text-align: right;\">0.00016807</td><td style = \"text-align: right;\">0.00124711</td><td style = \"text-align: right;\">0.00719697</td><td style = \"text-align: right;\">0.0483302</td><td style = \"text-align: right;\">0.0120918</td><td style = \"text-align: right;\">0.00737435</td><td style = \"text-align: right;\">0.000941944</td><td style = \"text-align: right;\">0.000396282</td><td style = \"text-align: right;\">0.00337326</td><td style = \"text-align: right;\">0.00156687</td><td style = \"text-align: right;\">0.00259645</td><td style = \"text-align: right;\">0.000331377</td><td style = \"text-align: right;\">0.000270747</td><td style = \"text-align: right;\">0.0304043</td><td style = \"text-align: right;\">0.000132622</td><td style = \"text-align: right;\">0.00423969</td><td style = \"text-align: right;\">0.170115</td><td style = \"text-align: right;\">0.00747499</td><td style = \"text-align: right;\">0.00457436</td><td style = \"text-align: right;\">0.00160028</td><td style = \"text-align: right;\">0.000442446</td><td style = \"text-align: right;\">0.000242977</td><td style = \"text-align: right;\">0.000462785</td><td style = \"text-align: right;\">0.00250707</td><td style = \"text-align: right;\">0.134793</td><td style = \"text-align: right;\">0.000922225</td><td style = \"text-align: right;\">0.000789232</td><td style = \"text-align: right;\">0.0266301</td><td style = \"text-align: right;\">0.00245236</td><td style = \"text-align: right;\">0.000247344</td><td style = \"text-align: right;\">0.0104925</td><td style = \"text-align: right;\">0.000106631</td><td style = \"text-align: right;\">0.027733</td><td style = \"text-align: right;\">0.00107934</td><td style = \"text-align: right;\">0.00196985</td><td style = \"text-align: right;\">0.000130318</td><td style = \"text-align: right;\">0.0010145</td><td style = \"text-align: right;\">0.0133458</td><td style = \"text-align: right;\">0.000882351</td><td style = \"text-align: right;\">0.0417764</td><td style = \"text-align: right;\">0.0537596</td><td style = \"text-align: right;\">0.000324172</td><td style = \"text-align: right;\">0.00151231</td><td style = \"text-align: right;\">0.00209107</td><td style = \"text-align: right;\">0.0127671</td><td style = \"text-align: right;\">0.001996</td><td style = \"text-align: right;\">0.000590868</td><td style = \"text-align: right;\">0.00178039</td><td style = \"text-align: right;\">0.00123887</td><td style = \"text-align: right;\">0.00151059</td><td style = \"text-align: right;\">0.00527466</td><td style = \"text-align: right;\">0.00032863</td><td style = \"text-align: right;\">0.000200496</td><td style = \"text-align: right;\">0.0627678</td><td style = \"text-align: right;\">0.000765749</td><td style = \"text-align: right;\">0.00152187</td><td style = \"text-align: right;\">0.0136611</td><td style = \"text-align: right;\">0.0416024</td><td style = \"text-align: right;\">0.000618873</td><td style = \"text-align: right;\">0.00471194</td><td style = \"text-align: right;\">0.00858642</td><td style = \"text-align: right;\">0.0223975</td><td style = \"text-align: right;\">0.00168698</td><td style = \"text-align: right;\">0.00227623</td><td style = \"text-align: right;\">0.000704866</td><td style = \"text-align: right;\">0.000315561</td><td style = \"text-align: right;\">0.00320773</td><td style = \"text-align: right;\">0.000548317</td><td style = \"text-align: right;\">0.00154223</td><td style = \"text-align: right;\">0.0102585</td><td style = \"text-align: right;\">0.00732224</td><td style = \"text-align: right;\">0.000740931</td><td style = \"text-align: right;\">0.000428641</td><td style = \"text-align: right;\">0.000254889</td><td style = \"text-align: right;\">0.000475495</td><td style = \"text-align: right;\">0.0618251</td><td style = \"text-align: right;\">8.02272e-5</td><td style = \"text-align: right;\">0.00603715</td><td style = \"text-align: right;\">9.515e-5</td><td style = \"text-align: right;\">0.00859314</td><td style = \"text-align: right;\">0.000335704</td><td style = \"text-align: right;\">&ctdot;</td></tr></tbody></table></div>"
      ],
      "text/latex": [
       "\\begin{tabular}{r|ccccccccc}\n",
       "\t& SampleID & comp0588 & comp0001 & comp0002 & comp0003 & comp0014 & comp0016 & comp0034 & \\\\\n",
       "\t\\hline\n",
       "\t& String & Float64 & Float64 & Float64 & Float64 & Float64 & Float64 & Float64 & \\\\\n",
       "\t\\hline\n",
       "\t1 & NJHC-01517 & 0.0 & 0.0373768 & 0.00206656 & 0.00116913 & 0.137739 & 0.00588922 & 0.0071546 & $\\dots$ \\\\\n",
       "\\end{tabular}\n"
      ],
      "text/plain": [
       "\u001b[1mDataFrameRow\u001b[0m\n",
       "\u001b[1m Row \u001b[0m│\u001b[1m SampleID   \u001b[0m\u001b[1m comp0588 \u001b[0m\u001b[1m comp0001  \u001b[0m\u001b[1m comp0002   \u001b[0m\u001b[1m comp0003   \u001b[0m\u001b[1m comp0014 \u001b[0m\u001b[1m comp\u001b[0m ⋯\n",
       "     │\u001b[90m String     \u001b[0m\u001b[90m Float64  \u001b[0m\u001b[90m Float64   \u001b[0m\u001b[90m Float64    \u001b[0m\u001b[90m Float64    \u001b[0m\u001b[90m Float64  \u001b[0m\u001b[90m Floa\u001b[0m ⋯\n",
       "─────┼──────────────────────────────────────────────────────────────────────────\n",
       "   1 │ NJHC-01517       0.0  0.0373768  0.00206656  0.00116913  0.137739  0.00 ⋯\n",
       "\u001b[36m                                                             777 columns omitted\u001b[0m"
      ]
     },
     "execution_count": 17,
     "metadata": {},
     "output_type": "execute_result"
    }
   ],
   "source": [
    "first(df)"
   ]
  },
  {
   "cell_type": "markdown",
   "id": "9665eb9e-c010-4dd4-be3e-004cf3fd5301",
   "metadata": {
    "kernel": "SoS"
   },
   "source": [
    "## Save pretreatments"
   ]
  },
  {
   "cell_type": "code",
   "execution_count": 18,
   "id": "6a978d91-f599-41b4-96ac-831dabfa6fa2",
   "metadata": {
    "kernel": "Julia 1.5.3"
   },
   "outputs": [
    {
     "data": {
      "text/plain": [
       "\"C:\\\\git\\\\gregfa\\\\Metabolomic\\\\COPDstudy\\\\notebooks\\\\preprocessing\\\\..\\\\..\\\\data\\\\processed\\\\SPIROMICS\\\\inl2_Meta.csv\""
      ]
     },
     "execution_count": 18,
     "metadata": {},
     "output_type": "execute_result"
    }
   ],
   "source": [
    "fileMeta = joinpath(@__DIR__,\"..\",\"..\",\"data\",\"processed\",\"SPIROMICS\",\"inl2_Meta.csv\");\n",
    "df |> CSV.write(fileMeta)"
   ]
  },
  {
   "cell_type": "code",
   "execution_count": 19,
   "id": "857fd4e2-92ba-4c37-a4b9-8f24d2693620",
   "metadata": {},
   "outputs": [
    {
     "name": "stdout",
     "output_type": "stream",
     "text": [
      "Julia Version 1.8.2\n",
      "Commit 36034abf26 (2022-09-29 15:21 UTC)\n",
      "Platform Info:\n",
      "  OS: Windows (x86_64-w64-mingw32)\n",
      "  CPU: 4 × Intel(R) Core(TM) i5-6500 CPU @ 3.20GHz\n",
      "  WORD_SIZE: 64\n",
      "  LIBM: libopenlibm\n",
      "  LLVM: libLLVM-13.0.1 (ORCJIT, skylake)\n",
      "  Threads: 1 on 4 virtual cores\n"
     ]
    }
   ],
   "source": [
    "versioninfo()"
   ]
  },
  {
   "cell_type": "code",
   "execution_count": 20,
   "id": "9e88a580-76ed-4884-8668-7b2b2821a88e",
   "metadata": {},
   "outputs": [
    {
     "data": {
      "text/plain": [
       "RObject{VecSxp}\n",
       "R version 4.2.1 (2022-06-23 ucrt)\n",
       "Platform: x86_64-w64-mingw32/x64 (64-bit)\n",
       "Running under: Windows 10 x64 (build 19044)\n",
       "\n",
       "Matrix products: default\n",
       "\n",
       "locale:\n",
       "[1] LC_COLLATE=English_United States.1252 \n",
       "[2] LC_CTYPE=English_United States.1252   \n",
       "[3] LC_MONETARY=English_United States.1252\n",
       "[4] LC_NUMERIC=C                          \n",
       "[5] LC_TIME=English_United States.1252    \n",
       "\n",
       "attached base packages:\n",
       "[1] stats     graphics  grDevices utils     datasets  methods   base     \n",
       "\n",
       "other attached packages:\n",
       "[1] impute_1.70.0\n",
       "\n",
       "loaded via a namespace (and not attached):\n",
       "[1] compiler_4.2.1\n"
      ]
     },
     "execution_count": 20,
     "metadata": {},
     "output_type": "execute_result"
    }
   ],
   "source": [
    "R\"\"\"\n",
    "sessionInfo()\n",
    "\"\"\""
   ]
  },
  {
   "cell_type": "code",
   "execution_count": null,
   "id": "ab70ffb1-69ab-43f5-b1f0-ce55a58c8726",
   "metadata": {},
   "outputs": [],
   "source": []
  }
 ],
 "metadata": {
  "jupytext": {
   "formats": "ipynb,jl:light"
  },
  "kernelspec": {
   "display_name": "Julia 1.8.2",
   "language": "julia",
   "name": "julia-1.8"
  },
  "language_info": {
   "file_extension": ".jl",
   "mimetype": "application/julia",
   "name": "julia",
   "version": "1.8.2"
  }
 },
 "nbformat": 4,
 "nbformat_minor": 5
}
