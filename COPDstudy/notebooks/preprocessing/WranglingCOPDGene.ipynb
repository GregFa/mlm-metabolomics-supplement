{
 "cells": [
  {
   "cell_type": "markdown",
   "id": "c5836bfe",
   "metadata": {},
   "source": [
    "# Wrangling COPDGene\n",
    "---"
   ]
  },
  {
   "cell_type": "markdown",
   "id": "438e917f",
   "metadata": {},
   "source": [
    "This notebook carrieds out the wrangling process for the COPDGene metabolomics data."
   ]
  },
  {
   "cell_type": "markdown",
   "id": "510adcf0",
   "metadata": {},
   "source": [
    "## Input"
   ]
  },
  {
   "cell_type": "markdown",
   "id": "cefa4db4",
   "metadata": {},
   "source": [
    "### Libraries"
   ]
  },
  {
   "cell_type": "code",
   "execution_count": 1,
   "id": "caefb688",
   "metadata": {},
   "outputs": [],
   "source": [
    "# To use RCall for the first time, one needs to \n",
    "# the location of the R home directory.\n",
    "firstTimeRCall = false\n",
    "if firstTimeRCall \n",
    "    using Pkg\n",
    "    ENV[\"R_HOME\"] = \"C:/PROGRA~1/R/R-42~1.1\" # from R.home() in R\n",
    "    Pkg.build(\"RCall\")\n",
    "end       "
   ]
  },
  {
   "cell_type": "code",
   "execution_count": 2,
   "id": "ef85d86f",
   "metadata": {},
   "outputs": [],
   "source": [
    "using DataFrames, CSV, Missings\n",
    "using FreqTables #, CategoricalArrays\n",
    "using Statistics"
   ]
  },
  {
   "cell_type": "markdown",
   "id": "7e798b9f",
   "metadata": {},
   "source": [
    "### Ext. Functions"
   ]
  },
  {
   "cell_type": "code",
   "execution_count": 3,
   "id": "969dbfbc",
   "metadata": {},
   "outputs": [],
   "source": [
    "include(joinpath(@__DIR__,\"..\",\"..\",\"src\",\"wrangle_utils.jl\" ));"
   ]
  },
  {
   "cell_type": "markdown",
   "id": "b60adc84",
   "metadata": {},
   "source": [
    "### Load data ST001443: COPDGene"
   ]
  },
  {
   "cell_type": "markdown",
   "id": "34d14fbb",
   "metadata": {},
   "source": [
    "#### Participants"
   ]
  },
  {
   "cell_type": "code",
   "execution_count": 4,
   "id": "001e1cf2",
   "metadata": {},
   "outputs": [
    {
     "data": {
      "text/html": [
       "<div><div style = \"float: left;\"><span>3×14 DataFrame</span></div><div style = \"clear: both;\"></div></div><div class = \"data-frame\" style = \"overflow-x: scroll;\"><table class = \"data-frame\" style = \"margin-bottom: 6px;\"><thead><tr class = \"header\"><th class = \"rowNumber\" style = \"font-weight: bold; text-align: right;\">Row</th><th style = \"text-align: left;\">sid</th><th style = \"text-align: left;\">sample_name</th><th style = \"text-align: left;\">ccenter</th><th style = \"text-align: left;\">finalgold_visit</th><th style = \"text-align: left;\">gender</th><th style = \"text-align: left;\">age_visit</th><th style = \"text-align: left;\">race</th><th style = \"text-align: left;\">BMI</th><th style = \"text-align: left;\">smoking_status</th><th style = \"text-align: left;\">ATS_PackYears</th><th style = \"text-align: left;\">FEV1_FVC_utah</th><th style = \"text-align: left;\">FEV1pp_utah</th><th style = \"text-align: left;\">Insp_LAA950_total_Thirona</th><th style = \"text-align: left;\">COPD</th></tr><tr class = \"subheader headerLastRow\"><th class = \"rowNumber\" style = \"font-weight: bold; text-align: right;\"></th><th title = \"String7\" style = \"text-align: left;\">String7</th><th title = \"String15\" style = \"text-align: left;\">String15</th><th title = \"String3\" style = \"text-align: left;\">String3</th><th title = \"String7\" style = \"text-align: left;\">String7</th><th title = \"String7\" style = \"text-align: left;\">String7</th><th title = \"Float64\" style = \"text-align: left;\">Float64</th><th title = \"String31\" style = \"text-align: left;\">String31</th><th title = \"Float64\" style = \"text-align: left;\">Float64</th><th title = \"String15\" style = \"text-align: left;\">String15</th><th title = \"Union{Missing, Float64}\" style = \"text-align: left;\">Float64?</th><th title = \"Float64\" style = \"text-align: left;\">Float64</th><th title = \"Float64\" style = \"text-align: left;\">Float64</th><th title = \"Union{Missing, Float64}\" style = \"text-align: left;\">Float64?</th><th title = \"Int64\" style = \"text-align: left;\">Int64</th></tr></thead><tbody><tr><td class = \"rowNumber\" style = \"font-weight: bold; text-align: right;\">1</td><td style = \"text-align: left;\">10010J</td><td style = \"text-align: left;\">NJHC-00611</td><td style = \"text-align: left;\">NJC</td><td style = \"text-align: left;\">GOLD 2</td><td style = \"text-align: left;\">Female</td><td style = \"text-align: right;\">73.5</td><td style = \"text-align: left;\">White</td><td style = \"text-align: right;\">27.51</td><td style = \"text-align: left;\">Former smoker</td><td style = \"text-align: right;\">30.7</td><td style = \"text-align: right;\">0.62</td><td style = \"text-align: right;\">51.8</td><td style = \"text-align: right;\">2.42326</td><td style = \"text-align: right;\">1</td></tr><tr><td class = \"rowNumber\" style = \"font-weight: bold; text-align: right;\">2</td><td style = \"text-align: left;\">10031R</td><td style = \"text-align: left;\">NJHC-00004</td><td style = \"text-align: left;\">NJC</td><td style = \"text-align: left;\">GOLD 2</td><td style = \"text-align: left;\">Male</td><td style = \"text-align: right;\">66.3</td><td style = \"text-align: left;\">White</td><td style = \"text-align: right;\">22.77</td><td style = \"text-align: left;\">Former smoker</td><td style = \"text-align: right;\">46.9</td><td style = \"text-align: right;\">0.48</td><td style = \"text-align: right;\">58.5</td><td style = \"text-align: right;\">34.7749</td><td style = \"text-align: right;\">1</td></tr><tr><td class = \"rowNumber\" style = \"font-weight: bold; text-align: right;\">3</td><td style = \"text-align: left;\">10032T</td><td style = \"text-align: left;\">NJHC-00006</td><td style = \"text-align: left;\">NJC</td><td style = \"text-align: left;\">GOLD 2</td><td style = \"text-align: left;\">Female</td><td style = \"text-align: right;\">66.3</td><td style = \"text-align: left;\">White</td><td style = \"text-align: right;\">31.78</td><td style = \"text-align: left;\">Former smoker</td><td style = \"text-align: right;\">40.0</td><td style = \"text-align: right;\">0.61</td><td style = \"text-align: right;\">63.2</td><td style = \"text-align: right;\">6.45937</td><td style = \"text-align: right;\">1</td></tr></tbody></table></div>"
      ],
      "text/latex": [
       "\\begin{tabular}{r|ccccccccc}\n",
       "\t& sid & sample\\_name & ccenter & finalgold\\_visit & gender & age\\_visit & race & BMI & \\\\\n",
       "\t\\hline\n",
       "\t& String7 & String15 & String3 & String7 & String7 & Float64 & String31 & Float64 & \\\\\n",
       "\t\\hline\n",
       "\t1 & 10010J & NJHC-00611 & NJC & GOLD 2 & Female & 73.5 & White & 27.51 & $\\dots$ \\\\\n",
       "\t2 & 10031R & NJHC-00004 & NJC & GOLD 2 & Male & 66.3 & White & 22.77 & $\\dots$ \\\\\n",
       "\t3 & 10032T & NJHC-00006 & NJC & GOLD 2 & Female & 66.3 & White & 31.78 & $\\dots$ \\\\\n",
       "\\end{tabular}\n"
      ],
      "text/plain": [
       "\u001b[1m3×14 DataFrame\u001b[0m\n",
       "\u001b[1m Row \u001b[0m│\u001b[1m sid     \u001b[0m\u001b[1m sample_name \u001b[0m\u001b[1m ccenter \u001b[0m\u001b[1m finalgold_visit \u001b[0m\u001b[1m gender  \u001b[0m\u001b[1m age_visit \u001b[0m\u001b[1m rac\u001b[0m ⋯\n",
       "     │\u001b[90m String7 \u001b[0m\u001b[90m String15    \u001b[0m\u001b[90m String3 \u001b[0m\u001b[90m String7         \u001b[0m\u001b[90m String7 \u001b[0m\u001b[90m Float64   \u001b[0m\u001b[90m Str\u001b[0m ⋯\n",
       "─────┼──────────────────────────────────────────────────────────────────────────\n",
       "   1 │ 10010J   NJHC-00611   NJC      GOLD 2           Female        73.5  Whi ⋯\n",
       "   2 │ 10031R   NJHC-00004   NJC      GOLD 2           Male          66.3  Whi\n",
       "   3 │ 10032T   NJHC-00006   NJC      GOLD 2           Female        66.3  Whi\n",
       "\u001b[36m                                                               8 columns omitted\u001b[0m"
      ]
     },
     "execution_count": 4,
     "metadata": {},
     "output_type": "execute_result"
    }
   ],
   "source": [
    "fileIndividuals = realpath(joinpath(@__DIR__,\"..\",\"..\",\"data\",\"raw\",\"COPDGene\",\"COPDGene_ClinicalCovariates.csv\"))\n",
    "dfIndividuals = CSV.read(fileIndividuals, DataFrame;  delim = ',', missingstring = \"NA\");\n",
    "first(dfIndividuals, 3)"
   ]
  },
  {
   "cell_type": "markdown",
   "id": "62c5b1c3",
   "metadata": {},
   "source": [
    "#### Metabolites References"
   ]
  },
  {
   "cell_type": "code",
   "execution_count": 5,
   "id": "a0bcb820",
   "metadata": {
    "tags": []
   },
   "outputs": [
    {
     "data": {
      "text/plain": [
       "14-element Vector{String}:\n",
       " \"MetaID\"\n",
       " \"PATHWAY.SORTORDER\"\n",
       " \"BIOCHEMICAL\"\n",
       " \"SUPER.PATHWAY\"\n",
       " \"SUB.PATHWAY\"\n",
       " \"COMP.ID\"\n",
       " \"PLATFORM\"\n",
       " \"CHEMICAL.ID\"\n",
       " \"RI\"\n",
       " \"MASS\"\n",
       " \"PUBCHEM\"\n",
       " \"CAS\"\n",
       " \"KEGG\"\n",
       " \"Group.HMDB\""
      ]
     },
     "execution_count": 5,
     "metadata": {},
     "output_type": "execute_result"
    }
   ],
   "source": [
    "# Reference metabolomics\n",
    "fileRefMetabo = realpath(joinpath(@__DIR__,\"..\",\"..\",\"data\",\"raw\",\"COPDGene\",\n",
    "                                  \"COPDGene_2018_Metabolon_metabolite_metadata.txt\"))\n",
    "prepend(fileRefMetabo, \"MetaID\t\")\n",
    "fileRefMetabo = realpath(joinpath(@__DIR__,\"..\",\"..\",\"data\",\"raw\",\"COPDGene\",\n",
    "                                  \"new_COPDGene_2018_Metabolon_metabolite_metadata.txt\"))\n",
    "dfRefMetabo = CSV.read(fileRefMetabo, DataFrame;  delim = '\t');\n",
    "rm(fileRefMetabo);\n",
    "names(dfRefMetabo)"
   ]
  },
  {
   "cell_type": "markdown",
   "id": "ab6291ad",
   "metadata": {},
   "source": [
    "Notes: we added `MetaID` variable name.  "
   ]
  },
  {
   "cell_type": "markdown",
   "id": "9349f411",
   "metadata": {},
   "source": [
    "#### Negative"
   ]
  },
  {
   "cell_type": "code",
   "execution_count": 6,
   "id": "fcfb3814-f53d-4493-81d3-69332813f293",
   "metadata": {},
   "outputs": [
    {
     "data": {
      "text/html": [
       "<div><div style = \"float: left;\"><span>3×1299 DataFrame</span></div><div style = \"float: right;\"><span style = \"font-style: italic;\">1199 columns omitted</span></div><div style = \"clear: both;\"></div></div><div class = \"data-frame\" style = \"overflow-x: scroll;\"><table class = \"data-frame\" style = \"margin-bottom: 6px;\"><thead><tr class = \"header\"><th class = \"rowNumber\" style = \"font-weight: bold; text-align: right;\">Row</th><th style = \"text-align: left;\">MetaID</th><th style = \"text-align: left;\">NJHC-00001</th><th style = \"text-align: left;\">NJHC-00002</th><th style = \"text-align: left;\">NJHC-00003</th><th style = \"text-align: left;\">NJHC-00004</th><th style = \"text-align: left;\">NJHC-00005</th><th style = \"text-align: left;\">NJHC-00006</th><th style = \"text-align: left;\">NJHC-00007</th><th style = \"text-align: left;\">NJHC-00008</th><th style = \"text-align: left;\">NJHC-00009</th><th style = \"text-align: left;\">NJHC-00010</th><th style = \"text-align: left;\">NJHC-00011</th><th style = \"text-align: left;\">NJHC-00012</th><th style = \"text-align: left;\">NJHC-00013</th><th style = \"text-align: left;\">NJHC-00014</th><th style = \"text-align: left;\">NJHC-00015</th><th style = \"text-align: left;\">NJHC-00016</th><th style = \"text-align: left;\">NJHC-00017</th><th style = \"text-align: left;\">NJHC-00018</th><th style = \"text-align: left;\">NJHC-00019</th><th style = \"text-align: left;\">NJHC-00020</th><th style = \"text-align: left;\">NJHC-00021</th><th style = \"text-align: left;\">NJHC-00022</th><th style = \"text-align: left;\">NJHC-00023</th><th style = \"text-align: left;\">NJHC-00024</th><th style = \"text-align: left;\">NJHC-00025</th><th style = \"text-align: left;\">NJHC-00026</th><th style = \"text-align: left;\">NJHC-00027</th><th style = \"text-align: left;\">NJHC-00028</th><th style = \"text-align: left;\">NJHC-00029</th><th style = \"text-align: left;\">NJHC-00030</th><th style = \"text-align: left;\">NJHC-00031</th><th style = \"text-align: left;\">NJHC-00032</th><th style = \"text-align: left;\">NJHC-00033</th><th style = \"text-align: left;\">NJHC-00034</th><th style = \"text-align: left;\">NJHC-00035</th><th style = \"text-align: left;\">NJHC-00036</th><th style = \"text-align: left;\">NJHC-00037</th><th style = \"text-align: left;\">NJHC-00038</th><th style = \"text-align: left;\">NJHC-00039</th><th style = \"text-align: left;\">NJHC-00040</th><th style = \"text-align: left;\">NJHC-00041</th><th style = \"text-align: left;\">NJHC-00042</th><th style = \"text-align: left;\">NJHC-00043</th><th style = \"text-align: left;\">NJHC-00044</th><th style = \"text-align: left;\">NJHC-00045</th><th style = \"text-align: left;\">NJHC-00046</th><th style = \"text-align: left;\">NJHC-00047</th><th style = \"text-align: left;\">NJHC-00048</th><th style = \"text-align: left;\">NJHC-00049</th><th style = \"text-align: left;\">NJHC-00050</th><th style = \"text-align: left;\">NJHC-00051</th><th style = \"text-align: left;\">NJHC-00052</th><th style = \"text-align: left;\">NJHC-00053</th><th style = \"text-align: left;\">NJHC-00054</th><th style = \"text-align: left;\">NJHC-00055</th><th style = \"text-align: left;\">NJHC-00056</th><th style = \"text-align: left;\">NJHC-00057</th><th style = \"text-align: left;\">NJHC-00058</th><th style = \"text-align: left;\">NJHC-00059</th><th style = \"text-align: left;\">NJHC-00060</th><th style = \"text-align: left;\">NJHC-00061</th><th style = \"text-align: left;\">NJHC-00062</th><th style = \"text-align: left;\">NJHC-00063</th><th style = \"text-align: left;\">NJHC-00064</th><th style = \"text-align: left;\">NJHC-00065</th><th style = \"text-align: left;\">NJHC-00066</th><th style = \"text-align: left;\">NJHC-00067</th><th style = \"text-align: left;\">NJHC-00068</th><th style = \"text-align: left;\">NJHC-00069</th><th style = \"text-align: left;\">NJHC-00070</th><th style = \"text-align: left;\">NJHC-00071</th><th style = \"text-align: left;\">NJHC-00072</th><th style = \"text-align: left;\">NJHC-00073</th><th style = \"text-align: left;\">NJHC-00074</th><th style = \"text-align: left;\">NJHC-00075</th><th style = \"text-align: left;\">NJHC-00076</th><th style = \"text-align: left;\">NJHC-00077</th><th style = \"text-align: left;\">NJHC-00078</th><th style = \"text-align: left;\">NJHC-00079</th><th style = \"text-align: left;\">NJHC-00080</th><th style = \"text-align: left;\">NJHC-00081</th><th style = \"text-align: left;\">NJHC-00082</th><th style = \"text-align: left;\">NJHC-00083</th><th style = \"text-align: left;\">NJHC-00084</th><th style = \"text-align: left;\">NJHC-00085</th><th style = \"text-align: left;\">NJHC-00086</th><th style = \"text-align: left;\">NJHC-00087</th><th style = \"text-align: left;\">NJHC-00088</th><th style = \"text-align: left;\">NJHC-00089</th><th style = \"text-align: left;\">NJHC-00090</th><th style = \"text-align: left;\">NJHC-00091</th><th style = \"text-align: left;\">NJHC-00092</th><th style = \"text-align: left;\">NJHC-00093</th><th style = \"text-align: left;\">NJHC-00094</th><th style = \"text-align: left;\">NJHC-00095</th><th style = \"text-align: left;\">NJHC-00096</th><th style = \"text-align: left;\">NJHC-00097</th><th style = \"text-align: left;\">NJHC-00098</th><th style = \"text-align: left;\">NJHC-00099</th><th style = \"text-align: right;\">&ctdot;</th></tr><tr class = \"subheader headerLastRow\"><th class = \"rowNumber\" style = \"font-weight: bold; text-align: right;\"></th><th title = \"String15\" style = \"text-align: left;\">String15</th><th title = \"Union{Missing, Int64}\" style = \"text-align: left;\">Int64?</th><th title = \"Union{Missing, Int64}\" style = \"text-align: left;\">Int64?</th><th title = \"Union{Missing, Int64}\" style = \"text-align: left;\">Int64?</th><th title = \"Union{Missing, Int64}\" style = \"text-align: left;\">Int64?</th><th title = \"Union{Missing, Int64}\" style = \"text-align: left;\">Int64?</th><th title = \"Union{Missing, Int64}\" style = \"text-align: left;\">Int64?</th><th title = \"Union{Missing, Int64}\" style = \"text-align: left;\">Int64?</th><th title = \"Union{Missing, Int64}\" style = \"text-align: left;\">Int64?</th><th title = \"Union{Missing, Int64}\" style = \"text-align: left;\">Int64?</th><th title = \"Union{Missing, Int64}\" style = \"text-align: left;\">Int64?</th><th title = \"Union{Missing, Int64}\" style = \"text-align: left;\">Int64?</th><th title = \"Union{Missing, Int64}\" style = \"text-align: left;\">Int64?</th><th title = \"Union{Missing, Int64}\" style = \"text-align: left;\">Int64?</th><th title = \"Union{Missing, Int64}\" style = \"text-align: left;\">Int64?</th><th title = \"Union{Missing, Int64}\" style = \"text-align: left;\">Int64?</th><th title = \"Union{Missing, Int64}\" style = \"text-align: left;\">Int64?</th><th title = \"Union{Missing, Int64}\" style = \"text-align: left;\">Int64?</th><th title = \"Union{Missing, Int64}\" style = \"text-align: left;\">Int64?</th><th title = \"Union{Missing, Int64}\" style = \"text-align: left;\">Int64?</th><th title = \"Union{Missing, Int64}\" style = \"text-align: left;\">Int64?</th><th title = \"Union{Missing, Int64}\" style = \"text-align: left;\">Int64?</th><th title = \"Union{Missing, Int64}\" style = \"text-align: left;\">Int64?</th><th title = \"Union{Missing, Int64}\" style = \"text-align: left;\">Int64?</th><th title = \"Union{Missing, Int64}\" style = \"text-align: left;\">Int64?</th><th title = \"Union{Missing, Int64}\" style = \"text-align: left;\">Int64?</th><th title = \"Union{Missing, Int64}\" style = \"text-align: left;\">Int64?</th><th title = \"Union{Missing, Int64}\" style = \"text-align: left;\">Int64?</th><th title = \"Union{Missing, Int64}\" style = \"text-align: left;\">Int64?</th><th title = \"Union{Missing, Int64}\" style = \"text-align: left;\">Int64?</th><th title = \"Union{Missing, Int64}\" style = \"text-align: left;\">Int64?</th><th title = \"Union{Missing, Int64}\" style = \"text-align: left;\">Int64?</th><th title = \"Union{Missing, Int64}\" style = \"text-align: left;\">Int64?</th><th title = \"Union{Missing, Int64}\" style = \"text-align: left;\">Int64?</th><th title = \"Union{Missing, Int64}\" style = \"text-align: left;\">Int64?</th><th title = \"Union{Missing, Int64}\" style = \"text-align: left;\">Int64?</th><th title = \"Union{Missing, Int64}\" style = \"text-align: left;\">Int64?</th><th title = \"Union{Missing, Int64}\" style = \"text-align: left;\">Int64?</th><th title = \"Union{Missing, Int64}\" style = \"text-align: left;\">Int64?</th><th title = \"Union{Missing, Int64}\" style = \"text-align: left;\">Int64?</th><th title = \"Union{Missing, Int64}\" style = \"text-align: left;\">Int64?</th><th title = \"Union{Missing, Int64}\" style = \"text-align: left;\">Int64?</th><th title = \"Union{Missing, Int64}\" style = \"text-align: left;\">Int64?</th><th title = \"Union{Missing, Int64}\" style = \"text-align: left;\">Int64?</th><th title = \"Union{Missing, Int64}\" style = \"text-align: left;\">Int64?</th><th title = \"Union{Missing, Int64}\" style = \"text-align: left;\">Int64?</th><th title = \"Union{Missing, Int64}\" style = \"text-align: left;\">Int64?</th><th title = \"Union{Missing, Int64}\" style = \"text-align: left;\">Int64?</th><th title = \"Union{Missing, Int64}\" style = \"text-align: left;\">Int64?</th><th title = \"Union{Missing, Int64}\" style = \"text-align: left;\">Int64?</th><th title = \"Union{Missing, Int64}\" style = \"text-align: left;\">Int64?</th><th title = \"Union{Missing, Int64}\" style = \"text-align: left;\">Int64?</th><th title = \"Union{Missing, Int64}\" style = \"text-align: left;\">Int64?</th><th title = \"Union{Missing, Int64}\" style = \"text-align: left;\">Int64?</th><th title = \"Union{Missing, Int64}\" style = \"text-align: left;\">Int64?</th><th title = \"Union{Missing, Int64}\" style = \"text-align: left;\">Int64?</th><th title = \"Union{Missing, Int64}\" style = \"text-align: left;\">Int64?</th><th title = \"Union{Missing, Int64}\" style = \"text-align: left;\">Int64?</th><th title = \"Union{Missing, Int64}\" style = \"text-align: left;\">Int64?</th><th title = \"Union{Missing, Int64}\" style = \"text-align: left;\">Int64?</th><th title = \"Union{Missing, Int64}\" style = \"text-align: left;\">Int64?</th><th title = \"Union{Missing, Int64}\" style = \"text-align: left;\">Int64?</th><th title = \"Union{Missing, Int64}\" style = \"text-align: left;\">Int64?</th><th title = \"Union{Missing, Int64}\" style = \"text-align: left;\">Int64?</th><th title = \"Union{Missing, Int64}\" style = \"text-align: left;\">Int64?</th><th title = \"Union{Missing, Int64}\" style = \"text-align: left;\">Int64?</th><th title = \"Union{Missing, Int64}\" style = \"text-align: left;\">Int64?</th><th title = \"Union{Missing, Int64}\" style = \"text-align: left;\">Int64?</th><th title = \"Union{Missing, Int64}\" style = \"text-align: left;\">Int64?</th><th title = \"Union{Missing, Int64}\" style = \"text-align: left;\">Int64?</th><th title = \"Union{Missing, Int64}\" style = \"text-align: left;\">Int64?</th><th title = \"Union{Missing, Int64}\" style = \"text-align: left;\">Int64?</th><th title = \"Union{Missing, Int64}\" style = \"text-align: left;\">Int64?</th><th title = \"Union{Missing, Int64}\" style = \"text-align: left;\">Int64?</th><th title = \"Union{Missing, Int64}\" style = \"text-align: left;\">Int64?</th><th title = \"Union{Missing, Int64}\" style = \"text-align: left;\">Int64?</th><th title = \"Union{Missing, Int64}\" style = \"text-align: left;\">Int64?</th><th title = \"Union{Missing, Int64}\" style = \"text-align: left;\">Int64?</th><th title = \"Union{Missing, Int64}\" style = \"text-align: left;\">Int64?</th><th title = \"Union{Missing, Int64}\" style = \"text-align: left;\">Int64?</th><th title = \"Union{Missing, Int64}\" style = \"text-align: left;\">Int64?</th><th title = \"Union{Missing, Int64}\" style = \"text-align: left;\">Int64?</th><th title = \"Union{Missing, Int64}\" style = \"text-align: left;\">Int64?</th><th title = \"Union{Missing, Int64}\" style = \"text-align: left;\">Int64?</th><th title = \"Union{Missing, Int64}\" style = \"text-align: left;\">Int64?</th><th title = \"Union{Missing, Int64}\" style = \"text-align: left;\">Int64?</th><th title = \"Union{Missing, Int64}\" style = \"text-align: left;\">Int64?</th><th title = \"Union{Missing, Int64}\" style = \"text-align: left;\">Int64?</th><th title = \"Union{Missing, Int64}\" style = \"text-align: left;\">Int64?</th><th title = \"Union{Missing, Int64}\" style = \"text-align: left;\">Int64?</th><th title = \"Union{Missing, Int64}\" style = \"text-align: left;\">Int64?</th><th title = \"Union{Missing, Int64}\" style = \"text-align: left;\">Int64?</th><th title = \"Union{Missing, Int64}\" style = \"text-align: left;\">Int64?</th><th title = \"Union{Missing, Int64}\" style = \"text-align: left;\">Int64?</th><th title = \"Union{Missing, Int64}\" style = \"text-align: left;\">Int64?</th><th title = \"Union{Missing, Int64}\" style = \"text-align: left;\">Int64?</th><th title = \"Union{Missing, Int64}\" style = \"text-align: left;\">Int64?</th><th title = \"Union{Missing, Int64}\" style = \"text-align: left;\">Int64?</th><th title = \"Union{Missing, Int64}\" style = \"text-align: left;\">Int64?</th><th title = \"Union{Missing, Int64}\" style = \"text-align: left;\">Int64?</th><th title = \"Union{Missing, Int64}\" style = \"text-align: right;\">&ctdot;</th></tr></thead><tbody><tr><td class = \"rowNumber\" style = \"font-weight: bold; text-align: right;\">1</td><td style = \"text-align: left;\">269.2487_5695</td><td style = \"text-align: right;\">14645215</td><td style = \"text-align: right;\">12250810</td><td style = \"text-align: right;\">39229008</td><td style = \"text-align: right;\">28395564</td><td style = \"text-align: right;\">14379270</td><td style = \"text-align: right;\">44211984</td><td style = \"text-align: right;\">16467170</td><td style = \"text-align: right;\">16227623</td><td style = \"text-align: right;\">15019852</td><td style = \"text-align: right;\">20799962</td><td style = \"text-align: right;\">29706168</td><td style = \"text-align: right;\">25535100</td><td style = \"text-align: right;\">9586948</td><td style = \"text-align: right;\">22517184</td><td style = \"text-align: right;\">56898536</td><td style = \"text-align: right;\">56296492</td><td style = \"text-align: right;\">21833808</td><td style = \"text-align: right;\">4937165</td><td style = \"text-align: right;\">4735985</td><td style = \"text-align: right;\">26270196</td><td style = \"text-align: right;\">14496632</td><td style = \"text-align: right;\">23382212</td><td style = \"text-align: right;\">20510984</td><td style = \"text-align: right;\">24311378</td><td style = \"text-align: right;\">10608024</td><td style = \"text-align: right;\">8444278</td><td style = \"text-align: right;\">30804274</td><td style = \"text-align: right;\">50677392</td><td style = \"text-align: right;\">24867992</td><td style = \"text-align: right;\">47104156</td><td style = \"text-align: right;\">15458106</td><td style = \"text-align: right;\">12371223</td><td style = \"text-align: right;\">24581490</td><td style = \"text-align: right;\">54990800</td><td style = \"text-align: right;\">41763248</td><td style = \"text-align: right;\">11207133</td><td style = \"text-align: right;\">11251844</td><td style = \"text-align: right;\">31312040</td><td style = \"text-align: right;\">24617468</td><td style = \"text-align: right;\">6255557</td><td style = \"text-align: right;\">33717760</td><td style = \"text-align: right;\">15356847</td><td style = \"text-align: right;\">22476164</td><td style = \"text-align: right;\">43162528</td><td style = \"text-align: right;\">37742300</td><td style = \"text-align: right;\">14580738</td><td style = \"text-align: right;\">13791452</td><td style = \"text-align: right;\">32409300</td><td style = \"text-align: right;\">73718752</td><td style = \"text-align: right;\">18193894</td><td style = \"text-align: right;\">7775309</td><td style = \"text-align: right;\">34075144</td><td style = \"font-style: italic; text-align: right;\">missing</td><td style = \"text-align: right;\">36290540</td><td style = \"text-align: right;\">46649920</td><td style = \"text-align: right;\">20734692</td><td style = \"text-align: right;\">54342244</td><td style = \"text-align: right;\">17637528</td><td style = \"text-align: right;\">12731912</td><td style = \"text-align: right;\">14650401</td><td style = \"text-align: right;\">8045201</td><td style = \"text-align: right;\">49065896</td><td style = \"text-align: right;\">70326936</td><td style = \"text-align: right;\">37275224</td><td style = \"text-align: right;\">40644532</td><td style = \"text-align: right;\">31332060</td><td style = \"text-align: right;\">14306159</td><td style = \"text-align: right;\">10877687</td><td style = \"text-align: right;\">37521144</td><td style = \"text-align: right;\">18283848</td><td style = \"text-align: right;\">32888236</td><td style = \"text-align: right;\">16612095</td><td style = \"text-align: right;\">17097952</td><td style = \"text-align: right;\">13372071</td><td style = \"text-align: right;\">17342564</td><td style = \"text-align: right;\">24599240</td><td style = \"text-align: right;\">12965600</td><td style = \"text-align: right;\">37617440</td><td style = \"text-align: right;\">17376328</td><td style = \"text-align: right;\">17566122</td><td style = \"text-align: right;\">29175032</td><td style = \"text-align: right;\">58959268</td><td style = \"text-align: right;\">26356610</td><td style = \"text-align: right;\">32699770</td><td style = \"text-align: right;\">12893517</td><td style = \"text-align: right;\">32939658</td><td style = \"text-align: right;\">31451954</td><td style = \"text-align: right;\">28670286</td><td style = \"text-align: right;\">109673288</td><td style = \"text-align: right;\">46019052</td><td style = \"text-align: right;\">77713864</td><td style = \"text-align: right;\">3815924</td><td style = \"text-align: right;\">46630068</td><td style = \"text-align: right;\">23065780</td><td style = \"text-align: right;\">10092947</td><td style = \"text-align: right;\">33254436</td><td style = \"text-align: right;\">35778704</td><td style = \"text-align: right;\">8737568</td><td style = \"text-align: right;\">10300475</td><td style = \"text-align: right;\">&ctdot;</td></tr><tr><td class = \"rowNumber\" style = \"font-weight: bold; text-align: right;\">2</td><td style = \"text-align: left;\">343.2279_5565</td><td style = \"font-style: italic; text-align: right;\">missing</td><td style = \"font-style: italic; text-align: right;\">missing</td><td style = \"font-style: italic; text-align: right;\">missing</td><td style = \"font-style: italic; text-align: right;\">missing</td><td style = \"font-style: italic; text-align: right;\">missing</td><td style = \"font-style: italic; text-align: right;\">missing</td><td style = \"font-style: italic; text-align: right;\">missing</td><td style = \"font-style: italic; text-align: right;\">missing</td><td style = \"font-style: italic; text-align: right;\">missing</td><td style = \"font-style: italic; text-align: right;\">missing</td><td style = \"font-style: italic; text-align: right;\">missing</td><td style = \"font-style: italic; text-align: right;\">missing</td><td style = \"font-style: italic; text-align: right;\">missing</td><td style = \"font-style: italic; text-align: right;\">missing</td><td style = \"font-style: italic; text-align: right;\">missing</td><td style = \"font-style: italic; text-align: right;\">missing</td><td style = \"font-style: italic; text-align: right;\">missing</td><td style = \"text-align: right;\">1731933</td><td style = \"font-style: italic; text-align: right;\">missing</td><td style = \"font-style: italic; text-align: right;\">missing</td><td style = \"font-style: italic; text-align: right;\">missing</td><td style = \"font-style: italic; text-align: right;\">missing</td><td style = \"font-style: italic; text-align: right;\">missing</td><td style = \"font-style: italic; text-align: right;\">missing</td><td style = \"font-style: italic; text-align: right;\">missing</td><td style = \"text-align: right;\">71028</td><td style = \"font-style: italic; text-align: right;\">missing</td><td style = \"font-style: italic; text-align: right;\">missing</td><td style = \"font-style: italic; text-align: right;\">missing</td><td style = \"font-style: italic; text-align: right;\">missing</td><td style = \"font-style: italic; text-align: right;\">missing</td><td style = \"font-style: italic; text-align: right;\">missing</td><td style = \"font-style: italic; text-align: right;\">missing</td><td style = \"font-style: italic; text-align: right;\">missing</td><td style = \"font-style: italic; text-align: right;\">missing</td><td style = \"font-style: italic; text-align: right;\">missing</td><td style = \"font-style: italic; text-align: right;\">missing</td><td style = \"font-style: italic; text-align: right;\">missing</td><td style = \"font-style: italic; text-align: right;\">missing</td><td style = \"font-style: italic; text-align: right;\">missing</td><td style = \"font-style: italic; text-align: right;\">missing</td><td style = \"font-style: italic; text-align: right;\">missing</td><td style = \"font-style: italic; text-align: right;\">missing</td><td style = \"font-style: italic; text-align: right;\">missing</td><td style = \"font-style: italic; text-align: right;\">missing</td><td style = \"font-style: italic; text-align: right;\">missing</td><td style = \"font-style: italic; text-align: right;\">missing</td><td style = \"font-style: italic; text-align: right;\">missing</td><td style = \"font-style: italic; text-align: right;\">missing</td><td style = \"font-style: italic; text-align: right;\">missing</td><td style = \"font-style: italic; text-align: right;\">missing</td><td style = \"font-style: italic; text-align: right;\">missing</td><td style = \"font-style: italic; text-align: right;\">missing</td><td style = \"font-style: italic; text-align: right;\">missing</td><td style = \"font-style: italic; text-align: right;\">missing</td><td style = \"font-style: italic; text-align: right;\">missing</td><td style = \"font-style: italic; text-align: right;\">missing</td><td style = \"font-style: italic; text-align: right;\">missing</td><td style = \"font-style: italic; text-align: right;\">missing</td><td style = \"font-style: italic; text-align: right;\">missing</td><td style = \"font-style: italic; text-align: right;\">missing</td><td style = \"font-style: italic; text-align: right;\">missing</td><td style = \"font-style: italic; text-align: right;\">missing</td><td style = \"font-style: italic; text-align: right;\">missing</td><td style = \"font-style: italic; text-align: right;\">missing</td><td style = \"font-style: italic; text-align: right;\">missing</td><td style = \"font-style: italic; text-align: right;\">missing</td><td style = \"font-style: italic; text-align: right;\">missing</td><td style = \"font-style: italic; text-align: right;\">missing</td><td style = \"font-style: italic; text-align: right;\">missing</td><td style = \"font-style: italic; text-align: right;\">missing</td><td style = \"font-style: italic; text-align: right;\">missing</td><td style = \"font-style: italic; text-align: right;\">missing</td><td style = \"font-style: italic; text-align: right;\">missing</td><td style = \"font-style: italic; text-align: right;\">missing</td><td style = \"font-style: italic; text-align: right;\">missing</td><td style = \"font-style: italic; text-align: right;\">missing</td><td style = \"font-style: italic; text-align: right;\">missing</td><td style = \"font-style: italic; text-align: right;\">missing</td><td style = \"font-style: italic; text-align: right;\">missing</td><td style = \"font-style: italic; text-align: right;\">missing</td><td style = \"font-style: italic; text-align: right;\">missing</td><td style = \"font-style: italic; text-align: right;\">missing</td><td style = \"font-style: italic; text-align: right;\">missing</td><td style = \"font-style: italic; text-align: right;\">missing</td><td style = \"font-style: italic; text-align: right;\">missing</td><td style = \"font-style: italic; text-align: right;\">missing</td><td style = \"font-style: italic; text-align: right;\">missing</td><td style = \"font-style: italic; text-align: right;\">missing</td><td style = \"font-style: italic; text-align: right;\">missing</td><td style = \"font-style: italic; text-align: right;\">missing</td><td style = \"font-style: italic; text-align: right;\">missing</td><td style = \"font-style: italic; text-align: right;\">missing</td><td style = \"font-style: italic; text-align: right;\">missing</td><td style = \"font-style: italic; text-align: right;\">missing</td><td style = \"font-style: italic; text-align: right;\">missing</td><td style = \"font-style: italic; text-align: right;\">missing</td><td style = \"font-style: italic; text-align: right;\">missing</td><td style = \"font-style: italic; text-align: right;\">missing</td><td style = \"text-align: right;\">&ctdot;</td></tr><tr><td class = \"rowNumber\" style = \"font-weight: bold; text-align: right;\">3</td><td style = \"text-align: left;\">297.2799_5993</td><td style = \"text-align: right;\">1256341</td><td style = \"text-align: right;\">1258159</td><td style = \"text-align: right;\">2752392</td><td style = \"text-align: right;\">2152307</td><td style = \"text-align: right;\">1613780</td><td style = \"text-align: right;\">2938257</td><td style = \"text-align: right;\">1345865</td><td style = \"text-align: right;\">1718685</td><td style = \"text-align: right;\">1114043</td><td style = \"text-align: right;\">2216420</td><td style = \"text-align: right;\">1658358</td><td style = \"text-align: right;\">2601791</td><td style = \"text-align: right;\">708494</td><td style = \"text-align: right;\">1234370</td><td style = \"text-align: right;\">3538976</td><td style = \"text-align: right;\">3594802</td><td style = \"text-align: right;\">1902523</td><td style = \"text-align: right;\">358802</td><td style = \"text-align: right;\">350889</td><td style = \"text-align: right;\">2084579</td><td style = \"text-align: right;\">1500283</td><td style = \"text-align: right;\">2049429</td><td style = \"text-align: right;\">1873334</td><td style = \"text-align: right;\">1653137</td><td style = \"text-align: right;\">868423</td><td style = \"text-align: right;\">574230</td><td style = \"text-align: right;\">2219986</td><td style = \"text-align: right;\">4564478</td><td style = \"text-align: right;\">2201262</td><td style = \"text-align: right;\">3313321</td><td style = \"text-align: right;\">1324218</td><td style = \"text-align: right;\">1457579</td><td style = \"text-align: right;\">1613993</td><td style = \"text-align: right;\">3229421</td><td style = \"text-align: right;\">2772336</td><td style = \"text-align: right;\">1334369</td><td style = \"text-align: right;\">1109977</td><td style = \"text-align: right;\">2655990</td><td style = \"text-align: right;\">2206343</td><td style = \"text-align: right;\">531979</td><td style = \"text-align: right;\">3026148</td><td style = \"text-align: right;\">1053006</td><td style = \"text-align: right;\">1581943</td><td style = \"text-align: right;\">2627046</td><td style = \"text-align: right;\">2199166</td><td style = \"text-align: right;\">1173941</td><td style = \"text-align: right;\">884745</td><td style = \"text-align: right;\">2350687</td><td style = \"text-align: right;\">5922540</td><td style = \"text-align: right;\">1451981</td><td style = \"text-align: right;\">551181</td><td style = \"text-align: right;\">1966912</td><td style = \"text-align: right;\">1279290</td><td style = \"text-align: right;\">3202938</td><td style = \"text-align: right;\">4261504</td><td style = \"text-align: right;\">1594989</td><td style = \"text-align: right;\">3104491</td><td style = \"text-align: right;\">1739338</td><td style = \"text-align: right;\">1533419</td><td style = \"text-align: right;\">1179091</td><td style = \"text-align: right;\">950056</td><td style = \"text-align: right;\">1894281</td><td style = \"text-align: right;\">4146206</td><td style = \"text-align: right;\">2776697</td><td style = \"text-align: right;\">3783060</td><td style = \"text-align: right;\">2589925</td><td style = \"text-align: right;\">1519708</td><td style = \"text-align: right;\">976180</td><td style = \"text-align: right;\">2853361</td><td style = \"text-align: right;\">1617084</td><td style = \"text-align: right;\">2296187</td><td style = \"text-align: right;\">1212603</td><td style = \"text-align: right;\">1350967</td><td style = \"text-align: right;\">820901</td><td style = \"text-align: right;\">1597577</td><td style = \"text-align: right;\">1924371</td><td style = \"text-align: right;\">1015980</td><td style = \"text-align: right;\">2376861</td><td style = \"text-align: right;\">1594693</td><td style = \"text-align: right;\">1805737</td><td style = \"text-align: right;\">2258904</td><td style = \"text-align: right;\">3682072</td><td style = \"text-align: right;\">1385506</td><td style = \"text-align: right;\">2438157</td><td style = \"text-align: right;\">945808</td><td style = \"text-align: right;\">2237800</td><td style = \"text-align: right;\">3319533</td><td style = \"text-align: right;\">1862662</td><td style = \"text-align: right;\">6247282</td><td style = \"text-align: right;\">2859824</td><td style = \"text-align: right;\">4160534</td><td style = \"text-align: right;\">412303</td><td style = \"text-align: right;\">4035304</td><td style = \"text-align: right;\">1628071</td><td style = \"text-align: right;\">789484</td><td style = \"text-align: right;\">2536151</td><td style = \"text-align: right;\">3433497</td><td style = \"text-align: right;\">602695</td><td style = \"text-align: right;\">692577</td><td style = \"text-align: right;\">&ctdot;</td></tr></tbody></table></div>"
      ],
      "text/latex": [
       "\\begin{tabular}{r|cccccccc}\n",
       "\t& MetaID & NJHC-00001 & NJHC-00002 & NJHC-00003 & NJHC-00004 & NJHC-00005 & NJHC-00006 & \\\\\n",
       "\t\\hline\n",
       "\t& String15 & Int64? & Int64? & Int64? & Int64? & Int64? & Int64? & \\\\\n",
       "\t\\hline\n",
       "\t1 & 269.2487\\_5695 & 14645215 & 12250810 & 39229008 & 28395564 & 14379270 & 44211984 & $\\dots$ \\\\\n",
       "\t2 & 343.2279\\_5565 & \\emph{missing} & \\emph{missing} & \\emph{missing} & \\emph{missing} & \\emph{missing} & \\emph{missing} & $\\dots$ \\\\\n",
       "\t3 & 297.2799\\_5993 & 1256341 & 1258159 & 2752392 & 2152307 & 1613780 & 2938257 & $\\dots$ \\\\\n",
       "\\end{tabular}\n"
      ],
      "text/plain": [
       "\u001b[1m3×1299 DataFrame\u001b[0m\n",
       "\u001b[1m Row \u001b[0m│\u001b[1m MetaID        \u001b[0m\u001b[1m NJHC-00001 \u001b[0m\u001b[1m NJHC-00002 \u001b[0m\u001b[1m NJHC-00003 \u001b[0m\u001b[1m NJHC-00004 \u001b[0m\u001b[1m NJHC-000\u001b[0m ⋯\n",
       "     │\u001b[90m String15      \u001b[0m\u001b[90m Int64?     \u001b[0m\u001b[90m Int64?     \u001b[0m\u001b[90m Int64?     \u001b[0m\u001b[90m Int64?     \u001b[0m\u001b[90m Int64?  \u001b[0m ⋯\n",
       "─────┼──────────────────────────────────────────────────────────────────────────\n",
       "   1 │ 269.2487_5695    14645215    12250810    39229008    28395564    143792 ⋯\n",
       "   2 │ 343.2279_5565 \u001b[90m    missing \u001b[0m\u001b[90m    missing \u001b[0m\u001b[90m    missing \u001b[0m\u001b[90m    missing \u001b[0m\u001b[90m    missi\u001b[0m\n",
       "   3 │ 297.2799_5993     1256341     1258159     2752392     2152307     16137\n",
       "\u001b[36m                                                            1294 columns omitted\u001b[0m"
      ]
     },
     "execution_count": 6,
     "metadata": {},
     "output_type": "execute_result"
    }
   ],
   "source": [
    "fileNegMetabo = realpath(joinpath(@__DIR__,\"..\",\"..\",\"data\",\"raw\",\"COPDGene\",\"neg.txt\"))\n",
    "prepend(fileNegMetabo, \"MetaID\t\")\n",
    "fileNegMetabo = realpath(joinpath(@__DIR__,\"..\",\"..\",\"data\",\"raw\",\"COPDGene\",\"new_neg.txt\"))\n",
    "dfNegMetabo = CSV.read(fileNegMetabo, DataFrame;  delim = '\t', missingstring = \"NA\");\n",
    "rm(fileNegMetabo);\n",
    "first(dfNegMetabo, 3)"
   ]
  },
  {
   "cell_type": "markdown",
   "id": "eac9e26d",
   "metadata": {},
   "source": [
    "#### Polar"
   ]
  },
  {
   "cell_type": "code",
   "execution_count": 7,
   "id": "11ef130c",
   "metadata": {},
   "outputs": [
    {
     "data": {
      "text/html": [
       "<div><div style = \"float: left;\"><span>3×1299 DataFrame</span></div><div style = \"float: right;\"><span style = \"font-style: italic;\">1199 columns omitted</span></div><div style = \"clear: both;\"></div></div><div class = \"data-frame\" style = \"overflow-x: scroll;\"><table class = \"data-frame\" style = \"margin-bottom: 6px;\"><thead><tr class = \"header\"><th class = \"rowNumber\" style = \"font-weight: bold; text-align: right;\">Row</th><th style = \"text-align: left;\">MetaID</th><th style = \"text-align: left;\">NJHC-00001</th><th style = \"text-align: left;\">NJHC-00002</th><th style = \"text-align: left;\">NJHC-00003</th><th style = \"text-align: left;\">NJHC-00004</th><th style = \"text-align: left;\">NJHC-00005</th><th style = \"text-align: left;\">NJHC-00006</th><th style = \"text-align: left;\">NJHC-00007</th><th style = \"text-align: left;\">NJHC-00008</th><th style = \"text-align: left;\">NJHC-00009</th><th style = \"text-align: left;\">NJHC-00010</th><th style = \"text-align: left;\">NJHC-00011</th><th style = \"text-align: left;\">NJHC-00012</th><th style = \"text-align: left;\">NJHC-00013</th><th style = \"text-align: left;\">NJHC-00014</th><th style = \"text-align: left;\">NJHC-00015</th><th style = \"text-align: left;\">NJHC-00016</th><th style = \"text-align: left;\">NJHC-00017</th><th style = \"text-align: left;\">NJHC-00018</th><th style = \"text-align: left;\">NJHC-00019</th><th style = \"text-align: left;\">NJHC-00020</th><th style = \"text-align: left;\">NJHC-00021</th><th style = \"text-align: left;\">NJHC-00022</th><th style = \"text-align: left;\">NJHC-00023</th><th style = \"text-align: left;\">NJHC-00024</th><th style = \"text-align: left;\">NJHC-00025</th><th style = \"text-align: left;\">NJHC-00026</th><th style = \"text-align: left;\">NJHC-00027</th><th style = \"text-align: left;\">NJHC-00028</th><th style = \"text-align: left;\">NJHC-00029</th><th style = \"text-align: left;\">NJHC-00030</th><th style = \"text-align: left;\">NJHC-00031</th><th style = \"text-align: left;\">NJHC-00032</th><th style = \"text-align: left;\">NJHC-00033</th><th style = \"text-align: left;\">NJHC-00034</th><th style = \"text-align: left;\">NJHC-00035</th><th style = \"text-align: left;\">NJHC-00036</th><th style = \"text-align: left;\">NJHC-00037</th><th style = \"text-align: left;\">NJHC-00038</th><th style = \"text-align: left;\">NJHC-00039</th><th style = \"text-align: left;\">NJHC-00040</th><th style = \"text-align: left;\">NJHC-00041</th><th style = \"text-align: left;\">NJHC-00042</th><th style = \"text-align: left;\">NJHC-00043</th><th style = \"text-align: left;\">NJHC-00044</th><th style = \"text-align: left;\">NJHC-00045</th><th style = \"text-align: left;\">NJHC-00046</th><th style = \"text-align: left;\">NJHC-00047</th><th style = \"text-align: left;\">NJHC-00048</th><th style = \"text-align: left;\">NJHC-00049</th><th style = \"text-align: left;\">NJHC-00050</th><th style = \"text-align: left;\">NJHC-00051</th><th style = \"text-align: left;\">NJHC-00052</th><th style = \"text-align: left;\">NJHC-00053</th><th style = \"text-align: left;\">NJHC-00054</th><th style = \"text-align: left;\">NJHC-00055</th><th style = \"text-align: left;\">NJHC-00056</th><th style = \"text-align: left;\">NJHC-00057</th><th style = \"text-align: left;\">NJHC-00058</th><th style = \"text-align: left;\">NJHC-00059</th><th style = \"text-align: left;\">NJHC-00060</th><th style = \"text-align: left;\">NJHC-00061</th><th style = \"text-align: left;\">NJHC-00062</th><th style = \"text-align: left;\">NJHC-00063</th><th style = \"text-align: left;\">NJHC-00064</th><th style = \"text-align: left;\">NJHC-00065</th><th style = \"text-align: left;\">NJHC-00066</th><th style = \"text-align: left;\">NJHC-00067</th><th style = \"text-align: left;\">NJHC-00068</th><th style = \"text-align: left;\">NJHC-00069</th><th style = \"text-align: left;\">NJHC-00070</th><th style = \"text-align: left;\">NJHC-00071</th><th style = \"text-align: left;\">NJHC-00072</th><th style = \"text-align: left;\">NJHC-00073</th><th style = \"text-align: left;\">NJHC-00074</th><th style = \"text-align: left;\">NJHC-00075</th><th style = \"text-align: left;\">NJHC-00076</th><th style = \"text-align: left;\">NJHC-00077</th><th style = \"text-align: left;\">NJHC-00078</th><th style = \"text-align: left;\">NJHC-00079</th><th style = \"text-align: left;\">NJHC-00080</th><th style = \"text-align: left;\">NJHC-00081</th><th style = \"text-align: left;\">NJHC-00082</th><th style = \"text-align: left;\">NJHC-00083</th><th style = \"text-align: left;\">NJHC-00084</th><th style = \"text-align: left;\">NJHC-00085</th><th style = \"text-align: left;\">NJHC-00086</th><th style = \"text-align: left;\">NJHC-00087</th><th style = \"text-align: left;\">NJHC-00088</th><th style = \"text-align: left;\">NJHC-00089</th><th style = \"text-align: left;\">NJHC-00090</th><th style = \"text-align: left;\">NJHC-00091</th><th style = \"text-align: left;\">NJHC-00092</th><th style = \"text-align: left;\">NJHC-00093</th><th style = \"text-align: left;\">NJHC-00094</th><th style = \"text-align: left;\">NJHC-00095</th><th style = \"text-align: left;\">NJHC-00096</th><th style = \"text-align: left;\">NJHC-00097</th><th style = \"text-align: left;\">NJHC-00098</th><th style = \"text-align: left;\">NJHC-00099</th><th style = \"text-align: right;\">&ctdot;</th></tr><tr class = \"subheader headerLastRow\"><th class = \"rowNumber\" style = \"font-weight: bold; text-align: right;\"></th><th title = \"String15\" style = \"text-align: left;\">String15</th><th title = \"Union{Missing, Int64}\" style = \"text-align: left;\">Int64?</th><th title = \"Union{Missing, Int64}\" style = \"text-align: left;\">Int64?</th><th title = \"Union{Missing, Int64}\" style = \"text-align: left;\">Int64?</th><th title = \"Union{Missing, Int64}\" style = \"text-align: left;\">Int64?</th><th title = \"Union{Missing, Int64}\" style = \"text-align: left;\">Int64?</th><th title = \"Union{Missing, Int64}\" style = \"text-align: left;\">Int64?</th><th title = \"Union{Missing, Int64}\" style = \"text-align: left;\">Int64?</th><th title = \"Union{Missing, Int64}\" style = \"text-align: left;\">Int64?</th><th title = \"Union{Missing, Int64}\" style = \"text-align: left;\">Int64?</th><th title = \"Union{Missing, Int64}\" style = \"text-align: left;\">Int64?</th><th title = \"Union{Missing, Int64}\" style = \"text-align: left;\">Int64?</th><th title = \"Union{Missing, Int64}\" style = \"text-align: left;\">Int64?</th><th title = \"Union{Missing, Int64}\" style = \"text-align: left;\">Int64?</th><th title = \"Union{Missing, Int64}\" style = \"text-align: left;\">Int64?</th><th title = \"Union{Missing, Int64}\" style = \"text-align: left;\">Int64?</th><th title = \"Union{Missing, Int64}\" style = \"text-align: left;\">Int64?</th><th title = \"Union{Missing, Int64}\" style = \"text-align: left;\">Int64?</th><th title = \"Union{Missing, Int64}\" style = \"text-align: left;\">Int64?</th><th title = \"Union{Missing, Int64}\" style = \"text-align: left;\">Int64?</th><th title = \"Union{Missing, Int64}\" style = \"text-align: left;\">Int64?</th><th title = \"Union{Missing, Int64}\" style = \"text-align: left;\">Int64?</th><th title = \"Union{Missing, Int64}\" style = \"text-align: left;\">Int64?</th><th title = \"Union{Missing, Int64}\" style = \"text-align: left;\">Int64?</th><th title = \"Union{Missing, Int64}\" style = \"text-align: left;\">Int64?</th><th title = \"Union{Missing, Int64}\" style = \"text-align: left;\">Int64?</th><th title = \"Union{Missing, Int64}\" style = \"text-align: left;\">Int64?</th><th title = \"Union{Missing, Int64}\" style = \"text-align: left;\">Int64?</th><th title = \"Union{Missing, Int64}\" style = \"text-align: left;\">Int64?</th><th title = \"Union{Missing, Int64}\" style = \"text-align: left;\">Int64?</th><th title = \"Union{Missing, Int64}\" style = \"text-align: left;\">Int64?</th><th title = \"Union{Missing, Int64}\" style = \"text-align: left;\">Int64?</th><th title = \"Union{Missing, Int64}\" style = \"text-align: left;\">Int64?</th><th title = \"Union{Missing, Int64}\" style = \"text-align: left;\">Int64?</th><th title = \"Union{Missing, Int64}\" style = \"text-align: left;\">Int64?</th><th title = \"Union{Missing, Int64}\" style = \"text-align: left;\">Int64?</th><th title = \"Union{Missing, Int64}\" style = \"text-align: left;\">Int64?</th><th title = \"Union{Missing, Int64}\" style = \"text-align: left;\">Int64?</th><th title = \"Union{Missing, Int64}\" style = \"text-align: left;\">Int64?</th><th title = \"Union{Missing, Int64}\" style = \"text-align: left;\">Int64?</th><th title = \"Union{Missing, Int64}\" style = \"text-align: left;\">Int64?</th><th title = \"Union{Missing, Int64}\" style = \"text-align: left;\">Int64?</th><th title = \"Union{Missing, Int64}\" style = \"text-align: left;\">Int64?</th><th title = \"Union{Missing, Int64}\" style = \"text-align: left;\">Int64?</th><th title = \"Union{Missing, Int64}\" style = \"text-align: left;\">Int64?</th><th title = \"Union{Missing, Int64}\" style = \"text-align: left;\">Int64?</th><th title = \"Union{Missing, Int64}\" style = \"text-align: left;\">Int64?</th><th title = \"Union{Missing, Int64}\" style = \"text-align: left;\">Int64?</th><th title = \"Union{Missing, Int64}\" style = \"text-align: left;\">Int64?</th><th title = \"Union{Missing, Int64}\" style = \"text-align: left;\">Int64?</th><th title = \"Union{Missing, Int64}\" style = \"text-align: left;\">Int64?</th><th title = \"Union{Missing, Int64}\" style = \"text-align: left;\">Int64?</th><th title = \"Union{Missing, Int64}\" style = \"text-align: left;\">Int64?</th><th title = \"Union{Missing, Int64}\" style = \"text-align: left;\">Int64?</th><th title = \"Union{Missing, Int64}\" style = \"text-align: left;\">Int64?</th><th title = \"Union{Missing, Int64}\" style = \"text-align: left;\">Int64?</th><th title = \"Union{Missing, Int64}\" style = \"text-align: left;\">Int64?</th><th title = \"Union{Missing, Int64}\" style = \"text-align: left;\">Int64?</th><th title = \"Union{Missing, Int64}\" style = \"text-align: left;\">Int64?</th><th title = \"Union{Missing, Int64}\" style = \"text-align: left;\">Int64?</th><th title = \"Union{Missing, Int64}\" style = \"text-align: left;\">Int64?</th><th title = \"Union{Missing, Int64}\" style = \"text-align: left;\">Int64?</th><th title = \"Union{Missing, Int64}\" style = \"text-align: left;\">Int64?</th><th title = \"Union{Missing, Int64}\" style = \"text-align: left;\">Int64?</th><th title = \"Union{Missing, Int64}\" style = \"text-align: left;\">Int64?</th><th title = \"Union{Missing, Int64}\" style = \"text-align: left;\">Int64?</th><th title = \"Union{Missing, Int64}\" style = \"text-align: left;\">Int64?</th><th title = \"Union{Missing, Int64}\" style = \"text-align: left;\">Int64?</th><th title = \"Union{Missing, Int64}\" style = \"text-align: left;\">Int64?</th><th title = \"Union{Missing, Int64}\" style = \"text-align: left;\">Int64?</th><th title = \"Union{Missing, Int64}\" style = \"text-align: left;\">Int64?</th><th title = \"Union{Missing, Int64}\" style = \"text-align: left;\">Int64?</th><th title = \"Union{Missing, Int64}\" style = \"text-align: left;\">Int64?</th><th title = \"Union{Missing, Int64}\" style = \"text-align: left;\">Int64?</th><th title = \"Union{Missing, Int64}\" style = \"text-align: left;\">Int64?</th><th title = \"Union{Missing, Int64}\" style = \"text-align: left;\">Int64?</th><th title = \"Union{Missing, Int64}\" style = \"text-align: left;\">Int64?</th><th title = \"Union{Missing, Int64}\" style = \"text-align: left;\">Int64?</th><th title = \"Union{Missing, Int64}\" style = \"text-align: left;\">Int64?</th><th title = \"Union{Missing, Int64}\" style = \"text-align: left;\">Int64?</th><th title = \"Union{Missing, Int64}\" style = \"text-align: left;\">Int64?</th><th title = \"Union{Missing, Int64}\" style = \"text-align: left;\">Int64?</th><th title = \"Union{Missing, Int64}\" style = \"text-align: left;\">Int64?</th><th title = \"Union{Missing, Int64}\" style = \"text-align: left;\">Int64?</th><th title = \"Union{Missing, Int64}\" style = \"text-align: left;\">Int64?</th><th title = \"Union{Missing, Int64}\" style = \"text-align: left;\">Int64?</th><th title = \"Union{Missing, Int64}\" style = \"text-align: left;\">Int64?</th><th title = \"Union{Missing, Int64}\" style = \"text-align: left;\">Int64?</th><th title = \"Union{Missing, Int64}\" style = \"text-align: left;\">Int64?</th><th title = \"Union{Missing, Int64}\" style = \"text-align: left;\">Int64?</th><th title = \"Union{Missing, Int64}\" style = \"text-align: left;\">Int64?</th><th title = \"Union{Missing, Int64}\" style = \"text-align: left;\">Int64?</th><th title = \"Union{Missing, Int64}\" style = \"text-align: left;\">Int64?</th><th title = \"Union{Missing, Int64}\" style = \"text-align: left;\">Int64?</th><th title = \"Union{Missing, Int64}\" style = \"text-align: left;\">Int64?</th><th title = \"Union{Missing, Int64}\" style = \"text-align: left;\">Int64?</th><th title = \"Union{Missing, Int64}\" style = \"text-align: left;\">Int64?</th><th title = \"Union{Missing, Int64}\" style = \"text-align: left;\">Int64?</th><th title = \"Union{Missing, Int64}\" style = \"text-align: left;\">Int64?</th><th title = \"Union{Missing, Int64}\" style = \"text-align: left;\">Int64?</th><th title = \"Union{Missing, Int64}\" style = \"text-align: right;\">&ctdot;</th></tr></thead><tbody><tr><td class = \"rowNumber\" style = \"font-weight: bold; text-align: right;\">1</td><td style = \"text-align: left;\">433.2361_1441</td><td style = \"font-style: italic; text-align: right;\">missing</td><td style = \"text-align: right;\">326600</td><td style = \"text-align: right;\">126566</td><td style = \"text-align: right;\">123600</td><td style = \"font-style: italic; text-align: right;\">missing</td><td style = \"text-align: right;\">247818</td><td style = \"text-align: right;\">287269</td><td style = \"text-align: right;\">133694</td><td style = \"text-align: right;\">434214</td><td style = \"font-style: italic; text-align: right;\">missing</td><td style = \"font-style: italic; text-align: right;\">missing</td><td style = \"font-style: italic; text-align: right;\">missing</td><td style = \"text-align: right;\">134642</td><td style = \"text-align: right;\">101917</td><td style = \"text-align: right;\">201565</td><td style = \"text-align: right;\">116473</td><td style = \"font-style: italic; text-align: right;\">missing</td><td style = \"text-align: right;\">329892</td><td style = \"text-align: right;\">46100</td><td style = \"text-align: right;\">326370</td><td style = \"font-style: italic; text-align: right;\">missing</td><td style = \"font-style: italic; text-align: right;\">missing</td><td style = \"text-align: right;\">288999</td><td style = \"text-align: right;\">115541</td><td style = \"text-align: right;\">111305</td><td style = \"font-style: italic; text-align: right;\">missing</td><td style = \"text-align: right;\">171749</td><td style = \"font-style: italic; text-align: right;\">missing</td><td style = \"font-style: italic; text-align: right;\">missing</td><td style = \"text-align: right;\">247354</td><td style = \"text-align: right;\">148914</td><td style = \"font-style: italic; text-align: right;\">missing</td><td style = \"font-style: italic; text-align: right;\">missing</td><td style = \"text-align: right;\">197342</td><td style = \"text-align: right;\">59198</td><td style = \"font-style: italic; text-align: right;\">missing</td><td style = \"font-style: italic; text-align: right;\">missing</td><td style = \"font-style: italic; text-align: right;\">missing</td><td style = \"text-align: right;\">96352</td><td style = \"font-style: italic; text-align: right;\">missing</td><td style = \"text-align: right;\">236958</td><td style = \"text-align: right;\">191626</td><td style = \"text-align: right;\">246432</td><td style = \"font-style: italic; text-align: right;\">missing</td><td style = \"font-style: italic; text-align: right;\">missing</td><td style = \"text-align: right;\">178408</td><td style = \"text-align: right;\">194808</td><td style = \"text-align: right;\">270157</td><td style = \"text-align: right;\">127399</td><td style = \"text-align: right;\">81454</td><td style = \"font-style: italic; text-align: right;\">missing</td><td style = \"text-align: right;\">76665</td><td style = \"text-align: right;\">125059</td><td style = \"font-style: italic; text-align: right;\">missing</td><td style = \"font-style: italic; text-align: right;\">missing</td><td style = \"font-style: italic; text-align: right;\">missing</td><td style = \"text-align: right;\">356791</td><td style = \"font-style: italic; text-align: right;\">missing</td><td style = \"text-align: right;\">261574</td><td style = \"text-align: right;\">334505</td><td style = \"text-align: right;\">102593</td><td style = \"text-align: right;\">300143</td><td style = \"text-align: right;\">167815</td><td style = \"text-align: right;\">157939</td><td style = \"font-style: italic; text-align: right;\">missing</td><td style = \"font-style: italic; text-align: right;\">missing</td><td style = \"text-align: right;\">217513</td><td style = \"text-align: right;\">81645</td><td style = \"text-align: right;\">274555</td><td style = \"text-align: right;\">202424</td><td style = \"text-align: right;\">328963</td><td style = \"font-style: italic; text-align: right;\">missing</td><td style = \"font-style: italic; text-align: right;\">missing</td><td style = \"text-align: right;\">368319</td><td style = \"text-align: right;\">184594</td><td style = \"text-align: right;\">392782</td><td style = \"font-style: italic; text-align: right;\">missing</td><td style = \"text-align: right;\">261283</td><td style = \"font-style: italic; text-align: right;\">missing</td><td style = \"font-style: italic; text-align: right;\">missing</td><td style = \"text-align: right;\">316225</td><td style = \"text-align: right;\">238190</td><td style = \"font-style: italic; text-align: right;\">missing</td><td style = \"text-align: right;\">183508</td><td style = \"text-align: right;\">233763</td><td style = \"text-align: right;\">231260</td><td style = \"font-style: italic; text-align: right;\">missing</td><td style = \"text-align: right;\">643960</td><td style = \"text-align: right;\">240419</td><td style = \"font-style: italic; text-align: right;\">missing</td><td style = \"text-align: right;\">282076</td><td style = \"text-align: right;\">118321</td><td style = \"text-align: right;\">184894</td><td style = \"text-align: right;\">83335</td><td style = \"text-align: right;\">90453</td><td style = \"text-align: right;\">216949</td><td style = \"font-style: italic; text-align: right;\">missing</td><td style = \"text-align: right;\">180211</td><td style = \"text-align: right;\">227246</td><td style = \"text-align: right;\">&ctdot;</td></tr><tr><td class = \"rowNumber\" style = \"font-weight: bold; text-align: right;\">2</td><td style = \"text-align: left;\">775.5495_717</td><td style = \"text-align: right;\">1440248</td><td style = \"text-align: right;\">1640319</td><td style = \"text-align: right;\">1337974</td><td style = \"text-align: right;\">1517128</td><td style = \"text-align: right;\">1709690</td><td style = \"text-align: right;\">1874165</td><td style = \"text-align: right;\">1064377</td><td style = \"text-align: right;\">1071848</td><td style = \"text-align: right;\">1208501</td><td style = \"text-align: right;\">402557</td><td style = \"text-align: right;\">1377381</td><td style = \"text-align: right;\">1689266</td><td style = \"text-align: right;\">1094087</td><td style = \"text-align: right;\">1536406</td><td style = \"text-align: right;\">1146902</td><td style = \"text-align: right;\">831478</td><td style = \"text-align: right;\">1129601</td><td style = \"text-align: right;\">2322230</td><td style = \"text-align: right;\">766925</td><td style = \"text-align: right;\">1630264</td><td style = \"text-align: right;\">679538</td><td style = \"text-align: right;\">746599</td><td style = \"text-align: right;\">2075359</td><td style = \"text-align: right;\">1758424</td><td style = \"text-align: right;\">1914608</td><td style = \"text-align: right;\">1328717</td><td style = \"text-align: right;\">445355</td><td style = \"font-style: italic; text-align: right;\">missing</td><td style = \"font-style: italic; text-align: right;\">missing</td><td style = \"text-align: right;\">2084987</td><td style = \"text-align: right;\">2429211</td><td style = \"text-align: right;\">1445526</td><td style = \"text-align: right;\">1289925</td><td style = \"text-align: right;\">1292265</td><td style = \"text-align: right;\">1701691</td><td style = \"text-align: right;\">1083087</td><td style = \"text-align: right;\">1564160</td><td style = \"text-align: right;\">684996</td><td style = \"text-align: right;\">1766544</td><td style = \"text-align: right;\">911707</td><td style = \"text-align: right;\">1496068</td><td style = \"text-align: right;\">1717481</td><td style = \"text-align: right;\">1567899</td><td style = \"text-align: right;\">1171521</td><td style = \"text-align: right;\">1129677</td><td style = \"text-align: right;\">828596</td><td style = \"text-align: right;\">1176926</td><td style = \"text-align: right;\">684392</td><td style = \"text-align: right;\">1425785</td><td style = \"text-align: right;\">1128527</td><td style = \"text-align: right;\">968586</td><td style = \"text-align: right;\">1463532</td><td style = \"text-align: right;\">1558936</td><td style = \"text-align: right;\">1513032</td><td style = \"text-align: right;\">1115085</td><td style = \"text-align: right;\">1393903</td><td style = \"text-align: right;\">2469374</td><td style = \"text-align: right;\">3075845</td><td style = \"text-align: right;\">1857654</td><td style = \"text-align: right;\">2663706</td><td style = \"text-align: right;\">807132</td><td style = \"text-align: right;\">1925923</td><td style = \"text-align: right;\">1181188</td><td style = \"text-align: right;\">1430127</td><td style = \"text-align: right;\">775682</td><td style = \"font-style: italic; text-align: right;\">missing</td><td style = \"text-align: right;\">2416556</td><td style = \"text-align: right;\">1113628</td><td style = \"font-style: italic; text-align: right;\">missing</td><td style = \"text-align: right;\">1923774</td><td style = \"text-align: right;\">1486848</td><td style = \"text-align: right;\">886710</td><td style = \"text-align: right;\">1223696</td><td style = \"text-align: right;\">799828</td><td style = \"text-align: right;\">1726128</td><td style = \"text-align: right;\">1105866</td><td style = \"text-align: right;\">1406247</td><td style = \"text-align: right;\">1374518</td><td style = \"font-style: italic; text-align: right;\">missing</td><td style = \"text-align: right;\">534570</td><td style = \"text-align: right;\">945098</td><td style = \"text-align: right;\">1215217</td><td style = \"text-align: right;\">1466567</td><td style = \"text-align: right;\">1583335</td><td style = \"text-align: right;\">930374</td><td style = \"text-align: right;\">1000379</td><td style = \"text-align: right;\">1123045</td><td style = \"text-align: right;\">1462342</td><td style = \"text-align: right;\">1502086</td><td style = \"text-align: right;\">772041</td><td style = \"text-align: right;\">2740831</td><td style = \"text-align: right;\">1905257</td><td style = \"text-align: right;\">1004507</td><td style = \"text-align: right;\">1878403</td><td style = \"text-align: right;\">1590567</td><td style = \"text-align: right;\">1744088</td><td style = \"text-align: right;\">1340926</td><td style = \"text-align: right;\">1258187</td><td style = \"text-align: right;\">888849</td><td style = \"text-align: right;\">&ctdot;</td></tr><tr><td class = \"rowNumber\" style = \"font-weight: bold; text-align: right;\">3</td><td style = \"text-align: left;\">133.0506_1050</td><td style = \"text-align: right;\">2167189</td><td style = \"text-align: right;\">1214899</td><td style = \"text-align: right;\">1373803</td><td style = \"text-align: right;\">1592804</td><td style = \"text-align: right;\">23720756</td><td style = \"text-align: right;\">5269142</td><td style = \"text-align: right;\">12589752</td><td style = \"text-align: right;\">304496</td><td style = \"text-align: right;\">21832552</td><td style = \"text-align: right;\">3069386</td><td style = \"text-align: right;\">4698901</td><td style = \"text-align: right;\">748256</td><td style = \"text-align: right;\">2427009</td><td style = \"text-align: right;\">1409256</td><td style = \"text-align: right;\">1279911</td><td style = \"text-align: right;\">1556201</td><td style = \"text-align: right;\">2760309</td><td style = \"text-align: right;\">9187509</td><td style = \"text-align: right;\">665941</td><td style = \"text-align: right;\">8052345</td><td style = \"text-align: right;\">9773742</td><td style = \"text-align: right;\">20700264</td><td style = \"text-align: right;\">2364283</td><td style = \"text-align: right;\">385884</td><td style = \"text-align: right;\">12128009</td><td style = \"text-align: right;\">7834677</td><td style = \"text-align: right;\">2112325</td><td style = \"text-align: right;\">30471740</td><td style = \"text-align: right;\">410276</td><td style = \"text-align: right;\">2325184</td><td style = \"text-align: right;\">1614019</td><td style = \"text-align: right;\">3075491</td><td style = \"text-align: right;\">3051263</td><td style = \"text-align: right;\">2226974</td><td style = \"text-align: right;\">2169912</td><td style = \"text-align: right;\">4212791</td><td style = \"text-align: right;\">2979874</td><td style = \"text-align: right;\">4177573</td><td style = \"text-align: right;\">865972</td><td style = \"text-align: right;\">1518107</td><td style = \"text-align: right;\">559868</td><td style = \"text-align: right;\">17542154</td><td style = \"text-align: right;\">664807</td><td style = \"text-align: right;\">1959789</td><td style = \"text-align: right;\">642851</td><td style = \"text-align: right;\">575460</td><td style = \"text-align: right;\">1407774</td><td style = \"text-align: right;\">448434</td><td style = \"text-align: right;\">402369</td><td style = \"text-align: right;\">524342</td><td style = \"text-align: right;\">25054822</td><td style = \"text-align: right;\">5517349</td><td style = \"text-align: right;\">331075</td><td style = \"text-align: right;\">1027204</td><td style = \"text-align: right;\">653230</td><td style = \"text-align: right;\">4171048</td><td style = \"text-align: right;\">7728164</td><td style = \"text-align: right;\">482026</td><td style = \"text-align: right;\">891489</td><td style = \"text-align: right;\">2040487</td><td style = \"text-align: right;\">806325</td><td style = \"text-align: right;\">752715</td><td style = \"text-align: right;\">2112943</td><td style = \"text-align: right;\">2583820</td><td style = \"text-align: right;\">11209799</td><td style = \"text-align: right;\">4948818</td><td style = \"text-align: right;\">2238888</td><td style = \"text-align: right;\">826711</td><td style = \"text-align: right;\">37305808</td><td style = \"text-align: right;\">3859254</td><td style = \"text-align: right;\">18654720</td><td style = \"text-align: right;\">1423232</td><td style = \"text-align: right;\">4990944</td><td style = \"text-align: right;\">880440</td><td style = \"text-align: right;\">7916349</td><td style = \"text-align: right;\">530435</td><td style = \"text-align: right;\">17939516</td><td style = \"text-align: right;\">2284153</td><td style = \"text-align: right;\">799094</td><td style = \"text-align: right;\">1060799</td><td style = \"text-align: right;\">4262011</td><td style = \"text-align: right;\">240382</td><td style = \"text-align: right;\">3853051</td><td style = \"text-align: right;\">19024338</td><td style = \"text-align: right;\">3620280</td><td style = \"text-align: right;\">799929</td><td style = \"text-align: right;\">2324520</td><td style = \"text-align: right;\">985853</td><td style = \"text-align: right;\">1380306</td><td style = \"text-align: right;\">4519879</td><td style = \"text-align: right;\">38526692</td><td style = \"text-align: right;\">1249767</td><td style = \"text-align: right;\">993059</td><td style = \"text-align: right;\">1993449</td><td style = \"text-align: right;\">6433002</td><td style = \"text-align: right;\">959239</td><td style = \"text-align: right;\">7556338</td><td style = \"text-align: right;\">3945870</td><td style = \"text-align: right;\">4484914</td><td style = \"text-align: right;\">&ctdot;</td></tr></tbody></table></div>"
      ],
      "text/latex": [
       "\\begin{tabular}{r|cccccccc}\n",
       "\t& MetaID & NJHC-00001 & NJHC-00002 & NJHC-00003 & NJHC-00004 & NJHC-00005 & NJHC-00006 & \\\\\n",
       "\t\\hline\n",
       "\t& String15 & Int64? & Int64? & Int64? & Int64? & Int64? & Int64? & \\\\\n",
       "\t\\hline\n",
       "\t1 & 433.2361\\_1441 & \\emph{missing} & 326600 & 126566 & 123600 & \\emph{missing} & 247818 & $\\dots$ \\\\\n",
       "\t2 & 775.5495\\_717 & 1440248 & 1640319 & 1337974 & 1517128 & 1709690 & 1874165 & $\\dots$ \\\\\n",
       "\t3 & 133.0506\\_1050 & 2167189 & 1214899 & 1373803 & 1592804 & 23720756 & 5269142 & $\\dots$ \\\\\n",
       "\\end{tabular}\n"
      ],
      "text/plain": [
       "\u001b[1m3×1299 DataFrame\u001b[0m\n",
       "\u001b[1m Row \u001b[0m│\u001b[1m MetaID        \u001b[0m\u001b[1m NJHC-00001 \u001b[0m\u001b[1m NJHC-00002 \u001b[0m\u001b[1m NJHC-00003 \u001b[0m\u001b[1m NJHC-00004 \u001b[0m\u001b[1m NJHC-000\u001b[0m ⋯\n",
       "     │\u001b[90m String15      \u001b[0m\u001b[90m Int64?     \u001b[0m\u001b[90m Int64?     \u001b[0m\u001b[90m Int64?     \u001b[0m\u001b[90m Int64?     \u001b[0m\u001b[90m Int64?  \u001b[0m ⋯\n",
       "─────┼──────────────────────────────────────────────────────────────────────────\n",
       "   1 │ 433.2361_1441 \u001b[90m    missing \u001b[0m     326600      126566      123600 \u001b[90m    missi\u001b[0m ⋯\n",
       "   2 │ 775.5495_717      1440248     1640319     1337974     1517128     17096\n",
       "   3 │ 133.0506_1050     2167189     1214899     1373803     1592804    237207\n",
       "\u001b[36m                                                            1294 columns omitted\u001b[0m"
      ]
     },
     "execution_count": 7,
     "metadata": {},
     "output_type": "execute_result"
    }
   ],
   "source": [
    "filePolarMetabo = realpath(joinpath(@__DIR__,\"..\",\"..\",\"data\",\"raw\",\"COPDGene\",\"polar.txt\"))\n",
    "prepend(filePolarMetabo, \"MetaID\t\")\n",
    "filePolarMetabo = realpath(joinpath(@__DIR__,\"..\",\"..\",\"data\",\"raw\",\"COPDGene\",\"new_polar.txt\"))\n",
    "dfPolarMetabo = CSV.read(filePolarMetabo, DataFrame;  delim = '\t', missingstring = \"NA\");\n",
    "rm(filePolarMetabo)\n",
    "first(dfPolarMetabo, 3)"
   ]
  },
  {
   "cell_type": "markdown",
   "id": "464d368a",
   "metadata": {},
   "source": [
    "#### Positive early"
   ]
  },
  {
   "cell_type": "code",
   "execution_count": 8,
   "id": "73935e86",
   "metadata": {},
   "outputs": [
    {
     "data": {
      "text/html": [
       "<div><div style = \"float: left;\"><span>3×1299 DataFrame</span></div><div style = \"float: right;\"><span style = \"font-style: italic;\">1199 columns omitted</span></div><div style = \"clear: both;\"></div></div><div class = \"data-frame\" style = \"overflow-x: scroll;\"><table class = \"data-frame\" style = \"margin-bottom: 6px;\"><thead><tr class = \"header\"><th class = \"rowNumber\" style = \"font-weight: bold; text-align: right;\">Row</th><th style = \"text-align: left;\">MetaID</th><th style = \"text-align: left;\">NJHC-00001</th><th style = \"text-align: left;\">NJHC-00002</th><th style = \"text-align: left;\">NJHC-00003</th><th style = \"text-align: left;\">NJHC-00004</th><th style = \"text-align: left;\">NJHC-00005</th><th style = \"text-align: left;\">NJHC-00006</th><th style = \"text-align: left;\">NJHC-00007</th><th style = \"text-align: left;\">NJHC-00008</th><th style = \"text-align: left;\">NJHC-00009</th><th style = \"text-align: left;\">NJHC-00010</th><th style = \"text-align: left;\">NJHC-00011</th><th style = \"text-align: left;\">NJHC-00012</th><th style = \"text-align: left;\">NJHC-00013</th><th style = \"text-align: left;\">NJHC-00014</th><th style = \"text-align: left;\">NJHC-00015</th><th style = \"text-align: left;\">NJHC-00016</th><th style = \"text-align: left;\">NJHC-00017</th><th style = \"text-align: left;\">NJHC-00018</th><th style = \"text-align: left;\">NJHC-00019</th><th style = \"text-align: left;\">NJHC-00020</th><th style = \"text-align: left;\">NJHC-00021</th><th style = \"text-align: left;\">NJHC-00022</th><th style = \"text-align: left;\">NJHC-00023</th><th style = \"text-align: left;\">NJHC-00024</th><th style = \"text-align: left;\">NJHC-00025</th><th style = \"text-align: left;\">NJHC-00026</th><th style = \"text-align: left;\">NJHC-00027</th><th style = \"text-align: left;\">NJHC-00028</th><th style = \"text-align: left;\">NJHC-00029</th><th style = \"text-align: left;\">NJHC-00030</th><th style = \"text-align: left;\">NJHC-00031</th><th style = \"text-align: left;\">NJHC-00032</th><th style = \"text-align: left;\">NJHC-00033</th><th style = \"text-align: left;\">NJHC-00034</th><th style = \"text-align: left;\">NJHC-00035</th><th style = \"text-align: left;\">NJHC-00036</th><th style = \"text-align: left;\">NJHC-00037</th><th style = \"text-align: left;\">NJHC-00038</th><th style = \"text-align: left;\">NJHC-00039</th><th style = \"text-align: left;\">NJHC-00040</th><th style = \"text-align: left;\">NJHC-00041</th><th style = \"text-align: left;\">NJHC-00042</th><th style = \"text-align: left;\">NJHC-00043</th><th style = \"text-align: left;\">NJHC-00044</th><th style = \"text-align: left;\">NJHC-00045</th><th style = \"text-align: left;\">NJHC-00046</th><th style = \"text-align: left;\">NJHC-00047</th><th style = \"text-align: left;\">NJHC-00048</th><th style = \"text-align: left;\">NJHC-00049</th><th style = \"text-align: left;\">NJHC-00050</th><th style = \"text-align: left;\">NJHC-00051</th><th style = \"text-align: left;\">NJHC-00052</th><th style = \"text-align: left;\">NJHC-00053</th><th style = \"text-align: left;\">NJHC-00054</th><th style = \"text-align: left;\">NJHC-00055</th><th style = \"text-align: left;\">NJHC-00056</th><th style = \"text-align: left;\">NJHC-00057</th><th style = \"text-align: left;\">NJHC-00058</th><th style = \"text-align: left;\">NJHC-00059</th><th style = \"text-align: left;\">NJHC-00060</th><th style = \"text-align: left;\">NJHC-00061</th><th style = \"text-align: left;\">NJHC-00062</th><th style = \"text-align: left;\">NJHC-00063</th><th style = \"text-align: left;\">NJHC-00064</th><th style = \"text-align: left;\">NJHC-00065</th><th style = \"text-align: left;\">NJHC-00066</th><th style = \"text-align: left;\">NJHC-00067</th><th style = \"text-align: left;\">NJHC-00068</th><th style = \"text-align: left;\">NJHC-00069</th><th style = \"text-align: left;\">NJHC-00070</th><th style = \"text-align: left;\">NJHC-00071</th><th style = \"text-align: left;\">NJHC-00072</th><th style = \"text-align: left;\">NJHC-00073</th><th style = \"text-align: left;\">NJHC-00074</th><th style = \"text-align: left;\">NJHC-00075</th><th style = \"text-align: left;\">NJHC-00076</th><th style = \"text-align: left;\">NJHC-00077</th><th style = \"text-align: left;\">NJHC-00078</th><th style = \"text-align: left;\">NJHC-00079</th><th style = \"text-align: left;\">NJHC-00080</th><th style = \"text-align: left;\">NJHC-00081</th><th style = \"text-align: left;\">NJHC-00082</th><th style = \"text-align: left;\">NJHC-00083</th><th style = \"text-align: left;\">NJHC-00084</th><th style = \"text-align: left;\">NJHC-00085</th><th style = \"text-align: left;\">NJHC-00086</th><th style = \"text-align: left;\">NJHC-00087</th><th style = \"text-align: left;\">NJHC-00088</th><th style = \"text-align: left;\">NJHC-00089</th><th style = \"text-align: left;\">NJHC-00090</th><th style = \"text-align: left;\">NJHC-00091</th><th style = \"text-align: left;\">NJHC-00092</th><th style = \"text-align: left;\">NJHC-00093</th><th style = \"text-align: left;\">NJHC-00094</th><th style = \"text-align: left;\">NJHC-00095</th><th style = \"text-align: left;\">NJHC-00096</th><th style = \"text-align: left;\">NJHC-00097</th><th style = \"text-align: left;\">NJHC-00098</th><th style = \"text-align: left;\">NJHC-00099</th><th style = \"text-align: right;\">&ctdot;</th></tr><tr class = \"subheader headerLastRow\"><th class = \"rowNumber\" style = \"font-weight: bold; text-align: right;\"></th><th title = \"String15\" style = \"text-align: left;\">String15</th><th title = \"Union{Missing, Int64}\" style = \"text-align: left;\">Int64?</th><th title = \"Union{Missing, Int64}\" style = \"text-align: left;\">Int64?</th><th title = \"Union{Missing, Int64}\" style = \"text-align: left;\">Int64?</th><th title = \"Union{Missing, Int64}\" style = \"text-align: left;\">Int64?</th><th title = \"Union{Missing, Int64}\" style = \"text-align: left;\">Int64?</th><th title = \"Union{Missing, Int64}\" style = \"text-align: left;\">Int64?</th><th title = \"Union{Missing, Int64}\" style = \"text-align: left;\">Int64?</th><th title = \"Union{Missing, Int64}\" style = \"text-align: left;\">Int64?</th><th title = \"Union{Missing, Int64}\" style = \"text-align: left;\">Int64?</th><th title = \"Union{Missing, Int64}\" style = \"text-align: left;\">Int64?</th><th title = \"Union{Missing, Int64}\" style = \"text-align: left;\">Int64?</th><th title = \"Union{Missing, Int64}\" style = \"text-align: left;\">Int64?</th><th title = \"Union{Missing, Int64}\" style = \"text-align: left;\">Int64?</th><th title = \"Union{Missing, Int64}\" style = \"text-align: left;\">Int64?</th><th title = \"Union{Missing, Int64}\" style = \"text-align: left;\">Int64?</th><th title = \"Union{Missing, Int64}\" style = \"text-align: left;\">Int64?</th><th title = \"Union{Missing, Int64}\" style = \"text-align: left;\">Int64?</th><th title = \"Union{Missing, Int64}\" style = \"text-align: left;\">Int64?</th><th title = \"Union{Missing, Int64}\" style = \"text-align: left;\">Int64?</th><th title = \"Union{Missing, Int64}\" style = \"text-align: left;\">Int64?</th><th title = \"Union{Missing, Int64}\" style = \"text-align: left;\">Int64?</th><th title = \"Union{Missing, Int64}\" style = \"text-align: left;\">Int64?</th><th title = \"Union{Missing, Int64}\" style = \"text-align: left;\">Int64?</th><th title = \"Union{Missing, Int64}\" style = \"text-align: left;\">Int64?</th><th title = \"Union{Missing, Int64}\" style = \"text-align: left;\">Int64?</th><th title = \"Union{Missing, Int64}\" style = \"text-align: left;\">Int64?</th><th title = \"Union{Missing, Int64}\" style = \"text-align: left;\">Int64?</th><th title = \"Union{Missing, Int64}\" style = \"text-align: left;\">Int64?</th><th title = \"Union{Missing, Int64}\" style = \"text-align: left;\">Int64?</th><th title = \"Union{Missing, Int64}\" style = \"text-align: left;\">Int64?</th><th title = \"Union{Missing, Int64}\" style = \"text-align: left;\">Int64?</th><th title = \"Union{Missing, Int64}\" style = \"text-align: left;\">Int64?</th><th title = \"Union{Missing, Int64}\" style = \"text-align: left;\">Int64?</th><th title = \"Union{Missing, Int64}\" style = \"text-align: left;\">Int64?</th><th title = \"Union{Missing, Int64}\" style = \"text-align: left;\">Int64?</th><th title = \"Union{Missing, Int64}\" style = \"text-align: left;\">Int64?</th><th title = \"Union{Missing, Int64}\" style = \"text-align: left;\">Int64?</th><th title = \"Union{Missing, Int64}\" style = \"text-align: left;\">Int64?</th><th title = \"Union{Missing, Int64}\" style = \"text-align: left;\">Int64?</th><th title = \"Union{Missing, Int64}\" style = \"text-align: left;\">Int64?</th><th title = \"Union{Missing, Int64}\" style = \"text-align: left;\">Int64?</th><th title = \"Union{Missing, Int64}\" style = \"text-align: left;\">Int64?</th><th title = \"Union{Missing, Int64}\" style = \"text-align: left;\">Int64?</th><th title = \"Union{Missing, Int64}\" style = \"text-align: left;\">Int64?</th><th title = \"Union{Missing, Int64}\" style = \"text-align: left;\">Int64?</th><th title = \"Union{Missing, Int64}\" style = \"text-align: left;\">Int64?</th><th title = \"Union{Missing, Int64}\" style = \"text-align: left;\">Int64?</th><th title = \"Union{Missing, Int64}\" style = \"text-align: left;\">Int64?</th><th title = \"Union{Missing, Int64}\" style = \"text-align: left;\">Int64?</th><th title = \"Union{Missing, Int64}\" style = \"text-align: left;\">Int64?</th><th title = \"Union{Missing, Int64}\" style = \"text-align: left;\">Int64?</th><th title = \"Union{Missing, Int64}\" style = \"text-align: left;\">Int64?</th><th title = \"Union{Missing, Int64}\" style = \"text-align: left;\">Int64?</th><th title = \"Union{Missing, Int64}\" style = \"text-align: left;\">Int64?</th><th title = \"Union{Missing, Int64}\" style = \"text-align: left;\">Int64?</th><th title = \"Union{Missing, Int64}\" style = \"text-align: left;\">Int64?</th><th title = \"Union{Missing, Int64}\" style = \"text-align: left;\">Int64?</th><th title = \"Union{Missing, Int64}\" style = \"text-align: left;\">Int64?</th><th title = \"Union{Missing, Int64}\" style = \"text-align: left;\">Int64?</th><th title = \"Union{Missing, Int64}\" style = \"text-align: left;\">Int64?</th><th title = \"Union{Missing, Int64}\" style = \"text-align: left;\">Int64?</th><th title = \"Union{Missing, Int64}\" style = \"text-align: left;\">Int64?</th><th title = \"Union{Missing, Int64}\" style = \"text-align: left;\">Int64?</th><th title = \"Union{Missing, Int64}\" style = \"text-align: left;\">Int64?</th><th title = \"Union{Missing, Int64}\" style = \"text-align: left;\">Int64?</th><th title = \"Union{Missing, Int64}\" style = \"text-align: left;\">Int64?</th><th title = \"Union{Missing, Int64}\" style = \"text-align: left;\">Int64?</th><th title = \"Union{Missing, Int64}\" style = \"text-align: left;\">Int64?</th><th title = \"Union{Missing, Int64}\" style = \"text-align: left;\">Int64?</th><th title = \"Union{Missing, Int64}\" style = \"text-align: left;\">Int64?</th><th title = \"Union{Missing, Int64}\" style = \"text-align: left;\">Int64?</th><th title = \"Union{Missing, Int64}\" style = \"text-align: left;\">Int64?</th><th title = \"Union{Missing, Int64}\" style = \"text-align: left;\">Int64?</th><th title = \"Union{Missing, Int64}\" style = \"text-align: left;\">Int64?</th><th title = \"Union{Missing, Int64}\" style = \"text-align: left;\">Int64?</th><th title = \"Union{Missing, Int64}\" style = \"text-align: left;\">Int64?</th><th title = \"Union{Missing, Int64}\" style = \"text-align: left;\">Int64?</th><th title = \"Union{Missing, Int64}\" style = \"text-align: left;\">Int64?</th><th title = \"Union{Missing, Int64}\" style = \"text-align: left;\">Int64?</th><th title = \"Union{Missing, Int64}\" style = \"text-align: left;\">Int64?</th><th title = \"Union{Missing, Int64}\" style = \"text-align: left;\">Int64?</th><th title = \"Union{Missing, Int64}\" style = \"text-align: left;\">Int64?</th><th title = \"Union{Missing, Int64}\" style = \"text-align: left;\">Int64?</th><th title = \"Union{Missing, Int64}\" style = \"text-align: left;\">Int64?</th><th title = \"Union{Missing, Int64}\" style = \"text-align: left;\">Int64?</th><th title = \"Union{Missing, Int64}\" style = \"text-align: left;\">Int64?</th><th title = \"Union{Missing, Int64}\" style = \"text-align: left;\">Int64?</th><th title = \"Union{Missing, Int64}\" style = \"text-align: left;\">Int64?</th><th title = \"Union{Missing, Int64}\" style = \"text-align: left;\">Int64?</th><th title = \"Union{Missing, Int64}\" style = \"text-align: left;\">Int64?</th><th title = \"Union{Missing, Int64}\" style = \"text-align: left;\">Int64?</th><th title = \"Union{Missing, Int64}\" style = \"text-align: left;\">Int64?</th><th title = \"Union{Missing, Int64}\" style = \"text-align: left;\">Int64?</th><th title = \"Union{Missing, Int64}\" style = \"text-align: left;\">Int64?</th><th title = \"Union{Missing, Int64}\" style = \"text-align: left;\">Int64?</th><th title = \"Union{Missing, Int64}\" style = \"text-align: left;\">Int64?</th><th title = \"Union{Missing, Int64}\" style = \"text-align: left;\">Int64?</th><th title = \"Union{Missing, Int64}\" style = \"text-align: left;\">Int64?</th><th title = \"Union{Missing, Int64}\" style = \"text-align: left;\">Int64?</th><th title = \"Union{Missing, Int64}\" style = \"text-align: right;\">&ctdot;</th></tr></thead><tbody><tr><td class = \"rowNumber\" style = \"font-weight: bold; text-align: right;\">1</td><td style = \"text-align: left;\">188.1757_3080</td><td style = \"text-align: right;\">793227</td><td style = \"text-align: right;\">1770394</td><td style = \"text-align: right;\">1430642</td><td style = \"text-align: right;\">2445188</td><td style = \"text-align: right;\">1352542</td><td style = \"text-align: right;\">1242461</td><td style = \"text-align: right;\">891665</td><td style = \"text-align: right;\">1941765</td><td style = \"text-align: right;\">1291548</td><td style = \"text-align: right;\">1623837</td><td style = \"text-align: right;\">1657936</td><td style = \"text-align: right;\">1374223</td><td style = \"text-align: right;\">1337304</td><td style = \"text-align: right;\">1011403</td><td style = \"text-align: right;\">932392</td><td style = \"text-align: right;\">902579</td><td style = \"text-align: right;\">1174360</td><td style = \"text-align: right;\">1319021</td><td style = \"text-align: right;\">1205614</td><td style = \"text-align: right;\">1081763</td><td style = \"text-align: right;\">861894</td><td style = \"text-align: right;\">1449003</td><td style = \"text-align: right;\">1121965</td><td style = \"text-align: right;\">801706</td><td style = \"text-align: right;\">1574607</td><td style = \"text-align: right;\">1133707</td><td style = \"text-align: right;\">1652380</td><td style = \"text-align: right;\">1188456</td><td style = \"text-align: right;\">1236348</td><td style = \"text-align: right;\">1208507</td><td style = \"text-align: right;\">1598872</td><td style = \"text-align: right;\">1730266</td><td style = \"text-align: right;\">1126269</td><td style = \"text-align: right;\">1003769</td><td style = \"text-align: right;\">1126152</td><td style = \"text-align: right;\">1365437</td><td style = \"text-align: right;\">1670362</td><td style = \"text-align: right;\">1058412</td><td style = \"text-align: right;\">7732594</td><td style = \"text-align: right;\">1080015</td><td style = \"text-align: right;\">2385221</td><td style = \"text-align: right;\">2659932</td><td style = \"text-align: right;\">1853872</td><td style = \"text-align: right;\">1158756</td><td style = \"text-align: right;\">2292402</td><td style = \"text-align: right;\">890057</td><td style = \"text-align: right;\">1528213</td><td style = \"text-align: right;\">925075</td><td style = \"text-align: right;\">1799599</td><td style = \"text-align: right;\">1809332</td><td style = \"text-align: right;\">1637063</td><td style = \"text-align: right;\">1092128</td><td style = \"text-align: right;\">760553</td><td style = \"text-align: right;\">1109472</td><td style = \"text-align: right;\">1520698</td><td style = \"text-align: right;\">2560428</td><td style = \"text-align: right;\">1082520</td><td style = \"text-align: right;\">1259786</td><td style = \"text-align: right;\">2111913</td><td style = \"text-align: right;\">844178</td><td style = \"text-align: right;\">1162338</td><td style = \"text-align: right;\">991584</td><td style = \"text-align: right;\">1013220</td><td style = \"text-align: right;\">3241765</td><td style = \"text-align: right;\">1456829</td><td style = \"text-align: right;\">796184</td><td style = \"text-align: right;\">3594731</td><td style = \"text-align: right;\">1049115</td><td style = \"text-align: right;\">2069177</td><td style = \"text-align: right;\">708283</td><td style = \"text-align: right;\">1116494</td><td style = \"text-align: right;\">1144380</td><td style = \"text-align: right;\">1468320</td><td style = \"text-align: right;\">1069235</td><td style = \"text-align: right;\">1089684</td><td style = \"text-align: right;\">1220299</td><td style = \"text-align: right;\">1851184</td><td style = \"text-align: right;\">1885986</td><td style = \"text-align: right;\">833046</td><td style = \"text-align: right;\">1535202</td><td style = \"text-align: right;\">754274</td><td style = \"text-align: right;\">1529354</td><td style = \"text-align: right;\">904178</td><td style = \"text-align: right;\">1445751</td><td style = \"text-align: right;\">1247665</td><td style = \"text-align: right;\">1351257</td><td style = \"text-align: right;\">665770</td><td style = \"text-align: right;\">1034151</td><td style = \"text-align: right;\">646405</td><td style = \"text-align: right;\">939193</td><td style = \"text-align: right;\">1873184</td><td style = \"text-align: right;\">725065</td><td style = \"text-align: right;\">1248889</td><td style = \"text-align: right;\">637990</td><td style = \"text-align: right;\">1690145</td><td style = \"text-align: right;\">2133413</td><td style = \"text-align: right;\">860650</td><td style = \"text-align: right;\">1210666</td><td style = \"text-align: right;\">2719874</td><td style = \"text-align: right;\">&ctdot;</td></tr><tr><td class = \"rowNumber\" style = \"font-weight: bold; text-align: right;\">2</td><td style = \"text-align: left;\">248.1493_2400</td><td style = \"text-align: right;\">461775</td><td style = \"text-align: right;\">179888</td><td style = \"font-style: italic; text-align: right;\">missing</td><td style = \"text-align: right;\">3038025</td><td style = \"text-align: right;\">230445</td><td style = \"text-align: right;\">2330353</td><td style = \"text-align: right;\">248330</td><td style = \"text-align: right;\">2632842</td><td style = \"text-align: right;\">1079150</td><td style = \"text-align: right;\">1545945</td><td style = \"text-align: right;\">1012518</td><td style = \"text-align: right;\">2233259</td><td style = \"text-align: right;\">960041</td><td style = \"font-style: italic; text-align: right;\">missing</td><td style = \"text-align: right;\">2488886</td><td style = \"text-align: right;\">1641560</td><td style = \"text-align: right;\">418654</td><td style = \"text-align: right;\">428338</td><td style = \"text-align: right;\">1033915</td><td style = \"text-align: right;\">1698211</td><td style = \"font-style: italic; text-align: right;\">missing</td><td style = \"text-align: right;\">467664</td><td style = \"text-align: right;\">367257</td><td style = \"text-align: right;\">421205</td><td style = \"text-align: right;\">994879</td><td style = \"text-align: right;\">360077</td><td style = \"text-align: right;\">1229797</td><td style = \"text-align: right;\">9831420</td><td style = \"text-align: right;\">2818473</td><td style = \"text-align: right;\">6316247</td><td style = \"text-align: right;\">1645663</td><td style = \"text-align: right;\">204239</td><td style = \"text-align: right;\">2423231</td><td style = \"text-align: right;\">3044397</td><td style = \"text-align: right;\">758751</td><td style = \"text-align: right;\">150725</td><td style = \"text-align: right;\">639901</td><td style = \"text-align: right;\">923675</td><td style = \"text-align: right;\">1583599</td><td style = \"text-align: right;\">378485</td><td style = \"text-align: right;\">2869015</td><td style = \"text-align: right;\">423382</td><td style = \"text-align: right;\">1526372</td><td style = \"text-align: right;\">5318977</td><td style = \"text-align: right;\">1254324</td><td style = \"text-align: right;\">881225</td><td style = \"text-align: right;\">1430398</td><td style = \"text-align: right;\">504972</td><td style = \"text-align: right;\">32971338</td><td style = \"text-align: right;\">949383</td><td style = \"text-align: right;\">527144</td><td style = \"text-align: right;\">1847084</td><td style = \"text-align: right;\">1067885</td><td style = \"text-align: right;\">1156942</td><td style = \"text-align: right;\">9884318</td><td style = \"text-align: right;\">3207956</td><td style = \"text-align: right;\">1741312</td><td style = \"text-align: right;\">4193614</td><td style = \"text-align: right;\">496343</td><td style = \"text-align: right;\">339029</td><td style = \"text-align: right;\">1809917</td><td style = \"text-align: right;\">2341200</td><td style = \"text-align: right;\">3339613</td><td style = \"text-align: right;\">2144605</td><td style = \"text-align: right;\">518009</td><td style = \"text-align: right;\">932406</td><td style = \"text-align: right;\">1471912</td><td style = \"text-align: right;\">709821</td><td style = \"text-align: right;\">2622923</td><td style = \"font-style: italic; text-align: right;\">missing</td><td style = \"text-align: right;\">1823360</td><td style = \"text-align: right;\">1576520</td><td style = \"text-align: right;\">2121698</td><td style = \"text-align: right;\">645931</td><td style = \"text-align: right;\">1384635</td><td style = \"text-align: right;\">347802</td><td style = \"text-align: right;\">833046</td><td style = \"text-align: right;\">931433</td><td style = \"text-align: right;\">1612893</td><td style = \"text-align: right;\">1926985</td><td style = \"text-align: right;\">878334</td><td style = \"text-align: right;\">1266652</td><td style = \"text-align: right;\">1520313</td><td style = \"text-align: right;\">1872390</td><td style = \"text-align: right;\">763380</td><td style = \"text-align: right;\">965917</td><td style = \"text-align: right;\">884999</td><td style = \"text-align: right;\">589202</td><td style = \"text-align: right;\">513388</td><td style = \"text-align: right;\">580412</td><td style = \"text-align: right;\">2591889</td><td style = \"font-style: italic; text-align: right;\">missing</td><td style = \"text-align: right;\">1647143</td><td style = \"text-align: right;\">1178688</td><td style = \"text-align: right;\">343777</td><td style = \"text-align: right;\">1414836</td><td style = \"text-align: right;\">4490215</td><td style = \"text-align: right;\">372223</td><td style = \"text-align: right;\">764813</td><td style = \"text-align: right;\">&ctdot;</td></tr><tr><td class = \"rowNumber\" style = \"font-weight: bold; text-align: right;\">3</td><td style = \"text-align: left;\">248.1493_2340</td><td style = \"text-align: right;\">1390596</td><td style = \"text-align: right;\">611668</td><td style = \"text-align: right;\">496154</td><td style = \"text-align: right;\">4441903</td><td style = \"text-align: right;\">353392</td><td style = \"text-align: right;\">2384500</td><td style = \"text-align: right;\">625752</td><td style = \"text-align: right;\">3337998</td><td style = \"text-align: right;\">1418258</td><td style = \"text-align: right;\">2200334</td><td style = \"text-align: right;\">2782306</td><td style = \"text-align: right;\">5343757</td><td style = \"text-align: right;\">1477881</td><td style = \"text-align: right;\">519289</td><td style = \"text-align: right;\">2051196</td><td style = \"text-align: right;\">1388364</td><td style = \"text-align: right;\">1138314</td><td style = \"text-align: right;\">938979</td><td style = \"text-align: right;\">1585871</td><td style = \"text-align: right;\">1512594</td><td style = \"text-align: right;\">336672</td><td style = \"text-align: right;\">682899</td><td style = \"text-align: right;\">791622</td><td style = \"text-align: right;\">667230</td><td style = \"text-align: right;\">1487537</td><td style = \"text-align: right;\">803812</td><td style = \"text-align: right;\">3288377</td><td style = \"text-align: right;\">6269711</td><td style = \"text-align: right;\">2483073</td><td style = \"text-align: right;\">3499257</td><td style = \"text-align: right;\">5315271</td><td style = \"text-align: right;\">549214</td><td style = \"text-align: right;\">4121382</td><td style = \"text-align: right;\">2885857</td><td style = \"text-align: right;\">1035489</td><td style = \"text-align: right;\">1047563</td><td style = \"text-align: right;\">1871062</td><td style = \"text-align: right;\">1429121</td><td style = \"text-align: right;\">1619981</td><td style = \"text-align: right;\">640583</td><td style = \"text-align: right;\">5402182</td><td style = \"text-align: right;\">679690</td><td style = \"text-align: right;\">1546138</td><td style = \"text-align: right;\">2660045</td><td style = \"text-align: right;\">2315135</td><td style = \"text-align: right;\">1313943</td><td style = \"text-align: right;\">2282608</td><td style = \"text-align: right;\">663139</td><td style = \"text-align: right;\">4155649</td><td style = \"text-align: right;\">1046672</td><td style = \"text-align: right;\">1537490</td><td style = \"text-align: right;\">1967470</td><td style = \"text-align: right;\">1468699</td><td style = \"text-align: right;\">590178</td><td style = \"text-align: right;\">2790818</td><td style = \"text-align: right;\">2075505</td><td style = \"text-align: right;\">1508166</td><td style = \"text-align: right;\">3245969</td><td style = \"text-align: right;\">908224</td><td style = \"text-align: right;\">620381</td><td style = \"text-align: right;\">2316498</td><td style = \"text-align: right;\">3019875</td><td style = \"text-align: right;\">2519827</td><td style = \"text-align: right;\">1578515</td><td style = \"text-align: right;\">570656</td><td style = \"text-align: right;\">724598</td><td style = \"text-align: right;\">1867997</td><td style = \"text-align: right;\">780593</td><td style = \"text-align: right;\">2749093</td><td style = \"text-align: right;\">536534</td><td style = \"text-align: right;\">1782048</td><td style = \"text-align: right;\">2465048</td><td style = \"text-align: right;\">7228401</td><td style = \"text-align: right;\">978946</td><td style = \"text-align: right;\">1141596</td><td style = \"text-align: right;\">801871</td><td style = \"text-align: right;\">1376799</td><td style = \"text-align: right;\">1372089</td><td style = \"text-align: right;\">1064361</td><td style = \"text-align: right;\">1877337</td><td style = \"text-align: right;\">907323</td><td style = \"text-align: right;\">1348349</td><td style = \"text-align: right;\">2283921</td><td style = \"text-align: right;\">2125402</td><td style = \"text-align: right;\">702625</td><td style = \"text-align: right;\">974513</td><td style = \"text-align: right;\">818867</td><td style = \"text-align: right;\">860186</td><td style = \"text-align: right;\">918701</td><td style = \"text-align: right;\">986190</td><td style = \"text-align: right;\">1789063</td><td style = \"font-style: italic; text-align: right;\">missing</td><td style = \"text-align: right;\">1146048</td><td style = \"text-align: right;\">1224373</td><td style = \"text-align: right;\">726830</td><td style = \"text-align: right;\">1484911</td><td style = \"text-align: right;\">5783758</td><td style = \"text-align: right;\">1363509</td><td style = \"text-align: right;\">1640889</td><td style = \"text-align: right;\">&ctdot;</td></tr></tbody></table></div>"
      ],
      "text/latex": [
       "\\begin{tabular}{r|cccccccc}\n",
       "\t& MetaID & NJHC-00001 & NJHC-00002 & NJHC-00003 & NJHC-00004 & NJHC-00005 & NJHC-00006 & \\\\\n",
       "\t\\hline\n",
       "\t& String15 & Int64? & Int64? & Int64? & Int64? & Int64? & Int64? & \\\\\n",
       "\t\\hline\n",
       "\t1 & 188.1757\\_3080 & 793227 & 1770394 & 1430642 & 2445188 & 1352542 & 1242461 & $\\dots$ \\\\\n",
       "\t2 & 248.1493\\_2400 & 461775 & 179888 & \\emph{missing} & 3038025 & 230445 & 2330353 & $\\dots$ \\\\\n",
       "\t3 & 248.1493\\_2340 & 1390596 & 611668 & 496154 & 4441903 & 353392 & 2384500 & $\\dots$ \\\\\n",
       "\\end{tabular}\n"
      ],
      "text/plain": [
       "\u001b[1m3×1299 DataFrame\u001b[0m\n",
       "\u001b[1m Row \u001b[0m│\u001b[1m MetaID        \u001b[0m\u001b[1m NJHC-00001 \u001b[0m\u001b[1m NJHC-00002 \u001b[0m\u001b[1m NJHC-00003 \u001b[0m\u001b[1m NJHC-00004 \u001b[0m\u001b[1m NJHC-000\u001b[0m ⋯\n",
       "     │\u001b[90m String15      \u001b[0m\u001b[90m Int64?     \u001b[0m\u001b[90m Int64?     \u001b[0m\u001b[90m Int64?     \u001b[0m\u001b[90m Int64?     \u001b[0m\u001b[90m Int64?  \u001b[0m ⋯\n",
       "─────┼──────────────────────────────────────────────────────────────────────────\n",
       "   1 │ 188.1757_3080      793227     1770394     1430642     2445188     13525 ⋯\n",
       "   2 │ 248.1493_2400      461775      179888 \u001b[90m    missing \u001b[0m    3038025      2304\n",
       "   3 │ 248.1493_2340     1390596      611668      496154     4441903      3533\n",
       "\u001b[36m                                                            1294 columns omitted\u001b[0m"
      ]
     },
     "execution_count": 8,
     "metadata": {},
     "output_type": "execute_result"
    }
   ],
   "source": [
    "filePosEarlyMetabo = realpath(joinpath(@__DIR__,\"..\",\"..\",\"data\",\"raw\",\"COPDGene\",\"pos.early.txt\"))\n",
    "prepend(filePosEarlyMetabo, \"MetaID\t\")\n",
    "filePosEarlyMetabo = realpath(joinpath(@__DIR__,\"..\",\"..\",\"data\",\"raw\",\"COPDGene\",\"new_pos.early.txt\"))\n",
    "dfPosEarlyMetabo = CSV.read(filePosEarlyMetabo, DataFrame;  delim = '\t', missingstring = \"NA\");\n",
    "rm(filePosEarlyMetabo)\n",
    "first(dfPosEarlyMetabo, 3)"
   ]
  },
  {
   "cell_type": "markdown",
   "id": "bddaeb13",
   "metadata": {},
   "source": [
    "#### Positive late"
   ]
  },
  {
   "cell_type": "code",
   "execution_count": 9,
   "id": "f2396110",
   "metadata": {},
   "outputs": [
    {
     "data": {
      "text/html": [
       "<div><div style = \"float: left;\"><span>3×1299 DataFrame</span></div><div style = \"float: right;\"><span style = \"font-style: italic;\">1199 columns omitted</span></div><div style = \"clear: both;\"></div></div><div class = \"data-frame\" style = \"overflow-x: scroll;\"><table class = \"data-frame\" style = \"margin-bottom: 6px;\"><thead><tr class = \"header\"><th class = \"rowNumber\" style = \"font-weight: bold; text-align: right;\">Row</th><th style = \"text-align: left;\">MetaID</th><th style = \"text-align: left;\">NJHC-00001</th><th style = \"text-align: left;\">NJHC-00002</th><th style = \"text-align: left;\">NJHC-00003</th><th style = \"text-align: left;\">NJHC-00004</th><th style = \"text-align: left;\">NJHC-00005</th><th style = \"text-align: left;\">NJHC-00006</th><th style = \"text-align: left;\">NJHC-00007</th><th style = \"text-align: left;\">NJHC-00008</th><th style = \"text-align: left;\">NJHC-00009</th><th style = \"text-align: left;\">NJHC-00010</th><th style = \"text-align: left;\">NJHC-00011</th><th style = \"text-align: left;\">NJHC-00012</th><th style = \"text-align: left;\">NJHC-00013</th><th style = \"text-align: left;\">NJHC-00014</th><th style = \"text-align: left;\">NJHC-00015</th><th style = \"text-align: left;\">NJHC-00016</th><th style = \"text-align: left;\">NJHC-00017</th><th style = \"text-align: left;\">NJHC-00018</th><th style = \"text-align: left;\">NJHC-00019</th><th style = \"text-align: left;\">NJHC-00020</th><th style = \"text-align: left;\">NJHC-00021</th><th style = \"text-align: left;\">NJHC-00022</th><th style = \"text-align: left;\">NJHC-00023</th><th style = \"text-align: left;\">NJHC-00024</th><th style = \"text-align: left;\">NJHC-00025</th><th style = \"text-align: left;\">NJHC-00026</th><th style = \"text-align: left;\">NJHC-00027</th><th style = \"text-align: left;\">NJHC-00028</th><th style = \"text-align: left;\">NJHC-00029</th><th style = \"text-align: left;\">NJHC-00030</th><th style = \"text-align: left;\">NJHC-00031</th><th style = \"text-align: left;\">NJHC-00032</th><th style = \"text-align: left;\">NJHC-00033</th><th style = \"text-align: left;\">NJHC-00034</th><th style = \"text-align: left;\">NJHC-00035</th><th style = \"text-align: left;\">NJHC-00036</th><th style = \"text-align: left;\">NJHC-00037</th><th style = \"text-align: left;\">NJHC-00038</th><th style = \"text-align: left;\">NJHC-00039</th><th style = \"text-align: left;\">NJHC-00040</th><th style = \"text-align: left;\">NJHC-00041</th><th style = \"text-align: left;\">NJHC-00042</th><th style = \"text-align: left;\">NJHC-00043</th><th style = \"text-align: left;\">NJHC-00044</th><th style = \"text-align: left;\">NJHC-00045</th><th style = \"text-align: left;\">NJHC-00046</th><th style = \"text-align: left;\">NJHC-00047</th><th style = \"text-align: left;\">NJHC-00048</th><th style = \"text-align: left;\">NJHC-00049</th><th style = \"text-align: left;\">NJHC-00050</th><th style = \"text-align: left;\">NJHC-00051</th><th style = \"text-align: left;\">NJHC-00052</th><th style = \"text-align: left;\">NJHC-00053</th><th style = \"text-align: left;\">NJHC-00054</th><th style = \"text-align: left;\">NJHC-00055</th><th style = \"text-align: left;\">NJHC-00056</th><th style = \"text-align: left;\">NJHC-00057</th><th style = \"text-align: left;\">NJHC-00058</th><th style = \"text-align: left;\">NJHC-00059</th><th style = \"text-align: left;\">NJHC-00060</th><th style = \"text-align: left;\">NJHC-00061</th><th style = \"text-align: left;\">NJHC-00062</th><th style = \"text-align: left;\">NJHC-00063</th><th style = \"text-align: left;\">NJHC-00064</th><th style = \"text-align: left;\">NJHC-00065</th><th style = \"text-align: left;\">NJHC-00066</th><th style = \"text-align: left;\">NJHC-00067</th><th style = \"text-align: left;\">NJHC-00068</th><th style = \"text-align: left;\">NJHC-00069</th><th style = \"text-align: left;\">NJHC-00070</th><th style = \"text-align: left;\">NJHC-00071</th><th style = \"text-align: left;\">NJHC-00072</th><th style = \"text-align: left;\">NJHC-00073</th><th style = \"text-align: left;\">NJHC-00074</th><th style = \"text-align: left;\">NJHC-00075</th><th style = \"text-align: left;\">NJHC-00076</th><th style = \"text-align: left;\">NJHC-00077</th><th style = \"text-align: left;\">NJHC-00078</th><th style = \"text-align: left;\">NJHC-00079</th><th style = \"text-align: left;\">NJHC-00080</th><th style = \"text-align: left;\">NJHC-00081</th><th style = \"text-align: left;\">NJHC-00082</th><th style = \"text-align: left;\">NJHC-00083</th><th style = \"text-align: left;\">NJHC-00084</th><th style = \"text-align: left;\">NJHC-00085</th><th style = \"text-align: left;\">NJHC-00086</th><th style = \"text-align: left;\">NJHC-00087</th><th style = \"text-align: left;\">NJHC-00088</th><th style = \"text-align: left;\">NJHC-00089</th><th style = \"text-align: left;\">NJHC-00090</th><th style = \"text-align: left;\">NJHC-00091</th><th style = \"text-align: left;\">NJHC-00092</th><th style = \"text-align: left;\">NJHC-00093</th><th style = \"text-align: left;\">NJHC-00094</th><th style = \"text-align: left;\">NJHC-00095</th><th style = \"text-align: left;\">NJHC-00096</th><th style = \"text-align: left;\">NJHC-00097</th><th style = \"text-align: left;\">NJHC-00098</th><th style = \"text-align: left;\">NJHC-00099</th><th style = \"text-align: right;\">&ctdot;</th></tr><tr class = \"subheader headerLastRow\"><th class = \"rowNumber\" style = \"font-weight: bold; text-align: right;\"></th><th title = \"String15\" style = \"text-align: left;\">String15</th><th title = \"Union{Missing, Int64}\" style = \"text-align: left;\">Int64?</th><th title = \"Union{Missing, Int64}\" style = \"text-align: left;\">Int64?</th><th title = \"Union{Missing, Int64}\" style = \"text-align: left;\">Int64?</th><th title = \"Union{Missing, Int64}\" style = \"text-align: left;\">Int64?</th><th title = \"Union{Missing, Int64}\" style = \"text-align: left;\">Int64?</th><th title = \"Union{Missing, Int64}\" style = \"text-align: left;\">Int64?</th><th title = \"Union{Missing, Int64}\" style = \"text-align: left;\">Int64?</th><th title = \"Union{Missing, Int64}\" style = \"text-align: left;\">Int64?</th><th title = \"Union{Missing, Int64}\" style = \"text-align: left;\">Int64?</th><th title = \"Union{Missing, Int64}\" style = \"text-align: left;\">Int64?</th><th title = \"Union{Missing, Int64}\" style = \"text-align: left;\">Int64?</th><th title = \"Union{Missing, Int64}\" style = \"text-align: left;\">Int64?</th><th title = \"Union{Missing, Int64}\" style = \"text-align: left;\">Int64?</th><th title = \"Union{Missing, Int64}\" style = \"text-align: left;\">Int64?</th><th title = \"Union{Missing, Int64}\" style = \"text-align: left;\">Int64?</th><th title = \"Union{Missing, Int64}\" style = \"text-align: left;\">Int64?</th><th title = \"Union{Missing, Int64}\" style = \"text-align: left;\">Int64?</th><th title = \"Union{Missing, Int64}\" style = \"text-align: left;\">Int64?</th><th title = \"Union{Missing, Int64}\" style = \"text-align: left;\">Int64?</th><th title = \"Union{Missing, Int64}\" style = \"text-align: left;\">Int64?</th><th title = \"Union{Missing, Int64}\" style = \"text-align: left;\">Int64?</th><th title = \"Union{Missing, Int64}\" style = \"text-align: left;\">Int64?</th><th title = \"Union{Missing, Int64}\" style = \"text-align: left;\">Int64?</th><th title = \"Union{Missing, Int64}\" style = \"text-align: left;\">Int64?</th><th title = \"Union{Missing, Int64}\" style = \"text-align: left;\">Int64?</th><th title = \"Union{Missing, Int64}\" style = \"text-align: left;\">Int64?</th><th title = \"Union{Missing, Int64}\" style = \"text-align: left;\">Int64?</th><th title = \"Union{Missing, Int64}\" style = \"text-align: left;\">Int64?</th><th title = \"Union{Missing, Int64}\" style = \"text-align: left;\">Int64?</th><th title = \"Union{Missing, Int64}\" style = \"text-align: left;\">Int64?</th><th title = \"Union{Missing, Int64}\" style = \"text-align: left;\">Int64?</th><th title = \"Union{Missing, Int64}\" style = \"text-align: left;\">Int64?</th><th title = \"Union{Missing, Int64}\" style = \"text-align: left;\">Int64?</th><th title = \"Union{Missing, Int64}\" style = \"text-align: left;\">Int64?</th><th title = \"Union{Missing, Int64}\" style = \"text-align: left;\">Int64?</th><th title = \"Union{Missing, Int64}\" style = \"text-align: left;\">Int64?</th><th title = \"Union{Missing, Int64}\" style = \"text-align: left;\">Int64?</th><th title = \"Union{Missing, Int64}\" style = \"text-align: left;\">Int64?</th><th title = \"Union{Missing, Int64}\" style = \"text-align: left;\">Int64?</th><th title = \"Union{Missing, Int64}\" style = \"text-align: left;\">Int64?</th><th title = \"Union{Missing, Int64}\" style = \"text-align: left;\">Int64?</th><th title = \"Union{Missing, Int64}\" style = \"text-align: left;\">Int64?</th><th title = \"Union{Missing, Int64}\" style = \"text-align: left;\">Int64?</th><th title = \"Union{Missing, Int64}\" style = \"text-align: left;\">Int64?</th><th title = \"Union{Missing, Int64}\" style = \"text-align: left;\">Int64?</th><th title = \"Union{Missing, Int64}\" style = \"text-align: left;\">Int64?</th><th title = \"Union{Missing, Int64}\" style = \"text-align: left;\">Int64?</th><th title = \"Union{Missing, Int64}\" style = \"text-align: left;\">Int64?</th><th title = \"Union{Missing, Int64}\" style = \"text-align: left;\">Int64?</th><th title = \"Union{Missing, Int64}\" style = \"text-align: left;\">Int64?</th><th title = \"Union{Missing, Int64}\" style = \"text-align: left;\">Int64?</th><th title = \"Union{Missing, Int64}\" style = \"text-align: left;\">Int64?</th><th title = \"Union{Missing, Int64}\" style = \"text-align: left;\">Int64?</th><th title = \"Union{Missing, Int64}\" style = \"text-align: left;\">Int64?</th><th title = \"Union{Missing, Int64}\" style = \"text-align: left;\">Int64?</th><th title = \"Union{Missing, Int64}\" style = \"text-align: left;\">Int64?</th><th title = \"Union{Missing, Int64}\" style = \"text-align: left;\">Int64?</th><th title = \"Union{Missing, Int64}\" style = \"text-align: left;\">Int64?</th><th title = \"Union{Missing, Int64}\" style = \"text-align: left;\">Int64?</th><th title = \"Union{Missing, Int64}\" style = \"text-align: left;\">Int64?</th><th title = \"Union{Missing, Int64}\" style = \"text-align: left;\">Int64?</th><th title = \"Union{Missing, Int64}\" style = \"text-align: left;\">Int64?</th><th title = \"Union{Missing, Int64}\" style = \"text-align: left;\">Int64?</th><th title = \"Union{Missing, Int64}\" style = \"text-align: left;\">Int64?</th><th title = \"Union{Missing, Int64}\" style = \"text-align: left;\">Int64?</th><th title = \"Union{Missing, Int64}\" style = \"text-align: left;\">Int64?</th><th title = \"Union{Missing, Int64}\" style = \"text-align: left;\">Int64?</th><th title = \"Union{Missing, Int64}\" style = \"text-align: left;\">Int64?</th><th title = \"Union{Missing, Int64}\" style = \"text-align: left;\">Int64?</th><th title = \"Union{Missing, Int64}\" style = \"text-align: left;\">Int64?</th><th title = \"Union{Missing, Int64}\" style = \"text-align: left;\">Int64?</th><th title = \"Union{Missing, Int64}\" style = \"text-align: left;\">Int64?</th><th title = \"Union{Missing, Int64}\" style = \"text-align: left;\">Int64?</th><th title = \"Union{Missing, Int64}\" style = \"text-align: left;\">Int64?</th><th title = \"Union{Missing, Int64}\" style = \"text-align: left;\">Int64?</th><th title = \"Union{Missing, Int64}\" style = \"text-align: left;\">Int64?</th><th title = \"Union{Missing, Int64}\" style = \"text-align: left;\">Int64?</th><th title = \"Union{Missing, Int64}\" style = \"text-align: left;\">Int64?</th><th title = \"Union{Missing, Int64}\" style = \"text-align: left;\">Int64?</th><th title = \"Union{Missing, Int64}\" style = \"text-align: left;\">Int64?</th><th title = \"Union{Missing, Int64}\" style = \"text-align: left;\">Int64?</th><th title = \"Union{Missing, Int64}\" style = \"text-align: left;\">Int64?</th><th title = \"Union{Missing, Int64}\" style = \"text-align: left;\">Int64?</th><th title = \"Union{Missing, Int64}\" style = \"text-align: left;\">Int64?</th><th title = \"Union{Missing, Int64}\" style = \"text-align: left;\">Int64?</th><th title = \"Union{Missing, Int64}\" style = \"text-align: left;\">Int64?</th><th title = \"Union{Missing, Int64}\" style = \"text-align: left;\">Int64?</th><th title = \"Union{Missing, Int64}\" style = \"text-align: left;\">Int64?</th><th title = \"Union{Missing, Int64}\" style = \"text-align: left;\">Int64?</th><th title = \"Union{Missing, Int64}\" style = \"text-align: left;\">Int64?</th><th title = \"Union{Missing, Int64}\" style = \"text-align: left;\">Int64?</th><th title = \"Union{Missing, Int64}\" style = \"text-align: left;\">Int64?</th><th title = \"Union{Missing, Int64}\" style = \"text-align: left;\">Int64?</th><th title = \"Union{Missing, Int64}\" style = \"text-align: left;\">Int64?</th><th title = \"Union{Missing, Int64}\" style = \"text-align: left;\">Int64?</th><th title = \"Union{Missing, Int64}\" style = \"text-align: left;\">Int64?</th><th title = \"Union{Missing, Int64}\" style = \"text-align: left;\">Int64?</th><th title = \"Union{Missing, Int64}\" style = \"text-align: left;\">Int64?</th><th title = \"Union{Missing, Int64}\" style = \"text-align: left;\">Int64?</th><th title = \"Union{Missing, Int64}\" style = \"text-align: right;\">&ctdot;</th></tr></thead><tbody><tr><td class = \"rowNumber\" style = \"font-weight: bold; text-align: right;\">1</td><td style = \"text-align: left;\">464.3136_1566</td><td style = \"font-style: italic; text-align: right;\">missing</td><td style = \"text-align: right;\">121381</td><td style = \"font-style: italic; text-align: right;\">missing</td><td style = \"font-style: italic; text-align: right;\">missing</td><td style = \"text-align: right;\">92179</td><td style = \"text-align: right;\">104779</td><td style = \"font-style: italic; text-align: right;\">missing</td><td style = \"text-align: right;\">50217</td><td style = \"text-align: right;\">110039</td><td style = \"font-style: italic; text-align: right;\">missing</td><td style = \"text-align: right;\">73924</td><td style = \"font-style: italic; text-align: right;\">missing</td><td style = \"text-align: right;\">175276</td><td style = \"text-align: right;\">128087</td><td style = \"text-align: right;\">117437</td><td style = \"font-style: italic; text-align: right;\">missing</td><td style = \"font-style: italic; text-align: right;\">missing</td><td style = \"text-align: right;\">114760</td><td style = \"font-style: italic; text-align: right;\">missing</td><td style = \"text-align: right;\">459649</td><td style = \"text-align: right;\">54499</td><td style = \"font-style: italic; text-align: right;\">missing</td><td style = \"text-align: right;\">301693</td><td style = \"text-align: right;\">155369</td><td style = \"text-align: right;\">212201</td><td style = \"font-style: italic; text-align: right;\">missing</td><td style = \"text-align: right;\">109254</td><td style = \"font-style: italic; text-align: right;\">missing</td><td style = \"font-style: italic; text-align: right;\">missing</td><td style = \"font-style: italic; text-align: right;\">missing</td><td style = \"font-style: italic; text-align: right;\">missing</td><td style = \"font-style: italic; text-align: right;\">missing</td><td style = \"font-style: italic; text-align: right;\">missing</td><td style = \"text-align: right;\">127431</td><td style = \"font-style: italic; text-align: right;\">missing</td><td style = \"font-style: italic; text-align: right;\">missing</td><td style = \"text-align: right;\">60451</td><td style = \"text-align: right;\">190424</td><td style = \"text-align: right;\">139360</td><td style = \"font-style: italic; text-align: right;\">missing</td><td style = \"font-style: italic; text-align: right;\">missing</td><td style = \"text-align: right;\">74256</td><td style = \"text-align: right;\">107344</td><td style = \"font-style: italic; text-align: right;\">missing</td><td style = \"text-align: right;\">76346</td><td style = \"text-align: right;\">86359</td><td style = \"font-style: italic; text-align: right;\">missing</td><td style = \"text-align: right;\">123261</td><td style = \"text-align: right;\">91532</td><td style = \"text-align: right;\">162242</td><td style = \"font-style: italic; text-align: right;\">missing</td><td style = \"text-align: right;\">165316</td><td style = \"text-align: right;\">192507</td><td style = \"text-align: right;\">256216</td><td style = \"text-align: right;\">103320</td><td style = \"font-style: italic; text-align: right;\">missing</td><td style = \"font-style: italic; text-align: right;\">missing</td><td style = \"font-style: italic; text-align: right;\">missing</td><td style = \"font-style: italic; text-align: right;\">missing</td><td style = \"text-align: right;\">158541</td><td style = \"font-style: italic; text-align: right;\">missing</td><td style = \"font-style: italic; text-align: right;\">missing</td><td style = \"text-align: right;\">86365</td><td style = \"font-style: italic; text-align: right;\">missing</td><td style = \"font-style: italic; text-align: right;\">missing</td><td style = \"text-align: right;\">96547</td><td style = \"text-align: right;\">144052</td><td style = \"text-align: right;\">199334</td><td style = \"font-style: italic; text-align: right;\">missing</td><td style = \"text-align: right;\">124861</td><td style = \"text-align: right;\">71314</td><td style = \"font-style: italic; text-align: right;\">missing</td><td style = \"font-style: italic; text-align: right;\">missing</td><td style = \"text-align: right;\">142584</td><td style = \"text-align: right;\">133625</td><td style = \"text-align: right;\">167252</td><td style = \"font-style: italic; text-align: right;\">missing</td><td style = \"text-align: right;\">53907</td><td style = \"font-style: italic; text-align: right;\">missing</td><td style = \"text-align: right;\">102870</td><td style = \"text-align: right;\">108300</td><td style = \"text-align: right;\">137366</td><td style = \"font-style: italic; text-align: right;\">missing</td><td style = \"font-style: italic; text-align: right;\">missing</td><td style = \"text-align: right;\">86474</td><td style = \"text-align: right;\">55021</td><td style = \"text-align: right;\">75595</td><td style = \"text-align: right;\">101706</td><td style = \"font-style: italic; text-align: right;\">missing</td><td style = \"font-style: italic; text-align: right;\">missing</td><td style = \"text-align: right;\">296060</td><td style = \"text-align: right;\">242269</td><td style = \"font-style: italic; text-align: right;\">missing</td><td style = \"font-style: italic; text-align: right;\">missing</td><td style = \"text-align: right;\">220422</td><td style = \"text-align: right;\">368764</td><td style = \"font-style: italic; text-align: right;\">missing</td><td style = \"text-align: right;\">128469</td><td style = \"text-align: right;\">125418</td><td style = \"text-align: right;\">&ctdot;</td></tr><tr><td class = \"rowNumber\" style = \"font-weight: bold; text-align: right;\">2</td><td style = \"text-align: left;\">766.5745_2154</td><td style = \"text-align: right;\">17943620</td><td style = \"text-align: right;\">21228332</td><td style = \"text-align: right;\">8985557</td><td style = \"text-align: right;\">15501571</td><td style = \"text-align: right;\">12890254</td><td style = \"text-align: right;\">7011481</td><td style = \"text-align: right;\">14887996</td><td style = \"text-align: right;\">19450976</td><td style = \"text-align: right;\">14642928</td><td style = \"text-align: right;\">10345833</td><td style = \"text-align: right;\">14922770</td><td style = \"text-align: right;\">10754756</td><td style = \"text-align: right;\">14962296</td><td style = \"text-align: right;\">11014464</td><td style = \"text-align: right;\">10154187</td><td style = \"text-align: right;\">17511932</td><td style = \"text-align: right;\">12248975</td><td style = \"text-align: right;\">17318294</td><td style = \"text-align: right;\">8548914</td><td style = \"text-align: right;\">16482611</td><td style = \"text-align: right;\">11722406</td><td style = \"text-align: right;\">14439493</td><td style = \"text-align: right;\">14717870</td><td style = \"text-align: right;\">15232025</td><td style = \"text-align: right;\">7873695</td><td style = \"text-align: right;\">19496312</td><td style = \"text-align: right;\">11960726</td><td style = \"text-align: right;\">13892088</td><td style = \"text-align: right;\">9441790</td><td style = \"text-align: right;\">8235068</td><td style = \"text-align: right;\">8724123</td><td style = \"text-align: right;\">7686200</td><td style = \"text-align: right;\">20299270</td><td style = \"text-align: right;\">14137565</td><td style = \"text-align: right;\">10259851</td><td style = \"text-align: right;\">11693458</td><td style = \"text-align: right;\">11345628</td><td style = \"text-align: right;\">21627166</td><td style = \"text-align: right;\">12100156</td><td style = \"text-align: right;\">16308241</td><td style = \"text-align: right;\">15695811</td><td style = \"text-align: right;\">19154932</td><td style = \"text-align: right;\">6919993</td><td style = \"text-align: right;\">13560092</td><td style = \"text-align: right;\">14827416</td><td style = \"text-align: right;\">9370055</td><td style = \"text-align: right;\">11107664</td><td style = \"text-align: right;\">11835805</td><td style = \"text-align: right;\">8846538</td><td style = \"text-align: right;\">19685776</td><td style = \"text-align: right;\">14099944</td><td style = \"text-align: right;\">15093120</td><td style = \"text-align: right;\">13611479</td><td style = \"text-align: right;\">18335448</td><td style = \"text-align: right;\">14405798</td><td style = \"text-align: right;\">14238537</td><td style = \"text-align: right;\">15580987</td><td style = \"text-align: right;\">26864086</td><td style = \"text-align: right;\">12691393</td><td style = \"text-align: right;\">9516388</td><td style = \"text-align: right;\">16754992</td><td style = \"text-align: right;\">12915410</td><td style = \"text-align: right;\">15053803</td><td style = \"text-align: right;\">10403349</td><td style = \"text-align: right;\">12041722</td><td style = \"text-align: right;\">13868993</td><td style = \"text-align: right;\">13180920</td><td style = \"text-align: right;\">8377655</td><td style = \"text-align: right;\">14654857</td><td style = \"text-align: right;\">13482244</td><td style = \"text-align: right;\">14297997</td><td style = \"text-align: right;\">20679836</td><td style = \"text-align: right;\">10153148</td><td style = \"text-align: right;\">15551559</td><td style = \"text-align: right;\">20174558</td><td style = \"text-align: right;\">11130874</td><td style = \"text-align: right;\">12987015</td><td style = \"text-align: right;\">7846916</td><td style = \"text-align: right;\">9427329</td><td style = \"text-align: right;\">17394820</td><td style = \"text-align: right;\">7426529</td><td style = \"text-align: right;\">20721118</td><td style = \"text-align: right;\">13369279</td><td style = \"text-align: right;\">12803387</td><td style = \"text-align: right;\">10361984</td><td style = \"text-align: right;\">15565525</td><td style = \"text-align: right;\">9525466</td><td style = \"text-align: right;\">9925866</td><td style = \"text-align: right;\">16193221</td><td style = \"text-align: right;\">14410869</td><td style = \"text-align: right;\">16280032</td><td style = \"text-align: right;\">13262165</td><td style = \"text-align: right;\">15846166</td><td style = \"text-align: right;\">8310026</td><td style = \"text-align: right;\">13384255</td><td style = \"text-align: right;\">14642830</td><td style = \"text-align: right;\">12786342</td><td style = \"text-align: right;\">8531727</td><td style = \"text-align: right;\">9936921</td><td style = \"text-align: right;\">&ctdot;</td></tr><tr><td class = \"rowNumber\" style = \"font-weight: bold; text-align: right;\">3</td><td style = \"text-align: left;\">724.5276_2270</td><td style = \"text-align: right;\">8595852</td><td style = \"text-align: right;\">10131860</td><td style = \"text-align: right;\">5964946</td><td style = \"text-align: right;\">5198212</td><td style = \"text-align: right;\">6963317</td><td style = \"text-align: right;\">8483393</td><td style = \"text-align: right;\">9278738</td><td style = \"text-align: right;\">12119313</td><td style = \"text-align: right;\">11478797</td><td style = \"text-align: right;\">6407578</td><td style = \"text-align: right;\">7209232</td><td style = \"text-align: right;\">7322834</td><td style = \"text-align: right;\">5644429</td><td style = \"text-align: right;\">11286119</td><td style = \"text-align: right;\">7818366</td><td style = \"text-align: right;\">5407538</td><td style = \"text-align: right;\">4148380</td><td style = \"text-align: right;\">13945082</td><td style = \"text-align: right;\">3817160</td><td style = \"text-align: right;\">10590262</td><td style = \"text-align: right;\">5836108</td><td style = \"text-align: right;\">9719604</td><td style = \"text-align: right;\">24440482</td><td style = \"text-align: right;\">7294398</td><td style = \"text-align: right;\">7460534</td><td style = \"text-align: right;\">10446229</td><td style = \"text-align: right;\">5020924</td><td style = \"text-align: right;\">10461462</td><td style = \"text-align: right;\">5018773</td><td style = \"text-align: right;\">4023266</td><td style = \"text-align: right;\">6923729</td><td style = \"text-align: right;\">5602483</td><td style = \"text-align: right;\">9040959</td><td style = \"text-align: right;\">7672750</td><td style = \"text-align: right;\">8123296</td><td style = \"text-align: right;\">7060455</td><td style = \"text-align: right;\">5775747</td><td style = \"text-align: right;\">15351736</td><td style = \"text-align: right;\">12968388</td><td style = \"text-align: right;\">6748840</td><td style = \"text-align: right;\">6414935</td><td style = \"text-align: right;\">9184627</td><td style = \"text-align: right;\">7089467</td><td style = \"text-align: right;\">7729486</td><td style = \"text-align: right;\">7591673</td><td style = \"text-align: right;\">6707180</td><td style = \"text-align: right;\">6478604</td><td style = \"text-align: right;\">6818768</td><td style = \"text-align: right;\">4438010</td><td style = \"text-align: right;\">7826705</td><td style = \"text-align: right;\">5944516</td><td style = \"text-align: right;\">21495578</td><td style = \"text-align: right;\">14497137</td><td style = \"text-align: right;\">10294155</td><td style = \"text-align: right;\">10006150</td><td style = \"text-align: right;\">5413952</td><td style = \"text-align: right;\">7153786</td><td style = \"text-align: right;\">31849424</td><td style = \"text-align: right;\">7750888</td><td style = \"text-align: right;\">4805131</td><td style = \"text-align: right;\">6228875</td><td style = \"text-align: right;\">8701815</td><td style = \"text-align: right;\">14265001</td><td style = \"text-align: right;\">6590102</td><td style = \"text-align: right;\">5796190</td><td style = \"text-align: right;\">9175119</td><td style = \"text-align: right;\">6711890</td><td style = \"text-align: right;\">6369578</td><td style = \"text-align: right;\">8174174</td><td style = \"text-align: right;\">8116214</td><td style = \"text-align: right;\">11163536</td><td style = \"text-align: right;\">6316493</td><td style = \"text-align: right;\">5144205</td><td style = \"text-align: right;\">8522233</td><td style = \"text-align: right;\">11635584</td><td style = \"text-align: right;\">5650288</td><td style = \"text-align: right;\">4969183</td><td style = \"text-align: right;\">4933958</td><td style = \"text-align: right;\">4922543</td><td style = \"text-align: right;\">7944928</td><td style = \"text-align: right;\">6668362</td><td style = \"text-align: right;\">13894920</td><td style = \"text-align: right;\">6906466</td><td style = \"text-align: right;\">13630501</td><td style = \"text-align: right;\">6493652</td><td style = \"text-align: right;\">7446530</td><td style = \"text-align: right;\">5947701</td><td style = \"text-align: right;\">5533975</td><td style = \"text-align: right;\">4832431</td><td style = \"text-align: right;\">8604270</td><td style = \"text-align: right;\">13047888</td><td style = \"text-align: right;\">6962092</td><td style = \"text-align: right;\">8217220</td><td style = \"text-align: right;\">5608664</td><td style = \"text-align: right;\">4432561</td><td style = \"text-align: right;\">8444706</td><td style = \"text-align: right;\">4308160</td><td style = \"text-align: right;\">6812751</td><td style = \"text-align: right;\">7799625</td><td style = \"text-align: right;\">&ctdot;</td></tr></tbody></table></div>"
      ],
      "text/latex": [
       "\\begin{tabular}{r|cccccccc}\n",
       "\t& MetaID & NJHC-00001 & NJHC-00002 & NJHC-00003 & NJHC-00004 & NJHC-00005 & NJHC-00006 & \\\\\n",
       "\t\\hline\n",
       "\t& String15 & Int64? & Int64? & Int64? & Int64? & Int64? & Int64? & \\\\\n",
       "\t\\hline\n",
       "\t1 & 464.3136\\_1566 & \\emph{missing} & 121381 & \\emph{missing} & \\emph{missing} & 92179 & 104779 & $\\dots$ \\\\\n",
       "\t2 & 766.5745\\_2154 & 17943620 & 21228332 & 8985557 & 15501571 & 12890254 & 7011481 & $\\dots$ \\\\\n",
       "\t3 & 724.5276\\_2270 & 8595852 & 10131860 & 5964946 & 5198212 & 6963317 & 8483393 & $\\dots$ \\\\\n",
       "\\end{tabular}\n"
      ],
      "text/plain": [
       "\u001b[1m3×1299 DataFrame\u001b[0m\n",
       "\u001b[1m Row \u001b[0m│\u001b[1m MetaID        \u001b[0m\u001b[1m NJHC-00001 \u001b[0m\u001b[1m NJHC-00002 \u001b[0m\u001b[1m NJHC-00003 \u001b[0m\u001b[1m NJHC-00004 \u001b[0m\u001b[1m NJHC-000\u001b[0m ⋯\n",
       "     │\u001b[90m String15      \u001b[0m\u001b[90m Int64?     \u001b[0m\u001b[90m Int64?     \u001b[0m\u001b[90m Int64?     \u001b[0m\u001b[90m Int64?     \u001b[0m\u001b[90m Int64?  \u001b[0m ⋯\n",
       "─────┼──────────────────────────────────────────────────────────────────────────\n",
       "   1 │ 464.3136_1566 \u001b[90m    missing \u001b[0m     121381 \u001b[90m    missing \u001b[0m\u001b[90m    missing \u001b[0m      921 ⋯\n",
       "   2 │ 766.5745_2154    17943620    21228332     8985557    15501571    128902\n",
       "   3 │ 724.5276_2270     8595852    10131860     5964946     5198212     69633\n",
       "\u001b[36m                                                            1294 columns omitted\u001b[0m"
      ]
     },
     "execution_count": 9,
     "metadata": {},
     "output_type": "execute_result"
    }
   ],
   "source": [
    "filePosLateMetabo = realpath(joinpath(@__DIR__,\"..\",\"..\",\"data\",\"raw\",\"COPDGene\",\"pos.late.txt\"))\n",
    "prepend(filePosLateMetabo, \"MetaID\t\")\n",
    "filePosLateMetabo = realpath(joinpath(@__DIR__,\"..\",\"..\",\"data\",\"raw\",\"COPDGene\",\"new_pos.late.txt\"))\n",
    "dfPosLateMetabo = CSV.read(filePosLateMetabo, DataFrame;  delim = '\t', missingstring = \"NA\");\n",
    "rm(filePosLateMetabo)\n",
    "first(dfPosLateMetabo, 3)"
   ]
  },
  {
   "cell_type": "markdown",
   "id": "7fb35de9",
   "metadata": {},
   "source": [
    "## ST001443: COPDGene exploration"
   ]
  },
  {
   "cell_type": "markdown",
   "id": "ffafa6db",
   "metadata": {
    "tags": []
   },
   "source": [
    "### Individuals"
   ]
  },
  {
   "cell_type": "code",
   "execution_count": 10,
   "id": "c17ad3d4",
   "metadata": {},
   "outputs": [
    {
     "name": "stdout",
     "output_type": "stream",
     "text": [
      "The participants dataset contains 839 individuals and 14 covariates.\n"
     ]
    }
   ],
   "source": [
    "println(\"The participants dataset contains $(size(dfIndividuals, 1)) individuals and $(size(dfIndividuals, 2)) covariates.\")"
   ]
  },
  {
   "cell_type": "code",
   "execution_count": 11,
   "id": "41e2cca2",
   "metadata": {},
   "outputs": [
    {
     "data": {
      "text/html": [
       "<div><div style = \"float: left;\"><span>14×7 DataFrame</span></div><div style = \"clear: both;\"></div></div><div class = \"data-frame\" style = \"overflow-x: scroll;\"><table class = \"data-frame\" style = \"margin-bottom: 6px;\"><thead><tr class = \"header\"><th class = \"rowNumber\" style = \"font-weight: bold; text-align: right;\">Row</th><th style = \"text-align: left;\">variable</th><th style = \"text-align: left;\">mean</th><th style = \"text-align: left;\">min</th><th style = \"text-align: left;\">median</th><th style = \"text-align: left;\">max</th><th style = \"text-align: left;\">nmissing</th><th style = \"text-align: left;\">eltype</th></tr><tr class = \"subheader headerLastRow\"><th class = \"rowNumber\" style = \"font-weight: bold; text-align: right;\"></th><th title = \"Symbol\" style = \"text-align: left;\">Symbol</th><th title = \"Union{Nothing, Float64}\" style = \"text-align: left;\">Union…</th><th title = \"Any\" style = \"text-align: left;\">Any</th><th title = \"Union{Nothing, Float64}\" style = \"text-align: left;\">Union…</th><th title = \"Any\" style = \"text-align: left;\">Any</th><th title = \"Int64\" style = \"text-align: left;\">Int64</th><th title = \"Type\" style = \"text-align: left;\">Type</th></tr></thead><tbody><tr><td class = \"rowNumber\" style = \"font-weight: bold; text-align: right;\">1</td><td style = \"text-align: left;\">sid</td><td style = \"font-style: italic; text-align: left;\"></td><td style = \"text-align: left;\">10010J</td><td style = \"font-style: italic; text-align: left;\"></td><td style = \"text-align: left;\">25581F</td><td style = \"text-align: right;\">0</td><td style = \"text-align: left;\">String7</td></tr><tr><td class = \"rowNumber\" style = \"font-weight: bold; text-align: right;\">2</td><td style = \"text-align: left;\">sample_name</td><td style = \"font-style: italic; text-align: left;\"></td><td style = \"text-align: left;\">NJHC-00001</td><td style = \"font-style: italic; text-align: left;\"></td><td style = \"text-align: left;\">NJHC-01138</td><td style = \"text-align: right;\">0</td><td style = \"text-align: left;\">String15</td></tr><tr><td class = \"rowNumber\" style = \"font-weight: bold; text-align: right;\">3</td><td style = \"text-align: left;\">ccenter</td><td style = \"font-style: italic; text-align: left;\"></td><td style = \"text-align: left;\">NJC</td><td style = \"font-style: italic; text-align: left;\"></td><td style = \"text-align: left;\">UIA</td><td style = \"text-align: right;\">0</td><td style = \"text-align: left;\">String3</td></tr><tr><td class = \"rowNumber\" style = \"font-weight: bold; text-align: right;\">4</td><td style = \"text-align: left;\">finalgold_visit</td><td style = \"font-style: italic; text-align: left;\"></td><td style = \"text-align: left;\">GOLD 0</td><td style = \"font-style: italic; text-align: left;\"></td><td style = \"text-align: left;\">GOLD 4</td><td style = \"text-align: right;\">0</td><td style = \"text-align: left;\">String7</td></tr><tr><td class = \"rowNumber\" style = \"font-weight: bold; text-align: right;\">5</td><td style = \"text-align: left;\">gender</td><td style = \"font-style: italic; text-align: left;\"></td><td style = \"text-align: left;\">Female</td><td style = \"font-style: italic; text-align: left;\"></td><td style = \"text-align: left;\">Male</td><td style = \"text-align: right;\">0</td><td style = \"text-align: left;\">String7</td></tr><tr><td class = \"rowNumber\" style = \"font-weight: bold; text-align: right;\">6</td><td style = \"text-align: left;\">age_visit</td><td style = \"text-align: left;\">67.3555</td><td style = \"text-align: left;\">50.0</td><td style = \"text-align: left;\">67.7</td><td style = \"text-align: left;\">87.4</td><td style = \"text-align: right;\">0</td><td style = \"text-align: left;\">Float64</td></tr><tr><td class = \"rowNumber\" style = \"font-weight: bold; text-align: right;\">7</td><td style = \"text-align: left;\">race</td><td style = \"font-style: italic; text-align: left;\"></td><td style = \"text-align: left;\">Black or African American</td><td style = \"font-style: italic; text-align: left;\"></td><td style = \"text-align: left;\">White</td><td style = \"text-align: right;\">0</td><td style = \"text-align: left;\">String31</td></tr><tr><td class = \"rowNumber\" style = \"font-weight: bold; text-align: right;\">8</td><td style = \"text-align: left;\">BMI</td><td style = \"text-align: left;\">28.8765</td><td style = \"text-align: left;\">14.14</td><td style = \"text-align: left;\">28.05</td><td style = \"text-align: left;\">58.58</td><td style = \"text-align: right;\">0</td><td style = \"text-align: left;\">Float64</td></tr><tr><td class = \"rowNumber\" style = \"font-weight: bold; text-align: right;\">9</td><td style = \"text-align: left;\">smoking_status</td><td style = \"font-style: italic; text-align: left;\"></td><td style = \"text-align: left;\">Current smoker</td><td style = \"font-style: italic; text-align: left;\"></td><td style = \"text-align: left;\">Former smoker</td><td style = \"text-align: right;\">0</td><td style = \"text-align: left;\">String15</td></tr><tr><td class = \"rowNumber\" style = \"font-weight: bold; text-align: right;\">10</td><td style = \"text-align: left;\">ATS_PackYears</td><td style = \"text-align: left;\">44.914</td><td style = \"text-align: left;\">10.0</td><td style = \"text-align: left;\">40.0</td><td style = \"text-align: left;\">180.0</td><td style = \"text-align: right;\">1</td><td style = \"text-align: left;\">Union{Missing, Float64}</td></tr><tr><td class = \"rowNumber\" style = \"font-weight: bold; text-align: right;\">11</td><td style = \"text-align: left;\">FEV1_FVC_utah</td><td style = \"text-align: left;\">0.648903</td><td style = \"text-align: left;\">0.2</td><td style = \"text-align: left;\">0.71</td><td style = \"text-align: left;\">0.94</td><td style = \"text-align: right;\">0</td><td style = \"text-align: left;\">Float64</td></tr><tr><td class = \"rowNumber\" style = \"font-weight: bold; text-align: right;\">12</td><td style = \"text-align: left;\">FEV1pp_utah</td><td style = \"text-align: left;\">76.4962</td><td style = \"text-align: left;\">10.9</td><td style = \"text-align: left;\">84.0</td><td style = \"text-align: left;\">153.9</td><td style = \"text-align: right;\">0</td><td style = \"text-align: left;\">Float64</td></tr><tr><td class = \"rowNumber\" style = \"font-weight: bold; text-align: right;\">13</td><td style = \"text-align: left;\">Insp_LAA950_total_Thirona</td><td style = \"text-align: left;\">7.65946</td><td style = \"text-align: left;\">0.0257987</td><td style = \"text-align: left;\">2.63547</td><td style = \"text-align: left;\">59.1206</td><td style = \"text-align: right;\">54</td><td style = \"text-align: left;\">Union{Missing, Float64}</td></tr><tr><td class = \"rowNumber\" style = \"font-weight: bold; text-align: right;\">14</td><td style = \"text-align: left;\">COPD</td><td style = \"text-align: left;\">0.466031</td><td style = \"text-align: left;\">0</td><td style = \"text-align: left;\">0.0</td><td style = \"text-align: left;\">1</td><td style = \"text-align: right;\">0</td><td style = \"text-align: left;\">Int64</td></tr></tbody></table></div>"
      ],
      "text/latex": [
       "\\begin{tabular}{r|cccccc}\n",
       "\t& variable & mean & min & median & max & \\\\\n",
       "\t\\hline\n",
       "\t& Symbol & Union… & Any & Union… & Any & \\\\\n",
       "\t\\hline\n",
       "\t1 & sid &  & 10010J &  & 25581F & $\\dots$ \\\\\n",
       "\t2 & sample\\_name &  & NJHC-00001 &  & NJHC-01138 & $\\dots$ \\\\\n",
       "\t3 & ccenter &  & NJC &  & UIA & $\\dots$ \\\\\n",
       "\t4 & finalgold\\_visit &  & GOLD 0 &  & GOLD 4 & $\\dots$ \\\\\n",
       "\t5 & gender &  & Female &  & Male & $\\dots$ \\\\\n",
       "\t6 & age\\_visit & 67.3555 & 50.0 & 67.7 & 87.4 & $\\dots$ \\\\\n",
       "\t7 & race &  & Black or African American &  & White & $\\dots$ \\\\\n",
       "\t8 & BMI & 28.8765 & 14.14 & 28.05 & 58.58 & $\\dots$ \\\\\n",
       "\t9 & smoking\\_status &  & Current smoker &  & Former smoker & $\\dots$ \\\\\n",
       "\t10 & ATS\\_PackYears & 44.914 & 10.0 & 40.0 & 180.0 & $\\dots$ \\\\\n",
       "\t11 & FEV1\\_FVC\\_utah & 0.648903 & 0.2 & 0.71 & 0.94 & $\\dots$ \\\\\n",
       "\t12 & FEV1pp\\_utah & 76.4962 & 10.9 & 84.0 & 153.9 & $\\dots$ \\\\\n",
       "\t13 & Insp\\_LAA950\\_total\\_Thirona & 7.65946 & 0.0257987 & 2.63547 & 59.1206 & $\\dots$ \\\\\n",
       "\t14 & COPD & 0.466031 & 0 & 0.0 & 1 & $\\dots$ \\\\\n",
       "\\end{tabular}\n"
      ],
      "text/plain": [
       "\u001b[1m14×7 DataFrame\u001b[0m\n",
       "\u001b[1m Row \u001b[0m│\u001b[1m variable                  \u001b[0m\u001b[1m mean     \u001b[0m\u001b[1m min                       \u001b[0m\u001b[1m median \u001b[0m ⋯\n",
       "     │\u001b[90m Symbol                    \u001b[0m\u001b[90m Union…   \u001b[0m\u001b[90m Any                       \u001b[0m\u001b[90m Union… \u001b[0m ⋯\n",
       "─────┼──────────────────────────────────────────────────────────────────────────\n",
       "   1 │ sid                       \u001b[90m          \u001b[0m 10010J                    \u001b[90m        \u001b[0m ⋯\n",
       "   2 │ sample_name               \u001b[90m          \u001b[0m NJHC-00001                \u001b[90m        \u001b[0m\n",
       "   3 │ ccenter                   \u001b[90m          \u001b[0m NJC                       \u001b[90m        \u001b[0m\n",
       "   4 │ finalgold_visit           \u001b[90m          \u001b[0m GOLD 0                    \u001b[90m        \u001b[0m\n",
       "   5 │ gender                    \u001b[90m          \u001b[0m Female                    \u001b[90m        \u001b[0m ⋯\n",
       "   6 │ age_visit                  67.3555   50.0                       67.7\n",
       "   7 │ race                      \u001b[90m          \u001b[0m Black or African American \u001b[90m        \u001b[0m\n",
       "   8 │ BMI                        28.8765   14.14                      28.05\n",
       "   9 │ smoking_status            \u001b[90m          \u001b[0m Current smoker            \u001b[90m        \u001b[0m ⋯\n",
       "  10 │ ATS_PackYears              44.914    10.0                       40.0\n",
       "  11 │ FEV1_FVC_utah              0.648903  0.2                        0.71\n",
       "  12 │ FEV1pp_utah                76.4962   10.9                       84.0\n",
       "  13 │ Insp_LAA950_total_Thirona  7.65946   0.0257987                  2.63547 ⋯\n",
       "  14 │ COPD                       0.466031  0                          0.0\n",
       "\u001b[36m                                                               3 columns omitted\u001b[0m"
      ]
     },
     "execution_count": 11,
     "metadata": {},
     "output_type": "execute_result"
    }
   ],
   "source": [
    "describe(dfIndividuals)"
   ]
  },
  {
   "cell_type": "markdown",
   "id": "ea61e97b",
   "metadata": {},
   "source": [
    "Notes:`ATS_PackYears`, i.e. smoking number of pack-years, and `Insp_LAA950_total_Thirona`, i.e. percent emphysema, contain `NA`."
   ]
  },
  {
   "cell_type": "markdown",
   "id": "46b2125f",
   "metadata": {},
   "source": [
    "Check how many `NA`:"
   ]
  },
  {
   "cell_type": "code",
   "execution_count": 12,
   "id": "ebc3eabf",
   "metadata": {},
   "outputs": [
    {
     "name": "stdout",
     "output_type": "stream",
     "text": [
      "ATS_PackYears contains 1 missing values.\n",
      "Insp_LAA950_total_Thirona contains 54 missing values.\n"
     ]
    }
   ],
   "source": [
    "vMissing = map(eachcol(dfIndividuals)) do col\n",
    "               sum(ismissing.(col))\n",
    "           end\n",
    "idxColMiss = findall(vMissing .!= 0)\n",
    "for i in idxColMiss\n",
    "    println(\"$(names(dfIndividuals)[i]) contains $(vMissing[i]) missing values.\")\n",
    "end"
   ]
  },
  {
   "cell_type": "markdown",
   "id": "dbf79717",
   "metadata": {},
   "source": [
    "#### Change variable names: "
   ]
  },
  {
   "cell_type": "code",
   "execution_count": 13,
   "id": "c84e5b2c",
   "metadata": {},
   "outputs": [],
   "source": [
    "rename!(dfIndividuals, Dict(:sid => \"SampleName\", :sample_name => \"SampleID\",\n",
    "                            :ccenter => \"Site\", :finalgold_visit => \"FinalGold\",\n",
    "                            :FEV1_FVC_utah => \"FEV1_FVC\", :FEV1pp_utah => \"FEV1pp\",\n",
    "                            :gender => \"Sex\", :age_visit => \"Age\", \n",
    "                            :ATS_PackYears => \"SmokingPackYears\",\n",
    "                            :Insp_LAA950_total_Thirona => \"PercentEmphysema\"));"
   ]
  },
  {
   "cell_type": "markdown",
   "id": "8f0a9381",
   "metadata": {},
   "source": [
    "Verify how many factors per categorical variables, *i.e.* gender, race, smoking status, GOLD index, and COPD case status."
   ]
  },
  {
   "cell_type": "code",
   "execution_count": 14,
   "id": "b171f111",
   "metadata": {
    "lines_to_next_cell": 2
   },
   "outputs": [
    {
     "name": "stdout",
     "output_type": "stream",
     "text": [
      "Sex variable contains: Female and Male values.\n",
      "race variable contains: White and Black or African American values.\n",
      "smoking_status variable contains: Former smoker and Current smoker values.\n",
      "FinalGold variable contains: GOLD 2,GOLD 4,GOLD 0 and GOLD 3 values.\n",
      "COPD variable contains: 1 and 0 values.\n"
     ]
    }
   ],
   "source": [
    "vCovariateNames = [:Sex, :race, :smoking_status, :FinalGold, :COPD]\n",
    "vUniqueCat = map(eachcol(dfIndividuals[:, vCovariateNames])) do col\n",
    "                 join(unique(col), \",\", \" and \")\n",
    "             end\n",
    "for i in 1:length(vUniqueCat)\n",
    "    println(\"$(string(vCovariateNames[i])) variable contains: $(vUniqueCat[i]) values.\")\n",
    "end"
   ]
  },
  {
   "cell_type": "markdown",
   "id": "51723ea3",
   "metadata": {},
   "source": [
    "Convert:\n",
    "- `race` into `NHW`, where the value *1* corresponds to non-Hispanic White and *0* otherwise.\n",
    "- `smoking_status` into `CurrentSmoker`, where the value *1* corresponds to Current Smoker and *0* to Former Smoker.\n",
    "- `FinalGold` values are changed to  \"0\", \"2\", \"3\", and \"4\"."
   ]
  },
  {
   "cell_type": "code",
   "execution_count": 15,
   "id": "1a27c3b8",
   "metadata": {},
   "outputs": [],
   "source": [
    "#  non-Hipanic White\n",
    "vNHW = zeros(Int, size(dfIndividuals, 1));\n",
    "idxNHW = findall(dfIndividuals.race .== \"White\");\n",
    "vNHW[idxNHW] .= 1\n",
    "dfIndividuals.NHW = (vNHW);\n",
    "\n",
    "# GOLD index\n",
    "dfIndividuals.FinalGold = [match.(r\"\\d+\", s).match for s in dfIndividuals.FinalGold];\n",
    "\n",
    "# Current Smokers\n",
    "vCurrentSmoker = zeros(Int, size(dfIndividuals, 1));\n",
    "idxCurrentSmoker = findall(dfIndividuals.smoking_status .== \"Current smoker\");\n",
    "vCurrentSmoker[idxCurrentSmoker] .= 1\n",
    "dfIndividuals.CurrentSmoker = vCurrentSmoker;\n",
    "\n",
    "# Drop `race` and `smoking_status`\n",
    "select!(dfIndividuals, Not([:race, :smoking_status]));"
   ]
  },
  {
   "cell_type": "markdown",
   "id": "ff14374a",
   "metadata": {},
   "source": [
    "Get demographics COPDGene cohort by sex."
   ]
  },
  {
   "cell_type": "code",
   "execution_count": 16,
   "id": "e48310b8",
   "metadata": {},
   "outputs": [
    {
     "data": {
      "text/html": [
       "<div><div style = \"float: left;\"><span>8×3 DataFrame</span></div><div style = \"clear: both;\"></div></div><div class = \"data-frame\" style = \"overflow-x: scroll;\"><table class = \"data-frame\" style = \"margin-bottom: 6px;\"><thead><tr class = \"header\"><th class = \"rowNumber\" style = \"font-weight: bold; text-align: right;\">Row</th><th style = \"text-align: left;\">Variable</th><th style = \"text-align: left;\">Female</th><th style = \"text-align: left;\">Male</th></tr><tr class = \"subheader headerLastRow\"><th class = \"rowNumber\" style = \"font-weight: bold; text-align: right;\"></th><th title = \"String\" style = \"text-align: left;\">String</th><th title = \"Any\" style = \"text-align: left;\">Any</th><th title = \"Any\" style = \"text-align: left;\">Any</th></tr></thead><tbody><tr><td class = \"rowNumber\" style = \"font-weight: bold; text-align: right;\">1</td><td style = \"text-align: left;\">Participants</td><td style = \"text-align: left;\">405</td><td style = \"text-align: left;\">434</td></tr><tr><td class = \"rowNumber\" style = \"font-weight: bold; text-align: right;\">2</td><td style = \"text-align: left;\">Age</td><td style = \"text-align: left;\">66.1(8.8)</td><td style = \"text-align: left;\">68.5(8.4)</td></tr><tr><td class = \"rowNumber\" style = \"font-weight: bold; text-align: right;\">3</td><td style = \"text-align: left;\">BMI</td><td style = \"text-align: left;\">28.6(6.7)</td><td style = \"text-align: left;\">29.1(5.6)</td></tr><tr><td class = \"rowNumber\" style = \"font-weight: bold; text-align: right;\">4</td><td style = \"text-align: left;\">SmokingPackYears</td><td style = \"text-align: left;\">39.4(20.5)</td><td style = \"text-align: left;\">50.1(27.1)</td></tr><tr><td class = \"rowNumber\" style = \"font-weight: bold; text-align: right;\">5</td><td style = \"text-align: left;\">PercentEmphysema</td><td style = \"text-align: left;\">6.3(10.2)</td><td style = \"text-align: left;\">9.0(11.3)</td></tr><tr><td class = \"rowNumber\" style = \"font-weight: bold; text-align: right;\">6</td><td style = \"text-align: left;\">NHW</td><td style = \"text-align: left;\">370(91.4)</td><td style = \"text-align: left;\">399(91.9)</td></tr><tr><td class = \"rowNumber\" style = \"font-weight: bold; text-align: right;\">7</td><td style = \"text-align: left;\">CurrentSmoker</td><td style = \"text-align: left;\">111(27.4)</td><td style = \"text-align: left;\">88(20.3)</td></tr><tr><td class = \"rowNumber\" style = \"font-weight: bold; text-align: right;\">8</td><td style = \"text-align: left;\">COPD</td><td style = \"text-align: left;\">167(41.2)</td><td style = \"text-align: left;\">224(51.6)</td></tr></tbody></table></div>"
      ],
      "text/latex": [
       "\\begin{tabular}{r|ccc}\n",
       "\t& Variable & Female & Male\\\\\n",
       "\t\\hline\n",
       "\t& String & Any & Any\\\\\n",
       "\t\\hline\n",
       "\t1 & Participants & 405 & 434 \\\\\n",
       "\t2 & Age & 66.1(8.8) & 68.5(8.4) \\\\\n",
       "\t3 & BMI & 28.6(6.7) & 29.1(5.6) \\\\\n",
       "\t4 & SmokingPackYears & 39.4(20.5) & 50.1(27.1) \\\\\n",
       "\t5 & PercentEmphysema & 6.3(10.2) & 9.0(11.3) \\\\\n",
       "\t6 & NHW & 370(91.4) & 399(91.9) \\\\\n",
       "\t7 & CurrentSmoker & 111(27.4) & 88(20.3) \\\\\n",
       "\t8 & COPD & 167(41.2) & 224(51.6) \\\\\n",
       "\\end{tabular}\n"
      ],
      "text/plain": [
       "\u001b[1m8×3 DataFrame\u001b[0m\n",
       "\u001b[1m Row \u001b[0m│\u001b[1m Variable         \u001b[0m\u001b[1m Female     \u001b[0m\u001b[1m Male       \u001b[0m\n",
       "     │\u001b[90m String           \u001b[0m\u001b[90m Any        \u001b[0m\u001b[90m Any        \u001b[0m\n",
       "─────┼──────────────────────────────────────────\n",
       "   1 │ Participants      405         434\n",
       "   2 │ Age               66.1(8.8)   68.5(8.4)\n",
       "   3 │ BMI               28.6(6.7)   29.1(5.6)\n",
       "   4 │ SmokingPackYears  39.4(20.5)  50.1(27.1)\n",
       "   5 │ PercentEmphysema  6.3(10.2)   9.0(11.3)\n",
       "   6 │ NHW               370(91.4)   399(91.9)\n",
       "   7 │ CurrentSmoker     111(27.4)   88(20.3)\n",
       "   8 │ COPD              167(41.2)   224(51.6)"
      ]
     },
     "execution_count": 16,
     "metadata": {},
     "output_type": "execute_result"
    }
   ],
   "source": [
    "# Group by sex\n",
    "gdf = groupby(dfIndividuals, :Sex);\n",
    "\n",
    "# Get mean values\n",
    "mymean(X) = mean(skipmissing(X))\n",
    "df1a = combine(gdf, [:Age, :BMI, :SmokingPackYears, :PercentEmphysema] .=> mymean)\n",
    "df1a[:,2:end] = round.((df1a[:,2:end]); digits = 1)\n",
    "rename!(df1a, Dict(:Age_mymean => \"Age\", :BMI_mymean => \"BMI\",\n",
    "                   :SmokingPackYears_mymean => \"SmokingPackYears\", :PercentEmphysema_mymean => \"PercentEmphysema\"));\n",
    "\n",
    "# Get standard deviation values\n",
    "mystd(X) = std(skipmissing(X))\n",
    "df1b = combine(gdf, [:Age, :BMI, :SmokingPackYears, :PercentEmphysema] .=> mystd)\n",
    "df1b[:,2:end] = round.((df1b[:,2:end]); digits = 1)\n",
    "rename!(df1b, Dict(:Age_mystd => \"Age\", :BMI_mystd => \"BMI\",\n",
    "                   :SmokingPackYears_mystd => \"SmokingPackYears\", :PercentEmphysema_mystd => \"PercentEmphysema\"));\n",
    "\n",
    "# Join mean and standard deviation values\n",
    "dfDem1 = string.(df1a[:,2:end]).*repeat([\"(\"], size(df1a,1),size(df1a,2)-1).* \n",
    "         string.(df1b[:,2:end]).*repeat([\")\"], size(df1a,1),size(df1a,2)-1);\n",
    "insertcols!(dfDem1, 1, :Sex => df1a.Sex, :Participants => combine(gdf, nrow)[:,2])\n",
    "\n",
    "# Get sum values\n",
    "df2a = combine(gdf, [:NHW, :CurrentSmoker, :COPD] .=> sum)\n",
    "\n",
    "# Get percentage values\n",
    "df2b = round.((df2a[:,2:end]./ dfDem1.Participants).*100, digits = 1)\n",
    "\n",
    "# Join sum and percentage values\n",
    "dfDem2 = string.(df2a[:,2:end]).*repeat([\"(\"], size(df2a,1),size(df2a,2)-1).* \n",
    "         string.(df2b[:,1:end]).*repeat([\")\"], size(df2a,1),size(df2a,2)-1)\n",
    "insertcols!(dfDem2, 1, :Sex => df2a.Sex)\n",
    "\n",
    "rename!(dfDem2, Dict(:NHW_sum => \"NHW\", :CurrentSmoker_sum => \"CurrentSmoker\",\n",
    "                   :COPD_sum => \"COPD\"))\n",
    "# Join demographics dataframes\n",
    "dfDem = leftjoin(dfDem1, dfDem2, on = :Sex )\n",
    "\n",
    "# Pivot table\n",
    "dfDem = permutedims(dfDem, 1, \"Variable\")"
   ]
  },
  {
   "cell_type": "markdown",
   "id": "5f2485a6",
   "metadata": {},
   "source": [
    "The demographic table is identical to the article \"*Metabolomic Profiling Reveals Sex Specific Associations with\n",
    "Chronic Obstructive Pulmonary Disease and Emphysema*\"(2021)."
   ]
  },
  {
   "cell_type": "markdown",
   "id": "6d41ab82",
   "metadata": {},
   "source": [
    "#### Save processed individuals dataset:"
   ]
  },
  {
   "cell_type": "code",
   "execution_count": 17,
   "id": "4523e959",
   "metadata": {},
   "outputs": [
    {
     "data": {
      "text/html": [
       "<div><div style = \"float: left;\"><span>DataFrameRow (14 columns)</span></div><div style = \"clear: both;\"></div></div><div class = \"data-frame\" style = \"overflow-x: scroll;\"><table class = \"data-frame\" style = \"margin-bottom: 6px;\"><thead><tr class = \"header\"><th class = \"rowLabel\" style = \"font-weight: bold; text-align: right;\">Row</th><th style = \"text-align: left;\">SampleName</th><th style = \"text-align: left;\">SampleID</th><th style = \"text-align: left;\">Site</th><th style = \"text-align: left;\">FinalGold</th><th style = \"text-align: left;\">Sex</th><th style = \"text-align: left;\">Age</th><th style = \"text-align: left;\">BMI</th><th style = \"text-align: left;\">SmokingPackYears</th><th style = \"text-align: left;\">FEV1_FVC</th><th style = \"text-align: left;\">FEV1pp</th><th style = \"text-align: left;\">PercentEmphysema</th><th style = \"text-align: left;\">COPD</th><th style = \"text-align: left;\">NHW</th><th style = \"text-align: left;\">CurrentSmoker</th></tr><tr class = \"subheader headerLastRow\"><th class = \"rowLabel\" style = \"font-weight: bold; text-align: right;\"></th><th title = \"String7\" style = \"text-align: left;\">String7</th><th title = \"String15\" style = \"text-align: left;\">String15</th><th title = \"String3\" style = \"text-align: left;\">String3</th><th title = \"SubString{String}\" style = \"text-align: left;\">SubStrin…</th><th title = \"String7\" style = \"text-align: left;\">String7</th><th title = \"Float64\" style = \"text-align: left;\">Float64</th><th title = \"Float64\" style = \"text-align: left;\">Float64</th><th title = \"Union{Missing, Float64}\" style = \"text-align: left;\">Float64?</th><th title = \"Float64\" style = \"text-align: left;\">Float64</th><th title = \"Float64\" style = \"text-align: left;\">Float64</th><th title = \"Union{Missing, Float64}\" style = \"text-align: left;\">Float64?</th><th title = \"Int64\" style = \"text-align: left;\">Int64</th><th title = \"Int64\" style = \"text-align: left;\">Int64</th><th title = \"Int64\" style = \"text-align: left;\">Int64</th></tr></thead><tbody><tr><td class = \"rowLabel\" style = \"font-weight: bold; text-align: right;\">1</td><td style = \"text-align: left;\">10010J</td><td style = \"text-align: left;\">NJHC-00611</td><td style = \"text-align: left;\">NJC</td><td style = \"text-align: left;\">2</td><td style = \"text-align: left;\">Female</td><td style = \"text-align: right;\">73.5</td><td style = \"text-align: right;\">27.51</td><td style = \"text-align: right;\">30.7</td><td style = \"text-align: right;\">0.62</td><td style = \"text-align: right;\">51.8</td><td style = \"text-align: right;\">2.42326</td><td style = \"text-align: right;\">1</td><td style = \"text-align: right;\">1</td><td style = \"text-align: right;\">0</td></tr></tbody></table></div>"
      ],
      "text/latex": [
       "\\begin{tabular}{r|ccccccccc}\n",
       "\t& SampleName & SampleID & Site & FinalGold & Sex & Age & BMI & SmokingPackYears & \\\\\n",
       "\t\\hline\n",
       "\t& String7 & String15 & String3 & SubStrin… & String7 & Float64 & Float64 & Float64? & \\\\\n",
       "\t\\hline\n",
       "\t1 & 10010J & NJHC-00611 & NJC & 2 & Female & 73.5 & 27.51 & 30.7 & $\\dots$ \\\\\n",
       "\\end{tabular}\n"
      ],
      "text/plain": [
       "\u001b[1mDataFrameRow\u001b[0m\n",
       "\u001b[1m Row \u001b[0m│\u001b[1m SampleName \u001b[0m\u001b[1m SampleID   \u001b[0m\u001b[1m Site    \u001b[0m\u001b[1m FinalGold \u001b[0m\u001b[1m Sex     \u001b[0m\u001b[1m Age     \u001b[0m\u001b[1m BMI     \u001b[0m\u001b[1m \u001b[0m ⋯\n",
       "     │\u001b[90m String7    \u001b[0m\u001b[90m String15   \u001b[0m\u001b[90m String3 \u001b[0m\u001b[90m SubStrin… \u001b[0m\u001b[90m String7 \u001b[0m\u001b[90m Float64 \u001b[0m\u001b[90m Float64 \u001b[0m\u001b[90m \u001b[0m ⋯\n",
       "─────┼──────────────────────────────────────────────────────────────────────────\n",
       "   1 │ 10010J      NJHC-00611  NJC      2          Female      73.5    27.51   ⋯\n",
       "\u001b[36m                                                               7 columns omitted\u001b[0m"
      ]
     },
     "execution_count": 17,
     "metadata": {},
     "output_type": "execute_result"
    }
   ],
   "source": [
    "first(dfIndividuals)"
   ]
  },
  {
   "cell_type": "code",
   "execution_count": 18,
   "id": "7a89dd0e",
   "metadata": {},
   "outputs": [],
   "source": [
    "fileIndividuals = joinpath(@__DIR__,\"..\",\"..\",\"data\",\"processed\",\"COPDGene\",\"COPDGene_ClinicalCovariates.csv\");\n",
    "dfIndividuals |> CSV.write(fileIndividuals);"
   ]
  },
  {
   "cell_type": "markdown",
   "id": "09d33c83",
   "metadata": {
    "tags": []
   },
   "source": [
    "### Metabolomics References"
   ]
  },
  {
   "cell_type": "markdown",
   "id": "a469078d",
   "metadata": {},
   "source": [
    "#### Create dataframe whith pathways"
   ]
  },
  {
   "cell_type": "markdown",
   "id": "52d2a2d6",
   "metadata": {},
   "source": [
    "Keep ID, biochemical, comp ID, super pathways and sub pathways."
   ]
  },
  {
   "cell_type": "code",
   "execution_count": 19,
   "id": "7b9fee78",
   "metadata": {},
   "outputs": [
    {
     "data": {
      "text/html": [
       "<div><div style = \"float: left;\"><span>3×3 DataFrame</span></div><div style = \"clear: both;\"></div></div><div class = \"data-frame\" style = \"overflow-x: scroll;\"><table class = \"data-frame\" style = \"margin-bottom: 6px;\"><thead><tr class = \"header\"><th class = \"rowNumber\" style = \"font-weight: bold; text-align: right;\">Row</th><th style = \"text-align: left;\">MetaID</th><th style = \"text-align: left;\">BIOCHEMICAL</th><th style = \"text-align: left;\">COMP.ID</th></tr><tr class = \"subheader headerLastRow\"><th class = \"rowNumber\" style = \"font-weight: bold; text-align: right;\"></th><th title = \"String15\" style = \"text-align: left;\">String15</th><th title = \"String\" style = \"text-align: left;\">String</th><th title = \"Int64\" style = \"text-align: left;\">Int64</th></tr></thead><tbody><tr><td class = \"rowNumber\" style = \"font-weight: bold; text-align: right;\">1</td><td style = \"text-align: left;\">269.2487_5695</td><td style = \"text-align: left;\">(14 or 15)-methylpalmitate (a17:0 or i17:0)</td><td style = \"text-align: right;\">38768</td></tr><tr><td class = \"rowNumber\" style = \"font-weight: bold; text-align: right;\">2</td><td style = \"text-align: left;\">343.2279_5565</td><td style = \"text-align: left;\">(15:2)-anacardic acid</td><td style = \"text-align: right;\">41397</td></tr><tr><td class = \"rowNumber\" style = \"font-weight: bold; text-align: right;\">3</td><td style = \"text-align: left;\">297.2799_5993</td><td style = \"text-align: left;\">(16 or 17)-methylstearate (a19:0 or i19:0)</td><td style = \"text-align: right;\">38296</td></tr></tbody></table></div>"
      ],
      "text/latex": [
       "\\begin{tabular}{r|ccc}\n",
       "\t& MetaID & BIOCHEMICAL & COMP.ID\\\\\n",
       "\t\\hline\n",
       "\t& String15 & String & Int64\\\\\n",
       "\t\\hline\n",
       "\t1 & 269.2487\\_5695 & (14 or 15)-methylpalmitate (a17:0 or i17:0) & 38768 \\\\\n",
       "\t2 & 343.2279\\_5565 & (15:2)-anacardic acid & 41397 \\\\\n",
       "\t3 & 297.2799\\_5993 & (16 or 17)-methylstearate (a19:0 or i19:0) & 38296 \\\\\n",
       "\\end{tabular}\n"
      ],
      "text/plain": [
       "\u001b[1m3×3 DataFrame\u001b[0m\n",
       "\u001b[1m Row \u001b[0m│\u001b[1m MetaID        \u001b[0m\u001b[1m BIOCHEMICAL                       \u001b[0m\u001b[1m COMP.ID \u001b[0m\n",
       "     │\u001b[90m String15      \u001b[0m\u001b[90m String                            \u001b[0m\u001b[90m Int64   \u001b[0m\n",
       "─────┼───────────────────────────────────────────────────────────\n",
       "   1 │ 269.2487_5695  (14 or 15)-methylpalmitate (a17:…    38768\n",
       "   2 │ 343.2279_5565  (15:2)-anacardic acid                41397\n",
       "   3 │ 297.2799_5993  (16 or 17)-methylstearate (a19:0…    38296"
      ]
     },
     "execution_count": 19,
     "metadata": {},
     "output_type": "execute_result"
    }
   ],
   "source": [
    "first(dfRefMetabo[:, Symbol.([\"MetaID\", \"BIOCHEMICAL\", \"COMP.ID\"])], 3)"
   ]
  },
  {
   "cell_type": "code",
   "execution_count": 20,
   "id": "e0abf283",
   "metadata": {},
   "outputs": [
    {
     "data": {
      "text/html": [
       "<div><div style = \"float: left;\"><span>3×3 DataFrame</span></div><div style = \"clear: both;\"></div></div><div class = \"data-frame\" style = \"overflow-x: scroll;\"><table class = \"data-frame\" style = \"margin-bottom: 6px;\"><thead><tr class = \"header\"><th class = \"rowNumber\" style = \"font-weight: bold; text-align: right;\">Row</th><th style = \"text-align: left;\">MetaID</th><th style = \"text-align: left;\">BIOCHEMICAL</th><th style = \"text-align: left;\">COMP.ID</th></tr><tr class = \"subheader headerLastRow\"><th class = \"rowNumber\" style = \"font-weight: bold; text-align: right;\"></th><th title = \"String15\" style = \"text-align: left;\">String15</th><th title = \"String\" style = \"text-align: left;\">String</th><th title = \"Int64\" style = \"text-align: left;\">Int64</th></tr></thead><tbody><tr><td class = \"rowNumber\" style = \"font-weight: bold; text-align: right;\">1</td><td style = \"text-align: left;\">175.0826_1730.3</td><td style = \"text-align: left;\">X - 25422</td><td style = \"text-align: right;\">62719</td></tr><tr><td class = \"rowNumber\" style = \"font-weight: bold; text-align: right;\">2</td><td style = \"text-align: left;\">261.1345_2595</td><td style = \"text-align: left;\">X - 25451</td><td style = \"text-align: right;\">62821</td></tr><tr><td class = \"rowNumber\" style = \"font-weight: bold; text-align: right;\">3</td><td style = \"text-align: left;\">401.2182_4038</td><td style = \"text-align: left;\">X - 25452</td><td style = \"text-align: right;\">62822</td></tr></tbody></table></div>"
      ],
      "text/latex": [
       "\\begin{tabular}{r|ccc}\n",
       "\t& MetaID & BIOCHEMICAL & COMP.ID\\\\\n",
       "\t\\hline\n",
       "\t& String15 & String & Int64\\\\\n",
       "\t\\hline\n",
       "\t1 & 175.0826\\_1730.3 & X - 25422 & 62719 \\\\\n",
       "\t2 & 261.1345\\_2595 & X - 25451 & 62821 \\\\\n",
       "\t3 & 401.2182\\_4038 & X - 25452 & 62822 \\\\\n",
       "\\end{tabular}\n"
      ],
      "text/plain": [
       "\u001b[1m3×3 DataFrame\u001b[0m\n",
       "\u001b[1m Row \u001b[0m│\u001b[1m MetaID          \u001b[0m\u001b[1m BIOCHEMICAL \u001b[0m\u001b[1m COMP.ID \u001b[0m\n",
       "     │\u001b[90m String15        \u001b[0m\u001b[90m String      \u001b[0m\u001b[90m Int64   \u001b[0m\n",
       "─────┼───────────────────────────────────────\n",
       "   1 │ 175.0826_1730.3  X - 25422      62719\n",
       "   2 │ 261.1345_2595    X - 25451      62821\n",
       "   3 │ 401.2182_4038    X - 25452      62822"
      ]
     },
     "execution_count": 20,
     "metadata": {},
     "output_type": "execute_result"
    }
   ],
   "source": [
    "last(dfRefMetabo[:, Symbol.([\"MetaID\", \"BIOCHEMICAL\", \"COMP.ID\"])], 3)"
   ]
  },
  {
   "cell_type": "code",
   "execution_count": 21,
   "id": "a42413cd",
   "metadata": {},
   "outputs": [],
   "source": [
    "# Select variables of interest and rename accordingly\n",
    "rename!(dfRefMetabo, Dict(:BIOCHEMICAL => \"Biochemical\", Symbol(\"COMP.ID\") => \"CompID\", \n",
    "                         Symbol(\"SUB.PATHWAY\") => \"SubPathway\", Symbol(\"SUPER.PATHWAY\") => \"SuperPathway\")) \n",
    "select!(dfRefMetabo, [:MetaID, :Biochemical, :CompID, :SubPathway, :SuperPathway]);"
   ]
  },
  {
   "cell_type": "code",
   "execution_count": 22,
   "id": "4411459e",
   "metadata": {},
   "outputs": [],
   "source": [
    "# Create 2 new variables name SubClassID and SuperClassID that \n",
    "# contain a codification of pathways\n",
    "\n",
    "# Group by Super Pathway\n",
    "gdf = groupby(dfRefMetabo, :SuperPathway);\n",
    "\n",
    "nTotalSub = length(unique(dfRefMetabo.SubPathway))\n",
    "vInit = repeat([\"NA\"], nTotalSub);\n",
    "dfNewRef = DataFrame(SubPathway = vInit, SubClassID = vInit,\n",
    "                     SuperPathway = vInit, SuperClassID = vInit);"
   ]
  },
  {
   "cell_type": "code",
   "execution_count": 23,
   "id": "15612ffb",
   "metadata": {},
   "outputs": [],
   "source": [
    "# Generate pathway ID references for the metabolites\n",
    "idxStart = 1\n",
    "\n",
    "for i in 1:(length(gdf)-1)\n",
    "    vSub = sort(unique(gdf[i].SubPathway))\n",
    "    nSub = length(vSub)\n",
    "    \n",
    "    idxEnd = idxStart + nSub - 1\n",
    "    \n",
    "    dfNewRef.SubPathway[idxStart:idxEnd] = vSub;\n",
    "    dfNewRef.SubClassID[idxStart:idxEnd] = uppercase(gdf[i].SuperPathway[1][1:3]).*string.(collect(1:nSub));\n",
    "    dfNewRef.SuperPathway[idxStart:idxEnd] .= gdf[i].SuperPathway[1];\n",
    "    dfNewRef.SuperClassID[idxStart:idxEnd] .= uppercase(gdf[i].SuperPathway[1][1:3]);\n",
    "    \n",
    "    idxStart = idxEnd + 1\n",
    "end"
   ]
  },
  {
   "cell_type": "code",
   "execution_count": 24,
   "id": "a70f9fee",
   "metadata": {},
   "outputs": [],
   "source": [
    "# Initiatlize vector\n",
    "nMeta = size(dfRefMetabo, 1);\n",
    "vClass = repeat([\"NA\"], nMeta);\n",
    "vSupClass = repeat([\"NA\"], nMeta);\n",
    "\n",
    "for i in 1:length(dfNewRef.SubPathway)\n",
    "    idx = findall(dfRefMetabo.SubPathway.== dfNewRef.SubPathway[i])\n",
    "    vClass[idx] .= dfNewRef.SubClassID[i]\n",
    "    vSupClass[idx] .= dfNewRef.SuperClassID[i]\n",
    "end\n",
    "dfRefMetabo.SubClassID = vClass; \n",
    "dfRefMetabo.SuperClassID = vSupClass;\n",
    "dfRefMetabo.CompID = \"comp\".*string.(dfRefMetabo.CompID);\n",
    "\n",
    "# Insert 0 in SubID when ID number less than 10. It helps for sorting.\n",
    "idxSub2Change = findall(length.(dfRefMetabo.SubClassID) .== 4)\n",
    "for i in 1:length(idxSub2Change) \n",
    "    dfRefMetabo.SubClassID[idxSub2Change[i]] = dfRefMetabo.SubClassID[idxSub2Change[i]][1:3]*\"0\"*dfRefMetabo.SubClassID[idxSub2Change[i]][4]\n",
    "end"
   ]
  },
  {
   "cell_type": "code",
   "execution_count": 25,
   "id": "42fdfdb5",
   "metadata": {},
   "outputs": [
    {
     "data": {
      "text/html": [
       "<div><div style = \"float: left;\"><span>DataFrameRow (5 columns)</span></div><div style = \"clear: both;\"></div></div><div class = \"data-frame\" style = \"overflow-x: scroll;\"><table class = \"data-frame\" style = \"margin-bottom: 6px;\"><thead><tr class = \"header\"><th class = \"rowLabel\" style = \"font-weight: bold; text-align: right;\">Row</th><th style = \"text-align: left;\">MetaID</th><th style = \"text-align: left;\">Biochemical</th><th style = \"text-align: left;\">CompID</th><th style = \"text-align: left;\">SubClassID</th><th style = \"text-align: left;\">SuperClassID</th></tr><tr class = \"subheader headerLastRow\"><th class = \"rowLabel\" style = \"font-weight: bold; text-align: right;\"></th><th title = \"String15\" style = \"text-align: left;\">String15</th><th title = \"String\" style = \"text-align: left;\">String</th><th title = \"String\" style = \"text-align: left;\">String</th><th title = \"String\" style = \"text-align: left;\">String</th><th title = \"String\" style = \"text-align: left;\">String</th></tr></thead><tbody><tr><td class = \"rowLabel\" style = \"font-weight: bold; text-align: right;\">2</td><td style = \"text-align: left;\">343.2279_5565</td><td style = \"text-align: left;\">(15:2)-anacardic acid</td><td style = \"text-align: left;\">comp41397</td><td style = \"text-align: left;\">XEN15</td><td style = \"text-align: left;\">XEN</td></tr></tbody></table></div>"
      ],
      "text/latex": [
       "\\begin{tabular}{r|ccccc}\n",
       "\t& MetaID & Biochemical & CompID & SubClassID & SuperClassID\\\\\n",
       "\t\\hline\n",
       "\t& String15 & String & String & String & String\\\\\n",
       "\t\\hline\n",
       "\t2 & 343.2279\\_5565 & (15:2)-anacardic acid & comp41397 & XEN15 & XEN \\\\\n",
       "\\end{tabular}\n"
      ],
      "text/plain": [
       "\u001b[1mDataFrameRow\u001b[0m\n",
       "\u001b[1m Row \u001b[0m│\u001b[1m MetaID        \u001b[0m\u001b[1m Biochemical           \u001b[0m\u001b[1m CompID    \u001b[0m\u001b[1m SubClassID \u001b[0m\u001b[1m SuperClass\u001b[0m ⋯\n",
       "     │\u001b[90m String15      \u001b[0m\u001b[90m String                \u001b[0m\u001b[90m String    \u001b[0m\u001b[90m String     \u001b[0m\u001b[90m String    \u001b[0m ⋯\n",
       "─────┼──────────────────────────────────────────────────────────────────────────\n",
       "   2 │ 343.2279_5565  (15:2)-anacardic acid  comp41397  XEN15       XEN        ⋯\n",
       "\u001b[36m                                                                1 column omitted\u001b[0m"
      ]
     },
     "execution_count": 25,
     "metadata": {},
     "output_type": "execute_result"
    }
   ],
   "source": [
    "dfRefMetabo[2,Not([4,5])]"
   ]
  },
  {
   "cell_type": "markdown",
   "id": "f0e27e86",
   "metadata": {},
   "source": [
    "#### Check cotinine bio chemical"
   ]
  },
  {
   "cell_type": "markdown",
   "id": "ea500b3c",
   "metadata": {},
   "source": [
    "The cotinine levels will be imputed differently if missing is more than 20%."
   ]
  },
  {
   "cell_type": "code",
   "execution_count": 26,
   "id": "cd57e4fd",
   "metadata": {},
   "outputs": [
    {
     "data": {
      "text/html": [
       "<div><div style = \"float: left;\"><span>3×7 DataFrame</span></div><div style = \"clear: both;\"></div></div><div class = \"data-frame\" style = \"overflow-x: scroll;\"><table class = \"data-frame\" style = \"margin-bottom: 6px;\"><thead><tr class = \"header\"><th class = \"rowNumber\" style = \"font-weight: bold; text-align: right;\">Row</th><th style = \"text-align: left;\">MetaID</th><th style = \"text-align: left;\">Biochemical</th><th style = \"text-align: left;\">CompID</th><th style = \"text-align: left;\">SubPathway</th><th style = \"text-align: left;\">SuperPathway</th><th style = \"text-align: left;\">SubClassID</th><th style = \"text-align: left;\">SuperClassID</th></tr><tr class = \"subheader headerLastRow\"><th class = \"rowNumber\" style = \"font-weight: bold; text-align: right;\"></th><th title = \"String15\" style = \"text-align: left;\">String15</th><th title = \"String\" style = \"text-align: left;\">String</th><th title = \"String\" style = \"text-align: left;\">String</th><th title = \"String\" style = \"text-align: left;\">String</th><th title = \"String\" style = \"text-align: left;\">String</th><th title = \"String\" style = \"text-align: left;\">String</th><th title = \"String\" style = \"text-align: left;\">String</th></tr></thead><tbody><tr><td class = \"rowNumber\" style = \"font-weight: bold; text-align: right;\">1</td><td style = \"text-align: left;\">367.1147_1745</td><td style = \"text-align: left;\">3-hydroxycotinine glucuronide</td><td style = \"text-align: left;\">comp43470</td><td style = \"text-align: left;\">Tobacco Metabolite</td><td style = \"text-align: left;\">Xenobiotics</td><td style = \"text-align: left;\">XEN16</td><td style = \"text-align: left;\">XEN</td></tr><tr><td class = \"rowNumber\" style = \"font-weight: bold; text-align: right;\">2</td><td style = \"text-align: left;\">177.1022_2213</td><td style = \"text-align: left;\">cotinine</td><td style = \"text-align: left;\">comp553</td><td style = \"text-align: left;\">Tobacco Metabolite</td><td style = \"text-align: left;\">Xenobiotics</td><td style = \"text-align: left;\">XEN16</td><td style = \"text-align: left;\">XEN</td></tr><tr><td class = \"rowNumber\" style = \"font-weight: bold; text-align: right;\">3</td><td style = \"text-align: left;\">193.0972_2030</td><td style = \"text-align: left;\">hydroxycotinine</td><td style = \"text-align: left;\">comp38661</td><td style = \"text-align: left;\">Tobacco Metabolite</td><td style = \"text-align: left;\">Xenobiotics</td><td style = \"text-align: left;\">XEN16</td><td style = \"text-align: left;\">XEN</td></tr></tbody></table></div>"
      ],
      "text/latex": [
       "\\begin{tabular}{r|cccccc}\n",
       "\t& MetaID & Biochemical & CompID & SubPathway & SuperPathway & \\\\\n",
       "\t\\hline\n",
       "\t& String15 & String & String & String & String & \\\\\n",
       "\t\\hline\n",
       "\t1 & 367.1147\\_1745 & 3-hydroxycotinine glucuronide & comp43470 & Tobacco Metabolite & Xenobiotics & $\\dots$ \\\\\n",
       "\t2 & 177.1022\\_2213 & cotinine & comp553 & Tobacco Metabolite & Xenobiotics & $\\dots$ \\\\\n",
       "\t3 & 193.0972\\_2030 & hydroxycotinine & comp38661 & Tobacco Metabolite & Xenobiotics & $\\dots$ \\\\\n",
       "\\end{tabular}\n"
      ],
      "text/plain": [
       "\u001b[1m3×7 DataFrame\u001b[0m\n",
       "\u001b[1m Row \u001b[0m│\u001b[1m MetaID        \u001b[0m\u001b[1m Biochemical                   \u001b[0m\u001b[1m CompID    \u001b[0m\u001b[1m SubPathway    \u001b[0m ⋯\n",
       "     │\u001b[90m String15      \u001b[0m\u001b[90m String                        \u001b[0m\u001b[90m String    \u001b[0m\u001b[90m String        \u001b[0m ⋯\n",
       "─────┼──────────────────────────────────────────────────────────────────────────\n",
       "   1 │ 367.1147_1745  3-hydroxycotinine glucuronide  comp43470  Tobacco Metabo ⋯\n",
       "   2 │ 177.1022_2213  cotinine                       comp553    Tobacco Metabo\n",
       "   3 │ 193.0972_2030  hydroxycotinine                comp38661  Tobacco Metabo\n",
       "\u001b[36m                                                               4 columns omitted\u001b[0m"
      ]
     },
     "execution_count": 26,
     "metadata": {},
     "output_type": "execute_result"
    }
   ],
   "source": [
    "# check for cotinine\n",
    "idxCotinine = findall(occursin.(r\"(?i)cotinine\", dfRefMetabo.Biochemical))\n",
    "dfRefMetabo[idxCotinine, :]"
   ]
  },
  {
   "cell_type": "markdown",
   "id": "51a35f06",
   "metadata": {},
   "source": [
    "#### Explore frequency table"
   ]
  },
  {
   "cell_type": "code",
   "execution_count": 27,
   "id": "a37b600d",
   "metadata": {},
   "outputs": [
    {
     "data": {
      "text/plain": [
       "10-element Named Vector{Int64}\n",
       "Dim1                              │ \n",
       "──────────────────────────────────┼────\n",
       "Amino Acid                        │ 205\n",
       "Carbohydrate                      │  25\n",
       "Cofactors and Vitamins            │  38\n",
       "Energy                            │  11\n",
       "Lipid                             │ 431\n",
       "NA                                │ 336\n",
       "Nucleotide                        │  35\n",
       "Partially Characterized Molecules │  10\n",
       "Peptide                           │  40\n",
       "Xenobiotics                       │ 261"
      ]
     },
     "execution_count": 27,
     "metadata": {},
     "output_type": "execute_result"
    }
   ],
   "source": [
    "freqtable(dfRefMetabo.SuperPathway)"
   ]
  },
  {
   "cell_type": "code",
   "execution_count": 28,
   "id": "bd463364",
   "metadata": {
    "tags": []
   },
   "outputs": [],
   "source": [
    "idxLipid = findall(dfRefMetabo.SuperPathway .== \"Lipid\")\n",
    "freqtable(dfRefMetabo[idxLipid, :SubPathway]); #  |> show;"
   ]
  },
  {
   "cell_type": "markdown",
   "id": "1d96db1d",
   "metadata": {},
   "source": [
    "#### Save processed individuals dataset:"
   ]
  },
  {
   "cell_type": "code",
   "execution_count": 29,
   "id": "a8cea8e5",
   "metadata": {},
   "outputs": [],
   "source": [
    "fileRef = joinpath(@__DIR__,\"..\",\"..\",\"data\",\"processed\",\"COPDGene\",\"refMeta.csv\");\n",
    "dfRefMetabo |> CSV.write(fileRef);"
   ]
  },
  {
   "cell_type": "markdown",
   "id": "fcf06a37",
   "metadata": {
    "tags": []
   },
   "source": [
    "### Negative"
   ]
  },
  {
   "cell_type": "markdown",
   "id": "a5ca2074",
   "metadata": {},
   "source": [
    "Filter `dfNegMetabo` sample according to the individuals dataframe `dfIndividuals`:"
   ]
  },
  {
   "cell_type": "markdown",
   "id": "479a6d3a",
   "metadata": {},
   "source": [
    "#### Keep complete cases"
   ]
  },
  {
   "cell_type": "code",
   "execution_count": 30,
   "id": "ccd74780",
   "metadata": {
    "tags": []
   },
   "outputs": [],
   "source": [
    "dfNegMetabo = keepComplete(dfNegMetabo, dfIndividuals, dfRefMetabo; sampleCol=  :SampleID);"
   ]
  },
  {
   "cell_type": "markdown",
   "id": "60b52780",
   "metadata": {},
   "source": [
    "#### Save filtered sample negative metabolites levels dataset:"
   ]
  },
  {
   "cell_type": "code",
   "execution_count": 31,
   "id": "3bc51dbd",
   "metadata": {},
   "outputs": [],
   "source": [
    "fileNeg = joinpath(@__DIR__,\"..\",\"..\",\"data\",\"processed\",\"COPDGene\",\"negMeta.csv\");\n",
    "dfNegMetabo |> CSV.write(fileNeg);"
   ]
  },
  {
   "cell_type": "code",
   "execution_count": 32,
   "id": "fc4be437",
   "metadata": {},
   "outputs": [
    {
     "name": "stdout",
     "output_type": "stream",
     "text": [
      "The negative metabolite dataset contains 784 samples and 739 metabolites.\n"
     ]
    }
   ],
   "source": [
    "println(\"The negative metabolite dataset contains $(size(dfNegMetabo, 2)-1) samples and $(size(dfNegMetabo, 1)) metabolites.\")"
   ]
  },
  {
   "cell_type": "markdown",
   "id": "646987bc",
   "metadata": {
    "tags": []
   },
   "source": [
    "### Polar"
   ]
  },
  {
   "cell_type": "markdown",
   "id": "4f9ab444",
   "metadata": {},
   "source": [
    "Filter `dfPolarMetabo` sample according to the individuals dataframe `dfIndividuals`:"
   ]
  },
  {
   "cell_type": "markdown",
   "id": "ca9b6ad9",
   "metadata": {},
   "source": [
    "#### Keep complete cases"
   ]
  },
  {
   "cell_type": "code",
   "execution_count": 33,
   "id": "1881d4b7",
   "metadata": {
    "tags": []
   },
   "outputs": [],
   "source": [
    "dfPolarMetabo = keepComplete(dfPolarMetabo, dfIndividuals, dfRefMetabo; sampleCol=  :SampleID);"
   ]
  },
  {
   "cell_type": "markdown",
   "id": "e77304d2",
   "metadata": {},
   "source": [
    "#### Save filtered sample polar metabolites levels dataset:"
   ]
  },
  {
   "cell_type": "code",
   "execution_count": 34,
   "id": "5edb162d",
   "metadata": {},
   "outputs": [],
   "source": [
    "filePolar = joinpath(@__DIR__,\"..\",\"..\",\"data\",\"processed\",\"COPDGene\",\"polarMeta.csv\");\n",
    "dfPolarMetabo |> CSV.write(filePolar);"
   ]
  },
  {
   "cell_type": "code",
   "execution_count": 35,
   "id": "425f3730",
   "metadata": {},
   "outputs": [
    {
     "name": "stdout",
     "output_type": "stream",
     "text": [
      "The polar metabolite dataset contains 784 samples and 83 metabolites.\n"
     ]
    }
   ],
   "source": [
    "println(\"The polar metabolite dataset contains $(size(dfPolarMetabo, 2)-1) samples and $(size(dfPolarMetabo, 1)) metabolites.\")"
   ]
  },
  {
   "cell_type": "code",
   "execution_count": 36,
   "id": "9e678122",
   "metadata": {},
   "outputs": [],
   "source": [
    "# check name of Polar chemicals, they seem to be negative polar metablites\n",
    "idxPol = findall(x -> [x] ⊆ dfPolarMetabo.CompID, dfRefMetabo.CompID);\n",
    "dfRefMetabo.Biochemical[idxPol];"
   ]
  },
  {
   "cell_type": "markdown",
   "id": "0b3a1596",
   "metadata": {},
   "source": [
    "Polar dataset contains negative polar metabolites."
   ]
  },
  {
   "cell_type": "markdown",
   "id": "4562d523",
   "metadata": {
    "tags": []
   },
   "source": [
    "### Positive Early"
   ]
  },
  {
   "cell_type": "markdown",
   "id": "958fd7ba",
   "metadata": {},
   "source": [
    "Filter `dfPosEarlyMetabo` sample according to the individuals dataframe `dfIndividuals`:\n",
    "\n",
    "[Polar molecules elute earlier and nonpolar molecules later.](https://www.sciencedirect.com/topics/immunology-and-microbiology/metabolome-analysis)"
   ]
  },
  {
   "cell_type": "markdown",
   "id": "aa2dd5a7",
   "metadata": {},
   "source": [
    "#### Keep complete cases"
   ]
  },
  {
   "cell_type": "code",
   "execution_count": 37,
   "id": "26daea26",
   "metadata": {
    "tags": []
   },
   "outputs": [],
   "source": [
    "dfPosEarlyMetabo = keepComplete(dfPosEarlyMetabo, dfIndividuals, dfRefMetabo; sampleCol=  :SampleID);"
   ]
  },
  {
   "cell_type": "markdown",
   "id": "1874c570",
   "metadata": {},
   "source": [
    "#### Save filtered sample positive early metabolites levels dataset:"
   ]
  },
  {
   "cell_type": "code",
   "execution_count": 38,
   "id": "756fedb6",
   "metadata": {},
   "outputs": [],
   "source": [
    "filePosEarly = joinpath(@__DIR__,\"..\",\"..\",\"data\",\"processed\",\"COPDGene\",\"posEarlyMeta.csv\");\n",
    "dfPosEarlyMetabo |> CSV.write(filePosEarly);"
   ]
  },
  {
   "cell_type": "code",
   "execution_count": 39,
   "id": "b93ffc99",
   "metadata": {},
   "outputs": [
    {
     "name": "stdout",
     "output_type": "stream",
     "text": [
      "The positive early metabolite dataset contains 784 samples and 319 metabolites.\n"
     ]
    }
   ],
   "source": [
    "println(\"The positive early metabolite dataset contains $(size(dfPosEarlyMetabo, 2)-1) samples and $(size(dfPosEarlyMetabo, 1)) metabolites.\")"
   ]
  },
  {
   "cell_type": "markdown",
   "id": "4f00e7d3",
   "metadata": {
    "tags": []
   },
   "source": [
    "### Positive Late"
   ]
  },
  {
   "cell_type": "markdown",
   "id": "1a2eb251",
   "metadata": {},
   "source": [
    "Filter `dfPosLateMetabo` sample according to the individuals dataframe `dfIndividuals`:\n",
    "\n",
    "[Polar molecules elute earlier and nonpolar molecules later.](https://www.sciencedirect.com/topics/immunology-and-microbiology/metabolome-analysis)"
   ]
  },
  {
   "cell_type": "markdown",
   "id": "9b7b3e07",
   "metadata": {},
   "source": [
    "#### Keep complete cases"
   ]
  },
  {
   "cell_type": "code",
   "execution_count": 40,
   "id": "e0453f45",
   "metadata": {
    "tags": []
   },
   "outputs": [],
   "source": [
    "dfPosLateMetabo = keepComplete(dfPosLateMetabo, dfIndividuals, dfRefMetabo; sampleCol=  :SampleID);"
   ]
  },
  {
   "cell_type": "markdown",
   "id": "e387df85",
   "metadata": {},
   "source": [
    "#### Save filtered sample positive late metabolites levels dataset:"
   ]
  },
  {
   "cell_type": "code",
   "execution_count": 41,
   "id": "395d9977",
   "metadata": {},
   "outputs": [],
   "source": [
    "filePosLate = joinpath(@__DIR__,\"..\",\"..\",\"data\",\"processed\",\"COPDGene\",\"posLateMeta.csv\");\n",
    "dfPosLateMetabo |> CSV.write(filePosLate);"
   ]
  },
  {
   "cell_type": "code",
   "execution_count": 42,
   "id": "f28db2c5",
   "metadata": {},
   "outputs": [
    {
     "name": "stdout",
     "output_type": "stream",
     "text": [
      "The positive late metabolite dataset contains 784 samples and 251 metabolites.\n"
     ]
    }
   ],
   "source": [
    "println(\"The positive late metabolite dataset contains $(size(dfPosLateMetabo, 2)-1) samples and $(size(dfPosLateMetabo, 1)) metabolites.\")"
   ]
  },
  {
   "cell_type": "code",
   "execution_count": null,
   "id": "5a5db684-c06d-4a5f-870e-ce99b2176a26",
   "metadata": {},
   "outputs": [],
   "source": []
  }
 ],
 "metadata": {
  "jupytext": {
   "encoding": "# -*- coding: utf-8 -*-",
   "formats": "ipynb,jl:light"
  },
  "kernelspec": {
   "display_name": "Julia 1.10.5",
   "language": "julia",
   "name": "julia-1.10"
  },
  "language_info": {
   "file_extension": ".jl",
   "mimetype": "application/julia",
   "name": "julia",
   "version": "1.10.5"
  }
 },
 "nbformat": 4,
 "nbformat_minor": 5
}
