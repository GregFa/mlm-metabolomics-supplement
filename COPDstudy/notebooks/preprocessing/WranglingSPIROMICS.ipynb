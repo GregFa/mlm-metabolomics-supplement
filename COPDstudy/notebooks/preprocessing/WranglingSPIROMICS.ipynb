{
 "cells": [
  {
   "cell_type": "markdown",
   "id": "aab40233",
   "metadata": {},
   "source": [
    "# Wrangling SPIROMICS\n",
    "---"
   ]
  },
  {
   "cell_type": "markdown",
   "id": "dc5910fa",
   "metadata": {},
   "source": [
    "This notebook carrieds out the wrangling process for the SPIROMICS metabolomics data."
   ]
  },
  {
   "cell_type": "markdown",
   "id": "2e82a77f",
   "metadata": {},
   "source": [
    "## Input"
   ]
  },
  {
   "cell_type": "markdown",
   "id": "20199848",
   "metadata": {},
   "source": [
    "### Libraries"
   ]
  },
  {
   "cell_type": "code",
   "execution_count": 1,
   "id": "f7910e40",
   "metadata": {},
   "outputs": [],
   "source": [
    "# To use RCall for the first time, one needs to \n",
    "# the location of the R home directory.\n",
    "firstTimeRCall = false\n",
    "if firstTimeRCall \n",
    "    using Pkg\n",
    "    ENV[\"R_HOME\"] = \"C:/PROGRA~1/R/R-42~1.1\" # from R.home() in R\n",
    "    Pkg.build(\"RCall\")\n",
    "end     "
   ]
  },
  {
   "cell_type": "code",
   "execution_count": 2,
   "id": "effe86dc",
   "metadata": {},
   "outputs": [],
   "source": [
    "using DataFrames, CSV, Missings\n",
    "using FreqTables #, CategoricalArrays\n",
    "using Statistics"
   ]
  },
  {
   "cell_type": "markdown",
   "id": "17d82761",
   "metadata": {},
   "source": [
    "### Ext. Functions"
   ]
  },
  {
   "cell_type": "code",
   "execution_count": 3,
   "id": "bf7c3fc2",
   "metadata": {},
   "outputs": [],
   "source": [
    "include(joinpath(@__DIR__,\"..\",\"..\",\"src\",\"wrangle_utils.jl\" ));"
   ]
  },
  {
   "cell_type": "markdown",
   "id": "c1c99a2d",
   "metadata": {},
   "source": [
    "### Load data ST001639: SPIROMICS"
   ]
  },
  {
   "cell_type": "markdown",
   "id": "35182283",
   "metadata": {},
   "source": [
    "#### Participants"
   ]
  },
  {
   "cell_type": "code",
   "execution_count": 4,
   "id": "d881063d",
   "metadata": {},
   "outputs": [
    {
     "data": {
      "text/html": [
       "<div><div style = \"float: left;\"><span>3×14 DataFrame</span></div><div style = \"clear: both;\"></div></div><div class = \"data-frame\" style = \"overflow-x: scroll;\"><table class = \"data-frame\" style = \"margin-bottom: 6px;\"><thead><tr class = \"header\"><th class = \"rowNumber\" style = \"font-weight: bold; text-align: right;\">Row</th><th style = \"text-align: left;\">SUBJID</th><th style = \"text-align: left;\">SAMPLE_NAME</th><th style = \"text-align: left;\">SITE</th><th style = \"text-align: left;\">GOLD_STAGE_COPD_SEVERITY</th><th style = \"text-align: left;\">GENDER</th><th style = \"text-align: left;\">AGE_DERV_01</th><th style = \"text-align: left;\">RACE</th><th style = \"text-align: left;\">BMI_CM01</th><th style = \"text-align: left;\">CURRENT_SMOKER_V1</th><th style = \"text-align: left;\">SMOKING_PACK_YEARS01</th><th style = \"text-align: left;\">POST_FEV1FVC_DERV</th><th style = \"text-align: left;\">PCT_POST_FEV1_V1</th><th style = \"text-align: left;\">V1_PERCENT_EMPHYSEMA_TOTAL</th><th style = \"text-align: left;\">COPD</th></tr><tr class = \"subheader headerLastRow\"><th class = \"rowNumber\" style = \"font-weight: bold; text-align: right;\"></th><th title = \"String15\" style = \"text-align: left;\">String15</th><th title = \"String15\" style = \"text-align: left;\">String15</th><th title = \"String3\" style = \"text-align: left;\">String3</th><th title = \"Int64\" style = \"text-align: left;\">Int64</th><th title = \"String7\" style = \"text-align: left;\">String7</th><th title = \"Int64\" style = \"text-align: left;\">Int64</th><th title = \"String31\" style = \"text-align: left;\">String31</th><th title = \"Float64\" style = \"text-align: left;\">Float64</th><th title = \"Union{Missing, Int64}\" style = \"text-align: left;\">Int64?</th><th title = \"Float64\" style = \"text-align: left;\">Float64</th><th title = \"Float64\" style = \"text-align: left;\">Float64</th><th title = \"Float64\" style = \"text-align: left;\">Float64</th><th title = \"Union{Missing, Float64}\" style = \"text-align: left;\">Float64?</th><th title = \"Union{Missing, Int64}\" style = \"text-align: left;\">Int64?</th></tr></thead><tbody><tr><td class = \"rowNumber\" style = \"font-weight: bold; text-align: right;\">1</td><td style = \"text-align: left;\">CU100084</td><td style = \"text-align: left;\">NJHC-01517</td><td style = \"text-align: left;\">CU</td><td style = \"text-align: right;\">2</td><td style = \"text-align: left;\">Female</td><td style = \"text-align: right;\">64</td><td style = \"text-align: left;\">Non-Hispanic, White</td><td style = \"text-align: right;\">25.3</td><td style = \"text-align: right;\">0</td><td style = \"text-align: right;\">100.0</td><td style = \"text-align: right;\">0.505651</td><td style = \"text-align: right;\">65.4168</td><td style = \"text-align: right;\">11.56</td><td style = \"text-align: right;\">1</td></tr><tr><td class = \"rowNumber\" style = \"font-weight: bold; text-align: right;\">2</td><td style = \"text-align: left;\">CU100103</td><td style = \"text-align: left;\">NJHC-01709</td><td style = \"text-align: left;\">CU</td><td style = \"text-align: right;\">0</td><td style = \"text-align: left;\">Female</td><td style = \"text-align: right;\">59</td><td style = \"text-align: left;\">Black/African American</td><td style = \"text-align: right;\">35.9</td><td style = \"text-align: right;\">0</td><td style = \"text-align: right;\">50.0</td><td style = \"text-align: right;\">0.856898</td><td style = \"text-align: right;\">113.274</td><td style = \"font-style: italic; text-align: right;\">missing</td><td style = \"text-align: right;\">0</td></tr><tr><td class = \"rowNumber\" style = \"font-weight: bold; text-align: right;\">3</td><td style = \"text-align: left;\">CU100139</td><td style = \"text-align: left;\">NJHC-01708</td><td style = \"text-align: left;\">CU</td><td style = \"text-align: right;\">0</td><td style = \"text-align: left;\">Male</td><td style = \"text-align: right;\">52</td><td style = \"text-align: left;\">Black/African American</td><td style = \"text-align: right;\">39.8</td><td style = \"text-align: right;\">1</td><td style = \"text-align: right;\">25.0</td><td style = \"text-align: right;\">0.781953</td><td style = \"text-align: right;\">102.662</td><td style = \"text-align: right;\">0.09</td><td style = \"text-align: right;\">0</td></tr></tbody></table></div>"
      ],
      "text/latex": [
       "\\begin{tabular}{r|ccccccc}\n",
       "\t& SUBJID & SAMPLE\\_NAME & SITE & GOLD\\_STAGE\\_COPD\\_SEVERITY & GENDER & AGE\\_DERV\\_01 & \\\\\n",
       "\t\\hline\n",
       "\t& String15 & String15 & String3 & Int64 & String7 & Int64 & \\\\\n",
       "\t\\hline\n",
       "\t1 & CU100084 & NJHC-01517 & CU & 2 & Female & 64 & $\\dots$ \\\\\n",
       "\t2 & CU100103 & NJHC-01709 & CU & 0 & Female & 59 & $\\dots$ \\\\\n",
       "\t3 & CU100139 & NJHC-01708 & CU & 0 & Male & 52 & $\\dots$ \\\\\n",
       "\\end{tabular}\n"
      ],
      "text/plain": [
       "\u001b[1m3×14 DataFrame\u001b[0m\n",
       "\u001b[1m Row \u001b[0m│\u001b[1m SUBJID   \u001b[0m\u001b[1m SAMPLE_NAME \u001b[0m\u001b[1m SITE    \u001b[0m\u001b[1m GOLD_STAGE_COPD_SEVERITY \u001b[0m\u001b[1m GENDER  \u001b[0m\u001b[1m AGE_\u001b[0m ⋯\n",
       "     │\u001b[90m String15 \u001b[0m\u001b[90m String15    \u001b[0m\u001b[90m String3 \u001b[0m\u001b[90m Int64                    \u001b[0m\u001b[90m String7 \u001b[0m\u001b[90m Int6\u001b[0m ⋯\n",
       "─────┼──────────────────────────────────────────────────────────────────────────\n",
       "   1 │ CU100084  NJHC-01517   CU                              2  Female        ⋯\n",
       "   2 │ CU100103  NJHC-01709   CU                              0  Female\n",
       "   3 │ CU100139  NJHC-01708   CU                              0  Male\n",
       "\u001b[36m                                                               9 columns omitted\u001b[0m"
      ]
     },
     "execution_count": 4,
     "metadata": {},
     "output_type": "execute_result"
    }
   ],
   "source": [
    "fileIndividuals = realpath(joinpath(@__DIR__,\"..\",\"..\",\"data\",\"raw\",\"SPIROMICS\",\"SPIROMICS_ClinicalCovariates.csv\"))\n",
    "dfIndividuals = CSV.read(fileIndividuals, DataFrame;  delim = ',', missingstring = \"NA\");\n",
    "first(dfIndividuals, 3)"
   ]
  },
  {
   "cell_type": "code",
   "execution_count": 5,
   "id": "53e14779-9764-4c07-8438-624180a97268",
   "metadata": {},
   "outputs": [
    {
     "data": {
      "text/plain": [
       "4-element Vector{Int64}:\n",
       " 2\n",
       " 0\n",
       " 3\n",
       " 4"
      ]
     },
     "execution_count": 5,
     "metadata": {},
     "output_type": "execute_result"
    }
   ],
   "source": [
    "unique(dfIndividuals.GOLD_STAGE_COPD_SEVERITY)"
   ]
  },
  {
   "cell_type": "markdown",
   "id": "c6430931",
   "metadata": {},
   "source": [
    "#### Metabolites References"
   ]
  },
  {
   "cell_type": "markdown",
   "id": "e9516a41-0094-4ca4-813d-dca01545584b",
   "metadata": {},
   "source": [
    "The metabolites references are split in to 4 files:\n",
    "- neg_metadata.txt\n",
    "- polar_metadata.txt\n",
    "- pos_early_metadata.txt\n",
    "- pos_late_metadata.txt"
   ]
  },
  {
   "cell_type": "code",
   "execution_count": 6,
   "id": "3bb221b0-26b6-4ee4-807b-1449e27e8f16",
   "metadata": {},
   "outputs": [
    {
     "data": {
      "text/html": [
       "<div><div style = \"float: left;\"><span>1×10 DataFrame</span></div><div style = \"clear: both;\"></div></div><div class = \"data-frame\" style = \"overflow-x: scroll;\"><table class = \"data-frame\" style = \"margin-bottom: 6px;\"><thead><tr class = \"header\"><th class = \"rowNumber\" style = \"font-weight: bold; text-align: right;\">Row</th><th style = \"text-align: left;\">metabolite_name</th><th style = \"text-align: left;\">SUPER.PATHWAY</th><th style = \"text-align: left;\">SUB.PATHWAY</th><th style = \"text-align: left;\">PLATFORM</th><th style = \"text-align: left;\">RI</th><th style = \"text-align: left;\">MASS</th><th style = \"text-align: left;\">PUBCHEM</th><th style = \"text-align: left;\">CAS</th><th style = \"text-align: left;\">KEGG</th><th style = \"text-align: left;\">HMDB</th></tr><tr class = \"subheader headerLastRow\"><th class = \"rowNumber\" style = \"font-weight: bold; text-align: right;\"></th><th title = \"String\" style = \"text-align: left;\">String</th><th title = \"String\" style = \"text-align: left;\">String</th><th title = \"String\" style = \"text-align: left;\">String</th><th title = \"String15\" style = \"text-align: left;\">String15</th><th title = \"Float64\" style = \"text-align: left;\">Float64</th><th title = \"Float64\" style = \"text-align: left;\">Float64</th><th title = \"String15\" style = \"text-align: left;\">String15</th><th title = \"String31\" style = \"text-align: left;\">String31</th><th title = \"String31\" style = \"text-align: left;\">String31</th><th title = \"String31\" style = \"text-align: left;\">String31</th></tr></thead><tbody><tr><td class = \"rowNumber\" style = \"font-weight: bold; text-align: right;\">1</td><td style = \"text-align: left;\">(14 or 15)-methylpalmitate (a17:0 or i17:0)</td><td style = \"text-align: left;\">Lipid</td><td style = \"text-align: left;\">Fatty Acid, Branched</td><td style = \"text-align: left;\">LC/MS Neg</td><td style = \"text-align: right;\">5695.0</td><td style = \"text-align: right;\">269.249</td><td style = \"text-align: left;\">NA</td><td style = \"text-align: left;\">NA</td><td style = \"text-align: left;\">NA</td><td style = \"text-align: left;\">NA</td></tr></tbody></table></div>"
      ],
      "text/latex": [
       "\\begin{tabular}{r|cccc}\n",
       "\t& metabolite\\_name & SUPER.PATHWAY & SUB.PATHWAY & \\\\\n",
       "\t\\hline\n",
       "\t& String & String & String & \\\\\n",
       "\t\\hline\n",
       "\t1 & (14 or 15)-methylpalmitate (a17:0 or i17:0) & Lipid & Fatty Acid, Branched & $\\dots$ \\\\\n",
       "\\end{tabular}\n"
      ],
      "text/plain": [
       "\u001b[1m1×10 DataFrame\u001b[0m\n",
       "\u001b[1m Row \u001b[0m│\u001b[1m metabolite_name                   \u001b[0m\u001b[1m SUPER.PATHWAY \u001b[0m\u001b[1m SUB.PATHWAY          \u001b[0m\u001b[1m\u001b[0m ⋯\n",
       "     │\u001b[90m String                            \u001b[0m\u001b[90m String        \u001b[0m\u001b[90m String               \u001b[0m\u001b[90m\u001b[0m ⋯\n",
       "─────┼──────────────────────────────────────────────────────────────────────────\n",
       "   1 │ (14 or 15)-methylpalmitate (a17:…  Lipid          Fatty Acid, Branched  ⋯\n",
       "\u001b[36m                                                               7 columns omitted\u001b[0m"
      ]
     },
     "execution_count": 6,
     "metadata": {},
     "output_type": "execute_result"
    }
   ],
   "source": [
    "# Reference metabolomics\n",
    "vRefMetaFiles = repeat([\"path\"],4)\n",
    "\n",
    "vRefMetaFiles[1] = realpath(joinpath(@__DIR__,\"..\",\"..\",\"data\",\"raw\",\"SPIROMICS\",\n",
    "                                  \"neg_metadata.txt\"))\n",
    "vRefMetaFiles[2] = realpath(joinpath(@__DIR__,\"..\",\"..\",\"data\",\"raw\",\"SPIROMICS\",\n",
    "                                  \"polar_metadata.txt\"))\n",
    "vRefMetaFiles[3] = realpath(joinpath(@__DIR__,\"..\",\"..\",\"data\",\"raw\",\"SPIROMICS\",\n",
    "                                  \"pos_early_metadata.txt\"))\n",
    "# Missing 1st column name: metabolite_name, in pos_polar_metadata.txt   \n",
    "vRefMetaFiles[4] = realpath(joinpath(@__DIR__,\"..\",\"..\",\"data\",\"raw\",\"SPIROMICS\",\n",
    "                                  \"pos_late_metadata_revised20220829.txt\"))#\"pos_polar_metadata.txt\"))\n",
    "prepend(vRefMetaFiles[4], \"metabolite_name\t\") # prepend \"metabolite_name  \"\n",
    "vRefMetaFiles[4] = realpath(joinpath(@__DIR__,\"..\",\"..\",\"data\",\"raw\",\"SPIROMICS\",\n",
    "                                  \"new_pos_late_metadata_revised20220829.txt\"))#\"new_pos_polar_metadata.txt\"))\n",
    "\n",
    "# Generate dataframe\n",
    "dfRefMetabo = CSV.read(vRefMetaFiles[1], DataFrame;  delim = '\t');\n",
    "\n",
    "for i in 2:length(vRefMetaFiles)\n",
    "    dfRefMetabo = vcat(dfRefMetabo, CSV.read(vRefMetaFiles[i], DataFrame;  delim = '\t'));\n",
    "end\n",
    "# add code to remove prepend new file\n",
    "# rm(vRefMetaFiles[4])\n",
    "first(dfRefMetabo, 1)"
   ]
  },
  {
   "cell_type": "code",
   "execution_count": 7,
   "id": "d4eb12d6",
   "metadata": {},
   "outputs": [
    {
     "data": {
      "text/plain": [
       "10-element Vector{String}:\n",
       " \"metabolite_name\"\n",
       " \"SUPER.PATHWAY\"\n",
       " \"SUB.PATHWAY\"\n",
       " \"PLATFORM\"\n",
       " \"RI\"\n",
       " \"MASS\"\n",
       " \"PUBCHEM\"\n",
       " \"CAS\"\n",
       " \"KEGG\"\n",
       " \"HMDB\""
      ]
     },
     "execution_count": 7,
     "metadata": {},
     "output_type": "execute_result"
    }
   ],
   "source": [
    "names(dfRefMetabo)"
   ]
  },
  {
   "cell_type": "markdown",
   "id": "5a2b73e8",
   "metadata": {},
   "source": [
    "#### Negative"
   ]
  },
  {
   "cell_type": "markdown",
   "id": "9e3b94e3",
   "metadata": {},
   "source": [
    "**Notes:** *The metabolics files do not contains a column header for the name of the metabolites; we need to add a column name.*"
   ]
  },
  {
   "cell_type": "code",
   "execution_count": 8,
   "id": "27ca4043",
   "metadata": {},
   "outputs": [
    {
     "data": {
      "text/html": [
       "<div><div style = \"float: left;\"><span>3×650 DataFrame</span></div><div style = \"float: right;\"><span style = \"font-style: italic;\">550 columns omitted</span></div><div style = \"clear: both;\"></div></div><div class = \"data-frame\" style = \"overflow-x: scroll;\"><table class = \"data-frame\" style = \"margin-bottom: 6px;\"><thead><tr class = \"header\"><th class = \"rowNumber\" style = \"font-weight: bold; text-align: right;\">Row</th><th style = \"text-align: left;\">metabolite_name</th><th style = \"text-align: left;\">NJHC-01750</th><th style = \"text-align: left;\">NJHC-01642</th><th style = \"text-align: left;\">NJHC-01498</th><th style = \"text-align: left;\">NJHC-01614</th><th style = \"text-align: left;\">NJHC-01591</th><th style = \"text-align: left;\">NJHC-01819</th><th style = \"text-align: left;\">NJHC-01503</th><th style = \"text-align: left;\">NJHC-01474</th><th style = \"text-align: left;\">NJHC-02018</th><th style = \"text-align: left;\">NJHC-01638</th><th style = \"text-align: left;\">NJHC-01980</th><th style = \"text-align: left;\">NJHC-01558</th><th style = \"text-align: left;\">NJHC-01689</th><th style = \"text-align: left;\">NJHC-01660</th><th style = \"text-align: left;\">NJHC-01419</th><th style = \"text-align: left;\">NJHC-02027</th><th style = \"text-align: left;\">NJHC-01877</th><th style = \"text-align: left;\">NJHC-01956</th><th style = \"text-align: left;\">NJHC-01683</th><th style = \"text-align: left;\">NJHC-01847</th><th style = \"text-align: left;\">NJHC-01499</th><th style = \"text-align: left;\">NJHC-01835</th><th style = \"text-align: left;\">NJHC-01624</th><th style = \"text-align: left;\">NJHC-01788</th><th style = \"text-align: left;\">NJHC-02034</th><th style = \"text-align: left;\">NJHC-01954</th><th style = \"text-align: left;\">NJHC-01987</th><th style = \"text-align: left;\">NJHC-01488</th><th style = \"text-align: left;\">NJHC-01981</th><th style = \"text-align: left;\">NJHC-01961</th><th style = \"text-align: left;\">NJHC-01862</th><th style = \"text-align: left;\">NJHC-01525</th><th style = \"text-align: left;\">NJHC-01572</th><th style = \"text-align: left;\">NJHC-01695</th><th style = \"text-align: left;\">NJHC-01526</th><th style = \"text-align: left;\">NJHC-01595</th><th style = \"text-align: left;\">NJHC-01783</th><th style = \"text-align: left;\">NJHC-01500</th><th style = \"text-align: left;\">NJHC-01449</th><th style = \"text-align: left;\">NJHC-01436</th><th style = \"text-align: left;\">NJHC-01554</th><th style = \"text-align: left;\">NJHC-01626</th><th style = \"text-align: left;\">NJHC-02037</th><th style = \"text-align: left;\">NJHC-01601</th><th style = \"text-align: left;\">NJHC-01963</th><th style = \"text-align: left;\">NJHC-01468</th><th style = \"text-align: left;\">NJHC-01957</th><th style = \"text-align: left;\">NJHC-01496</th><th style = \"text-align: left;\">NJHC-01780</th><th style = \"text-align: left;\">NJHC-01475</th><th style = \"text-align: left;\">NJHC-01742</th><th style = \"text-align: left;\">NJHC-02045</th><th style = \"text-align: left;\">NJHC-01824</th><th style = \"text-align: left;\">NJHC-01476</th><th style = \"text-align: left;\">NJHC-01922</th><th style = \"text-align: left;\">NJHC-01596</th><th style = \"text-align: left;\">NJHC-01477</th><th style = \"text-align: left;\">NJHC-01721</th><th style = \"text-align: left;\">NJHC-01825</th><th style = \"text-align: left;\">NJHC-01511</th><th style = \"text-align: left;\">NJHC-01615</th><th style = \"text-align: left;\">NJHC-02041</th><th style = \"text-align: left;\">NJHC-01900</th><th style = \"text-align: left;\">NJHC-01429</th><th style = \"text-align: left;\">NJHC-01481</th><th style = \"text-align: left;\">NJHC-01727</th><th style = \"text-align: left;\">NJHC-02019</th><th style = \"text-align: left;\">NJHC-01712</th><th style = \"text-align: left;\">NJHC-01982</th><th style = \"text-align: left;\">NJHC-01714</th><th style = \"text-align: left;\">NJHC-01734</th><th style = \"text-align: left;\">NJHC-01866</th><th style = \"text-align: left;\">NJHC-01690</th><th style = \"text-align: left;\">NJHC-01655</th><th style = \"text-align: left;\">NJHC-01650</th><th style = \"text-align: left;\">NJHC-01602</th><th style = \"text-align: left;\">NJHC-02010</th><th style = \"text-align: left;\">NJHC-01751</th><th style = \"text-align: left;\">NJHC-01644</th><th style = \"text-align: left;\">NJHC-01809</th><th style = \"text-align: left;\">NJHC-01691</th><th style = \"text-align: left;\">NJHC-01992</th><th style = \"text-align: left;\">NJHC-01867</th><th style = \"text-align: left;\">NJHC-01842</th><th style = \"text-align: left;\">NJHC-01793</th><th style = \"text-align: left;\">NJHC-01917</th><th style = \"text-align: left;\">NJHC-01918</th><th style = \"text-align: left;\">NJHC-01518</th><th style = \"text-align: left;\">NJHC-01702</th><th style = \"text-align: left;\">NJHC-01735</th><th style = \"text-align: left;\">NJHC-01814</th><th style = \"text-align: left;\">NJHC-01587</th><th style = \"text-align: left;\">NJHC-01858</th><th style = \"text-align: left;\">NJHC-01713</th><th style = \"text-align: left;\">NJHC-01848</th><th style = \"text-align: left;\">NJHC-01708</th><th style = \"text-align: left;\">NJHC-01546</th><th style = \"text-align: left;\">NJHC-01684</th><th style = \"text-align: left;\">NJHC-01863</th><th style = \"text-align: right;\">&ctdot;</th></tr><tr class = \"subheader headerLastRow\"><th class = \"rowNumber\" style = \"font-weight: bold; text-align: right;\"></th><th title = \"String\" style = \"text-align: left;\">String</th><th title = \"Union{Missing, Float64}\" style = \"text-align: left;\">Float64?</th><th title = \"Union{Missing, Float64}\" style = \"text-align: left;\">Float64?</th><th title = \"Union{Missing, Float64}\" style = \"text-align: left;\">Float64?</th><th title = \"Union{Missing, Float64}\" style = \"text-align: left;\">Float64?</th><th title = \"Union{Missing, Float64}\" style = \"text-align: left;\">Float64?</th><th title = \"Union{Missing, Float64}\" style = \"text-align: left;\">Float64?</th><th title = \"Union{Missing, Float64}\" style = \"text-align: left;\">Float64?</th><th title = \"Union{Missing, Float64}\" style = \"text-align: left;\">Float64?</th><th title = \"Union{Missing, Float64}\" style = \"text-align: left;\">Float64?</th><th title = \"Union{Missing, Float64}\" style = \"text-align: left;\">Float64?</th><th title = \"Union{Missing, Float64}\" style = \"text-align: left;\">Float64?</th><th title = \"Union{Missing, Float64}\" style = \"text-align: left;\">Float64?</th><th title = \"Union{Missing, Float64}\" style = \"text-align: left;\">Float64?</th><th title = \"Union{Missing, Float64}\" style = \"text-align: left;\">Float64?</th><th title = \"Union{Missing, Float64}\" style = \"text-align: left;\">Float64?</th><th title = \"Union{Missing, Float64}\" style = \"text-align: left;\">Float64?</th><th title = \"Union{Missing, Float64}\" style = \"text-align: left;\">Float64?</th><th title = \"Union{Missing, Float64}\" style = \"text-align: left;\">Float64?</th><th title = \"Union{Missing, Float64}\" style = \"text-align: left;\">Float64?</th><th title = \"Union{Missing, Float64}\" style = \"text-align: left;\">Float64?</th><th title = \"Union{Missing, Float64}\" style = \"text-align: left;\">Float64?</th><th title = \"Union{Missing, Float64}\" style = \"text-align: left;\">Float64?</th><th title = \"Union{Missing, Float64}\" style = \"text-align: left;\">Float64?</th><th title = \"Union{Missing, Float64}\" style = \"text-align: left;\">Float64?</th><th title = \"Union{Missing, Float64}\" style = \"text-align: left;\">Float64?</th><th title = \"Union{Missing, Float64}\" style = \"text-align: left;\">Float64?</th><th title = \"Union{Missing, Float64}\" style = \"text-align: left;\">Float64?</th><th title = \"Union{Missing, Float64}\" style = \"text-align: left;\">Float64?</th><th title = \"Union{Missing, Float64}\" style = \"text-align: left;\">Float64?</th><th title = \"Union{Missing, Float64}\" style = \"text-align: left;\">Float64?</th><th title = \"Union{Missing, Float64}\" style = \"text-align: left;\">Float64?</th><th title = \"Union{Missing, Float64}\" style = \"text-align: left;\">Float64?</th><th title = \"Union{Missing, Float64}\" style = \"text-align: left;\">Float64?</th><th title = \"Union{Missing, Float64}\" style = \"text-align: left;\">Float64?</th><th title = \"Union{Missing, Float64}\" style = \"text-align: left;\">Float64?</th><th title = \"Union{Missing, Float64}\" style = \"text-align: left;\">Float64?</th><th title = \"Union{Missing, Float64}\" style = \"text-align: left;\">Float64?</th><th title = \"Union{Missing, Float64}\" style = \"text-align: left;\">Float64?</th><th title = \"Union{Missing, Float64}\" style = \"text-align: left;\">Float64?</th><th title = \"Union{Missing, Float64}\" style = \"text-align: left;\">Float64?</th><th title = \"Union{Missing, Float64}\" style = \"text-align: left;\">Float64?</th><th title = \"Union{Missing, Float64}\" style = \"text-align: left;\">Float64?</th><th title = \"Union{Missing, Float64}\" style = \"text-align: left;\">Float64?</th><th title = \"Union{Missing, Float64}\" style = \"text-align: left;\">Float64?</th><th title = \"Union{Missing, Float64}\" style = \"text-align: left;\">Float64?</th><th title = \"Union{Missing, Float64}\" style = \"text-align: left;\">Float64?</th><th title = \"Union{Missing, Float64}\" style = \"text-align: left;\">Float64?</th><th title = \"Union{Missing, Float64}\" style = \"text-align: left;\">Float64?</th><th title = \"Union{Missing, Float64}\" style = \"text-align: left;\">Float64?</th><th title = \"Union{Missing, Float64}\" style = \"text-align: left;\">Float64?</th><th title = \"Union{Missing, Float64}\" style = \"text-align: left;\">Float64?</th><th title = \"Union{Missing, Float64}\" style = \"text-align: left;\">Float64?</th><th title = \"Union{Missing, Float64}\" style = \"text-align: left;\">Float64?</th><th title = \"Union{Missing, Float64}\" style = \"text-align: left;\">Float64?</th><th title = \"Union{Missing, Float64}\" style = \"text-align: left;\">Float64?</th><th title = \"Union{Missing, Float64}\" style = \"text-align: left;\">Float64?</th><th title = \"Union{Missing, Float64}\" style = \"text-align: left;\">Float64?</th><th title = \"Union{Missing, Float64}\" style = \"text-align: left;\">Float64?</th><th title = \"Union{Missing, Float64}\" style = \"text-align: left;\">Float64?</th><th title = \"Union{Missing, Float64}\" style = \"text-align: left;\">Float64?</th><th title = \"Union{Missing, Float64}\" style = \"text-align: left;\">Float64?</th><th title = \"Union{Missing, Float64}\" style = \"text-align: left;\">Float64?</th><th title = \"Union{Missing, Float64}\" style = \"text-align: left;\">Float64?</th><th title = \"Union{Missing, Float64}\" style = \"text-align: left;\">Float64?</th><th title = \"Union{Missing, Float64}\" style = \"text-align: left;\">Float64?</th><th title = \"Union{Missing, Float64}\" style = \"text-align: left;\">Float64?</th><th title = \"Union{Missing, Float64}\" style = \"text-align: left;\">Float64?</th><th title = \"Union{Missing, Float64}\" style = \"text-align: left;\">Float64?</th><th title = \"Union{Missing, Float64}\" style = \"text-align: left;\">Float64?</th><th title = \"Union{Missing, Float64}\" style = \"text-align: left;\">Float64?</th><th title = \"Union{Missing, Float64}\" style = \"text-align: left;\">Float64?</th><th title = \"Union{Missing, Float64}\" style = \"text-align: left;\">Float64?</th><th title = \"Union{Missing, Float64}\" style = \"text-align: left;\">Float64?</th><th title = \"Union{Missing, Float64}\" style = \"text-align: left;\">Float64?</th><th title = \"Union{Missing, Float64}\" style = \"text-align: left;\">Float64?</th><th title = \"Union{Missing, Float64}\" style = \"text-align: left;\">Float64?</th><th title = \"Union{Missing, Float64}\" style = \"text-align: left;\">Float64?</th><th title = \"Union{Missing, Float64}\" style = \"text-align: left;\">Float64?</th><th title = \"Union{Missing, Float64}\" style = \"text-align: left;\">Float64?</th><th title = \"Union{Missing, Float64}\" style = \"text-align: left;\">Float64?</th><th title = \"Union{Missing, Float64}\" style = \"text-align: left;\">Float64?</th><th title = \"Union{Missing, Float64}\" style = \"text-align: left;\">Float64?</th><th title = \"Union{Missing, Float64}\" style = \"text-align: left;\">Float64?</th><th title = \"Union{Missing, Float64}\" style = \"text-align: left;\">Float64?</th><th title = \"Union{Missing, Float64}\" style = \"text-align: left;\">Float64?</th><th title = \"Union{Missing, Float64}\" style = \"text-align: left;\">Float64?</th><th title = \"Union{Missing, Float64}\" style = \"text-align: left;\">Float64?</th><th title = \"Union{Missing, Float64}\" style = \"text-align: left;\">Float64?</th><th title = \"Union{Missing, Float64}\" style = \"text-align: left;\">Float64?</th><th title = \"Union{Missing, Float64}\" style = \"text-align: left;\">Float64?</th><th title = \"Union{Missing, Float64}\" style = \"text-align: left;\">Float64?</th><th title = \"Union{Missing, Float64}\" style = \"text-align: left;\">Float64?</th><th title = \"Union{Missing, Float64}\" style = \"text-align: left;\">Float64?</th><th title = \"Union{Missing, Float64}\" style = \"text-align: left;\">Float64?</th><th title = \"Union{Missing, Float64}\" style = \"text-align: left;\">Float64?</th><th title = \"Union{Missing, Float64}\" style = \"text-align: left;\">Float64?</th><th title = \"Union{Missing, Float64}\" style = \"text-align: left;\">Float64?</th><th title = \"Union{Missing, Float64}\" style = \"text-align: left;\">Float64?</th><th title = \"Union{Missing, Float64}\" style = \"text-align: left;\">Float64?</th><th title = \"Union{Missing, Float64}\" style = \"text-align: right;\">&ctdot;</th></tr></thead><tbody><tr><td class = \"rowNumber\" style = \"font-weight: bold; text-align: right;\">1</td><td style = \"text-align: left;\">(14 or 15)-methylpalmitate (a17:0 or i17:0)</td><td style = \"text-align: right;\">2.04967e7</td><td style = \"text-align: right;\">1.14421e7</td><td style = \"text-align: right;\">1.13891e7</td><td style = \"text-align: right;\">1.05902e7</td><td style = \"text-align: right;\">5.17257e6</td><td style = \"text-align: right;\">1.19961e7</td><td style = \"text-align: right;\">1.41875e7</td><td style = \"text-align: right;\">1.31663e7</td><td style = \"text-align: right;\">1.78036e7</td><td style = \"text-align: right;\">1.58556e7</td><td style = \"text-align: right;\">9.05915e6</td><td style = \"text-align: right;\">1.87014e7</td><td style = \"text-align: right;\">7.30848e6</td><td style = \"text-align: right;\">1.41185e7</td><td style = \"text-align: right;\">1.20606e7</td><td style = \"text-align: right;\">1.0925e7</td><td style = \"text-align: right;\">1.41611e7</td><td style = \"text-align: right;\">3.48075e7</td><td style = \"text-align: right;\">8.31619e6</td><td style = \"text-align: right;\">1.14378e7</td><td style = \"text-align: right;\">8.84946e6</td><td style = \"text-align: right;\">1.14561e7</td><td style = \"text-align: right;\">9.81313e6</td><td style = \"text-align: right;\">4.49032e6</td><td style = \"text-align: right;\">1.17826e7</td><td style = \"text-align: right;\">8.16998e6</td><td style = \"text-align: right;\">9.10768e6</td><td style = \"text-align: right;\">1.83888e7</td><td style = \"text-align: right;\">5.97925e6</td><td style = \"text-align: right;\">8.3762e6</td><td style = \"text-align: right;\">1.25741e7</td><td style = \"text-align: right;\">1.51996e7</td><td style = \"text-align: right;\">7.0036e6</td><td style = \"text-align: right;\">1.19312e7</td><td style = \"text-align: right;\">7.7332e6</td><td style = \"text-align: right;\">1.05327e7</td><td style = \"text-align: right;\">1.52645e7</td><td style = \"text-align: right;\">1.27435e7</td><td style = \"text-align: right;\">3.61055e6</td><td style = \"text-align: right;\">1.83688e7</td><td style = \"text-align: right;\">1.24218e7</td><td style = \"text-align: right;\">1.03255e7</td><td style = \"text-align: right;\">1.41613e7</td><td style = \"text-align: right;\">1.28019e7</td><td style = \"text-align: right;\">2.42632e7</td><td style = \"text-align: right;\">2.9711e7</td><td style = \"text-align: right;\">9.87941e6</td><td style = \"text-align: right;\">4.93955e6</td><td style = \"text-align: right;\">1.56326e7</td><td style = \"text-align: right;\">1.57483e7</td><td style = \"text-align: right;\">4.45249e6</td><td style = \"text-align: right;\">1.84442e7</td><td style = \"text-align: right;\">1.55161e7</td><td style = \"text-align: right;\">1.59138e7</td><td style = \"text-align: right;\">2.92429e7</td><td style = \"text-align: right;\">6.69368e6</td><td style = \"text-align: right;\">2.10664e7</td><td style = \"text-align: right;\">5.27104e6</td><td style = \"text-align: right;\">1.60187e7</td><td style = \"text-align: right;\">2.27276e6</td><td style = \"text-align: right;\">1.3178e7</td><td style = \"text-align: right;\">1.16773e7</td><td style = \"text-align: right;\">1.01719e7</td><td style = \"text-align: right;\">3.74659e7</td><td style = \"text-align: right;\">1.28217e7</td><td style = \"text-align: right;\">5.22434e6</td><td style = \"text-align: right;\">1.32198e7</td><td style = \"text-align: right;\">5.11602e6</td><td style = \"text-align: right;\">1.05688e7</td><td style = \"text-align: right;\">6.6096e6</td><td style = \"text-align: right;\">1.22091e7</td><td style = \"text-align: right;\">4.54059e6</td><td style = \"text-align: right;\">1.21314e7</td><td style = \"text-align: right;\">3.44984e7</td><td style = \"text-align: right;\">3.35197e7</td><td style = \"text-align: right;\">9.33842e6</td><td style = \"text-align: right;\">6.41717e7</td><td style = \"text-align: right;\">3.24214e7</td><td style = \"text-align: right;\">1.03291e7</td><td style = \"text-align: right;\">1.91197e7</td><td style = \"text-align: right;\">1.36034e7</td><td style = \"text-align: right;\">1.49447e7</td><td style = \"text-align: right;\">715058.0</td><td style = \"text-align: right;\">1.41605e7</td><td style = \"text-align: right;\">1.02259e7</td><td style = \"text-align: right;\">2.48302e7</td><td style = \"text-align: right;\">1.01711e7</td><td style = \"text-align: right;\">1.29584e7</td><td style = \"text-align: right;\">1.3701e7</td><td style = \"text-align: right;\">2.87024e7</td><td style = \"text-align: right;\">1.32356e7</td><td style = \"text-align: right;\">1.71166e7</td><td style = \"text-align: right;\">2.21985e7</td><td style = \"text-align: right;\">2.08107e7</td><td style = \"text-align: right;\">3.1857e6</td><td style = \"text-align: right;\">1.13042e7</td><td style = \"text-align: right;\">4.02623e7</td><td style = \"text-align: right;\">9.75738e6</td><td style = \"text-align: right;\">1.14684e7</td><td style = \"text-align: right;\">&ctdot;</td></tr><tr><td class = \"rowNumber\" style = \"font-weight: bold; text-align: right;\">2</td><td style = \"text-align: left;\">(16 or 17)-methylstearate (a19:0 or i19:0)</td><td style = \"text-align: right;\">1.13911e6</td><td style = \"text-align: right;\">8.90218e5</td><td style = \"text-align: right;\">8.87839e5</td><td style = \"text-align: right;\">1.12957e6</td><td style = \"text-align: right;\">6.52188e5</td><td style = \"text-align: right;\">1.26706e6</td><td style = \"text-align: right;\">1.0101e6</td><td style = \"text-align: right;\">9.17362e5</td><td style = \"text-align: right;\">1.16149e6</td><td style = \"text-align: right;\">1.1417e6</td><td style = \"text-align: right;\">7.58177e5</td><td style = \"text-align: right;\">1.52422e6</td><td style = \"text-align: right;\">8.60058e5</td><td style = \"text-align: right;\">1.1867e6</td><td style = \"text-align: right;\">6.62986e5</td><td style = \"text-align: right;\">9.86238e5</td><td style = \"text-align: right;\">1.0833e6</td><td style = \"text-align: right;\">1.7691e6</td><td style = \"text-align: right;\">6.79138e5</td><td style = \"text-align: right;\">1.11714e6</td><td style = \"text-align: right;\">785624.0</td><td style = \"text-align: right;\">1.10906e6</td><td style = \"text-align: right;\">8.17624e5</td><td style = \"text-align: right;\">570630.0</td><td style = \"text-align: right;\">7.05474e5</td><td style = \"text-align: right;\">8.13963e5</td><td style = \"text-align: right;\">8.21974e5</td><td style = \"text-align: right;\">1.13621e6</td><td style = \"text-align: right;\">7.23787e5</td><td style = \"text-align: right;\">1.08012e6</td><td style = \"text-align: right;\">8.54601e5</td><td style = \"text-align: right;\">1.03247e6</td><td style = \"text-align: right;\">6.50186e5</td><td style = \"text-align: right;\">1.18514e6</td><td style = \"text-align: right;\">6.03164e5</td><td style = \"text-align: right;\">6.94159e5</td><td style = \"text-align: right;\">7.87944e5</td><td style = \"text-align: right;\">8.20689e5</td><td style = \"text-align: right;\">461979.0</td><td style = \"text-align: right;\">1.41896e6</td><td style = \"text-align: right;\">1.25379e6</td><td style = \"text-align: right;\">7.92101e5</td><td style = \"text-align: right;\">9.26252e5</td><td style = \"text-align: right;\">1.05874e6</td><td style = \"text-align: right;\">1.83668e6</td><td style = \"text-align: right;\">1.77385e6</td><td style = \"text-align: right;\">6.47049e5</td><td style = \"text-align: right;\">4.77353e5</td><td style = \"text-align: right;\">2.09241e6</td><td style = \"text-align: right;\">1.04134e6</td><td style = \"text-align: right;\">3.8681e5</td><td style = \"text-align: right;\">1.05964e6</td><td style = \"text-align: right;\">1.56745e6</td><td style = \"text-align: right;\">1.07932e6</td><td style = \"text-align: right;\">2.01147e6</td><td style = \"text-align: right;\">6.56937e5</td><td style = \"text-align: right;\">1.22901e6</td><td style = \"text-align: right;\">5.39318e5</td><td style = \"text-align: right;\">1.08573e6</td><td style = \"text-align: right;\">2.3795e5</td><td style = \"text-align: right;\">7.48687e5</td><td style = \"text-align: right;\">1.24713e6</td><td style = \"text-align: right;\">1.16056e6</td><td style = \"text-align: right;\">2.33723e6</td><td style = \"text-align: right;\">1.02125e6</td><td style = \"text-align: right;\">5.01623e5</td><td style = \"text-align: right;\">8.53685e5</td><td style = \"text-align: right;\">5.75013e5</td><td style = \"text-align: right;\">1.29312e6</td><td style = \"text-align: right;\">5.19488e5</td><td style = \"text-align: right;\">1.11039e6</td><td style = \"text-align: right;\">5.83797e5</td><td style = \"text-align: right;\">1.04456e6</td><td style = \"text-align: right;\">1.93028e6</td><td style = \"text-align: right;\">1.90461e6</td><td style = \"text-align: right;\">8.6067e5</td><td style = \"text-align: right;\">6.64081e6</td><td style = \"text-align: right;\">2.67044e6</td><td style = \"text-align: right;\">9.39385e5</td><td style = \"text-align: right;\">1.05446e6</td><td style = \"text-align: right;\">1.48197e6</td><td style = \"text-align: right;\">1.62355e6</td><td style = \"text-align: right;\">89914.1</td><td style = \"text-align: right;\">1.09925e6</td><td style = \"text-align: right;\">9.09107e5</td><td style = \"text-align: right;\">1.6843e6</td><td style = \"text-align: right;\">8.68922e5</td><td style = \"text-align: right;\">798356.0</td><td style = \"text-align: right;\">1.12179e6</td><td style = \"text-align: right;\">2.6497e6</td><td style = \"text-align: right;\">1.40648e6</td><td style = \"text-align: right;\">1.35607e6</td><td style = \"text-align: right;\">1.37585e6</td><td style = \"text-align: right;\">1.59363e6</td><td style = \"text-align: right;\">309484.0</td><td style = \"text-align: right;\">1.25055e6</td><td style = \"text-align: right;\">2.00369e6</td><td style = \"text-align: right;\">7.14214e5</td><td style = \"text-align: right;\">1.01338e6</td><td style = \"text-align: right;\">&ctdot;</td></tr><tr><td class = \"rowNumber\" style = \"font-weight: bold; text-align: right;\">3</td><td style = \"text-align: left;\">(2 or 3)-decenoate (10:1n7 or n8)</td><td style = \"text-align: right;\">7.35271e5</td><td style = \"text-align: right;\">5.73408e5</td><td style = \"text-align: right;\">4.78221e5</td><td style = \"text-align: right;\">8.31653e5</td><td style = \"text-align: right;\">4.24957e5</td><td style = \"text-align: right;\">366849.0</td><td style = \"text-align: right;\">7.72576e5</td><td style = \"text-align: right;\">6.7111e5</td><td style = \"text-align: right;\">8.42351e5</td><td style = \"text-align: right;\">4.92891e5</td><td style = \"text-align: right;\">9.97662e5</td><td style = \"text-align: right;\">4.12606e5</td><td style = \"text-align: right;\">2.29687e5</td><td style = \"text-align: right;\">8.4986e5</td><td style = \"text-align: right;\">3.96484e5</td><td style = \"text-align: right;\">5.13706e5</td><td style = \"text-align: right;\">8.66661e5</td><td style = \"text-align: right;\">3.12482e5</td><td style = \"text-align: right;\">5.7137e5</td><td style = \"text-align: right;\">6.15049e5</td><td style = \"text-align: right;\">734072.0</td><td style = \"text-align: right;\">5.5502e5</td><td style = \"text-align: right;\">3.34507e5</td><td style = \"text-align: right;\">3.2851e5</td><td style = \"text-align: right;\">6.01541e5</td><td style = \"text-align: right;\">6.71678e5</td><td style = \"text-align: right;\">6.11565e5</td><td style = \"text-align: right;\">8.68623e5</td><td style = \"text-align: right;\">4.0395e5</td><td style = \"text-align: right;\">2.51689e5</td><td style = \"text-align: right;\">4.88289e5</td><td style = \"text-align: right;\">4.23079e5</td><td style = \"text-align: right;\">1.03049e6</td><td style = \"text-align: right;\">3.2979e5</td><td style = \"text-align: right;\">2.39451e5</td><td style = \"text-align: right;\">5.30935e5</td><td style = \"text-align: right;\">5.62734e5</td><td style = \"text-align: right;\">4.09415e5</td><td style = \"text-align: right;\">3.15612e5</td><td style = \"text-align: right;\">8.43952e5</td><td style = \"text-align: right;\">7.10676e5</td><td style = \"text-align: right;\">1.69526e5</td><td style = \"text-align: right;\">3.31077e5</td><td style = \"text-align: right;\">2.71452e5</td><td style = \"text-align: right;\">7.71898e5</td><td style = \"text-align: right;\">8.25801e5</td><td style = \"text-align: right;\">2.63974e5</td><td style = \"text-align: right;\">1.79869e5</td><td style = \"text-align: right;\">2.39368e5</td><td style = \"text-align: right;\">5.65668e5</td><td style = \"text-align: right;\">2.05317e5</td><td style = \"text-align: right;\">1.43174e6</td><td style = \"text-align: right;\">5.9363e5</td><td style = \"text-align: right;\">361520.0</td><td style = \"text-align: right;\">9.19626e5</td><td style = \"text-align: right;\">2.83271e5</td><td style = \"text-align: right;\">9.46983e5</td><td style = \"text-align: right;\">3.66039e5</td><td style = \"text-align: right;\">4.46434e5</td><td style = \"font-style: italic; text-align: right;\">missing</td><td style = \"text-align: right;\">5.43478e5</td><td style = \"text-align: right;\">3.61116e5</td><td style = \"text-align: right;\">4.67747e5</td><td style = \"text-align: right;\">1.55763e6</td><td style = \"text-align: right;\">6.99915e5</td><td style = \"text-align: right;\">1.79142e5</td><td style = \"text-align: right;\">3.34744e5</td><td style = \"text-align: right;\">379072.0</td><td style = \"text-align: right;\">5.95196e5</td><td style = \"text-align: right;\">3.63304e5</td><td style = \"text-align: right;\">7.31671e5</td><td style = \"text-align: right;\">2.27602e5</td><td style = \"text-align: right;\">4.45869e5</td><td style = \"text-align: right;\">6.38185e5</td><td style = \"text-align: right;\">1.3198e6</td><td style = \"text-align: right;\">3.2763e5</td><td style = \"text-align: right;\">8.25472e5</td><td style = \"text-align: right;\">8.70799e5</td><td style = \"text-align: right;\">4.44775e5</td><td style = \"text-align: right;\">1.044e6</td><td style = \"text-align: right;\">562608.0</td><td style = \"text-align: right;\">1.07431e6</td><td style = \"text-align: right;\">1.40447e6</td><td style = \"text-align: right;\">2.79291e5</td><td style = \"text-align: right;\">1.02552e6</td><td style = \"text-align: right;\">7.25448e5</td><td style = \"text-align: right;\">1.13518e6</td><td style = \"text-align: right;\">1.17362e6</td><td style = \"text-align: right;\">4.00665e5</td><td style = \"text-align: right;\">1.01016e6</td><td style = \"text-align: right;\">4.72403e5</td><td style = \"text-align: right;\">7.22747e5</td><td style = \"text-align: right;\">8.86712e5</td><td style = \"text-align: right;\">1.25525e6</td><td style = \"text-align: right;\">92918.1</td><td style = \"text-align: right;\">375869.0</td><td style = \"text-align: right;\">5.0202e5</td><td style = \"text-align: right;\">238873.0</td><td style = \"text-align: right;\">3.99688e5</td><td style = \"text-align: right;\">&ctdot;</td></tr></tbody></table></div>"
      ],
      "text/latex": [
       "\\begin{tabular}{r|ccccc}\n",
       "\t& metabolite\\_name & NJHC-01750 & NJHC-01642 & NJHC-01498 & \\\\\n",
       "\t\\hline\n",
       "\t& String & Float64? & Float64? & Float64? & \\\\\n",
       "\t\\hline\n",
       "\t1 & (14 or 15)-methylpalmitate (a17:0 or i17:0) & 2.04967e7 & 1.14421e7 & 1.13891e7 & $\\dots$ \\\\\n",
       "\t2 & (16 or 17)-methylstearate (a19:0 or i19:0) & 1.13911e6 & 8.90218e5 & 8.87839e5 & $\\dots$ \\\\\n",
       "\t3 & (2 or 3)-decenoate (10:1n7 or n8) & 7.35271e5 & 5.73408e5 & 4.78221e5 & $\\dots$ \\\\\n",
       "\\end{tabular}\n"
      ],
      "text/plain": [
       "\u001b[1m3×650 DataFrame\u001b[0m\n",
       "\u001b[1m Row \u001b[0m│\u001b[1m metabolite_name                   \u001b[0m\u001b[1m NJHC-01750 \u001b[0m\u001b[1m NJHC-01642 \u001b[0m\u001b[1m NJHC-01498 \u001b[0m\u001b[1m \u001b[0m ⋯\n",
       "     │\u001b[90m String                            \u001b[0m\u001b[90m Float64?   \u001b[0m\u001b[90m Float64?   \u001b[0m\u001b[90m Float64?   \u001b[0m\u001b[90m \u001b[0m ⋯\n",
       "─────┼──────────────────────────────────────────────────────────────────────────\n",
       "   1 │ (14 or 15)-methylpalmitate (a17:…   2.04967e7   1.14421e7   1.13891e7   ⋯\n",
       "   2 │ (16 or 17)-methylstearate (a19:0…   1.13911e6   8.90218e5   8.87839e5\n",
       "   3 │ (2 or 3)-decenoate (10:1n7 or n8)   7.35271e5   5.73408e5   4.78221e5\n",
       "\u001b[36m                                                             646 columns omitted\u001b[0m"
      ]
     },
     "execution_count": 8,
     "metadata": {},
     "output_type": "execute_result"
    }
   ],
   "source": [
    "fileNegMetabo = realpath(joinpath(@__DIR__,\"..\",\"..\",\"data\",\"raw\",\"SPIROMICS\",\"neg.txt\"))\n",
    "prepend(fileNegMetabo, \"metabolite_name\t\")\n",
    "fileNegMetabo = realpath(joinpath(@__DIR__,\"..\",\"..\",\"data\",\"raw\",\"SPIROMICS\",\"new_neg.txt\"))\n",
    "dfNegMetabo = CSV.read(fileNegMetabo, DataFrame;  delim = '\t', missingstring = \"NA\");\n",
    "rm(fileNegMetabo);\n",
    "first(dfNegMetabo, 3)"
   ]
  },
  {
   "cell_type": "markdown",
   "id": "2d10404b",
   "metadata": {},
   "source": [
    "#### Polar"
   ]
  },
  {
   "cell_type": "code",
   "execution_count": 9,
   "id": "5e9c32fb",
   "metadata": {},
   "outputs": [
    {
     "data": {
      "text/html": [
       "<div><div style = \"float: left;\"><span>3×650 DataFrame</span></div><div style = \"float: right;\"><span style = \"font-style: italic;\">550 columns omitted</span></div><div style = \"clear: both;\"></div></div><div class = \"data-frame\" style = \"overflow-x: scroll;\"><table class = \"data-frame\" style = \"margin-bottom: 6px;\"><thead><tr class = \"header\"><th class = \"rowNumber\" style = \"font-weight: bold; text-align: right;\">Row</th><th style = \"text-align: left;\">metabolite_name</th><th style = \"text-align: left;\">NJHC-01750</th><th style = \"text-align: left;\">NJHC-01642</th><th style = \"text-align: left;\">NJHC-01498</th><th style = \"text-align: left;\">NJHC-01614</th><th style = \"text-align: left;\">NJHC-01591</th><th style = \"text-align: left;\">NJHC-01819</th><th style = \"text-align: left;\">NJHC-01503</th><th style = \"text-align: left;\">NJHC-01474</th><th style = \"text-align: left;\">NJHC-02018</th><th style = \"text-align: left;\">NJHC-01638</th><th style = \"text-align: left;\">NJHC-01980</th><th style = \"text-align: left;\">NJHC-01558</th><th style = \"text-align: left;\">NJHC-01689</th><th style = \"text-align: left;\">NJHC-01660</th><th style = \"text-align: left;\">NJHC-01419</th><th style = \"text-align: left;\">NJHC-02027</th><th style = \"text-align: left;\">NJHC-01877</th><th style = \"text-align: left;\">NJHC-01956</th><th style = \"text-align: left;\">NJHC-01683</th><th style = \"text-align: left;\">NJHC-01847</th><th style = \"text-align: left;\">NJHC-01499</th><th style = \"text-align: left;\">NJHC-01835</th><th style = \"text-align: left;\">NJHC-01624</th><th style = \"text-align: left;\">NJHC-01788</th><th style = \"text-align: left;\">NJHC-02034</th><th style = \"text-align: left;\">NJHC-01954</th><th style = \"text-align: left;\">NJHC-01987</th><th style = \"text-align: left;\">NJHC-01488</th><th style = \"text-align: left;\">NJHC-01981</th><th style = \"text-align: left;\">NJHC-01961</th><th style = \"text-align: left;\">NJHC-01862</th><th style = \"text-align: left;\">NJHC-01525</th><th style = \"text-align: left;\">NJHC-01572</th><th style = \"text-align: left;\">NJHC-01695</th><th style = \"text-align: left;\">NJHC-01526</th><th style = \"text-align: left;\">NJHC-01595</th><th style = \"text-align: left;\">NJHC-01783</th><th style = \"text-align: left;\">NJHC-01500</th><th style = \"text-align: left;\">NJHC-01449</th><th style = \"text-align: left;\">NJHC-01436</th><th style = \"text-align: left;\">NJHC-01554</th><th style = \"text-align: left;\">NJHC-01626</th><th style = \"text-align: left;\">NJHC-02037</th><th style = \"text-align: left;\">NJHC-01601</th><th style = \"text-align: left;\">NJHC-01963</th><th style = \"text-align: left;\">NJHC-01468</th><th style = \"text-align: left;\">NJHC-01957</th><th style = \"text-align: left;\">NJHC-01496</th><th style = \"text-align: left;\">NJHC-01780</th><th style = \"text-align: left;\">NJHC-01475</th><th style = \"text-align: left;\">NJHC-01742</th><th style = \"text-align: left;\">NJHC-02045</th><th style = \"text-align: left;\">NJHC-01824</th><th style = \"text-align: left;\">NJHC-01476</th><th style = \"text-align: left;\">NJHC-01922</th><th style = \"text-align: left;\">NJHC-01596</th><th style = \"text-align: left;\">NJHC-01477</th><th style = \"text-align: left;\">NJHC-01721</th><th style = \"text-align: left;\">NJHC-01825</th><th style = \"text-align: left;\">NJHC-01511</th><th style = \"text-align: left;\">NJHC-01615</th><th style = \"text-align: left;\">NJHC-02041</th><th style = \"text-align: left;\">NJHC-01900</th><th style = \"text-align: left;\">NJHC-01429</th><th style = \"text-align: left;\">NJHC-01481</th><th style = \"text-align: left;\">NJHC-01727</th><th style = \"text-align: left;\">NJHC-02019</th><th style = \"text-align: left;\">NJHC-01712</th><th style = \"text-align: left;\">NJHC-01982</th><th style = \"text-align: left;\">NJHC-01714</th><th style = \"text-align: left;\">NJHC-01734</th><th style = \"text-align: left;\">NJHC-01866</th><th style = \"text-align: left;\">NJHC-01690</th><th style = \"text-align: left;\">NJHC-01655</th><th style = \"text-align: left;\">NJHC-01650</th><th style = \"text-align: left;\">NJHC-01602</th><th style = \"text-align: left;\">NJHC-02010</th><th style = \"text-align: left;\">NJHC-01751</th><th style = \"text-align: left;\">NJHC-01644</th><th style = \"text-align: left;\">NJHC-01809</th><th style = \"text-align: left;\">NJHC-01691</th><th style = \"text-align: left;\">NJHC-01992</th><th style = \"text-align: left;\">NJHC-01867</th><th style = \"text-align: left;\">NJHC-01842</th><th style = \"text-align: left;\">NJHC-01793</th><th style = \"text-align: left;\">NJHC-01917</th><th style = \"text-align: left;\">NJHC-01918</th><th style = \"text-align: left;\">NJHC-01518</th><th style = \"text-align: left;\">NJHC-01702</th><th style = \"text-align: left;\">NJHC-01735</th><th style = \"text-align: left;\">NJHC-01814</th><th style = \"text-align: left;\">NJHC-01587</th><th style = \"text-align: left;\">NJHC-01858</th><th style = \"text-align: left;\">NJHC-01713</th><th style = \"text-align: left;\">NJHC-01848</th><th style = \"text-align: left;\">NJHC-01708</th><th style = \"text-align: left;\">NJHC-01546</th><th style = \"text-align: left;\">NJHC-01684</th><th style = \"text-align: left;\">NJHC-01863</th><th style = \"text-align: right;\">&ctdot;</th></tr><tr class = \"subheader headerLastRow\"><th class = \"rowNumber\" style = \"font-weight: bold; text-align: right;\"></th><th title = \"String\" style = \"text-align: left;\">String</th><th title = \"Union{Missing, Float64}\" style = \"text-align: left;\">Float64?</th><th title = \"Union{Missing, Float64}\" style = \"text-align: left;\">Float64?</th><th title = \"Union{Missing, Float64}\" style = \"text-align: left;\">Float64?</th><th title = \"Union{Missing, Float64}\" style = \"text-align: left;\">Float64?</th><th title = \"Union{Missing, Float64}\" style = \"text-align: left;\">Float64?</th><th title = \"Union{Missing, Float64}\" style = \"text-align: left;\">Float64?</th><th title = \"Union{Missing, Float64}\" style = \"text-align: left;\">Float64?</th><th title = \"Union{Missing, Float64}\" style = \"text-align: left;\">Float64?</th><th title = \"Union{Missing, Float64}\" style = \"text-align: left;\">Float64?</th><th title = \"Union{Missing, Float64}\" style = \"text-align: left;\">Float64?</th><th title = \"Union{Missing, Float64}\" style = \"text-align: left;\">Float64?</th><th title = \"Union{Missing, Float64}\" style = \"text-align: left;\">Float64?</th><th title = \"Union{Missing, Float64}\" style = \"text-align: left;\">Float64?</th><th title = \"Union{Missing, Float64}\" style = \"text-align: left;\">Float64?</th><th title = \"Union{Missing, Float64}\" style = \"text-align: left;\">Float64?</th><th title = \"Union{Missing, Float64}\" style = \"text-align: left;\">Float64?</th><th title = \"Union{Missing, Float64}\" style = \"text-align: left;\">Float64?</th><th title = \"Union{Missing, Float64}\" style = \"text-align: left;\">Float64?</th><th title = \"Union{Missing, Float64}\" style = \"text-align: left;\">Float64?</th><th title = \"Union{Missing, Float64}\" style = \"text-align: left;\">Float64?</th><th title = \"Union{Missing, Float64}\" style = \"text-align: left;\">Float64?</th><th title = \"Union{Missing, Float64}\" style = \"text-align: left;\">Float64?</th><th title = \"Union{Missing, Float64}\" style = \"text-align: left;\">Float64?</th><th title = \"Union{Missing, Float64}\" style = \"text-align: left;\">Float64?</th><th title = \"Union{Missing, Float64}\" style = \"text-align: left;\">Float64?</th><th title = \"Union{Missing, Float64}\" style = \"text-align: left;\">Float64?</th><th title = \"Union{Missing, Float64}\" style = \"text-align: left;\">Float64?</th><th title = \"Union{Missing, Float64}\" style = \"text-align: left;\">Float64?</th><th title = \"Union{Missing, Float64}\" style = \"text-align: left;\">Float64?</th><th title = \"Union{Missing, Float64}\" style = \"text-align: left;\">Float64?</th><th title = \"Union{Missing, Float64}\" style = \"text-align: left;\">Float64?</th><th title = \"Union{Missing, Float64}\" style = \"text-align: left;\">Float64?</th><th title = \"Union{Missing, Float64}\" style = \"text-align: left;\">Float64?</th><th title = \"Union{Missing, Float64}\" style = \"text-align: left;\">Float64?</th><th title = \"Union{Missing, Float64}\" style = \"text-align: left;\">Float64?</th><th title = \"Union{Missing, Float64}\" style = \"text-align: left;\">Float64?</th><th title = \"Union{Missing, Float64}\" style = \"text-align: left;\">Float64?</th><th title = \"Union{Missing, Float64}\" style = \"text-align: left;\">Float64?</th><th title = \"Union{Missing, Float64}\" style = \"text-align: left;\">Float64?</th><th title = \"Union{Missing, Float64}\" style = \"text-align: left;\">Float64?</th><th title = \"Union{Missing, Float64}\" style = \"text-align: left;\">Float64?</th><th title = \"Union{Missing, Float64}\" style = \"text-align: left;\">Float64?</th><th title = \"Union{Missing, Float64}\" style = \"text-align: left;\">Float64?</th><th title = \"Union{Missing, Float64}\" style = \"text-align: left;\">Float64?</th><th title = \"Union{Missing, Float64}\" style = \"text-align: left;\">Float64?</th><th title = \"Union{Missing, Float64}\" style = \"text-align: left;\">Float64?</th><th title = \"Union{Missing, Float64}\" style = \"text-align: left;\">Float64?</th><th title = \"Union{Missing, Float64}\" style = \"text-align: left;\">Float64?</th><th title = \"Union{Missing, Float64}\" style = \"text-align: left;\">Float64?</th><th title = \"Union{Missing, Float64}\" style = \"text-align: left;\">Float64?</th><th title = \"Union{Missing, Float64}\" style = \"text-align: left;\">Float64?</th><th title = \"Union{Missing, Float64}\" style = \"text-align: left;\">Float64?</th><th title = \"Union{Missing, Float64}\" style = \"text-align: left;\">Float64?</th><th title = \"Union{Missing, Float64}\" style = \"text-align: left;\">Float64?</th><th title = \"Union{Missing, Float64}\" style = \"text-align: left;\">Float64?</th><th title = \"Union{Missing, Float64}\" style = \"text-align: left;\">Float64?</th><th title = \"Union{Missing, Float64}\" style = \"text-align: left;\">Float64?</th><th title = \"Union{Missing, Float64}\" style = \"text-align: left;\">Float64?</th><th title = \"Union{Missing, Float64}\" style = \"text-align: left;\">Float64?</th><th title = \"Union{Missing, Float64}\" style = \"text-align: left;\">Float64?</th><th title = \"Union{Missing, Float64}\" style = \"text-align: left;\">Float64?</th><th title = \"Union{Missing, Float64}\" style = \"text-align: left;\">Float64?</th><th title = \"Union{Missing, Float64}\" style = \"text-align: left;\">Float64?</th><th title = \"Union{Missing, Float64}\" style = \"text-align: left;\">Float64?</th><th title = \"Union{Missing, Float64}\" style = \"text-align: left;\">Float64?</th><th title = \"Union{Missing, Float64}\" style = \"text-align: left;\">Float64?</th><th title = \"Union{Missing, Float64}\" style = \"text-align: left;\">Float64?</th><th title = \"Union{Missing, Float64}\" style = \"text-align: left;\">Float64?</th><th title = \"Union{Missing, Float64}\" style = \"text-align: left;\">Float64?</th><th title = \"Union{Missing, Float64}\" style = \"text-align: left;\">Float64?</th><th title = \"Union{Missing, Float64}\" style = \"text-align: left;\">Float64?</th><th title = \"Union{Missing, Float64}\" style = \"text-align: left;\">Float64?</th><th title = \"Union{Missing, Float64}\" style = \"text-align: left;\">Float64?</th><th title = \"Union{Missing, Float64}\" style = \"text-align: left;\">Float64?</th><th title = \"Union{Missing, Float64}\" style = \"text-align: left;\">Float64?</th><th title = \"Union{Missing, Float64}\" style = \"text-align: left;\">Float64?</th><th title = \"Union{Missing, Float64}\" style = \"text-align: left;\">Float64?</th><th title = \"Union{Missing, Float64}\" style = \"text-align: left;\">Float64?</th><th title = \"Union{Missing, Float64}\" style = \"text-align: left;\">Float64?</th><th title = \"Union{Missing, Float64}\" style = \"text-align: left;\">Float64?</th><th title = \"Union{Missing, Float64}\" style = \"text-align: left;\">Float64?</th><th title = \"Union{Missing, Float64}\" style = \"text-align: left;\">Float64?</th><th title = \"Union{Missing, Float64}\" style = \"text-align: left;\">Float64?</th><th title = \"Union{Missing, Float64}\" style = \"text-align: left;\">Float64?</th><th title = \"Union{Missing, Float64}\" style = \"text-align: left;\">Float64?</th><th title = \"Union{Missing, Float64}\" style = \"text-align: left;\">Float64?</th><th title = \"Union{Missing, Float64}\" style = \"text-align: left;\">Float64?</th><th title = \"Union{Missing, Float64}\" style = \"text-align: left;\">Float64?</th><th title = \"Union{Missing, Float64}\" style = \"text-align: left;\">Float64?</th><th title = \"Union{Missing, Float64}\" style = \"text-align: left;\">Float64?</th><th title = \"Union{Missing, Float64}\" style = \"text-align: left;\">Float64?</th><th title = \"Union{Missing, Float64}\" style = \"text-align: left;\">Float64?</th><th title = \"Union{Missing, Float64}\" style = \"text-align: left;\">Float64?</th><th title = \"Union{Missing, Float64}\" style = \"text-align: left;\">Float64?</th><th title = \"Union{Missing, Float64}\" style = \"text-align: left;\">Float64?</th><th title = \"Union{Missing, Float64}\" style = \"text-align: left;\">Float64?</th><th title = \"Union{Missing, Float64}\" style = \"text-align: left;\">Float64?</th><th title = \"Union{Missing, Float64}\" style = \"text-align: left;\">Float64?</th><th title = \"Union{Missing, Float64}\" style = \"text-align: left;\">Float64?</th><th title = \"Union{Missing, Float64}\" style = \"text-align: right;\">&ctdot;</th></tr></thead><tbody><tr><td class = \"rowNumber\" style = \"font-weight: bold; text-align: right;\">1</td><td style = \"text-align: left;\">1,6-anhydroglucose</td><td style = \"font-style: italic; text-align: right;\">missing</td><td style = \"text-align: right;\">9.29474e5</td><td style = \"text-align: right;\">2.06381e5</td><td style = \"text-align: right;\">3.35506e5</td><td style = \"text-align: right;\">4.29031e5</td><td style = \"text-align: right;\">2.57645e5</td><td style = \"font-style: italic; text-align: right;\">missing</td><td style = \"text-align: right;\">8.27625e5</td><td style = \"text-align: right;\">562816.0</td><td style = \"text-align: right;\">4.59934e5</td><td style = \"text-align: right;\">9.7461e5</td><td style = \"text-align: right;\">3.33062e5</td><td style = \"text-align: right;\">6.97769e6</td><td style = \"text-align: right;\">2.15727e5</td><td style = \"text-align: right;\">6.17225e5</td><td style = \"text-align: right;\">3.98595e5</td><td style = \"text-align: right;\">5.91158e5</td><td style = \"text-align: right;\">1.15237e5</td><td style = \"text-align: right;\">1.07949e5</td><td style = \"text-align: right;\">2.4747e6</td><td style = \"text-align: right;\">1.38512e6</td><td style = \"text-align: right;\">4.07972e5</td><td style = \"text-align: right;\">1.89541e6</td><td style = \"text-align: right;\">3.45335e5</td><td style = \"text-align: right;\">4.39639e5</td><td style = \"text-align: right;\">3.38128e5</td><td style = \"text-align: right;\">225458.0</td><td style = \"text-align: right;\">1.01216e6</td><td style = \"text-align: right;\">2.58777e5</td><td style = \"text-align: right;\">703230.0</td><td style = \"text-align: right;\">1.67271e6</td><td style = \"text-align: right;\">2.93784e5</td><td style = \"text-align: right;\">6.26738e5</td><td style = \"text-align: right;\">5.94113e5</td><td style = \"text-align: right;\">3.71473e6</td><td style = \"text-align: right;\">4.62359e5</td><td style = \"text-align: right;\">4.18209e5</td><td style = \"text-align: right;\">91992.1</td><td style = \"text-align: right;\">8.98713e5</td><td style = \"text-align: right;\">3.552e5</td><td style = \"text-align: right;\">3.9023e6</td><td style = \"text-align: right;\">4.55479e6</td><td style = \"text-align: right;\">9.89711e5</td><td style = \"font-style: italic; text-align: right;\">missing</td><td style = \"text-align: right;\">1.749e5</td><td style = \"text-align: right;\">1.28825e5</td><td style = \"text-align: right;\">8.93151e5</td><td style = \"font-style: italic; text-align: right;\">missing</td><td style = \"text-align: right;\">9.78708e5</td><td style = \"text-align: right;\">8.33946e5</td><td style = \"text-align: right;\">2.37247e6</td><td style = \"text-align: right;\">2.45723e5</td><td style = \"text-align: right;\">2.1841e6</td><td style = \"text-align: right;\">3.96077e5</td><td style = \"text-align: right;\">5.58487e5</td><td style = \"text-align: right;\">7.22791e5</td><td style = \"text-align: right;\">1.38926e5</td><td style = \"text-align: right;\">3.20968e5</td><td style = \"text-align: right;\">1.6518e6</td><td style = \"text-align: right;\">6.03797e6</td><td style = \"font-style: italic; text-align: right;\">missing</td><td style = \"text-align: right;\">2.44667e6</td><td style = \"text-align: right;\">8.71531e5</td><td style = \"text-align: right;\">2.76587e5</td><td style = \"font-style: italic; text-align: right;\">missing</td><td style = \"font-style: italic; text-align: right;\">missing</td><td style = \"text-align: right;\">2.92488e5</td><td style = \"text-align: right;\">8.91329e5</td><td style = \"text-align: right;\">1.76244e6</td><td style = \"text-align: right;\">5.24718e5</td><td style = \"text-align: right;\">1.40339e5</td><td style = \"text-align: right;\">4.36642e5</td><td style = \"text-align: right;\">3.42341e5</td><td style = \"text-align: right;\">2.47597e5</td><td style = \"text-align: right;\">2.74116e5</td><td style = \"text-align: right;\">1.19939e5</td><td style = \"text-align: right;\">1.75291e5</td><td style = \"text-align: right;\">5.19755e5</td><td style = \"text-align: right;\">3.26051e5</td><td style = \"text-align: right;\">2.04354e5</td><td style = \"text-align: right;\">2.14616e6</td><td style = \"text-align: right;\">7.04057e5</td><td style = \"text-align: right;\">1.5887e8</td><td style = \"text-align: right;\">1.08557e6</td><td style = \"text-align: right;\">5.45389e5</td><td style = \"font-style: italic; text-align: right;\">missing</td><td style = \"text-align: right;\">1.13757e6</td><td style = \"text-align: right;\">5.93073e5</td><td style = \"text-align: right;\">5.75359e5</td><td style = \"text-align: right;\">3.07595e5</td><td style = \"text-align: right;\">3.16316e5</td><td style = \"font-style: italic; text-align: right;\">missing</td><td style = \"text-align: right;\">4.78068e5</td><td style = \"text-align: right;\">2.11117e5</td><td style = \"text-align: right;\">2.65191e6</td><td style = \"text-align: right;\">1.56563e5</td><td style = \"text-align: right;\">6.11326e5</td><td style = \"text-align: right;\">1.96252e5</td><td style = \"text-align: right;\">6.49898e5</td><td style = \"text-align: right;\">&ctdot;</td></tr><tr><td class = \"rowNumber\" style = \"font-weight: bold; text-align: right;\">2</td><td style = \"text-align: left;\">2,3-dihydroxyisovalerate</td><td style = \"text-align: right;\">2.54964e5</td><td style = \"text-align: right;\">2.25658e5</td><td style = \"text-align: right;\">3.16226e5</td><td style = \"text-align: right;\">4.9566e5</td><td style = \"text-align: right;\">1.25176e5</td><td style = \"text-align: right;\">1.16234e5</td><td style = \"text-align: right;\">1.25729e5</td><td style = \"text-align: right;\">3.58954e5</td><td style = \"text-align: right;\">2.18205e5</td><td style = \"text-align: right;\">5.27613e6</td><td style = \"text-align: right;\">2.93558e5</td><td style = \"text-align: right;\">3.67141e5</td><td style = \"text-align: right;\">1.98116e5</td><td style = \"text-align: right;\">1.61752e5</td><td style = \"text-align: right;\">87329.0</td><td style = \"text-align: right;\">4.25065e5</td><td style = \"text-align: right;\">1.75222e5</td><td style = \"text-align: right;\">8.33208e5</td><td style = \"text-align: right;\">630459.0</td><td style = \"text-align: right;\">2.28936e5</td><td style = \"text-align: right;\">2.34653e5</td><td style = \"font-style: italic; text-align: right;\">missing</td><td style = \"font-style: italic; text-align: right;\">missing</td><td style = \"text-align: right;\">1.01476e5</td><td style = \"text-align: right;\">1.62089e5</td><td style = \"text-align: right;\">2.10798e5</td><td style = \"text-align: right;\">1.06451e6</td><td style = \"text-align: right;\">1.12709e5</td><td style = \"text-align: right;\">4.80242e5</td><td style = \"text-align: right;\">2.3184e5</td><td style = \"text-align: right;\">1.41269e6</td><td style = \"text-align: right;\">2.9957e6</td><td style = \"text-align: right;\">1.13289e5</td><td style = \"text-align: right;\">367571.0</td><td style = \"font-style: italic; text-align: right;\">missing</td><td style = \"text-align: right;\">51873.5</td><td style = \"text-align: right;\">1.90045e6</td><td style = \"text-align: right;\">2.31866e5</td><td style = \"text-align: right;\">2.80902e5</td><td style = \"text-align: right;\">3.21315e6</td><td style = \"text-align: right;\">1.75141e6</td><td style = \"text-align: right;\">3.3388e5</td><td style = \"text-align: right;\">9.05364e5</td><td style = \"text-align: right;\">1.99062e5</td><td style = \"text-align: right;\">6.81961e6</td><td style = \"text-align: right;\">2.76428e6</td><td style = \"text-align: right;\">236918.0</td><td style = \"text-align: right;\">1.36172e6</td><td style = \"text-align: right;\">8.74725e5</td><td style = \"text-align: right;\">3.02785e5</td><td style = \"text-align: right;\">1.31277e6</td><td style = \"text-align: right;\">2.37911e5</td><td style = \"font-style: italic; text-align: right;\">missing</td><td style = \"text-align: right;\">54414.8</td><td style = \"text-align: right;\">3.45843e5</td><td style = \"text-align: right;\">1.14306e5</td><td style = \"text-align: right;\">2.3153e5</td><td style = \"text-align: right;\">3.21021e5</td><td style = \"text-align: right;\">4.3315e5</td><td style = \"text-align: right;\">3.83082e5</td><td style = \"text-align: right;\">4.80588e5</td><td style = \"text-align: right;\">3.64311e5</td><td style = \"text-align: right;\">2.97309e5</td><td style = \"text-align: right;\">1.00711e6</td><td style = \"text-align: right;\">43357.3</td><td style = \"text-align: right;\">1.37622e5</td><td style = \"text-align: right;\">2.10496e5</td><td style = \"text-align: right;\">6.32033e6</td><td style = \"text-align: right;\">2.71839e5</td><td style = \"text-align: right;\">4.4184e5</td><td style = \"text-align: right;\">1.38677e6</td><td style = \"text-align: right;\">142827.0</td><td style = \"font-style: italic; text-align: right;\">missing</td><td style = \"text-align: right;\">85247.2</td><td style = \"text-align: right;\">71135.2</td><td style = \"font-style: italic; text-align: right;\">missing</td><td style = \"font-style: italic; text-align: right;\">missing</td><td style = \"text-align: right;\">9.00506e6</td><td style = \"font-style: italic; text-align: right;\">missing</td><td style = \"font-style: italic; text-align: right;\">missing</td><td style = \"text-align: right;\">4.91385e6</td><td style = \"text-align: right;\">77368.4</td><td style = \"text-align: right;\">7.91784e7</td><td style = \"text-align: right;\">1.16198e6</td><td style = \"text-align: right;\">4.21665e5</td><td style = \"font-style: italic; text-align: right;\">missing</td><td style = \"text-align: right;\">1.15252e5</td><td style = \"text-align: right;\">70244.1</td><td style = \"text-align: right;\">1.11018e6</td><td style = \"text-align: right;\">3.29128e6</td><td style = \"text-align: right;\">1.28105e5</td><td style = \"text-align: right;\">132578.0</td><td style = \"font-style: italic; text-align: right;\">missing</td><td style = \"text-align: right;\">2.00994e6</td><td style = \"text-align: right;\">5.40189e6</td><td style = \"text-align: right;\">57753.0</td><td style = \"text-align: right;\">3.54066e5</td><td style = \"text-align: right;\">7.42361e5</td><td style = \"text-align: right;\">4.85621e6</td><td style = \"text-align: right;\">&ctdot;</td></tr><tr><td class = \"rowNumber\" style = \"font-weight: bold; text-align: right;\">3</td><td style = \"text-align: left;\">2,4,6-trihydroxybenzoate</td><td style = \"font-style: italic; text-align: right;\">missing</td><td style = \"font-style: italic; text-align: right;\">missing</td><td style = \"font-style: italic; text-align: right;\">missing</td><td style = \"font-style: italic; text-align: right;\">missing</td><td style = \"font-style: italic; text-align: right;\">missing</td><td style = \"font-style: italic; text-align: right;\">missing</td><td style = \"font-style: italic; text-align: right;\">missing</td><td style = \"font-style: italic; text-align: right;\">missing</td><td style = \"font-style: italic; text-align: right;\">missing</td><td style = \"font-style: italic; text-align: right;\">missing</td><td style = \"font-style: italic; text-align: right;\">missing</td><td style = \"font-style: italic; text-align: right;\">missing</td><td style = \"font-style: italic; text-align: right;\">missing</td><td style = \"font-style: italic; text-align: right;\">missing</td><td style = \"font-style: italic; text-align: right;\">missing</td><td style = \"font-style: italic; text-align: right;\">missing</td><td style = \"font-style: italic; text-align: right;\">missing</td><td style = \"font-style: italic; text-align: right;\">missing</td><td style = \"font-style: italic; text-align: right;\">missing</td><td style = \"font-style: italic; text-align: right;\">missing</td><td style = \"font-style: italic; text-align: right;\">missing</td><td style = \"font-style: italic; text-align: right;\">missing</td><td style = \"font-style: italic; text-align: right;\">missing</td><td style = \"font-style: italic; text-align: right;\">missing</td><td style = \"font-style: italic; text-align: right;\">missing</td><td style = \"font-style: italic; text-align: right;\">missing</td><td style = \"font-style: italic; text-align: right;\">missing</td><td style = \"font-style: italic; text-align: right;\">missing</td><td style = \"font-style: italic; text-align: right;\">missing</td><td style = \"font-style: italic; text-align: right;\">missing</td><td style = \"font-style: italic; text-align: right;\">missing</td><td style = \"font-style: italic; text-align: right;\">missing</td><td style = \"font-style: italic; text-align: right;\">missing</td><td style = \"font-style: italic; text-align: right;\">missing</td><td style = \"font-style: italic; text-align: right;\">missing</td><td style = \"font-style: italic; text-align: right;\">missing</td><td style = \"font-style: italic; text-align: right;\">missing</td><td style = \"font-style: italic; text-align: right;\">missing</td><td style = \"font-style: italic; text-align: right;\">missing</td><td style = \"font-style: italic; text-align: right;\">missing</td><td style = \"font-style: italic; text-align: right;\">missing</td><td style = \"font-style: italic; text-align: right;\">missing</td><td style = \"font-style: italic; text-align: right;\">missing</td><td style = \"font-style: italic; text-align: right;\">missing</td><td style = \"font-style: italic; text-align: right;\">missing</td><td style = \"font-style: italic; text-align: right;\">missing</td><td style = \"font-style: italic; text-align: right;\">missing</td><td style = \"font-style: italic; text-align: right;\">missing</td><td style = \"font-style: italic; text-align: right;\">missing</td><td style = \"font-style: italic; text-align: right;\">missing</td><td style = \"font-style: italic; text-align: right;\">missing</td><td style = \"font-style: italic; text-align: right;\">missing</td><td style = \"font-style: italic; text-align: right;\">missing</td><td style = \"font-style: italic; text-align: right;\">missing</td><td style = \"font-style: italic; text-align: right;\">missing</td><td style = \"font-style: italic; text-align: right;\">missing</td><td style = \"font-style: italic; text-align: right;\">missing</td><td style = \"font-style: italic; text-align: right;\">missing</td><td style = \"font-style: italic; text-align: right;\">missing</td><td style = \"font-style: italic; text-align: right;\">missing</td><td style = \"font-style: italic; text-align: right;\">missing</td><td style = \"font-style: italic; text-align: right;\">missing</td><td style = \"font-style: italic; text-align: right;\">missing</td><td style = \"font-style: italic; text-align: right;\">missing</td><td style = \"font-style: italic; text-align: right;\">missing</td><td style = \"font-style: italic; text-align: right;\">missing</td><td style = \"font-style: italic; text-align: right;\">missing</td><td style = \"font-style: italic; text-align: right;\">missing</td><td style = \"font-style: italic; text-align: right;\">missing</td><td style = \"font-style: italic; text-align: right;\">missing</td><td style = \"font-style: italic; text-align: right;\">missing</td><td style = \"font-style: italic; text-align: right;\">missing</td><td style = \"font-style: italic; text-align: right;\">missing</td><td style = \"font-style: italic; text-align: right;\">missing</td><td style = \"font-style: italic; text-align: right;\">missing</td><td style = \"font-style: italic; text-align: right;\">missing</td><td style = \"font-style: italic; text-align: right;\">missing</td><td style = \"font-style: italic; text-align: right;\">missing</td><td style = \"font-style: italic; text-align: right;\">missing</td><td style = \"font-style: italic; text-align: right;\">missing</td><td style = \"font-style: italic; text-align: right;\">missing</td><td style = \"font-style: italic; text-align: right;\">missing</td><td style = \"text-align: right;\">3.81272e6</td><td style = \"font-style: italic; text-align: right;\">missing</td><td style = \"font-style: italic; text-align: right;\">missing</td><td style = \"font-style: italic; text-align: right;\">missing</td><td style = \"font-style: italic; text-align: right;\">missing</td><td style = \"font-style: italic; text-align: right;\">missing</td><td style = \"font-style: italic; text-align: right;\">missing</td><td style = \"font-style: italic; text-align: right;\">missing</td><td style = \"font-style: italic; text-align: right;\">missing</td><td style = \"font-style: italic; text-align: right;\">missing</td><td style = \"font-style: italic; text-align: right;\">missing</td><td style = \"font-style: italic; text-align: right;\">missing</td><td style = \"font-style: italic; text-align: right;\">missing</td><td style = \"font-style: italic; text-align: right;\">missing</td><td style = \"font-style: italic; text-align: right;\">missing</td><td style = \"font-style: italic; text-align: right;\">missing</td><td style = \"font-style: italic; text-align: right;\">missing</td><td style = \"text-align: right;\">&ctdot;</td></tr></tbody></table></div>"
      ],
      "text/latex": [
       "\\begin{tabular}{r|ccccccc}\n",
       "\t& metabolite\\_name & NJHC-01750 & NJHC-01642 & NJHC-01498 & NJHC-01614 & NJHC-01591 & \\\\\n",
       "\t\\hline\n",
       "\t& String & Float64? & Float64? & Float64? & Float64? & Float64? & \\\\\n",
       "\t\\hline\n",
       "\t1 & 1,6-anhydroglucose & \\emph{missing} & 9.29474e5 & 2.06381e5 & 3.35506e5 & 4.29031e5 & $\\dots$ \\\\\n",
       "\t2 & 2,3-dihydroxyisovalerate & 2.54964e5 & 2.25658e5 & 3.16226e5 & 4.9566e5 & 1.25176e5 & $\\dots$ \\\\\n",
       "\t3 & 2,4,6-trihydroxybenzoate & \\emph{missing} & \\emph{missing} & \\emph{missing} & \\emph{missing} & \\emph{missing} & $\\dots$ \\\\\n",
       "\\end{tabular}\n"
      ],
      "text/plain": [
       "\u001b[1m3×650 DataFrame\u001b[0m\n",
       "\u001b[1m Row \u001b[0m│\u001b[1m metabolite_name          \u001b[0m\u001b[1m NJHC-01750      \u001b[0m\u001b[1m NJHC-01642      \u001b[0m\u001b[1m NJHC-01498 \u001b[0m ⋯\n",
       "     │\u001b[90m String                   \u001b[0m\u001b[90m Float64?        \u001b[0m\u001b[90m Float64?        \u001b[0m\u001b[90m Float64?   \u001b[0m ⋯\n",
       "─────┼──────────────────────────────────────────────────────────────────────────\n",
       "   1 │ 1,6-anhydroglucose       \u001b[90m missing         \u001b[0m       9.29474e5        2.063 ⋯\n",
       "   2 │ 2,3-dihydroxyisovalerate        2.54964e5        2.25658e5        3.162\n",
       "   3 │ 2,4,6-trihydroxybenzoate \u001b[90m missing         \u001b[0m\u001b[90m missing         \u001b[0m\u001b[90m missing    \u001b[0m\n",
       "\u001b[36m                                                             647 columns omitted\u001b[0m"
      ]
     },
     "execution_count": 9,
     "metadata": {},
     "output_type": "execute_result"
    }
   ],
   "source": [
    "filePolarMetabo = realpath(joinpath(@__DIR__,\"..\",\"..\",\"data\",\"raw\",\"SPIROMICS\",\"polar.txt\"))\n",
    "prepend(filePolarMetabo, \"metabolite_name\t\")\n",
    "filePolarMetabo = realpath(joinpath(@__DIR__,\"..\",\"..\",\"data\",\"raw\",\"SPIROMICS\",\"new_polar.txt\"))\n",
    "dfPolarMetabo = CSV.read(filePolarMetabo, DataFrame;  delim = '\t', missingstring = \"NA\");\n",
    "rm(filePolarMetabo);\n",
    "first(dfPolarMetabo, 3)"
   ]
  },
  {
   "cell_type": "markdown",
   "id": "eecf8903",
   "metadata": {},
   "source": [
    "#### Positive early"
   ]
  },
  {
   "cell_type": "code",
   "execution_count": 10,
   "id": "77d6c4cc",
   "metadata": {
    "tags": []
   },
   "outputs": [
    {
     "data": {
      "text/html": [
       "<div><div style = \"float: left;\"><span>3×650 DataFrame</span></div><div style = \"float: right;\"><span style = \"font-style: italic;\">550 columns omitted</span></div><div style = \"clear: both;\"></div></div><div class = \"data-frame\" style = \"overflow-x: scroll;\"><table class = \"data-frame\" style = \"margin-bottom: 6px;\"><thead><tr class = \"header\"><th class = \"rowNumber\" style = \"font-weight: bold; text-align: right;\">Row</th><th style = \"text-align: left;\">metabolite_name</th><th style = \"text-align: left;\">NJHC-01750</th><th style = \"text-align: left;\">NJHC-01642</th><th style = \"text-align: left;\">NJHC-01498</th><th style = \"text-align: left;\">NJHC-01614</th><th style = \"text-align: left;\">NJHC-01591</th><th style = \"text-align: left;\">NJHC-01819</th><th style = \"text-align: left;\">NJHC-01503</th><th style = \"text-align: left;\">NJHC-01474</th><th style = \"text-align: left;\">NJHC-02018</th><th style = \"text-align: left;\">NJHC-01638</th><th style = \"text-align: left;\">NJHC-01980</th><th style = \"text-align: left;\">NJHC-01558</th><th style = \"text-align: left;\">NJHC-01689</th><th style = \"text-align: left;\">NJHC-01660</th><th style = \"text-align: left;\">NJHC-01419</th><th style = \"text-align: left;\">NJHC-02027</th><th style = \"text-align: left;\">NJHC-01877</th><th style = \"text-align: left;\">NJHC-01956</th><th style = \"text-align: left;\">NJHC-01683</th><th style = \"text-align: left;\">NJHC-01847</th><th style = \"text-align: left;\">NJHC-01499</th><th style = \"text-align: left;\">NJHC-01835</th><th style = \"text-align: left;\">NJHC-01624</th><th style = \"text-align: left;\">NJHC-01788</th><th style = \"text-align: left;\">NJHC-02034</th><th style = \"text-align: left;\">NJHC-01954</th><th style = \"text-align: left;\">NJHC-01987</th><th style = \"text-align: left;\">NJHC-01488</th><th style = \"text-align: left;\">NJHC-01981</th><th style = \"text-align: left;\">NJHC-01961</th><th style = \"text-align: left;\">NJHC-01862</th><th style = \"text-align: left;\">NJHC-01525</th><th style = \"text-align: left;\">NJHC-01572</th><th style = \"text-align: left;\">NJHC-01695</th><th style = \"text-align: left;\">NJHC-01526</th><th style = \"text-align: left;\">NJHC-01595</th><th style = \"text-align: left;\">NJHC-01783</th><th style = \"text-align: left;\">NJHC-01500</th><th style = \"text-align: left;\">NJHC-01449</th><th style = \"text-align: left;\">NJHC-01436</th><th style = \"text-align: left;\">NJHC-01554</th><th style = \"text-align: left;\">NJHC-01626</th><th style = \"text-align: left;\">NJHC-02037</th><th style = \"text-align: left;\">NJHC-01601</th><th style = \"text-align: left;\">NJHC-01963</th><th style = \"text-align: left;\">NJHC-01468</th><th style = \"text-align: left;\">NJHC-01957</th><th style = \"text-align: left;\">NJHC-01496</th><th style = \"text-align: left;\">NJHC-01780</th><th style = \"text-align: left;\">NJHC-01475</th><th style = \"text-align: left;\">NJHC-01742</th><th style = \"text-align: left;\">NJHC-02045</th><th style = \"text-align: left;\">NJHC-01824</th><th style = \"text-align: left;\">NJHC-01476</th><th style = \"text-align: left;\">NJHC-01922</th><th style = \"text-align: left;\">NJHC-01596</th><th style = \"text-align: left;\">NJHC-01477</th><th style = \"text-align: left;\">NJHC-01721</th><th style = \"text-align: left;\">NJHC-01825</th><th style = \"text-align: left;\">NJHC-01511</th><th style = \"text-align: left;\">NJHC-01615</th><th style = \"text-align: left;\">NJHC-02041</th><th style = \"text-align: left;\">NJHC-01900</th><th style = \"text-align: left;\">NJHC-01429</th><th style = \"text-align: left;\">NJHC-01481</th><th style = \"text-align: left;\">NJHC-01727</th><th style = \"text-align: left;\">NJHC-02019</th><th style = \"text-align: left;\">NJHC-01712</th><th style = \"text-align: left;\">NJHC-01982</th><th style = \"text-align: left;\">NJHC-01714</th><th style = \"text-align: left;\">NJHC-01734</th><th style = \"text-align: left;\">NJHC-01866</th><th style = \"text-align: left;\">NJHC-01690</th><th style = \"text-align: left;\">NJHC-01655</th><th style = \"text-align: left;\">NJHC-01650</th><th style = \"text-align: left;\">NJHC-01602</th><th style = \"text-align: left;\">NJHC-02010</th><th style = \"text-align: left;\">NJHC-01751</th><th style = \"text-align: left;\">NJHC-01644</th><th style = \"text-align: left;\">NJHC-01809</th><th style = \"text-align: left;\">NJHC-01691</th><th style = \"text-align: left;\">NJHC-01992</th><th style = \"text-align: left;\">NJHC-01867</th><th style = \"text-align: left;\">NJHC-01842</th><th style = \"text-align: left;\">NJHC-01793</th><th style = \"text-align: left;\">NJHC-01917</th><th style = \"text-align: left;\">NJHC-01918</th><th style = \"text-align: left;\">NJHC-01518</th><th style = \"text-align: left;\">NJHC-01702</th><th style = \"text-align: left;\">NJHC-01735</th><th style = \"text-align: left;\">NJHC-01814</th><th style = \"text-align: left;\">NJHC-01587</th><th style = \"text-align: left;\">NJHC-01858</th><th style = \"text-align: left;\">NJHC-01713</th><th style = \"text-align: left;\">NJHC-01848</th><th style = \"text-align: left;\">NJHC-01708</th><th style = \"text-align: left;\">NJHC-01546</th><th style = \"text-align: left;\">NJHC-01684</th><th style = \"text-align: left;\">NJHC-01863</th><th style = \"text-align: right;\">&ctdot;</th></tr><tr class = \"subheader headerLastRow\"><th class = \"rowNumber\" style = \"font-weight: bold; text-align: right;\"></th><th title = \"String\" style = \"text-align: left;\">String</th><th title = \"Union{Missing, Float64}\" style = \"text-align: left;\">Float64?</th><th title = \"Union{Missing, Float64}\" style = \"text-align: left;\">Float64?</th><th title = \"Union{Missing, Float64}\" style = \"text-align: left;\">Float64?</th><th title = \"Union{Missing, Float64}\" style = \"text-align: left;\">Float64?</th><th title = \"Union{Missing, Float64}\" style = \"text-align: left;\">Float64?</th><th title = \"Union{Missing, Float64}\" style = \"text-align: left;\">Float64?</th><th title = \"Union{Missing, Float64}\" style = \"text-align: left;\">Float64?</th><th title = \"Union{Missing, Float64}\" style = \"text-align: left;\">Float64?</th><th title = \"Union{Missing, Float64}\" style = \"text-align: left;\">Float64?</th><th title = \"Union{Missing, Float64}\" style = \"text-align: left;\">Float64?</th><th title = \"Union{Missing, Float64}\" style = \"text-align: left;\">Float64?</th><th title = \"Union{Missing, Float64}\" style = \"text-align: left;\">Float64?</th><th title = \"Union{Missing, Float64}\" style = \"text-align: left;\">Float64?</th><th title = \"Union{Missing, Float64}\" style = \"text-align: left;\">Float64?</th><th title = \"Union{Missing, Float64}\" style = \"text-align: left;\">Float64?</th><th title = \"Union{Missing, Float64}\" style = \"text-align: left;\">Float64?</th><th title = \"Union{Missing, Float64}\" style = \"text-align: left;\">Float64?</th><th title = \"Union{Missing, Float64}\" style = \"text-align: left;\">Float64?</th><th title = \"Union{Missing, Float64}\" style = \"text-align: left;\">Float64?</th><th title = \"Union{Missing, Float64}\" style = \"text-align: left;\">Float64?</th><th title = \"Union{Missing, Float64}\" style = \"text-align: left;\">Float64?</th><th title = \"Union{Missing, Float64}\" style = \"text-align: left;\">Float64?</th><th title = \"Union{Missing, Float64}\" style = \"text-align: left;\">Float64?</th><th title = \"Union{Missing, Float64}\" style = \"text-align: left;\">Float64?</th><th title = \"Union{Missing, Float64}\" style = \"text-align: left;\">Float64?</th><th title = \"Union{Missing, Float64}\" style = \"text-align: left;\">Float64?</th><th title = \"Union{Missing, Float64}\" style = \"text-align: left;\">Float64?</th><th title = \"Union{Missing, Float64}\" style = \"text-align: left;\">Float64?</th><th title = \"Union{Missing, Float64}\" style = \"text-align: left;\">Float64?</th><th title = \"Union{Missing, Float64}\" style = \"text-align: left;\">Float64?</th><th title = \"Union{Missing, Float64}\" style = \"text-align: left;\">Float64?</th><th title = \"Union{Missing, Float64}\" style = \"text-align: left;\">Float64?</th><th title = \"Union{Missing, Float64}\" style = \"text-align: left;\">Float64?</th><th title = \"Union{Missing, Float64}\" style = \"text-align: left;\">Float64?</th><th title = \"Union{Missing, Float64}\" style = \"text-align: left;\">Float64?</th><th title = \"Union{Missing, Float64}\" style = \"text-align: left;\">Float64?</th><th title = \"Union{Missing, Float64}\" style = \"text-align: left;\">Float64?</th><th title = \"Union{Missing, Float64}\" style = \"text-align: left;\">Float64?</th><th title = \"Union{Missing, Float64}\" style = \"text-align: left;\">Float64?</th><th title = \"Union{Missing, Float64}\" style = \"text-align: left;\">Float64?</th><th title = \"Union{Missing, Float64}\" style = \"text-align: left;\">Float64?</th><th title = \"Union{Missing, Float64}\" style = \"text-align: left;\">Float64?</th><th title = \"Union{Missing, Float64}\" style = \"text-align: left;\">Float64?</th><th title = \"Union{Missing, Float64}\" style = \"text-align: left;\">Float64?</th><th title = \"Union{Missing, Float64}\" style = \"text-align: left;\">Float64?</th><th title = \"Union{Missing, Float64}\" style = \"text-align: left;\">Float64?</th><th title = \"Union{Missing, Float64}\" style = \"text-align: left;\">Float64?</th><th title = \"Union{Missing, Float64}\" style = \"text-align: left;\">Float64?</th><th title = \"Union{Missing, Float64}\" style = \"text-align: left;\">Float64?</th><th title = \"Union{Missing, Float64}\" style = \"text-align: left;\">Float64?</th><th title = \"Union{Missing, Float64}\" style = \"text-align: left;\">Float64?</th><th title = \"Union{Missing, Float64}\" style = \"text-align: left;\">Float64?</th><th title = \"Union{Missing, Float64}\" style = \"text-align: left;\">Float64?</th><th title = \"Union{Missing, Float64}\" style = \"text-align: left;\">Float64?</th><th title = \"Union{Missing, Float64}\" style = \"text-align: left;\">Float64?</th><th title = \"Union{Missing, Float64}\" style = \"text-align: left;\">Float64?</th><th title = \"Union{Missing, Float64}\" style = \"text-align: left;\">Float64?</th><th title = \"Union{Missing, Float64}\" style = \"text-align: left;\">Float64?</th><th title = \"Union{Missing, Float64}\" style = \"text-align: left;\">Float64?</th><th title = \"Union{Missing, Float64}\" style = \"text-align: left;\">Float64?</th><th title = \"Union{Missing, Float64}\" style = \"text-align: left;\">Float64?</th><th title = \"Union{Missing, Float64}\" style = \"text-align: left;\">Float64?</th><th title = \"Union{Missing, Float64}\" style = \"text-align: left;\">Float64?</th><th title = \"Union{Missing, Float64}\" style = \"text-align: left;\">Float64?</th><th title = \"Union{Missing, Float64}\" style = \"text-align: left;\">Float64?</th><th title = \"Union{Missing, Float64}\" style = \"text-align: left;\">Float64?</th><th title = \"Union{Missing, Float64}\" style = \"text-align: left;\">Float64?</th><th title = \"Union{Missing, Float64}\" style = \"text-align: left;\">Float64?</th><th title = \"Union{Missing, Float64}\" style = \"text-align: left;\">Float64?</th><th title = \"Union{Missing, Float64}\" style = \"text-align: left;\">Float64?</th><th title = \"Union{Missing, Float64}\" style = \"text-align: left;\">Float64?</th><th title = \"Union{Missing, Float64}\" style = \"text-align: left;\">Float64?</th><th title = \"Union{Missing, Float64}\" style = \"text-align: left;\">Float64?</th><th title = \"Union{Missing, Float64}\" style = \"text-align: left;\">Float64?</th><th title = \"Union{Missing, Float64}\" style = \"text-align: left;\">Float64?</th><th title = \"Union{Missing, Float64}\" style = \"text-align: left;\">Float64?</th><th title = \"Union{Missing, Float64}\" style = \"text-align: left;\">Float64?</th><th title = \"Union{Missing, Float64}\" style = \"text-align: left;\">Float64?</th><th title = \"Union{Missing, Float64}\" style = \"text-align: left;\">Float64?</th><th title = \"Union{Missing, Float64}\" style = \"text-align: left;\">Float64?</th><th title = \"Union{Missing, Float64}\" style = \"text-align: left;\">Float64?</th><th title = \"Union{Missing, Float64}\" style = \"text-align: left;\">Float64?</th><th title = \"Union{Missing, Float64}\" style = \"text-align: left;\">Float64?</th><th title = \"Union{Missing, Float64}\" style = \"text-align: left;\">Float64?</th><th title = \"Union{Missing, Float64}\" style = \"text-align: left;\">Float64?</th><th title = \"Union{Missing, Float64}\" style = \"text-align: left;\">Float64?</th><th title = \"Union{Missing, Float64}\" style = \"text-align: left;\">Float64?</th><th title = \"Union{Missing, Float64}\" style = \"text-align: left;\">Float64?</th><th title = \"Union{Missing, Float64}\" style = \"text-align: left;\">Float64?</th><th title = \"Union{Missing, Float64}\" style = \"text-align: left;\">Float64?</th><th title = \"Union{Missing, Float64}\" style = \"text-align: left;\">Float64?</th><th title = \"Union{Missing, Float64}\" style = \"text-align: left;\">Float64?</th><th title = \"Union{Missing, Float64}\" style = \"text-align: left;\">Float64?</th><th title = \"Union{Missing, Float64}\" style = \"text-align: left;\">Float64?</th><th title = \"Union{Missing, Float64}\" style = \"text-align: left;\">Float64?</th><th title = \"Union{Missing, Float64}\" style = \"text-align: left;\">Float64?</th><th title = \"Union{Missing, Float64}\" style = \"text-align: left;\">Float64?</th><th title = \"Union{Missing, Float64}\" style = \"text-align: left;\">Float64?</th><th title = \"Union{Missing, Float64}\" style = \"text-align: left;\">Float64?</th><th title = \"Union{Missing, Float64}\" style = \"text-align: right;\">&ctdot;</th></tr></thead><tbody><tr><td class = \"rowNumber\" style = \"font-weight: bold; text-align: right;\">1</td><td style = \"text-align: left;\">(2-butoxyethoxy)acetic acid</td><td style = \"font-style: italic; text-align: right;\">missing</td><td style = \"font-style: italic; text-align: right;\">missing</td><td style = \"font-style: italic; text-align: right;\">missing</td><td style = \"font-style: italic; text-align: right;\">missing</td><td style = \"font-style: italic; text-align: right;\">missing</td><td style = \"font-style: italic; text-align: right;\">missing</td><td style = \"text-align: right;\">9.49767e5</td><td style = \"font-style: italic; text-align: right;\">missing</td><td style = \"text-align: right;\">1.16312e6</td><td style = \"font-style: italic; text-align: right;\">missing</td><td style = \"text-align: right;\">1.1836e6</td><td style = \"font-style: italic; text-align: right;\">missing</td><td style = \"font-style: italic; text-align: right;\">missing</td><td style = \"font-style: italic; text-align: right;\">missing</td><td style = \"text-align: right;\">72623.5</td><td style = \"font-style: italic; text-align: right;\">missing</td><td style = \"font-style: italic; text-align: right;\">missing</td><td style = \"font-style: italic; text-align: right;\">missing</td><td style = \"font-style: italic; text-align: right;\">missing</td><td style = \"font-style: italic; text-align: right;\">missing</td><td style = \"font-style: italic; text-align: right;\">missing</td><td style = \"font-style: italic; text-align: right;\">missing</td><td style = \"font-style: italic; text-align: right;\">missing</td><td style = \"font-style: italic; text-align: right;\">missing</td><td style = \"font-style: italic; text-align: right;\">missing</td><td style = \"text-align: right;\">1.16846e6</td><td style = \"text-align: right;\">2.55219e5</td><td style = \"font-style: italic; text-align: right;\">missing</td><td style = \"text-align: right;\">4.39724e6</td><td style = \"font-style: italic; text-align: right;\">missing</td><td style = \"font-style: italic; text-align: right;\">missing</td><td style = \"font-style: italic; text-align: right;\">missing</td><td style = \"font-style: italic; text-align: right;\">missing</td><td style = \"font-style: italic; text-align: right;\">missing</td><td style = \"font-style: italic; text-align: right;\">missing</td><td style = \"font-style: italic; text-align: right;\">missing</td><td style = \"font-style: italic; text-align: right;\">missing</td><td style = \"font-style: italic; text-align: right;\">missing</td><td style = \"font-style: italic; text-align: right;\">missing</td><td style = \"font-style: italic; text-align: right;\">missing</td><td style = \"font-style: italic; text-align: right;\">missing</td><td style = \"font-style: italic; text-align: right;\">missing</td><td style = \"font-style: italic; text-align: right;\">missing</td><td style = \"font-style: italic; text-align: right;\">missing</td><td style = \"font-style: italic; text-align: right;\">missing</td><td style = \"font-style: italic; text-align: right;\">missing</td><td style = \"font-style: italic; text-align: right;\">missing</td><td style = \"font-style: italic; text-align: right;\">missing</td><td style = \"font-style: italic; text-align: right;\">missing</td><td style = \"text-align: right;\">1.15575e6</td><td style = \"font-style: italic; text-align: right;\">missing</td><td style = \"font-style: italic; text-align: right;\">missing</td><td style = \"text-align: right;\">1.6912e5</td><td style = \"text-align: right;\">1.05078e5</td><td style = \"font-style: italic; text-align: right;\">missing</td><td style = \"text-align: right;\">3.0053e5</td><td style = \"font-style: italic; text-align: right;\">missing</td><td style = \"text-align: right;\">3.82737e5</td><td style = \"font-style: italic; text-align: right;\">missing</td><td style = \"font-style: italic; text-align: right;\">missing</td><td style = \"font-style: italic; text-align: right;\">missing</td><td style = \"font-style: italic; text-align: right;\">missing</td><td style = \"font-style: italic; text-align: right;\">missing</td><td style = \"font-style: italic; text-align: right;\">missing</td><td style = \"font-style: italic; text-align: right;\">missing</td><td style = \"font-style: italic; text-align: right;\">missing</td><td style = \"font-style: italic; text-align: right;\">missing</td><td style = \"font-style: italic; text-align: right;\">missing</td><td style = \"font-style: italic; text-align: right;\">missing</td><td style = \"font-style: italic; text-align: right;\">missing</td><td style = \"font-style: italic; text-align: right;\">missing</td><td style = \"font-style: italic; text-align: right;\">missing</td><td style = \"text-align: right;\">5.89784e5</td><td style = \"font-style: italic; text-align: right;\">missing</td><td style = \"font-style: italic; text-align: right;\">missing</td><td style = \"font-style: italic; text-align: right;\">missing</td><td style = \"font-style: italic; text-align: right;\">missing</td><td style = \"font-style: italic; text-align: right;\">missing</td><td style = \"font-style: italic; text-align: right;\">missing</td><td style = \"font-style: italic; text-align: right;\">missing</td><td style = \"text-align: right;\">914859.0</td><td style = \"font-style: italic; text-align: right;\">missing</td><td style = \"text-align: right;\">1.87053e6</td><td style = \"font-style: italic; text-align: right;\">missing</td><td style = \"font-style: italic; text-align: right;\">missing</td><td style = \"font-style: italic; text-align: right;\">missing</td><td style = \"font-style: italic; text-align: right;\">missing</td><td style = \"font-style: italic; text-align: right;\">missing</td><td style = \"font-style: italic; text-align: right;\">missing</td><td style = \"font-style: italic; text-align: right;\">missing</td><td style = \"font-style: italic; text-align: right;\">missing</td><td style = \"font-style: italic; text-align: right;\">missing</td><td style = \"font-style: italic; text-align: right;\">missing</td><td style = \"font-style: italic; text-align: right;\">missing</td><td style = \"font-style: italic; text-align: right;\">missing</td><td style = \"text-align: right;\">4.77088e5</td><td style = \"font-style: italic; text-align: right;\">missing</td><td style = \"font-style: italic; text-align: right;\">missing</td><td style = \"text-align: right;\">2.23564e5</td><td style = \"text-align: right;\">&ctdot;</td></tr><tr><td class = \"rowNumber\" style = \"font-weight: bold; text-align: right;\">2</td><td style = \"text-align: left;\">(R)-3-hydroxybutyrylcarnitine</td><td style = \"text-align: right;\">1.86193e6</td><td style = \"text-align: right;\">3.39531e6</td><td style = \"text-align: right;\">6.48398e5</td><td style = \"text-align: right;\">4.83569e6</td><td style = \"text-align: right;\">8.05834e5</td><td style = \"text-align: right;\">9.12263e6</td><td style = \"text-align: right;\">4.64522e6</td><td style = \"text-align: right;\">2.63045e6</td><td style = \"text-align: right;\">1.29683e6</td><td style = \"text-align: right;\">1.83508e6</td><td style = \"text-align: right;\">1.29373e6</td><td style = \"text-align: right;\">3.57467e6</td><td style = \"text-align: right;\">8.08166e5</td><td style = \"text-align: right;\">6.29753e6</td><td style = \"text-align: right;\">1.56593e6</td><td style = \"text-align: right;\">2.48744e6</td><td style = \"text-align: right;\">3.72404e6</td><td style = \"text-align: right;\">5.19554e6</td><td style = \"text-align: right;\">1.09376e6</td><td style = \"text-align: right;\">3.85654e5</td><td style = \"text-align: right;\">1.3313e6</td><td style = \"text-align: right;\">2.12037e6</td><td style = \"font-style: italic; text-align: right;\">missing</td><td style = \"text-align: right;\">7.20039e5</td><td style = \"text-align: right;\">2.35867e6</td><td style = \"text-align: right;\">6.70331e5</td><td style = \"text-align: right;\">2.04467e6</td><td style = \"text-align: right;\">1.51139e6</td><td style = \"text-align: right;\">1.01274e6</td><td style = \"text-align: right;\">1.13657e6</td><td style = \"text-align: right;\">2.17752e6</td><td style = \"text-align: right;\">1.47757e6</td><td style = \"text-align: right;\">3.05927e6</td><td style = \"text-align: right;\">4.8921e6</td><td style = \"text-align: right;\">8.67714e5</td><td style = \"text-align: right;\">7.18352e5</td><td style = \"text-align: right;\">8.18912e5</td><td style = \"text-align: right;\">3.40021e6</td><td style = \"text-align: right;\">7.03703e5</td><td style = \"text-align: right;\">3.00834e6</td><td style = \"text-align: right;\">1.12634e6</td><td style = \"text-align: right;\">2.79669e6</td><td style = \"text-align: right;\">1.664e6</td><td style = \"text-align: right;\">6.08884e5</td><td style = \"text-align: right;\">3.41361e6</td><td style = \"text-align: right;\">3.00974e6</td><td style = \"text-align: right;\">8.6269e5</td><td style = \"text-align: right;\">2.02432e6</td><td style = \"text-align: right;\">2.43637e6</td><td style = \"text-align: right;\">4.30831e6</td><td style = \"text-align: right;\">2.08189e6</td><td style = \"text-align: right;\">1.21956e6</td><td style = \"text-align: right;\">5.2051e6</td><td style = \"text-align: right;\">3.17288e6</td><td style = \"text-align: right;\">2.69927e6</td><td style = \"font-style: italic; text-align: right;\">missing</td><td style = \"text-align: right;\">2.99313e6</td><td style = \"text-align: right;\">2.86818e6</td><td style = \"font-style: italic; text-align: right;\">missing</td><td style = \"font-style: italic; text-align: right;\">missing</td><td style = \"text-align: right;\">3.75663e6</td><td style = \"text-align: right;\">4.23368e6</td><td style = \"text-align: right;\">3.15263e6</td><td style = \"text-align: right;\">5.99724e6</td><td style = \"text-align: right;\">1.09532e6</td><td style = \"text-align: right;\">6.5606e5</td><td style = \"text-align: right;\">1.16126e6</td><td style = \"text-align: right;\">4.79851e6</td><td style = \"text-align: right;\">1.11678e7</td><td style = \"text-align: right;\">1.43682e6</td><td style = \"text-align: right;\">5.19377e6</td><td style = \"font-style: italic; text-align: right;\">missing</td><td style = \"text-align: right;\">1.54094e6</td><td style = \"text-align: right;\">1.31569e7</td><td style = \"text-align: right;\">1.03087e7</td><td style = \"text-align: right;\">5.06521e6</td><td style = \"text-align: right;\">4.50332e6</td><td style = \"text-align: right;\">2.44661e6</td><td style = \"text-align: right;\">1.61013e6</td><td style = \"text-align: right;\">3.78282e6</td><td style = \"text-align: right;\">1.89369e6</td><td style = \"text-align: right;\">4.44759e6</td><td style = \"text-align: right;\">2.90869e6</td><td style = \"text-align: right;\">1.78602e6</td><td style = \"text-align: right;\">1.86279e6</td><td style = \"text-align: right;\">1.67995e7</td><td style = \"text-align: right;\">2.4507e6</td><td style = \"text-align: right;\">2.6297e6</td><td style = \"text-align: right;\">1.65452e6</td><td style = \"text-align: right;\">5.81066e6</td><td style = \"text-align: right;\">1.04056e6</td><td style = \"text-align: right;\">9.07086e6</td><td style = \"text-align: right;\">1.38013e6</td><td style = \"text-align: right;\">7.1502e6</td><td style = \"font-style: italic; text-align: right;\">missing</td><td style = \"text-align: right;\">1.14082e6</td><td style = \"text-align: right;\">4.38609e6</td><td style = \"text-align: right;\">2.65214e6</td><td style = \"text-align: right;\">3.14531e6</td><td style = \"text-align: right;\">&ctdot;</td></tr><tr><td class = \"rowNumber\" style = \"font-weight: bold; text-align: right;\">3</td><td style = \"text-align: left;\">(S)-3-hydroxybutyrylcarnitine</td><td style = \"text-align: right;\">1.3686e6</td><td style = \"text-align: right;\">2.81463e6</td><td style = \"text-align: right;\">1.22605e6</td><td style = \"text-align: right;\">2.42628e6</td><td style = \"text-align: right;\">5.98297e5</td><td style = \"text-align: right;\">2.16304e6</td><td style = \"text-align: right;\">2.51603e6</td><td style = \"text-align: right;\">1.57787e6</td><td style = \"text-align: right;\">1.96427e6</td><td style = \"text-align: right;\">1.2477e6</td><td style = \"text-align: right;\">7.62779e5</td><td style = \"text-align: right;\">1.5857e6</td><td style = \"text-align: right;\">8.5838e5</td><td style = \"text-align: right;\">5.23189e6</td><td style = \"text-align: right;\">1.48469e6</td><td style = \"text-align: right;\">3.30528e6</td><td style = \"text-align: right;\">1.48918e6</td><td style = \"text-align: right;\">1.25809e6</td><td style = \"text-align: right;\">7.16164e5</td><td style = \"text-align: right;\">4.31805e5</td><td style = \"text-align: right;\">1.05998e6</td><td style = \"text-align: right;\">1.17947e6</td><td style = \"text-align: right;\">8.25478e5</td><td style = \"text-align: right;\">8.17377e5</td><td style = \"text-align: right;\">3.30526e6</td><td style = \"text-align: right;\">1.72322e6</td><td style = \"text-align: right;\">9.02774e5</td><td style = \"text-align: right;\">1.62987e6</td><td style = \"text-align: right;\">1.34356e6</td><td style = \"text-align: right;\">7.47322e5</td><td style = \"text-align: right;\">1.21564e6</td><td style = \"text-align: right;\">1.41414e6</td><td style = \"text-align: right;\">1.35201e6</td><td style = \"text-align: right;\">5.23233e6</td><td style = \"text-align: right;\">8.86263e5</td><td style = \"text-align: right;\">6.08306e5</td><td style = \"text-align: right;\">1.49733e6</td><td style = \"text-align: right;\">3.07491e6</td><td style = \"text-align: right;\">1.05862e6</td><td style = \"text-align: right;\">1.22747e6</td><td style = \"text-align: right;\">2.1314e6</td><td style = \"text-align: right;\">1.57001e6</td><td style = \"text-align: right;\">1.29164e6</td><td style = \"text-align: right;\">6.23262e5</td><td style = \"text-align: right;\">1.54754e6</td><td style = \"text-align: right;\">1.94303e6</td><td style = \"text-align: right;\">5.82541e5</td><td style = \"text-align: right;\">9.96247e5</td><td style = \"text-align: right;\">4.81268e5</td><td style = \"text-align: right;\">2.02852e6</td><td style = \"text-align: right;\">4.00573e6</td><td style = \"text-align: right;\">2.04486e6</td><td style = \"text-align: right;\">5.23238e6</td><td style = \"text-align: right;\">1.16239e6</td><td style = \"text-align: right;\">2.17109e6</td><td style = \"text-align: right;\">1.40892e6</td><td style = \"text-align: right;\">1.54988e6</td><td style = \"text-align: right;\">1.39338e6</td><td style = \"text-align: right;\">7.30786e5</td><td style = \"text-align: right;\">1.48136e6</td><td style = \"text-align: right;\">2.87503e6</td><td style = \"text-align: right;\">1.79362e6</td><td style = \"text-align: right;\">5.18701e6</td><td style = \"text-align: right;\">2.15503e6</td><td style = \"text-align: right;\">2.35065e6</td><td style = \"text-align: right;\">5.96632e5</td><td style = \"text-align: right;\">715214.0</td><td style = \"text-align: right;\">1.26135e6</td><td style = \"text-align: right;\">2.59932e6</td><td style = \"text-align: right;\">1.15037e6</td><td style = \"text-align: right;\">1.05204e6</td><td style = \"text-align: right;\">4.222e5</td><td style = \"text-align: right;\">1.91539e6</td><td style = \"text-align: right;\">8.74849e6</td><td style = \"text-align: right;\">6.63815e6</td><td style = \"text-align: right;\">1.5258e6</td><td style = \"text-align: right;\">1.08465e6</td><td style = \"text-align: right;\">1.51711e6</td><td style = \"text-align: right;\">1.49739e6</td><td style = \"text-align: right;\">1.55697e6</td><td style = \"text-align: right;\">1.5855e6</td><td style = \"text-align: right;\">1.98057e6</td><td style = \"text-align: right;\">1.2169e7</td><td style = \"text-align: right;\">897618.0</td><td style = \"text-align: right;\">8.57009e5</td><td style = \"text-align: right;\">7.7664e6</td><td style = \"text-align: right;\">1.44167e6</td><td style = \"text-align: right;\">6.13472e6</td><td style = \"text-align: right;\">1.06899e6</td><td style = \"text-align: right;\">1.7065e6</td><td style = \"text-align: right;\">9.36622e5</td><td style = \"text-align: right;\">3.01859e6</td><td style = \"text-align: right;\">2.10791e6</td><td style = \"text-align: right;\">2.3241e6</td><td style = \"text-align: right;\">5.79691e5</td><td style = \"text-align: right;\">6.10489e5</td><td style = \"text-align: right;\">3.6607e6</td><td style = \"text-align: right;\">2.54956e6</td><td style = \"text-align: right;\">2.25213e6</td><td style = \"text-align: right;\">&ctdot;</td></tr></tbody></table></div>"
      ],
      "text/latex": [
       "\\begin{tabular}{r|ccccccc}\n",
       "\t& metabolite\\_name & NJHC-01750 & NJHC-01642 & NJHC-01498 & NJHC-01614 & NJHC-01591 & \\\\\n",
       "\t\\hline\n",
       "\t& String & Float64? & Float64? & Float64? & Float64? & Float64? & \\\\\n",
       "\t\\hline\n",
       "\t1 & (2-butoxyethoxy)acetic acid & \\emph{missing} & \\emph{missing} & \\emph{missing} & \\emph{missing} & \\emph{missing} & $\\dots$ \\\\\n",
       "\t2 & (R)-3-hydroxybutyrylcarnitine & 1.86193e6 & 3.39531e6 & 6.48398e5 & 4.83569e6 & 8.05834e5 & $\\dots$ \\\\\n",
       "\t3 & (S)-3-hydroxybutyrylcarnitine & 1.3686e6 & 2.81463e6 & 1.22605e6 & 2.42628e6 & 5.98297e5 & $\\dots$ \\\\\n",
       "\\end{tabular}\n"
      ],
      "text/plain": [
       "\u001b[1m3×650 DataFrame\u001b[0m\n",
       "\u001b[1m Row \u001b[0m│\u001b[1m metabolite_name               \u001b[0m\u001b[1m NJHC-01750      \u001b[0m\u001b[1m NJHC-01642      \u001b[0m\u001b[1m NJHC-0\u001b[0m ⋯\n",
       "     │\u001b[90m String                        \u001b[0m\u001b[90m Float64?        \u001b[0m\u001b[90m Float64?        \u001b[0m\u001b[90m Float6\u001b[0m ⋯\n",
       "─────┼──────────────────────────────────────────────────────────────────────────\n",
       "   1 │ (2-butoxyethoxy)acetic acid   \u001b[90m missing         \u001b[0m\u001b[90m missing         \u001b[0m\u001b[90m missin\u001b[0m ⋯\n",
       "   2 │ (R)-3-hydroxybutyrylcarnitine        1.86193e6        3.39531e6\n",
       "   3 │ (S)-3-hydroxybutyrylcarnitine        1.3686e6         2.81463e6\n",
       "\u001b[36m                                                             647 columns omitted\u001b[0m"
      ]
     },
     "execution_count": 10,
     "metadata": {},
     "output_type": "execute_result"
    }
   ],
   "source": [
    "filePosEarlyMetabo = realpath(joinpath(@__DIR__,\"..\",\"..\",\"data\",\"raw\",\"SPIROMICS\",\"pos_early.txt\"))\n",
    "prepend(filePosEarlyMetabo, \"metabolite_name\t\")\n",
    "filePosEarlyMetabo = realpath(joinpath(@__DIR__,\"..\",\"..\",\"data\",\"raw\",\"SPIROMICS\",\"new_pos_early.txt\"))\n",
    "dfPosEarlyMetabo = CSV.read(filePosEarlyMetabo, DataFrame;  delim = '\t', missingstring = \"NA\");\n",
    "rm(filePosEarlyMetabo)\n",
    "first(dfPosEarlyMetabo, 3)"
   ]
  },
  {
   "cell_type": "markdown",
   "id": "5a4edd58",
   "metadata": {},
   "source": [
    "#### Positive late"
   ]
  },
  {
   "cell_type": "code",
   "execution_count": 11,
   "id": "6c3a607b",
   "metadata": {
    "tags": []
   },
   "outputs": [
    {
     "data": {
      "text/html": [
       "<div><div style = \"float: left;\"><span>3×650 DataFrame</span></div><div style = \"float: right;\"><span style = \"font-style: italic;\">550 columns omitted</span></div><div style = \"clear: both;\"></div></div><div class = \"data-frame\" style = \"overflow-x: scroll;\"><table class = \"data-frame\" style = \"margin-bottom: 6px;\"><thead><tr class = \"header\"><th class = \"rowNumber\" style = \"font-weight: bold; text-align: right;\">Row</th><th style = \"text-align: left;\">metabolite_name</th><th style = \"text-align: left;\">NJHC-01750</th><th style = \"text-align: left;\">NJHC-01642</th><th style = \"text-align: left;\">NJHC-01498</th><th style = \"text-align: left;\">NJHC-01614</th><th style = \"text-align: left;\">NJHC-01591</th><th style = \"text-align: left;\">NJHC-01819</th><th style = \"text-align: left;\">NJHC-01503</th><th style = \"text-align: left;\">NJHC-01474</th><th style = \"text-align: left;\">NJHC-02018</th><th style = \"text-align: left;\">NJHC-01638</th><th style = \"text-align: left;\">NJHC-01980</th><th style = \"text-align: left;\">NJHC-01558</th><th style = \"text-align: left;\">NJHC-01689</th><th style = \"text-align: left;\">NJHC-01660</th><th style = \"text-align: left;\">NJHC-01419</th><th style = \"text-align: left;\">NJHC-02027</th><th style = \"text-align: left;\">NJHC-01877</th><th style = \"text-align: left;\">NJHC-01956</th><th style = \"text-align: left;\">NJHC-01683</th><th style = \"text-align: left;\">NJHC-01847</th><th style = \"text-align: left;\">NJHC-01499</th><th style = \"text-align: left;\">NJHC-01835</th><th style = \"text-align: left;\">NJHC-01624</th><th style = \"text-align: left;\">NJHC-01788</th><th style = \"text-align: left;\">NJHC-02034</th><th style = \"text-align: left;\">NJHC-01954</th><th style = \"text-align: left;\">NJHC-01987</th><th style = \"text-align: left;\">NJHC-01488</th><th style = \"text-align: left;\">NJHC-01981</th><th style = \"text-align: left;\">NJHC-01961</th><th style = \"text-align: left;\">NJHC-01862</th><th style = \"text-align: left;\">NJHC-01525</th><th style = \"text-align: left;\">NJHC-01572</th><th style = \"text-align: left;\">NJHC-01695</th><th style = \"text-align: left;\">NJHC-01526</th><th style = \"text-align: left;\">NJHC-01595</th><th style = \"text-align: left;\">NJHC-01783</th><th style = \"text-align: left;\">NJHC-01500</th><th style = \"text-align: left;\">NJHC-01449</th><th style = \"text-align: left;\">NJHC-01436</th><th style = \"text-align: left;\">NJHC-01554</th><th style = \"text-align: left;\">NJHC-01626</th><th style = \"text-align: left;\">NJHC-02037</th><th style = \"text-align: left;\">NJHC-01601</th><th style = \"text-align: left;\">NJHC-01963</th><th style = \"text-align: left;\">NJHC-01468</th><th style = \"text-align: left;\">NJHC-01957</th><th style = \"text-align: left;\">NJHC-01496</th><th style = \"text-align: left;\">NJHC-01780</th><th style = \"text-align: left;\">NJHC-01475</th><th style = \"text-align: left;\">NJHC-01742</th><th style = \"text-align: left;\">NJHC-02045</th><th style = \"text-align: left;\">NJHC-01824</th><th style = \"text-align: left;\">NJHC-01476</th><th style = \"text-align: left;\">NJHC-01922</th><th style = \"text-align: left;\">NJHC-01596</th><th style = \"text-align: left;\">NJHC-01477</th><th style = \"text-align: left;\">NJHC-01721</th><th style = \"text-align: left;\">NJHC-01825</th><th style = \"text-align: left;\">NJHC-01511</th><th style = \"text-align: left;\">NJHC-01615</th><th style = \"text-align: left;\">NJHC-02041</th><th style = \"text-align: left;\">NJHC-01900</th><th style = \"text-align: left;\">NJHC-01429</th><th style = \"text-align: left;\">NJHC-01481</th><th style = \"text-align: left;\">NJHC-01727</th><th style = \"text-align: left;\">NJHC-02019</th><th style = \"text-align: left;\">NJHC-01712</th><th style = \"text-align: left;\">NJHC-01982</th><th style = \"text-align: left;\">NJHC-01714</th><th style = \"text-align: left;\">NJHC-01734</th><th style = \"text-align: left;\">NJHC-01866</th><th style = \"text-align: left;\">NJHC-01690</th><th style = \"text-align: left;\">NJHC-01655</th><th style = \"text-align: left;\">NJHC-01650</th><th style = \"text-align: left;\">NJHC-01602</th><th style = \"text-align: left;\">NJHC-02010</th><th style = \"text-align: left;\">NJHC-01751</th><th style = \"text-align: left;\">NJHC-01644</th><th style = \"text-align: left;\">NJHC-01809</th><th style = \"text-align: left;\">NJHC-01691</th><th style = \"text-align: left;\">NJHC-01992</th><th style = \"text-align: left;\">NJHC-01867</th><th style = \"text-align: left;\">NJHC-01842</th><th style = \"text-align: left;\">NJHC-01793</th><th style = \"text-align: left;\">NJHC-01917</th><th style = \"text-align: left;\">NJHC-01918</th><th style = \"text-align: left;\">NJHC-01518</th><th style = \"text-align: left;\">NJHC-01702</th><th style = \"text-align: left;\">NJHC-01735</th><th style = \"text-align: left;\">NJHC-01814</th><th style = \"text-align: left;\">NJHC-01587</th><th style = \"text-align: left;\">NJHC-01858</th><th style = \"text-align: left;\">NJHC-01713</th><th style = \"text-align: left;\">NJHC-01848</th><th style = \"text-align: left;\">NJHC-01708</th><th style = \"text-align: left;\">NJHC-01546</th><th style = \"text-align: left;\">NJHC-01684</th><th style = \"text-align: left;\">NJHC-01863</th><th style = \"text-align: right;\">&ctdot;</th></tr><tr class = \"subheader headerLastRow\"><th class = \"rowNumber\" style = \"font-weight: bold; text-align: right;\"></th><th title = \"String\" style = \"text-align: left;\">String</th><th title = \"Union{Missing, Float64}\" style = \"text-align: left;\">Float64?</th><th title = \"Union{Missing, Float64}\" style = \"text-align: left;\">Float64?</th><th title = \"Union{Missing, Float64}\" style = \"text-align: left;\">Float64?</th><th title = \"Union{Missing, Float64}\" style = \"text-align: left;\">Float64?</th><th title = \"Union{Missing, Float64}\" style = \"text-align: left;\">Float64?</th><th title = \"Union{Missing, Float64}\" style = \"text-align: left;\">Float64?</th><th title = \"Union{Missing, Float64}\" style = \"text-align: left;\">Float64?</th><th title = \"Union{Missing, Float64}\" style = \"text-align: left;\">Float64?</th><th title = \"Union{Missing, Float64}\" style = \"text-align: left;\">Float64?</th><th title = \"Union{Missing, Float64}\" style = \"text-align: left;\">Float64?</th><th title = \"Union{Missing, Float64}\" style = \"text-align: left;\">Float64?</th><th title = \"Union{Missing, Float64}\" style = \"text-align: left;\">Float64?</th><th title = \"Union{Missing, Float64}\" style = \"text-align: left;\">Float64?</th><th title = \"Union{Missing, Float64}\" style = \"text-align: left;\">Float64?</th><th title = \"Union{Missing, Float64}\" style = \"text-align: left;\">Float64?</th><th title = \"Union{Missing, Float64}\" style = \"text-align: left;\">Float64?</th><th title = \"Union{Missing, Float64}\" style = \"text-align: left;\">Float64?</th><th title = \"Union{Missing, Float64}\" style = \"text-align: left;\">Float64?</th><th title = \"Union{Missing, Float64}\" style = \"text-align: left;\">Float64?</th><th title = \"Union{Missing, Float64}\" style = \"text-align: left;\">Float64?</th><th title = \"Union{Missing, Float64}\" style = \"text-align: left;\">Float64?</th><th title = \"Union{Missing, Float64}\" style = \"text-align: left;\">Float64?</th><th title = \"Union{Missing, Float64}\" style = \"text-align: left;\">Float64?</th><th title = \"Union{Missing, Float64}\" style = \"text-align: left;\">Float64?</th><th title = \"Union{Missing, Float64}\" style = \"text-align: left;\">Float64?</th><th title = \"Union{Missing, Float64}\" style = \"text-align: left;\">Float64?</th><th title = \"Union{Missing, Float64}\" style = \"text-align: left;\">Float64?</th><th title = \"Union{Missing, Float64}\" style = \"text-align: left;\">Float64?</th><th title = \"Union{Missing, Float64}\" style = \"text-align: left;\">Float64?</th><th title = \"Union{Missing, Float64}\" style = \"text-align: left;\">Float64?</th><th title = \"Union{Missing, Float64}\" style = \"text-align: left;\">Float64?</th><th title = \"Union{Missing, Float64}\" style = \"text-align: left;\">Float64?</th><th title = \"Union{Missing, Float64}\" style = \"text-align: left;\">Float64?</th><th title = \"Union{Missing, Float64}\" style = \"text-align: left;\">Float64?</th><th title = \"Union{Missing, Float64}\" style = \"text-align: left;\">Float64?</th><th title = \"Union{Missing, Float64}\" style = \"text-align: left;\">Float64?</th><th title = \"Union{Missing, Float64}\" style = \"text-align: left;\">Float64?</th><th title = \"Union{Missing, Float64}\" style = \"text-align: left;\">Float64?</th><th title = \"Union{Missing, Float64}\" style = \"text-align: left;\">Float64?</th><th title = \"Union{Missing, Float64}\" style = \"text-align: left;\">Float64?</th><th title = \"Union{Missing, Float64}\" style = \"text-align: left;\">Float64?</th><th title = \"Union{Missing, Float64}\" style = \"text-align: left;\">Float64?</th><th title = \"Union{Missing, Float64}\" style = \"text-align: left;\">Float64?</th><th title = \"Union{Missing, Float64}\" style = \"text-align: left;\">Float64?</th><th title = \"Union{Missing, Float64}\" style = \"text-align: left;\">Float64?</th><th title = \"Union{Missing, Float64}\" style = \"text-align: left;\">Float64?</th><th title = \"Union{Missing, Float64}\" style = \"text-align: left;\">Float64?</th><th title = \"Union{Missing, Float64}\" style = \"text-align: left;\">Float64?</th><th title = \"Union{Missing, Float64}\" style = \"text-align: left;\">Float64?</th><th title = \"Union{Missing, Float64}\" style = \"text-align: left;\">Float64?</th><th title = \"Union{Missing, Float64}\" style = \"text-align: left;\">Float64?</th><th title = \"Union{Missing, Float64}\" style = \"text-align: left;\">Float64?</th><th title = \"Union{Missing, Float64}\" style = \"text-align: left;\">Float64?</th><th title = \"Union{Missing, Float64}\" style = \"text-align: left;\">Float64?</th><th title = \"Union{Missing, Float64}\" style = \"text-align: left;\">Float64?</th><th title = \"Union{Missing, Float64}\" style = \"text-align: left;\">Float64?</th><th title = \"Union{Missing, Float64}\" style = \"text-align: left;\">Float64?</th><th title = \"Union{Missing, Float64}\" style = \"text-align: left;\">Float64?</th><th title = \"Union{Missing, Float64}\" style = \"text-align: left;\">Float64?</th><th title = \"Union{Missing, Float64}\" style = \"text-align: left;\">Float64?</th><th title = \"Union{Missing, Float64}\" style = \"text-align: left;\">Float64?</th><th title = \"Union{Missing, Float64}\" style = \"text-align: left;\">Float64?</th><th title = \"Union{Missing, Float64}\" style = \"text-align: left;\">Float64?</th><th title = \"Union{Missing, Float64}\" style = \"text-align: left;\">Float64?</th><th title = \"Union{Missing, Float64}\" style = \"text-align: left;\">Float64?</th><th title = \"Union{Missing, Float64}\" style = \"text-align: left;\">Float64?</th><th title = \"Union{Missing, Float64}\" style = \"text-align: left;\">Float64?</th><th title = \"Union{Missing, Float64}\" style = \"text-align: left;\">Float64?</th><th title = \"Union{Missing, Float64}\" style = \"text-align: left;\">Float64?</th><th title = \"Union{Missing, Float64}\" style = \"text-align: left;\">Float64?</th><th title = \"Union{Missing, Float64}\" style = \"text-align: left;\">Float64?</th><th title = \"Union{Missing, Float64}\" style = \"text-align: left;\">Float64?</th><th title = \"Union{Missing, Float64}\" style = \"text-align: left;\">Float64?</th><th title = \"Union{Missing, Float64}\" style = \"text-align: left;\">Float64?</th><th title = \"Union{Missing, Float64}\" style = \"text-align: left;\">Float64?</th><th title = \"Union{Missing, Float64}\" style = \"text-align: left;\">Float64?</th><th title = \"Union{Missing, Float64}\" style = \"text-align: left;\">Float64?</th><th title = \"Union{Missing, Float64}\" style = \"text-align: left;\">Float64?</th><th title = \"Union{Missing, Float64}\" style = \"text-align: left;\">Float64?</th><th title = \"Union{Missing, Float64}\" style = \"text-align: left;\">Float64?</th><th title = \"Union{Missing, Float64}\" style = \"text-align: left;\">Float64?</th><th title = \"Union{Missing, Float64}\" style = \"text-align: left;\">Float64?</th><th title = \"Union{Missing, Float64}\" style = \"text-align: left;\">Float64?</th><th title = \"Union{Missing, Float64}\" style = \"text-align: left;\">Float64?</th><th title = \"Union{Missing, Float64}\" style = \"text-align: left;\">Float64?</th><th title = \"Union{Missing, Float64}\" style = \"text-align: left;\">Float64?</th><th title = \"Union{Missing, Float64}\" style = \"text-align: left;\">Float64?</th><th title = \"Union{Missing, Float64}\" style = \"text-align: left;\">Float64?</th><th title = \"Union{Missing, Float64}\" style = \"text-align: left;\">Float64?</th><th title = \"Union{Missing, Float64}\" style = \"text-align: left;\">Float64?</th><th title = \"Union{Missing, Float64}\" style = \"text-align: left;\">Float64?</th><th title = \"Union{Missing, Float64}\" style = \"text-align: left;\">Float64?</th><th title = \"Union{Missing, Float64}\" style = \"text-align: left;\">Float64?</th><th title = \"Union{Missing, Float64}\" style = \"text-align: left;\">Float64?</th><th title = \"Union{Missing, Float64}\" style = \"text-align: left;\">Float64?</th><th title = \"Union{Missing, Float64}\" style = \"text-align: left;\">Float64?</th><th title = \"Union{Missing, Float64}\" style = \"text-align: left;\">Float64?</th><th title = \"Union{Missing, Float64}\" style = \"text-align: left;\">Float64?</th><th title = \"Union{Missing, Float64}\" style = \"text-align: left;\">Float64?</th><th title = \"Union{Missing, Float64}\" style = \"text-align: right;\">&ctdot;</th></tr></thead><tbody><tr><td class = \"rowNumber\" style = \"font-weight: bold; text-align: right;\">1</td><td style = \"text-align: left;\">1,2-dilinoleoyl-GPC (18:2/18:2)</td><td style = \"text-align: right;\">8.35689e7</td><td style = \"text-align: right;\">1.31306e8</td><td style = \"text-align: right;\">1.06189e8</td><td style = \"text-align: right;\">1.13068e8</td><td style = \"text-align: right;\">1.20376e8</td><td style = \"text-align: right;\">3.98275e7</td><td style = \"text-align: right;\">1.66163e8</td><td style = \"text-align: right;\">1.2571e8</td><td style = \"text-align: right;\">8.90618e7</td><td style = \"text-align: right;\">8.74958e7</td><td style = \"text-align: right;\">1.41083e8</td><td style = \"text-align: right;\">6.46712e7</td><td style = \"text-align: right;\">9.02342e7</td><td style = \"text-align: right;\">9.46391e7</td><td style = \"text-align: right;\">8.70244e7</td><td style = \"text-align: right;\">1.54663e8</td><td style = \"text-align: right;\">8.06085e7</td><td style = \"text-align: right;\">5.01139e7</td><td style = \"text-align: right;\">1.08296e8</td><td style = \"text-align: right;\">2.08461e8</td><td style = \"text-align: right;\">1.04895e8</td><td style = \"text-align: right;\">7.06158e7</td><td style = \"text-align: right;\">6.9857e7</td><td style = \"text-align: right;\">5.95349e7</td><td style = \"text-align: right;\">6.62442e7</td><td style = \"text-align: right;\">1.48552e8</td><td style = \"text-align: right;\">1.50581e8</td><td style = \"text-align: right;\">1.73074e8</td><td style = \"text-align: right;\">1.73926e8</td><td style = \"text-align: right;\">1.40051e8</td><td style = \"text-align: right;\">1.30224e8</td><td style = \"text-align: right;\">1.62944e8</td><td style = \"text-align: right;\">1.03421e8</td><td style = \"text-align: right;\">1.33324e8</td><td style = \"text-align: right;\">1.10092e8</td><td style = \"text-align: right;\">1.07996e8</td><td style = \"text-align: right;\">9.47514e7</td><td style = \"text-align: right;\">8.22368e7</td><td style = \"text-align: right;\">7.08013e7</td><td style = \"text-align: right;\">1.26952e8</td><td style = \"text-align: right;\">1.79759e8</td><td style = \"text-align: right;\">1.12226e8</td><td style = \"text-align: right;\">2.1503e8</td><td style = \"text-align: right;\">1.20185e8</td><td style = \"text-align: right;\">9.4417e7</td><td style = \"text-align: right;\">7.45765e7</td><td style = \"text-align: right;\">9.92566e7</td><td style = \"text-align: right;\">7.46135e7</td><td style = \"text-align: right;\">1.07516e8</td><td style = \"text-align: right;\">1.47631e8</td><td style = \"text-align: right;\">5.1442e7</td><td style = \"text-align: right;\">1.30825e8</td><td style = \"text-align: right;\">1.32504e8</td><td style = \"text-align: right;\">1.09794e8</td><td style = \"text-align: right;\">1.47514e8</td><td style = \"text-align: right;\">1.30124e8</td><td style = \"text-align: right;\">1.40696e8</td><td style = \"text-align: right;\">4.07877e7</td><td style = \"text-align: right;\">1.61328e8</td><td style = \"text-align: right;\">2.233e8</td><td style = \"text-align: right;\">1.32877e8</td><td style = \"text-align: right;\">1.2316e8</td><td style = \"text-align: right;\">8.13447e7</td><td style = \"text-align: right;\">1.31285e8</td><td style = \"text-align: right;\">1.10012e8</td><td style = \"text-align: right;\">8.08064e7</td><td style = \"text-align: right;\">1.70297e8</td><td style = \"text-align: right;\">1.65427e8</td><td style = \"text-align: right;\">8.98718e7</td><td style = \"text-align: right;\">8.6346e7</td><td style = \"text-align: right;\">9.9223e7</td><td style = \"text-align: right;\">1.08939e8</td><td style = \"text-align: right;\">1.2504e8</td><td style = \"text-align: right;\">6.90145e7</td><td style = \"text-align: right;\">8.94263e7</td><td style = \"text-align: right;\">8.79441e7</td><td style = \"text-align: right;\">9.91764e7</td><td style = \"text-align: right;\">6.75574e7</td><td style = \"text-align: right;\">1.01397e8</td><td style = \"text-align: right;\">6.8174e7</td><td style = \"text-align: right;\">1.33963e8</td><td style = \"text-align: right;\">1.06085e8</td><td style = \"text-align: right;\">4.25157e5</td><td style = \"text-align: right;\">1.3665e8</td><td style = \"text-align: right;\">1.21375e8</td><td style = \"text-align: right;\">6.00597e7</td><td style = \"text-align: right;\">4.03569e7</td><td style = \"text-align: right;\">8.09244e7</td><td style = \"text-align: right;\">2.5675e8</td><td style = \"text-align: right;\">1.03554e8</td><td style = \"text-align: right;\">1.26027e8</td><td style = \"text-align: right;\">8.57805e7</td><td style = \"text-align: right;\">1.50228e8</td><td style = \"text-align: right;\">8.6356e7</td><td style = \"text-align: right;\">1.21484e8</td><td style = \"text-align: right;\">4.31782e7</td><td style = \"text-align: right;\">1.05889e8</td><td style = \"text-align: right;\">1.105e8</td><td style = \"text-align: right;\">1.24835e8</td><td style = \"text-align: right;\">&ctdot;</td></tr><tr><td class = \"rowNumber\" style = \"font-weight: bold; text-align: right;\">2</td><td style = \"text-align: left;\">1,2-dipalmitoyl-GPC (16:0/16:0)</td><td style = \"text-align: right;\">5.01226e7</td><td style = \"text-align: right;\">3.41086e7</td><td style = \"text-align: right;\">5.54832e7</td><td style = \"text-align: right;\">5.73641e7</td><td style = \"text-align: right;\">4.54575e7</td><td style = \"text-align: right;\">4.37259e7</td><td style = \"text-align: right;\">4.86805e7</td><td style = \"text-align: right;\">4.95447e7</td><td style = \"text-align: right;\">4.4005e7</td><td style = \"text-align: right;\">5.46287e7</td><td style = \"text-align: right;\">4.1113e7</td><td style = \"text-align: right;\">5.80674e7</td><td style = \"text-align: right;\">5.65275e7</td><td style = \"text-align: right;\">4.99471e7</td><td style = \"text-align: right;\">4.13048e7</td><td style = \"text-align: right;\">4.45523e7</td><td style = \"text-align: right;\">4.11628e7</td><td style = \"text-align: right;\">4.3878e7</td><td style = \"text-align: right;\">4.55188e7</td><td style = \"text-align: right;\">5.28457e7</td><td style = \"text-align: right;\">4.9745e7</td><td style = \"text-align: right;\">3.95083e7</td><td style = \"text-align: right;\">2.44572e7</td><td style = \"text-align: right;\">4.78726e7</td><td style = \"text-align: right;\">3.76249e7</td><td style = \"text-align: right;\">4.62412e7</td><td style = \"text-align: right;\">5.82358e7</td><td style = \"text-align: right;\">4.31937e7</td><td style = \"text-align: right;\">2.96737e7</td><td style = \"text-align: right;\">4.64424e7</td><td style = \"text-align: right;\">4.80161e7</td><td style = \"text-align: right;\">6.41809e7</td><td style = \"text-align: right;\">4.23205e7</td><td style = \"text-align: right;\">4.15771e7</td><td style = \"text-align: right;\">3.76538e7</td><td style = \"text-align: right;\">5.15789e7</td><td style = \"text-align: right;\">4.78193e7</td><td style = \"text-align: right;\">3.1023e7</td><td style = \"text-align: right;\">3.56475e7</td><td style = \"text-align: right;\">5.26665e7</td><td style = \"text-align: right;\">5.31019e7</td><td style = \"text-align: right;\">2.87438e7</td><td style = \"text-align: right;\">4.67286e7</td><td style = \"text-align: right;\">4.23172e7</td><td style = \"text-align: right;\">5.04956e7</td><td style = \"text-align: right;\">3.477e7</td><td style = \"text-align: right;\">4.16583e7</td><td style = \"text-align: right;\">3.76631e7</td><td style = \"text-align: right;\">4.90196e7</td><td style = \"text-align: right;\">4.68911e7</td><td style = \"text-align: right;\">4.30872e7</td><td style = \"text-align: right;\">4.47355e7</td><td style = \"text-align: right;\">4.19223e7</td><td style = \"text-align: right;\">3.92229e7</td><td style = \"text-align: right;\">5.18078e7</td><td style = \"text-align: right;\">3.86951e7</td><td style = \"text-align: right;\">4.01721e7</td><td style = \"text-align: right;\">4.49484e7</td><td style = \"text-align: right;\">5.57127e7</td><td style = \"text-align: right;\">5.81796e7</td><td style = \"text-align: right;\">4.74813e7</td><td style = \"text-align: right;\">3.98441e7</td><td style = \"text-align: right;\">3.44949e7</td><td style = \"text-align: right;\">4.2536e7</td><td style = \"text-align: right;\">4.39773e7</td><td style = \"text-align: right;\">3.31457e7</td><td style = \"text-align: right;\">4.77307e7</td><td style = \"text-align: right;\">5.17834e7</td><td style = \"text-align: right;\">5.79261e7</td><td style = \"text-align: right;\">4.08773e7</td><td style = \"text-align: right;\">4.76285e7</td><td style = \"text-align: right;\">4.09656e7</td><td style = \"text-align: right;\">3.72912e7</td><td style = \"text-align: right;\">4.37428e7</td><td style = \"text-align: right;\">4.83809e7</td><td style = \"text-align: right;\">5.4802e7</td><td style = \"text-align: right;\">6.37133e7</td><td style = \"text-align: right;\">4.33435e7</td><td style = \"text-align: right;\">3.99776e7</td><td style = \"text-align: right;\">4.26438e7</td><td style = \"text-align: right;\">4.08971e7</td><td style = \"text-align: right;\">3.31931e7</td><td style = \"text-align: right;\">3.92537e5</td><td style = \"text-align: right;\">4.27941e7</td><td style = \"text-align: right;\">4.20491e7</td><td style = \"text-align: right;\">3.82075e7</td><td style = \"text-align: right;\">3.67731e7</td><td style = \"text-align: right;\">3.66322e7</td><td style = \"text-align: right;\">5.94059e7</td><td style = \"text-align: right;\">5.05027e7</td><td style = \"text-align: right;\">5.63094e7</td><td style = \"text-align: right;\">4.54577e7</td><td style = \"text-align: right;\">4.66429e7</td><td style = \"text-align: right;\">4.58161e7</td><td style = \"text-align: right;\">4.77072e7</td><td style = \"text-align: right;\">3.19972e7</td><td style = \"text-align: right;\">4.61143e7</td><td style = \"text-align: right;\">3.76942e7</td><td style = \"text-align: right;\">4.56848e7</td><td style = \"text-align: right;\">&ctdot;</td></tr><tr><td class = \"rowNumber\" style = \"font-weight: bold; text-align: right;\">3</td><td style = \"text-align: left;\">1-(1-enyl-oleoyl)-GPE (P-18:1)*</td><td style = \"text-align: right;\">1.5108e5</td><td style = \"text-align: right;\">1.96074e5</td><td style = \"text-align: right;\">2.18692e5</td><td style = \"text-align: right;\">2.4361e5</td><td style = \"text-align: right;\">271046.0</td><td style = \"text-align: right;\">1.87949e5</td><td style = \"text-align: right;\">2.20511e5</td><td style = \"text-align: right;\">3.24843e5</td><td style = \"text-align: right;\">3.21703e5</td><td style = \"text-align: right;\">2.32695e5</td><td style = \"text-align: right;\">3.41219e5</td><td style = \"text-align: right;\">1.94003e5</td><td style = \"text-align: right;\">2.06422e5</td><td style = \"text-align: right;\">2.33976e5</td><td style = \"text-align: right;\">185176.0</td><td style = \"text-align: right;\">4.61638e5</td><td style = \"text-align: right;\">2.03727e5</td><td style = \"text-align: right;\">239951.0</td><td style = \"text-align: right;\">1.7068e5</td><td style = \"text-align: right;\">3.09233e5</td><td style = \"text-align: right;\">3.50558e5</td><td style = \"text-align: right;\">2.48292e5</td><td style = \"text-align: right;\">2.26788e5</td><td style = \"text-align: right;\">2.52793e5</td><td style = \"text-align: right;\">3.05358e5</td><td style = \"text-align: right;\">3.72572e5</td><td style = \"text-align: right;\">2.42363e5</td><td style = \"text-align: right;\">2.53276e5</td><td style = \"text-align: right;\">1.85604e5</td><td style = \"text-align: right;\">2.27297e5</td><td style = \"text-align: right;\">2.24785e5</td><td style = \"text-align: right;\">1.86274e5</td><td style = \"text-align: right;\">1.61626e5</td><td style = \"text-align: right;\">2.32263e5</td><td style = \"text-align: right;\">1.95902e5</td><td style = \"text-align: right;\">2.09656e5</td><td style = \"text-align: right;\">1.90572e5</td><td style = \"text-align: right;\">2.21708e5</td><td style = \"text-align: right;\">1.55314e5</td><td style = \"text-align: right;\">3.04843e5</td><td style = \"text-align: right;\">2.53001e5</td><td style = \"text-align: right;\">2.3293e5</td><td style = \"text-align: right;\">4.23742e5</td><td style = \"text-align: right;\">2.35753e5</td><td style = \"text-align: right;\">4.13075e5</td><td style = \"text-align: right;\">1.6266e5</td><td style = \"text-align: right;\">1.33571e5</td><td style = \"text-align: right;\">2.03074e5</td><td style = \"text-align: right;\">1.68609e5</td><td style = \"text-align: right;\">169196.0</td><td style = \"text-align: right;\">1.9346e5</td><td style = \"text-align: right;\">2.34023e5</td><td style = \"text-align: right;\">3.81814e5</td><td style = \"text-align: right;\">137499.0</td><td style = \"text-align: right;\">2.48687e5</td><td style = \"text-align: right;\">3.70114e5</td><td style = \"text-align: right;\">2.01024e5</td><td style = \"text-align: right;\">1.52715e5</td><td style = \"text-align: right;\">2.53461e5</td><td style = \"text-align: right;\">2.07414e5</td><td style = \"text-align: right;\">2.88182e5</td><td style = \"text-align: right;\">1.71174e5</td><td style = \"text-align: right;\">1.97421e5</td><td style = \"text-align: right;\">2.39112e5</td><td style = \"text-align: right;\">1.76083e5</td><td style = \"text-align: right;\">2.06577e5</td><td style = \"text-align: right;\">3.36987e5</td><td style = \"text-align: right;\">376333.0</td><td style = \"text-align: right;\">167625.0</td><td style = \"text-align: right;\">1.11292e5</td><td style = \"text-align: right;\">2.79434e5</td><td style = \"text-align: right;\">1.36441e5</td><td style = \"text-align: right;\">2.92068e5</td><td style = \"text-align: right;\">142734.0</td><td style = \"text-align: right;\">1.96436e5</td><td style = \"text-align: right;\">2.97726e5</td><td style = \"text-align: right;\">2.63436e5</td><td style = \"text-align: right;\">3.90001e5</td><td style = \"text-align: right;\">3.52582e5</td><td style = \"text-align: right;\">1.15907e5</td><td style = \"text-align: right;\">1.51765e5</td><td style = \"text-align: right;\">1.67409e5</td><td style = \"font-style: italic; text-align: right;\">missing</td><td style = \"text-align: right;\">2.07235e5</td><td style = \"text-align: right;\">2.22859e5</td><td style = \"text-align: right;\">2.24884e5</td><td style = \"text-align: right;\">1.66231e5</td><td style = \"text-align: right;\">3.60544e5</td><td style = \"text-align: right;\">2.0446e5</td><td style = \"text-align: right;\">3.21533e5</td><td style = \"text-align: right;\">3.52976e5</td><td style = \"text-align: right;\">3.23274e5</td><td style = \"text-align: right;\">2.63417e5</td><td style = \"text-align: right;\">2.65196e5</td><td style = \"text-align: right;\">3.39804e5</td><td style = \"text-align: right;\">78270.1</td><td style = \"text-align: right;\">186316.0</td><td style = \"text-align: right;\">1.37515e5</td><td style = \"text-align: right;\">3.60853e5</td><td style = \"text-align: right;\">&ctdot;</td></tr></tbody></table></div>"
      ],
      "text/latex": [
       "\\begin{tabular}{r|cccccc}\n",
       "\t& metabolite\\_name & NJHC-01750 & NJHC-01642 & NJHC-01498 & NJHC-01614 & \\\\\n",
       "\t\\hline\n",
       "\t& String & Float64? & Float64? & Float64? & Float64? & \\\\\n",
       "\t\\hline\n",
       "\t1 & 1,2-dilinoleoyl-GPC (18:2/18:2) & 8.35689e7 & 1.31306e8 & 1.06189e8 & 1.13068e8 & $\\dots$ \\\\\n",
       "\t2 & 1,2-dipalmitoyl-GPC (16:0/16:0) & 5.01226e7 & 3.41086e7 & 5.54832e7 & 5.73641e7 & $\\dots$ \\\\\n",
       "\t3 & 1-(1-enyl-oleoyl)-GPE (P-18:1)* & 1.5108e5 & 1.96074e5 & 2.18692e5 & 2.4361e5 & $\\dots$ \\\\\n",
       "\\end{tabular}\n"
      ],
      "text/plain": [
       "\u001b[1m3×650 DataFrame\u001b[0m\n",
       "\u001b[1m Row \u001b[0m│\u001b[1m metabolite_name                 \u001b[0m\u001b[1m NJHC-01750 \u001b[0m\u001b[1m NJHC-01642 \u001b[0m\u001b[1m NJHC-01498 \u001b[0m\u001b[1m NJ\u001b[0m ⋯\n",
       "     │\u001b[90m String                          \u001b[0m\u001b[90m Float64?   \u001b[0m\u001b[90m Float64?   \u001b[0m\u001b[90m Float64?   \u001b[0m\u001b[90m Fl\u001b[0m ⋯\n",
       "─────┼──────────────────────────────────────────────────────────────────────────\n",
       "   1 │ 1,2-dilinoleoyl-GPC (18:2/18:2)   8.35689e7   1.31306e8   1.06189e8   1 ⋯\n",
       "   2 │ 1,2-dipalmitoyl-GPC (16:0/16:0)   5.01226e7   3.41086e7   5.54832e7   5\n",
       "   3 │ 1-(1-enyl-oleoyl)-GPE (P-18:1)*   1.5108e5    1.96074e5   2.18692e5   2\n",
       "\u001b[36m                                                             646 columns omitted\u001b[0m"
      ]
     },
     "execution_count": 11,
     "metadata": {},
     "output_type": "execute_result"
    }
   ],
   "source": [
    "filePosLateMetabo = realpath(joinpath(@__DIR__,\"..\",\"..\",\"data\",\"raw\",\"SPIROMICS\",\"pos_late.txt\"))\n",
    "prepend(filePosLateMetabo, \"metabolite_name\t\")\n",
    "filePosLateMetabo = realpath(joinpath(@__DIR__,\"..\",\"..\",\"data\",\"raw\",\"SPIROMICS\",\"new_pos_late.txt\"))\n",
    "dfPosLateMetabo = CSV.read(filePosLateMetabo, DataFrame;  delim = '\t', missingstring = \"NA\");\n",
    "rm(filePosLateMetabo)\n",
    "first(dfPosLateMetabo, 3)"
   ]
  },
  {
   "cell_type": "markdown",
   "id": "b172a892",
   "metadata": {},
   "source": [
    "#### Check that each dataframe contains the same column names(sample names). "
   ]
  },
  {
   "cell_type": "code",
   "execution_count": 12,
   "id": "ece50135",
   "metadata": {},
   "outputs": [
    {
     "data": {
      "text/plain": [
       "true"
      ]
     },
     "execution_count": 12,
     "metadata": {},
     "output_type": "execute_result"
    }
   ],
   "source": [
    "names(dfNegMetabo) == names(dfPolarMetabo) == names(dfPosEarlyMetabo) == names(dfPosLateMetabo)"
   ]
  },
  {
   "cell_type": "markdown",
   "id": "58e6f602",
   "metadata": {},
   "source": [
    "## ST001639: SPIROMICS exploration"
   ]
  },
  {
   "cell_type": "markdown",
   "id": "79d7ba4b",
   "metadata": {
    "tags": []
   },
   "source": [
    "### Individuals"
   ]
  },
  {
   "cell_type": "code",
   "execution_count": 13,
   "id": "e2b9d013",
   "metadata": {},
   "outputs": [
    {
     "name": "stdout",
     "output_type": "stream",
     "text": [
      "The participants dataset contains 447 individuals and 14 covariates.\n"
     ]
    }
   ],
   "source": [
    "println(\"The participants dataset contains $(size(dfIndividuals, 1)) individuals and $(size(dfIndividuals, 2)) covariates.\")"
   ]
  },
  {
   "cell_type": "code",
   "execution_count": 14,
   "id": "a492490f",
   "metadata": {},
   "outputs": [
    {
     "data": {
      "text/html": [
       "<div><div style = \"float: left;\"><span>14×7 DataFrame</span></div><div style = \"clear: both;\"></div></div><div class = \"data-frame\" style = \"overflow-x: scroll;\"><table class = \"data-frame\" style = \"margin-bottom: 6px;\"><thead><tr class = \"header\"><th class = \"rowNumber\" style = \"font-weight: bold; text-align: right;\">Row</th><th style = \"text-align: left;\">variable</th><th style = \"text-align: left;\">mean</th><th style = \"text-align: left;\">min</th><th style = \"text-align: left;\">median</th><th style = \"text-align: left;\">max</th><th style = \"text-align: left;\">nmissing</th><th style = \"text-align: left;\">eltype</th></tr><tr class = \"subheader headerLastRow\"><th class = \"rowNumber\" style = \"font-weight: bold; text-align: right;\"></th><th title = \"Symbol\" style = \"text-align: left;\">Symbol</th><th title = \"Union{Nothing, Float64}\" style = \"text-align: left;\">Union…</th><th title = \"Any\" style = \"text-align: left;\">Any</th><th title = \"Union{Nothing, Float64}\" style = \"text-align: left;\">Union…</th><th title = \"Any\" style = \"text-align: left;\">Any</th><th title = \"Int64\" style = \"text-align: left;\">Int64</th><th title = \"Type\" style = \"text-align: left;\">Type</th></tr></thead><tbody><tr><td class = \"rowNumber\" style = \"font-weight: bold; text-align: right;\">1</td><td style = \"text-align: left;\">SUBJID</td><td style = \"font-style: italic; text-align: left;\"></td><td style = \"text-align: left;\">CU100084</td><td style = \"font-style: italic; text-align: left;\"></td><td style = \"text-align: left;\">WF125434</td><td style = \"text-align: right;\">0</td><td style = \"text-align: left;\">String15</td></tr><tr><td class = \"rowNumber\" style = \"font-weight: bold; text-align: right;\">2</td><td style = \"text-align: left;\">SAMPLE_NAME</td><td style = \"font-style: italic; text-align: left;\"></td><td style = \"text-align: left;\">NJHC-01397</td><td style = \"font-style: italic; text-align: left;\"></td><td style = \"text-align: left;\">NJHC-02046</td><td style = \"text-align: right;\">0</td><td style = \"text-align: left;\">String15</td></tr><tr><td class = \"rowNumber\" style = \"font-weight: bold; text-align: right;\">3</td><td style = \"text-align: left;\">SITE</td><td style = \"font-style: italic; text-align: left;\"></td><td style = \"text-align: left;\">CU</td><td style = \"font-style: italic; text-align: left;\"></td><td style = \"text-align: left;\">WF</td><td style = \"text-align: right;\">0</td><td style = \"text-align: left;\">String3</td></tr><tr><td class = \"rowNumber\" style = \"font-weight: bold; text-align: right;\">4</td><td style = \"text-align: left;\">GOLD_STAGE_COPD_SEVERITY</td><td style = \"text-align: left;\">1.28412</td><td style = \"text-align: left;\">0</td><td style = \"text-align: left;\">2.0</td><td style = \"text-align: left;\">4</td><td style = \"text-align: right;\">0</td><td style = \"text-align: left;\">Int64</td></tr><tr><td class = \"rowNumber\" style = \"font-weight: bold; text-align: right;\">5</td><td style = \"text-align: left;\">GENDER</td><td style = \"font-style: italic; text-align: left;\"></td><td style = \"text-align: left;\">Female</td><td style = \"font-style: italic; text-align: left;\"></td><td style = \"text-align: left;\">Male</td><td style = \"text-align: right;\">0</td><td style = \"text-align: left;\">String7</td></tr><tr><td class = \"rowNumber\" style = \"font-weight: bold; text-align: right;\">6</td><td style = \"text-align: left;\">AGE_DERV_01</td><td style = \"text-align: left;\">63.5168</td><td style = \"text-align: left;\">40</td><td style = \"text-align: left;\">65.0</td><td style = \"text-align: left;\">80</td><td style = \"text-align: right;\">0</td><td style = \"text-align: left;\">Int64</td></tr><tr><td class = \"rowNumber\" style = \"font-weight: bold; text-align: right;\">7</td><td style = \"text-align: left;\">RACE</td><td style = \"font-style: italic; text-align: left;\"></td><td style = \"text-align: left;\">Black/African American</td><td style = \"font-style: italic; text-align: left;\"></td><td style = \"text-align: left;\">Non-Hispanic, White</td><td style = \"text-align: right;\">0</td><td style = \"text-align: left;\">String31</td></tr><tr><td class = \"rowNumber\" style = \"font-weight: bold; text-align: right;\">8</td><td style = \"text-align: left;\">BMI_CM01</td><td style = \"text-align: left;\">28.4996</td><td style = \"text-align: left;\">14.5</td><td style = \"text-align: left;\">28.3</td><td style = \"text-align: left;\">39.8</td><td style = \"text-align: right;\">0</td><td style = \"text-align: left;\">Float64</td></tr><tr><td class = \"rowNumber\" style = \"font-weight: bold; text-align: right;\">9</td><td style = \"text-align: left;\">CURRENT_SMOKER_V1</td><td style = \"text-align: left;\">0.362613</td><td style = \"text-align: left;\">0</td><td style = \"text-align: left;\">0.0</td><td style = \"text-align: left;\">1</td><td style = \"text-align: right;\">3</td><td style = \"text-align: left;\">Union{Missing, Int64}</td></tr><tr><td class = \"rowNumber\" style = \"font-weight: bold; text-align: right;\">10</td><td style = \"text-align: left;\">SMOKING_PACK_YEARS01</td><td style = \"text-align: left;\">50.7088</td><td style = \"text-align: left;\">20.0</td><td style = \"text-align: left;\">44.0</td><td style = \"text-align: left;\">400.0</td><td style = \"text-align: right;\">0</td><td style = \"text-align: left;\">Float64</td></tr><tr><td class = \"rowNumber\" style = \"font-weight: bold; text-align: right;\">11</td><td style = \"text-align: left;\">POST_FEV1FVC_DERV</td><td style = \"text-align: left;\">0.631144</td><td style = \"text-align: left;\">0.181134</td><td style = \"text-align: left;\">0.661511</td><td style = \"text-align: left;\">0.966715</td><td style = \"text-align: right;\">0</td><td style = \"text-align: left;\">Float64</td></tr><tr><td class = \"rowNumber\" style = \"font-weight: bold; text-align: right;\">12</td><td style = \"text-align: left;\">PCT_POST_FEV1_V1</td><td style = \"text-align: left;\">75.5271</td><td style = \"text-align: left;\">14.3114</td><td style = \"text-align: left;\">75.1348</td><td style = \"text-align: left;\">140.094</td><td style = \"text-align: right;\">0</td><td style = \"text-align: left;\">Float64</td></tr><tr><td class = \"rowNumber\" style = \"font-weight: bold; text-align: right;\">13</td><td style = \"text-align: left;\">V1_PERCENT_EMPHYSEMA_TOTAL</td><td style = \"text-align: left;\">5.17284</td><td style = \"text-align: left;\">0.0</td><td style = \"text-align: left;\">0.815</td><td style = \"text-align: left;\">51.63</td><td style = \"text-align: right;\">63</td><td style = \"text-align: left;\">Union{Missing, Float64}</td></tr><tr><td class = \"rowNumber\" style = \"font-weight: bold; text-align: right;\">14</td><td style = \"text-align: left;\">COPD</td><td style = \"text-align: left;\">0.555046</td><td style = \"text-align: left;\">0</td><td style = \"text-align: left;\">1.0</td><td style = \"text-align: left;\">1</td><td style = \"text-align: right;\">11</td><td style = \"text-align: left;\">Union{Missing, Int64}</td></tr></tbody></table></div>"
      ],
      "text/latex": [
       "\\begin{tabular}{r|cccccc}\n",
       "\t& variable & mean & min & median & max & \\\\\n",
       "\t\\hline\n",
       "\t& Symbol & Union… & Any & Union… & Any & \\\\\n",
       "\t\\hline\n",
       "\t1 & SUBJID &  & CU100084 &  & WF125434 & $\\dots$ \\\\\n",
       "\t2 & SAMPLE\\_NAME &  & NJHC-01397 &  & NJHC-02046 & $\\dots$ \\\\\n",
       "\t3 & SITE &  & CU &  & WF & $\\dots$ \\\\\n",
       "\t4 & GOLD\\_STAGE\\_COPD\\_SEVERITY & 1.28412 & 0 & 2.0 & 4 & $\\dots$ \\\\\n",
       "\t5 & GENDER &  & Female &  & Male & $\\dots$ \\\\\n",
       "\t6 & AGE\\_DERV\\_01 & 63.5168 & 40 & 65.0 & 80 & $\\dots$ \\\\\n",
       "\t7 & RACE &  & Black/African American &  & Non-Hispanic, White & $\\dots$ \\\\\n",
       "\t8 & BMI\\_CM01 & 28.4996 & 14.5 & 28.3 & 39.8 & $\\dots$ \\\\\n",
       "\t9 & CURRENT\\_SMOKER\\_V1 & 0.362613 & 0 & 0.0 & 1 & $\\dots$ \\\\\n",
       "\t10 & SMOKING\\_PACK\\_YEARS01 & 50.7088 & 20.0 & 44.0 & 400.0 & $\\dots$ \\\\\n",
       "\t11 & POST\\_FEV1FVC\\_DERV & 0.631144 & 0.181134 & 0.661511 & 0.966715 & $\\dots$ \\\\\n",
       "\t12 & PCT\\_POST\\_FEV1\\_V1 & 75.5271 & 14.3114 & 75.1348 & 140.094 & $\\dots$ \\\\\n",
       "\t13 & V1\\_PERCENT\\_EMPHYSEMA\\_TOTAL & 5.17284 & 0.0 & 0.815 & 51.63 & $\\dots$ \\\\\n",
       "\t14 & COPD & 0.555046 & 0 & 1.0 & 1 & $\\dots$ \\\\\n",
       "\\end{tabular}\n"
      ],
      "text/plain": [
       "\u001b[1m14×7 DataFrame\u001b[0m\n",
       "\u001b[1m Row \u001b[0m│\u001b[1m variable                   \u001b[0m\u001b[1m mean     \u001b[0m\u001b[1m min                    \u001b[0m\u001b[1m median   \u001b[0m\u001b[1m\u001b[0m ⋯\n",
       "     │\u001b[90m Symbol                     \u001b[0m\u001b[90m Union…   \u001b[0m\u001b[90m Any                    \u001b[0m\u001b[90m Union…   \u001b[0m\u001b[90m\u001b[0m ⋯\n",
       "─────┼──────────────────────────────────────────────────────────────────────────\n",
       "   1 │ SUBJID                     \u001b[90m          \u001b[0m CU100084               \u001b[90m          \u001b[0m ⋯\n",
       "   2 │ SAMPLE_NAME                \u001b[90m          \u001b[0m NJHC-01397             \u001b[90m          \u001b[0m\n",
       "   3 │ SITE                       \u001b[90m          \u001b[0m CU                     \u001b[90m          \u001b[0m\n",
       "   4 │ GOLD_STAGE_COPD_SEVERITY    1.28412   0                       2.0\n",
       "   5 │ GENDER                     \u001b[90m          \u001b[0m Female                 \u001b[90m          \u001b[0m ⋯\n",
       "   6 │ AGE_DERV_01                 63.5168   40                      65.0\n",
       "   7 │ RACE                       \u001b[90m          \u001b[0m Black/African American \u001b[90m          \u001b[0m\n",
       "   8 │ BMI_CM01                    28.4996   14.5                    28.3\n",
       "   9 │ CURRENT_SMOKER_V1           0.362613  0                       0.0       ⋯\n",
       "  10 │ SMOKING_PACK_YEARS01        50.7088   20.0                    44.0\n",
       "  11 │ POST_FEV1FVC_DERV           0.631144  0.181134                0.661511\n",
       "  12 │ PCT_POST_FEV1_V1            75.5271   14.3114                 75.1348\n",
       "  13 │ V1_PERCENT_EMPHYSEMA_TOTAL  5.17284   0.0                     0.815     ⋯\n",
       "  14 │ COPD                        0.555046  0                       1.0\n",
       "\u001b[36m                                                               3 columns omitted\u001b[0m"
      ]
     },
     "execution_count": 14,
     "metadata": {},
     "output_type": "execute_result"
    }
   ],
   "source": [
    "describe(dfIndividuals)"
   ]
  },
  {
   "cell_type": "markdown",
   "id": "ea3e13f9",
   "metadata": {},
   "source": [
    "Notes:`ATS_PackYears`, i.e. smoking number of pack-years, and `Insp_LAA950_total_Thirona`, i.e. percent emphysema, contain `NA`."
   ]
  },
  {
   "cell_type": "markdown",
   "id": "cf4d8d72",
   "metadata": {},
   "source": [
    "Check how many `NA`:"
   ]
  },
  {
   "cell_type": "code",
   "execution_count": 15,
   "id": "6bc1804a",
   "metadata": {},
   "outputs": [
    {
     "name": "stdout",
     "output_type": "stream",
     "text": [
      "CURRENT_SMOKER_V1 contains 3 missing values.\n",
      "V1_PERCENT_EMPHYSEMA_TOTAL contains 63 missing values.\n",
      "COPD contains 11 missing values.\n"
     ]
    }
   ],
   "source": [
    "vMissing = map(eachcol(dfIndividuals)) do col\n",
    "               sum(ismissing.(col))\n",
    "           end\n",
    "idxColMiss = findall(vMissing .!= 0)\n",
    "for i in idxColMiss\n",
    "    println(\"$(names(dfIndividuals)[i]) contains $(vMissing[i]) missing values.\")\n",
    "end"
   ]
  },
  {
   "cell_type": "markdown",
   "id": "a99ca923",
   "metadata": {},
   "source": [
    "#### Change variable names: "
   ]
  },
  {
   "cell_type": "code",
   "execution_count": 16,
   "id": "de4fac3c",
   "metadata": {},
   "outputs": [],
   "source": [
    "rename!(dfIndividuals, Dict(:SUBJID => \"SampleName\", :SAMPLE_NAME => \"SampleID\",\n",
    "                            :SITE => \"Site\", :GOLD_STAGE_COPD_SEVERITY => \"FinalGold\",\n",
    "                            :GENDER => \"Sex\", :AGE_DERV_01 => \"Age\", :RACE => \"race\",\n",
    "                            :SMOKING_PACK_YEARS01 => \"SmokingPackYears\", :BMI_CM01 => \"BMI\",\n",
    "                            :POST_FEV1FVC_DERV => \"FEV1_FVC\", :PCT_POST_FEV1_V1 => \"FEV1pp\",\n",
    "                            :CURRENT_SMOKER_V1 => \"CurrentSmoker\",\n",
    "                            :V1_PERCENT_EMPHYSEMA_TOTAL => \"PercentEmphysema\"));"
   ]
  },
  {
   "cell_type": "markdown",
   "id": "21a22daf",
   "metadata": {},
   "source": [
    "Verify how many factors per categorical variables, *i.e.* gender, race, smoking status, COPD case status."
   ]
  },
  {
   "cell_type": "code",
   "execution_count": 17,
   "id": "382422b4",
   "metadata": {
    "lines_to_next_cell": 2
   },
   "outputs": [
    {
     "name": "stdout",
     "output_type": "stream",
     "text": [
      "Sex variable contains: Female and Male values.\n",
      "race variable contains: Non-Hispanic, White and Black/African American values.\n",
      "CurrentSmoker variable contains: 0,1 and missing values.\n",
      "COPD variable contains: 1,0 and missing values.\n"
     ]
    }
   ],
   "source": [
    "vCovariateNames = [:Sex, :race, :CurrentSmoker, :COPD]\n",
    "vUniqueCat = map(eachcol(dfIndividuals[:, vCovariateNames])) do col\n",
    "                 join(unique(col), \",\", \" and \")\n",
    "             end\n",
    "for i in 1:length(vUniqueCat)\n",
    "    println(\"$(string(vCovariateNames[i])) variable contains: $(vUniqueCat[i]) values.\")\n",
    "end"
   ]
  },
  {
   "cell_type": "markdown",
   "id": "b9c645d3",
   "metadata": {},
   "source": [
    "Convert:\n",
    "- `race` into `NHW`, where the value *1* corresponds to non-Hispanic White and *0* otherwise.\n",
    "- `smoking_status` into `CurrentSmoker`, , where the value *1* corresponds to Current Smoker and *0* to Former Smoker."
   ]
  },
  {
   "cell_type": "code",
   "execution_count": 18,
   "id": "dde2c393",
   "metadata": {},
   "outputs": [],
   "source": [
    "#  non-Hipanic White\n",
    "vNHW = zeros(Int, size(dfIndividuals, 1));\n",
    "idxNHW = findall(dfIndividuals.race .== \"Non-Hispanic, White\");\n",
    "vNHW[idxNHW] .= 1\n",
    "dfIndividuals.NHW = (vNHW);"
   ]
  },
  {
   "cell_type": "code",
   "execution_count": 19,
   "id": "1d68045a",
   "metadata": {},
   "outputs": [],
   "source": [
    "# Drop `race` and `smoking_status`\n",
    "select!(dfIndividuals, Not([:race]));"
   ]
  },
  {
   "cell_type": "markdown",
   "id": "6f7476d7",
   "metadata": {},
   "source": [
    "Get demographics SPIROMICS cohort by sex."
   ]
  },
  {
   "cell_type": "code",
   "execution_count": 20,
   "id": "54175c2c",
   "metadata": {},
   "outputs": [
    {
     "data": {
      "text/html": [
       "<div><div style = \"float: left;\"><span>8×3 DataFrame</span></div><div style = \"clear: both;\"></div></div><div class = \"data-frame\" style = \"overflow-x: scroll;\"><table class = \"data-frame\" style = \"margin-bottom: 6px;\"><thead><tr class = \"header\"><th class = \"rowNumber\" style = \"font-weight: bold; text-align: right;\">Row</th><th style = \"text-align: left;\">Variable</th><th style = \"text-align: left;\">Female</th><th style = \"text-align: left;\">Male</th></tr><tr class = \"subheader headerLastRow\"><th class = \"rowNumber\" style = \"font-weight: bold; text-align: right;\"></th><th title = \"String\" style = \"text-align: left;\">String</th><th title = \"Any\" style = \"text-align: left;\">Any</th><th title = \"Any\" style = \"text-align: left;\">Any</th></tr></thead><tbody><tr><td class = \"rowNumber\" style = \"font-weight: bold; text-align: right;\">1</td><td style = \"text-align: left;\">Participants</td><td style = \"text-align: left;\">214</td><td style = \"text-align: left;\">233</td></tr><tr><td class = \"rowNumber\" style = \"font-weight: bold; text-align: right;\">2</td><td style = \"text-align: left;\">Age</td><td style = \"text-align: left;\">63.0(8.8)</td><td style = \"text-align: left;\">64.0(8.0)</td></tr><tr><td class = \"rowNumber\" style = \"font-weight: bold; text-align: right;\">3</td><td style = \"text-align: left;\">BMI</td><td style = \"text-align: left;\">28.4(5.6)</td><td style = \"text-align: left;\">28.6(4.9)</td></tr><tr><td class = \"rowNumber\" style = \"font-weight: bold; text-align: right;\">4</td><td style = \"text-align: left;\">SmokingPackYears</td><td style = \"text-align: left;\">45.5(21.3)</td><td style = \"text-align: left;\">55.5(38.1)</td></tr><tr><td class = \"rowNumber\" style = \"font-weight: bold; text-align: right;\">5</td><td style = \"text-align: left;\">PercentEmphysema</td><td style = \"text-align: left;\">5.0(8.8)</td><td style = \"text-align: left;\">5.3(9.1)</td></tr><tr><td class = \"rowNumber\" style = \"font-weight: bold; text-align: right;\">6</td><td style = \"text-align: left;\">NHW</td><td style = \"text-align: left;\">163(76.2)</td><td style = \"text-align: left;\">191(82.0)</td></tr><tr><td class = \"rowNumber\" style = \"font-weight: bold; text-align: right;\">7</td><td style = \"text-align: left;\">CurrentSmoker</td><td style = \"text-align: left;\">70(32.9)</td><td style = \"text-align: left;\">91(39.4)</td></tr><tr><td class = \"rowNumber\" style = \"font-weight: bold; text-align: right;\">8</td><td style = \"text-align: left;\">COPD</td><td style = \"text-align: left;\">102(49.5)</td><td style = \"text-align: left;\">140(60.9)</td></tr></tbody></table></div>"
      ],
      "text/latex": [
       "\\begin{tabular}{r|ccc}\n",
       "\t& Variable & Female & Male\\\\\n",
       "\t\\hline\n",
       "\t& String & Any & Any\\\\\n",
       "\t\\hline\n",
       "\t1 & Participants & 214 & 233 \\\\\n",
       "\t2 & Age & 63.0(8.8) & 64.0(8.0) \\\\\n",
       "\t3 & BMI & 28.4(5.6) & 28.6(4.9) \\\\\n",
       "\t4 & SmokingPackYears & 45.5(21.3) & 55.5(38.1) \\\\\n",
       "\t5 & PercentEmphysema & 5.0(8.8) & 5.3(9.1) \\\\\n",
       "\t6 & NHW & 163(76.2) & 191(82.0) \\\\\n",
       "\t7 & CurrentSmoker & 70(32.9) & 91(39.4) \\\\\n",
       "\t8 & COPD & 102(49.5) & 140(60.9) \\\\\n",
       "\\end{tabular}\n"
      ],
      "text/plain": [
       "\u001b[1m8×3 DataFrame\u001b[0m\n",
       "\u001b[1m Row \u001b[0m│\u001b[1m Variable         \u001b[0m\u001b[1m Female     \u001b[0m\u001b[1m Male       \u001b[0m\n",
       "     │\u001b[90m String           \u001b[0m\u001b[90m Any        \u001b[0m\u001b[90m Any        \u001b[0m\n",
       "─────┼──────────────────────────────────────────\n",
       "   1 │ Participants      214         233\n",
       "   2 │ Age               63.0(8.8)   64.0(8.0)\n",
       "   3 │ BMI               28.4(5.6)   28.6(4.9)\n",
       "   4 │ SmokingPackYears  45.5(21.3)  55.5(38.1)\n",
       "   5 │ PercentEmphysema  5.0(8.8)    5.3(9.1)\n",
       "   6 │ NHW               163(76.2)   191(82.0)\n",
       "   7 │ CurrentSmoker     70(32.9)    91(39.4)\n",
       "   8 │ COPD              102(49.5)   140(60.9)"
      ]
     },
     "execution_count": 20,
     "metadata": {},
     "output_type": "execute_result"
    }
   ],
   "source": [
    "# Group by sex\n",
    "gdf = groupby(dfIndividuals, :Sex);\n",
    "\n",
    "# Get mean values\n",
    "mymean(X) = mean(skipmissing(X))\n",
    "df1a = combine(gdf, [:Age, :BMI, :SmokingPackYears, :PercentEmphysema] .=> mymean)\n",
    "df1a[:,2:end] = round.((df1a[:,2:end]); digits = 1)\n",
    "rename!(df1a, Dict(:Age_mymean => \"Age\", :BMI_mymean => \"BMI\",\n",
    "                   :SmokingPackYears_mymean => \"SmokingPackYears\", :PercentEmphysema_mymean => \"PercentEmphysema\"));\n",
    "\n",
    "# Get standard deviation values\n",
    "mystd(X) = std(skipmissing(X))\n",
    "df1b = combine(gdf, [:Age, :BMI, :SmokingPackYears, :PercentEmphysema] .=> mystd)\n",
    "df1b[:,2:end] = round.((df1b[:,2:end]); digits = 1)\n",
    "rename!(df1b, Dict(:Age_mystd => \"Age\", :BMI_mystd => \"BMI\",\n",
    "                   :SmokingPackYears_mystd => \"SmokingPackYears\", :PercentEmphysema_mystd => \"PercentEmphysema\"));\n",
    "\n",
    "# Join mean and standard deviation values\n",
    "dfDem1 = string.(df1a[:,2:end]).*repeat([\"(\"], size(df1a,1),size(df1a,2)-1).* \n",
    "         string.(df1b[:,2:end]).*repeat([\")\"], size(df1a,1),size(df1a,2)-1);\n",
    "insertcols!(dfDem1, 1, :Sex => df1a.Sex, :Participants => combine(gdf, nrow)[:,2])\n",
    "\n",
    "# Get sum values\n",
    "sum_skipmissing(x)= sum(skipmissing(x));\n",
    "df2a = combine(gdf, [:NHW, :CurrentSmoker, :COPD] .=> sum_skipmissing)\n",
    "\n",
    "# Get number of participant excluding those with missing values\n",
    "nrow_skipmissing(x)= length(collect(skipmissing(x)));\n",
    "dfParticipantSkipmissing = combine(gdf, [:NHW, :CurrentSmoker, :COPD] .=> nrow_skipmissing)\n",
    "\n",
    "\n",
    "# Get percentage values\n",
    "df2b = round.((df2a[:,2:end]./ Matrix(dfParticipantSkipmissing[:, 2:end])).*100, digits = 1)\n",
    "\n",
    "# Join sum and percentage values\n",
    "dfDem2 = string.(df2a[:,2:end]).*repeat([\"(\"], size(df2a,1),size(df2a,2)-1).* \n",
    "         string.(df2b[:,1:end]).*repeat([\")\"], size(df2a,1),size(df2a,2)-1)\n",
    "insertcols!(dfDem2, 1, :Sex => df2a.Sex)\n",
    "\n",
    "rename!(dfDem2, Dict(:NHW_sum_skipmissing => \"NHW\", :CurrentSmoker_sum_skipmissing => \"CurrentSmoker\",\n",
    "                   :COPD_sum_skipmissing => \"COPD\"))\n",
    "# Join demographics dataframes\n",
    "dfDem = leftjoin(dfDem1, dfDem2, on = :Sex )\n",
    "\n",
    "# Pivot table\n",
    "dfDem = permutedims(dfDem, 1, \"Variable\")"
   ]
  },
  {
   "cell_type": "markdown",
   "id": "18f634bf",
   "metadata": {},
   "source": [
    "The demographic table is identical to the article \"*Metabolomic Profiling Reveals Sex Specific Associations with\n",
    "Chronic Obstructive Pulmonary Disease and Emphysema*\"(2021)."
   ]
  },
  {
   "cell_type": "markdown",
   "id": "24308352",
   "metadata": {},
   "source": [
    "#### Save processed individuals dataset:"
   ]
  },
  {
   "cell_type": "code",
   "execution_count": 21,
   "id": "9497bfd6",
   "metadata": {},
   "outputs": [
    {
     "data": {
      "text/html": [
       "<div><div style = \"float: left;\"><span>DataFrameRow (14 columns)</span></div><div style = \"clear: both;\"></div></div><div class = \"data-frame\" style = \"overflow-x: scroll;\"><table class = \"data-frame\" style = \"margin-bottom: 6px;\"><thead><tr class = \"header\"><th class = \"rowLabel\" style = \"font-weight: bold; text-align: right;\">Row</th><th style = \"text-align: left;\">SampleName</th><th style = \"text-align: left;\">SampleID</th><th style = \"text-align: left;\">Site</th><th style = \"text-align: left;\">FinalGold</th><th style = \"text-align: left;\">Sex</th><th style = \"text-align: left;\">Age</th><th style = \"text-align: left;\">BMI</th><th style = \"text-align: left;\">CurrentSmoker</th><th style = \"text-align: left;\">SmokingPackYears</th><th style = \"text-align: left;\">FEV1_FVC</th><th style = \"text-align: left;\">FEV1pp</th><th style = \"text-align: left;\">PercentEmphysema</th><th style = \"text-align: left;\">COPD</th><th style = \"text-align: left;\">NHW</th></tr><tr class = \"subheader headerLastRow\"><th class = \"rowLabel\" style = \"font-weight: bold; text-align: right;\"></th><th title = \"String15\" style = \"text-align: left;\">String15</th><th title = \"String15\" style = \"text-align: left;\">String15</th><th title = \"String3\" style = \"text-align: left;\">String3</th><th title = \"Int64\" style = \"text-align: left;\">Int64</th><th title = \"String7\" style = \"text-align: left;\">String7</th><th title = \"Int64\" style = \"text-align: left;\">Int64</th><th title = \"Float64\" style = \"text-align: left;\">Float64</th><th title = \"Union{Missing, Int64}\" style = \"text-align: left;\">Int64?</th><th title = \"Float64\" style = \"text-align: left;\">Float64</th><th title = \"Float64\" style = \"text-align: left;\">Float64</th><th title = \"Float64\" style = \"text-align: left;\">Float64</th><th title = \"Union{Missing, Float64}\" style = \"text-align: left;\">Float64?</th><th title = \"Union{Missing, Int64}\" style = \"text-align: left;\">Int64?</th><th title = \"Int64\" style = \"text-align: left;\">Int64</th></tr></thead><tbody><tr><td class = \"rowLabel\" style = \"font-weight: bold; text-align: right;\">1</td><td style = \"text-align: left;\">CU100084</td><td style = \"text-align: left;\">NJHC-01517</td><td style = \"text-align: left;\">CU</td><td style = \"text-align: right;\">2</td><td style = \"text-align: left;\">Female</td><td style = \"text-align: right;\">64</td><td style = \"text-align: right;\">25.3</td><td style = \"text-align: right;\">0</td><td style = \"text-align: right;\">100.0</td><td style = \"text-align: right;\">0.505651</td><td style = \"text-align: right;\">65.4168</td><td style = \"text-align: right;\">11.56</td><td style = \"text-align: right;\">1</td><td style = \"text-align: right;\">1</td></tr></tbody></table></div>"
      ],
      "text/latex": [
       "\\begin{tabular}{r|ccccccccc}\n",
       "\t& SampleName & SampleID & Site & FinalGold & Sex & Age & BMI & CurrentSmoker & \\\\\n",
       "\t\\hline\n",
       "\t& String15 & String15 & String3 & Int64 & String7 & Int64 & Float64 & Int64? & \\\\\n",
       "\t\\hline\n",
       "\t1 & CU100084 & NJHC-01517 & CU & 2 & Female & 64 & 25.3 & 0 & $\\dots$ \\\\\n",
       "\\end{tabular}\n"
      ],
      "text/plain": [
       "\u001b[1mDataFrameRow\u001b[0m\n",
       "\u001b[1m Row \u001b[0m│\u001b[1m SampleName \u001b[0m\u001b[1m SampleID   \u001b[0m\u001b[1m Site    \u001b[0m\u001b[1m FinalGold \u001b[0m\u001b[1m Sex     \u001b[0m\u001b[1m Age   \u001b[0m\u001b[1m BMI     \u001b[0m\u001b[1m Cu\u001b[0m ⋯\n",
       "     │\u001b[90m String15   \u001b[0m\u001b[90m String15   \u001b[0m\u001b[90m String3 \u001b[0m\u001b[90m Int64     \u001b[0m\u001b[90m String7 \u001b[0m\u001b[90m Int64 \u001b[0m\u001b[90m Float64 \u001b[0m\u001b[90m In\u001b[0m ⋯\n",
       "─────┼──────────────────────────────────────────────────────────────────────────\n",
       "   1 │ CU100084    NJHC-01517  CU               2  Female      64     25.3     ⋯\n",
       "\u001b[36m                                                               7 columns omitted\u001b[0m"
      ]
     },
     "execution_count": 21,
     "metadata": {},
     "output_type": "execute_result"
    }
   ],
   "source": [
    "first(dfIndividuals)"
   ]
  },
  {
   "cell_type": "code",
   "execution_count": 22,
   "id": "81bc4475",
   "metadata": {},
   "outputs": [],
   "source": [
    "fileIndividuals = joinpath(@__DIR__,\"..\",\"..\",\"data\",\"processed\",\"SPIROMICS\",\"SPIROMICS_ClinicalCovariates.csv\");\n",
    "dfIndividuals |> CSV.write(fileIndividuals);"
   ]
  },
  {
   "cell_type": "markdown",
   "id": "0e1a5d96",
   "metadata": {
    "tags": []
   },
   "source": [
    "### Metabolomics References"
   ]
  },
  {
   "cell_type": "markdown",
   "id": "e01209e2",
   "metadata": {},
   "source": [
    "#### Create dataframe whith pathways"
   ]
  },
  {
   "cell_type": "code",
   "execution_count": 23,
   "id": "76fd8ad3-a40f-47f5-a58b-0e4ee3f94066",
   "metadata": {},
   "outputs": [
    {
     "data": {
      "text/plain": [
       "10-element Vector{String}:\n",
       " \"metabolite_name\"\n",
       " \"SUPER.PATHWAY\"\n",
       " \"SUB.PATHWAY\"\n",
       " \"PLATFORM\"\n",
       " \"RI\"\n",
       " \"MASS\"\n",
       " \"PUBCHEM\"\n",
       " \"CAS\"\n",
       " \"KEGG\"\n",
       " \"HMDB\""
      ]
     },
     "execution_count": 23,
     "metadata": {},
     "output_type": "execute_result"
    }
   ],
   "source": [
    "names(dfRefMetabo)"
   ]
  },
  {
   "cell_type": "markdown",
   "id": "72eddfae-957e-4d8e-850c-0678d3a22208",
   "metadata": {},
   "source": [
    "Since the [PUBCHEM ID list](https://www.metabolomicsworkbench.org/rest/study/study_id/ST001639/metabolites/text) is incomplete, we need to generate a pseudo CompID. First sort by metabolite name then generate the IDs."
   ]
  },
  {
   "cell_type": "code",
   "execution_count": 24,
   "id": "9723b65c-52db-487d-9030-c8634579b6fb",
   "metadata": {},
   "outputs": [],
   "source": [
    "sort!(dfRefMetabo, :metabolite_name)\n",
    "insertcols!(dfRefMetabo, 2, :CompID => replace.(string.(collect(1:size(dfRefMetabo, 1)).+99990000), \"9999\"=>\"comp\"));"
   ]
  },
  {
   "cell_type": "code",
   "execution_count": 25,
   "id": "7327080c-c056-4a8a-b977-353075bcaf0a",
   "metadata": {},
   "outputs": [
    {
     "data": {
      "text/html": [
       "<div><div style = \"float: left;\"><span>3×11 DataFrame</span></div><div style = \"clear: both;\"></div></div><div class = \"data-frame\" style = \"overflow-x: scroll;\"><table class = \"data-frame\" style = \"margin-bottom: 6px;\"><thead><tr class = \"header\"><th class = \"rowNumber\" style = \"font-weight: bold; text-align: right;\">Row</th><th style = \"text-align: left;\">metabolite_name</th><th style = \"text-align: left;\">CompID</th><th style = \"text-align: left;\">SUPER.PATHWAY</th><th style = \"text-align: left;\">SUB.PATHWAY</th><th style = \"text-align: left;\">PLATFORM</th><th style = \"text-align: left;\">RI</th><th style = \"text-align: left;\">MASS</th><th style = \"text-align: left;\">PUBCHEM</th><th style = \"text-align: left;\">CAS</th><th style = \"text-align: left;\">KEGG</th><th style = \"text-align: left;\">HMDB</th></tr><tr class = \"subheader headerLastRow\"><th class = \"rowNumber\" style = \"font-weight: bold; text-align: right;\"></th><th title = \"String\" style = \"text-align: left;\">String</th><th title = \"String\" style = \"text-align: left;\">String</th><th title = \"String\" style = \"text-align: left;\">String</th><th title = \"String\" style = \"text-align: left;\">String</th><th title = \"String15\" style = \"text-align: left;\">String15</th><th title = \"Float64\" style = \"text-align: left;\">Float64</th><th title = \"Float64\" style = \"text-align: left;\">Float64</th><th title = \"String15\" style = \"text-align: left;\">String15</th><th title = \"String31\" style = \"text-align: left;\">String31</th><th title = \"String31\" style = \"text-align: left;\">String31</th><th title = \"String31\" style = \"text-align: left;\">String31</th></tr></thead><tbody><tr><td class = \"rowNumber\" style = \"font-weight: bold; text-align: right;\">1</td><td style = \"text-align: left;\">(14 or 15)-methylpalmitate (a17:0 or i17:0)</td><td style = \"text-align: left;\">comp0001</td><td style = \"text-align: left;\">Lipid</td><td style = \"text-align: left;\">Fatty Acid, Branched</td><td style = \"text-align: left;\">LC/MS Neg</td><td style = \"text-align: right;\">5695.0</td><td style = \"text-align: right;\">269.249</td><td style = \"text-align: left;\">NA</td><td style = \"text-align: left;\">NA</td><td style = \"text-align: left;\">NA</td><td style = \"text-align: left;\">NA</td></tr><tr><td class = \"rowNumber\" style = \"font-weight: bold; text-align: right;\">2</td><td style = \"text-align: left;\">(16 or 17)-methylstearate (a19:0 or i19:0)</td><td style = \"text-align: left;\">comp0002</td><td style = \"text-align: left;\">Lipid</td><td style = \"text-align: left;\">Fatty Acid, Branched</td><td style = \"text-align: left;\">LC/MS Neg</td><td style = \"text-align: right;\">5993.0</td><td style = \"text-align: right;\">297.28</td><td style = \"text-align: left;\">3083779</td><td style = \"text-align: left;\">2724-59-6</td><td style = \"text-align: left;\">NA</td><td style = \"text-align: left;\">HMDB37397</td></tr><tr><td class = \"rowNumber\" style = \"font-weight: bold; text-align: right;\">3</td><td style = \"text-align: left;\">(2 or 3)-decenoate (10:1n7 or n8)</td><td style = \"text-align: left;\">comp0003</td><td style = \"text-align: left;\">Lipid</td><td style = \"text-align: left;\">Medium Chain Fatty Acid</td><td style = \"text-align: left;\">LC/MS Neg</td><td style = \"text-align: right;\">4990.0</td><td style = \"text-align: right;\">169.123</td><td style = \"text-align: left;\">NA</td><td style = \"text-align: left;\">NA</td><td style = \"text-align: left;\">NA</td><td style = \"text-align: left;\">NA</td></tr></tbody></table></div>"
      ],
      "text/latex": [
       "\\begin{tabular}{r|ccccc}\n",
       "\t& metabolite\\_name & CompID & SUPER.PATHWAY & SUB.PATHWAY & \\\\\n",
       "\t\\hline\n",
       "\t& String & String & String & String & \\\\\n",
       "\t\\hline\n",
       "\t1 & (14 or 15)-methylpalmitate (a17:0 or i17:0) & comp0001 & Lipid & Fatty Acid, Branched & $\\dots$ \\\\\n",
       "\t2 & (16 or 17)-methylstearate (a19:0 or i19:0) & comp0002 & Lipid & Fatty Acid, Branched & $\\dots$ \\\\\n",
       "\t3 & (2 or 3)-decenoate (10:1n7 or n8) & comp0003 & Lipid & Medium Chain Fatty Acid & $\\dots$ \\\\\n",
       "\\end{tabular}\n"
      ],
      "text/plain": [
       "\u001b[1m3×11 DataFrame\u001b[0m\n",
       "\u001b[1m Row \u001b[0m│\u001b[1m metabolite_name                   \u001b[0m\u001b[1m CompID   \u001b[0m\u001b[1m SUPER.PATHWAY \u001b[0m\u001b[1m SUB.PATHWAY\u001b[0m ⋯\n",
       "     │\u001b[90m String                            \u001b[0m\u001b[90m String   \u001b[0m\u001b[90m String        \u001b[0m\u001b[90m String     \u001b[0m ⋯\n",
       "─────┼──────────────────────────────────────────────────────────────────────────\n",
       "   1 │ (14 or 15)-methylpalmitate (a17:…  comp0001  Lipid          Fatty Acid, ⋯\n",
       "   2 │ (16 or 17)-methylstearate (a19:0…  comp0002  Lipid          Fatty Acid,\n",
       "   3 │ (2 or 3)-decenoate (10:1n7 or n8)  comp0003  Lipid          Medium Chai\n",
       "\u001b[36m                                                               8 columns omitted\u001b[0m"
      ]
     },
     "execution_count": 25,
     "metadata": {},
     "output_type": "execute_result"
    }
   ],
   "source": [
    "first(dfRefMetabo, 3)"
   ]
  },
  {
   "cell_type": "markdown",
   "id": "4948a5d8",
   "metadata": {},
   "source": [
    "Keep metabolite_name, comp ID, super pathways and sub pathways."
   ]
  },
  {
   "cell_type": "code",
   "execution_count": 26,
   "id": "978154b1",
   "metadata": {},
   "outputs": [
    {
     "data": {
      "text/html": [
       "<div><div style = \"float: left;\"><span>3×4 DataFrame</span></div><div style = \"clear: both;\"></div></div><div class = \"data-frame\" style = \"overflow-x: scroll;\"><table class = \"data-frame\" style = \"margin-bottom: 6px;\"><thead><tr class = \"header\"><th class = \"rowNumber\" style = \"font-weight: bold; text-align: right;\">Row</th><th style = \"text-align: left;\">metabolite_name</th><th style = \"text-align: left;\">CompID</th><th style = \"text-align: left;\">SUPER.PATHWAY</th><th style = \"text-align: left;\">SUB.PATHWAY</th></tr><tr class = \"subheader headerLastRow\"><th class = \"rowNumber\" style = \"font-weight: bold; text-align: right;\"></th><th title = \"String\" style = \"text-align: left;\">String</th><th title = \"String\" style = \"text-align: left;\">String</th><th title = \"String\" style = \"text-align: left;\">String</th><th title = \"String\" style = \"text-align: left;\">String</th></tr></thead><tbody><tr><td class = \"rowNumber\" style = \"font-weight: bold; text-align: right;\">1</td><td style = \"text-align: left;\">(14 or 15)-methylpalmitate (a17:0 or i17:0)</td><td style = \"text-align: left;\">comp0001</td><td style = \"text-align: left;\">Lipid</td><td style = \"text-align: left;\">Fatty Acid, Branched</td></tr><tr><td class = \"rowNumber\" style = \"font-weight: bold; text-align: right;\">2</td><td style = \"text-align: left;\">(16 or 17)-methylstearate (a19:0 or i19:0)</td><td style = \"text-align: left;\">comp0002</td><td style = \"text-align: left;\">Lipid</td><td style = \"text-align: left;\">Fatty Acid, Branched</td></tr><tr><td class = \"rowNumber\" style = \"font-weight: bold; text-align: right;\">3</td><td style = \"text-align: left;\">(2 or 3)-decenoate (10:1n7 or n8)</td><td style = \"text-align: left;\">comp0003</td><td style = \"text-align: left;\">Lipid</td><td style = \"text-align: left;\">Medium Chain Fatty Acid</td></tr></tbody></table></div>"
      ],
      "text/latex": [
       "\\begin{tabular}{r|cccc}\n",
       "\t& metabolite\\_name & CompID & SUPER.PATHWAY & SUB.PATHWAY\\\\\n",
       "\t\\hline\n",
       "\t& String & String & String & String\\\\\n",
       "\t\\hline\n",
       "\t1 & (14 or 15)-methylpalmitate (a17:0 or i17:0) & comp0001 & Lipid & Fatty Acid, Branched \\\\\n",
       "\t2 & (16 or 17)-methylstearate (a19:0 or i19:0) & comp0002 & Lipid & Fatty Acid, Branched \\\\\n",
       "\t3 & (2 or 3)-decenoate (10:1n7 or n8) & comp0003 & Lipid & Medium Chain Fatty Acid \\\\\n",
       "\\end{tabular}\n"
      ],
      "text/plain": [
       "\u001b[1m3×4 DataFrame\u001b[0m\n",
       "\u001b[1m Row \u001b[0m│\u001b[1m metabolite_name                   \u001b[0m\u001b[1m CompID   \u001b[0m\u001b[1m SUPER.PATHWAY \u001b[0m\u001b[1m SUB.PATHWAY\u001b[0m ⋯\n",
       "     │\u001b[90m String                            \u001b[0m\u001b[90m String   \u001b[0m\u001b[90m String        \u001b[0m\u001b[90m String     \u001b[0m ⋯\n",
       "─────┼──────────────────────────────────────────────────────────────────────────\n",
       "   1 │ (14 or 15)-methylpalmitate (a17:…  comp0001  Lipid          Fatty Acid, ⋯\n",
       "   2 │ (16 or 17)-methylstearate (a19:0…  comp0002  Lipid          Fatty Acid,\n",
       "   3 │ (2 or 3)-decenoate (10:1n7 or n8)  comp0003  Lipid          Medium Chai\n",
       "\u001b[36m                                                                1 column omitted\u001b[0m"
      ]
     },
     "execution_count": 26,
     "metadata": {},
     "output_type": "execute_result"
    }
   ],
   "source": [
    "first(dfRefMetabo[:, Symbol.([\"metabolite_name\", \"CompID\", \"SUPER.PATHWAY\", \"SUB.PATHWAY\"])], 3)"
   ]
  },
  {
   "cell_type": "code",
   "execution_count": 27,
   "id": "02957982",
   "metadata": {},
   "outputs": [
    {
     "data": {
      "text/html": [
       "<div><div style = \"float: left;\"><span>3×4 DataFrame</span></div><div style = \"clear: both;\"></div></div><div class = \"data-frame\" style = \"overflow-x: scroll;\"><table class = \"data-frame\" style = \"margin-bottom: 6px;\"><thead><tr class = \"header\"><th class = \"rowNumber\" style = \"font-weight: bold; text-align: right;\">Row</th><th style = \"text-align: left;\">metabolite_name</th><th style = \"text-align: left;\">CompID</th><th style = \"text-align: left;\">SUPER.PATHWAY</th><th style = \"text-align: left;\">SUB.PATHWAY</th></tr><tr class = \"subheader headerLastRow\"><th class = \"rowNumber\" style = \"font-weight: bold; text-align: right;\"></th><th title = \"String\" style = \"text-align: left;\">String</th><th title = \"String\" style = \"text-align: left;\">String</th><th title = \"String\" style = \"text-align: left;\">String</th><th title = \"String\" style = \"text-align: left;\">String</th></tr></thead><tbody><tr><td class = \"rowNumber\" style = \"font-weight: bold; text-align: right;\">1</td><td style = \"text-align: left;\">ximenoylcarnitine (C26:1)*</td><td style = \"text-align: left;\">comp1172</td><td style = \"text-align: left;\">Lipid</td><td style = \"text-align: left;\">Fatty Acid Metabolism (Acyl Carnitine, Monounsaturated)</td></tr><tr><td class = \"rowNumber\" style = \"font-weight: bold; text-align: right;\">2</td><td style = \"text-align: left;\">xylose</td><td style = \"text-align: left;\">comp1173</td><td style = \"text-align: left;\">Carbohydrate</td><td style = \"text-align: left;\">Pentose Metabolism</td></tr><tr><td class = \"rowNumber\" style = \"font-weight: bold; text-align: right;\">3</td><td style = \"text-align: left;\">zolpidem</td><td style = \"text-align: left;\">comp1174</td><td style = \"text-align: left;\">Xenobiotics</td><td style = \"text-align: left;\">Drug - Psychoactive</td></tr></tbody></table></div>"
      ],
      "text/latex": [
       "\\begin{tabular}{r|cccc}\n",
       "\t& metabolite\\_name & CompID & SUPER.PATHWAY & SUB.PATHWAY\\\\\n",
       "\t\\hline\n",
       "\t& String & String & String & String\\\\\n",
       "\t\\hline\n",
       "\t1 & ximenoylcarnitine (C26:1)* & comp1172 & Lipid & Fatty Acid Metabolism (Acyl Carnitine, Monounsaturated) \\\\\n",
       "\t2 & xylose & comp1173 & Carbohydrate & Pentose Metabolism \\\\\n",
       "\t3 & zolpidem & comp1174 & Xenobiotics & Drug - Psychoactive \\\\\n",
       "\\end{tabular}\n"
      ],
      "text/plain": [
       "\u001b[1m3×4 DataFrame\u001b[0m\n",
       "\u001b[1m Row \u001b[0m│\u001b[1m metabolite_name            \u001b[0m\u001b[1m CompID   \u001b[0m\u001b[1m SUPER.PATHWAY \u001b[0m\u001b[1m SUB.PATHWAY       \u001b[0m ⋯\n",
       "     │\u001b[90m String                     \u001b[0m\u001b[90m String   \u001b[0m\u001b[90m String        \u001b[0m\u001b[90m String            \u001b[0m ⋯\n",
       "─────┼──────────────────────────────────────────────────────────────────────────\n",
       "   1 │ ximenoylcarnitine (C26:1)*  comp1172  Lipid          Fatty Acid Metabol ⋯\n",
       "   2 │ xylose                      comp1173  Carbohydrate   Pentose Metabolism\n",
       "   3 │ zolpidem                    comp1174  Xenobiotics    Drug - Psychoactiv\n",
       "\u001b[36m                                                                1 column omitted\u001b[0m"
      ]
     },
     "execution_count": 27,
     "metadata": {},
     "output_type": "execute_result"
    }
   ],
   "source": [
    "last(dfRefMetabo[:, Symbol.([\"metabolite_name\", \"CompID\", \"SUPER.PATHWAY\", \"SUB.PATHWAY\"])], 3)"
   ]
  },
  {
   "cell_type": "code",
   "execution_count": 28,
   "id": "5264386d",
   "metadata": {},
   "outputs": [],
   "source": [
    "# Select variables of interest and rename accordingly\n",
    "rename!(dfRefMetabo, Dict(Symbol(\"SUB.PATHWAY\") => \"SubPathway\", Symbol(\"SUPER.PATHWAY\") => \"SuperPathway\")) \n",
    "select!(dfRefMetabo, [:metabolite_name, :CompID, :SubPathway, :SuperPathway]);"
   ]
  },
  {
   "cell_type": "code",
   "execution_count": 29,
   "id": "f52fc807-c5e6-46d2-b915-333065628b2d",
   "metadata": {},
   "outputs": [],
   "source": [
    "# Create 2 new variables name SubClassID and SuperClassID that \n",
    "# contain a codification of pathways\n",
    "\n",
    "# Group by Super Pathway\n",
    "gdf = groupby(dfRefMetabo, :SuperPathway);\n",
    "\n",
    "nTotalSub = length(unique(dfRefMetabo.SubPathway))\n",
    "vInit = repeat([\"NA\"], nTotalSub);\n",
    "dfNewRef = DataFrame(SubPathway = vInit, SubClassID = vInit,\n",
    "                     SuperPathway = vInit, SuperClassID = vInit);"
   ]
  },
  {
   "cell_type": "code",
   "execution_count": 30,
   "id": "fd596145-0a66-4a02-9123-1a2f8612dc98",
   "metadata": {},
   "outputs": [],
   "source": [
    "# Generate pathway ID references for the metabolites\n",
    "idxStart = 1\n",
    "\n",
    "for i in 1:(length(gdf)-1)\n",
    "    vSub = unique(gdf[i].SubPathway)\n",
    "    nSub = length(vSub)\n",
    "    \n",
    "    idxEnd = idxStart + nSub - 1\n",
    "    \n",
    "    dfNewRef.SubPathway[idxStart:idxEnd] = vSub;\n",
    "    dfNewRef.SubClassID[idxStart:idxEnd] = uppercase(gdf[i].SuperPathway[1][1:3]).*string.(collect(1:nSub));\n",
    "    dfNewRef.SuperPathway[idxStart:idxEnd] .= gdf[i].SuperPathway[1];\n",
    "    dfNewRef.SuperClassID[idxStart:idxEnd] .= uppercase(gdf[i].SuperPathway[1][1:3]);\n",
    "    \n",
    "    idxStart = idxEnd + 1\n",
    "end"
   ]
  },
  {
   "cell_type": "code",
   "execution_count": 31,
   "id": "f5594c3f-0e46-4c06-bcca-72c3c53f0854",
   "metadata": {},
   "outputs": [],
   "source": [
    "# Initiatlize vector\n",
    "nMeta = size(dfRefMetabo, 1);\n",
    "vSubClass = repeat([\"NA\"], nMeta);\n",
    "vSupClass = repeat([\"NA\"], nMeta);\n",
    "\n",
    "for i in 1:length(dfNewRef.SubPathway)\n",
    "    idx = findall(dfRefMetabo.SubPathway.== dfNewRef.SubPathway[i])\n",
    "    vSubClass[idx] .= dfNewRef.SubClassID[i]\n",
    "    vSupClass[idx] .= dfNewRef.SuperClassID[i]\n",
    "end\n",
    "dfRefMetabo.SubClassID = vSubClass; \n",
    "dfRefMetabo.SuperClassID = vSupClass;\n",
    "\n",
    "\n",
    "# Insert 0 in SubID when ID number less than 10. It helps for sorting.\n",
    "idxSub2Change = findall(length.(dfRefMetabo.SubClassID) .== 4)\n",
    "for i in 1:length(idxSub2Change) \n",
    "    dfRefMetabo.SubClassID[idxSub2Change[i]] = dfRefMetabo.SubClassID[idxSub2Change[i]][1:3]*\"0\"*dfRefMetabo.SubClassID[idxSub2Change[i]][4]\n",
    "end"
   ]
  },
  {
   "cell_type": "markdown",
   "id": "07428037",
   "metadata": {},
   "source": [
    "#### Check cotinine bio chemical"
   ]
  },
  {
   "cell_type": "markdown",
   "id": "8846fd7d",
   "metadata": {},
   "source": [
    "The cotinine levels will be imputed differently if missing is more than 20%."
   ]
  },
  {
   "cell_type": "code",
   "execution_count": 32,
   "id": "22a9013a",
   "metadata": {},
   "outputs": [
    {
     "data": {
      "text/html": [
       "<div><div style = \"float: left;\"><span>5×6 DataFrame</span></div><div style = \"clear: both;\"></div></div><div class = \"data-frame\" style = \"overflow-x: scroll;\"><table class = \"data-frame\" style = \"margin-bottom: 6px;\"><thead><tr class = \"header\"><th class = \"rowNumber\" style = \"font-weight: bold; text-align: right;\">Row</th><th style = \"text-align: left;\">metabolite_name</th><th style = \"text-align: left;\">CompID</th><th style = \"text-align: left;\">SubPathway</th><th style = \"text-align: left;\">SuperPathway</th><th style = \"text-align: left;\">SubClassID</th><th style = \"text-align: left;\">SuperClassID</th></tr><tr class = \"subheader headerLastRow\"><th class = \"rowNumber\" style = \"font-weight: bold; text-align: right;\"></th><th title = \"String\" style = \"text-align: left;\">String</th><th title = \"String\" style = \"text-align: left;\">String</th><th title = \"String\" style = \"text-align: left;\">String</th><th title = \"String\" style = \"text-align: left;\">String</th><th title = \"String\" style = \"text-align: left;\">String</th><th title = \"String\" style = \"text-align: left;\">String</th></tr></thead><tbody><tr><td class = \"rowNumber\" style = \"font-weight: bold; text-align: right;\">1</td><td style = \"text-align: left;\">3-hydroxycotinine glucuronide</td><td style = \"text-align: left;\">comp0216</td><td style = \"text-align: left;\">Tobacco Metabolite</td><td style = \"text-align: left;\">Xenobiotics</td><td style = \"text-align: left;\">XEN09</td><td style = \"text-align: left;\">XEN</td></tr><tr><td class = \"rowNumber\" style = \"font-weight: bold; text-align: right;\">2</td><td style = \"text-align: left;\">cotinine</td><td style = \"text-align: left;\">comp0588</td><td style = \"text-align: left;\">Tobacco Metabolite</td><td style = \"text-align: left;\">Xenobiotics</td><td style = \"text-align: left;\">XEN09</td><td style = \"text-align: left;\">XEN</td></tr><tr><td class = \"rowNumber\" style = \"font-weight: bold; text-align: right;\">3</td><td style = \"text-align: left;\">cotinine N-oxide</td><td style = \"text-align: left;\">comp0589</td><td style = \"text-align: left;\">Tobacco Metabolite</td><td style = \"text-align: left;\">Xenobiotics</td><td style = \"text-align: left;\">XEN09</td><td style = \"text-align: left;\">XEN</td></tr><tr><td class = \"rowNumber\" style = \"font-weight: bold; text-align: right;\">4</td><td style = \"text-align: left;\">hydroxycotinine</td><td style = \"text-align: left;\">comp0808</td><td style = \"text-align: left;\">Tobacco Metabolite</td><td style = \"text-align: left;\">Xenobiotics</td><td style = \"text-align: left;\">XEN09</td><td style = \"text-align: left;\">XEN</td></tr><tr><td class = \"rowNumber\" style = \"font-weight: bold; text-align: right;\">5</td><td style = \"text-align: left;\">norcotinine</td><td style = \"text-align: left;\">comp0926</td><td style = \"text-align: left;\">Tobacco Metabolite</td><td style = \"text-align: left;\">Xenobiotics</td><td style = \"text-align: left;\">XEN09</td><td style = \"text-align: left;\">XEN</td></tr></tbody></table></div>"
      ],
      "text/latex": [
       "\\begin{tabular}{r|cccccc}\n",
       "\t& metabolite\\_name & CompID & SubPathway & SuperPathway & SubClassID & \\\\\n",
       "\t\\hline\n",
       "\t& String & String & String & String & String & \\\\\n",
       "\t\\hline\n",
       "\t1 & 3-hydroxycotinine glucuronide & comp0216 & Tobacco Metabolite & Xenobiotics & XEN09 & $\\dots$ \\\\\n",
       "\t2 & cotinine & comp0588 & Tobacco Metabolite & Xenobiotics & XEN09 & $\\dots$ \\\\\n",
       "\t3 & cotinine N-oxide & comp0589 & Tobacco Metabolite & Xenobiotics & XEN09 & $\\dots$ \\\\\n",
       "\t4 & hydroxycotinine & comp0808 & Tobacco Metabolite & Xenobiotics & XEN09 & $\\dots$ \\\\\n",
       "\t5 & norcotinine & comp0926 & Tobacco Metabolite & Xenobiotics & XEN09 & $\\dots$ \\\\\n",
       "\\end{tabular}\n"
      ],
      "text/plain": [
       "\u001b[1m5×6 DataFrame\u001b[0m\n",
       "\u001b[1m Row \u001b[0m│\u001b[1m metabolite_name               \u001b[0m\u001b[1m CompID   \u001b[0m\u001b[1m SubPathway         \u001b[0m\u001b[1m SuperPathw\u001b[0m ⋯\n",
       "     │\u001b[90m String                        \u001b[0m\u001b[90m String   \u001b[0m\u001b[90m String             \u001b[0m\u001b[90m String    \u001b[0m ⋯\n",
       "─────┼──────────────────────────────────────────────────────────────────────────\n",
       "   1 │ 3-hydroxycotinine glucuronide  comp0216  Tobacco Metabolite  Xenobiotic ⋯\n",
       "   2 │ cotinine                       comp0588  Tobacco Metabolite  Xenobiotic\n",
       "   3 │ cotinine N-oxide               comp0589  Tobacco Metabolite  Xenobiotic\n",
       "   4 │ hydroxycotinine                comp0808  Tobacco Metabolite  Xenobiotic\n",
       "   5 │ norcotinine                    comp0926  Tobacco Metabolite  Xenobiotic ⋯\n",
       "\u001b[36m                                                               3 columns omitted\u001b[0m"
      ]
     },
     "execution_count": 32,
     "metadata": {},
     "output_type": "execute_result"
    }
   ],
   "source": [
    "# check for cotinine\n",
    "idxCotinine = findall(occursin.(r\"(?i)cotinine\", dfRefMetabo.metabolite_name))\n",
    "dfRefMetabo[idxCotinine, :]"
   ]
  },
  {
   "cell_type": "markdown",
   "id": "f43fc7e1",
   "metadata": {},
   "source": [
    "#### Explore frequency table"
   ]
  },
  {
   "cell_type": "code",
   "execution_count": 33,
   "id": "2a1ef948",
   "metadata": {},
   "outputs": [
    {
     "data": {
      "text/plain": [
       "9-element Named Vector{Int64}\n",
       "Dim1                              │ \n",
       "──────────────────────────────────┼────\n",
       "Amino Acid                        │ 228\n",
       "Carbohydrate                      │  25\n",
       "Cofactors and Vitamins            │  43\n",
       "Energy                            │  11\n",
       "Lipid                             │ 435\n",
       "Nucleotide                        │  41\n",
       "Partially Characterized Molecules │  30\n",
       "Peptide                           │  43\n",
       "Xenobiotics                       │ 318"
      ]
     },
     "execution_count": 33,
     "metadata": {},
     "output_type": "execute_result"
    }
   ],
   "source": [
    "freqtable(dfRefMetabo.SuperPathway)"
   ]
  },
  {
   "cell_type": "code",
   "execution_count": 34,
   "id": "7fb1557b",
   "metadata": {
    "tags": []
   },
   "outputs": [],
   "source": [
    "idxLipid = findall(dfRefMetabo.SuperPathway .== \"Lipid\")\n",
    "freqtable(dfRefMetabo[idxLipid, :SubPathway]); #  |> show;"
   ]
  },
  {
   "cell_type": "markdown",
   "id": "1e84f1d4",
   "metadata": {},
   "source": [
    "#### Save processed individuals dataset:"
   ]
  },
  {
   "cell_type": "code",
   "execution_count": 35,
   "id": "f0bc9dd5",
   "metadata": {},
   "outputs": [],
   "source": [
    "fileRef = joinpath(@__DIR__,\"..\",\"..\",\"data\",\"processed\",\"SPIROMICS\",\"refMeta.csv\");\n",
    "dfRefMetabo |> CSV.write(fileRef);"
   ]
  },
  {
   "cell_type": "markdown",
   "id": "752c3933",
   "metadata": {
    "tags": []
   },
   "source": [
    "### Negative"
   ]
  },
  {
   "cell_type": "markdown",
   "id": "ee835658-4f7f-4ec0-b325-2c9b18a1802c",
   "metadata": {},
   "source": [
    "**Notes:** *The metabolics files use the metabolite name to identify each metabolite. We need to use an ID similar to the compound ID from the COPDGenegene cohort. Since compound IDs are not available we use the workbench metabolite IDs.*"
   ]
  },
  {
   "cell_type": "markdown",
   "id": "12906bfe",
   "metadata": {},
   "source": [
    "Filter `dfNegMetabo` sample according to the individuals dataframe `dfIndividuals`:"
   ]
  },
  {
   "cell_type": "markdown",
   "id": "cec54fc6",
   "metadata": {},
   "source": [
    "#### Keep complete cases"
   ]
  },
  {
   "cell_type": "code",
   "execution_count": 36,
   "id": "639c5595",
   "metadata": {
    "tags": []
   },
   "outputs": [],
   "source": [
    "dfNegMetabo = keepComplete(dfNegMetabo, dfIndividuals, dfRefMetabo; sampleCol = :SampleID, metaCol = :metabolite_name );"
   ]
  },
  {
   "cell_type": "markdown",
   "id": "3ae7eb2e",
   "metadata": {},
   "source": [
    "#### Save filtered sample negative metabolites levels dataset:"
   ]
  },
  {
   "cell_type": "code",
   "execution_count": 37,
   "id": "88ba5e27",
   "metadata": {},
   "outputs": [],
   "source": [
    "fileNeg = joinpath(@__DIR__,\"..\",\"..\",\"data\",\"processed\",\"SPIROMICS\",\"negMeta.csv\");\n",
    "dfNegMetabo |> CSV.write(fileNeg);"
   ]
  },
  {
   "cell_type": "code",
   "execution_count": 38,
   "id": "8822ae58",
   "metadata": {},
   "outputs": [
    {
     "name": "stdout",
     "output_type": "stream",
     "text": [
      "The negative metabolite dataset contains 372 samples and 588 metabolites.\n"
     ]
    }
   ],
   "source": [
    "println(\"The negative metabolite dataset contains $(size(dfNegMetabo, 2)-1) samples and $(size(dfNegMetabo, 1)) metabolites.\")"
   ]
  },
  {
   "cell_type": "markdown",
   "id": "94a144a4",
   "metadata": {
    "tags": []
   },
   "source": [
    "### Polar"
   ]
  },
  {
   "cell_type": "markdown",
   "id": "9aac2930",
   "metadata": {},
   "source": [
    "Filter `dfPolarMetabo` sample according to the individuals dataframe `dfIndividuals`:"
   ]
  },
  {
   "cell_type": "markdown",
   "id": "d781442c",
   "metadata": {},
   "source": [
    "#### Keep complete cases"
   ]
  },
  {
   "cell_type": "code",
   "execution_count": 39,
   "id": "997f4343",
   "metadata": {
    "tags": []
   },
   "outputs": [],
   "source": [
    "dfPolarMetabo = keepComplete(dfPolarMetabo, dfIndividuals, dfRefMetabo; sampleCol = :SampleID, metaCol = :metabolite_name );"
   ]
  },
  {
   "cell_type": "markdown",
   "id": "0a945c38",
   "metadata": {},
   "source": [
    "#### Save filtered sample polar metabolites levels dataset:"
   ]
  },
  {
   "cell_type": "code",
   "execution_count": 40,
   "id": "46ce61ad",
   "metadata": {},
   "outputs": [],
   "source": [
    "filePolar = joinpath(@__DIR__,\"..\",\"..\",\"data\",\"processed\",\"SPIROMICS\",\"polarMeta.csv\");\n",
    "dfPolarMetabo |> CSV.write(filePolar);"
   ]
  },
  {
   "cell_type": "code",
   "execution_count": 41,
   "id": "3b490106",
   "metadata": {},
   "outputs": [
    {
     "name": "stdout",
     "output_type": "stream",
     "text": [
      "The polar metabolite dataset contains 372 samples and 96 metabolites.\n"
     ]
    }
   ],
   "source": [
    "println(\"The polar metabolite dataset contains $(size(dfPolarMetabo, 2)-1) samples and $(size(dfPolarMetabo, 1)) metabolites.\")"
   ]
  },
  {
   "cell_type": "markdown",
   "id": "548a0c9c",
   "metadata": {
    "tags": []
   },
   "source": [
    "### Positive Early"
   ]
  },
  {
   "cell_type": "markdown",
   "id": "8c851c9b",
   "metadata": {},
   "source": [
    "Filter `dfPosEarlyMetabo` sample according to the individuals dataframe `dfIndividuals`:\n",
    "\n",
    "[Polar molecules elute earlier and nonpolar molecules later.](https://www.sciencedirect.com/topics/immunology-and-microbiology/metabolome-analysis)"
   ]
  },
  {
   "cell_type": "markdown",
   "id": "847cbdbd",
   "metadata": {},
   "source": [
    "#### Keep complete cases"
   ]
  },
  {
   "cell_type": "code",
   "execution_count": 42,
   "id": "af5df91c",
   "metadata": {
    "tags": []
   },
   "outputs": [],
   "source": [
    "dfPosEarlyMetabo = keepComplete(dfPosEarlyMetabo, dfIndividuals, dfRefMetabo; sampleCol = :SampleID, metaCol = :metabolite_name );"
   ]
  },
  {
   "cell_type": "markdown",
   "id": "8e1e0bbd",
   "metadata": {},
   "source": [
    "#### Save filtered sample positive early metabolites levels dataset:"
   ]
  },
  {
   "cell_type": "code",
   "execution_count": 43,
   "id": "6b97355e",
   "metadata": {},
   "outputs": [],
   "source": [
    "filePosEarly = joinpath(@__DIR__,\"..\",\"..\",\"data\",\"processed\",\"SPIROMICS\",\"posEarlyMeta.csv\");\n",
    "dfPosEarlyMetabo |> CSV.write(filePosEarly);"
   ]
  },
  {
   "cell_type": "code",
   "execution_count": 44,
   "id": "5ea85c0e",
   "metadata": {},
   "outputs": [
    {
     "name": "stdout",
     "output_type": "stream",
     "text": [
      "The positive early metabolite dataset contains 372 samples and 258 metabolites.\n"
     ]
    }
   ],
   "source": [
    "println(\"The positive early metabolite dataset contains $(size(dfPosEarlyMetabo, 2)-1) samples and $(size(dfPosEarlyMetabo, 1)) metabolites.\")"
   ]
  },
  {
   "cell_type": "markdown",
   "id": "d336ef9a",
   "metadata": {
    "tags": []
   },
   "source": [
    "### Positive Late"
   ]
  },
  {
   "cell_type": "markdown",
   "id": "9e9c3fb1",
   "metadata": {},
   "source": [
    "Filter `dfPosLateMetabo` sample according to the individuals dataframe `dfIndividuals`:\n",
    "\n",
    "[Polar molecules elute earlier and nonpolar molecules later.](https://www.sciencedirect.com/topics/immunology-and-microbiology/metabolome-analysis)"
   ]
  },
  {
   "cell_type": "markdown",
   "id": "f88fe610",
   "metadata": {},
   "source": [
    "#### Keep complete cases"
   ]
  },
  {
   "cell_type": "code",
   "execution_count": 45,
   "id": "913f68d5",
   "metadata": {
    "tags": []
   },
   "outputs": [],
   "source": [
    "dfPosLateMetabo = keepComplete(dfPosLateMetabo, dfIndividuals, dfRefMetabo; sampleCol = :SampleID, metaCol = :metabolite_name );"
   ]
  },
  {
   "cell_type": "markdown",
   "id": "8815d2f2",
   "metadata": {},
   "source": [
    "#### Save filtered sample positive late metabolites levels dataset:"
   ]
  },
  {
   "cell_type": "code",
   "execution_count": 46,
   "id": "af9a1c1f",
   "metadata": {},
   "outputs": [],
   "source": [
    "filePosLate = joinpath(@__DIR__,\"..\",\"..\",\"data\",\"processed\",\"SPIROMICS\",\"posLateMeta.csv\");\n",
    "dfPosLateMetabo |> CSV.write(filePosLate);"
   ]
  },
  {
   "cell_type": "code",
   "execution_count": 47,
   "id": "35cd3896",
   "metadata": {},
   "outputs": [
    {
     "name": "stdout",
     "output_type": "stream",
     "text": [
      "The positive late metabolite dataset contains 372 samples and 232 metabolites.\n"
     ]
    }
   ],
   "source": [
    "println(\"The positive late metabolite dataset contains $(size(dfPosLateMetabo, 2)-1) samples and $(size(dfPosLateMetabo, 1)) metabolites.\")"
   ]
  },
  {
   "cell_type": "code",
   "execution_count": 48,
   "id": "80a2aad9-1d50-40a9-9e38-edaef3f74c63",
   "metadata": {},
   "outputs": [
    {
     "data": {
      "text/plain": [
       "6-element Vector{String}:\n",
       " \"metabolite_name\"\n",
       " \"CompID\"\n",
       " \"SubPathway\"\n",
       " \"SuperPathway\"\n",
       " \"SubClassID\"\n",
       " \"SuperClassID\""
      ]
     },
     "execution_count": 48,
     "metadata": {},
     "output_type": "execute_result"
    }
   ],
   "source": [
    "names(dfRefMetabo)"
   ]
  },
  {
   "cell_type": "code",
   "execution_count": 49,
   "id": "76762427-0392-4c1c-9b32-1876d20c3f0e",
   "metadata": {},
   "outputs": [],
   "source": [
    "# innerjoin(dfRefMetabo[:, [:metabolite_name, :CompID]], dfPosLateMetabo, on = :metabolite_name);"
   ]
  },
  {
   "cell_type": "code",
   "execution_count": 50,
   "id": "1f28b115-3c41-424a-884d-7d35a86acd01",
   "metadata": {},
   "outputs": [],
   "source": [
    "# dfPosLateMetabo.metabolite_name ⊆ dfRefMetabo.metabolite_name"
   ]
  },
  {
   "cell_type": "code",
   "execution_count": 51,
   "id": "acfd8205-3b20-4570-847e-38029e63970e",
   "metadata": {
    "lines_to_next_cell": 0
   },
   "outputs": [],
   "source": [
    "# fileList = joinpath(@__DIR__,\"..\",\"..\",\"data\",\"processed\",\"SPIROMICS\",\"list.csv\");\n",
    "# DataFrame(Name = dfPosLateMetabo.metabolite_name) |> CSV.write(fileList);"
   ]
  },
  {
   "cell_type": "code",
   "execution_count": null,
   "id": "5829460f-cf76-4727-821f-94ed9b2a6502",
   "metadata": {
    "lines_to_next_cell": 2
   },
   "outputs": [],
   "source": []
  }
 ],
 "metadata": {
  "jupytext": {
   "encoding": "# -*- coding: utf-8 -*-",
   "formats": "ipynb,jl:light"
  },
  "kernelspec": {
   "display_name": "Julia 1.8.2",
   "language": "julia",
   "name": "julia-1.8"
  },
  "language_info": {
   "file_extension": ".jl",
   "mimetype": "application/julia",
   "name": "julia",
   "version": "1.8.2"
  }
 },
 "nbformat": 4,
 "nbformat_minor": 5
}
