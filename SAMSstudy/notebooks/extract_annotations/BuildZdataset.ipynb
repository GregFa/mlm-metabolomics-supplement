{
 "cells": [
  {
   "cell_type": "markdown",
   "id": "1057663f-3ffc-412a-8ab1-b4b705622357",
   "metadata": {},
   "source": [
    "# Buidling data set to generate Z matrix, based on Goslin\n",
    "---"
   ]
  },
  {
   "cell_type": "markdown",
   "id": "505351ec-c41c-4855-8d02-9da1c36e0dc2",
   "metadata": {},
   "source": [
    "This notebook generates data sets to build our Z matrices based on our model:       \n",
    "    \n",
    "        𝐘 = 𝐗 𝛃 𝐙' + 𝐄 , where    \n",
    "\n",
    "- 𝐘 is the outcome data matrix (trigliceride levels)\n",
    "- 𝐗 is a design matrix constructed from individual covariates (phenotype status, whether they were taking fish oil)\n",
    "- 𝛃 is the coefficient matrices to estimate\n",
    "- 𝐙 is a design matrix constructed from outcome covariates (e.g., information about the triglicerides)\n",
    "- 𝐄 is random error assumed to have mean zero, independent across individuals, but possibly correlated across outcomes\n",
    "\n",
    "Goslin is a Lipid Shorthand Nomenclature Grammars and uses ANTLRv4 compatible context-free EBNF grammars; we use the R package `rgoslin` to extract lipids information such as oxidation, number of double bonds... "
   ]
  },
  {
   "cell_type": "markdown",
   "id": "da71ad82-f268-4942-8ccc-b1943c79ffda",
   "metadata": {},
   "source": [
    "## Input"
   ]
  },
  {
   "cell_type": "markdown",
   "id": "f70cbbb5-da38-4474-ad95-367ca47fc77c",
   "metadata": {},
   "source": [
    "### Libraries"
   ]
  },
  {
   "cell_type": "code",
   "execution_count": 1,
   "id": "25588b1c-4472-4766-97c3-6bf433e614cf",
   "metadata": {},
   "outputs": [],
   "source": [
    "# To use RCall for the first time, one needs to \n",
    "# the location of the R home directory.\n",
    "firstTimeRCall = false\n",
    "if firstTimeRCall\n",
    "    using Pkg\n",
    "    io = IOBuffer()\n",
    "    versioninfo(io)\n",
    "    if occursin(\"Windows\", String(take!(io)))\n",
    "        ENV[\"R_HOME\"] = \"C:/PROGRA~1/R/R-44~1.0\" # from R.home() in R\n",
    "    else \n",
    "        ENV[\"R_HOME\"] = \"/usr/lib/R\"\n",
    "\n",
    "    end\n",
    "    Pkg.build(\"RCall\")\n",
    "end         "
   ]
  },
  {
   "cell_type": "code",
   "execution_count": 1,
   "id": "3e947e2a-1df9-405e-bcd9-d99ac61a3d42",
   "metadata": {},
   "outputs": [],
   "source": [
    "using CSV, DataFrames, DataFramesMeta, Missings, CategoricalArrays\n",
    "using StatsBase\n",
    "# using StatsBase, Statistics, MultivariateStats, MatrixLM, Random, Distributions\n",
    "using RCall\n",
    "# using LinearAlgebra, RCall\n",
    "# using FreqTables, Plots\n",
    "# using StatsPlots"
   ]
  },
  {
   "cell_type": "markdown",
   "id": "ad583b9a-5688-470f-bfb4-af9c5f129369",
   "metadata": {},
   "source": [
    "### Ext. Functions"
   ]
  },
  {
   "cell_type": "code",
   "execution_count": 2,
   "id": "a723c2ec-2347-44c0-811c-d25c2a8d7bb4",
   "metadata": {},
   "outputs": [],
   "source": [
    "include(joinpath(@__DIR__,\"..\", \"..\",\"src\",\"utils.jl\" ));"
   ]
  },
  {
   "cell_type": "markdown",
   "id": "4e2ce0f5-f94c-47d2-b958-8b666172d2a6",
   "metadata": {},
   "source": [
    "### Load data"
   ]
  },
  {
   "cell_type": "markdown",
   "id": "e9eac1c0-b526-4d72-a13f-68b78831af6d",
   "metadata": {},
   "source": [
    "Load look up table for the positive lipids."
   ]
  },
  {
   "cell_type": "code",
   "execution_count": 3,
   "id": "dff4c303-847d-4908-a670-85fadb8efabe",
   "metadata": {},
   "outputs": [],
   "source": [
    "# Load look up table `dfXref` contains the negative and the positve lipid ID (e.g., posLip1762) \n",
    "# and the original names of the potential identified lipids molecule (e.g. 4_TG(22:4_22:4_22:4)+NH4)\n",
    "lipidsXref = realpath((@__DIR__)*\"/../../data/data_processed/inl2b_Lipids_Xref.csv\")\n",
    "dfXref = DataFrame(CSV.File(lipidsXref));"
   ]
  },
  {
   "cell_type": "markdown",
   "id": "95aa5949-b32e-4ee4-a596-41d2fff00e89",
   "metadata": {},
   "source": [
    "## Extract first candidate of each lipids ID"
   ]
  },
  {
   "cell_type": "markdown",
   "id": "2e5b0a82-3eef-4911-abba-ef8d9a23829f",
   "metadata": {},
   "source": [
    "Create a column containing the first cleaned candidate."
   ]
  },
  {
   "cell_type": "code",
   "execution_count": 4,
   "id": "0273aba6-5299-44da-8608-21216d4602f5",
   "metadata": {
    "tags": []
   },
   "outputs": [],
   "source": [
    "dfXref.Lipids = string.(map(x -> getLipName(x), dfXref.OriginalNames));"
   ]
  },
  {
   "cell_type": "markdown",
   "id": "5fbcc711-983d-4e9f-bc97-ecd4ddfe7342",
   "metadata": {},
   "source": [
    "Let create extra columns that include information about oxydation (\"Ox\") and plasmogen information (\"plasmanyl\" or \"plasmenyl\"):"
   ]
  },
  {
   "cell_type": "code",
   "execution_count": 5,
   "id": "62489c1f-27c1-4bca-943e-0969babfeaf3",
   "metadata": {
    "tags": []
   },
   "outputs": [],
   "source": [
    "# Create oxydation and plasmogen column\n",
    "dfXref.Oxidation = repeat([\"no\"], size(dfXref)[1]);\n",
    "dfXref.Plasmalogen = repeat([\"no\"], size(dfXref)[1]);"
   ]
  },
  {
   "cell_type": "markdown",
   "id": "05461280-7a2b-4a05-9b7c-f7af1d1acb1d",
   "metadata": {},
   "source": [
    "Example:"
   ]
  },
  {
   "cell_type": "code",
   "execution_count": 6,
   "id": "b276e434-9d6e-404d-841b-5c0c96c814dc",
   "metadata": {},
   "outputs": [
    {
     "data": {
      "text/html": [
       "<div><div style = \"float: left;\"><span>3×5 DataFrame</span></div><div style = \"clear: both;\"></div></div><div class = \"data-frame\" style = \"overflow-x: scroll;\"><table class = \"data-frame\" style = \"margin-bottom: 6px;\"><thead><tr class = \"header\"><th class = \"rowNumber\" style = \"font-weight: bold; text-align: right;\">Row</th><th style = \"text-align: left;\">lipID</th><th style = \"text-align: left;\">OriginalNames</th><th style = \"text-align: left;\">Lipids</th><th style = \"text-align: left;\">Oxidation</th><th style = \"text-align: left;\">Plasmalogen</th></tr><tr class = \"subheader headerLastRow\"><th class = \"rowNumber\" style = \"font-weight: bold; text-align: right;\"></th><th title = \"String15\" style = \"text-align: left;\">String15</th><th title = \"String\" style = \"text-align: left;\">String</th><th title = \"String\" style = \"text-align: left;\">String</th><th title = \"String\" style = \"text-align: left;\">String</th><th title = \"String\" style = \"text-align: left;\">String</th></tr></thead><tbody><tr><td class = \"rowNumber\" style = \"font-weight: bold; text-align: right;\">1</td><td style = \"text-align: left;\">posLip73</td><td style = \"text-align: left;\">1_PC(14:0_16:0)+H</td><td style = \"text-align: left;\">PC(14:0/16:0)</td><td style = \"text-align: left;\">no</td><td style = \"text-align: left;\">no</td></tr><tr><td class = \"rowNumber\" style = \"font-weight: bold; text-align: right;\">2</td><td style = \"text-align: left;\">posLip74</td><td style = \"text-align: left;\">1_PC(14:0_20:4)+H</td><td style = \"text-align: left;\">PC(14:0/20:4)</td><td style = \"text-align: left;\">no</td><td style = \"text-align: left;\">no</td></tr><tr><td class = \"rowNumber\" style = \"font-weight: bold; text-align: right;\">3</td><td style = \"text-align: left;\">posLip274</td><td style = \"text-align: left;\">1_TG(16:0_20:4_22:6)+NH4</td><td style = \"text-align: left;\">TG(16:0/20:4/22:6)</td><td style = \"text-align: left;\">no</td><td style = \"text-align: left;\">no</td></tr></tbody></table></div>"
      ],
      "text/latex": [
       "\\begin{tabular}{r|ccccc}\n",
       "\t& lipID & OriginalNames & Lipids & Oxidation & Plasmalogen\\\\\n",
       "\t\\hline\n",
       "\t& String15 & String & String & String & String\\\\\n",
       "\t\\hline\n",
       "\t1 & posLip73 & 1\\_PC(14:0\\_16:0)+H & PC(14:0/16:0) & no & no \\\\\n",
       "\t2 & posLip74 & 1\\_PC(14:0\\_20:4)+H & PC(14:0/20:4) & no & no \\\\\n",
       "\t3 & posLip274 & 1\\_TG(16:0\\_20:4\\_22:6)+NH4 & TG(16:0/20:4/22:6) & no & no \\\\\n",
       "\\end{tabular}\n"
      ],
      "text/plain": [
       "\u001b[1m3×5 DataFrame\u001b[0m\n",
       "\u001b[1m Row \u001b[0m│\u001b[1m lipID     \u001b[0m\u001b[1m OriginalNames            \u001b[0m\u001b[1m Lipids             \u001b[0m\u001b[1m Oxidation \u001b[0m\u001b[1m Pla\u001b[0m ⋯\n",
       "     │\u001b[90m String15  \u001b[0m\u001b[90m String                   \u001b[0m\u001b[90m String             \u001b[0m\u001b[90m String    \u001b[0m\u001b[90m Str\u001b[0m ⋯\n",
       "─────┼──────────────────────────────────────────────────────────────────────────\n",
       "   1 │ posLip73   1_PC(14:0_16:0)+H         PC(14:0/16:0)       no         no  ⋯\n",
       "   2 │ posLip74   1_PC(14:0_20:4)+H         PC(14:0/20:4)       no         no\n",
       "   3 │ posLip274  1_TG(16:0_20:4_22:6)+NH4  TG(16:0/20:4/22:6)  no         no\n",
       "\u001b[36m                                                                1 column omitted\u001b[0m"
      ]
     },
     "metadata": {},
     "output_type": "display_data"
    }
   ],
   "source": [
    "# dfXref[sample(1:size(dfXref)[1], 3, replace= false),:] # 3 random lipids\n",
    "dfXref[[495, 496, 696],:]"
   ]
  },
  {
   "cell_type": "markdown",
   "id": "d35de6aa-7ce7-464d-aff0-7794bebd3d47",
   "metadata": {},
   "source": [
    "We need to convert the nomenclature to be compatible with `GOSLIN` package nomenclature and fill in `Oxidation` and `Plasmalogen` columns:"
   ]
  },
  {
   "cell_type": "code",
   "execution_count": 7,
   "id": "71bcade3-7488-4557-b445-d5667e69ff90",
   "metadata": {},
   "outputs": [],
   "source": [
    "# Clean Names \n",
    "for i in 1:size(dfXref)[1]\n",
    "    dfXref.Lipids[i] = replace(dfXref.Lipids[i], \"-H\"=>\"\")\n",
    "    dfXref.Lipids[i] = replace(dfXref.Lipids[i], \"SPLASH_\"=>\"\")\n",
    "    dfXref.Lipids[i] = replace(dfXref.Lipids[i], \"SPLASH/\"=>\"\")\n",
    "    if occursin(\"AcCar\", dfXref.Lipids[i])\n",
    "        dfXref.Lipids[i] = replace(dfXref.Lipids[i], \"AcCar\"=>\"CAR\" )\n",
    "    else\n",
    "        if occursin(r\"(?i)plasmenyl-\", dfXref.Lipids[i])\n",
    "            dfXref.Lipids[i] = replace(dfXref.Lipids[i], r\"(?i)plasmenyl-\"=>\"\" )\n",
    "            dfXref.Plasmalogen[i] = \"plasmenyl\"\n",
    "        else\n",
    "            if occursin(r\"(?i)plasmanyl-\", dfXref.Lipids[i])\n",
    "            dfXref.Lipids[i] = replace(dfXref.Lipids[i], r\"(?i)plasmanyl-\"=>\"\" )\n",
    "            dfXref.Plasmalogen[i] = \"plasmanyl\"\n",
    "            else\n",
    "                if occursin(\"Cer-NS\", dfXref.Lipids[i])\n",
    "                    dfXref.Lipids[i] = replace(dfXref.Lipids[i], \"Cer-NS\"=>\"Cer\" )\n",
    "                else\n",
    "                    if occursin(\"Ox\", dfXref.Lipids[i])\n",
    "                        dfXref.Lipids[i] = replace(dfXref.Lipids[i], \"Ox\"=>\"\")\n",
    "                        dfXref.Oxidation[i] = \"yes\"\n",
    "                    else\n",
    "                        if occursin(\"AcCa(\", dfXref.Lipids[i])\n",
    "                                dfXref.Lipids[i] = replace(dfXref.Lipids[i], \"AcCa(\"=>\"CAR(\" )\n",
    "                        end\n",
    "                    end\n",
    "                end\n",
    "            end\n",
    "        end\n",
    "    end\n",
    "    \n",
    "    \n",
    "end"
   ]
  },
  {
   "cell_type": "code",
   "execution_count": 8,
   "id": "d93de784-519f-431b-9379-6fbb21e4f4df",
   "metadata": {},
   "outputs": [
    {
     "data": {
      "text/plain": [
       "\"TG(18:8/20:2/20:5)\""
      ]
     },
     "metadata": {},
     "output_type": "display_data"
    }
   ],
   "source": [
    "replace(\"TG(18:8_20:2_20:5)\", \"_\" => \"/\")"
   ]
  },
  {
   "cell_type": "markdown",
   "id": "0e5dba9a-31d6-4686-ab71-7ad6ebf0a888",
   "metadata": {},
   "source": [
    "### Save intermediate results"
   ]
  },
  {
   "cell_type": "code",
   "execution_count": 9,
   "id": "1aef8f4e-7dcf-4a3c-8b95-33b5fdbff2f0",
   "metadata": {},
   "outputs": [
    {
     "data": {
      "text/plain": [
       "\"../../data/data_processed/dfXrefTest.csv\""
      ]
     },
     "metadata": {},
     "output_type": "display_data"
    }
   ],
   "source": [
    "# realpath((@__DIR__)*\"/../../data/dataprocessed/\")\n",
    "\n",
    "dfXref |> CSV.write(\"../../data/data_processed/dfXrefTest.csv\")"
   ]
  },
  {
   "cell_type": "markdown",
   "id": "c4189bd4-7a92-4828-83f4-4c8d25d0fa10",
   "metadata": {},
   "source": [
    "## Build Z data sets"
   ]
  },
  {
   "cell_type": "markdown",
   "id": "51e52b0c-ea6d-468e-ab22-cd3e87a16baa",
   "metadata": {},
   "source": [
    "To build our raw Z dataset:\n",
    "* we check the validity of the nomenclature grammar and filter invalid ones\n",
    "* we filter the class of lipids of interest, for example we can keep only Triglycerides by filtering lipids containing the string \"TG\". "
   ]
  },
  {
   "cell_type": "markdown",
   "id": "81af9000-f53a-400c-a2a8-f11055a44803",
   "metadata": {
    "tags": []
   },
   "source": [
    "### Build Z data set containing only Triglycerides"
   ]
  },
  {
   "cell_type": "code",
   "execution_count": 10,
   "id": "93fa0f08-82a3-4748-9873-f999302934ad",
   "metadata": {},
   "outputs": [
    {
     "data": {
      "text/plain": [
       "RObject{StrSxp}\n",
       " [1] \"lubridate\" \"forcats\"   \"stringr\"   \"dplyr\"     \"purrr\"     \"readr\"    \n",
       " [7] \"tidyr\"     \"tibble\"    \"ggplot2\"   \"tidyverse\" \"rgoslin\"   \"stats\"    \n",
       "[13] \"graphics\"  \"grDevices\" \"utils\"     \"datasets\"  \"methods\"   \"base\"     \n"
      ]
     },
     "metadata": {},
     "output_type": "display_data"
    }
   ],
   "source": [
    "R\"\"\"\n",
    "suppressMessages(library(rgoslin))\n",
    "suppressMessages(library(tidyverse));\n",
    "\"\"\""
   ]
  },
  {
   "cell_type": "code",
   "execution_count": 11,
   "id": "74d60b11-293b-4fee-8ba0-b38a895b540a",
   "metadata": {},
   "outputs": [],
   "source": [
    "@rput dfXref;"
   ]
  },
  {
   "cell_type": "markdown",
   "id": "a9713407-3608-4371-a9dd-8ea1d3c8ae21",
   "metadata": {},
   "source": [
    "#### Lipids goup  preselection: triglycerides"
   ]
  },
  {
   "cell_type": "code",
   "execution_count": 12,
   "id": "542ce1aa-3671-4de9-8f3e-d422b29035f5",
   "metadata": {
    "tags": []
   },
   "outputs": [],
   "source": [
    "R\"\"\"\n",
    "# check validity\n",
    "dfXref$Valid <- suppressWarnings(sapply(dfXref$Lipids, isValidLipidName))\n",
    "\n",
    "# filter for valid and TG lipids\n",
    "dfXref <- dfXref %>% filter(Valid) %>% filter(str_detect(Lipids, \"TG\"))\n",
    "\n",
    "# get lipids information: total C and Double Bonds \n",
    "dfGoslin <- as_tibble(parseLipidNames(dfXref$Lipids))[, c(\"Original.Name\", \"Total.C\", \"Total.DB\", \"Lipid.Maps.Main.Class\")];\n",
    "\n",
    "# change columns name\n",
    "names(dfGoslin) <- c(\"Lipids\", \"Total_C\", \"Total_DB\", \"Class\")\n",
    "\n",
    "# dfGoslin <- right_join(subset(dfXref, select = -c(Valid)), dfGoslin) # remove Valid col\n",
    "dfGoslin <- cbind(subset(dfXref, select = -c(Valid)), subset(dfGoslin, select = c(\"Total_C\", \"Total_DB\", \"Class\")))\n",
    "\n",
    "\"\"\"\n",
    "@rget dfGoslin;"
   ]
  },
  {
   "cell_type": "markdown",
   "id": "a15133c8-afe6-49f8-a410-71801bf67ce0",
   "metadata": {},
   "source": [
    "We added two additional information: total number of carbon and total number of double bound."
   ]
  },
  {
   "cell_type": "code",
   "execution_count": 15,
   "id": "b4de7445-21c8-4fe6-9e19-ff47e3ec57ba",
   "metadata": {
    "tags": []
   },
   "outputs": [],
   "source": [
    "# Parse Total_C and Total_DB\n",
    "# dfGoslin.Total_C =parse.(Int64, dfGoslin.Total_C);\n",
    "# dfGoslin.Total_DB =parse.(Int64, dfGoslin.Total_DB);"
   ]
  },
  {
   "cell_type": "markdown",
   "id": "8fff4626-24c1-4b7c-a1fa-dfcf0f8125c6",
   "metadata": {},
   "source": [
    "#### Save raw triglycerides Z matrix"
   ]
  },
  {
   "cell_type": "code",
   "execution_count": 16,
   "id": "c2f7f989-efec-4cca-ac43-8cca7b31105b",
   "metadata": {},
   "outputs": [
    {
     "data": {
      "text/plain": [
       "\"../../data/data_processed/ZmatRawTG.csv\""
      ]
     },
     "metadata": {},
     "output_type": "display_data"
    }
   ],
   "source": [
    "dfGoslin |> CSV.write(\"../../data/data_processed/ZmatRawTG.csv\")"
   ]
  },
  {
   "cell_type": "markdown",
   "id": "2c65b99d-277c-4aa0-8c01-2b02a1716732",
   "metadata": {
    "tags": []
   },
   "source": [
    "### Build Z matrix-PE, PC, PA"
   ]
  },
  {
   "cell_type": "code",
   "execution_count": 51,
   "id": "4bd99d48-0638-49aa-aaed-afcd92289ebb",
   "metadata": {},
   "outputs": [
    {
     "data": {
      "text/plain": [
       "RObject{StrSxp}\n",
       " [1] \"forcats\"   \"stringr\"   \"dplyr\"     \"purrr\"     \"readr\"     \"tidyr\"    \n",
       " [7] \"tibble\"    \"ggplot2\"   \"tidyverse\" \"rgoslin\"   \"stats\"     \"graphics\" \n",
       "[13] \"grDevices\" \"utils\"     \"datasets\"  \"methods\"   \"base\"     \n"
      ]
     },
     "execution_count": 51,
     "metadata": {},
     "output_type": "execute_result"
    }
   ],
   "source": [
    "R\"\"\"\n",
    "suppressMessages(library(rgoslin))\n",
    "suppressMessages(library(tidyverse));\n",
    "\"\"\""
   ]
  },
  {
   "cell_type": "code",
   "execution_count": 52,
   "id": "31eb86d6-5afd-467c-92b4-17937f34b08a",
   "metadata": {},
   "outputs": [],
   "source": [
    "@rput dfXref;"
   ]
  },
  {
   "cell_type": "markdown",
   "id": "db224170-72c5-4716-a0ed-6e0b185fd41f",
   "metadata": {},
   "source": [
    "#### Lipids goup  preselection: phospholipids"
   ]
  },
  {
   "cell_type": "code",
   "execution_count": 57,
   "id": "32c20efc-58d7-4377-9b6c-9d537280280a",
   "metadata": {
    "tags": []
   },
   "outputs": [
    {
     "name": "stdout",
     "output_type": "stream",
     "text": [
      "Joining, by = \"Lipids\"\n"
     ]
    }
   ],
   "source": [
    "R\"\"\"\n",
    "# check validity\n",
    "dfXref$Valid <- suppressWarnings(sapply(dfXref$Lipids, isValidLipidName))\n",
    "\n",
    "# filter for valid and Phospholipids\n",
    "dfXref <- dfXref %>% filter(Valid) %>% filter(str_detect(Lipids, \"PE|PC|PA\")) %>% \n",
    "            filter(!str_detect(Lipids, \"TG\")) %>% # remove Plasmalogen TG \n",
    "            filter(!str_detect(Lipids, \"L\")) # remove Lysophospholipids\n",
    "\n",
    "# get lipids information: total C and Double Bonds \n",
    "dfGoslin <- as_tibble(parseLipidNames(dfXref$Lipids))[, c(\"Original Name\", \"Total C\", \"Total DB\", \"Lipid Maps Main Class\")];\n",
    "\n",
    "# change columns name\n",
    "names(dfGoslin) <- c(\"Lipids\", \"Total_C\", \"Total_DB\", \"Class\")\n",
    "\n",
    "dfGoslin <- right_join(subset(dfXref, select = -c(Valid)), dfGoslin) # remove Valid col\n",
    "\n",
    "\"\"\"\n",
    "@rget dfGoslin;"
   ]
  },
  {
   "cell_type": "markdown",
   "id": "d766c738-ae93-440e-ae0e-1325213498d8",
   "metadata": {},
   "source": [
    "We added two additional information: total number of carbon and total number of double bound."
   ]
  },
  {
   "cell_type": "code",
   "execution_count": 58,
   "id": "3cbff3f5-fa1f-48e7-8c5d-822bf4142441",
   "metadata": {
    "tags": []
   },
   "outputs": [],
   "source": [
    "# Parse Total_C and Total_DB\n",
    "dfGoslin.Total_C =parse.(Int64, dfGoslin.Total_C);\n",
    "dfGoslin.Total_DB =parse.(Int64, dfGoslin.Total_DB);"
   ]
  },
  {
   "cell_type": "markdown",
   "id": "8fe43e45-6ffa-47d4-9b0c-c2c6fbab247f",
   "metadata": {},
   "source": [
    "#### Save raw phospholipids Z matrix"
   ]
  },
  {
   "cell_type": "code",
   "execution_count": 59,
   "id": "393b7ec3-7c75-4178-a087-005b25b36dd7",
   "metadata": {},
   "outputs": [
    {
     "data": {
      "text/plain": [
       "\"../../data/data_processed/ZmatRawPhos.csv\""
      ]
     },
     "execution_count": 59,
     "metadata": {},
     "output_type": "execute_result"
    }
   ],
   "source": [
    "dfGoslin |> CSV.write(\"../../data/data_processed/ZmatRawPhos.csv\")"
   ]
  },
  {
   "cell_type": "markdown",
   "id": "0c66ca38-9db8-412d-a85f-79d7d078bf37",
   "metadata": {
    "tags": []
   },
   "source": [
    "### Build Z matrix- all lipids"
   ]
  },
  {
   "cell_type": "code",
   "execution_count": 11,
   "id": "7ebcfed6-83ef-460a-bd62-8e84da796792",
   "metadata": {},
   "outputs": [
    {
     "data": {
      "text/plain": [
       "RObject{StrSxp}\n",
       " [1] \"forcats\"   \"stringr\"   \"dplyr\"     \"purrr\"     \"readr\"     \"tidyr\"    \n",
       " [7] \"tibble\"    \"ggplot2\"   \"tidyverse\" \"rgoslin\"   \"stats\"     \"graphics\" \n",
       "[13] \"grDevices\" \"utils\"     \"datasets\"  \"methods\"   \"base\"     \n"
      ]
     },
     "execution_count": 11,
     "metadata": {},
     "output_type": "execute_result"
    }
   ],
   "source": [
    "R\"\"\"\n",
    "suppressMessages(library(rgoslin))\n",
    "suppressMessages(library(tidyverse));\n",
    "\"\"\""
   ]
  },
  {
   "cell_type": "code",
   "execution_count": 12,
   "id": "5cf463e6-4227-4ef6-bf21-38ce89999d99",
   "metadata": {},
   "outputs": [],
   "source": [
    "@rput dfXref;"
   ]
  },
  {
   "cell_type": "markdown",
   "id": "9f75c8eb-b46e-409e-aace-28842d38feff",
   "metadata": {
    "tags": []
   },
   "source": [
    "#### Lipids goup  preselection: all lipids"
   ]
  },
  {
   "cell_type": "code",
   "execution_count": 13,
   "id": "c4f4562f-3db1-41ac-b4af-b45dacbaf947",
   "metadata": {
    "collapsed": true,
    "jupyter": {
     "outputs_hidden": true
    },
    "tags": []
   },
   "outputs": [
    {
     "name": "stderr",
     "output_type": "stream",
     "text": [
      "┌ Warning: RCall.jl: Warning in rcpp_is_valid_lipid_name(lipidName) :\n",
      "│   Parsing of lipid name 'Cer-AS(d18:1/24:0)' caused an exception: Lipid not found\n",
      "│ Warning in rcpp_is_valid_lipid_name(lipidName) :\n",
      "│   Parsing of lipid name 'Cer-NDS(d18:0/24:0)' caused an exception: Lipid not found\n",
      "│ Warning in rcpp_is_valid_lipid_name(lipidName) :\n",
      "│   Parsing of lipid name 'Cer-NDS(d18:0/22:0)' caused an exception: Lipid not found\n",
      "│ Warning in rcpp_is_valid_lipid_name(lipidName) :\n",
      "│   Parsing of lipid name 'LPC(18:1(d7))' caused an exception: Lipid not found\n",
      "│ Warning in rcpp_is_valid_lipid_name(lipidName) :\n",
      "│   Parsing of lipid name 'LPE(18:1(d7))' caused an exception: Lipid not found\n",
      "│ Warning in rcpp_is_valid_lipid_name(lipidName) :\n",
      "│   Parsing of lipid name 'NeuAcalpha2-3Galbeta1-4Glcbeta-Cer(d40:1)' caused an exception: Lipid not found\n",
      "│ Warning in rcpp_is_valid_lipid_name(lipidName) :\n",
      "│   Parsing of lipid name 'NeuAcalpha2-3Galbeta1-4Glcbeta-Cer(d34:1)' caused an exception: Lipid not found\n",
      "│ Warning in rcpp_is_valid_lipid_name(lipidName) :\n",
      "│   Parsing of lipid name 'NeuAcalpha2-3Galbeta1-4Glcbeta-Cer(d42:1)' caused an exception: Lipid not found\n",
      "│ Warning in rcpp_is_valid_lipid_name(lipidName) :\n",
      "│   Parsing of lipid name 'PC(15:0/18:1(d7))' caused an exception: Lipid not found\n",
      "│ Warning in rcpp_is_valid_lipid_name(lipidName) :\n",
      "│   Parsing of lipid name 'PG(15:0/18:1(d7))' caused an exception: Lipid not found\n",
      "│ Warning in rcpp_is_valid_lipid_name(lipidName) :\n",
      "│   Parsing of lipid name 'PE(15:0/18:1(d7))' caused an exception: Lipid not found\n",
      "│ Warning in rcpp_is_valid_lipid_name(lipidName) :\n",
      "│   Parsing of lipid name 'CL(18:0/20:2/22:0/22:6)-2H' caused an exception: Lipid not found\n",
      "│ Warning in rcpp_is_valid_lipid_name(lipidName) :\n",
      "│   Parsing of lipid name 'LPE(18:0)/1' caused an exception: Lipid not found\n",
      "│ Warning in rcpp_is_valid_lipid_name(lipidName) :\n",
      "│   Parsing of lipid name 'NeuAcalpha2-3Galbeta1-4Glcbeta-Cer(d18:1/24:1)' caused an exception: Lipid not found\n",
      "│ Warning in rcpp_is_valid_lipid_name(lipidName) :\n",
      "│   Parsing of lipid name 'LPC(22:3(OO))' caused an exception: Lipid not found\n",
      "│ Warning in rcpp_is_valid_lipid_name(lipidName) :\n",
      "│   Parsing of lipid name 'LPE(20:3(OO))' caused an exception: Lipid not found\n",
      "│ Warning in rcpp_is_valid_lipid_name(lipidName) :\n",
      "│   Parsing of lipid name 'PE(22:4/24:1(OO))' caused an exception: Lipid not found\n",
      "│ Warning in rcpp_is_valid_lipid_name(lipidName) :\n",
      "│   Parsing of lipid name 'PE(22:1/24:1(OO))' caused an exception: Lipid not found\n",
      "│ Warning in rcpp_is_valid_lipid_name(lipidName) :\n",
      "│   Parsing of lipid name 'LPE(P-18:1)/1' caused an exception: Lipid not found\n",
      "│ Warning in rcpp_is_valid_lipid_name(lipidName) :\n",
      "│   Parsing of lipid name 'Sulfatide(d14:1/20:0)' caused an exception: Lipid not found\n",
      "│ Warning in rcpp_is_valid_lipid_name(lipidName) :\n",
      "│   Parsing of lipid name 'Sulfatide(d15:1/22:0)' caused an exception: Lipid not found\n",
      "│ Warning in rcpp_is_valid_lipid_name(lipidName) :\n",
      "│   Parsing of lipid name 'Sulfatide(d15:1/20:0)' caused an exception: Lipid not found\n",
      "│ Warning in rcpp_is_valid_lipid_name(lipidName) :\n",
      "│   Parsing of lipid name 'Sulfatide(d19:1/18:1)' caused an exception: Lipid not found\n",
      "│ Warning in rcpp_is_valid_lipid_name(lipidName) :\n",
      "│   Parsing of lipid name 'Sulfatide(d18:1/16:0(2OH))' caused an exception: Lipid not found\n",
      "│ Warning in rcpp_is_valid_lipid_name(lipidName) :\n",
      "│   Parsing of lipid name 'Sulfatide(d15:1/24:4)' caused an exception: Lipid not found\n",
      "│ Warning in rcpp_is_valid_lipid_name(lipidName) :\n",
      "│   Parsing of lipid name 'Sulfatide(d15:1/24:1)' caused an exception: Lipid not found\n",
      "│ Warning in rcpp_is_valid_lipid_name(lipidName) :\n",
      "│   Parsing of lipid name 'Cer-NDS(d18:0/22:0)' caused an exception: Lipid not found\n",
      "│ Warning in rcpp_is_valid_lipid_name(lipidName) :\n",
      "│   Parsing of lipid name 'Cer-NDS(d18:0/23:0)' caused an exception: Lipid not found\n",
      "│ Warning in rcpp_is_valid_lipid_name(lipidName) :\n",
      "│   Parsing of lipid name 'PEG(n=3/NH4' caused an exception: Lipid not found\n",
      "│ Warning in rcpp_is_valid_lipid_name(lipidName) :\n",
      "│   Parsing of lipid name 'CE(18:1(d7))' caused an exception: Lipid not found\n",
      "│ Warning in rcpp_is_valid_lipid_name(lipidName) :\n",
      "│   Parsing of lipid name 'DG(15:0/18:1(d7))' caused an exception: Lipid not found\n",
      "│ Warning in rcpp_is_valid_lipid_name(lipidName) :\n",
      "│   Parsing of lipid name 'LPC(18:1(d7))' caused an exception: Lipid not found\n",
      "│ Warning in rcpp_is_valid_lipid_name(lipidName) :\n",
      "│   Parsing of lipid name 'LPE(18:1(d7))' caused an exception: Lipid not found\n",
      "│ Warning in rcpp_is_valid_lipid_name(lipidName) :\n",
      "│   Parsing of lipid name 'PC(15:0/18:1(d7))' caused an exception: Lipid not found\n",
      "│ Warning in rcpp_is_valid_lipid_name(lipidName) :\n",
      "│   Parsing of lipid name 'SM(d18:1/18:1(d9))' caused an exception: Lipid not found\n",
      "│ Warning in rcpp_is_valid_lipid_name(lipidName) :\n",
      "│   Parsing of lipid name 'TG(15:0/15:0/18:1(d7))' caused an exception: Lipid not found\n",
      "│ Warning in rcpp_is_valid_lipid_name(lipidName) :\n",
      "│   Parsing of lipid name 'Cer-NDS(d18:0/24:0)' caused an exception: Lipid not found\n",
      "│ Warning in rcpp_is_valid_lipid_name(lipidName) :\n",
      "│   Parsing of lipid name 'Cer-NDS(d18:0/24:1)' caused an exception: Lipid not found\n",
      "│ Warning in rcpp_is_valid_lipid_name(lipidName) :\n",
      "│   Parsing of lipid name 'Co(Q10)' caused an exception: Lipid not found\n",
      "│ Warning in rcpp_is_valid_lipid_name(lipidName) :\n",
      "│   Parsing of lipid name 'PEtOH(16:0/18:2)' caused an exception: Lipid not found\n",
      "│ Warning in rcpp_is_valid_lipid_name(lipidName) :\n",
      "│   Parsing of lipid name 'PEtOH(18:0/18:1)' caused an exception: Lipid not found\n",
      "│ Warning in rcpp_is_valid_lipid_name(lipidName) :\n",
      "│   Parsing of lipid name 'PEtOH(40:6)' caused an exception: Lipid not found\n",
      "│ Warning in rcpp_is_valid_lipid_name(lipidName) :\n",
      "│   Parsing of lipid name 'PMeOH(16:0/18:2)' caused an exception: Lipid not found\n",
      "│ Warning in rcpp_is_valid_lipid_name(lipidName) :\n",
      "│   Parsing of lipid name 'PMeOH(36:5)' caused an exception: Lipid not found\n",
      "│ Warning in rcpp_is_valid_lipid_name(lipidName) :\n",
      "│   Parsing of lipid name 'PE(33:1(d7))' caused an exception: Lipid not found\n",
      "│ Warning in rcpp_is_valid_lipid_name(lipidName) :\n",
      "│   Parsing of lipid name 'PG(15:0/18:1(d7))' caused an exception: Lipid not found\n",
      "│ Warning in rcpp_is_valid_lipid_name(lipidName) :\n",
      "│   Parsing of lipid name 'CAR(6DC)' caused an exception: Lipid not found\n",
      "│ Warning in rcpp_is_valid_lipid_name(lipidName) :\n",
      "│   Parsing of lipid name 'CerG1(d18:1/16:0)' caused an exception: Lipid not found\n",
      "│ Warning in rcpp_is_valid_lipid_name(lipidName) :\n",
      "│   Parsing of lipid name 'CerG1(d18:1/16:0)' caused an exception: Lipid not found\n",
      "│ Warning in rcpp_is_valid_lipid_name(lipidName) :\n",
      "│   Parsing of lipid name 'CerG1(d18:1/20:0)' caused an exception: Lipid not found\n",
      "│ Warning in rcpp_is_valid_lipid_name(lipidName) :\n",
      "│   Parsing of lipid name 'CerG1(d18:2/22:0)' caused an exception: Lipid not found\n",
      "│ Warning in rcpp_is_valid_lipid_name(lipidName) :\n",
      "│   Parsing of lipid name 'CerG1(d18:1/24:1)' caused an exception: Lipid not found\n",
      "│ Warning in rcpp_is_valid_lipid_name(lipidName) :\n",
      "│   Parsing of lipid name 'CerG2(d18:2/16:0)' caused an exception: Lipid not found\n",
      "│ Warning in rcpp_is_valid_lipid_name(lipidName) :\n",
      "│   Parsing of lipid name 'CerG2(d18:2/24:1)' caused an exception: Lipid not found\n",
      "│ Warning in rcpp_is_valid_lipid_name(lipidName) :\n",
      "│   Parsing of lipid name 'CerG2(d18:1/22:0)' caused an exception: Lipid not found\n",
      "│ Warning in rcpp_is_valid_lipid_name(lipidName) :\n",
      "│   Parsing of lipid name 'CerG2(d18:2/16:0)' caused an exception: Lipid not found\n",
      "│ Warning in rcpp_is_valid_lipid_name(lipidName) :\n",
      "│   Parsing of lipid name 'CerG2(d18:1/24:1)' caused an exception: Lipid not found\n",
      "│ Warning in rcpp_is_valid_lipid_name(lipidName) :\n",
      "│   Parsing of lipid name 'Co(Q7)' caused an exception: Lipid not found\n",
      "│ Warning in rcpp_is_valid_lipid_name(lipidName) :\n",
      "│   Parsing of lipid name 'Co(Q8)' caused an exception: Lipid not found\n",
      "│ Warning in rcpp_is_valid_lipid_name(lipidName) :\n",
      "│   Parsing of lipid name 'LPC(22:3(OO))' caused an exception: Lipid not found\n",
      "│ Warning in rcpp_is_valid_lipid_name(lipidName) :\n",
      "│   Parsing of lipid name 'LPE(22:3(OO))' caused an exception: Lipid not found\n",
      "│ Warning in rcpp_is_valid_lipid_name(lipidName) :\n",
      "│   Parsing of lipid name 'PC(15:1(OO)/22:3(OOOO))' caused an exception: Lipid not found\n",
      "│ Warning in rcpp_is_valid_lipid_name(lipidName) :\n",
      "│   Parsing of lipid name 'PC(15:1(OO)/20:1(OOOO))' caused an exception: Lipid not found\n",
      "│ Warning in rcpp_is_valid_lipid_name(lipidName) :\n",
      "│   Parsing of lipid name 'PC(16:1/22:4(OOOO))' caused an exception: Lipid not found\n",
      "│ Warning in rcpp_is_valid_lipid_name(lipidName) :\n",
      "│   Parsing of lipid name 'PC(18:4/20:4(OOOO))' caused an exception: Lipid not found\n",
      "│ Warning in rcpp_is_valid_lipid_name(lipidName) :\n",
      "│   Parsing of lipid name 'PC(18:4/22:3(OOOO))' caused an exception: Lipid not found\n",
      "│ Warning in rcpp_is_valid_lipid_name(lipidName) :\n",
      "│   Parsing of lipid name 'PC(18:2(OOH)/17:1(OOO))' caused an exception: Lipid not found\n",
      "│ Warning in rcpp_is_valid_lipid_name(lipidName) :\n",
      "│   Parsing of lipid name 'PC(20:0/24:1(OO))' caused an exception: Lipid not found\n",
      "│ Warning in rcpp_is_valid_lipid_name(lipidName) :\n",
      "│   Parsing of lipid name 'PC(8:0/22:2(OOOO))' caused an exception: Lipid not found\n",
      "│ Warning in rcpp_is_valid_lipid_name(lipidName) :\n",
      "│   Parsing of lipid name 'PE(18:4(OOO)/6:1(COOH))' caused an exception: Lipid not found\n",
      "│ Warning in rcpp_is_valid_lipid_name(lipidName) :\n",
      "│   Parsing of lipid name 'TG(14:0/16:1/24:1(OOO))' caused an exception: Lipid not found\n",
      "│ Warning in rcpp_is_valid_lipid_name(lipidName) :\n",
      "│   Parsing of lipid name 'TG(14:1(OH)/15:1(OOOO)/16:1)' caused an exception: Lipid not found\n",
      "│ Warning in rcpp_is_valid_lipid_name(lipidName) :\n",
      "│   Parsing of lipid name 'TG(14:1(OH)/15:1(OOOO)/14:0)' caused an exception: Lipid not found\n",
      "│ Warning in rcpp_is_valid_lipid_name(lipidName) :\n",
      "│   Parsing of lipid name 'TG(14:1(OH)/15:1(OOOO)/14:1)' caused an exception: Lipid not found\n",
      "│ Warning in rcpp_is_valid_lipid_name(lipidName) :\n",
      "│   Parsing of lipid name 'TG(14:1(OOO)/15:1(Ke,OH)/14:1)' caused an exception: Lipid not found\n",
      "│ Warning in rcpp_is_valid_lipid_name(lipidName) :\n",
      "│   Parsing of lipid name 'TG(14:0/18:0/22:4(OOO))' caused an exception: Lipid not found\n",
      "│ Warning in rcpp_is_valid_lipid_name(lipidName) :\n",
      "│   Parsing of lipid name 'TG(14:1(OOO)/15:1(Ke,OH)/14:1)' caused an exception: Lipid not found\n",
      "│ Warning in rcpp_is_valid_lipid_name(lipidName) :\n",
      "│   Parsing of lipid name 'TG(14:1(OH)/15:1(OOOO)/18:4)' caused an exception: Lipid not found\n",
      "│ Warning in rcpp_is_valid_lipid_name(lipidName) :\n",
      "│   Parsing of lipid name 'TG(14:1(OH)/18:1(OOOO)/18:1)' caused an exception: Lipid not found\n",
      "│ Warning in rcpp_is_valid_lipid_name(lipidName) :\n",
      "│   Parsing of lipid name 'TG(14:0/18:4/24:1(OOO))' caused an exception: Lipid not found\n",
      "│ Warning in rcpp_is_valid_lipid_name(lipidName) :\n",
      "│   Parsing of lipid name 'TG(14:1(OH)/18:1(OOOO)/18:1)' caused an exception: Lipid not found\n",
      "│ Warning in rcpp_is_valid_lipid_name(lipidName) :\n",
      "│   Parsing of lipid name 'TG(14:1(OH)/15:1(OOOO)/18:2)' caused an exception: Lipid not found\n",
      "│ Warning in rcpp_is_valid_lipid_name(lipidName) :\n",
      "│   Parsing of lipid name 'TG(14:1(OH)/15:1(OOOO)/16:0)' caused an exception: Lipid not found\n",
      "│ Warning in rcpp_is_valid_lipid_name(lipidName) :\n",
      "│   Parsing of lipid name 'TG(14:1(OOO)/17:2(Ke,OH)/14:1)' caused an exception: Lipid not found\n",
      "│ Warning in rcpp_is_valid_lipid_name(lipidName) :\n",
      "│   Parsing of lipid name 'TG(14:1(OH)/17:2(OOOO)/14:1)' caused an exception: Lipid not found\n",
      "│ Warning in rcpp_is_valid_lipid_name(lipidName) :\n",
      "│   Parsing of lipid name 'TG(14:0/18:2/24:1(OOO))' caused an exception: Lipid not found\n",
      "│ Warning in rcpp_is_valid_lipid_name(lipidName) :\n",
      "│   Parsing of lipid name 'TG(14:0/22:5/17:2(OOOO))' caused an exception: Lipid not found\n",
      "│ Warning in rcpp_is_valid_lipid_name(lipidName) :\n",
      "│   Parsing of lipid name 'TG(14:1(OH)/14:1(OOOO)/14:0)' caused an exception: Lipid not found\n",
      "│ Warning in rcpp_is_valid_lipid_name(lipidName) :\n",
      "│   Parsing of lipid name 'TG(14:1(OH)/20:1(OOOO)/18:0)' caused an exception: Lipid not found\n",
      "│ Warning in rcpp_is_valid_lipid_name(lipidName) :\n",
      "│   Parsing of lipid name 'TG(14:1(OH)/15:1(OOOO)/18:3)' caused an exception: Lipid not found\n",
      "│ Warning in rcpp_is_valid_lipid_name(lipidName) :\n",
      "│   Parsing of lipid name 'TG(14:1(OOO)/15:1(OOOO)/14:1)' caused an exception: Lipid not found\n",
      "│ Warning in rcpp_is_valid_lipid_name(lipidName) :\n",
      "│   Parsing of lipid name 'TG(14:0/18:3/24:1(OOO))' caused an exception: Lipid not found\n",
      "│ Warning in rcpp_is_valid_lipid_name(lipidName) :\n",
      "│   Parsing of lipid name 'TG(14:1(OH)/15:1(OOOO)/16:1)' caused an exception: Lipid not found\n",
      "│ Warning in rcpp_is_valid_lipid_name(lipidName) :\n",
      "│   Parsing of lipid name 'TG(14:1(OH)/15:1(OOOO)/14:0)' caused an exception: Lipid not found\n",
      "│ Warning in rcpp_is_valid_lipid_name(lipidName) :\n",
      "│   Parsing of lipid name 'TG(14:1(OH)/16:1(OOOO)/18:1)' caused an exception: Lipid not found\n",
      "│ Warning in rcpp_is_valid_lipid_name(lipidName) :\n",
      "│   Parsing of lipid name 'TG(14:1/22:6/17:2(OOOO))' caused an exception: Lipid not found\n",
      "│ Warning in rcpp_is_valid_lipid_name(lipidName) :\n",
      "│   Parsing of lipid name 'TG(14:1(OH)/15:1(OOOO)/14:1)' caused an exception: Lipid not found\n",
      "│ Warning in rcpp_is_valid_lipid_name(lipidName) :\n",
      "│   Parsing of lipid name 'TG(14:1(OH)/18:1(OOOO)/18:2)' caused an exception: Lipid not found\n",
      "│ Warning in rcpp_is_valid_lipid_name(lipidName) :\n",
      "│   Parsing of lipid name 'TG(14:1(OOO)/14:1(OOOO)/14:0)' caused an exception: Lipid not found\n",
      "│ Warning in rcpp_is_valid_lipid_name(lipidName) :\n",
      "│   Parsing of lipid name 'TG(14:1(OH)/14:1(OOOO)/16:0)' caused an exception: Lipid not found\n",
      "│ Warning in rcpp_is_valid_lipid_name(lipidName) :\n",
      "│   Parsing of lipid name 'TG(14:1(OOOO)/15:1(Ke,OH)/14:1)' caused an exception: Lipid not found\n",
      "│ Warning in rcpp_is_valid_lipid_name(lipidName) :\n",
      "│   Parsing of lipid name 'TG(14:1(OOO)/14:1(Ke,OH)/16:1)' caused an exception: Lipid not found\n",
      "│ Warning in rcpp_is_valid_lipid_name(lipidName) :\n",
      "│   Parsing of lipid name 'TG(14:1(OH)/15:1(OOOO)/18:3)' caused an exception: Lipid not found\n",
      "│ Warning in rcpp_is_valid_lipid_name(lipidName) :\n",
      "│   Parsing of lipid name 'TG(14:1(OH)/14:1(OOOO)/18:1)' caused an exception: Lipid not found\n",
      "│ Warning in rcpp_is_valid_lipid_name(lipidName) :\n",
      "│   Parsing of lipid name 'TG(14:1(OH)/17:2(OOOO)/14:1)' caused an exception: Lipid not found\n",
      "│ Warning in rcpp_is_valid_lipid_name(lipidName) :\n",
      "│   Parsing of lipid name 'TG(14:1(OOO)/15:1(Ke,OH)/18:4)' caused an exception: Lipid not found\n",
      "│ Warning in rcpp_is_valid_lipid_name(lipidName) :\n",
      "│   Parsing of lipid name 'TG(14:1(OO)/15:1(OOOO)/14:0)' caused an exception: Lipid not found\n",
      "│ Warning in rcpp_is_valid_lipid_name(lipidName) :\n",
      "│   Parsing of lipid name 'TG(14:1(OOO)/15:1(OOOO)/14:1)' caused an exception: Lipid not found\n",
      "│ Warning in rcpp_is_valid_lipid_name(lipidName) :\n",
      "│   Parsing of lipid name 'TG(14:1/22:6/17:2(OOOO))' caused an exception: Lipid not found\n",
      "│ Warning in rcpp_is_valid_lipid_name(lipidName) :\n",
      "│   Parsing of lipid name 'TG(14:1(OH)/14:1(OOOO)/14:1)' caused an exception: Lipid not found\n",
      "│ Warning in rcpp_is_valid_lipid_name(lipidName) :\n",
      "│   Parsing of lipid name 'TG(14:1(OH)/14:1(OOOO)/16:1)' caused an exception: Lipid not found\n",
      "│ Warning in rcpp_is_valid_lipid_name(lipidName) :\n",
      "│   Parsing of lipid name 'TG(14:1(OOO)/15:1(Ke,OH)/18:4)' caused an exception: Lipid not found\n",
      "│ Warning in rcpp_is_valid_lipid_name(lipidName) :\n",
      "│   Parsing of lipid name 'TG(14:1(OH)/14:1(OOOO)/18:0)' caused an exception: Lipid not found\n",
      "│ Warning in rcpp_is_valid_lipid_name(lipidName) :\n",
      "│   Parsing of lipid name 'TG(14:1(OH)/15:1(OOOO)/18:2)' caused an exception: Lipid not found\n",
      "│ Warning in rcpp_is_valid_lipid_name(lipidName) :\n",
      "│   Parsing of lipid name 'TG(14:1(OH)/20:1(OOOO)/20:4)' caused an exception: Lipid not found\n",
      "│ Warning in rcpp_is_valid_lipid_name(lipidName) :\n",
      "│   Parsing of lipid name 'TG(14:1(OO)/15:1(OOOO)/16:0)' caused an exception: Lipid not found\n",
      "│ Warning in rcpp_is_valid_lipid_name(lipidName) :\n",
      "│   Parsing of lipid name 'TG(14:1(OH)/15:1(OOOO)/18:2)' caused an exception: Lipid not found\n",
      "│ Warning in rcpp_is_valid_lipid_name(lipidName) :\n",
      "│   Parsing of lipid name 'TG(14:1(OOO)/18:1(OOOO)/18:0)' caused an exception: Lipid not found\n",
      "│ Warning in rcpp_is_valid_lipid_name(lipidName) :\n",
      "│   Parsing of lipid name 'TG(14:0/14:1/22:6(OOO))' caused an exception: Lipid not found\n",
      "│ Warning in rcpp_is_valid_lipid_name(lipidName) :\n",
      "│   Parsing of lipid name 'TG(14:1(OH)/14:1(OOOO)/18:0)' caused an exception: Lipid not found\n",
      "│ Warning in rcpp_is_valid_lipid_name(lipidName) :\n",
      "│   Parsing of lipid name 'TG(14:1(OH)/17:1(OOOO)/18:2)' caused an exception: Lipid not found\n",
      "│ Warning in rcpp_is_valid_lipid_name(lipidName) :\n",
      "│   Parsing of lipid name 'TG(15:1(OOO)/18:1(OOOO)/18:2)' caused an exception: Lipid not found\n",
      "│ Warning in rcpp_is_valid_lipid_name(lipidName) :\n",
      "│   Parsing of lipid name 'So(d19:1)' caused an exception: Lipid not found\n",
      "│ Warning in rcpp_is_valid_lipid_name(lipidName) :\n",
      "│   Parsing of lipid name 'Sulfatide(d15:0/22:0)' caused an exception: Lipid not found\n",
      "│ Warning in rcpp_is_valid_lipid_name(lipidName) :\n",
      "│   Parsing of lipid name 'Sulfatide(d16:0/2:0)' caused an exception: Lipid not found\n",
      "│ Warning in rcpp_is_valid_lipid_name(lipidName) :\n",
      "│   Parsing of lipid name 'Sulfatide(d18:1/18:1(2OH))' caused an exception: Lipid not found\n",
      "│ Warning in rcpp_is_valid_lipid_name(lipidName) :\n",
      "│   Parsing of lipid name 'Sulfatide(d14:0/24:0)' caused an exception: Lipid not found\n",
      "│ Warning in rcpp_is_valid_lipid_name(lipidName) :\n",
      "│   Parsing of lipid name 'Sulfatide(d15:0/22:0)' caused an exception: Lipid not found\n",
      "│ Warning in rcpp_is_valid_lipid_name(lipidName) :\n",
      "│   Parsing of lipid name 'Sulfatide(d14:0/24:0)' caused an exception: Lipid not found\n",
      "└ @ RCall C:\\Users\\Fenril-Fractal\\.julia\\packages\\RCall\\iMDW2\\src\\io.jl:160\n"
     ]
    },
    {
     "name": "stdout",
     "output_type": "stream",
     "text": [
      "[1] 2186    6\n",
      "[1] 2057    6\n"
     ]
    }
   ],
   "source": [
    "R\"\"\"\n",
    "# check validity\n",
    "dfXref$Valid <- sapply(dfXref$Lipids, isValidLipidName)\n",
    "\n",
    "print(dim(dfXref))\n",
    "\n",
    "# filter for valid Lipids nomenclature\n",
    "dfXref <- dfXref %>% filter(Valid)\n",
    "\n",
    "print(dim(dfXref))\n",
    "# get lipids information: total C and Double Bonds \n",
    "parseLipidNames(dfXref$Lipids[c(1:1)])#[, c(\"Original Name\", \"Total C\", \"Total DB\", \"Lipid Maps Main Class\")];\n",
    "\n",
    "# change columns name\n",
    "# names(dfGoslin) <- c(\"Lipids\", \"Total_C\", \"Total_DB\", \"Class\")\n",
    "#print(dim(dfXref))\n",
    "\n",
    "\n",
    "\"\"\"\n",
    "# @rget dfGoslin;"
   ]
  },
  {
   "cell_type": "code",
   "execution_count": 14,
   "id": "83988e34-2901-43cb-90b0-1c96717e7472",
   "metadata": {},
   "outputs": [
    {
     "data": {
      "text/plain": [
       "5-element Vector{String}:\n",
       " \"lipID\"\n",
       " \"OriginalNames\"\n",
       " \"Lipids\"\n",
       " \"Oxidation\"\n",
       " \"Plasmalogen\""
      ]
     },
     "execution_count": 14,
     "metadata": {},
     "output_type": "execute_result"
    }
   ],
   "source": [
    "names(dfXref)"
   ]
  },
  {
   "cell_type": "code",
   "execution_count": 15,
   "id": "a3ef32f5-9273-41da-af7c-c023b3175e3a",
   "metadata": {},
   "outputs": [
    {
     "data": {
      "text/html": [
       "<table class=\"data-frame\"><thead><tr><th></th><th>lipID</th><th>OriginalNames</th></tr><tr><th></th><th>String</th><th>String</th></tr></thead><tbody><p>2,057 rows × 6 columns (omitted printing of 4 columns)</p><tr><th>1</th><td>negLip4</td><td>1_Cer-NS(d18:1/24:0)+HCO2 | 1_Cer-NS(d27:1/15:0)+HCO2</td></tr><tr><th>2</th><td>negLip5</td><td>1_Cer-NS(d18:2/24:0)+HCO2 | 1_Cer-NS(d18:1/24:1)+HCO2 | 1_Cer-NS(d20:2/22:0)+HCO2</td></tr><tr><th>3</th><td>negLip6</td><td>1_Cer-NS(d18:1/22:0)+HCO2 | 1_Cer-NS(d16:1/24:0)+HCO2 | 1_Cer-NS(d17:1/23:0)+HCO2</td></tr><tr><th>4</th><td>negLip7</td><td>1_Cer-NS(d18:1/23:0)+HCO2 | 1_Cer-NS(d17:1/24:0)+HCO2</td></tr><tr><th>5</th><td>negLip8</td><td>1_Cer-NS(d18:1/16:0)+HCO2</td></tr><tr><th>6</th><td>negLip9</td><td>1_Cer-NS(d18:2/24:1)+HCO2 | 1_Cer-NS(d18:1/24:2)+HCO2 | 1_Cer-NS(d20:2/22:1)+HCO2</td></tr><tr><th>7</th><td>negLip10</td><td>1_Cer-NS(d18:1/20:0)+HCO2 | 1_Cer-NS(d16:1/22:0)+HCO2</td></tr><tr><th>8</th><td>negLip11</td><td>1_Cer-NS(d18:2/22:0)+HCO2</td></tr><tr><th>9</th><td>negLip12</td><td>1_Cer-NS(d18:1/18:0)+HCO2</td></tr><tr><th>10</th><td>negLip13</td><td>1_Cer-NS(d18:2/23:0)+HCO2</td></tr><tr><th>11</th><td>negLip14</td><td>1_DMPE(16:0_22:5)-H | 1_PE(18:0_22:5)-H</td></tr><tr><th>12</th><td>negLip15</td><td>1_DMPE(16:0_20:4)-H</td></tr><tr><th>13</th><td>negLip16</td><td>1_HexCer-NS(d18:1/22:0)+HCO2</td></tr><tr><th>14</th><td>negLip17</td><td>1_LPC(14:0)+HCO2</td></tr><tr><th>15</th><td>negLip18</td><td>1_LPC(15:0)+HCO2</td></tr><tr><th>16</th><td>negLip19</td><td>1_LPC(16:0)+HCO2</td></tr><tr><th>17</th><td>negLip20</td><td>1_LPC(16:1)+HCO2</td></tr><tr><th>18</th><td>negLip21</td><td>1_LPC(17:0)+HCO2</td></tr><tr><th>19</th><td>negLip22</td><td>1_LPC(18:0)+HCO2</td></tr><tr><th>20</th><td>negLip23</td><td>1_LPC(18:1)+HCO2</td></tr><tr><th>21</th><td>negLip24</td><td>1_LPC(18:2)+HCO2</td></tr><tr><th>22</th><td>negLip25</td><td>1_LPC(18:3)+HCO2</td></tr><tr><th>23</th><td>negLip26</td><td>1_LPC(19:0)+HCO2</td></tr><tr><th>24</th><td>negLip27</td><td>1_LPC(19:0)+HCO2_1</td></tr><tr><th>25</th><td>negLip28</td><td>1_LPC(20:3)+HCO2</td></tr><tr><th>26</th><td>negLip29</td><td>1_LPC(20:4)+HCO2</td></tr><tr><th>27</th><td>negLip30</td><td>1_LPC(20:5)+HCO2</td></tr><tr><th>28</th><td>negLip31</td><td>1_LPC(22:5)+HCO2</td></tr><tr><th>29</th><td>negLip32</td><td>1_LPC(22:6)+HCO2</td></tr><tr><th>30</th><td>negLip33</td><td>1_LPE(16:0)-H</td></tr><tr><th>&vellip;</th><td>&vellip;</td><td>&vellip;</td></tr></tbody></table>"
      ],
      "text/latex": [
       "\\begin{tabular}{r|ccc}\n",
       "\t& lipID & OriginalNames & \\\\\n",
       "\t\\hline\n",
       "\t& String & String & \\\\\n",
       "\t\\hline\n",
       "\t1 & negLip4 & 1\\_Cer-NS(d18:1/24:0)+HCO2 | 1\\_Cer-NS(d27:1/15:0)+HCO2 & $\\dots$ \\\\\n",
       "\t2 & negLip5 & 1\\_Cer-NS(d18:2/24:0)+HCO2 | 1\\_Cer-NS(d18:1/24:1)+HCO2 | 1\\_Cer-NS(d20:2/22:0)+HCO2 & $\\dots$ \\\\\n",
       "\t3 & negLip6 & 1\\_Cer-NS(d18:1/22:0)+HCO2 | 1\\_Cer-NS(d16:1/24:0)+HCO2 | 1\\_Cer-NS(d17:1/23:0)+HCO2 & $\\dots$ \\\\\n",
       "\t4 & negLip7 & 1\\_Cer-NS(d18:1/23:0)+HCO2 | 1\\_Cer-NS(d17:1/24:0)+HCO2 & $\\dots$ \\\\\n",
       "\t5 & negLip8 & 1\\_Cer-NS(d18:1/16:0)+HCO2 & $\\dots$ \\\\\n",
       "\t6 & negLip9 & 1\\_Cer-NS(d18:2/24:1)+HCO2 | 1\\_Cer-NS(d18:1/24:2)+HCO2 | 1\\_Cer-NS(d20:2/22:1)+HCO2 & $\\dots$ \\\\\n",
       "\t7 & negLip10 & 1\\_Cer-NS(d18:1/20:0)+HCO2 | 1\\_Cer-NS(d16:1/22:0)+HCO2 & $\\dots$ \\\\\n",
       "\t8 & negLip11 & 1\\_Cer-NS(d18:2/22:0)+HCO2 & $\\dots$ \\\\\n",
       "\t9 & negLip12 & 1\\_Cer-NS(d18:1/18:0)+HCO2 & $\\dots$ \\\\\n",
       "\t10 & negLip13 & 1\\_Cer-NS(d18:2/23:0)+HCO2 & $\\dots$ \\\\\n",
       "\t11 & negLip14 & 1\\_DMPE(16:0\\_22:5)-H | 1\\_PE(18:0\\_22:5)-H & $\\dots$ \\\\\n",
       "\t12 & negLip15 & 1\\_DMPE(16:0\\_20:4)-H & $\\dots$ \\\\\n",
       "\t13 & negLip16 & 1\\_HexCer-NS(d18:1/22:0)+HCO2 & $\\dots$ \\\\\n",
       "\t14 & negLip17 & 1\\_LPC(14:0)+HCO2 & $\\dots$ \\\\\n",
       "\t15 & negLip18 & 1\\_LPC(15:0)+HCO2 & $\\dots$ \\\\\n",
       "\t16 & negLip19 & 1\\_LPC(16:0)+HCO2 & $\\dots$ \\\\\n",
       "\t17 & negLip20 & 1\\_LPC(16:1)+HCO2 & $\\dots$ \\\\\n",
       "\t18 & negLip21 & 1\\_LPC(17:0)+HCO2 & $\\dots$ \\\\\n",
       "\t19 & negLip22 & 1\\_LPC(18:0)+HCO2 & $\\dots$ \\\\\n",
       "\t20 & negLip23 & 1\\_LPC(18:1)+HCO2 & $\\dots$ \\\\\n",
       "\t21 & negLip24 & 1\\_LPC(18:2)+HCO2 & $\\dots$ \\\\\n",
       "\t22 & negLip25 & 1\\_LPC(18:3)+HCO2 & $\\dots$ \\\\\n",
       "\t23 & negLip26 & 1\\_LPC(19:0)+HCO2 & $\\dots$ \\\\\n",
       "\t24 & negLip27 & 1\\_LPC(19:0)+HCO2\\_1 & $\\dots$ \\\\\n",
       "\t25 & negLip28 & 1\\_LPC(20:3)+HCO2 & $\\dots$ \\\\\n",
       "\t26 & negLip29 & 1\\_LPC(20:4)+HCO2 & $\\dots$ \\\\\n",
       "\t27 & negLip30 & 1\\_LPC(20:5)+HCO2 & $\\dots$ \\\\\n",
       "\t28 & negLip31 & 1\\_LPC(22:5)+HCO2 & $\\dots$ \\\\\n",
       "\t29 & negLip32 & 1\\_LPC(22:6)+HCO2 & $\\dots$ \\\\\n",
       "\t30 & negLip33 & 1\\_LPE(16:0)-H & $\\dots$ \\\\\n",
       "\t$\\dots$ & $\\dots$ & $\\dots$ &  \\\\\n",
       "\\end{tabular}\n"
      ],
      "text/plain": [
       "\u001b[1m2057×6 DataFrame\u001b[0m\n",
       "\u001b[1m  Row \u001b[0m│\u001b[1m lipID      \u001b[0m\u001b[1m OriginalNames                     \u001b[0m\u001b[1m Lipids             \u001b[0m\u001b[1m Oxi\u001b[0m ⋯\n",
       "\u001b[1m      \u001b[0m│\u001b[90m String     \u001b[0m\u001b[90m String                            \u001b[0m\u001b[90m String             \u001b[0m\u001b[90m Str\u001b[0m ⋯\n",
       "──────┼─────────────────────────────────────────────────────────────────────────\n",
       "    1 │ negLip4     1_Cer-NS(d18:1/24:0)+HCO2 | 1_Ce…  Cer(d18:1/24:0)     no  ⋯\n",
       "    2 │ negLip5     1_Cer-NS(d18:2/24:0)+HCO2 | 1_Ce…  Cer(d18:2/24:0)     no\n",
       "    3 │ negLip6     1_Cer-NS(d18:1/22:0)+HCO2 | 1_Ce…  Cer(d18:1/22:0)     no\n",
       "    4 │ negLip7     1_Cer-NS(d18:1/23:0)+HCO2 | 1_Ce…  Cer(d18:1/23:0)     no\n",
       "    5 │ negLip8     1_Cer-NS(d18:1/16:0)+HCO2          Cer(d18:1/16:0)     no  ⋯\n",
       "    6 │ negLip9     1_Cer-NS(d18:2/24:1)+HCO2 | 1_Ce…  Cer(d18:2/24:1)     no\n",
       "    7 │ negLip10    1_Cer-NS(d18:1/20:0)+HCO2 | 1_Ce…  Cer(d18:1/20:0)     no\n",
       "    8 │ negLip11    1_Cer-NS(d18:2/22:0)+HCO2          Cer(d18:2/22:0)     no\n",
       "    9 │ negLip12    1_Cer-NS(d18:1/18:0)+HCO2          Cer(d18:1/18:0)     no  ⋯\n",
       "   10 │ negLip13    1_Cer-NS(d18:2/23:0)+HCO2          Cer(d18:2/23:0)     no\n",
       "   11 │ negLip14    1_DMPE(16:0_22:5)-H | 1_PE(18:0_…  DMPE(16:0/22:5)     no\n",
       "  ⋮   │     ⋮                       ⋮                          ⋮               ⋱\n",
       " 2048 │ posLip1755  4_TG(22:2_22:2_23:0)+NH4 | 4_TG(…  TG(22:2/22:2/23:0)  no\n",
       " 2049 │ posLip1756  4_TG(22:2_22:2_23:0)+NH4 | 4_TG(…  TG(22:2/22:2/23:0)  no  ⋯\n",
       " 2050 │ posLip1757  4_TG(22:2_22:2_23:0)+NH4 | 4_TG(…  TG(22:2/22:2/23:0)  no\n",
       " 2051 │ posLip1758  4_TG(22:3_22:4_22:4)+NH4 | 4_TG(…  TG(22:3/22:4/22:4)  no\n",
       " 2052 │ posLip1759  4_TG(22:3_22:4_22:4)+NH4 | 4_TG(…  TG(22:3/22:4/22:4)  no\n",
       " 2053 │ posLip1760  4_TG(22:3_22:4_22:4)+NH4 | 4_TG(…  TG(22:3/22:4/22:4)  no  ⋯\n",
       " 2054 │ posLip1761  4_TG(22:4_22:4_22:4)+NH4 | 4_TG(…  TG(22:4/22:4/22:4)  no\n",
       " 2055 │ posLip1762  4_TG(22:4_22:4_22:4)+NH4 | 4_TG(…  TG(22:4/22:4/22:4)  no\n",
       " 2056 │ posLip1763  4_TG(22:6_22:6_24:1)+NH4           TG(22:6/22:6/24:1)  no\n",
       " 2057 │ posLip1764  4_TG(24:0_24:0_24:1)+NH4 | 4_TG(…  TG(24:0/24:0/24:1)  no  ⋯\n",
       "\u001b[36m                                                 3 columns and 2036 rows omitted\u001b[0m"
      ]
     },
     "execution_count": 15,
     "metadata": {},
     "output_type": "execute_result"
    }
   ],
   "source": [
    "@rget dfXref"
   ]
  },
  {
   "cell_type": "code",
   "execution_count": 16,
   "id": "f5aa30e7-b940-48c1-8f74-1ddcfd331c20",
   "metadata": {},
   "outputs": [
    {
     "data": {
      "text/plain": [
       "2057"
      ]
     },
     "execution_count": 16,
     "metadata": {},
     "output_type": "execute_result"
    }
   ],
   "source": [
    "sum(dfXref.Valid)"
   ]
  },
  {
   "cell_type": "code",
   "execution_count": 17,
   "id": "e0810af9-2ca6-4a79-b528-83818ad00629",
   "metadata": {
    "tags": []
   },
   "outputs": [
    {
     "name": "stdout",
     "output_type": "stream",
     "text": [
      "Joining, by = \"Lipids\"\n"
     ]
    },
    {
     "name": "stderr",
     "output_type": "stream",
     "text": [
      "┌ Warning: RCall.jl: Warning in rcpp_parse_lipid_name(lipidName) :\n",
      "│   Parsing of lipid name 'FAHFA(18:3/18:1)' caused an exception: Inconsistancy in number of fatty acyl chains for lipid 'FAHFA'\n",
      "│ Warning in rcpp_parse_lipid_name(lipidName) :\n",
      "│   Parsing of lipid name 'FAHFA(18:3/18:0)' caused an exception: Inconsistancy in number of fatty acyl chains for lipid 'FAHFA'\n",
      "│ Warning in rcpp_parse_lipid_name(lipidName) :\n",
      "│   Parsing of lipid name 'FAHFA(18:3/18:2)' caused an exception: Inconsistancy in number of fatty acyl chains for lipid 'FAHFA'\n",
      "│ Warning in (function (..., deparse.level = 1)  :\n",
      "│   number of columns of result is not a multiple of vector length (arg 11)\n",
      "└ @ RCall C:\\Users\\Fenril-Fractal\\.julia\\packages\\RCall\\iMDW2\\src\\io.jl:160\n"
     ]
    }
   ],
   "source": [
    "R\"\"\"\n",
    "# check validity\n",
    "dfXref$Valid <- suppressWarnings(sapply(dfXref$Lipids, isValidLipidName))\n",
    "# filter for valid Lipids nomenclature\n",
    "dfXref <- dfXref %>% filter(Valid)\n",
    "# get lipids information: total; C and Double Bonds \n",
    "dfGoslin <- as_tibble(parseLipidNames(dfXref$Lipids))[, c(\"Original Name\", \"Total C\", \"Total DB\", \"Lipid Maps Main Class\")];\n",
    "# change columns name\n",
    "names(dfGoslin) <- c(\"Lipids\", \"Total_C\", \"Total_DB\", \"Class\")\n",
    "dfGoslin <- right_join(subset(dfXref, select = -c(Valid)), dfGoslin) # remove Valid col\n",
    "\n",
    "\"\"\"\n",
    "@rget dfGoslin;"
   ]
  },
  {
   "cell_type": "markdown",
   "id": "33633183-0235-4a71-91fe-7379b7ec4e35",
   "metadata": {},
   "source": [
    "We added two additional information: total number of carbon and total number of double bound."
   ]
  },
  {
   "cell_type": "code",
   "execution_count": 18,
   "id": "18d4142d-3908-4bd8-a27f-7a924f1c3d10",
   "metadata": {
    "tags": []
   },
   "outputs": [],
   "source": [
    "# Parse Total_C and Total_DB\n",
    "dfGoslin.Total_C =parse.(Int64, dfGoslin.Total_C);\n",
    "dfGoslin.Total_DB =parse.(Int64, dfGoslin.Total_DB);"
   ]
  },
  {
   "cell_type": "markdown",
   "id": "2f10195b-2146-4880-b1f9-1462a419921c",
   "metadata": {},
   "source": [
    "#### Save raw Z matrix for all lipids"
   ]
  },
  {
   "cell_type": "code",
   "execution_count": 19,
   "id": "6614e190-c494-47af-a898-e9347ee5ccd5",
   "metadata": {},
   "outputs": [
    {
     "data": {
      "text/plain": [
       "\"../../data/data_processed/ZmatRawAll.csv\""
      ]
     },
     "execution_count": 19,
     "metadata": {},
     "output_type": "execute_result"
    }
   ],
   "source": [
    "dfGoslin |> CSV.write(\"../../data/data_processed/ZmatRawAll.csv\")"
   ]
  },
  {
   "cell_type": "code",
   "execution_count": 35,
   "id": "6d93271e-d42e-4910-9441-1eafc5316ed6",
   "metadata": {},
   "outputs": [
    {
     "data": {
      "text/plain": [
       "Dict{String, Int64} with 18 entries:\n",
       "  \"Glycerophosphoethanolamines [GP02]\"                 => 74\n",
       "  \"Glycerophosphates [GP10]\"                           => 53\n",
       "  \"Monoacylglycerophosphocholines [GP0105]\"            => 69\n",
       "  \"Fatty acyl carnitines [FA0707]\"                     => 25\n",
       "  \"Neutral glycosphingolipids [SP05]\"                  => 9\n",
       "  \"Glycerophosphocholines [GP01]\"                      => 410\n",
       "  \"Monoacylglycerols [GL0101]\"                         => 10\n",
       "  \"Sterol esters [ST0102]\"                             => 24\n",
       "  \"Ceramide phosphocholines (sphingomyelins) [SP0301]\" => 25\n",
       "  \"Glycosyldiacylglycerols [GL0501]\"                   => 64\n",
       "  \"Triacylglycerols [GL0301]\"                          => 787\n",
       "  \"Diacylglycerols [GL0201]\"                           => 45\n",
       "  \"Cholesterol and derivatives [ST0101]\"               => 1\n",
       "  \"Ceramides [SP02]\"                                   => 23\n",
       "  \"Monoacylglycerophosphoethanolamines [GP0205]\"       => 20\n",
       "  \"Glycerophosphoglycerols [GP04]\"                     => 18\n",
       "  \"Glycerophosphoserines [GP03]\"                       => 1\n",
       "  \"Glycerophosphoinositols [GP06]\"                     => 7"
      ]
     },
     "execution_count": 35,
     "metadata": {},
     "output_type": "execute_result"
    }
   ],
   "source": [
    "countmap(dfGoslin.Class)"
   ]
  },
  {
   "cell_type": "code",
   "execution_count": 79,
   "id": "d546f7ef-d5bd-4261-99c1-9550baed97c9",
   "metadata": {},
   "outputs": [
    {
     "name": "stdout",
     "output_type": "stream",
     "text": [
      "Julia Version 1.6.2\n",
      "Commit 1b93d53fc4 (2021-07-14 15:36 UTC)\n",
      "Platform Info:\n",
      "  OS: Windows (x86_64-w64-mingw32)\n",
      "  CPU: Intel(R) Core(TM) i5-6500 CPU @ 3.20GHz\n",
      "  WORD_SIZE: 64\n",
      "  LIBM: libopenlibm\n",
      "  LLVM: libLLVM-11.0.1 (ORCJIT, skylake)\n"
     ]
    }
   ],
   "source": [
    "versioninfo()"
   ]
  },
  {
   "cell_type": "code",
   "execution_count": 80,
   "id": "9cdd1949-e335-4d9d-a496-49ec12e3f517",
   "metadata": {},
   "outputs": [
    {
     "data": {
      "text/plain": [
       "RObject{VecSxp}\n",
       "R version 4.0.5 (2021-03-31)\n",
       "Platform: x86_64-w64-mingw32/x64 (64-bit)\n",
       "Running under: Windows 10 x64 (build 19043)\n",
       "\n",
       "Matrix products: default\n",
       "\n",
       "locale:\n",
       "[1] LC_COLLATE=English_United States.1252 \n",
       "[2] LC_CTYPE=English_United States.1252   \n",
       "[3] LC_MONETARY=English_United States.1252\n",
       "[4] LC_NUMERIC=C                          \n",
       "[5] LC_TIME=English_United States.1252    \n",
       "\n",
       "attached base packages:\n",
       "[1] stats     graphics  grDevices utils     datasets  methods   base     \n",
       "\n",
       "other attached packages:\n",
       " [1] forcats_0.5.1      stringr_1.4.0      dplyr_1.0.4        purrr_0.3.4       \n",
       " [5] readr_1.4.0        tidyr_1.1.2        tibble_3.1.1       ggplot2_3.3.3     \n",
       " [9] tidyverse_1.3.0    rgoslin_1.1.3.1000\n",
       "\n",
       "loaded via a namespace (and not attached):\n",
       " [1] Rcpp_1.0.6       cellranger_1.1.0 pillar_1.6.0     compiler_4.0.5  \n",
       " [5] dbplyr_2.1.0     tools_4.0.5      jsonlite_1.7.2   lubridate_1.7.10\n",
       " [9] lifecycle_1.0.0  gtable_0.3.0     pkgconfig_2.0.3  rlang_0.4.10    \n",
       "[13] reprex_1.0.0     cli_2.4.0        rstudioapi_0.13  DBI_1.1.1       \n",
       "[17] haven_2.3.1      withr_2.4.2      xml2_1.3.2       httr_1.4.2      \n",
       "[21] fs_1.5.0         generics_0.1.0   vctrs_0.3.7      hms_1.0.0       \n",
       "[25] grid_4.0.5       tidyselect_1.1.0 glue_1.4.2       R6_2.5.0        \n",
       "[29] fansi_0.4.2      readxl_1.3.1     modelr_0.1.8     magrittr_2.0.1  \n",
       "[33] ps_1.6.0         backports_1.2.1  scales_1.1.1     ellipsis_0.3.1  \n",
       "[37] rvest_0.3.6      assertthat_0.2.1 colorspace_2.0-0 utf8_1.2.1      \n",
       "[41] stringi_1.5.3    munsell_0.5.0    broom_0.7.5      crayon_1.4.1    \n"
      ]
     },
     "execution_count": 80,
     "metadata": {},
     "output_type": "execute_result"
    }
   ],
   "source": [
    "R\"\"\"\n",
    "sessionInfo()\n",
    "\"\"\""
   ]
  },
  {
   "cell_type": "code",
   "execution_count": null,
   "id": "99653017-3b9e-4171-a691-b8a41bfad04d",
   "metadata": {},
   "outputs": [],
   "source": []
  }
 ],
 "metadata": {
  "jupytext": {
   "formats": "ipynb,auto:light"
  },
  "kernelspec": {
   "display_name": "Julia 1.11.1",
   "language": "julia",
   "name": "julia-1.11"
  },
  "language_info": {
   "file_extension": ".jl",
   "mimetype": "application/julia",
   "name": "julia",
   "version": "1.11.1"
  }
 },
 "nbformat": 4,
 "nbformat_minor": 5
}
