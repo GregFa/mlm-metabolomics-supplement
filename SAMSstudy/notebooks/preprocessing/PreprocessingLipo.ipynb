{
 "cells": [
  {
   "cell_type": "markdown",
   "id": "f87e296f",
   "metadata": {},
   "source": [
    "# Preprocessing Step\n",
    "---"
   ]
  },
  {
   "cell_type": "markdown",
   "id": "aaad80eb",
   "metadata": {},
   "source": [
    "This notebook carrieds out the preprocessing steps for the lipidomics data."
   ]
  },
  {
   "cell_type": "markdown",
   "id": "d26d5827",
   "metadata": {},
   "source": [
    "## Input"
   ]
  },
  {
   "cell_type": "markdown",
   "id": "c73f482c",
   "metadata": {},
   "source": [
    "### Libraries"
   ]
  },
  {
   "cell_type": "code",
   "execution_count": null,
   "id": "b5fbd36e",
   "metadata": {},
   "outputs": [],
   "source": [
    "# To use RCall for the first time, one needs to \n",
    "# the location of the R home directory.\n",
    "firstTimeRCall = false\n",
    "if firstTimeRCall\n",
    "    using Pkg\n",
    "    io = IOBuffer()\n",
    "    versioninfo(io)\n",
    "    if occursin(\"Windows\", String(take!(io)))\n",
    "        ENV[\"R_HOME\"] = \"C:/PROGRA~1/R/R-43~1.1\" # from R.home() in R\n",
    "    else \n",
    "        ENV[\"R_HOME\"] = \"/usr/lib/R\"\n",
    "\n",
    "    end\n",
    "    Pkg.build(\"RCall\")\n",
    "end         "
   ]
  },
  {
   "cell_type": "code",
   "execution_count": null,
   "id": "84777263",
   "metadata": {},
   "outputs": [],
   "source": [
    "using CSV, DataFrames, Missings, CategoricalArrays\n",
    "using StatsBase, Statistics, MultivariateStats, RCall\n",
    "using FreqTables, Plots, StatsPlots"
   ]
  },
  {
   "cell_type": "markdown",
   "id": "288783d9",
   "metadata": {},
   "source": [
    "### Ext. Functions"
   ]
  },
  {
   "cell_type": "code",
   "execution_count": null,
   "id": "ef5a19be",
   "metadata": {},
   "outputs": [],
   "source": [
    "include(joinpath(@__DIR__,\"..\",\"..\",\"src\",\"preprocessing.jl\" ));\n",
    "include(joinpath(@__DIR__,\"..\",\"..\",\"src\",\"utils.jl\" ));"
   ]
  },
  {
   "cell_type": "markdown",
   "id": "183f4942",
   "metadata": {},
   "source": [
    "### Load data"
   ]
  },
  {
   "cell_type": "code",
   "execution_count": null,
   "id": "67ffee73",
   "metadata": {},
   "outputs": [],
   "source": [
    "negLipids = realpath(joinpath(@__DIR__,\"..\",\"..\",\"data\",\"data_primary\",\"Elam_NEG_LIPIDS_all-variables.csv\" ))\n",
    "dfNegLipids = DataFrame(CSV.File(negLipids));"
   ]
  },
  {
   "cell_type": "code",
   "execution_count": null,
   "id": "acf66e61",
   "metadata": {},
   "outputs": [],
   "source": [
    "posLipids = realpath(joinpath(@__DIR__,\"..\",\"..\",\"data\",\"data_primary\",\"Elam_POS_LIPIDS-all-variables.csv\" ))\n",
    "dfPosLipids = DataFrame(CSV.File(posLipids));"
   ]
  },
  {
   "cell_type": "markdown",
   "id": "f4356f4c",
   "metadata": {},
   "source": [
    "## Chain of preprocessing"
   ]
  },
  {
   "cell_type": "code",
   "execution_count": null,
   "id": "fd6cbaf3",
   "metadata": {},
   "outputs": [],
   "source": [
    "# diGraph([\"Wrangle\", \"Imputation\", \"Normalization\", \"Log2 Transformation\", \"Batch Effect Correction\"])"
   ]
  },
  {
   "cell_type": "markdown",
   "id": "e7a7207a",
   "metadata": {},
   "source": [
    "Wrangle => Imputation => Normalization => Log2 Transformation => Batch Effect Correction"
   ]
  },
  {
   "cell_type": "markdown",
   "id": "3eb9d2df",
   "metadata": {},
   "source": [
    "## Wrangle data\n",
    "----"
   ]
  },
  {
   "cell_type": "markdown",
   "id": "4bb96e10",
   "metadata": {},
   "source": [
    "### Lipids reference dictionnary"
   ]
  },
  {
   "cell_type": "markdown",
   "id": "0aa1f5bf",
   "metadata": {},
   "source": [
    "* We create a reference dictionnary for the lipids names."
   ]
  },
  {
   "cell_type": "code",
   "execution_count": null,
   "id": "5fc1c1da",
   "metadata": {},
   "outputs": [],
   "source": [
    "# isCossRef = true\n",
    "# Generate data frames based on cross reference naming for positive and negative lipids\n",
    "dfNegLipids, dfNegCrossRef = crossRefLipids(dfNegLipids, \"negLip\");\n",
    "dfPosLipids, dfPosCrossRef = crossRefLipids(dfPosLipids, \"posLip\", startCol = 6);\n",
    "\n",
    "# save cross reference\n",
    "dfNegCrossRef |> CSV.write(\"../../data/data_processed/inl2b_NegLipids_Xref.csv\");\n",
    "dfPosCrossRef |> CSV.write(\"../../data/data_processed/inl2b_PosLipids_Xref.csv\");\n",
    "\n",
    "# merge neg and pos look up table\n",
    "dfLipCrossRef = deepcopy(dfNegCrossRef);\n",
    "append!(dfLipCrossRef, dfPosCrossRef)\n",
    "dfLipCrossRef |> CSV.write(\"../../data/data_processed/inl2b_Lipids_Xref.csv\");"
   ]
  },
  {
   "cell_type": "markdown",
   "id": "6d216f7c",
   "metadata": {},
   "source": [
    "* Display the first row of negative lipids data frame:"
   ]
  },
  {
   "cell_type": "code",
   "execution_count": null,
   "id": "76f17e3f",
   "metadata": {},
   "outputs": [],
   "source": [
    "first(dfNegLipids)"
   ]
  },
  {
   "cell_type": "markdown",
   "id": "f39d0d9a",
   "metadata": {},
   "source": [
    "* Display the first row of positive lipids data frame:"
   ]
  },
  {
   "cell_type": "code",
   "execution_count": null,
   "id": "c039a16e",
   "metadata": {},
   "outputs": [],
   "source": [
    "first(dfPosLipids)"
   ]
  },
  {
   "cell_type": "markdown",
   "id": "7aadece4",
   "metadata": {},
   "source": [
    "### Create a Group variable: CN, CS, CSbaseline"
   ]
  },
  {
   "cell_type": "markdown",
   "id": "d373f7ce",
   "metadata": {},
   "source": [
    "* Create a categorical variable named `Group` that indicates if a patient belonged to the control group (CN), the symptomatic group not on statin (CSbaseline) or the rechallenge symptomatic group on statin (CS)."
   ]
  },
  {
   "cell_type": "code",
   "execution_count": null,
   "id": "1e06dee6",
   "metadata": {},
   "outputs": [],
   "source": [
    "dfNegLipids = addGroupCat(copy(dfNegLipids), false);\n",
    "dfPosLipids = addGroupCat(copy(dfPosLipids), false);"
   ]
  },
  {
   "cell_type": "markdown",
   "id": "99d9775a",
   "metadata": {},
   "source": [
    "Check group population:"
   ]
  },
  {
   "cell_type": "code",
   "execution_count": null,
   "id": "dc8fbedc",
   "metadata": {},
   "outputs": [],
   "source": [
    "countmap(dfNegLipids.Group; alg = :dict)"
   ]
  },
  {
   "cell_type": "markdown",
   "id": "5cfaa16e",
   "metadata": {},
   "source": [
    "### Convert to categorical: Batch, Statin and Oil"
   ]
  },
  {
   "cell_type": "code",
   "execution_count": null,
   "id": "450d9743",
   "metadata": {},
   "outputs": [],
   "source": [
    "dfNegLipids = catBGSF(dfNegLipids, false);\n",
    "dfPosLipids = catBGSF(dfPosLipids, false);"
   ]
  },
  {
   "cell_type": "markdown",
   "id": "c81bf6a4",
   "metadata": {},
   "source": [
    "### Check tables"
   ]
  },
  {
   "cell_type": "code",
   "execution_count": null,
   "id": "c6c03a5d",
   "metadata": {},
   "outputs": [],
   "source": [
    "freqtable(dfNegLipids, :Group, :Batch)"
   ]
  },
  {
   "cell_type": "code",
   "execution_count": null,
   "id": "d8d8e288",
   "metadata": {},
   "outputs": [],
   "source": [
    "freqtable(dfNegLipids, :Group, :FishOil)"
   ]
  },
  {
   "cell_type": "markdown",
   "id": "2a0213c6",
   "metadata": {},
   "source": [
    "## Impute missing data  \n",
    "___"
   ]
  },
  {
   "cell_type": "markdown",
   "id": "1ac13afb",
   "metadata": {},
   "source": [
    "HM (Half of the Minimum): This method replaces missing elements with half of the minimum of non-missing elements in the corresponding variable."
   ]
  },
  {
   "cell_type": "markdown",
   "id": "6f086570",
   "metadata": {},
   "source": [
    "QRILC ( quantile regression imputation of left-censored): This method imputes the left-censored data by randomly drawing values from a truncated normal distribution."
   ]
  },
  {
   "cell_type": "code",
   "execution_count": null,
   "id": "5b8774d1",
   "metadata": {},
   "outputs": [],
   "source": [
    "# dfNegLipids = imputeHM(dfNegLipids, startCol = 6);\n",
    "# dfPosLipids = imputeHM(dfPosLipids, startCol = 6);\n",
    "\n",
    "dfNegLipids = imputeQRILC(dfNegLipids; startCol = 6, logTX = true);\n",
    "dfPosLipids = imputeQRILC(dfPosLipids; startCol = 6, logTX = true);"
   ]
  },
  {
   "cell_type": "markdown",
   "id": "38806dbf",
   "metadata": {},
   "source": [
    "## Normalization\n",
    "----"
   ]
  },
  {
   "cell_type": "markdown",
   "id": "b8941afe",
   "metadata": {},
   "source": [
    "### Probabilistic Quotient Normalization\n",
    "\n",
    "> 1. Perform an integral normalization (typically a constant\n",
    "integral of 100 is used).\n",
    "> 2. Choose/calculate the reference spectrum (the best approach\n",
    "is the calculation of the median spectrum of control samples).\n",
    "> 3. Calculate the quotients of all variables of interest of the test\n",
    "spectrum with those of the reference spectrum.\n",
    "> 4. Calculate the median of these quotients.\n",
    "> 5. Divide all variables of the test spectrum by this median.\n"
   ]
  },
  {
   "cell_type": "code",
   "execution_count": null,
   "id": "d28cae93",
   "metadata": {},
   "outputs": [],
   "source": [
    "dfNegLipids = pqnorm(dfNegLipids, startCol = 6);\n",
    "dfPosLipids = pqnorm(dfPosLipids, startCol = 6);"
   ]
  },
  {
   "cell_type": "markdown",
   "id": "96589fc0",
   "metadata": {},
   "source": [
    "## Transformation\n",
    "---\n",
    "\n",
    "A simple and widely used transformation to make data more symmetric and homoscedastic is the log-transformation."
   ]
  },
  {
   "cell_type": "code",
   "execution_count": null,
   "id": "49bf0287",
   "metadata": {},
   "outputs": [],
   "source": [
    "dfNegLipids = log2tx(dfNegLipids, startCol = 6);\n",
    "dfPosLipids = log2tx(dfPosLipids, startCol = 6);"
   ]
  },
  {
   "cell_type": "code",
   "execution_count": null,
   "id": "8e8fe3fd",
   "metadata": {},
   "outputs": [],
   "source": [
    "first(dfPosLipids)"
   ]
  },
  {
   "cell_type": "markdown",
   "id": "1254712c",
   "metadata": {},
   "source": [
    "## Adjusting for batch effects\n",
    "---"
   ]
  },
  {
   "cell_type": "markdown",
   "id": "74cb5e63",
   "metadata": {},
   "source": [
    "### Check for batch effects"
   ]
  },
  {
   "cell_type": "code",
   "execution_count": null,
   "id": "414c21cb",
   "metadata": {},
   "outputs": [],
   "source": [
    "R\"\"\"\n",
    "suppressMessages(library(mixOmics))\n",
    "suppressMessages(library(tidyverse));\n",
    "\"\"\""
   ]
  },
  {
   "cell_type": "code",
   "execution_count": null,
   "id": "b5473e26",
   "metadata": {},
   "outputs": [],
   "source": [
    "dfNeg = catBGSF(dfNegLipids);\n",
    "dfPos = catBGSF(dfPosLipids);"
   ]
  },
  {
   "cell_type": "code",
   "execution_count": null,
   "id": "1c5be635",
   "metadata": {},
   "outputs": [],
   "source": [
    "@rput dfNeg;\n",
    "@rput dfPos;"
   ]
  },
  {
   "cell_type": "code",
   "execution_count": null,
   "id": "cee6151a",
   "metadata": {},
   "outputs": [],
   "source": [
    "R\"summary(dfNeg[,c(1:5)])\""
   ]
  },
  {
   "cell_type": "code",
   "execution_count": null,
   "id": "431ec034",
   "metadata": {
    "lines_to_next_cell": 2
   },
   "outputs": [],
   "source": [
    "# get matrix data\n",
    "Xneg= copy(transpose(Matrix(dfNeg[:,6:end])));\n",
    "Xpos= copy(transpose(Matrix(dfPos[:,6:end])));\n",
    "\n",
    "# train a PCA model\n",
    "Mneg = fit(PCA, Xneg; maxoutdim=10)\n",
    "Mpos = fit(PCA, Xpos; maxoutdim=10);\n",
    "Mpos;"
   ]
  },
  {
   "cell_type": "code",
   "execution_count": null,
   "id": "32f81730",
   "metadata": {},
   "outputs": [],
   "source": [
    "size(Xneg)"
   ]
  },
  {
   "cell_type": "code",
   "execution_count": null,
   "id": "4983946b",
   "metadata": {},
   "outputs": [],
   "source": [
    "# get explained variance\n",
    "explainedVarPCAneg = principalvars(Mneg)./tvar(Mneg)\n",
    "explainedVarPCApos = principalvars(Mpos)./tvar(Mpos);"
   ]
  },
  {
   "cell_type": "code",
   "execution_count": null,
   "id": "f303dcac",
   "metadata": {},
   "outputs": [],
   "source": [
    "ticklabel = string.(collect(1:10))\n",
    "pNegPCA =bar(explainedVarPCAneg, orientation=:v, xticks=(1:10, ticklabel),\n",
    "    yflip=false, legend = false, title = \"Negative Lipids\")\n",
    "xlabel!(\"Principal Components\")\n",
    "ylabel!(\"Explained Variance\");\n",
    "\n",
    "pPosPCA =bar(explainedVarPCApos, orientation=:v, xticks=(1:10, ticklabel),\n",
    "    yflip=false, legend = false, title = \"Positive Lipids\")\n",
    "xlabel!(\"Principal Components\")\n",
    "ylabel!(\"Explained Variance\");\n",
    "\n",
    "plot(pNegPCA, pPosPCA, size = (800, 400))"
   ]
  },
  {
   "cell_type": "code",
   "execution_count": null,
   "id": "7c5a6f86",
   "metadata": {
    "lines_to_next_cell": 2
   },
   "outputs": [],
   "source": [
    "# get batch group labels\n",
    "XbatchNeg = Vector(dfNeg[:,2]);\n",
    "XbatchPos = Vector(dfPos[:,2]);\n",
    "\n",
    "# apply PCA model \n",
    "Yneg = MultivariateStats.transform(Mneg, Xneg)\n",
    "Ypos = MultivariateStats.transform(Mpos, Xpos)\n",
    "\n",
    "# group results by testing set labels for color coding\n",
    "B1neg = Yneg[:,XbatchNeg.==\"B1\"]; B1pos = Ypos[:,XbatchPos.==\"B1\"] \n",
    "B2neg = Yneg[:,XbatchNeg.==\"B2\"]; B2pos = Ypos[:,XbatchPos.==\"B2\"]\n",
    "B3neg = Yneg[:,XbatchNeg.==\"B3\"]; B3pos = Ypos[:,XbatchPos.==\"B3\"]\n",
    "B4neg = Yneg[:,XbatchNeg.==\"B4\"]; B4pos = Ypos[:,XbatchPos.==\"B4\"];\n",
    "\n",
    "# visualize first 2 principal components\n",
    "pNegScat = scatter(B1neg[1,:],B1neg[2,:], marker=:auto, markersize=4, linewidth=0, label = \"B1\")\n",
    "scatter!(B2neg[1,:],B2neg[2,:], marker=:utriangle,linewidth=0, label = \"B2\")\n",
    "scatter!(B3neg[1,:],B3neg[2,:], marker=:+,linewidth=0, label = \"B3\")\n",
    "scatter!(B4neg[1,:],B4neg[2,:], marker=:x,linewidth=0, label = \"B4\")\n",
    "plot!(pNegScat,xlabel=\"PC1\",ylabel=\"PC2\");\n",
    "\n",
    "pPosScat = scatter(B1pos[1,:],B1pos[2,:], marker=:auto, markersize=4, linewidth=0, label = \"B1\")\n",
    "scatter!(B2pos[1,:],B2pos[2,:], marker=:utriangle,linewidth=0, label = \"B2\")\n",
    "scatter!(B3pos[1,:],B3pos[2,:], marker=:+,linewidth=0, label = \"B3\")\n",
    "scatter!(B4pos[1,:],B4pos[2,:], marker=:x,linewidth=0, label = \"B4\")\n",
    "plot!(pPosScat,xlabel=\"PC1\",ylabel=\"PC2\");\n",
    "\n",
    "plot(pNegScat, pPosScat, legend = :outertopright, title = [\"Negative Lipids\" \"Positive Lipids\"], size = (700, 400))"
   ]
  },
  {
   "cell_type": "code",
   "execution_count": null,
   "id": "1b8ecd51",
   "metadata": {},
   "outputs": [],
   "source": [
    "plotattr(\"size\")"
   ]
  },
  {
   "cell_type": "markdown",
   "id": "4bfc831e",
   "metadata": {},
   "source": [
    "### Lipids most influenced by batches"
   ]
  },
  {
   "cell_type": "code",
   "execution_count": null,
   "id": "27424933",
   "metadata": {},
   "outputs": [],
   "source": [
    "# Get variance explained\n",
    "dfVarExplNeg = getVarExpl(Xneg, XbatchNeg, names(dfNeg)[6:end]);\n",
    "dfVarExplPos = getVarExpl(Xpos, XbatchPos, names(dfPos)[6:end]);"
   ]
  },
  {
   "cell_type": "code",
   "execution_count": null,
   "id": "9a3909db",
   "metadata": {},
   "outputs": [],
   "source": [
    "first(dfVarExplNeg, 5)"
   ]
  },
  {
   "cell_type": "code",
   "execution_count": null,
   "id": "50357849",
   "metadata": {},
   "outputs": [],
   "source": [
    "first(dfVarExplPos, 5)"
   ]
  },
  {
   "cell_type": "code",
   "execution_count": null,
   "id": "3d5181d4",
   "metadata": {},
   "outputs": [],
   "source": [
    "nTop = 25# sum(dfVarExpl.VarExpl>0.1)\n",
    "\n",
    "ticklabel = dfVarExplNeg.Lipids[1:nTop]\n",
    "pNeg =bar(dfVarExplNeg.VarExpl[1:nTop], orientation=:v, xticks=(1:4:nTop, ticklabel[1:4:nTop]),\n",
    "    yflip=false, legend = false, title = \"Top Negative Lipids Influenced by Batch\", ylims = (0, 1))\n",
    "xlabel!(\"Negative Lipids\")\n",
    "ylabel!(\"Explained Variance\")"
   ]
  },
  {
   "cell_type": "code",
   "execution_count": null,
   "id": "3932ccbd",
   "metadata": {},
   "outputs": [],
   "source": [
    "ticklabel = dfVarExplPos.Lipids[1:nTop]\n",
    "pPos =bar(dfVarExplPos.VarExpl[1:nTop], orientation=:v, xticks=(1:4:nTop, ticklabel[1:4:nTop]),\n",
    "    yflip=false, legend = false, title = \"Top Positive Lipids Influenced by Batch\", ylims = (0, 1))\n",
    "xlabel!(\"Positive Lipids\")\n",
    "ylabel!(\"Explained Variance\")"
   ]
  },
  {
   "cell_type": "markdown",
   "id": "e98de779",
   "metadata": {},
   "source": [
    "### Most influential batch "
   ]
  },
  {
   "cell_type": "code",
   "execution_count": null,
   "id": "b6479e9c",
   "metadata": {},
   "outputs": [],
   "source": [
    "adjRsquaredPerLipidsPerBatch = getVarExplPerMetaPerBatch(Xneg, XbatchNeg, dfVarExplNeg.Lipids); "
   ]
  },
  {
   "cell_type": "code",
   "execution_count": null,
   "id": "135f99c1",
   "metadata": {},
   "outputs": [],
   "source": [
    "ticklabel = dfVarExplNeg.Lipids[1:nTop]\n",
    "groupedbar(ticklabel, adjRsquaredPerLipidsPerBatch[1:nTop, :], \n",
    "    bar_position = :dodge, bar_width=0.7, alpha=0.5,\n",
    "    xticks=(1:4:nTop, ticklabel[1:4:nTop]), \n",
    "    legend = :outertopright, label = [\"B1\" \"B2\" \"B3\" \"B4\"]\n",
    ")"
   ]
  },
  {
   "cell_type": "code",
   "execution_count": null,
   "id": "b2f5248a",
   "metadata": {},
   "outputs": [],
   "source": [
    "size(dfNeg)"
   ]
  },
  {
   "cell_type": "markdown",
   "id": "2856333d",
   "metadata": {},
   "source": [
    "## Correct batch effect with combat "
   ]
  },
  {
   "cell_type": "code",
   "execution_count": null,
   "id": "8bf21271",
   "metadata": {},
   "outputs": [],
   "source": [
    "R\"\"\"\n",
    "suppressMessages(library(sva))\n",
    "fCombat <- function(myDf){\n",
    "mLipids <- as.matrix(myDf[,c(-1,-2,-3,-4,-5)])\n",
    "\n",
    "modcombat <- model.matrix(~1, data = myDf[,c(2,3,5)])\n",
    "\n",
    "combatLipids <- ComBat(dat=t(mLipids), batch = myDf$Batch, mod=modcombat, par.prior=TRUE, prior.plots=FALSE)\n",
    "\n",
    "# modGroupFishOil <- model.matrix(~Group*FishOil, data = myDf[,c(2,3,5)])\n",
    "# combatFit = lm.fit(modGroupFishOil, t(combatLipids))\n",
    "\n",
    "return(combatLipids)\n",
    "}\n",
    "\n",
    "mLipidsBatchAdjNeg <- t(fCombat(dfNeg));\n",
    "mLipidsBatchAdjPos <- t(fCombat(dfPos));\n",
    "\n",
    "\"\"\"\n",
    "@rget mLipidsBatchAdjNeg;\n",
    "@rget mLipidsBatchAdjPos;"
   ]
  },
  {
   "cell_type": "code",
   "execution_count": null,
   "id": "ac2206f7",
   "metadata": {
    "lines_to_next_cell": 2
   },
   "outputs": [],
   "source": [
    "# get matrix data\n",
    "Xneg= copy(transpose(mLipidsBatchAdjNeg));\n",
    "Xpos= copy(transpose(mLipidsBatchAdjPos));\n",
    "\n",
    "# train a PCA model\n",
    "Mneg = fit(PCA, Xneg; maxoutdim=10)\n",
    "Mpos = fit(PCA, Xpos; maxoutdim=10);"
   ]
  },
  {
   "cell_type": "code",
   "execution_count": null,
   "id": "04a8428b",
   "metadata": {},
   "outputs": [],
   "source": [
    "size(Xneg)"
   ]
  },
  {
   "cell_type": "code",
   "execution_count": null,
   "id": "5414e8b8",
   "metadata": {},
   "outputs": [],
   "source": [
    "# get explained variance\n",
    "explainedVarPCAneg = principalvars(Mneg)./tvar(Mneg)\n",
    "explainedVarPCApos = principalvars(Mpos)./tvar(Mpos);"
   ]
  },
  {
   "cell_type": "code",
   "execution_count": null,
   "id": "5afd414f",
   "metadata": {},
   "outputs": [],
   "source": [
    "ticklabel = string.(collect(1:10))\n",
    "pNegPCAAdj =bar(explainedVarPCAneg, orientation=:v, xticks=(1:10, ticklabel),\n",
    "    yflip=false, legend = false, title = \"Negative Lipids\")\n",
    "xlabel!(\"Principal Components\")\n",
    "ylabel!(\"Explained Variance\");\n",
    "\n",
    "pPosPCAAdj =bar(explainedVarPCApos, orientation=:v, xticks=(1:10, ticklabel),\n",
    "    yflip=false, legend = false, title = \"Positive Lipids\")\n",
    "xlabel!(\"Principal Components\")\n",
    "ylabel!(\"Explained Variance\");\n",
    "\n",
    "plot(pNegPCAAdj, pPosPCAAdj, size = (800, 400))"
   ]
  },
  {
   "cell_type": "code",
   "execution_count": null,
   "id": "40b5f0dd",
   "metadata": {
    "lines_to_next_cell": 2
   },
   "outputs": [],
   "source": [
    "# get batch group labels\n",
    "XbatchNeg = Vector(dfNeg[:,2]);\n",
    "XbatchPos = Vector(dfPos[:,2]);\n",
    "\n",
    "# apply PCA model \n",
    "Yneg = MultivariateStats.transform(Mneg, Xneg)\n",
    "Ypos = MultivariateStats.transform(Mpos, Xpos)\n",
    "\n",
    "# group results by testing set labels for color coding\n",
    "B1neg = Yneg[:,XbatchNeg.==\"B1\"]; B1pos = Ypos[:,XbatchPos.==\"B1\"] \n",
    "B2neg = Yneg[:,XbatchNeg.==\"B2\"]; B2pos = Ypos[:,XbatchPos.==\"B2\"]\n",
    "B3neg = Yneg[:,XbatchNeg.==\"B3\"]; B3pos = Ypos[:,XbatchPos.==\"B3\"]\n",
    "B4neg = Yneg[:,XbatchNeg.==\"B4\"]; B4pos = Ypos[:,XbatchPos.==\"B4\"];\n",
    "\n",
    "# visualize first 2 principal components\n",
    "pNegScatAdj = scatter(B1neg[1,:],B1neg[2,:], marker=:auto, markersize=4, linewidth=0, label = \"B1\")\n",
    "scatter!(B2neg[1,:],B2neg[2,:], marker=:utriangle,linewidth=0, label = \"B2\")\n",
    "scatter!(B3neg[1,:],B3neg[2,:], marker=:+,linewidth=0, label = \"B3\")\n",
    "scatter!(B4neg[1,:],B4neg[2,:], marker=:x,linewidth=0, label = \"B4\")\n",
    "plot!(pNegScatAdj,xlabel=\"PC1\",ylabel=\"PC2\");\n",
    "\n",
    "pPosScatAdj = scatter(B1pos[1,:],B1pos[2,:], marker=:auto, markersize=4, linewidth=0, label = \"B1\")\n",
    "scatter!(B2pos[1,:],B2pos[2,:], marker=:utriangle,linewidth=0, label = \"B2\")\n",
    "scatter!(B3pos[1,:],B3pos[2,:], marker=:+,linewidth=0, label = \"B3\")\n",
    "scatter!(B4pos[1,:],B4pos[2,:], marker=:x,linewidth=0, label = \"B4\")\n",
    "plot!(pPosScatAdj,xlabel=\"PC1\",ylabel=\"PC2\");\n",
    "\n",
    "plot(pNegScatAdj, pPosScatAdj, legend = :outertopright, title = [\"Negative Lipids\" \"Positive Lipids\"], size = (700, 400))"
   ]
  },
  {
   "cell_type": "markdown",
   "id": "57dac1ba",
   "metadata": {},
   "source": [
    "### Lipids most influenced by batches after correction"
   ]
  },
  {
   "cell_type": "code",
   "execution_count": null,
   "id": "1c6250ca",
   "metadata": {},
   "outputs": [],
   "source": [
    "# Get variance explained\n",
    "dfVarExplNeg = getVarExpl(Xneg, XbatchNeg, names(dfNeg)[6:end]);\n",
    "dfVarExplPos = getVarExpl(Xpos, XbatchPos, names(dfPos)[6:end]);"
   ]
  },
  {
   "cell_type": "code",
   "execution_count": null,
   "id": "0dd0d873",
   "metadata": {},
   "outputs": [],
   "source": [
    "first(dfVarExplNeg, 5)"
   ]
  },
  {
   "cell_type": "code",
   "execution_count": null,
   "id": "98a3d2c8",
   "metadata": {},
   "outputs": [],
   "source": [
    "first(dfVarExplPos, 5)"
   ]
  },
  {
   "cell_type": "code",
   "execution_count": null,
   "id": "dbf7c4a9",
   "metadata": {},
   "outputs": [],
   "source": [
    "nTop = 25# sum(dfVarExpl.VarExpl>0.1)\n",
    "\n",
    "ticklabel = dfVarExplNeg.Lipids[1:nTop]\n",
    "pNegAdj =bar(dfVarExplNeg.VarExpl[1:nTop], orientation=:v, xticks=(1:4:nTop, ticklabel[1:4:nTop]),\n",
    "    yflip=false, legend = false, title = \"Top Negative Lipids Influenced by Batch\", ylims = (0, 1))\n",
    "xlabel!(\"Negative Lipids\")\n",
    "ylabel!(\"Explained Variance\")"
   ]
  },
  {
   "cell_type": "code",
   "execution_count": null,
   "id": "b6a8d609",
   "metadata": {},
   "outputs": [],
   "source": [
    "ticklabel = dfVarExplPos.Lipids[1:nTop]\n",
    "pPosAdj =bar(dfVarExplPos.VarExpl[1:nTop], orientation=:v, xticks=(1:4:nTop, ticklabel[1:4:nTop]),\n",
    "    yflip=false, legend = false, title = \"Top Positive Lipids Influenced by Batch\", ylims = (0, 1))\n",
    "xlabel!(\"Positive Lipids\")\n",
    "ylabel!(\"Explained Variance\")"
   ]
  },
  {
   "cell_type": "code",
   "execution_count": null,
   "id": "95285fa0",
   "metadata": {},
   "outputs": [],
   "source": [
    "plot(pNeg, pNegAdj,\n",
    "    legend = :false, \n",
    "    grid = false, \n",
    "    title = [\"Not Corrected\" \"Batch Corrected\"],\n",
    "    ylabel = [\"Explained Variance\" \"\"],\n",
    "    xaxis = false,\n",
    "    left_margin = (10, :mm),\n",
    "    size = (1200, 400)\n",
    ")"
   ]
  },
  {
   "cell_type": "code",
   "execution_count": null,
   "id": "a7168eb0",
   "metadata": {},
   "outputs": [],
   "source": [
    "plot(pPos, pPosAdj,\n",
    "    legend = :false, \n",
    "    grid = false, \n",
    "    title = [\"Not Corrected\" \"Batch Corrected\"],\n",
    "    ylabel = [\"Explained Variance\" \"\"],\n",
    "    xaxis = false,\n",
    "    left_margin = (10, :mm),\n",
    "    size = (1200, 400)\n",
    ")"
   ]
  },
  {
   "cell_type": "code",
   "execution_count": null,
   "id": "b45e6ca9",
   "metadata": {},
   "outputs": [],
   "source": [
    "# Xneg, XbatchNeg, names(dfNeg)[6:end]\n",
    "# coeftable(lm_fit) |> c -> c.cols[c.pvalcol][c.rownms .== \"x\"]\n",
    "n = size(Xneg)[1]\n",
    "\n",
    "adjPval = zeros(n)\n",
    "\n",
    "for i in 1:n\n",
    "    dftest = DataFrame(X = CategoricalArray(string.(XbatchNeg)), Y = Xneg[i,:])\n",
    "    out = lm(@formula(Y ~ X), dftest);\n",
    "    out0 = lm(@formula(Y ~ 1), dftest);\n",
    "    my_ftest=ftest(out0.model, out.model)\n",
    "    adjPval[i] = my_ftest.pval[2]\n",
    "end\n",
    "\n",
    "R\"\"\"\n",
    "suppressMessages(library(stats))\n",
    "suppressMessages(library(qvalue));\n",
    "\"\"\"\n",
    "@rput adjPval;\n",
    "\n",
    "R\"\"\"\n",
    "qobj <- qvalue(p = adjPval)\n",
    "qVals <- qobj$qvalues;\n",
    "\"\"\"\n",
    "@rget qVals;\n",
    "\n",
    "describe(qVals)"
   ]
  },
  {
   "cell_type": "code",
   "execution_count": null,
   "id": "13813372",
   "metadata": {},
   "outputs": [],
   "source": [
    "n = size(Xpos)[1]\n",
    "\n",
    "adjPval = zeros(n)\n",
    "\n",
    "for i in 1:n\n",
    "    dftest = DataFrame(X = CategoricalArray(string.(XbatchPos)), Y = Xpos[i,:])\n",
    "    out = lm(@formula(Y ~ X), dftest);\n",
    "    out0 = lm(@formula(Y ~ 1), dftest);\n",
    "    my_ftest=ftest(out0.model, out.model)\n",
    "    adjPval[i] = my_ftest.pval[2]\n",
    "end\n",
    "\n",
    "R\"\"\"\n",
    "suppressMessages(library(stats))\n",
    "suppressMessages(library(qvalue));\n",
    "\"\"\"\n",
    "@rput adjPval;\n",
    "\n",
    "R\"\"\"\n",
    "qobj <- qvalue(p = adjPval)\n",
    "qVals <- qobj$qvalues;\n",
    "\"\"\"\n",
    "@rget qVals;\n",
    "\n",
    "describe(qVals)"
   ]
  },
  {
   "cell_type": "markdown",
   "id": "f3adcf75",
   "metadata": {
    "kernel": "SoS"
   },
   "source": [
    "## Save pretreatments"
   ]
  },
  {
   "cell_type": "code",
   "execution_count": null,
   "id": "1994dd4d",
   "metadata": {},
   "outputs": [],
   "source": [
    "dfNegLipids[:, 6:end] = mLipidsBatchAdjNeg;\n",
    "dfPosLipids[:, 6:end] = mLipidsBatchAdjPos;"
   ]
  },
  {
   "cell_type": "code",
   "execution_count": null,
   "id": "db925d18",
   "metadata": {
    "kernel": "Julia 1.5.3"
   },
   "outputs": [],
   "source": [
    "dfNegLipids |> CSV.write(\"../../data/data_processed/inl2b_NegLipids.csv\")"
   ]
  },
  {
   "cell_type": "code",
   "execution_count": null,
   "id": "e4181b87",
   "metadata": {},
   "outputs": [],
   "source": [
    "dfPosLipids |> CSV.write(\"../../data/data_processed/inl2b_PosLipids.csv\")"
   ]
  },
  {
   "cell_type": "code",
   "execution_count": null,
   "id": "0231811a",
   "metadata": {},
   "outputs": [],
   "source": [
    "# Join negative and positive lipids data frames\n",
    "dfLipids = leftjoin(dfNegLipids, dfPosLipids[:, [1; collect(6:end)]], on = :Sample);"
   ]
  },
  {
   "cell_type": "code",
   "execution_count": null,
   "id": "005399be",
   "metadata": {},
   "outputs": [],
   "source": [
    "dfLipids |> CSV.write(\"../../data/data_processed/inl2b_Lipids.csv\")"
   ]
  },
  {
   "cell_type": "code",
   "execution_count": null,
   "id": "a434b052",
   "metadata": {},
   "outputs": [],
   "source": [
    "versioninfo()"
   ]
  },
  {
   "cell_type": "code",
   "execution_count": null,
   "id": "10c99733",
   "metadata": {},
   "outputs": [],
   "source": [
    "R\"\"\"\n",
    "sessionInfo()\n",
    "\"\"\""
   ]
  },
  {
   "cell_type": "code",
   "execution_count": null,
   "id": "e0b749ba",
   "metadata": {},
   "outputs": [],
   "source": []
  }
 ],
 "metadata": {
  "jupytext": {
   "formats": "ipynb,jl:light"
  },
  "kernelspec": {
   "display_name": "Julia 1.11.2",
   "language": "julia",
   "name": "julia-1.11"
  },
  "language_info": {
   "file_extension": ".jl",
   "mimetype": "application/julia",
   "name": "julia",
   "version": "1.11.2"
  }
 },
 "nbformat": 4,
 "nbformat_minor": 5
}
