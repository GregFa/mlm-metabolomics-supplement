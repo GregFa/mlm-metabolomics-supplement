{
 "cells": [
  {
   "cell_type": "markdown",
   "id": "5fc944cf",
   "metadata": {},
   "source": [
    "# Preprocessing Step\n",
    "---"
   ]
  },
  {
   "cell_type": "markdown",
   "id": "832893df",
   "metadata": {},
   "source": [
    "This notebook carrieds out the preprocessing steps for the metabolomics data:    \n",
    "- Imputation\n",
    "- Normalization\n",
    "- Log2 Transformation"
   ]
  },
  {
   "cell_type": "markdown",
   "id": "835a8e70",
   "metadata": {},
   "source": [
    "## Input"
   ]
  },
  {
   "cell_type": "markdown",
   "id": "488c521f",
   "metadata": {},
   "source": [
    "### Libraries"
   ]
  },
  {
   "cell_type": "code",
   "execution_count": 1,
   "id": "2fae8aed",
   "metadata": {},
   "outputs": [],
   "source": [
    "# To use RCall for the first time, one needs to \n",
    "# the location of the R home directory.\n",
    "firstTimeRCall = false\n",
    "if firstTimeRCall \n",
    "    ENV[\"R_HOME\"] = \"C:/PROGRA~1/R/R-42~1.1\" # from R.home() in R\n",
    "    Pkg.build(\"RCall\")\n",
    "end     "
   ]
  },
  {
   "cell_type": "code",
   "execution_count": 2,
   "id": "9268236c-9f30-4c19-8e5f-4ca8483dfce1",
   "metadata": {},
   "outputs": [],
   "source": [
    "using CSV, DataFrames, Missings#, CategoricalArrays\n",
    "using StatsBase, Statistics#, MultivariateStats\n",
    "using FreqTables#, Plots, StatsPlots\n",
    "using RCall "
   ]
  },
  {
   "cell_type": "markdown",
   "id": "3f9bbd93",
   "metadata": {},
   "source": [
    "### Ext. Functions"
   ]
  },
  {
   "cell_type": "code",
   "execution_count": 3,
   "id": "134fcd8d",
   "metadata": {},
   "outputs": [],
   "source": [
    "include(joinpath(@__DIR__,\"..\",\"..\",\"src\",\"preprocessing.jl\" ));\n",
    "include(joinpath(@__DIR__,\"..\",\"..\",\"src\",\"wrangling_utils.jl\" ));"
   ]
  },
  {
   "cell_type": "markdown",
   "id": "73a0cc31",
   "metadata": {},
   "source": [
    "### Load data"
   ]
  },
  {
   "cell_type": "markdown",
   "id": "3faa8c88-9838-49b0-85cf-c4b94e14747f",
   "metadata": {},
   "source": [
    "#### Reference file"
   ]
  },
  {
   "cell_type": "code",
   "execution_count": 4,
   "id": "d433498a-f918-4c05-a86e-f4497118fd9f",
   "metadata": {},
   "outputs": [
    {
     "name": "stdout",
     "output_type": "stream",
     "text": [
      "The dataframe contains 588 rows and 22 columns\n"
     ]
    }
   ],
   "source": [
    "# Get reference metabolite file\n",
    "fileRef = joinpath(@__DIR__,\"..\",\"..\",\"data\",\"processed\",\"refMeta.csv\");\n",
    "dfRef = CSV.read(fileRef, DataFrame);\n",
    "print_df_size(dfRef)"
   ]
  },
  {
   "cell_type": "markdown",
   "id": "eac6d740-d833-4e97-b035-497fe0fcb7f4",
   "metadata": {},
   "source": [
    "#### Metabolite signatures"
   ]
  },
  {
   "cell_type": "code",
   "execution_count": 5,
   "id": "58bd11e8-da37-4a6a-82b3-6fedd0a06814",
   "metadata": {},
   "outputs": [
    {
     "name": "stdout",
     "output_type": "stream",
     "text": [
      "The negative metabolite dataset contains 26 samples and 590 metabolites.\n"
     ]
    }
   ],
   "source": [
    "# Get negative metabolite file\n",
    "fileMetabo = realpath(joinpath(@__DIR__,\"..\",\"..\",\"data\",\"processed\",\"Metabo_old.csv\"));\n",
    "dfMetabo = CSV.read(fileMetabo, DataFrame);\n",
    "println(\"The negative metabolite dataset contains $(size(dfMetabo, 1)) samples and $(size(dfMetabo, 2)-1) metabolites.\")"
   ]
  },
  {
   "cell_type": "markdown",
   "id": "1f4dd0bb-da79-4328-ab21-647f2e3638cf",
   "metadata": {},
   "source": [
    "## Imputation"
   ]
  },
  {
   "cell_type": "markdown",
   "id": "807f3640-9315-43a5-a57e-eb7e1122ee18",
   "metadata": {},
   "source": [
    "Check if imputation is needed:"
   ]
  },
  {
   "cell_type": "code",
   "execution_count": 6,
   "id": "fd6c9e87-2969-4f97-b5c9-375fbce866c9",
   "metadata": {},
   "outputs": [
    {
     "name": "stdout",
     "output_type": "stream",
     "text": [
      "No missing data.\n"
     ]
    }
   ],
   "source": [
    "summary_variables_missing(dfMetabo)"
   ]
  },
  {
   "cell_type": "markdown",
   "id": "8f0b21e6-4a9e-4ec3-bb1e-568e56978da0",
   "metadata": {},
   "source": [
    "## Normalization\n",
    "----"
   ]
  },
  {
   "cell_type": "markdown",
   "id": "01952909-8f5c-4780-9983-0e391e4a746b",
   "metadata": {},
   "source": [
    "### Probabilistic Quotient Normalization\n",
    "\n",
    "> 1. Perform an integral normalization (typically a constant\n",
    "integral of 100 is used).\n",
    "> 2. Choose/calculate the reference spectrum (the best approach\n",
    "is the calculation of the median spectrum of control samples).\n",
    "> 3. Calculate the quotients of all variables of interest of the test\n",
    "spectrum with those of the reference spectrum.\n",
    "> 4. Calculate the median of these quotients.\n",
    "> 5. Divide all variables of the test spectrum by this median.\n"
   ]
  },
  {
   "cell_type": "code",
   "execution_count": 7,
   "id": "d524d1e9-e700-46a6-8aee-3748ddc427c3",
   "metadata": {},
   "outputs": [
    {
     "data": {
      "text/html": [
       "<div><div style = \"float: left;\"><span>3×591 DataFrame</span></div><div style = \"float: right;\"><span style = \"font-style: italic;\">491 columns omitted</span></div><div style = \"clear: both;\"></div></div><div class = \"data-frame\" style = \"overflow-x: scroll;\"><table class = \"data-frame\" style = \"margin-bottom: 6px;\"><thead><tr class = \"header\"><th class = \"rowNumber\" style = \"font-weight: bold; text-align: right;\">Row</th><th style = \"text-align: left;\">SampleID</th><th style = \"text-align: left;\">MT10001</th><th style = \"text-align: left;\">MT10002</th><th style = \"text-align: left;\">MT10003</th><th style = \"text-align: left;\">MT10004</th><th style = \"text-align: left;\">MT10005</th><th style = \"text-align: left;\">MT10006</th><th style = \"text-align: left;\">MT10007</th><th style = \"text-align: left;\">MT10008</th><th style = \"text-align: left;\">MT10009</th><th style = \"text-align: left;\">MT10010</th><th style = \"text-align: left;\">MT10011</th><th style = \"text-align: left;\">MT10012</th><th style = \"text-align: left;\">MT10013</th><th style = \"text-align: left;\">MT10014</th><th style = \"text-align: left;\">MT10015</th><th style = \"text-align: left;\">MT10016</th><th style = \"text-align: left;\">MT10017</th><th style = \"text-align: left;\">MT10018</th><th style = \"text-align: left;\">MT10019</th><th style = \"text-align: left;\">MT10020</th><th style = \"text-align: left;\">MT10021</th><th style = \"text-align: left;\">MT10022</th><th style = \"text-align: left;\">MT10023</th><th style = \"text-align: left;\">MT10024</th><th style = \"text-align: left;\">MT10025</th><th style = \"text-align: left;\">MT10026</th><th style = \"text-align: left;\">MT10027</th><th style = \"text-align: left;\">MT10028</th><th style = \"text-align: left;\">MT10029</th><th style = \"text-align: left;\">MT10030</th><th style = \"text-align: left;\">MT10031</th><th style = \"text-align: left;\">MT10032</th><th style = \"text-align: left;\">MT10033</th><th style = \"text-align: left;\">MT10034</th><th style = \"text-align: left;\">MT10035</th><th style = \"text-align: left;\">MT10036</th><th style = \"text-align: left;\">MT10037</th><th style = \"text-align: left;\">MT10038</th><th style = \"text-align: left;\">MT10039</th><th style = \"text-align: left;\">MT10040</th><th style = \"text-align: left;\">MT10041</th><th style = \"text-align: left;\">MT10042</th><th style = \"text-align: left;\">MT10043</th><th style = \"text-align: left;\">MT10044</th><th style = \"text-align: left;\">MT10045</th><th style = \"text-align: left;\">MT10046</th><th style = \"text-align: left;\">MT10047</th><th style = \"text-align: left;\">MT10048</th><th style = \"text-align: left;\">MT10049</th><th style = \"text-align: left;\">MT10050</th><th style = \"text-align: left;\">MT10051</th><th style = \"text-align: left;\">MT10052</th><th style = \"text-align: left;\">MT10053</th><th style = \"text-align: left;\">MT10054</th><th style = \"text-align: left;\">MT10055</th><th style = \"text-align: left;\">MT10056</th><th style = \"text-align: left;\">MT10057</th><th style = \"text-align: left;\">MT10058</th><th style = \"text-align: left;\">MT10059</th><th style = \"text-align: left;\">MT10060</th><th style = \"text-align: left;\">MT10061</th><th style = \"text-align: left;\">MT10062</th><th style = \"text-align: left;\">MT10063</th><th style = \"text-align: left;\">MT10064</th><th style = \"text-align: left;\">MT10065</th><th style = \"text-align: left;\">MT10066</th><th style = \"text-align: left;\">MT10067</th><th style = \"text-align: left;\">MT10068</th><th style = \"text-align: left;\">MT10069</th><th style = \"text-align: left;\">MT10070</th><th style = \"text-align: left;\">MT10071</th><th style = \"text-align: left;\">MT10072</th><th style = \"text-align: left;\">MT10073</th><th style = \"text-align: left;\">MT10074</th><th style = \"text-align: left;\">MT10075</th><th style = \"text-align: left;\">MT10076</th><th style = \"text-align: left;\">MT10077</th><th style = \"text-align: left;\">MT10078</th><th style = \"text-align: left;\">MT10079</th><th style = \"text-align: left;\">MT10080</th><th style = \"text-align: left;\">MT10081</th><th style = \"text-align: left;\">MT10082</th><th style = \"text-align: left;\">MT10083</th><th style = \"text-align: left;\">MT10084</th><th style = \"text-align: left;\">MT10085</th><th style = \"text-align: left;\">MT10086</th><th style = \"text-align: left;\">MT10087</th><th style = \"text-align: left;\">MT10088</th><th style = \"text-align: left;\">MT10089</th><th style = \"text-align: left;\">MT10090</th><th style = \"text-align: left;\">MT10091</th><th style = \"text-align: left;\">MT10092</th><th style = \"text-align: left;\">MT10093</th><th style = \"text-align: left;\">MT10094</th><th style = \"text-align: left;\">MT10095</th><th style = \"text-align: left;\">MT10096</th><th style = \"text-align: left;\">MT10097</th><th style = \"text-align: left;\">MT10098</th><th style = \"text-align: left;\">MT10099</th><th style = \"text-align: right;\">&ctdot;</th></tr><tr class = \"subheader headerLastRow\"><th class = \"rowNumber\" style = \"font-weight: bold; text-align: right;\"></th><th title = \"String7\" style = \"text-align: left;\">String7</th><th title = \"Float64\" style = \"text-align: left;\">Float64</th><th title = \"Float64\" style = \"text-align: left;\">Float64</th><th title = \"Float64\" style = \"text-align: left;\">Float64</th><th title = \"Float64\" style = \"text-align: left;\">Float64</th><th title = \"Float64\" style = \"text-align: left;\">Float64</th><th title = \"Float64\" style = \"text-align: left;\">Float64</th><th title = \"Float64\" style = \"text-align: left;\">Float64</th><th title = \"Float64\" style = \"text-align: left;\">Float64</th><th title = \"Float64\" style = \"text-align: left;\">Float64</th><th title = \"Float64\" style = \"text-align: left;\">Float64</th><th title = \"Float64\" style = \"text-align: left;\">Float64</th><th title = \"Float64\" style = \"text-align: left;\">Float64</th><th title = \"Float64\" style = \"text-align: left;\">Float64</th><th title = \"Float64\" style = \"text-align: left;\">Float64</th><th title = \"Float64\" style = \"text-align: left;\">Float64</th><th title = \"Float64\" style = \"text-align: left;\">Float64</th><th title = \"Float64\" style = \"text-align: left;\">Float64</th><th title = \"Float64\" style = \"text-align: left;\">Float64</th><th title = \"Float64\" style = \"text-align: left;\">Float64</th><th title = \"Float64\" style = \"text-align: left;\">Float64</th><th title = \"Float64\" style = \"text-align: left;\">Float64</th><th title = \"Float64\" style = \"text-align: left;\">Float64</th><th title = \"Float64\" style = \"text-align: left;\">Float64</th><th title = \"Float64\" style = \"text-align: left;\">Float64</th><th title = \"Float64\" style = \"text-align: left;\">Float64</th><th title = \"Float64\" style = \"text-align: left;\">Float64</th><th title = \"Float64\" style = \"text-align: left;\">Float64</th><th title = \"Float64\" style = \"text-align: left;\">Float64</th><th title = \"Float64\" style = \"text-align: left;\">Float64</th><th title = \"Float64\" style = \"text-align: left;\">Float64</th><th title = \"Float64\" style = \"text-align: left;\">Float64</th><th title = \"Float64\" style = \"text-align: left;\">Float64</th><th title = \"Float64\" style = \"text-align: left;\">Float64</th><th title = \"Float64\" style = \"text-align: left;\">Float64</th><th title = \"Float64\" style = \"text-align: left;\">Float64</th><th title = \"Float64\" style = \"text-align: left;\">Float64</th><th title = \"Float64\" style = \"text-align: left;\">Float64</th><th title = \"Float64\" style = \"text-align: left;\">Float64</th><th title = \"Float64\" style = \"text-align: left;\">Float64</th><th title = \"Float64\" style = \"text-align: left;\">Float64</th><th title = \"Float64\" style = \"text-align: left;\">Float64</th><th title = \"Float64\" style = \"text-align: left;\">Float64</th><th title = \"Float64\" style = \"text-align: left;\">Float64</th><th title = \"Float64\" style = \"text-align: left;\">Float64</th><th title = \"Float64\" style = \"text-align: left;\">Float64</th><th title = \"Float64\" style = \"text-align: left;\">Float64</th><th title = \"Float64\" style = \"text-align: left;\">Float64</th><th title = \"Float64\" style = \"text-align: left;\">Float64</th><th title = \"Float64\" style = \"text-align: left;\">Float64</th><th title = \"Float64\" style = \"text-align: left;\">Float64</th><th title = \"Float64\" style = \"text-align: left;\">Float64</th><th title = \"Float64\" style = \"text-align: left;\">Float64</th><th title = \"Float64\" style = \"text-align: left;\">Float64</th><th title = \"Float64\" style = \"text-align: left;\">Float64</th><th title = \"Float64\" style = \"text-align: left;\">Float64</th><th title = \"Float64\" style = \"text-align: left;\">Float64</th><th title = \"Float64\" style = \"text-align: left;\">Float64</th><th title = \"Float64\" style = \"text-align: left;\">Float64</th><th title = \"Float64\" style = \"text-align: left;\">Float64</th><th title = \"Float64\" style = \"text-align: left;\">Float64</th><th title = \"Float64\" style = \"text-align: left;\">Float64</th><th title = \"Float64\" style = \"text-align: left;\">Float64</th><th title = \"Float64\" style = \"text-align: left;\">Float64</th><th title = \"Float64\" style = \"text-align: left;\">Float64</th><th title = \"Float64\" style = \"text-align: left;\">Float64</th><th title = \"Float64\" style = \"text-align: left;\">Float64</th><th title = \"Float64\" style = \"text-align: left;\">Float64</th><th title = \"Float64\" style = \"text-align: left;\">Float64</th><th title = \"Float64\" style = \"text-align: left;\">Float64</th><th title = \"Float64\" style = \"text-align: left;\">Float64</th><th title = \"Float64\" style = \"text-align: left;\">Float64</th><th title = \"Float64\" style = \"text-align: left;\">Float64</th><th title = \"Float64\" style = \"text-align: left;\">Float64</th><th title = \"Float64\" style = \"text-align: left;\">Float64</th><th title = \"Float64\" style = \"text-align: left;\">Float64</th><th title = \"Float64\" style = \"text-align: left;\">Float64</th><th title = \"Float64\" style = \"text-align: left;\">Float64</th><th title = \"Float64\" style = \"text-align: left;\">Float64</th><th title = \"Float64\" style = \"text-align: left;\">Float64</th><th title = \"Float64\" style = \"text-align: left;\">Float64</th><th title = \"Float64\" style = \"text-align: left;\">Float64</th><th title = \"Float64\" style = \"text-align: left;\">Float64</th><th title = \"Float64\" style = \"text-align: left;\">Float64</th><th title = \"Float64\" style = \"text-align: left;\">Float64</th><th title = \"Float64\" style = \"text-align: left;\">Float64</th><th title = \"Float64\" style = \"text-align: left;\">Float64</th><th title = \"Float64\" style = \"text-align: left;\">Float64</th><th title = \"Float64\" style = \"text-align: left;\">Float64</th><th title = \"Float64\" style = \"text-align: left;\">Float64</th><th title = \"Float64\" style = \"text-align: left;\">Float64</th><th title = \"Float64\" style = \"text-align: left;\">Float64</th><th title = \"Float64\" style = \"text-align: left;\">Float64</th><th title = \"Float64\" style = \"text-align: left;\">Float64</th><th title = \"Float64\" style = \"text-align: left;\">Float64</th><th title = \"Float64\" style = \"text-align: left;\">Float64</th><th title = \"Float64\" style = \"text-align: left;\">Float64</th><th title = \"Float64\" style = \"text-align: left;\">Float64</th><th title = \"Float64\" style = \"text-align: left;\">Float64</th><th title = \"Float64\" style = \"text-align: left;\">Float64</th><th title = \"Float64\" style = \"text-align: right;\">&ctdot;</th></tr></thead><tbody><tr><td class = \"rowNumber\" style = \"font-weight: bold; text-align: right;\">1</td><td style = \"text-align: left;\">ID_8358</td><td style = \"text-align: right;\">0.927116</td><td style = \"text-align: right;\">0.1112</td><td style = \"text-align: right;\">0.191489</td><td style = \"text-align: right;\">0.170838</td><td style = \"text-align: right;\">0.0250247</td><td style = \"text-align: right;\">0.0727422</td><td style = \"text-align: right;\">1.96025</td><td style = \"text-align: right;\">3.3038</td><td style = \"text-align: right;\">0.0637297</td><td style = \"text-align: right;\">1.1639</td><td style = \"text-align: right;\">5.43317</td><td style = \"text-align: right;\">28.2027</td><td style = \"text-align: right;\">4.68091</td><td style = \"text-align: right;\">0.3055</td><td style = \"text-align: right;\">0.120578</td><td style = \"text-align: right;\">0.00178243</td><td style = \"text-align: right;\">0.00125641</td><td style = \"text-align: right;\">0.000122501</td><td style = \"text-align: right;\">0.000648381</td><td style = \"text-align: right;\">0.00279648</td><td style = \"text-align: right;\">0.00109979</td><td style = \"text-align: right;\">0.00141082</td><td style = \"text-align: right;\">0.00076746</td><td style = \"text-align: right;\">0.00223166</td><td style = \"text-align: right;\">0.000723136</td><td style = \"text-align: right;\">0.00244708</td><td style = \"text-align: right;\">0.00253656</td><td style = \"text-align: right;\">0.00325909</td><td style = \"text-align: right;\">0.0247078</td><td style = \"text-align: right;\">0.138797</td><td style = \"text-align: right;\">0.00658138</td><td style = \"text-align: right;\">0.0119929</td><td style = \"text-align: right;\">0.0133137</td><td style = \"text-align: right;\">0.00450831</td><td style = \"text-align: right;\">0.00227563</td><td style = \"text-align: right;\">0.00820304</td><td style = \"text-align: right;\">0.0363347</td><td style = \"text-align: right;\">0.00632083</td><td style = \"text-align: right;\">0.00285019</td><td style = \"text-align: right;\">0.00238772</td><td style = \"text-align: right;\">0.00155109</td><td style = \"text-align: right;\">0.0036002</td><td style = \"text-align: right;\">0.000397416</td><td style = \"text-align: right;\">0.00103141</td><td style = \"text-align: right;\">0.000720601</td><td style = \"text-align: right;\">0.00415347</td><td style = \"text-align: right;\">0.0</td><td style = \"text-align: right;\">0.05688</td><td style = \"text-align: right;\">0.0362284</td><td style = \"text-align: right;\">0.00138894</td><td style = \"text-align: right;\">0.000155439</td><td style = \"text-align: right;\">0.00328304</td><td style = \"text-align: right;\">0.000878607</td><td style = \"text-align: right;\">0.0156385</td><td style = \"text-align: right;\">0.0231606</td><td style = \"text-align: right;\">0.000579967</td><td style = \"text-align: right;\">0.000435904</td><td style = \"text-align: right;\">0.0</td><td style = \"text-align: right;\">0.0</td><td style = \"text-align: right;\">0.000433841</td><td style = \"text-align: right;\">0.00163825</td><td style = \"text-align: right;\">0.00908995</td><td style = \"text-align: right;\">0.00619936</td><td style = \"text-align: right;\">0.0225298</td><td style = \"text-align: right;\">0.0333433</td><td style = \"text-align: right;\">0.000340793</td><td style = \"text-align: right;\">0.000277757</td><td style = \"text-align: right;\">0.000187578</td><td style = \"text-align: right;\">0.00072999</td><td style = \"text-align: right;\">0.000338608</td><td style = \"text-align: right;\">0.000477639</td><td style = \"text-align: right;\">0.000476282</td><td style = \"text-align: right;\">0.000209851</td><td style = \"text-align: right;\">0.000477837</td><td style = \"text-align: right;\">0.00100457</td><td style = \"text-align: right;\">0.000692627</td><td style = \"text-align: right;\">0.000126519</td><td style = \"text-align: right;\">0.000106107</td><td style = \"text-align: right;\">0.000423064</td><td style = \"text-align: right;\">0.000702681</td><td style = \"text-align: right;\">0.000589148</td><td style = \"text-align: right;\">0.000602564</td><td style = \"text-align: right;\">0.0123866</td><td style = \"text-align: right;\">0.130576</td><td style = \"text-align: right;\">0.0670281</td><td style = \"text-align: right;\">0.00310687</td><td style = \"text-align: right;\">0.0194128</td><td style = \"text-align: right;\">0.0296686</td><td style = \"text-align: right;\">0.0249781</td><td style = \"text-align: right;\">0.0998122</td><td style = \"text-align: right;\">0.0104715</td><td style = \"text-align: right;\">0.295451</td><td style = \"text-align: right;\">0.0739307</td><td style = \"text-align: right;\">0.0496915</td><td style = \"text-align: right;\">0.0470791</td><td style = \"text-align: right;\">0.021989</td><td style = \"text-align: right;\">0.0581613</td><td style = \"text-align: right;\">0.0896231</td><td style = \"text-align: right;\">0.404854</td><td style = \"text-align: right;\">&ctdot;</td></tr><tr><td class = \"rowNumber\" style = \"font-weight: bold; text-align: right;\">2</td><td style = \"text-align: left;\">ID_8370</td><td style = \"text-align: right;\">1.74833</td><td style = \"text-align: right;\">0.234566</td><td style = \"text-align: right;\">0.361085</td><td style = \"text-align: right;\">0.404351</td><td style = \"text-align: right;\">0.0167417</td><td style = \"text-align: right;\">0.0856783</td><td style = \"text-align: right;\">4.70527</td><td style = \"text-align: right;\">7.7702</td><td style = \"text-align: right;\">0.140981</td><td style = \"text-align: right;\">2.01535</td><td style = \"text-align: right;\">13.2623</td><td style = \"text-align: right;\">101.145</td><td style = \"text-align: right;\">9.29093</td><td style = \"text-align: right;\">1.44748</td><td style = \"text-align: right;\">0.417837</td><td style = \"text-align: right;\">0.00187567</td><td style = \"text-align: right;\">0.000975269</td><td style = \"text-align: right;\">0.000178255</td><td style = \"text-align: right;\">0.00115092</td><td style = \"text-align: right;\">0.00396501</td><td style = \"text-align: right;\">0.00111231</td><td style = \"text-align: right;\">0.00136917</td><td style = \"text-align: right;\">0.000968185</td><td style = \"text-align: right;\">0.00255134</td><td style = \"text-align: right;\">0.00101505</td><td style = \"text-align: right;\">0.00213384</td><td style = \"text-align: right;\">0.00281101</td><td style = \"text-align: right;\">0.00334522</td><td style = \"text-align: right;\">0.0877113</td><td style = \"text-align: right;\">2.14875</td><td style = \"text-align: right;\">0.0772441</td><td style = \"text-align: right;\">0.122669</td><td style = \"text-align: right;\">0.198582</td><td style = \"text-align: right;\">0.136642</td><td style = \"text-align: right;\">0.0111269</td><td style = \"text-align: right;\">0.0278811</td><td style = \"text-align: right;\">0.151556</td><td style = \"text-align: right;\">0.0141703</td><td style = \"text-align: right;\">0.00515175</td><td style = \"text-align: right;\">0.0216337</td><td style = \"text-align: right;\">0.0146715</td><td style = \"text-align: right;\">0.0720535</td><td style = \"text-align: right;\">0.0184738</td><td style = \"text-align: right;\">0.011065</td><td style = \"text-align: right;\">0.0042721</td><td style = \"text-align: right;\">0.049927</td><td style = \"text-align: right;\">0.00292398</td><td style = \"text-align: right;\">0.129614</td><td style = \"text-align: right;\">0.0476138</td><td style = \"text-align: right;\">0.0158283</td><td style = \"text-align: right;\">0.00137668</td><td style = \"text-align: right;\">0.002616</td><td style = \"text-align: right;\">0.00278814</td><td style = \"text-align: right;\">0.0324019</td><td style = \"text-align: right;\">0.0228627</td><td style = \"text-align: right;\">0.00111322</td><td style = \"text-align: right;\">0.00185592</td><td style = \"text-align: right;\">0.00100824</td><td style = \"text-align: right;\">0.000218267</td><td style = \"text-align: right;\">0.00451509</td><td style = \"text-align: right;\">0.00181229</td><td style = \"text-align: right;\">0.027524</td><td style = \"text-align: right;\">0.00830781</td><td style = \"text-align: right;\">0.0787198</td><td style = \"text-align: right;\">0.0975405</td><td style = \"text-align: right;\">0.000321746</td><td style = \"text-align: right;\">0.00024442</td><td style = \"text-align: right;\">0.000113678</td><td style = \"text-align: right;\">0.000620492</td><td style = \"text-align: right;\">0.000227495</td><td style = \"text-align: right;\">0.000418338</td><td style = \"text-align: right;\">0.000457429</td><td style = \"text-align: right;\">0.000238084</td><td style = \"text-align: right;\">0.000657814</td><td style = \"text-align: right;\">0.0022815</td><td style = \"text-align: right;\">0.000998544</td><td style = \"text-align: right;\">4.5685e-5</td><td style = \"text-align: right;\">0.00013472</td><td style = \"text-align: right;\">0.000460724</td><td style = \"text-align: right;\">0.00031772</td><td style = \"text-align: right;\">0.000586251</td><td style = \"text-align: right;\">0.000812436</td><td style = \"text-align: right;\">0.0416201</td><td style = \"text-align: right;\">0.215073</td><td style = \"text-align: right;\">0.142543</td><td style = \"text-align: right;\">0.00676283</td><td style = \"text-align: right;\">0.0332415</td><td style = \"text-align: right;\">0.0494194</td><td style = \"text-align: right;\">0.0880554</td><td style = \"text-align: right;\">0.20306</td><td style = \"text-align: right;\">0.0186122</td><td style = \"text-align: right;\">0.734117</td><td style = \"text-align: right;\">0.104191</td><td style = \"text-align: right;\">0.0603695</td><td style = \"text-align: right;\">0.172245</td><td style = \"text-align: right;\">0.0991541</td><td style = \"text-align: right;\">0.0490871</td><td style = \"text-align: right;\">0.157919</td><td style = \"text-align: right;\">1.09033</td><td style = \"text-align: right;\">&ctdot;</td></tr><tr><td class = \"rowNumber\" style = \"font-weight: bold; text-align: right;\">3</td><td style = \"text-align: left;\">ID_8378</td><td style = \"text-align: right;\">1.32454</td><td style = \"text-align: right;\">0.122387</td><td style = \"text-align: right;\">0.192543</td><td style = \"text-align: right;\">0.263061</td><td style = \"text-align: right;\">0.0121213</td><td style = \"text-align: right;\">0.0801073</td><td style = \"text-align: right;\">2.75957</td><td style = \"text-align: right;\">8.09386</td><td style = \"text-align: right;\">0.0742277</td><td style = \"text-align: right;\">0.694728</td><td style = \"text-align: right;\">9.62645</td><td style = \"text-align: right;\">51.2608</td><td style = \"text-align: right;\">6.31774</td><td style = \"text-align: right;\">0.616001</td><td style = \"text-align: right;\">0.156156</td><td style = \"text-align: right;\">0.000927477</td><td style = \"text-align: right;\">0.00028754</td><td style = \"text-align: right;\">0.000108537</td><td style = \"text-align: right;\">0.00177058</td><td style = \"text-align: right;\">0.0100534</td><td style = \"text-align: right;\">0.00254842</td><td style = \"text-align: right;\">0.000746835</td><td style = \"text-align: right;\">0.000979749</td><td style = \"text-align: right;\">0.00212162</td><td style = \"text-align: right;\">0.000198859</td><td style = \"text-align: right;\">0.000645667</td><td style = \"text-align: right;\">0.00220916</td><td style = \"text-align: right;\">0.00660744</td><td style = \"text-align: right;\">0.0827329</td><td style = \"text-align: right;\">0.179732</td><td style = \"text-align: right;\">0.0130542</td><td style = \"text-align: right;\">0.0369821</td><td style = \"text-align: right;\">0.035005</td><td style = \"text-align: right;\">0.00479483</td><td style = \"text-align: right;\">0.0110716</td><td style = \"text-align: right;\">0.0238696</td><td style = \"text-align: right;\">0.127575</td><td style = \"text-align: right;\">0.00384548</td><td style = \"text-align: right;\">0.00321389</td><td style = \"text-align: right;\">0.0148919</td><td style = \"text-align: right;\">0.00855081</td><td style = \"text-align: right;\">0.00665483</td><td style = \"text-align: right;\">0.00240562</td><td style = \"text-align: right;\">0.0147389</td><td style = \"text-align: right;\">0.0112803</td><td style = \"text-align: right;\">0.0046398</td><td style = \"text-align: right;\">0.00520706</td><td style = \"text-align: right;\">0.141871</td><td style = \"text-align: right;\">0.0417757</td><td style = \"text-align: right;\">0.0196537</td><td style = \"text-align: right;\">0.00211242</td><td style = \"text-align: right;\">0.00341629</td><td style = \"text-align: right;\">0.00924601</td><td style = \"text-align: right;\">0.0349223</td><td style = \"text-align: right;\">0.0228917</td><td style = \"text-align: right;\">0.000691376</td><td style = \"text-align: right;\">0.000809838</td><td style = \"text-align: right;\">0.000222498</td><td style = \"text-align: right;\">0.000160269</td><td style = \"text-align: right;\">0.00636141</td><td style = \"text-align: right;\">0.000954845</td><td style = \"text-align: right;\">0.0215574</td><td style = \"text-align: right;\">0.00525607</td><td style = \"text-align: right;\">0.0993853</td><td style = \"text-align: right;\">0.0613583</td><td style = \"text-align: right;\">0.000371016</td><td style = \"text-align: right;\">0.0004856</td><td style = \"text-align: right;\">0.000113592</td><td style = \"text-align: right;\">0.00100663</td><td style = \"text-align: right;\">0.000308091</td><td style = \"text-align: right;\">0.000376678</td><td style = \"text-align: right;\">0.000299875</td><td style = \"text-align: right;\">0.000642527</td><td style = \"text-align: right;\">0.00118469</td><td style = \"text-align: right;\">0.00536642</td><td style = \"text-align: right;\">0.00179496</td><td style = \"text-align: right;\">0.000228609</td><td style = \"text-align: right;\">0.00021822</td><td style = \"text-align: right;\">0.000984546</td><td style = \"text-align: right;\">0.000492161</td><td style = \"text-align: right;\">0.00057662</td><td style = \"text-align: right;\">0.000932829</td><td style = \"text-align: right;\">0.0480428</td><td style = \"text-align: right;\">0.243249</td><td style = \"text-align: right;\">0.172623</td><td style = \"text-align: right;\">0.0065151</td><td style = \"text-align: right;\">0.0257212</td><td style = \"text-align: right;\">0.0560553</td><td style = \"text-align: right;\">0.0967311</td><td style = \"text-align: right;\">0.35906</td><td style = \"text-align: right;\">0.0253458</td><td style = \"text-align: right;\">0.912677</td><td style = \"text-align: right;\">0.123346</td><td style = \"text-align: right;\">0.0565454</td><td style = \"text-align: right;\">0.119349</td><td style = \"text-align: right;\">0.0467782</td><td style = \"text-align: right;\">0.0646726</td><td style = \"text-align: right;\">0.197627</td><td style = \"text-align: right;\">1.37777</td><td style = \"text-align: right;\">&ctdot;</td></tr></tbody></table></div>"
      ],
      "text/latex": [
       "\\begin{tabular}{r|ccccccccc}\n",
       "\t& SampleID & MT10001 & MT10002 & MT10003 & MT10004 & MT10005 & MT10006 & MT10007 & \\\\\n",
       "\t\\hline\n",
       "\t& String7 & Float64 & Float64 & Float64 & Float64 & Float64 & Float64 & Float64 & \\\\\n",
       "\t\\hline\n",
       "\t1 & ID\\_8358 & 0.927116 & 0.1112 & 0.191489 & 0.170838 & 0.0250247 & 0.0727422 & 1.96025 & $\\dots$ \\\\\n",
       "\t2 & ID\\_8370 & 1.74833 & 0.234566 & 0.361085 & 0.404351 & 0.0167417 & 0.0856783 & 4.70527 & $\\dots$ \\\\\n",
       "\t3 & ID\\_8378 & 1.32454 & 0.122387 & 0.192543 & 0.263061 & 0.0121213 & 0.0801073 & 2.75957 & $\\dots$ \\\\\n",
       "\\end{tabular}\n"
      ],
      "text/plain": [
       "\u001b[1m3×591 DataFrame\u001b[0m\n",
       "\u001b[1m Row \u001b[0m│\u001b[1m SampleID \u001b[0m\u001b[1m MT10001  \u001b[0m\u001b[1m MT10002  \u001b[0m\u001b[1m MT10003  \u001b[0m\u001b[1m MT10004  \u001b[0m\u001b[1m MT10005   \u001b[0m\u001b[1m MT10006   \u001b[0m\u001b[1m\u001b[0m ⋯\n",
       "     │\u001b[90m String7  \u001b[0m\u001b[90m Float64  \u001b[0m\u001b[90m Float64  \u001b[0m\u001b[90m Float64  \u001b[0m\u001b[90m Float64  \u001b[0m\u001b[90m Float64   \u001b[0m\u001b[90m Float64   \u001b[0m\u001b[90m\u001b[0m ⋯\n",
       "─────┼──────────────────────────────────────────────────────────────────────────\n",
       "   1 │ ID_8358   0.927116  0.1112    0.191489  0.170838  0.0250247  0.0727422  ⋯\n",
       "   2 │ ID_8370   1.74833   0.234566  0.361085  0.404351  0.0167417  0.0856783\n",
       "   3 │ ID_8378   1.32454   0.122387  0.192543  0.263061  0.0121213  0.0801073\n",
       "\u001b[36m                                                             584 columns omitted\u001b[0m"
      ]
     },
     "execution_count": 7,
     "metadata": {},
     "output_type": "execute_result"
    }
   ],
   "source": [
    "df = pqnorm(dfMetabo, startCol = 2);\n",
    "first(df, 3)"
   ]
  },
  {
   "cell_type": "markdown",
   "id": "3a6fda63-d784-4417-8cb8-9e1bf4a7cc04",
   "metadata": {},
   "source": [
    "## Transformation\n",
    "---\n",
    "\n",
    "A simple and widely used transformation to make data more symmetric and homoscedastic is the log-transformation."
   ]
  },
  {
   "cell_type": "code",
   "execution_count": 8,
   "id": "c02bd660-b7f1-4bc4-b2d9-5dd57b07293c",
   "metadata": {},
   "outputs": [
    {
     "data": {
      "text/html": [
       "<div><div style = \"float: left;\"><span>2×591 DataFrame</span></div><div style = \"float: right;\"><span style = \"font-style: italic;\">491 columns omitted</span></div><div style = \"clear: both;\"></div></div><div class = \"data-frame\" style = \"overflow-x: scroll;\"><table class = \"data-frame\" style = \"margin-bottom: 6px;\"><thead><tr class = \"header\"><th class = \"rowNumber\" style = \"font-weight: bold; text-align: right;\">Row</th><th style = \"text-align: left;\">SampleID</th><th style = \"text-align: left;\">MT10001</th><th style = \"text-align: left;\">MT10002</th><th style = \"text-align: left;\">MT10003</th><th style = \"text-align: left;\">MT10004</th><th style = \"text-align: left;\">MT10005</th><th style = \"text-align: left;\">MT10006</th><th style = \"text-align: left;\">MT10007</th><th style = \"text-align: left;\">MT10008</th><th style = \"text-align: left;\">MT10009</th><th style = \"text-align: left;\">MT10010</th><th style = \"text-align: left;\">MT10011</th><th style = \"text-align: left;\">MT10012</th><th style = \"text-align: left;\">MT10013</th><th style = \"text-align: left;\">MT10014</th><th style = \"text-align: left;\">MT10015</th><th style = \"text-align: left;\">MT10016</th><th style = \"text-align: left;\">MT10017</th><th style = \"text-align: left;\">MT10018</th><th style = \"text-align: left;\">MT10019</th><th style = \"text-align: left;\">MT10020</th><th style = \"text-align: left;\">MT10021</th><th style = \"text-align: left;\">MT10022</th><th style = \"text-align: left;\">MT10023</th><th style = \"text-align: left;\">MT10024</th><th style = \"text-align: left;\">MT10025</th><th style = \"text-align: left;\">MT10026</th><th style = \"text-align: left;\">MT10027</th><th style = \"text-align: left;\">MT10028</th><th style = \"text-align: left;\">MT10029</th><th style = \"text-align: left;\">MT10030</th><th style = \"text-align: left;\">MT10031</th><th style = \"text-align: left;\">MT10032</th><th style = \"text-align: left;\">MT10033</th><th style = \"text-align: left;\">MT10034</th><th style = \"text-align: left;\">MT10035</th><th style = \"text-align: left;\">MT10036</th><th style = \"text-align: left;\">MT10037</th><th style = \"text-align: left;\">MT10038</th><th style = \"text-align: left;\">MT10039</th><th style = \"text-align: left;\">MT10040</th><th style = \"text-align: left;\">MT10041</th><th style = \"text-align: left;\">MT10042</th><th style = \"text-align: left;\">MT10043</th><th style = \"text-align: left;\">MT10044</th><th style = \"text-align: left;\">MT10045</th><th style = \"text-align: left;\">MT10046</th><th style = \"text-align: left;\">MT10047</th><th style = \"text-align: left;\">MT10048</th><th style = \"text-align: left;\">MT10049</th><th style = \"text-align: left;\">MT10050</th><th style = \"text-align: left;\">MT10051</th><th style = \"text-align: left;\">MT10052</th><th style = \"text-align: left;\">MT10053</th><th style = \"text-align: left;\">MT10054</th><th style = \"text-align: left;\">MT10055</th><th style = \"text-align: left;\">MT10056</th><th style = \"text-align: left;\">MT10057</th><th style = \"text-align: left;\">MT10058</th><th style = \"text-align: left;\">MT10059</th><th style = \"text-align: left;\">MT10060</th><th style = \"text-align: left;\">MT10061</th><th style = \"text-align: left;\">MT10062</th><th style = \"text-align: left;\">MT10063</th><th style = \"text-align: left;\">MT10064</th><th style = \"text-align: left;\">MT10065</th><th style = \"text-align: left;\">MT10066</th><th style = \"text-align: left;\">MT10067</th><th style = \"text-align: left;\">MT10068</th><th style = \"text-align: left;\">MT10069</th><th style = \"text-align: left;\">MT10070</th><th style = \"text-align: left;\">MT10071</th><th style = \"text-align: left;\">MT10072</th><th style = \"text-align: left;\">MT10073</th><th style = \"text-align: left;\">MT10074</th><th style = \"text-align: left;\">MT10075</th><th style = \"text-align: left;\">MT10076</th><th style = \"text-align: left;\">MT10077</th><th style = \"text-align: left;\">MT10078</th><th style = \"text-align: left;\">MT10079</th><th style = \"text-align: left;\">MT10080</th><th style = \"text-align: left;\">MT10081</th><th style = \"text-align: left;\">MT10082</th><th style = \"text-align: left;\">MT10083</th><th style = \"text-align: left;\">MT10084</th><th style = \"text-align: left;\">MT10085</th><th style = \"text-align: left;\">MT10086</th><th style = \"text-align: left;\">MT10087</th><th style = \"text-align: left;\">MT10088</th><th style = \"text-align: left;\">MT10089</th><th style = \"text-align: left;\">MT10090</th><th style = \"text-align: left;\">MT10091</th><th style = \"text-align: left;\">MT10092</th><th style = \"text-align: left;\">MT10093</th><th style = \"text-align: left;\">MT10094</th><th style = \"text-align: left;\">MT10095</th><th style = \"text-align: left;\">MT10096</th><th style = \"text-align: left;\">MT10097</th><th style = \"text-align: left;\">MT10098</th><th style = \"text-align: left;\">MT10099</th><th style = \"text-align: right;\">&ctdot;</th></tr><tr class = \"subheader headerLastRow\"><th class = \"rowNumber\" style = \"font-weight: bold; text-align: right;\"></th><th title = \"String7\" style = \"text-align: left;\">String7</th><th title = \"Float64\" style = \"text-align: left;\">Float64</th><th title = \"Float64\" style = \"text-align: left;\">Float64</th><th title = \"Float64\" style = \"text-align: left;\">Float64</th><th title = \"Float64\" style = \"text-align: left;\">Float64</th><th title = \"Float64\" style = \"text-align: left;\">Float64</th><th title = \"Float64\" style = \"text-align: left;\">Float64</th><th title = \"Float64\" style = \"text-align: left;\">Float64</th><th title = \"Float64\" style = \"text-align: left;\">Float64</th><th title = \"Float64\" style = \"text-align: left;\">Float64</th><th title = \"Float64\" style = \"text-align: left;\">Float64</th><th title = \"Float64\" style = \"text-align: left;\">Float64</th><th title = \"Float64\" style = \"text-align: left;\">Float64</th><th title = \"Float64\" style = \"text-align: left;\">Float64</th><th title = \"Float64\" style = \"text-align: left;\">Float64</th><th title = \"Float64\" style = \"text-align: left;\">Float64</th><th title = \"Float64\" style = \"text-align: left;\">Float64</th><th title = \"Float64\" style = \"text-align: left;\">Float64</th><th title = \"Float64\" style = \"text-align: left;\">Float64</th><th title = \"Float64\" style = \"text-align: left;\">Float64</th><th title = \"Float64\" style = \"text-align: left;\">Float64</th><th title = \"Float64\" style = \"text-align: left;\">Float64</th><th title = \"Float64\" style = \"text-align: left;\">Float64</th><th title = \"Float64\" style = \"text-align: left;\">Float64</th><th title = \"Float64\" style = \"text-align: left;\">Float64</th><th title = \"Float64\" style = \"text-align: left;\">Float64</th><th title = \"Float64\" style = \"text-align: left;\">Float64</th><th title = \"Float64\" style = \"text-align: left;\">Float64</th><th title = \"Float64\" style = \"text-align: left;\">Float64</th><th title = \"Float64\" style = \"text-align: left;\">Float64</th><th title = \"Float64\" style = \"text-align: left;\">Float64</th><th title = \"Float64\" style = \"text-align: left;\">Float64</th><th title = \"Float64\" style = \"text-align: left;\">Float64</th><th title = \"Float64\" style = \"text-align: left;\">Float64</th><th title = \"Float64\" style = \"text-align: left;\">Float64</th><th title = \"Float64\" style = \"text-align: left;\">Float64</th><th title = \"Float64\" style = \"text-align: left;\">Float64</th><th title = \"Float64\" style = \"text-align: left;\">Float64</th><th title = \"Float64\" style = \"text-align: left;\">Float64</th><th title = \"Float64\" style = \"text-align: left;\">Float64</th><th title = \"Float64\" style = \"text-align: left;\">Float64</th><th title = \"Float64\" style = \"text-align: left;\">Float64</th><th title = \"Float64\" style = \"text-align: left;\">Float64</th><th title = \"Float64\" style = \"text-align: left;\">Float64</th><th title = \"Float64\" style = \"text-align: left;\">Float64</th><th title = \"Float64\" style = \"text-align: left;\">Float64</th><th title = \"Float64\" style = \"text-align: left;\">Float64</th><th title = \"Float64\" style = \"text-align: left;\">Float64</th><th title = \"Float64\" style = \"text-align: left;\">Float64</th><th title = \"Float64\" style = \"text-align: left;\">Float64</th><th title = \"Float64\" style = \"text-align: left;\">Float64</th><th title = \"Float64\" style = \"text-align: left;\">Float64</th><th title = \"Float64\" style = \"text-align: left;\">Float64</th><th title = \"Float64\" style = \"text-align: left;\">Float64</th><th title = \"Float64\" style = \"text-align: left;\">Float64</th><th title = \"Float64\" style = \"text-align: left;\">Float64</th><th title = \"Float64\" style = \"text-align: left;\">Float64</th><th title = \"Float64\" style = \"text-align: left;\">Float64</th><th title = \"Float64\" style = \"text-align: left;\">Float64</th><th title = \"Float64\" style = \"text-align: left;\">Float64</th><th title = \"Float64\" style = \"text-align: left;\">Float64</th><th title = \"Float64\" style = \"text-align: left;\">Float64</th><th title = \"Float64\" style = \"text-align: left;\">Float64</th><th title = \"Float64\" style = \"text-align: left;\">Float64</th><th title = \"Float64\" style = \"text-align: left;\">Float64</th><th title = \"Float64\" style = \"text-align: left;\">Float64</th><th title = \"Float64\" style = \"text-align: left;\">Float64</th><th title = \"Float64\" style = \"text-align: left;\">Float64</th><th title = \"Float64\" style = \"text-align: left;\">Float64</th><th title = \"Float64\" style = \"text-align: left;\">Float64</th><th title = \"Float64\" style = \"text-align: left;\">Float64</th><th title = \"Float64\" style = \"text-align: left;\">Float64</th><th title = \"Float64\" style = \"text-align: left;\">Float64</th><th title = \"Float64\" style = \"text-align: left;\">Float64</th><th title = \"Float64\" style = \"text-align: left;\">Float64</th><th title = \"Float64\" style = \"text-align: left;\">Float64</th><th title = \"Float64\" style = \"text-align: left;\">Float64</th><th title = \"Float64\" style = \"text-align: left;\">Float64</th><th title = \"Float64\" style = \"text-align: left;\">Float64</th><th title = \"Float64\" style = \"text-align: left;\">Float64</th><th title = \"Float64\" style = \"text-align: left;\">Float64</th><th title = \"Float64\" style = \"text-align: left;\">Float64</th><th title = \"Float64\" style = \"text-align: left;\">Float64</th><th title = \"Float64\" style = \"text-align: left;\">Float64</th><th title = \"Float64\" style = \"text-align: left;\">Float64</th><th title = \"Float64\" style = \"text-align: left;\">Float64</th><th title = \"Float64\" style = \"text-align: left;\">Float64</th><th title = \"Float64\" style = \"text-align: left;\">Float64</th><th title = \"Float64\" style = \"text-align: left;\">Float64</th><th title = \"Float64\" style = \"text-align: left;\">Float64</th><th title = \"Float64\" style = \"text-align: left;\">Float64</th><th title = \"Float64\" style = \"text-align: left;\">Float64</th><th title = \"Float64\" style = \"text-align: left;\">Float64</th><th title = \"Float64\" style = \"text-align: left;\">Float64</th><th title = \"Float64\" style = \"text-align: left;\">Float64</th><th title = \"Float64\" style = \"text-align: left;\">Float64</th><th title = \"Float64\" style = \"text-align: left;\">Float64</th><th title = \"Float64\" style = \"text-align: left;\">Float64</th><th title = \"Float64\" style = \"text-align: left;\">Float64</th><th title = \"Float64\" style = \"text-align: left;\">Float64</th><th title = \"Float64\" style = \"text-align: right;\">&ctdot;</th></tr></thead><tbody><tr><td class = \"rowNumber\" style = \"font-weight: bold; text-align: right;\">1</td><td style = \"text-align: left;\">ID_8358</td><td style = \"text-align: right;\">0.946443</td><td style = \"text-align: right;\">0.152119</td><td style = \"text-align: right;\">0.252765</td><td style = \"text-align: right;\">0.227541</td><td style = \"text-align: right;\">0.0356586</td><td style = \"text-align: right;\">0.101303</td><td style = \"text-align: right;\">1.56572</td><td style = \"text-align: right;\">2.10561</td><td style = \"text-align: right;\">0.0891316</td><td style = \"text-align: right;\">1.11363</td><td style = \"text-align: right;\">2.68553</td><td style = \"text-align: right;\">4.86803</td><td style = \"text-align: right;\">2.50612</td><td style = \"text-align: right;\">0.384602</td><td style = \"text-align: right;\">0.164243</td><td style = \"text-align: right;\">0.00256921</td><td style = \"text-align: right;\">0.00181148</td><td style = \"text-align: right;\">0.00017672</td><td style = \"text-align: right;\">0.000935113</td><td style = \"text-align: right;\">0.00402884</td><td style = \"text-align: right;\">0.00158579</td><td style = \"text-align: right;\">0.00203395</td><td style = \"text-align: right;\">0.00110679</td><td style = \"text-align: right;\">0.00321602</td><td style = \"text-align: right;\">0.00104289</td><td style = \"text-align: right;\">0.00352608</td><td style = \"text-align: right;\">0.00365485</td><td style = \"text-align: right;\">0.00469423</td><td style = \"text-align: right;\">0.0352125</td><td style = \"text-align: right;\">0.18751</td><td style = \"text-align: right;\">0.00946381</td><td style = \"text-align: right;\">0.0171992</td><td style = \"text-align: right;\">0.0190809</td><td style = \"text-align: right;\">0.0064895</td><td style = \"text-align: right;\">0.00327931</td><td style = \"text-align: right;\">0.0117862</td><td style = \"text-align: right;\">0.0514901</td><td style = \"text-align: right;\">0.00909033</td><td style = \"text-align: right;\">0.0041061</td><td style = \"text-align: right;\">0.00344064</td><td style = \"text-align: right;\">0.00223602</td><td style = \"text-align: right;\">0.00518467</td><td style = \"text-align: right;\">0.000573236</td><td style = \"text-align: right;\">0.00148724</td><td style = \"text-align: right;\">0.00103923</td><td style = \"text-align: right;\">0.00597979</td><td style = \"text-align: right;\">0.0</td><td style = \"text-align: right;\">0.0798116</td><td style = \"text-align: right;\">0.051342</td><td style = \"text-align: right;\">0.00200243</td><td style = \"text-align: right;\">0.000224234</td><td style = \"text-align: right;\">0.00472867</td><td style = \"text-align: right;\">0.00126701</td><td style = \"text-align: right;\">0.022387</td><td style = \"text-align: right;\">0.0330327</td><td style = \"text-align: right;\">0.000836473</td><td style = \"text-align: right;\">0.000628739</td><td style = \"text-align: right;\">0.0</td><td style = \"text-align: right;\">0.0</td><td style = \"text-align: right;\">0.000625764</td><td style = \"text-align: right;\">0.00236156</td><td style = \"text-align: right;\">0.0130548</td><td style = \"text-align: right;\">0.00891618</td><td style = \"text-align: right;\">0.032143</td><td style = \"text-align: right;\">0.0473196</td><td style = \"text-align: right;\">0.000491576</td><td style = \"text-align: right;\">0.000400663</td><td style = \"text-align: right;\">0.000270593</td><td style = \"text-align: right;\">0.00105277</td><td style = \"text-align: right;\">0.000488426</td><td style = \"text-align: right;\">0.000688923</td><td style = \"text-align: right;\">0.000686966</td><td style = \"text-align: right;\">0.00030272</td><td style = \"text-align: right;\">0.000689208</td><td style = \"text-align: right;\">0.00144857</td><td style = \"text-align: right;\">0.000998904</td><td style = \"text-align: right;\">0.000182517</td><td style = \"text-align: right;\">0.000153072</td><td style = \"text-align: right;\">0.000610223</td><td style = \"text-align: right;\">0.0010134</td><td style = \"text-align: right;\">0.000849711</td><td style = \"text-align: right;\">0.000869054</td><td style = \"text-align: right;\">0.0177603</td><td style = \"text-align: right;\">0.177058</td><td style = \"text-align: right;\">0.0935982</td><td style = \"text-align: right;\">0.00447531</td><td style = \"text-align: right;\">0.0277384</td><td style = \"text-align: right;\">0.0421801</td><td style = \"text-align: right;\">0.0355931</td><td style = \"text-align: right;\">0.137257</td><td style = \"text-align: right;\">0.0150287</td><td style = \"text-align: right;\">0.373455</td><td style = \"text-align: right;\">0.102901</td><td style = \"text-align: right;\">0.0699654</td><td style = \"text-align: right;\">0.0663704</td><td style = \"text-align: right;\">0.0313797</td><td style = \"text-align: right;\">0.0815595</td><td style = \"text-align: right;\">0.123829</td><td style = \"text-align: right;\">0.490421</td><td style = \"text-align: right;\">&ctdot;</td></tr><tr><td class = \"rowNumber\" style = \"font-weight: bold; text-align: right;\">2</td><td style = \"text-align: left;\">ID_8370</td><td style = \"text-align: right;\">1.45856</td><td style = \"text-align: right;\">0.304004</td><td style = \"text-align: right;\">0.444757</td><td style = \"text-align: right;\">0.489904</td><td style = \"text-align: right;\">0.0239532</td><td style = \"text-align: right;\">0.118597</td><td style = \"text-align: right;\">2.5123</td><td style = \"text-align: right;\">3.13261</td><td style = \"text-align: right;\">0.190275</td><td style = \"text-align: right;\">1.59232</td><td style = \"text-align: right;\">3.83413</td><td style = \"text-align: right;\">6.67447</td><td style = \"text-align: right;\">3.3633</td><td style = \"text-align: right;\">1.29129</td><td style = \"text-align: right;\">0.503692</td><td style = \"text-align: right;\">0.00270348</td><td style = \"text-align: right;\">0.00140633</td><td style = \"text-align: right;\">0.000257144</td><td style = \"text-align: right;\">0.00165947</td><td style = \"text-align: right;\">0.00570899</td><td style = \"text-align: right;\">0.00160384</td><td style = \"text-align: right;\">0.00197395</td><td style = \"text-align: right;\">0.00139612</td><td style = \"text-align: right;\">0.00367612</td><td style = \"text-align: right;\">0.00146367</td><td style = \"text-align: right;\">0.0030752</td><td style = \"text-align: right;\">0.00404974</td><td style = \"text-align: right;\">0.00481807</td><td style = \"text-align: right;\">0.121296</td><td style = \"text-align: right;\">1.65478</td><td style = \"text-align: right;\">0.107345</td><td style = \"text-align: right;\">0.166932</td><td style = \"text-align: right;\">0.261329</td><td style = \"text-align: right;\">0.184777</td><td style = \"text-align: right;\">0.0159641</td><td style = \"text-align: right;\">0.0396733</td><td style = \"text-align: right;\">0.203584</td><td style = \"text-align: right;\">0.0202999</td><td style = \"text-align: right;\">0.00741332</td><td style = \"text-align: right;\">0.030878</td><td style = \"text-align: right;\">0.0210128</td><td style = \"text-align: right;\">0.100377</td><td style = \"text-align: right;\">0.0264089</td><td style = \"text-align: right;\">0.0158757</td><td style = \"text-align: right;\">0.0061502</td><td style = \"text-align: right;\">0.0702891</td><td style = \"text-align: right;\">0.00421226</td><td style = \"text-align: right;\">0.17583</td><td style = \"text-align: right;\">0.067107</td><td style = \"text-align: right;\">0.0226566</td><td style = \"text-align: right;\">0.00198477</td><td style = \"text-align: right;\">0.00376916</td><td style = \"text-align: right;\">0.00401684</td><td style = \"text-align: right;\">0.0460047</td><td style = \"text-align: right;\">0.0326125</td><td style = \"text-align: right;\">0.00160514</td><td style = \"text-align: right;\">0.00267505</td><td style = \"text-align: right;\">0.00145385</td><td style = \"text-align: right;\">0.000314858</td><td style = \"text-align: right;\">0.00649923</td><td style = \"text-align: right;\">0.00261222</td><td style = \"text-align: right;\">0.039172</td><td style = \"text-align: right;\">0.0119361</td><td style = \"text-align: right;\">0.10932</td><td style = \"text-align: right;\">0.134274</td><td style = \"text-align: right;\">0.000464106</td><td style = \"text-align: right;\">0.000352581</td><td style = \"text-align: right;\">0.000163994</td><td style = \"text-align: right;\">0.000894903</td><td style = \"text-align: right;\">0.000328168</td><td style = \"text-align: right;\">0.000603408</td><td style = \"text-align: right;\">0.00065978</td><td style = \"text-align: right;\">0.000343442</td><td style = \"text-align: right;\">0.000948713</td><td style = \"text-align: right;\">0.00328776</td><td style = \"text-align: right;\">0.00143988</td><td style = \"text-align: right;\">6.5908e-5</td><td style = \"text-align: right;\">0.000194346</td><td style = \"text-align: right;\">0.000664531</td><td style = \"text-align: right;\">0.0004583</td><td style = \"text-align: right;\">0.000845534</td><td style = \"text-align: right;\">0.00117162</td><td style = \"text-align: right;\">0.0588292</td><td style = \"text-align: right;\">0.281043</td><td style = \"text-align: right;\">0.192249</td><td style = \"text-align: right;\">0.00972386</td><td style = \"text-align: right;\">0.0471775</td><td style = \"text-align: right;\">0.0695914</td><td style = \"text-align: right;\">0.121752</td><td style = \"text-align: right;\">0.266708</td><td style = \"text-align: right;\">0.0266049</td><td style = \"text-align: right;\">0.794202</td><td style = \"text-align: right;\">0.14299</td><td style = \"text-align: right;\">0.0845671</td><td style = \"text-align: right;\">0.229274</td><td style = \"text-align: right;\">0.136394</td><td style = \"text-align: right;\">0.0691345</td><td style = \"text-align: right;\">0.211535</td><td style = \"text-align: right;\">1.06373</td><td style = \"text-align: right;\">&ctdot;</td></tr></tbody></table></div>"
      ],
      "text/latex": [
       "\\begin{tabular}{r|ccccccccc}\n",
       "\t& SampleID & MT10001 & MT10002 & MT10003 & MT10004 & MT10005 & MT10006 & MT10007 & \\\\\n",
       "\t\\hline\n",
       "\t& String7 & Float64 & Float64 & Float64 & Float64 & Float64 & Float64 & Float64 & \\\\\n",
       "\t\\hline\n",
       "\t1 & ID\\_8358 & 0.946443 & 0.152119 & 0.252765 & 0.227541 & 0.0356586 & 0.101303 & 1.56572 & $\\dots$ \\\\\n",
       "\t2 & ID\\_8370 & 1.45856 & 0.304004 & 0.444757 & 0.489904 & 0.0239532 & 0.118597 & 2.5123 & $\\dots$ \\\\\n",
       "\\end{tabular}\n"
      ],
      "text/plain": [
       "\u001b[1m2×591 DataFrame\u001b[0m\n",
       "\u001b[1m Row \u001b[0m│\u001b[1m SampleID \u001b[0m\u001b[1m MT10001  \u001b[0m\u001b[1m MT10002  \u001b[0m\u001b[1m MT10003  \u001b[0m\u001b[1m MT10004  \u001b[0m\u001b[1m MT10005   \u001b[0m\u001b[1m MT10006  \u001b[0m\u001b[1m \u001b[0m ⋯\n",
       "     │\u001b[90m String7  \u001b[0m\u001b[90m Float64  \u001b[0m\u001b[90m Float64  \u001b[0m\u001b[90m Float64  \u001b[0m\u001b[90m Float64  \u001b[0m\u001b[90m Float64   \u001b[0m\u001b[90m Float64  \u001b[0m\u001b[90m \u001b[0m ⋯\n",
       "─────┼──────────────────────────────────────────────────────────────────────────\n",
       "   1 │ ID_8358   0.946443  0.152119  0.252765  0.227541  0.0356586  0.101303   ⋯\n",
       "   2 │ ID_8370   1.45856   0.304004  0.444757  0.489904  0.0239532  0.118597\n",
       "\u001b[36m                                                             584 columns omitted\u001b[0m"
      ]
     },
     "execution_count": 8,
     "metadata": {},
     "output_type": "execute_result"
    }
   ],
   "source": [
    "df = log2tx(df, startCol = 2);\n",
    "first(df, 2)"
   ]
  },
  {
   "cell_type": "markdown",
   "id": "9665eb9e-c010-4dd4-be3e-004cf3fd5301",
   "metadata": {
    "kernel": "SoS"
   },
   "source": [
    "## Save pretreatments"
   ]
  },
  {
   "cell_type": "code",
   "execution_count": 9,
   "id": "6a978d91-f599-41b4-96ac-831dabfa6fa2",
   "metadata": {
    "kernel": "Julia 1.5.3"
   },
   "outputs": [
    {
     "data": {
      "text/plain": [
       "\"C:\\\\git\\\\gregfa\\\\Metabolomic\\\\PANSTEATITISstudyST001052\\\\notebooks\\\\preprocessing\\\\..\\\\..\\\\data\\\\processed\\\\nl2_Meta_old.csv\""
      ]
     },
     "execution_count": 9,
     "metadata": {},
     "output_type": "execute_result"
    }
   ],
   "source": [
    "fileMeta = joinpath(@__DIR__,\"..\",\"..\",\"data\",\"processed\",\"nl2_Meta_old.csv\");\n",
    "df |> CSV.write(fileMeta)"
   ]
  },
  {
   "cell_type": "code",
   "execution_count": 10,
   "id": "857fd4e2-92ba-4c37-a4b9-8f24d2693620",
   "metadata": {},
   "outputs": [
    {
     "name": "stdout",
     "output_type": "stream",
     "text": [
      "Julia Version 1.8.5\n",
      "Commit 17cfb8e65e (2023-01-08 06:45 UTC)\n",
      "Platform Info:\n",
      "  OS: Windows (x86_64-w64-mingw32)\n",
      "  CPU: 4 × Intel(R) Core(TM) i5-6500 CPU @ 3.20GHz\n",
      "  WORD_SIZE: 64\n",
      "  LIBM: libopenlibm\n",
      "  LLVM: libLLVM-13.0.1 (ORCJIT, skylake)\n",
      "  Threads: 1 on 4 virtual cores\n"
     ]
    }
   ],
   "source": [
    "versioninfo()"
   ]
  },
  {
   "cell_type": "code",
   "execution_count": 11,
   "id": "9e88a580-76ed-4884-8668-7b2b2821a88e",
   "metadata": {},
   "outputs": [
    {
     "data": {
      "text/plain": [
       "RObject{VecSxp}\n",
       "R version 4.2.1 (2022-06-23 ucrt)\n",
       "Platform: x86_64-w64-mingw32/x64 (64-bit)\n",
       "Running under: Windows 10 x64 (build 19044)\n",
       "\n",
       "Matrix products: default\n",
       "\n",
       "locale:\n",
       "[1] LC_COLLATE=English_United States.1252 \n",
       "[2] LC_CTYPE=English_United States.1252   \n",
       "[3] LC_MONETARY=English_United States.1252\n",
       "[4] LC_NUMERIC=C                          \n",
       "[5] LC_TIME=English_United States.1252    \n",
       "\n",
       "attached base packages:\n",
       "[1] stats     graphics  grDevices utils     datasets  methods   base     \n",
       "\n",
       "loaded via a namespace (and not attached):\n",
       "[1] compiler_4.2.1\n"
      ]
     },
     "execution_count": 11,
     "metadata": {},
     "output_type": "execute_result"
    }
   ],
   "source": [
    "R\"\"\"\n",
    "sessionInfo()\n",
    "\"\"\""
   ]
  },
  {
   "cell_type": "code",
   "execution_count": null,
   "id": "ab70ffb1-69ab-43f5-b1f0-ce55a58c8726",
   "metadata": {},
   "outputs": [],
   "source": []
  }
 ],
 "metadata": {
  "jupytext": {
   "formats": "ipynb,jl:light"
  },
  "kernelspec": {
   "display_name": "Julia 1.8.5",
   "language": "julia",
   "name": "julia-1.8"
  },
  "language_info": {
   "file_extension": ".jl",
   "mimetype": "application/julia",
   "name": "julia",
   "version": "1.8.5"
  }
 },
 "nbformat": 4,
 "nbformat_minor": 5
}
